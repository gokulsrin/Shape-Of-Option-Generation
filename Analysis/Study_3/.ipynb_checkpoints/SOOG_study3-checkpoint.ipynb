{
 "cells": [
  {
   "cell_type": "code",
   "execution_count": 23,
   "metadata": {
    "id": "RW_N3cMkyGem"
   },
   "outputs": [],
   "source": [
    "import pandas as pd \n",
    "import numpy as np \n",
    "import re\n",
    "from tqdm import tqdm "
   ]
  },
  {
   "cell_type": "code",
   "execution_count": 2,
   "metadata": {
    "id": "evxq5mYA958q"
   },
   "outputs": [
    {
     "name": "stderr",
     "output_type": "stream",
     "text": [
      "/dartfs/rc/nosnapshots/V/VaickusL-nb/EDIT_Students/users/Gokul_Srinivasan/anaconda3/envs/option-generation/lib/python3.7/site-packages/tqdm/auto.py:22: TqdmWarning: IProgress not found. Please update jupyter and ipywidgets. See https://ipywidgets.readthedocs.io/en/stable/user_install.html\n",
      "  from .autonotebook import tqdm as notebook_tqdm\n"
     ]
    }
   ],
   "source": [
    "import torch\n",
    "import transformers\n",
    "from transformers import BertForSequenceClassification, XLMRobertaForSequenceClassification, AdamW, BertConfig, BertTokenizer, XLMRobertaTokenizer\n",
    "from torch.utils.data import TensorDataset, DataLoader\n",
    "import numpy as np\n",
    "import re\n",
    "from bs4 import BeautifulSoup"
   ]
  },
  {
   "cell_type": "code",
   "execution_count": 3,
   "metadata": {
    "id": "LQngU_nG-ERC"
   },
   "outputs": [],
   "source": [
    "device = torch.device(\"cuda:3\" if torch.cuda.is_available() else \"cpu\")"
   ]
  },
  {
   "cell_type": "code",
   "execution_count": 4,
   "metadata": {
    "id": "a6d3_pCj-GIJ"
   },
   "outputs": [
    {
     "name": "stderr",
     "output_type": "stream",
     "text": [
      "Some weights of the model checkpoint at bert-base-uncased were not used when initializing BertForSequenceClassification: ['cls.seq_relationship.weight', 'cls.predictions.bias', 'cls.predictions.transform.LayerNorm.bias', 'cls.predictions.transform.dense.weight', 'cls.predictions.transform.dense.bias', 'cls.seq_relationship.bias', 'cls.predictions.decoder.weight', 'cls.predictions.transform.LayerNorm.weight']\n",
      "- This IS expected if you are initializing BertForSequenceClassification from the checkpoint of a model trained on another task or with another architecture (e.g. initializing a BertForSequenceClassification model from a BertForPreTraining model).\n",
      "- This IS NOT expected if you are initializing BertForSequenceClassification from the checkpoint of a model that you expect to be exactly identical (initializing a BertForSequenceClassification model from a BertForSequenceClassification model).\n",
      "Some weights of BertForSequenceClassification were not initialized from the model checkpoint at bert-base-uncased and are newly initialized: ['classifier.weight', 'classifier.bias']\n",
      "You should probably TRAIN this model on a down-stream task to be able to use it for predictions and inference.\n"
     ]
    },
    {
     "data": {
      "text/plain": [
       "BertForSequenceClassification(\n",
       "  (bert): BertModel(\n",
       "    (embeddings): BertEmbeddings(\n",
       "      (word_embeddings): Embedding(30522, 768, padding_idx=0)\n",
       "      (position_embeddings): Embedding(512, 768)\n",
       "      (token_type_embeddings): Embedding(2, 768)\n",
       "      (LayerNorm): LayerNorm((768,), eps=1e-12, elementwise_affine=True)\n",
       "      (dropout): Dropout(p=0.1, inplace=False)\n",
       "    )\n",
       "    (encoder): BertEncoder(\n",
       "      (layer): ModuleList(\n",
       "        (0): BertLayer(\n",
       "          (attention): BertAttention(\n",
       "            (self): BertSelfAttention(\n",
       "              (query): Linear(in_features=768, out_features=768, bias=True)\n",
       "              (key): Linear(in_features=768, out_features=768, bias=True)\n",
       "              (value): Linear(in_features=768, out_features=768, bias=True)\n",
       "              (dropout): Dropout(p=0.1, inplace=False)\n",
       "            )\n",
       "            (output): BertSelfOutput(\n",
       "              (dense): Linear(in_features=768, out_features=768, bias=True)\n",
       "              (LayerNorm): LayerNorm((768,), eps=1e-12, elementwise_affine=True)\n",
       "              (dropout): Dropout(p=0.1, inplace=False)\n",
       "            )\n",
       "          )\n",
       "          (intermediate): BertIntermediate(\n",
       "            (dense): Linear(in_features=768, out_features=3072, bias=True)\n",
       "            (intermediate_act_fn): GELUActivation()\n",
       "          )\n",
       "          (output): BertOutput(\n",
       "            (dense): Linear(in_features=3072, out_features=768, bias=True)\n",
       "            (LayerNorm): LayerNorm((768,), eps=1e-12, elementwise_affine=True)\n",
       "            (dropout): Dropout(p=0.1, inplace=False)\n",
       "          )\n",
       "        )\n",
       "        (1): BertLayer(\n",
       "          (attention): BertAttention(\n",
       "            (self): BertSelfAttention(\n",
       "              (query): Linear(in_features=768, out_features=768, bias=True)\n",
       "              (key): Linear(in_features=768, out_features=768, bias=True)\n",
       "              (value): Linear(in_features=768, out_features=768, bias=True)\n",
       "              (dropout): Dropout(p=0.1, inplace=False)\n",
       "            )\n",
       "            (output): BertSelfOutput(\n",
       "              (dense): Linear(in_features=768, out_features=768, bias=True)\n",
       "              (LayerNorm): LayerNorm((768,), eps=1e-12, elementwise_affine=True)\n",
       "              (dropout): Dropout(p=0.1, inplace=False)\n",
       "            )\n",
       "          )\n",
       "          (intermediate): BertIntermediate(\n",
       "            (dense): Linear(in_features=768, out_features=3072, bias=True)\n",
       "            (intermediate_act_fn): GELUActivation()\n",
       "          )\n",
       "          (output): BertOutput(\n",
       "            (dense): Linear(in_features=3072, out_features=768, bias=True)\n",
       "            (LayerNorm): LayerNorm((768,), eps=1e-12, elementwise_affine=True)\n",
       "            (dropout): Dropout(p=0.1, inplace=False)\n",
       "          )\n",
       "        )\n",
       "        (2): BertLayer(\n",
       "          (attention): BertAttention(\n",
       "            (self): BertSelfAttention(\n",
       "              (query): Linear(in_features=768, out_features=768, bias=True)\n",
       "              (key): Linear(in_features=768, out_features=768, bias=True)\n",
       "              (value): Linear(in_features=768, out_features=768, bias=True)\n",
       "              (dropout): Dropout(p=0.1, inplace=False)\n",
       "            )\n",
       "            (output): BertSelfOutput(\n",
       "              (dense): Linear(in_features=768, out_features=768, bias=True)\n",
       "              (LayerNorm): LayerNorm((768,), eps=1e-12, elementwise_affine=True)\n",
       "              (dropout): Dropout(p=0.1, inplace=False)\n",
       "            )\n",
       "          )\n",
       "          (intermediate): BertIntermediate(\n",
       "            (dense): Linear(in_features=768, out_features=3072, bias=True)\n",
       "            (intermediate_act_fn): GELUActivation()\n",
       "          )\n",
       "          (output): BertOutput(\n",
       "            (dense): Linear(in_features=3072, out_features=768, bias=True)\n",
       "            (LayerNorm): LayerNorm((768,), eps=1e-12, elementwise_affine=True)\n",
       "            (dropout): Dropout(p=0.1, inplace=False)\n",
       "          )\n",
       "        )\n",
       "        (3): BertLayer(\n",
       "          (attention): BertAttention(\n",
       "            (self): BertSelfAttention(\n",
       "              (query): Linear(in_features=768, out_features=768, bias=True)\n",
       "              (key): Linear(in_features=768, out_features=768, bias=True)\n",
       "              (value): Linear(in_features=768, out_features=768, bias=True)\n",
       "              (dropout): Dropout(p=0.1, inplace=False)\n",
       "            )\n",
       "            (output): BertSelfOutput(\n",
       "              (dense): Linear(in_features=768, out_features=768, bias=True)\n",
       "              (LayerNorm): LayerNorm((768,), eps=1e-12, elementwise_affine=True)\n",
       "              (dropout): Dropout(p=0.1, inplace=False)\n",
       "            )\n",
       "          )\n",
       "          (intermediate): BertIntermediate(\n",
       "            (dense): Linear(in_features=768, out_features=3072, bias=True)\n",
       "            (intermediate_act_fn): GELUActivation()\n",
       "          )\n",
       "          (output): BertOutput(\n",
       "            (dense): Linear(in_features=3072, out_features=768, bias=True)\n",
       "            (LayerNorm): LayerNorm((768,), eps=1e-12, elementwise_affine=True)\n",
       "            (dropout): Dropout(p=0.1, inplace=False)\n",
       "          )\n",
       "        )\n",
       "        (4): BertLayer(\n",
       "          (attention): BertAttention(\n",
       "            (self): BertSelfAttention(\n",
       "              (query): Linear(in_features=768, out_features=768, bias=True)\n",
       "              (key): Linear(in_features=768, out_features=768, bias=True)\n",
       "              (value): Linear(in_features=768, out_features=768, bias=True)\n",
       "              (dropout): Dropout(p=0.1, inplace=False)\n",
       "            )\n",
       "            (output): BertSelfOutput(\n",
       "              (dense): Linear(in_features=768, out_features=768, bias=True)\n",
       "              (LayerNorm): LayerNorm((768,), eps=1e-12, elementwise_affine=True)\n",
       "              (dropout): Dropout(p=0.1, inplace=False)\n",
       "            )\n",
       "          )\n",
       "          (intermediate): BertIntermediate(\n",
       "            (dense): Linear(in_features=768, out_features=3072, bias=True)\n",
       "            (intermediate_act_fn): GELUActivation()\n",
       "          )\n",
       "          (output): BertOutput(\n",
       "            (dense): Linear(in_features=3072, out_features=768, bias=True)\n",
       "            (LayerNorm): LayerNorm((768,), eps=1e-12, elementwise_affine=True)\n",
       "            (dropout): Dropout(p=0.1, inplace=False)\n",
       "          )\n",
       "        )\n",
       "        (5): BertLayer(\n",
       "          (attention): BertAttention(\n",
       "            (self): BertSelfAttention(\n",
       "              (query): Linear(in_features=768, out_features=768, bias=True)\n",
       "              (key): Linear(in_features=768, out_features=768, bias=True)\n",
       "              (value): Linear(in_features=768, out_features=768, bias=True)\n",
       "              (dropout): Dropout(p=0.1, inplace=False)\n",
       "            )\n",
       "            (output): BertSelfOutput(\n",
       "              (dense): Linear(in_features=768, out_features=768, bias=True)\n",
       "              (LayerNorm): LayerNorm((768,), eps=1e-12, elementwise_affine=True)\n",
       "              (dropout): Dropout(p=0.1, inplace=False)\n",
       "            )\n",
       "          )\n",
       "          (intermediate): BertIntermediate(\n",
       "            (dense): Linear(in_features=768, out_features=3072, bias=True)\n",
       "            (intermediate_act_fn): GELUActivation()\n",
       "          )\n",
       "          (output): BertOutput(\n",
       "            (dense): Linear(in_features=3072, out_features=768, bias=True)\n",
       "            (LayerNorm): LayerNorm((768,), eps=1e-12, elementwise_affine=True)\n",
       "            (dropout): Dropout(p=0.1, inplace=False)\n",
       "          )\n",
       "        )\n",
       "        (6): BertLayer(\n",
       "          (attention): BertAttention(\n",
       "            (self): BertSelfAttention(\n",
       "              (query): Linear(in_features=768, out_features=768, bias=True)\n",
       "              (key): Linear(in_features=768, out_features=768, bias=True)\n",
       "              (value): Linear(in_features=768, out_features=768, bias=True)\n",
       "              (dropout): Dropout(p=0.1, inplace=False)\n",
       "            )\n",
       "            (output): BertSelfOutput(\n",
       "              (dense): Linear(in_features=768, out_features=768, bias=True)\n",
       "              (LayerNorm): LayerNorm((768,), eps=1e-12, elementwise_affine=True)\n",
       "              (dropout): Dropout(p=0.1, inplace=False)\n",
       "            )\n",
       "          )\n",
       "          (intermediate): BertIntermediate(\n",
       "            (dense): Linear(in_features=768, out_features=3072, bias=True)\n",
       "            (intermediate_act_fn): GELUActivation()\n",
       "          )\n",
       "          (output): BertOutput(\n",
       "            (dense): Linear(in_features=3072, out_features=768, bias=True)\n",
       "            (LayerNorm): LayerNorm((768,), eps=1e-12, elementwise_affine=True)\n",
       "            (dropout): Dropout(p=0.1, inplace=False)\n",
       "          )\n",
       "        )\n",
       "        (7): BertLayer(\n",
       "          (attention): BertAttention(\n",
       "            (self): BertSelfAttention(\n",
       "              (query): Linear(in_features=768, out_features=768, bias=True)\n",
       "              (key): Linear(in_features=768, out_features=768, bias=True)\n",
       "              (value): Linear(in_features=768, out_features=768, bias=True)\n",
       "              (dropout): Dropout(p=0.1, inplace=False)\n",
       "            )\n",
       "            (output): BertSelfOutput(\n",
       "              (dense): Linear(in_features=768, out_features=768, bias=True)\n",
       "              (LayerNorm): LayerNorm((768,), eps=1e-12, elementwise_affine=True)\n",
       "              (dropout): Dropout(p=0.1, inplace=False)\n",
       "            )\n",
       "          )\n",
       "          (intermediate): BertIntermediate(\n",
       "            (dense): Linear(in_features=768, out_features=3072, bias=True)\n",
       "            (intermediate_act_fn): GELUActivation()\n",
       "          )\n",
       "          (output): BertOutput(\n",
       "            (dense): Linear(in_features=3072, out_features=768, bias=True)\n",
       "            (LayerNorm): LayerNorm((768,), eps=1e-12, elementwise_affine=True)\n",
       "            (dropout): Dropout(p=0.1, inplace=False)\n",
       "          )\n",
       "        )\n",
       "        (8): BertLayer(\n",
       "          (attention): BertAttention(\n",
       "            (self): BertSelfAttention(\n",
       "              (query): Linear(in_features=768, out_features=768, bias=True)\n",
       "              (key): Linear(in_features=768, out_features=768, bias=True)\n",
       "              (value): Linear(in_features=768, out_features=768, bias=True)\n",
       "              (dropout): Dropout(p=0.1, inplace=False)\n",
       "            )\n",
       "            (output): BertSelfOutput(\n",
       "              (dense): Linear(in_features=768, out_features=768, bias=True)\n",
       "              (LayerNorm): LayerNorm((768,), eps=1e-12, elementwise_affine=True)\n",
       "              (dropout): Dropout(p=0.1, inplace=False)\n",
       "            )\n",
       "          )\n",
       "          (intermediate): BertIntermediate(\n",
       "            (dense): Linear(in_features=768, out_features=3072, bias=True)\n",
       "            (intermediate_act_fn): GELUActivation()\n",
       "          )\n",
       "          (output): BertOutput(\n",
       "            (dense): Linear(in_features=3072, out_features=768, bias=True)\n",
       "            (LayerNorm): LayerNorm((768,), eps=1e-12, elementwise_affine=True)\n",
       "            (dropout): Dropout(p=0.1, inplace=False)\n",
       "          )\n",
       "        )\n",
       "        (9): BertLayer(\n",
       "          (attention): BertAttention(\n",
       "            (self): BertSelfAttention(\n",
       "              (query): Linear(in_features=768, out_features=768, bias=True)\n",
       "              (key): Linear(in_features=768, out_features=768, bias=True)\n",
       "              (value): Linear(in_features=768, out_features=768, bias=True)\n",
       "              (dropout): Dropout(p=0.1, inplace=False)\n",
       "            )\n",
       "            (output): BertSelfOutput(\n",
       "              (dense): Linear(in_features=768, out_features=768, bias=True)\n",
       "              (LayerNorm): LayerNorm((768,), eps=1e-12, elementwise_affine=True)\n",
       "              (dropout): Dropout(p=0.1, inplace=False)\n",
       "            )\n",
       "          )\n",
       "          (intermediate): BertIntermediate(\n",
       "            (dense): Linear(in_features=768, out_features=3072, bias=True)\n",
       "            (intermediate_act_fn): GELUActivation()\n",
       "          )\n",
       "          (output): BertOutput(\n",
       "            (dense): Linear(in_features=3072, out_features=768, bias=True)\n",
       "            (LayerNorm): LayerNorm((768,), eps=1e-12, elementwise_affine=True)\n",
       "            (dropout): Dropout(p=0.1, inplace=False)\n",
       "          )\n",
       "        )\n",
       "        (10): BertLayer(\n",
       "          (attention): BertAttention(\n",
       "            (self): BertSelfAttention(\n",
       "              (query): Linear(in_features=768, out_features=768, bias=True)\n",
       "              (key): Linear(in_features=768, out_features=768, bias=True)\n",
       "              (value): Linear(in_features=768, out_features=768, bias=True)\n",
       "              (dropout): Dropout(p=0.1, inplace=False)\n",
       "            )\n",
       "            (output): BertSelfOutput(\n",
       "              (dense): Linear(in_features=768, out_features=768, bias=True)\n",
       "              (LayerNorm): LayerNorm((768,), eps=1e-12, elementwise_affine=True)\n",
       "              (dropout): Dropout(p=0.1, inplace=False)\n",
       "            )\n",
       "          )\n",
       "          (intermediate): BertIntermediate(\n",
       "            (dense): Linear(in_features=768, out_features=3072, bias=True)\n",
       "            (intermediate_act_fn): GELUActivation()\n",
       "          )\n",
       "          (output): BertOutput(\n",
       "            (dense): Linear(in_features=3072, out_features=768, bias=True)\n",
       "            (LayerNorm): LayerNorm((768,), eps=1e-12, elementwise_affine=True)\n",
       "            (dropout): Dropout(p=0.1, inplace=False)\n",
       "          )\n",
       "        )\n",
       "        (11): BertLayer(\n",
       "          (attention): BertAttention(\n",
       "            (self): BertSelfAttention(\n",
       "              (query): Linear(in_features=768, out_features=768, bias=True)\n",
       "              (key): Linear(in_features=768, out_features=768, bias=True)\n",
       "              (value): Linear(in_features=768, out_features=768, bias=True)\n",
       "              (dropout): Dropout(p=0.1, inplace=False)\n",
       "            )\n",
       "            (output): BertSelfOutput(\n",
       "              (dense): Linear(in_features=768, out_features=768, bias=True)\n",
       "              (LayerNorm): LayerNorm((768,), eps=1e-12, elementwise_affine=True)\n",
       "              (dropout): Dropout(p=0.1, inplace=False)\n",
       "            )\n",
       "          )\n",
       "          (intermediate): BertIntermediate(\n",
       "            (dense): Linear(in_features=768, out_features=3072, bias=True)\n",
       "            (intermediate_act_fn): GELUActivation()\n",
       "          )\n",
       "          (output): BertOutput(\n",
       "            (dense): Linear(in_features=3072, out_features=768, bias=True)\n",
       "            (LayerNorm): LayerNorm((768,), eps=1e-12, elementwise_affine=True)\n",
       "            (dropout): Dropout(p=0.1, inplace=False)\n",
       "          )\n",
       "        )\n",
       "      )\n",
       "    )\n",
       "    (pooler): BertPooler(\n",
       "      (dense): Linear(in_features=768, out_features=768, bias=True)\n",
       "      (activation): Tanh()\n",
       "    )\n",
       "  )\n",
       "  (dropout): Dropout(p=0.1, inplace=False)\n",
       "  (classifier): Linear(in_features=768, out_features=2, bias=True)\n",
       ")"
      ]
     },
     "execution_count": 4,
     "metadata": {},
     "output_type": "execute_result"
    }
   ],
   "source": [
    "'''\n",
    "Construct object in BERT sentiment classifier class\n",
    "'''\n",
    "sentiment_model = BertForSequenceClassification.from_pretrained(\n",
    "    \"bert-base-uncased\", # Use the 12-layer BERT model, with an uncased vocab.\n",
    "    num_labels = 2, # The number of output labels--2 for binary classification.\n",
    "                    # You can increase this for multi-class tasks.   \n",
    "    output_attentions = False, # Whether the model returns attention weights.\n",
    "    output_hidden_states = False # Whether the model returns all hidden states.\n",
    ")\n",
    "\n",
    "sentiment_model.to(device) # Puts model on GPU"
   ]
  },
  {
   "cell_type": "code",
   "execution_count": 5,
   "metadata": {
    "id": "aymhFFrL-Wv5"
   },
   "outputs": [
    {
     "data": {
      "text/plain": [
       "_IncompatibleKeys(missing_keys=['bert.embeddings.position_ids'], unexpected_keys=[])"
      ]
     },
     "execution_count": 5,
     "metadata": {},
     "output_type": "execute_result"
    }
   ],
   "source": [
    "'''\n",
    "Load pretrained sentiment model parameters\n",
    "'''\n",
    "sentiment_model.load_state_dict(torch.load(\"/dartfs/rc/nosnapshots/V/VaickusL-nb/EDIT_Students/users/Gokul_Srinivasan/Testing/OptionGeneration/Model/English_sentiment_model.pt\", map_location=device), strict=False)\n"
   ]
  },
  {
   "cell_type": "code",
   "execution_count": 6,
   "metadata": {
    "id": "6kG2MTt4-z37"
   },
   "outputs": [
    {
     "data": {
      "text/plain": [
       "BertForSequenceClassification(\n",
       "  (bert): BertModel(\n",
       "    (embeddings): BertEmbeddings(\n",
       "      (word_embeddings): Embedding(30522, 768, padding_idx=0)\n",
       "      (position_embeddings): Embedding(512, 768)\n",
       "      (token_type_embeddings): Embedding(2, 768)\n",
       "      (LayerNorm): LayerNorm((768,), eps=1e-12, elementwise_affine=True)\n",
       "      (dropout): Dropout(p=0.1, inplace=False)\n",
       "    )\n",
       "    (encoder): BertEncoder(\n",
       "      (layer): ModuleList(\n",
       "        (0): BertLayer(\n",
       "          (attention): BertAttention(\n",
       "            (self): BertSelfAttention(\n",
       "              (query): Linear(in_features=768, out_features=768, bias=True)\n",
       "              (key): Linear(in_features=768, out_features=768, bias=True)\n",
       "              (value): Linear(in_features=768, out_features=768, bias=True)\n",
       "              (dropout): Dropout(p=0.1, inplace=False)\n",
       "            )\n",
       "            (output): BertSelfOutput(\n",
       "              (dense): Linear(in_features=768, out_features=768, bias=True)\n",
       "              (LayerNorm): LayerNorm((768,), eps=1e-12, elementwise_affine=True)\n",
       "              (dropout): Dropout(p=0.1, inplace=False)\n",
       "            )\n",
       "          )\n",
       "          (intermediate): BertIntermediate(\n",
       "            (dense): Linear(in_features=768, out_features=3072, bias=True)\n",
       "            (intermediate_act_fn): GELUActivation()\n",
       "          )\n",
       "          (output): BertOutput(\n",
       "            (dense): Linear(in_features=3072, out_features=768, bias=True)\n",
       "            (LayerNorm): LayerNorm((768,), eps=1e-12, elementwise_affine=True)\n",
       "            (dropout): Dropout(p=0.1, inplace=False)\n",
       "          )\n",
       "        )\n",
       "        (1): BertLayer(\n",
       "          (attention): BertAttention(\n",
       "            (self): BertSelfAttention(\n",
       "              (query): Linear(in_features=768, out_features=768, bias=True)\n",
       "              (key): Linear(in_features=768, out_features=768, bias=True)\n",
       "              (value): Linear(in_features=768, out_features=768, bias=True)\n",
       "              (dropout): Dropout(p=0.1, inplace=False)\n",
       "            )\n",
       "            (output): BertSelfOutput(\n",
       "              (dense): Linear(in_features=768, out_features=768, bias=True)\n",
       "              (LayerNorm): LayerNorm((768,), eps=1e-12, elementwise_affine=True)\n",
       "              (dropout): Dropout(p=0.1, inplace=False)\n",
       "            )\n",
       "          )\n",
       "          (intermediate): BertIntermediate(\n",
       "            (dense): Linear(in_features=768, out_features=3072, bias=True)\n",
       "            (intermediate_act_fn): GELUActivation()\n",
       "          )\n",
       "          (output): BertOutput(\n",
       "            (dense): Linear(in_features=3072, out_features=768, bias=True)\n",
       "            (LayerNorm): LayerNorm((768,), eps=1e-12, elementwise_affine=True)\n",
       "            (dropout): Dropout(p=0.1, inplace=False)\n",
       "          )\n",
       "        )\n",
       "        (2): BertLayer(\n",
       "          (attention): BertAttention(\n",
       "            (self): BertSelfAttention(\n",
       "              (query): Linear(in_features=768, out_features=768, bias=True)\n",
       "              (key): Linear(in_features=768, out_features=768, bias=True)\n",
       "              (value): Linear(in_features=768, out_features=768, bias=True)\n",
       "              (dropout): Dropout(p=0.1, inplace=False)\n",
       "            )\n",
       "            (output): BertSelfOutput(\n",
       "              (dense): Linear(in_features=768, out_features=768, bias=True)\n",
       "              (LayerNorm): LayerNorm((768,), eps=1e-12, elementwise_affine=True)\n",
       "              (dropout): Dropout(p=0.1, inplace=False)\n",
       "            )\n",
       "          )\n",
       "          (intermediate): BertIntermediate(\n",
       "            (dense): Linear(in_features=768, out_features=3072, bias=True)\n",
       "            (intermediate_act_fn): GELUActivation()\n",
       "          )\n",
       "          (output): BertOutput(\n",
       "            (dense): Linear(in_features=3072, out_features=768, bias=True)\n",
       "            (LayerNorm): LayerNorm((768,), eps=1e-12, elementwise_affine=True)\n",
       "            (dropout): Dropout(p=0.1, inplace=False)\n",
       "          )\n",
       "        )\n",
       "        (3): BertLayer(\n",
       "          (attention): BertAttention(\n",
       "            (self): BertSelfAttention(\n",
       "              (query): Linear(in_features=768, out_features=768, bias=True)\n",
       "              (key): Linear(in_features=768, out_features=768, bias=True)\n",
       "              (value): Linear(in_features=768, out_features=768, bias=True)\n",
       "              (dropout): Dropout(p=0.1, inplace=False)\n",
       "            )\n",
       "            (output): BertSelfOutput(\n",
       "              (dense): Linear(in_features=768, out_features=768, bias=True)\n",
       "              (LayerNorm): LayerNorm((768,), eps=1e-12, elementwise_affine=True)\n",
       "              (dropout): Dropout(p=0.1, inplace=False)\n",
       "            )\n",
       "          )\n",
       "          (intermediate): BertIntermediate(\n",
       "            (dense): Linear(in_features=768, out_features=3072, bias=True)\n",
       "            (intermediate_act_fn): GELUActivation()\n",
       "          )\n",
       "          (output): BertOutput(\n",
       "            (dense): Linear(in_features=3072, out_features=768, bias=True)\n",
       "            (LayerNorm): LayerNorm((768,), eps=1e-12, elementwise_affine=True)\n",
       "            (dropout): Dropout(p=0.1, inplace=False)\n",
       "          )\n",
       "        )\n",
       "        (4): BertLayer(\n",
       "          (attention): BertAttention(\n",
       "            (self): BertSelfAttention(\n",
       "              (query): Linear(in_features=768, out_features=768, bias=True)\n",
       "              (key): Linear(in_features=768, out_features=768, bias=True)\n",
       "              (value): Linear(in_features=768, out_features=768, bias=True)\n",
       "              (dropout): Dropout(p=0.1, inplace=False)\n",
       "            )\n",
       "            (output): BertSelfOutput(\n",
       "              (dense): Linear(in_features=768, out_features=768, bias=True)\n",
       "              (LayerNorm): LayerNorm((768,), eps=1e-12, elementwise_affine=True)\n",
       "              (dropout): Dropout(p=0.1, inplace=False)\n",
       "            )\n",
       "          )\n",
       "          (intermediate): BertIntermediate(\n",
       "            (dense): Linear(in_features=768, out_features=3072, bias=True)\n",
       "            (intermediate_act_fn): GELUActivation()\n",
       "          )\n",
       "          (output): BertOutput(\n",
       "            (dense): Linear(in_features=3072, out_features=768, bias=True)\n",
       "            (LayerNorm): LayerNorm((768,), eps=1e-12, elementwise_affine=True)\n",
       "            (dropout): Dropout(p=0.1, inplace=False)\n",
       "          )\n",
       "        )\n",
       "        (5): BertLayer(\n",
       "          (attention): BertAttention(\n",
       "            (self): BertSelfAttention(\n",
       "              (query): Linear(in_features=768, out_features=768, bias=True)\n",
       "              (key): Linear(in_features=768, out_features=768, bias=True)\n",
       "              (value): Linear(in_features=768, out_features=768, bias=True)\n",
       "              (dropout): Dropout(p=0.1, inplace=False)\n",
       "            )\n",
       "            (output): BertSelfOutput(\n",
       "              (dense): Linear(in_features=768, out_features=768, bias=True)\n",
       "              (LayerNorm): LayerNorm((768,), eps=1e-12, elementwise_affine=True)\n",
       "              (dropout): Dropout(p=0.1, inplace=False)\n",
       "            )\n",
       "          )\n",
       "          (intermediate): BertIntermediate(\n",
       "            (dense): Linear(in_features=768, out_features=3072, bias=True)\n",
       "            (intermediate_act_fn): GELUActivation()\n",
       "          )\n",
       "          (output): BertOutput(\n",
       "            (dense): Linear(in_features=3072, out_features=768, bias=True)\n",
       "            (LayerNorm): LayerNorm((768,), eps=1e-12, elementwise_affine=True)\n",
       "            (dropout): Dropout(p=0.1, inplace=False)\n",
       "          )\n",
       "        )\n",
       "        (6): BertLayer(\n",
       "          (attention): BertAttention(\n",
       "            (self): BertSelfAttention(\n",
       "              (query): Linear(in_features=768, out_features=768, bias=True)\n",
       "              (key): Linear(in_features=768, out_features=768, bias=True)\n",
       "              (value): Linear(in_features=768, out_features=768, bias=True)\n",
       "              (dropout): Dropout(p=0.1, inplace=False)\n",
       "            )\n",
       "            (output): BertSelfOutput(\n",
       "              (dense): Linear(in_features=768, out_features=768, bias=True)\n",
       "              (LayerNorm): LayerNorm((768,), eps=1e-12, elementwise_affine=True)\n",
       "              (dropout): Dropout(p=0.1, inplace=False)\n",
       "            )\n",
       "          )\n",
       "          (intermediate): BertIntermediate(\n",
       "            (dense): Linear(in_features=768, out_features=3072, bias=True)\n",
       "            (intermediate_act_fn): GELUActivation()\n",
       "          )\n",
       "          (output): BertOutput(\n",
       "            (dense): Linear(in_features=3072, out_features=768, bias=True)\n",
       "            (LayerNorm): LayerNorm((768,), eps=1e-12, elementwise_affine=True)\n",
       "            (dropout): Dropout(p=0.1, inplace=False)\n",
       "          )\n",
       "        )\n",
       "        (7): BertLayer(\n",
       "          (attention): BertAttention(\n",
       "            (self): BertSelfAttention(\n",
       "              (query): Linear(in_features=768, out_features=768, bias=True)\n",
       "              (key): Linear(in_features=768, out_features=768, bias=True)\n",
       "              (value): Linear(in_features=768, out_features=768, bias=True)\n",
       "              (dropout): Dropout(p=0.1, inplace=False)\n",
       "            )\n",
       "            (output): BertSelfOutput(\n",
       "              (dense): Linear(in_features=768, out_features=768, bias=True)\n",
       "              (LayerNorm): LayerNorm((768,), eps=1e-12, elementwise_affine=True)\n",
       "              (dropout): Dropout(p=0.1, inplace=False)\n",
       "            )\n",
       "          )\n",
       "          (intermediate): BertIntermediate(\n",
       "            (dense): Linear(in_features=768, out_features=3072, bias=True)\n",
       "            (intermediate_act_fn): GELUActivation()\n",
       "          )\n",
       "          (output): BertOutput(\n",
       "            (dense): Linear(in_features=3072, out_features=768, bias=True)\n",
       "            (LayerNorm): LayerNorm((768,), eps=1e-12, elementwise_affine=True)\n",
       "            (dropout): Dropout(p=0.1, inplace=False)\n",
       "          )\n",
       "        )\n",
       "        (8): BertLayer(\n",
       "          (attention): BertAttention(\n",
       "            (self): BertSelfAttention(\n",
       "              (query): Linear(in_features=768, out_features=768, bias=True)\n",
       "              (key): Linear(in_features=768, out_features=768, bias=True)\n",
       "              (value): Linear(in_features=768, out_features=768, bias=True)\n",
       "              (dropout): Dropout(p=0.1, inplace=False)\n",
       "            )\n",
       "            (output): BertSelfOutput(\n",
       "              (dense): Linear(in_features=768, out_features=768, bias=True)\n",
       "              (LayerNorm): LayerNorm((768,), eps=1e-12, elementwise_affine=True)\n",
       "              (dropout): Dropout(p=0.1, inplace=False)\n",
       "            )\n",
       "          )\n",
       "          (intermediate): BertIntermediate(\n",
       "            (dense): Linear(in_features=768, out_features=3072, bias=True)\n",
       "            (intermediate_act_fn): GELUActivation()\n",
       "          )\n",
       "          (output): BertOutput(\n",
       "            (dense): Linear(in_features=3072, out_features=768, bias=True)\n",
       "            (LayerNorm): LayerNorm((768,), eps=1e-12, elementwise_affine=True)\n",
       "            (dropout): Dropout(p=0.1, inplace=False)\n",
       "          )\n",
       "        )\n",
       "        (9): BertLayer(\n",
       "          (attention): BertAttention(\n",
       "            (self): BertSelfAttention(\n",
       "              (query): Linear(in_features=768, out_features=768, bias=True)\n",
       "              (key): Linear(in_features=768, out_features=768, bias=True)\n",
       "              (value): Linear(in_features=768, out_features=768, bias=True)\n",
       "              (dropout): Dropout(p=0.1, inplace=False)\n",
       "            )\n",
       "            (output): BertSelfOutput(\n",
       "              (dense): Linear(in_features=768, out_features=768, bias=True)\n",
       "              (LayerNorm): LayerNorm((768,), eps=1e-12, elementwise_affine=True)\n",
       "              (dropout): Dropout(p=0.1, inplace=False)\n",
       "            )\n",
       "          )\n",
       "          (intermediate): BertIntermediate(\n",
       "            (dense): Linear(in_features=768, out_features=3072, bias=True)\n",
       "            (intermediate_act_fn): GELUActivation()\n",
       "          )\n",
       "          (output): BertOutput(\n",
       "            (dense): Linear(in_features=3072, out_features=768, bias=True)\n",
       "            (LayerNorm): LayerNorm((768,), eps=1e-12, elementwise_affine=True)\n",
       "            (dropout): Dropout(p=0.1, inplace=False)\n",
       "          )\n",
       "        )\n",
       "        (10): BertLayer(\n",
       "          (attention): BertAttention(\n",
       "            (self): BertSelfAttention(\n",
       "              (query): Linear(in_features=768, out_features=768, bias=True)\n",
       "              (key): Linear(in_features=768, out_features=768, bias=True)\n",
       "              (value): Linear(in_features=768, out_features=768, bias=True)\n",
       "              (dropout): Dropout(p=0.1, inplace=False)\n",
       "            )\n",
       "            (output): BertSelfOutput(\n",
       "              (dense): Linear(in_features=768, out_features=768, bias=True)\n",
       "              (LayerNorm): LayerNorm((768,), eps=1e-12, elementwise_affine=True)\n",
       "              (dropout): Dropout(p=0.1, inplace=False)\n",
       "            )\n",
       "          )\n",
       "          (intermediate): BertIntermediate(\n",
       "            (dense): Linear(in_features=768, out_features=3072, bias=True)\n",
       "            (intermediate_act_fn): GELUActivation()\n",
       "          )\n",
       "          (output): BertOutput(\n",
       "            (dense): Linear(in_features=3072, out_features=768, bias=True)\n",
       "            (LayerNorm): LayerNorm((768,), eps=1e-12, elementwise_affine=True)\n",
       "            (dropout): Dropout(p=0.1, inplace=False)\n",
       "          )\n",
       "        )\n",
       "        (11): BertLayer(\n",
       "          (attention): BertAttention(\n",
       "            (self): BertSelfAttention(\n",
       "              (query): Linear(in_features=768, out_features=768, bias=True)\n",
       "              (key): Linear(in_features=768, out_features=768, bias=True)\n",
       "              (value): Linear(in_features=768, out_features=768, bias=True)\n",
       "              (dropout): Dropout(p=0.1, inplace=False)\n",
       "            )\n",
       "            (output): BertSelfOutput(\n",
       "              (dense): Linear(in_features=768, out_features=768, bias=True)\n",
       "              (LayerNorm): LayerNorm((768,), eps=1e-12, elementwise_affine=True)\n",
       "              (dropout): Dropout(p=0.1, inplace=False)\n",
       "            )\n",
       "          )\n",
       "          (intermediate): BertIntermediate(\n",
       "            (dense): Linear(in_features=768, out_features=3072, bias=True)\n",
       "            (intermediate_act_fn): GELUActivation()\n",
       "          )\n",
       "          (output): BertOutput(\n",
       "            (dense): Linear(in_features=3072, out_features=768, bias=True)\n",
       "            (LayerNorm): LayerNorm((768,), eps=1e-12, elementwise_affine=True)\n",
       "            (dropout): Dropout(p=0.1, inplace=False)\n",
       "          )\n",
       "        )\n",
       "      )\n",
       "    )\n",
       "    (pooler): BertPooler(\n",
       "      (dense): Linear(in_features=768, out_features=768, bias=True)\n",
       "      (activation): Tanh()\n",
       "    )\n",
       "  )\n",
       "  (dropout): Dropout(p=0.1, inplace=False)\n",
       "  (classifier): Linear(in_features=768, out_features=2, bias=True)\n",
       ")"
      ]
     },
     "execution_count": 6,
     "metadata": {},
     "output_type": "execute_result"
    }
   ],
   "source": [
    "sentiment_model.eval() # Put model in inference (as opposed to training) mode"
   ]
  },
  {
   "cell_type": "code",
   "execution_count": 7,
   "metadata": {
    "id": "f7gXH-HQ_JsW"
   },
   "outputs": [],
   "source": [
    "'''\n",
    "Load tokenizer for sentiment model\n",
    "'''\n",
    "sentiment_tokenizer = BertTokenizer.from_pretrained('bert-base-uncased', do_lower_case=True)"
   ]
  },
  {
   "cell_type": "code",
   "execution_count": 8,
   "metadata": {
    "id": "ySlU9vIR_5Nl"
   },
   "outputs": [],
   "source": [
    "# gets the text into the format we want\n",
    "def clean_tweet(tweet):\n",
    "  tweet = BeautifulSoup(tweet, \"lxml\").get_text() # turns xml-formatted text into regular text\n",
    "  tweet = re.sub(r\"@[A-Za-z0-9]+\", \" \", tweet) # gets rid of all user references in tweets (i.e. \"@username\")\n",
    "  tweet = re.sub(r\"https?://[A-Za-z0-9./]+\", \" \", tweet) # gets rid of URLs\n",
    "  tweet = re.sub(r\"[^A-Za-z.!?áéíóúüñ¿ÁÉÍÓÚÜÑ']\", \" \", tweet) # gets rid of any non-standard characters in the tweets\n",
    "  tweet = re.sub(r\" +\", \" \", tweet) # replaces all excess whitespace with a single space\n",
    "\n",
    "  return tweet # gives us our cleaned tweet"
   ]
  },
  {
   "cell_type": "code",
   "execution_count": 9,
   "metadata": {
    "id": "fgzAUDGQ_TDG"
   },
   "outputs": [],
   "source": [
    "def predict_sentiment(tweet):\n",
    "\n",
    "    '''\n",
    "    Predict the sentiment of an input text\n",
    "    '''\n",
    "    \n",
    "    tweet = clean_tweet(tweet)\n",
    "    tweet_input_id = []\n",
    "    tweet_attention_mask = []\n",
    "\n",
    "    tweet_dict = sentiment_tokenizer.encode_plus(\n",
    "                            tweet,                      # Sentence to encode.\n",
    "                            add_special_tokens = True, # Add '[CLS]' and '[SEP]'\n",
    "                            max_length = 64,           # Pad & truncate all sentences.\n",
    "                            truncation=True,           # Explicitly enable truncation\n",
    "                            padding = 'max_length',\n",
    "                            return_attention_mask = True,   # Construct attn. masks.\n",
    "                            return_tensors = 'pt',     # Return pytorch tensors.\n",
    "                       )\n",
    "\n",
    "    # Add the encoded sentence to the list.    \n",
    "    tweet_input_id.append(tweet_dict['input_ids'])\n",
    "\n",
    "    # And its attention mask (simply differentiates padding from non-padding).\n",
    "    tweet_attention_mask.append(tweet_dict['attention_mask'])\n",
    "\n",
    "    # Convert the lists into tensors.\n",
    "    tweet_input_id = torch.cat(tweet_input_id, dim=0)\n",
    "    tweet_attention_mask = torch.cat(tweet_attention_mask, dim=0)\n",
    "\n",
    "    tweet_data = TensorDataset(tweet_input_id, tweet_attention_mask)\n",
    "    \n",
    "    tweet_dataloader = DataLoader(tweet_data)\n",
    "    \n",
    "    for data in tweet_dataloader:\n",
    "        tweet_input_id = data[0].to(device=device)\n",
    "        tweet_attention_mask = data[1].to(device=device)\n",
    "    \n",
    "    tweet_logits = sentiment_model(tweet_input_id, token_type_ids=None, attention_mask=tweet_attention_mask)\n",
    "    \n",
    "    tweet_logits = tweet_logits[0].detach().cpu().numpy()\n",
    "\n",
    "    tweet_logits = torch.Tensor(tweet_logits)\n",
    "\n",
    "    softmax = torch.nn.Softmax(dim=1)\n",
    "    prob_dist = softmax(tweet_logits)\n",
    "\n",
    "    sentiment_pred = prob_dist.tolist()\n",
    "\n",
    "    sentiment_pred = sentiment_pred[0][1]\n",
    "\n",
    "    return sentiment_pred"
   ]
  },
  {
   "cell_type": "code",
   "execution_count": 15,
   "metadata": {
    "id": "jmnE21a6ptU1"
   },
   "outputs": [],
   "source": [
    "#Another version of semantic distance here \n",
    "from transformers import pipeline "
   ]
  },
  {
   "cell_type": "code",
   "execution_count": 16,
   "metadata": {
    "id": "yZC2VIejrOYc"
   },
   "outputs": [],
   "source": [
    "#sentence level embeddings \n",
    "from sentence_transformers import SentenceTransformer\n",
    "model = SentenceTransformer('sentence-transformers/paraphrase-MiniLM-L6-v2')\n",
    "#example use \n",
    "# sentences = [\"Hello World\", \"Hallo Welt\"]\n",
    "# embeddings = model.encode(sentences)\n",
    "# print(embeddings)"
   ]
  },
  {
   "cell_type": "code",
   "execution_count": 17,
   "metadata": {
    "id": "GQpQSkHPddnG"
   },
   "outputs": [],
   "source": [
    "generations = pd.read_csv('https://raw.githubusercontent.com/gokulsrin/PossibilityGeneration/main/TimeData/LDmodified.csv')"
   ]
  },
  {
   "cell_type": "code",
   "execution_count": 18,
   "metadata": {
    "id": "dO-bBym6X80d"
   },
   "outputs": [],
   "source": [
    "import math \n",
    "from scipy import spatial \n",
    "# def dist(r1, r2):\n",
    "#   r1 = np.array(r1)\n",
    "#   r2 = np.array(r2)\n",
    "#   return np.linalg.norm((r1 - r2), ord=2)\n",
    "def dist(r1, r2):\n",
    "  r1 = np.array(r1)\n",
    "  r2 = np.array(r2)\n",
    "  return spatial.distance.cosine(r1, r2)\n",
    "# def dist(r1, r2):\n",
    "#   r1 = np.array(r1)\n",
    "#   r2 = np.array(r2)\n",
    "#   return np.linalg.norm((r1 - r2), ord=1)"
   ]
  },
  {
   "cell_type": "markdown",
   "metadata": {
    "id": "O3d8PhjcxPpn"
   },
   "source": [
    "# **Total Semantic Exploration (adjusted) vs Average Sentiment**"
   ]
  },
  {
   "cell_type": "code",
   "execution_count": null,
   "metadata": {
    "id": "KL3sUaRjxVwJ"
   },
   "outputs": [],
   "source": [
    "#semantic exploration vs average sentiment\n",
    "exploration = {}\n",
    "individual_sentiment = {}\n",
    "for id, group in generations.groupby(\"id\"):\n",
    "  exploration[id] = 0\n",
    "  individual_sentiment[id] = []\n",
    "  len_responses = 0\n",
    "  for vign, group2 in group.groupby(\"vignette_name\"):\n",
    "    embeddings = []\n",
    "    for response, group3 in group2.groupby(\"response\"):\n",
    "      if not pd.isna(response):\n",
    "        embeddings.append(model.encode(response))\n",
    "        individual_sentiment[id].append(predict_sentiment(response))\n",
    "    len_responses += len(embeddings)\n",
    "    for i in range(len(embeddings)):\n",
    "      for j in range(i+1, len(embeddings)):\n",
    "        exploration[id] += dist(embeddings[i], embeddings[j])\n",
    "  exploration[id] /= len_responses"
   ]
  },
  {
   "cell_type": "code",
   "execution_count": null,
   "metadata": {
    "id": "bNMOPOTYHFxI"
   },
   "outputs": [],
   "source": [
    "#find average sentiment \n",
    "for id in individual_sentiment:\n",
    "  individual_sentiment[id] = sum(individual_sentiment[id])/len(individual_sentiment[id])"
   ]
  },
  {
   "cell_type": "code",
   "execution_count": null,
   "metadata": {
    "id": "QmrjQHKtyZQ6"
   },
   "outputs": [],
   "source": [
    "x = []\n",
    "y = []\n",
    "for id in exploration:\n",
    "  # if .7 < individual_sentiment[id] < .9:\n",
    "    x.append(individual_sentiment[id])\n",
    "    y.append(exploration[id])"
   ]
  },
  {
   "cell_type": "code",
   "execution_count": null,
   "metadata": {
    "id": "BmYLRpPxyQXW"
   },
   "outputs": [],
   "source": [
    "#display adjusted exploration vs average sentiment \n",
    "import seaborn as sns \n",
    "import scipy.stats as stats\n",
    "import matplotlib.pyplot as plt\n",
    "\n",
    "g = sns.jointplot(x=x, y=y, kind='reg', color='royalblue')\n",
    "# ax.annotate(stats.pearsonr)\n",
    "r, p = stats.pearsonr(x, y)\n",
    "g.ax_joint.annotate(f'$\\\\rho = {r:.3f}, p = {p:.3f}$',\n",
    "                    xy=(0.1, 0.9), xycoords='axes fraction',\n",
    "                    ha='left', va='center',\n",
    "                    bbox={'boxstyle': 'round', 'fc': 'powderblue', 'ec': 'navy'})\n",
    "g.ax_joint.scatter(x, y)\n",
    "g.set_axis_labels(xlabel='Average Sentiment', ylabel='Semantic Exploration', size=12)\n",
    "plt.tight_layout()\n",
    "plt.show()"
   ]
  },
  {
   "cell_type": "code",
   "execution_count": null,
   "metadata": {
    "id": "jvsnzTx7kUmt"
   },
   "outputs": [],
   "source": [
    "#try to combine the above two plots \n",
    "import plotnine\n",
    "from plotnine import ggplot, aes\n",
    "# package for plot scales\n",
    "from mizani.formatters import comma_format # (thousands seperator format)"
   ]
  },
  {
   "cell_type": "code",
   "execution_count": null,
   "metadata": {
    "id": "8pTvEvcilnpF"
   },
   "outputs": [],
   "source": [
    "d = pd.DataFrame(data=[x,y])\n",
    "d = d.T\n",
    "d.columns = [\"Average_Sentiment\", \"Semantic_Exploration\"]\n",
    "# d[(np.abs(stats.zscore(d)) < 3).all(axis=1)]\n",
    "\n",
    "scatter = ggplot(data=d, mapping=aes(x='Average_Sentiment', y='Semantic_Exploration'))\n",
    "# add layers\n",
    "(scatter + \n",
    " plotnine.geom_jitter(data=d, color=\"black\", alpha=0.3) +\n",
    " plotnine.geom_smooth(method=\"lm\",size=1.5) + \n",
    " plotnine.xlab(\"Average Sentiment\") +\n",
    " plotnine.ylab(\"Semantic Exploration\") + \n",
    " plotnine.coords.coord_cartesian(ylim=(2,3)) +\n",
    " plotnine.theme_classic()\n",
    ").draw()\n",
    "\n",
    "\n",
    "\n",
    "\n",
    "#this reduces this axis to bwtween 0 and 1 \n",
    "#  plotnine.scale_y_continuous(limits=(0, 1))\n"
   ]
  },
  {
   "cell_type": "code",
   "execution_count": null,
   "metadata": {
    "id": "RUAxlsX3jirY"
   },
   "outputs": [],
   "source": [
    "def average_embedding(embeddings):\n",
    "  df = pd.DataFrame(embeddings)\n",
    "  df = df.mean(axis=0)\n",
    "  return df.values.tolist()"
   ]
  },
  {
   "cell_type": "markdown",
   "metadata": {
    "id": "QZE6kgH21wcZ"
   },
   "source": [
    "# **Total Semantic Exploration vs Generation Number**"
   ]
  },
  {
   "cell_type": "code",
   "execution_count": null,
   "metadata": {
    "id": "IyueZ7Pl2BUW"
   },
   "outputs": [],
   "source": [
    "generations"
   ]
  },
  {
   "cell_type": "code",
   "execution_count": null,
   "metadata": {
    "id": "7SptxZ4GtCSG"
   },
   "outputs": [],
   "source": [
    "# Real semantic exploration \n",
    "#exploration and answers tally average\n",
    "exploration = {}\n",
    "answers = {}\n",
    "#exp and nums tally the individual explorations\n",
    "exp = []\n",
    "nums = []\n",
    "for id, group in generations.groupby(\"id\"):\n",
    "  for pnum, group2 in group.groupby(\"generation_number\"):\n",
    "    if pnum not in exploration: \n",
    "      exploration[pnum] = []\n",
    "      # answers[pnum] = 0\n",
    "    embeddings = []\n",
    "    for response, group3 in group2.groupby(\"response\"):\n",
    "      response = group3['response'].to_list()[0]\n",
    "      if not pd.isna(response):\n",
    "        embeddings.append(model.encode(response).tolist())\n",
    "    # answers[pnum] += len(embeddings)\n",
    "    e = 0\n",
    "    for i in range(len(embeddings)):\n",
    "      for j in range(i+1, len(embeddings)):\n",
    "        # exploration[pnum] = dist_fn(embeddings[i], embeddings[j]) + exploration.get(pnum)\n",
    "        e += dist(embeddings[i], embeddings[j])\n",
    "    exploration[pnum].append(e/len(embeddings))\n",
    "    exp.append(e/len(embeddings))\n",
    "    nums.append(pnum)\n",
    "\n",
    "x_avg = []\n",
    "y_avg = []\n",
    "for num in exploration:\n",
    "  x_avg.append(num)\n",
    "  y_avg.append(sum(exploration[num])/len(exploration[num]))"
   ]
  },
  {
   "cell_type": "code",
   "execution_count": null,
   "metadata": {
    "id": "_RexQKhx1ZeH"
   },
   "outputs": [],
   "source": [
    "#plotting for stats\n",
    "g = sns.jointplot(x=x_avg, y=y_avg, kind='reg', color='royalblue')\n",
    "# ax.annotate(stats.pearsonr)\n",
    "r, p = stats.pearsonr(x_avg, y_avg)\n",
    "g.ax_joint.annotate(f'$\\\\rho = {r:.3f}, p = {p:.3f}$',\n",
    "                    xy=(0.1, 0.9), xycoords='axes fraction',\n",
    "                    ha='left', va='center',\n",
    "                    bbox={'boxstyle': 'round', 'fc': 'powderblue', 'ec': 'navy'})\n",
    "g.ax_joint.scatter(x_avg, y_avg)\n",
    "g.set_axis_labels(xlabel='Generation Number', ylabel='Average Semantic Exploration', size=12)\n",
    "plt.tight_layout()\n",
    "plt.show()"
   ]
  },
  {
   "cell_type": "code",
   "execution_count": null,
   "metadata": {
    "id": "KAHaU9KQxUWD"
   },
   "outputs": [],
   "source": [
    "d = pd.DataFrame(data=[nums,exp])\n",
    "d = d.T\n",
    "d.columns = [\"Generation_Number\", \"Semantic_Exploration\"]\n",
    "\n",
    "d2 = pd.DataFrame(data=[x_avg,y_avg])\n",
    "d2 = d2.T\n",
    "d2.columns = [\"Generation_Number\", \"Semantic_Exploration\"]"
   ]
  },
  {
   "cell_type": "code",
   "execution_count": null,
   "metadata": {
    "id": "9FpsX-M-xUWD"
   },
   "outputs": [],
   "source": [
    "errors = []\n",
    "for num, group in d.groupby(\"Generation_Number\"):\n",
    "  errors.append(group.std()[\"Semantic_Exploration\"]/(len(group))**.5)\n",
    "d2[\"yerr\"] = errors\n",
    "\n",
    "scatter = ggplot(data=d, mapping=aes(x='Generation_Number', y='Semantic_Exploration'))\n",
    "# add layers\n",
    "(scatter + \n",
    " plotnine.geom_jitter(data=d, color=\"black\", alpha=0.3) +\n",
    " plotnine.geom_point(data=d2, color=\"red\", size=3) +\n",
    " plotnine.geom_smooth(method=\"lm\",size=.75, color=\"red\") + \n",
    " plotnine.geom_errorbar(d2,aes(x=\"Generation_Number\", ymin=\"Semantic_Exploration-yerr\",ymax=\"Semantic_Exploration+yerr\"), color=\"red\",width=.15) + \n",
    " plotnine.ylab(\"Semantic Exploration\") +\n",
    " plotnine.xlab(\"Generation Number\") +\n",
    "  plotnine.coords.coord_cartesian(ylim=(5,5.70)) +\n",
    " plotnine.theme_classic()\n",
    "  ).draw()"
   ]
  },
  {
   "cell_type": "code",
   "execution_count": null,
   "metadata": {
    "id": "qY_fLp4Mqtft"
   },
   "outputs": [],
   "source": [
    "def total_variation(e):\n",
    "  variation = 0\n",
    "  count = 0\n",
    "  for i in range(len(e)):\n",
    "    for j in range(i+1, len(e)):\n",
    "      variation += dist(e[i], e[j])\n",
    "      count += 1\n",
    "      if count%10000==0:\n",
    "        print(\"done\")\n",
    "  return variation"
   ]
  },
  {
   "cell_type": "markdown",
   "metadata": {
    "id": "Wa9-8o8U5epR"
   },
   "source": [
    "# **Semantic Dissimilarity vs Generation Number**"
   ]
  },
  {
   "cell_type": "code",
   "execution_count": null,
   "metadata": {
    "id": "thAD4VkcI33v"
   },
   "outputs": [],
   "source": [
    "# Semantic space similarity vs possibiltiy number (pairwise sim between all avg. embedding vectors)\n",
    "vectordic = {}\n",
    "for id, group in generations.groupby(\"id\"):\n",
    "  for pnum, group2 in group.groupby(\"generation_number\"):\n",
    "    if pnum not in vectordic:\n",
    "      vectordic[pnum] = []\n",
    "    embeddings = []\n",
    "    for generation in group2['response']:\n",
    "      if not pd.isna(generation):\n",
    "        embeddings.append(model.encode(generation))\n",
    "    embeddings = pd.DataFrame(embeddings)\n",
    "    embeddings = embeddings.mean(axis=0)\n",
    "    embeddings = embeddings.values.tolist()\n",
    "    vectordic.get(pnum).append(embeddings)\n"
   ]
  },
  {
   "cell_type": "code",
   "execution_count": null,
   "metadata": {
    "id": "3kq1xkkjSpj1"
   },
   "outputs": [],
   "source": [
    "#semantic space dissimilarity vs generation nums\n",
    "similarity = []\n",
    "nums = []\n",
    "avg_dic = {}\n",
    "for num in vectordic:\n",
    "  avg_dic[num] = []\n",
    "  for i in range(len(vectordic.get(num))):\n",
    "    for j in range(i+1, len(vectordic.get(num))):\n",
    "      nums.append(num)\n",
    "      s = dist(vectordic.get(num)[i], vectordic.get(num)[j])\n",
    "      similarity.append(s)\n",
    "      avg_dic[num].append(s)\n"
   ]
  },
  {
   "cell_type": "code",
   "execution_count": null,
   "metadata": {
    "id": "sL_8YznRmCJ6"
   },
   "outputs": [],
   "source": [
    "# remove invalid data - why would the distance between two distinct localizing vectors be 0? \n",
    "x = nums\n",
    "y = similarity\n",
    "i = 0 \n",
    "avg_dic = {}\n",
    "while i < len(x):\n",
    "  if y[i] == 0:\n",
    "    y.pop(i)\n",
    "    x.pop(i)\n",
    "    i -= 1\n",
    "  else:\n",
    "    if x[i] not in avg_dic:\n",
    "      avg_dic[x[i]] = []\n",
    "    avg_dic[x[i]].append(y[i])\n",
    "  i += 1\n",
    "x_avg = []\n",
    "y_avg = []\n",
    "for num in avg_dic:\n",
    "  avg_dic[num] = sum(avg_dic[num])/len(avg_dic[num])\n",
    "  x_avg.append(num)\n",
    "  y_avg.append(avg_dic[num])"
   ]
  },
  {
   "cell_type": "code",
   "execution_count": null,
   "metadata": {
    "id": "wVgd8oRO7EUj"
   },
   "outputs": [],
   "source": [
    "#plotting to find stats \n",
    "g = sns.jointplot(x=x, y=y, kind='reg', color='royalblue')\n",
    "# ax.annotate(stats.pearsonr)\n",
    "r, p = stats.pearsonr(x, y)\n",
    "g.ax_joint.annotate(f'$\\\\rho = {r:.3f}, p = {p:.3f}$',\n",
    "                    xy=(0.1, 0.9), xycoords='axes fraction',\n",
    "                    ha='left', va='center',\n",
    "                    bbox={'boxstyle': 'round', 'fc': 'powderblue', 'ec': 'navy'})\n",
    "g.ax_joint.scatter(x, y)\n",
    "g.set_axis_labels(xlabel='Generation Number', ylabel='Semantic Dissimilarity', size=12)\n",
    "plt.tight_layout()\n",
    "plt.show()"
   ]
  },
  {
   "cell_type": "code",
   "execution_count": null,
   "metadata": {
    "id": "JEmdAG_X2CD6"
   },
   "outputs": [],
   "source": [
    "#plotting to find stats \n",
    "\n",
    "g = sns.jointplot(x=x_avg, y=y_avg, kind='reg', color='royalblue')\n",
    "# ax.annotate(stats.pearsonr)\n",
    "r, p = stats.pearsonr(x_avg, y_avg)\n",
    "g.ax_joint.annotate(f'$\\\\rho = {r:.3f}, p = {p:.3f}$',\n",
    "                    xy=(0.1, 0.9), xycoords='axes fraction',\n",
    "                    ha='left', va='center',\n",
    "                    bbox={'boxstyle': 'round', 'fc': 'powderblue', 'ec': 'navy'})\n",
    "g.ax_joint.scatter(x_avg, y_avg)\n",
    "g.set_axis_labels(xlabel='Generation Number', ylabel='Semantic Dissimilarity', size=12)\n",
    "plt.tight_layout()\n",
    "plt.show()"
   ]
  },
  {
   "cell_type": "code",
   "execution_count": null,
   "metadata": {
    "id": "U3T5OJGpngw4"
   },
   "outputs": [],
   "source": [
    "d = pd.DataFrame(data=[x,y])\n",
    "d = d.T\n",
    "d.columns = [\"Generation_Number\", \"Semantic_Dissimilarity\"]\n",
    "\n",
    "d2 = pd.DataFrame(data=[x_avg,y_avg])\n",
    "d2 = d2.T\n",
    "d2.columns = [\"Generation_Number\", \"Semantic_Dissimilarity\"]"
   ]
  },
  {
   "cell_type": "code",
   "execution_count": null,
   "metadata": {
    "id": "wQk7Hz7FoTaD"
   },
   "outputs": [],
   "source": [
    "errors = []\n",
    "for num, group in d.groupby(\"Generation_Number\"):\n",
    "  errors.append(group.std()[\"Semantic_Dissimilarity\"]/(len(group))**.5)\n",
    "d2[\"yerr\"] = errors\n",
    "\n",
    "scatter = ggplot(data=d, mapping=aes(x='Generation_Number', y='Semantic_Dissimilarity'))\n",
    "# add layers\n",
    "(scatter + \n",
    " plotnine.geom_jitter(data=d, color=\"black\", alpha=0.1) +\n",
    " plotnine.geom_point(data=d2, color=\"red\", size=3) +\n",
    " plotnine.geom_smooth(method=\"lm\",size=.75, color=\"red\") + \n",
    " plotnine.geom_errorbar(d2,aes(x=\"Generation_Number\", ymin=\"Semantic_Dissimilarity-yerr\",ymax=\"Semantic_Dissimilarity+yerr\"), color=\"red\",width=.15) + \n",
    " plotnine.ylab(\"Semantic Dissimilarity\") +\n",
    " plotnine.xlab(\"Generation Number\") +\n",
    "  plotnine.coords.coord_cartesian(ylim=(.4,.5)) +\n",
    " plotnine.theme_classic()\n",
    "  ).draw()"
   ]
  },
  {
   "cell_type": "code",
   "execution_count": null,
   "metadata": {
    "id": "7ehBV7wBVfZh"
   },
   "outputs": [],
   "source": [
    "generations"
   ]
  },
  {
   "cell_type": "markdown",
   "metadata": {
    "id": "WN-e647q7i06"
   },
   "source": [
    "# **Subjective Goodness vs Generation Number**"
   ]
  },
  {
   "cell_type": "code",
   "execution_count": null,
   "metadata": {
    "id": "rNAxfdWdUUte"
   },
   "outputs": [],
   "source": [
    "#average goodness rating per possibility \n",
    "scores = [[] for i in range(8)]\n",
    "nums = [i for i in range(8)]\n",
    "\n",
    "#all of the ratings \n",
    "s = []\n",
    "n = []\n",
    "\n",
    "for pnum, group1 in generations.groupby(\"generation_number\"):\n",
    "  print(len(group1))\n",
    "  for score in group1['reflection_score']:\n",
    "    scores[pnum-1].append(score)\n",
    "    s.append(score)\n",
    "    n.append(pnum)\n",
    "\n",
    "for i in range(len(scores)):\n",
    "  scores[i] = sum(scores[i])/len(scores[i])"
   ]
  },
  {
   "cell_type": "code",
   "execution_count": null,
   "metadata": {
    "id": "iyLfJUOp1wwG"
   },
   "outputs": [],
   "source": [
    "#plotting for stats\n",
    "x_avg = np.array(nums) \n",
    "y_avg = np.array(scores)\n",
    "\n",
    "g = sns.jointplot(x=x_avg, y=y_avg, kind='reg', color='royalblue')\n",
    "# ax.annotate(stats.pearsonr)\n",
    "r, p = stats.pearsonr(x_avg, y_avg)\n",
    "g.ax_joint.annotate(f'$\\\\rho = {r:.3f}, p = {p:.3f}$',\n",
    "                    xy=(0.1, 0.9), xycoords='axes fraction',\n",
    "                    ha='left', va='center',\n",
    "                    bbox={'boxstyle': 'round', 'fc': 'powderblue', 'ec': 'navy'})\n",
    "g.ax_joint.scatter(x_avg, y_avg)\n",
    "g.set_axis_labels(xlabel='Generation Number', ylabel='Subjective Rationality', size=12)\n",
    "plt.tight_layout()\n",
    "plt.show()"
   ]
  },
  {
   "cell_type": "code",
   "execution_count": null,
   "metadata": {
    "id": "iOhlmCjaZCl_"
   },
   "outputs": [],
   "source": [
    "d = pd.DataFrame(data=[n,s])\n",
    "d = d.T\n",
    "d.columns = [\"Generation_Number\", \"Generation_Goodness\"]\n",
    "\n",
    "d2 = pd.DataFrame(data=[x_avg,y_avg])\n",
    "d2 = d2.T\n",
    "d2.columns = [\"Generation_Number\", \"Generation_Goodness\"]\n",
    "\n",
    "errors = []\n",
    "for num, group in d.groupby(\"Generation_Number\"):\n",
    "  errors.append(group.std()[\"Generation_Goodness\"]/(len(group[\"Generation_Goodness\"])**.5))\n",
    "d2[\"yerr\"] = errors\n"
   ]
  },
  {
   "cell_type": "code",
   "execution_count": null,
   "metadata": {
    "id": "dO9iQjV8lyqW"
   },
   "outputs": [],
   "source": [
    "scatter = ggplot(data=d, mapping=aes(x='Generation_Number', y='Generation_Goodness'))\n",
    "# add layers\n",
    "(scatter + \n",
    " plotnine.geom_jitter(data=d, color=\"black\", alpha=0.3) +\n",
    " plotnine.geom_point(data=d2, color=\"red\", size=3) +\n",
    " plotnine.geom_smooth(method=\"lm\",size=.75, color=\"red\") + \n",
    " plotnine.geom_errorbar(d2,aes(x=\"Generation_Number\", ymin=\"Generation_Goodness-yerr\",ymax=\"Generation_Goodness+yerr\"), color=\"red\",width=.15) + \n",
    " plotnine.ylab(\"Subjective Rationality\") +\n",
    " plotnine.xlab(\"Generation Number\") + \n",
    " plotnine.theme_classic()  +\n",
    " plotnine.coords.coord_cartesian(ylim=(35,80)) \n",
    " ).draw()"
   ]
  },
  {
   "cell_type": "markdown",
   "metadata": {
    "id": "R0xiIKhy9i0D"
   },
   "source": [
    "# **Generation Sentiment vs Generation Number**"
   ]
  },
  {
   "cell_type": "code",
   "execution_count": null,
   "metadata": {
    "id": "Bh1Mztty99Dv"
   },
   "outputs": [],
   "source": [
    "#generation sentiment vs generation number\n",
    "\n",
    "sentiment = []\n",
    "nums = []\n",
    "avg_sentiment = {}\n",
    "for id, participant in generations.groupby('id'):\n",
    "  for pos_num, group in participant.groupby('generation_number'):\n",
    "    if pos_num not in avg_sentiment:\n",
    "      avg_sentiment[pos_num] = []\n",
    "    for generation in group['response']:\n",
    "      if not pd.isna(generation):\n",
    "        s = predict_sentiment(generation)\n",
    "        sentiment.append(s)\n",
    "        nums.append(pos_num)\n",
    "        avg_sentiment[pos_num].append(s)"
   ]
  },
  {
   "cell_type": "code",
   "execution_count": null,
   "metadata": {
    "id": "2DJpInrep26b"
   },
   "outputs": [],
   "source": [
    "x = nums\n",
    "y = sentiment\n",
    "\n",
    "x_avg = []\n",
    "y_avg = []\n",
    "for num in avg_sentiment:\n",
    "  x_avg.append(num)\n",
    "  y_avg.append(sum(avg_sentiment[num])/len(avg_sentiment[num]))"
   ]
  },
  {
   "cell_type": "code",
   "execution_count": null,
   "metadata": {
    "id": "eFrcj9Hu16gz"
   },
   "outputs": [],
   "source": [
    "#plotting for stats \n",
    "g = sns.jointplot(x=x_avg, y=y_avg, kind='reg', color='royalblue')\n",
    "# ax.annotate(stats.pearsonr)\n",
    "r, p = stats.pearsonr(x_avg, y_avg)\n",
    "g.ax_joint.annotate(f'$\\\\rho = {r:.3f}, p = {p:.3f}$',\n",
    "                    xy=(0.1, 0.9), xycoords='axes fraction',\n",
    "                    ha='left', va='center',\n",
    "                    bbox={'boxstyle': 'round', 'fc': 'powderblue', 'ec': 'navy'})\n",
    "g.ax_joint.scatter(x_avg, y_avg)\n",
    "g.set_axis_labels(xlabel='Generation Number', ylabel='Average Sentiment', size=12)\n",
    "plt.tight_layout()\n",
    "plt.show()"
   ]
  },
  {
   "cell_type": "code",
   "execution_count": null,
   "metadata": {
    "id": "Qj_TSOxTq5I5"
   },
   "outputs": [],
   "source": [
    "d = pd.DataFrame(data=[x,y])\n",
    "d = d.T\n",
    "d.columns = [\"Generation_Number\", \"Generation_Sentiment\"]\n",
    "\n",
    "d2 = pd.DataFrame(data=[x_avg,y_avg])\n",
    "d2 = d2.T\n",
    "d2.columns = [\"Generation_Number\", \"Generation_Sentiment\"]\n",
    "\n",
    "errors = []\n",
    "for num, group in d.groupby(\"Generation_Number\"):\n",
    "  errors.append(group.std()[\"Generation_Sentiment\"]/(len(group[\"Generation_Sentiment\"])**.5))\n",
    "d2[\"yerr\"] = errors\n"
   ]
  },
  {
   "cell_type": "code",
   "execution_count": null,
   "metadata": {
    "id": "eyZ72HOLrZax"
   },
   "outputs": [],
   "source": [
    "scatter = ggplot(data=d, mapping=aes(x='Generation_Number', y='Generation_Sentiment'))\n",
    "# add layers\n",
    "(scatter + \n",
    " plotnine.geom_jitter(data=d, color=\"black\", alpha=0.3) +\n",
    " plotnine.geom_point(data=d2, color=\"red\", size=3) +\n",
    " plotnine.geom_smooth(method=\"lm\",size=.75, color=\"red\") + \n",
    " plotnine.geom_errorbar(d2,aes(x=\"Generation_Number\", ymin=\"Generation_Sentiment-yerr\",ymax=\"Generation_Sentiment+yerr\"), color=\"red\",width=.15) + \n",
    " plotnine.ylab(\"Generation Sentiment\") +\n",
    " plotnine.xlab(\"Generation Number\") + \n",
    " plotnine.theme_classic() +\n",
    " plotnine.coords.coord_cartesian(ylim=(.55,.65)) \n",
    ").draw()"
   ]
  },
  {
   "cell_type": "markdown",
   "metadata": {
    "id": "Hqufw5AW_ZEf"
   },
   "source": [
    "# **Generation Concreteness vs Generation Number**"
   ]
  },
  {
   "cell_type": "code",
   "execution_count": null,
   "metadata": {
    "id": "GPy3hQWe0IoN"
   },
   "outputs": [],
   "source": [
    "concreteness = pd.read_csv(\"https://raw.githubusercontent.com/gokulsrin/PossibilityGeneration/main/Misc/Concreteness_ratings_Brysbaert_et_al_BRM.csv\")"
   ]
  },
  {
   "cell_type": "code",
   "execution_count": null,
   "metadata": {
    "id": "zZD10yWny8-Y"
   },
   "outputs": [],
   "source": [
    "#create concreteness dict\n",
    "concreteness_dict = {}\n",
    "for word, group in concreteness.groupby(\"Word\"):\n",
    "  rating = group[\"Conc.M\"].values[0]\n",
    "  concreteness_dict[word] = rating"
   ]
  },
  {
   "cell_type": "code",
   "execution_count": null,
   "metadata": {
    "id": "Q7gKIN0yy9A9"
   },
   "outputs": [],
   "source": [
    "#figure out if later generations are more or less concrete \n",
    "import string \n",
    "\n",
    "conc = []\n",
    "nums = []\n",
    "cdic = {}\n",
    "for id, group in generations.groupby(\"id\"):\n",
    "  for vign, group2 in group.groupby(\"vignette_name\"):\n",
    "    for num, group3 in group2.groupby(\"generation_number\"):\n",
    "      for response, group4 in group3.groupby(\"response\"):\n",
    "        if not pd.isna(response):\n",
    "          response = response.translate(str.maketrans('', '', string.punctuation))\n",
    "          score = []\n",
    "          l = len(response.split(\" \"))\n",
    "          for word in response.split(\" \"):\n",
    "            if word in concreteness_dict:\n",
    "              score.append(concreteness_dict[word])\n",
    "          if len(score) > 0:\n",
    "            score = sum(score)/len(score)\n",
    "            # score = (sum(score)/len(score))/l\n",
    "            conc.append(score)\n",
    "            nums.append(num)\n",
    "            if num not in cdic:\n",
    "              cdic[num] = []\n",
    "            cdic[num].append(score)"
   ]
  },
  {
   "cell_type": "code",
   "execution_count": null,
   "metadata": {
    "id": "zQIiYMo6uEzK"
   },
   "outputs": [],
   "source": [
    "#find averages in concreteness differences\n",
    "x_avg = []\n",
    "y_avg = [] \n",
    "for key in cdic:\n",
    "  cdic[key] = sum(cdic[key])/len(cdic[key])\n",
    "  x_avg.append(key)\n",
    "  y_avg.append(cdic[key])\n",
    "\n",
    "print(cdic)"
   ]
  },
  {
   "cell_type": "code",
   "execution_count": null,
   "metadata": {
    "id": "24ZQ3qEYLWKX"
   },
   "outputs": [],
   "source": [
    "#just for stats\n",
    "\n",
    "g = sns.jointplot(x=x_avg, y=y_avg, kind='reg', color='royalblue')\n",
    "# ax.annotate(stats.pearsonr)\n",
    "r, p = stats.pearsonr(x_avg, y_avg)\n",
    "g.ax_joint.annotate(f'$\\\\rho = {r:.3f}, p = {p:.3f}$',\n",
    "                    xy=(0.1, 0.9), xycoords='axes fraction',\n",
    "                    ha='left', va='center',\n",
    "                    bbox={'boxstyle': 'round', 'fc': 'powderblue', 'ec': 'navy'})\n",
    "g.ax_joint.scatter(x_avg, y_avg)\n",
    "g.set_axis_labels(xlabel='Generation Number', ylabel='Generation Concreteness', size=12)\n",
    "plt.tight_layout()\n",
    "plt.show()"
   ]
  },
  {
   "cell_type": "code",
   "execution_count": null,
   "metadata": {
    "id": "0lIiYv1R8zSB"
   },
   "outputs": [],
   "source": [
    "d = pd.DataFrame(data=[nums,conc])\n",
    "d = d.T\n",
    "d.columns = [\"Generation_Number\", \"Generation_Concreteness\"]\n",
    "\n",
    "d2 = pd.DataFrame(data=[x_avg,y_avg])\n",
    "d2 = d2.T\n",
    "d2.columns = [\"Generation_Number\", \"Generation_Concreteness\"]"
   ]
  },
  {
   "cell_type": "code",
   "execution_count": null,
   "metadata": {
    "id": "hLAZCF6R9YHU"
   },
   "outputs": [],
   "source": [
    "errors = []\n",
    "for num, group in d.groupby(\"Generation_Number\"):\n",
    "  errors.append(group.std()[\"Generation_Concreteness\"]/(len(group))**.5)\n",
    "d2[\"yerr\"] = errors\n",
    "\n",
    "scatter = ggplot(data=d2, mapping=aes(x='Generation_Number', y='Generation_Concreteness', ymin=2.7))\n",
    "# add layers\n",
    "(scatter + \n",
    " plotnine.geom_jitter(data=d, color=\"black\", alpha=0.2) +\n",
    " plotnine.geom_point(data=d2, color=\"red\", size=3) +\n",
    " plotnine.geom_smooth(method=\"lm\",size=.70, color=\"red\", se=False) + \n",
    " plotnine.geom_errorbar(d2,aes(x=\"Generation_Number\", ymin=\"Generation_Concreteness-yerr\",ymax=\"Generation_Concreteness+yerr\"), color=\"red\",width=.15) + \n",
    " plotnine.ylab(\"Generation Concreteness\") +\n",
    " plotnine.xlab(\"Generation Number\") + \n",
    "  plotnine.coords.coord_cartesian(ylim=(2.6,2.9))\n",
    "  ).draw()"
   ]
  },
  {
   "cell_type": "markdown",
   "metadata": {
    "id": "COVYeWYZ1Idn"
   },
   "source": [
    "# **Concreteness vs Semantic Relatedness**"
   ]
  },
  {
   "cell_type": "code",
   "execution_count": null,
   "metadata": {
    "id": "zYDTwxNF1FMN"
   },
   "outputs": [],
   "source": [
    "#bin the generations based on concreteness \n",
    "gens = {}\n",
    "for response, group in generations.groupby(\"response\"):\n",
    "    response = response.translate(str.maketrans('', '', string.punctuation))\n",
    "    score = []\n",
    "    l = len(response.split(\" \"))\n",
    "    for word in response.split(\" \"):\n",
    "      if word in concreteness_dict:\n",
    "        score.append(concreteness_dict[word])\n",
    "    if len(score) > 0:\n",
    "      score = sum(score)/len(score)\n",
    "      gens[response] = score"
   ]
  },
  {
   "cell_type": "code",
   "execution_count": null,
   "metadata": {
    "id": "HG0bSDpf31M7"
   },
   "outputs": [],
   "source": [
    "#bin all of the responses : num bins = 10 \n",
    "gens = dict(sorted(gens.items(), key=lambda item: item[1]))\n",
    "len(gens)"
   ]
  },
  {
   "cell_type": "code",
   "execution_count": null,
   "metadata": {
    "id": "SBMOZqlN2gmw"
   },
   "outputs": [],
   "source": [
    "nbins = 100\n",
    "bins = [[] for j in range(nbins)]\n",
    "i = 0 \n",
    "for item in gens:\n",
    "  if i//int(len(gens)/nbins) < nbins:\n",
    "    bins[i//int(len(gens)/nbins)].append((item, gens[item]))\n",
    "  i += 1"
   ]
  },
  {
   "cell_type": "code",
   "execution_count": null,
   "metadata": {
    "id": "nXVcbmxaAW-V"
   },
   "outputs": [],
   "source": [
    "from tqdm import tqdm"
   ]
  },
  {
   "cell_type": "code",
   "execution_count": null,
   "metadata": {
    "id": "9jIgubFC5I2T"
   },
   "outputs": [],
   "source": [
    "similarity = {}\n",
    "for b in tqdm(range(len(bins))):\n",
    "  if b not in similarity: \n",
    "    similarity[b] = []\n",
    "  bin = bins[b]\n",
    "  embeddings = {}\n",
    "  for response in bin:\n",
    "    response = response[0]\n",
    "    embeddings[response] = model.encode(response)\n",
    "  for i in range(len(bin)):\n",
    "    for j in range(i+1, len(bin)):\n",
    "      similarity[b].append(dist(embeddings[bin[i][0]], embeddings[bin[j][0]]))\n",
    "  print(b)\n",
    "similarity \n"
   ]
  },
  {
   "cell_type": "code",
   "execution_count": null,
   "metadata": {
    "id": "gantzaJL6QCY"
   },
   "outputs": [],
   "source": [
    "buckets = {}\n",
    "for key in similarity:\n",
    "  buckets[key] = sum(similarity[key])/len(similarity[key])"
   ]
  },
  {
   "cell_type": "code",
   "execution_count": null,
   "metadata": {
    "id": "KRobCVHC9DBW"
   },
   "outputs": [],
   "source": [
    "x_avg = []\n",
    "y_avg = []\n",
    "\n",
    "for key in buckets:\n",
    "  x_avg.append(key)\n",
    "  y_avg.append(buckets[key])"
   ]
  },
  {
   "cell_type": "code",
   "execution_count": null,
   "metadata": {
    "id": "X5-zSERGCkX2"
   },
   "outputs": [],
   "source": [
    "# to be clear, higher buckets have higher concreteness. \n",
    "\n",
    "g = sns.jointplot(x=x_avg, y=y_avg, kind='reg', color='royalblue')\n",
    "# ax.annotate(stats.pearsonr)\n",
    "r, p = stats.pearsonr(x_avg, y_avg)\n",
    "g.ax_joint.annotate(f'$\\\\rho = {r:.3f}, p = {p:.3f}$',\n",
    "                    xy=(0.1, 0.9), xycoords='axes fraction',\n",
    "                    ha='left', va='center',\n",
    "                    bbox={'boxstyle': 'round', 'fc': 'powderblue', 'ec': 'navy'})\n",
    "g.ax_joint.scatter(x_avg, y_avg)\n",
    "g.set_axis_labels(xlabel='Concreteness Bucket', ylabel='Semantic Dissimilarity', size=12)\n",
    "plt.tight_layout()\n",
    "plt.show()"
   ]
  },
  {
   "cell_type": "code",
   "execution_count": null,
   "metadata": {
    "id": "pM0nMOsJJpTs"
   },
   "outputs": [],
   "source": [
    "d = pd.DataFrame(data=[x_avg,y_avg])\n",
    "d = d.T\n",
    "d.columns = [\"Concreteness_Bucket\", \"Semantic_Dissimilarity\"]\n",
    "# d[(np.abs(stats.zscore(d)) < 3).all(axis=1)]\n",
    "\n",
    "scatter = ggplot(data=d, mapping=aes(x='Concreteness_Bucket', y='Semantic_Dissimilarity'))\n",
    "# add layers\n",
    "(scatter + \n",
    " plotnine.geom_jitter(data=d, color=\"black\", alpha=0.3) +\n",
    " plotnine.geom_smooth(method=\"lm\",size=1.5, color=\"red\") + \n",
    " plotnine.xlab(\"Concreteness Bucket\") +\n",
    " plotnine.ylab(\"Semantic Dissimilarity\") + \n",
    " plotnine.theme_classic()\n",
    ").draw()\n",
    "\n",
    "#this reduces this axis to bwtween 0 and 1 \n",
    "#  plotnine.scale_y_continuous(limits=(0, 1))\n"
   ]
  },
  {
   "cell_type": "code",
   "execution_count": null,
   "metadata": {
    "id": "DP1XuSWEpM_k"
   },
   "outputs": [],
   "source": [
    "#replication of this experiment with a third model\n",
    "#################################### \n",
    "model = SentenceTransformer('sentence-transformers/all-mpnet-base-v2')"
   ]
  },
  {
   "cell_type": "code",
   "execution_count": null,
   "metadata": {
    "id": "xoViAuFbpkk6"
   },
   "outputs": [],
   "source": [
    "#bin the generations based on concreteness \n",
    "gens = {}\n",
    "for response, group in generations.groupby(\"response\"):\n",
    "    response = response.translate(str.maketrans('', '', string.punctuation))\n",
    "    score = []\n",
    "    l = len(response.split(\" \"))\n",
    "    for word in response.split(\" \"):\n",
    "      if word in concreteness_dict:\n",
    "        score.append(concreteness_dict[word])\n",
    "    if len(score) > 0:\n",
    "      score = sum(score)/len(score)\n",
    "      gens[response] = score"
   ]
  },
  {
   "cell_type": "code",
   "execution_count": null,
   "metadata": {
    "id": "zPa0cYvIpkk6"
   },
   "outputs": [],
   "source": [
    "#bin all of the responses : num bins = 10 \n",
    "gens = dict(sorted(gens.items(), key=lambda item: item[1]))\n",
    "len(gens)"
   ]
  },
  {
   "cell_type": "code",
   "execution_count": null,
   "metadata": {
    "id": "ReWPQrI6pkk7"
   },
   "outputs": [],
   "source": [
    "nbins = 100\n",
    "bins = [[] for j in range(nbins)]\n",
    "i = 0 \n",
    "for item in gens:\n",
    "  if i//int(len(gens)/nbins) < nbins:\n",
    "    bins[i//int(len(gens)/nbins)].append((item, gens[item]))\n",
    "  i += 1"
   ]
  },
  {
   "cell_type": "code",
   "execution_count": null,
   "metadata": {
    "id": "LV29FHyXpkk7"
   },
   "outputs": [],
   "source": [
    "from tqdm import tqdm"
   ]
  },
  {
   "cell_type": "code",
   "execution_count": null,
   "metadata": {
    "id": "DQ8lte-ppkk7"
   },
   "outputs": [],
   "source": [
    "similarity = {}\n",
    "for b in tqdm(range(len(bins))):\n",
    "  if b not in similarity: \n",
    "    similarity[b] = []\n",
    "  bin = bins[b]\n",
    "  embeddings = {}\n",
    "  for response in bin:\n",
    "    response = response[0]\n",
    "    embeddings[response] = model.encode(response)\n",
    "  for i in range(len(bin)):\n",
    "    for j in range(i+1, len(bin)):\n",
    "      similarity[b].append(dist(embeddings[bin[i][0]], embeddings[bin[j][0]]))\n",
    "  print(b)\n",
    "similarity \n"
   ]
  },
  {
   "cell_type": "code",
   "execution_count": null,
   "metadata": {
    "id": "g3b8IbH1pkk7"
   },
   "outputs": [],
   "source": [
    "buckets = {}\n",
    "for key in similarity:\n",
    "  buckets[key] = sum(similarity[key])/len(similarity[key])"
   ]
  },
  {
   "cell_type": "code",
   "execution_count": null,
   "metadata": {
    "id": "EL5mwcGppkk7"
   },
   "outputs": [],
   "source": [
    "x_avg = []\n",
    "y_avg = []\n",
    "\n",
    "for key in buckets:\n",
    "  x_avg.append(key)\n",
    "  y_avg.append(buckets[key])"
   ]
  },
  {
   "cell_type": "code",
   "execution_count": null,
   "metadata": {
    "id": "xMRvohqNpkk7"
   },
   "outputs": [],
   "source": [
    "# to be clear, higher buckets have higher concreteness. \n",
    "\n",
    "g = sns.jointplot(x=x_avg, y=y_avg, kind='reg', color='royalblue')\n",
    "# ax.annotate(stats.pearsonr)\n",
    "r, p = stats.pearsonr(x_avg, y_avg)\n",
    "g.ax_joint.annotate(f'$\\\\rho = {r:.3f}, p = {p:.3f}$',\n",
    "                    xy=(0.1, 0.9), xycoords='axes fraction',\n",
    "                    ha='left', va='center',\n",
    "                    bbox={'boxstyle': 'round', 'fc': 'powderblue', 'ec': 'navy'})\n",
    "g.ax_joint.scatter(x_avg, y_avg)\n",
    "g.set_axis_labels(xlabel='Concreteness Bucket', ylabel='Semantic Dissimilarity', size=12)\n",
    "plt.tight_layout()\n",
    "plt.show()"
   ]
  },
  {
   "cell_type": "markdown",
   "metadata": {
    "id": "5EqjXNduH2Qq"
   },
   "source": [
    "# **Semantic Exploration vs Average Concreteness**"
   ]
  },
  {
   "cell_type": "code",
   "execution_count": null,
   "metadata": {
    "id": "466Jiv-QNvp7"
   },
   "outputs": [],
   "source": [
    "# semantic exploration \n",
    "exploration = {}\n",
    "for id, group in generations.groupby(\"id\"):\n",
    "  exploration[id] = 0\n",
    "  len_responses = 0\n",
    "  for vign, group2 in group.groupby(\"vignette_name\"):\n",
    "    embeddings = []\n",
    "    for response, group3 in group2.groupby(\"response\"):\n",
    "      if not pd.isna(response):\n",
    "        embeddings.append(model.encode(response))\n",
    "    len_responses += len(embeddings)\n",
    "    for i in range(len(embeddings)):\n",
    "      for j in range(i+1, len(embeddings)):\n",
    "        exploration[id] += dist(embeddings[i], embeddings[j])\n",
    "  exploration[id] /= len_responses"
   ]
  },
  {
   "cell_type": "code",
   "execution_count": null,
   "metadata": {
    "id": "lwHypvhcG-O1"
   },
   "outputs": [],
   "source": [
    "#determine avg concreteness \n",
    "id_concreteness = {}\n",
    "for id, group in generations.groupby(\"id\"):\n",
    "  for response, group2 in group.groupby(\"response\"):\n",
    "    response = response.translate(str.maketrans('', '', string.punctuation))\n",
    "    score = []\n",
    "    l = len(response.split(\" \"))\n",
    "    for word in response.split(\" \"):\n",
    "      if word in concreteness_dict:\n",
    "        score.append(concreteness_dict[word])\n",
    "    if len(score) > 0:\n",
    "      if id not in id_concreteness:\n",
    "        id_concreteness[id] = []\n",
    "      score = sum(score)/len(score)\n",
    "      id_concreteness[id].append(score)"
   ]
  },
  {
   "cell_type": "code",
   "execution_count": null,
   "metadata": {
    "id": "X6ZjHtm1Ii7g"
   },
   "outputs": [],
   "source": [
    "for id in id_concreteness:\n",
    "  id_concreteness[id] = sum(id_concreteness[id])/len(id_concreteness[id])"
   ]
  },
  {
   "cell_type": "code",
   "execution_count": null,
   "metadata": {
    "id": "HPiqi1JKIyTZ"
   },
   "outputs": [],
   "source": [
    "x = []\n",
    "y = []\n",
    "for id in id_concreteness:\n",
    "  if id in exploration:\n",
    "    x.append(id_concreteness[id])\n",
    "    y.append(exploration[id])"
   ]
  },
  {
   "cell_type": "code",
   "execution_count": null,
   "metadata": {
    "id": "yPBnAlcNIyTb"
   },
   "outputs": [],
   "source": [
    "#display adjusted exploration vs average sentiment \n",
    "g = sns.jointplot(x=x, y=y, kind='reg', color='royalblue')\n",
    "# ax.annotate(stats.pearsonr)\n",
    "r, p = stats.pearsonr(x, y)\n",
    "g.ax_joint.annotate(f'$\\\\rho = {r:.3f}, p = {p:.3f}$',\n",
    "                    xy=(0.1, 0.9), xycoords='axes fraction',\n",
    "                    ha='left', va='center',\n",
    "                    bbox={'boxstyle': 'round', 'fc': 'powderblue', 'ec': 'navy'})\n",
    "g.ax_joint.scatter(x, y)\n",
    "g.set_axis_labels(xlabel='Average Concreteness', ylabel='Semantic Exploration', size=12)\n",
    "plt.tight_layout()\n",
    "plt.show()"
   ]
  },
  {
   "cell_type": "code",
   "execution_count": null,
   "metadata": {
    "id": "y3tFulzuJFgm"
   },
   "outputs": [],
   "source": [
    "d = pd.DataFrame(data=[x,y])\n",
    "d = d.T\n",
    "d.columns = [\"Average_Concreteness\", \"Semantic_Exploration\"]\n",
    "# d[(np.abs(stats.zscore(d)) < 3).all(axis=1)]\n",
    "\n",
    "scatter = ggplot(data=d, mapping=aes(x='Average_Concreteness', y='Semantic_Exploration'))\n",
    "# add layers\n",
    "(scatter + \n",
    " plotnine.geom_jitter(data=d, color=\"black\", alpha=0.3) +\n",
    " plotnine.geom_smooth(method=\"lm\",size=1.5, color=\"red\") + \n",
    " plotnine.xlab(\"Average Concreteness\") +\n",
    " plotnine.ylab(\"Semantic Exploration\") + \n",
    " plotnine.theme_classic() + \n",
    " plotnine.coords.coord_cartesian(ylim=(2,3.5))\n",
    ").draw()\n",
    "\n",
    "#this reduces this axis to bwtween 0 and 1 \n",
    "#  plotnine.scale_y_continuous(limits=(0, 1))\n"
   ]
  },
  {
   "cell_type": "markdown",
   "metadata": {
    "id": "g5iuRtjSDcLE"
   },
   "source": [
    "# **Generation Concreteness vs Subjective Score**"
   ]
  },
  {
   "cell_type": "code",
   "execution_count": null,
   "metadata": {
    "id": "tdV4uWlmC3ri"
   },
   "outputs": [],
   "source": [
    "concreteness = []\n",
    "subjective = []\n",
    "for response, group in generations.groupby(\"response\"):\n",
    "  response = response.translate(str.maketrans('', '', string.punctuation))\n",
    "  score = []\n",
    "  l = len(response.split(\" \"))\n",
    "  for word in response.split(\" \"):\n",
    "    if word in concreteness_dict:\n",
    "      score.append(concreteness_dict[word])\n",
    "  if len(score) > 0 :\n",
    "    score = sum(score)/len(score)\n",
    "    concreteness.append(score)\n",
    "    subjective.append(list(group[\"reflection_score\"])[0])\n"
   ]
  },
  {
   "cell_type": "code",
   "execution_count": null,
   "metadata": {
    "id": "dlHazaZ9GLMp"
   },
   "outputs": [],
   "source": [
    "x = concreteness\n",
    "y = subjective\n",
    "\n",
    "g = sns.jointplot(x=x, y=y, kind='reg', color='royalblue')\n",
    "# ax.annotate(stats.pearsonr)\n",
    "r, p = stats.pearsonr(x, y)\n",
    "g.ax_joint.annotate(f'$\\\\rho = {r:.3f}, p = {p:.3f}$',\n",
    "                    xy=(0.1, 0.9), xycoords='axes fraction',\n",
    "                    ha='left', va='center',\n",
    "                    bbox={'boxstyle': 'round', 'fc': 'powderblue', 'ec': 'navy'})\n",
    "g.ax_joint.scatter(x, y)\n",
    "g.set_axis_labels(xlabel='Concreteness', ylabel='Subjective Score', size=12)\n",
    "plt.tight_layout()\n",
    "plt.show()"
   ]
  },
  {
   "cell_type": "markdown",
   "metadata": {
    "id": "fBryxHlUDUA6"
   },
   "source": [
    "# **Generation Concreteness vs Generation Sentiment**"
   ]
  },
  {
   "cell_type": "code",
   "execution_count": null,
   "metadata": {
    "id": "2Gdd288IDutk"
   },
   "outputs": [],
   "source": [
    "concreteness = []\n",
    "sentiment = []\n",
    "for response, group in generations.groupby(\"response\"):\n",
    "  response = response.translate(str.maketrans('', '', string.punctuation))\n",
    "  score = []\n",
    "  l = len(response.split(\" \"))\n",
    "  for word in response.split(\" \"):\n",
    "    if word in concreteness_dict:\n",
    "      score.append(concreteness_dict[word])\n",
    "  if len(score) > 0:\n",
    "    score = sum(score)/len(score)\n",
    "    concreteness.append(score)\n",
    "    sentiment.append(predict_sentiment(response))\n"
   ]
  },
  {
   "cell_type": "code",
   "execution_count": null,
   "metadata": {
    "id": "i9zLuVRBGEnT"
   },
   "outputs": [],
   "source": [
    "x = concreteness\n",
    "y = sentiment\n",
    "\n",
    "g = sns.jointplot(x=x, y=y, kind='reg', color='royalblue')\n",
    "# ax.annotate(stats.pearsonr)\n",
    "r, p = stats.pearsonr(x, y)\n",
    "g.ax_joint.annotate(f'$\\\\rho = {r:.3f}, p = {p:.3f}$',\n",
    "                    xy=(0.1, 0.9), xycoords='axes fraction',\n",
    "                    ha='left', va='center',\n",
    "                    bbox={'boxstyle': 'round', 'fc': 'powderblue', 'ec': 'navy'})\n",
    "g.ax_joint.scatter(x, y)\n",
    "g.set_axis_labels(xlabel='Concreteness', ylabel='Sentiment', size=12)\n",
    "plt.tight_layout()\n",
    "plt.show()"
   ]
  },
  {
   "cell_type": "markdown",
   "metadata": {
    "id": "XzcBzA7C_Sq6"
   },
   "source": [
    "# **Timed Analysis**\n",
    "Results to develop here: \n",
    "\n",
    "\n",
    "1.   Total sematic exploration (adjusted) vs time\n",
    "2.   Successive Semantic Distance vs time\n",
    "3.  Time vs Distance from center of mass \n",
    "4.  Total time vs Generation Number\n",
    "5. Generation Time v Concreteness \n",
    "\n"
   ]
  },
  {
   "cell_type": "markdown",
   "metadata": {
    "id": "dmyv1NgNAQK2"
   },
   "source": [
    "# **Total Semantic Exploration (adjusted) vs Time**"
   ]
  },
  {
   "cell_type": "code",
   "execution_count": null,
   "metadata": {
    "id": "GgPXQHhwAZr-"
   },
   "outputs": [],
   "source": [
    "generations"
   ]
  },
  {
   "cell_type": "code",
   "execution_count": null,
   "metadata": {
    "id": "uOp6lMPXzHk1"
   },
   "outputs": [],
   "source": [
    "# total (adjusted) exploration vs total generation time \n",
    "exploration = {}\n",
    "times = {}\n",
    "for id, group in generations.groupby(\"id\"):\n",
    "  exploration[id] = 0\n",
    "  times[id] = 0\n",
    "  len_responses = 0\n",
    "  for vign, group2 in group.groupby(\"vignette_name\"):\n",
    "    embeddings = []\n",
    "    for response, group3 in group2.groupby(\"response\"):\n",
    "      if not pd.isna(response):\n",
    "        embeddings.append(model.encode(response))\n",
    "        times[id] += list(group3[\"generation_time\"])[0]\n",
    "    len_responses += len(embeddings)\n",
    "    for i in range(len(embeddings)):\n",
    "      for j in range(i+1, len(embeddings)):\n",
    "        exploration[id] += dist(embeddings[i], embeddings[j])\n",
    "  exploration[id] /= len_responses\n",
    "  times[id] "
   ]
  },
  {
   "cell_type": "code",
   "execution_count": null,
   "metadata": {
    "id": "KaFTS-SS61hj"
   },
   "outputs": [],
   "source": [
    "x = []\n",
    "y = []\n",
    "for id in exploration:\n",
    "  x.append(times[id])\n",
    "  y.append(exploration[id])"
   ]
  },
  {
   "cell_type": "code",
   "execution_count": null,
   "metadata": {
    "id": "U79A2wKV7Clv"
   },
   "outputs": [],
   "source": [
    "#just for stats\n",
    "\n",
    "g = sns.jointplot(x=x, y=y, kind='reg', color='royalblue')\n",
    "# ax.annotate(stats.pearsonr)\n",
    "r, p = stats.pearsonr(x, y)\n",
    "g.ax_joint.annotate(f'$\\\\rho = {r:.3f}, p = {p:.3f}$',\n",
    "                    xy=(0.1, 0.9), xycoords='axes fraction',\n",
    "                    ha='left', va='center',\n",
    "                    bbox={'boxstyle': 'round', 'fc': 'powderblue', 'ec': 'navy'})\n",
    "g.ax_joint.scatter(x, y)\n",
    "g.set_axis_labels(xlabel='Total Generation Time', ylabel='Total Semantic Exploration', size=12)\n",
    "plt.tight_layout()\n",
    "plt.show()"
   ]
  },
  {
   "cell_type": "code",
   "execution_count": null,
   "metadata": {
    "id": "7K3MfycU9tAk"
   },
   "outputs": [],
   "source": [
    "d = pd.DataFrame(data=[x,y])\n",
    "d = d.T\n",
    "d.columns = [\"Generation_Number\", \"Semantic_Exploration\"]\n",
    "# d[(np.abs(stats.zscore(d)) < 3).all(axis=1)]\n",
    "\n",
    "scatter = ggplot(data=d, mapping=aes(x='Generation_Number', y='Semantic_Exploration'))\n",
    "# add layers\n",
    "(scatter + \n",
    " plotnine.geom_jitter(data=d, color=\"black\", alpha=0.5) +\n",
    " plotnine.geom_smooth(method=\"lm\",size=1.5, color=\"red\") + \n",
    " plotnine.xlab(\"Generation Number\") +\n",
    " plotnine.ylab(\"Semantic Exploration\") + \n",
    " plotnine.coords.coord_cartesian(ylim=(2,3)) + \n",
    " plotnine.theme_classic()\n",
    ").draw()\n"
   ]
  },
  {
   "cell_type": "markdown",
   "metadata": {
    "id": "pUnD2m79CmRC"
   },
   "source": [
    "# **Successive Semantic Distance vs Generation Time**"
   ]
  },
  {
   "cell_type": "code",
   "execution_count": null,
   "metadata": {
    "id": "RlnGAoU7CrUf"
   },
   "outputs": [],
   "source": [
    "distance = []\n",
    "time = []\n",
    "\n",
    "for id, group in generations.groupby(\"id\"):\n",
    "  for vign, group2 in group.groupby(\"vignette_name\"):\n",
    "    embeddings = []\n",
    "    times = []\n",
    "    for response, group3 in group2.groupby(\"response\"):\n",
    "      if not pd.isna(response):\n",
    "        embeddings.append(model.encode(response))\n",
    "        times.append(list(group3[\"generation_time\"])[0])\n",
    "    for i in range(len(embeddings)-1):\n",
    "      j = i+1\n",
    "      distance.append(dist(embeddings[i], embeddings[j]))\n",
    "      time.append(times[j])\n"
   ]
  },
  {
   "cell_type": "code",
   "execution_count": null,
   "metadata": {
    "id": "nNCNhOyQHBHS"
   },
   "outputs": [],
   "source": [
    "#just for stats\n",
    "x = np.array(time)\n",
    "y = distance\n",
    "g = sns.jointplot(x=x, y=y, kind='reg', color='royalblue')\n",
    "# ax.annotate(stats.pearsonr)\n",
    "r, p = stats.pearsonr(x, y)\n",
    "g.ax_joint.annotate(f'$\\\\rho = {r:.3f}, p = {p:.3f}$',\n",
    "                    xy=(0.1, 0.9), xycoords='axes fraction',\n",
    "                    ha='left', va='center',\n",
    "                    bbox={'boxstyle': 'round', 'fc': 'powderblue', 'ec': 'navy'})\n",
    "g.ax_joint.scatter(x, y)\n",
    "g.set_axis_labels(xlabel='Generation Time', ylabel='Successive Semantic Distance', size=12)\n",
    "plt.tight_layout()\n",
    "plt.show()"
   ]
  },
  {
   "cell_type": "code",
   "execution_count": null,
   "metadata": {
    "id": "OtjfRZTQHXfM"
   },
   "outputs": [],
   "source": [
    "d = pd.DataFrame(data=[x,y])\n",
    "d = d.T\n",
    "d.columns = [\"Generation_Number\", \"Successive_Semantic_Distance\"]\n",
    "# d[(np.abs(stats.zscore(d)) < 3).all(axis=1)]\n",
    "\n",
    "scatter = ggplot(data=d, mapping=aes(x='Generation_Number', y='Successive_Semantic_Distance'))\n",
    "# add layers\n",
    "(scatter + \n",
    " plotnine.geom_jitter(data=d, color=\"black\", alpha=0.5) +\n",
    " plotnine.geom_smooth(method=\"lm\",size=1.5, color=\"red\") + \n",
    " plotnine.xlab(\"Generation Number\") +\n",
    " plotnine.ylab(\"Successive Semantic Distance\") + \n",
    " plotnine.theme_classic()\n",
    ").draw()\n"
   ]
  },
  {
   "cell_type": "markdown",
   "metadata": {
    "id": "fClpt-HVEE4Q"
   },
   "source": [
    "# **Distance from Center of Mass vs Time**"
   ]
  },
  {
   "cell_type": "code",
   "execution_count": null,
   "metadata": {
    "id": "NI4FXUDhFWOb"
   },
   "outputs": [],
   "source": [
    "def average_embedding(embeddings):\n",
    "  df = pd.DataFrame(embeddings)\n",
    "  df = df.mean(axis=0)\n",
    "  return df.values.tolist()"
   ]
  },
  {
   "cell_type": "code",
   "execution_count": null,
   "metadata": {
    "id": "gcS7TgXm83mu"
   },
   "outputs": [],
   "source": [
    "DCOM = []\n",
    "time = []\n",
    "for id,group in generations.groupby(\"id\"):\n",
    "  for vign, group2 in group.groupby(\"vignette_name\"):\n",
    "    embeddings = []\n",
    "    responses = []\n",
    "    times = []\n",
    "    for num, group3 in group2.groupby(\"generation_number\"):\n",
    "      responses.append(list(group3[\"response\"])[0])\n",
    "      times.append(list(group3[\"generation_time\"])[0])\n",
    "    for row in zip(responses, times):\n",
    "      response = row[0]\n",
    "      gtime = row[1]\n",
    "      if not pd.isna(response):\n",
    "        if len(embeddings) > 0:\n",
    "          current = model.encode(response)\n",
    "          COM = average_embedding(embeddings)\n",
    "          DCOM.append(dist(current, COM))\n",
    "          time.append(gtime)\n",
    "        embeddings.append(model.encode(response))"
   ]
  },
  {
   "cell_type": "code",
   "execution_count": null,
   "metadata": {
    "id": "EQ_lrglVH3AG"
   },
   "outputs": [],
   "source": [
    "x = np.array(time)\n",
    "y = DCOM\n",
    "#just for stats\n",
    "g = sns.jointplot(x=x, y=y, kind='reg', color='royalblue')\n",
    "# ax.annotate(stats.pearsonr)\n",
    "r, p = stats.pearsonr(x, y)\n",
    "g.ax_joint.annotate(f'$\\\\rho = {r:.3f}, p = {p:.3f}$',\n",
    "                    xy=(0.1, 0.9), xycoords='axes fraction',\n",
    "                    ha='left', va='center',\n",
    "                    bbox={'boxstyle': 'round', 'fc': 'powderblue', 'ec': 'navy'})\n",
    "g.ax_joint.scatter(x, y)\n",
    "g.set_axis_labels(xlabel='Generation Time', ylabel='Distance from Center of Mass', size=12)\n",
    "plt.tight_layout()\n",
    "plt.show()"
   ]
  },
  {
   "cell_type": "code",
   "execution_count": null,
   "metadata": {
    "id": "FEVnYghpIgzY"
   },
   "outputs": [],
   "source": [
    "d = pd.DataFrame(data=[x,y])\n",
    "d = d.T\n",
    "d.columns = [\"Generation_Number\", \"DCOM\"]\n",
    "# d[(np.abs(stats.zscore(d)) < 3).all(axis=1)]\n",
    "\n",
    "scatter = ggplot(data=d, mapping=aes(x='Generation_Number', y='DCOM'))\n",
    "# add layers\n",
    "(scatter + \n",
    " plotnine.geom_jitter(data=d, color=\"black\", alpha=0.5) +\n",
    " plotnine.geom_smooth(method=\"lm\",size=1.5, color=\"red\") + \n",
    " plotnine.xlab(\"Generation Number\") +\n",
    " plotnine.ylab(\"Distance from Center of Mass\") + \n",
    " plotnine.theme_classic()\n",
    ").draw()\n"
   ]
  },
  {
   "cell_type": "markdown",
   "metadata": {
    "id": "boPnnXIBG0_L"
   },
   "source": [
    "# **Total Time vs Generation Number**"
   ]
  },
  {
   "cell_type": "code",
   "execution_count": null,
   "metadata": {
    "id": "Lp7xkJlaIK_A"
   },
   "outputs": [],
   "source": [
    "#Total time vs possibility number\n",
    "time = []\n",
    "nums = []\n",
    "times = {}\n",
    "for id, group in generations.groupby(\"id\"):\n",
    "  for pnum, group1 in group.groupby(\"generation_number\"):\n",
    "    if pnum not in times:\n",
    "      times[pnum] = []\n",
    "    for response, group2 in group1.groupby(\"response\"):\n",
    "      t = list(group2[\"generation_time\"])[0]\n",
    "      times[pnum].append(t)\n",
    "      time.append(t)\n",
    "      nums.append(pnum)"
   ]
  },
  {
   "cell_type": "code",
   "execution_count": null,
   "metadata": {
    "id": "LMaSzhOEKbP0"
   },
   "outputs": [],
   "source": [
    "x_avg = [i for i in range(8)]\n",
    "y_avg = []\n",
    "for num in times:\n",
    "  y_avg.append(sum(times[num])/len(times[num]))"
   ]
  },
  {
   "cell_type": "code",
   "execution_count": null,
   "metadata": {
    "id": "sqB2QbQCKeFm"
   },
   "outputs": [],
   "source": [
    "\n",
    "#just for stats\n",
    "g = sns.jointplot(x=x_avg, y=y_avg, kind='reg', color='royalblue')\n",
    "# ax.annotate(stats.pearsonr)\n",
    "r, p = stats.pearsonr(x_avg, y_avg)\n",
    "g.ax_joint.annotate(f'$\\\\rho = {r:.3f}, p = {p:.3f}$',\n",
    "                    xy=(0.1, 0.9), xycoords='axes fraction',\n",
    "                    ha='left', va='center',\n",
    "                    bbox={'boxstyle': 'round', 'fc': 'powderblue', 'ec': 'navy'})\n",
    "g.ax_joint.scatter(x_avg, y_avg)\n",
    "g.set_axis_labels(xlabel='Generation Number', ylabel='Total Time', size=12)\n",
    "plt.tight_layout()\n",
    "plt.show()"
   ]
  },
  {
   "cell_type": "code",
   "execution_count": null,
   "metadata": {
    "id": "nlqqQDixK4dJ"
   },
   "outputs": [],
   "source": [
    "nums = np.array(nums)\n",
    "time = np.array(time)\n",
    "d = pd.DataFrame(data=[nums,time])\n",
    "d = d.T\n",
    "d.columns = [\"Generation_Number\", \"Generation_Time\"]\n",
    "y_avg = np.array(y_avg)\n",
    "d2 = pd.DataFrame(data=[x_avg,y_avg])\n",
    "d2 = d2.T\n",
    "d2.columns = [\"Generation_Number\", \"Generation_Time\"]"
   ]
  },
  {
   "cell_type": "code",
   "execution_count": null,
   "metadata": {
    "id": "_M8z3ACkK4dK"
   },
   "outputs": [],
   "source": [
    "errors = []\n",
    "for num, group in d.groupby(\"Generation_Number\"):\n",
    "  errors.append(group.std()[\"Generation_Time\"]/(len(group))**.5)\n",
    "d2[\"yerr\"] = errors\n",
    "\n",
    "scatter = ggplot(data=d2, mapping=aes(x='Generation_Number', y='Generation_Time'))\n",
    "# add layers\n",
    "(scatter + \n",
    " plotnine.geom_jitter(data=d, color=\"black\", alpha=0.4) +\n",
    " plotnine.geom_point(data=d2, color=\"red\", size=3) +\n",
    " plotnine.geom_smooth(method=\"lm\",size=.70, color=\"red\", se=False) + \n",
    " plotnine.geom_errorbar(d2,aes(x=\"Generation_Number\", ymin=\"Generation_Time-yerr\",ymax=\"Generation_Time+yerr\"), color=\"red\",width=.15) + \n",
    " plotnine.ylab(\"Generation Time\") +\n",
    " plotnine.xlab(\"Generation Number\") + \n",
    "  plotnine.coords.coord_cartesian(ylim=(5,25)) + \n",
    " plotnine.theme_classic()\n",
    "  ).draw()"
   ]
  },
  {
   "cell_type": "markdown",
   "metadata": {
    "id": "Mac1Zpu4IAlG"
   },
   "source": [
    "# **Generation Concreteness vs Generation Time**"
   ]
  },
  {
   "cell_type": "code",
   "execution_count": null,
   "metadata": {
    "id": "LjkxvlxiMEj6"
   },
   "outputs": [],
   "source": [
    "gc = []\n",
    "time = []\n",
    "\n",
    "for response, group in generations.groupby(\"response\"):\n",
    "  response = response.translate(str.maketrans('', '', string.punctuation))\n",
    "  score = []\n",
    "  l = len(response.split(\" \"))\n",
    "  for word in response.split(\" \"):\n",
    "    if word in concreteness_dict:\n",
    "      score.append(concreteness_dict[word])\n",
    "  if len(score) > 0:\n",
    "    score = sum(score)/len(score)\n",
    "    gc.append(score)\n",
    "    time.append(list(group[\"generation_time\"])[0])"
   ]
  },
  {
   "cell_type": "code",
   "execution_count": null,
   "metadata": {
    "id": "QP2lpy6WMtmG"
   },
   "outputs": [],
   "source": [
    "x = np.array(time)/1000\n",
    "y= gc\n",
    "#just for stats\n",
    "g = sns.jointplot(x=x, y=y, kind='reg', color='royalblue')\n",
    "# ax.annotate(stats.pearsonr)\n",
    "r, p = stats.pearsonr(x, y)\n",
    "g.ax_joint.annotate(f'$\\\\rho = {r:.3f}, p = {p:.3f}$',\n",
    "                    xy=(0.1, 0.9), xycoords='axes fraction',\n",
    "                    ha='left', va='center',\n",
    "                    bbox={'boxstyle': 'round', 'fc': 'powderblue', 'ec': 'navy'})\n",
    "g.ax_joint.scatter(x, y)\n",
    "g.set_axis_labels(xlabel='Generation Time (s)', ylabel='Generation Concreteness', size=12)\n",
    "plt.tight_layout()\n",
    "plt.show()"
   ]
  },
  {
   "cell_type": "code",
   "execution_count": null,
   "metadata": {
    "id": "vEvCpkjeNFDB"
   },
   "outputs": [],
   "source": [
    "d = pd.DataFrame(data=[x,y])\n",
    "d = d.T\n",
    "d.columns = [\"Generation_Time\", \"Generation_Concreteness\"]\n",
    "# d[(np.abs(stats.zscore(d)) < 3).all(axis=1)]\n",
    "\n",
    "scatter = ggplot(data=d, mapping=aes(x='Generation_Time', y='Generation_Concreteness'))\n",
    "# add layers\n",
    "(scatter + \n",
    " plotnine.geom_jitter(data=d, color=\"black\", alpha=0.5) +\n",
    " plotnine.geom_smooth(method=\"lm\",size=1.5, color=\"red\") + \n",
    " plotnine.xlab(\"Generation Time\") +\n",
    " plotnine.ylab(\"Generation Concreteness\") + \n",
    " plotnine.theme_classic()\n",
    ").draw()\n"
   ]
  },
  {
   "cell_type": "markdown",
   "metadata": {
    "id": "BgrC4o8E9fue"
   },
   "source": [
    "# Heatmap Analysis \n",
    "* The goal here is twofold: \n",
    "1. Density map of generations per gen_num in 2D PCA space\n",
    "    * Maybe make this like 100 by 100\n",
    "2. Heatmap of average senitment per gen_num in 2D PCA space\n",
    "\n",
    "Then, perhaps we can overlay these two figures."
   ]
  },
  {
   "cell_type": "markdown",
   "metadata": {},
   "source": [
    "## Density Map"
   ]
  },
  {
   "cell_type": "code",
   "execution_count": 20,
   "metadata": {},
   "outputs": [
    {
     "data": {
      "text/html": [
       "<div>\n",
       "<style scoped>\n",
       "    .dataframe tbody tr th:only-of-type {\n",
       "        vertical-align: middle;\n",
       "    }\n",
       "\n",
       "    .dataframe tbody tr th {\n",
       "        vertical-align: top;\n",
       "    }\n",
       "\n",
       "    .dataframe thead th {\n",
       "        text-align: right;\n",
       "    }\n",
       "</style>\n",
       "<table border=\"1\" class=\"dataframe\">\n",
       "  <thead>\n",
       "    <tr style=\"text-align: right;\">\n",
       "      <th></th>\n",
       "      <th>Unnamed: 0</th>\n",
       "      <th>vignette_name</th>\n",
       "      <th>generation_number</th>\n",
       "      <th>generation_time</th>\n",
       "      <th>response</th>\n",
       "      <th>reflection_score</th>\n",
       "      <th>id</th>\n",
       "    </tr>\n",
       "  </thead>\n",
       "  <tbody>\n",
       "    <tr>\n",
       "      <th>0</th>\n",
       "      <td>0</td>\n",
       "      <td>scenario4</td>\n",
       "      <td>1</td>\n",
       "      <td>3.668</td>\n",
       "      <td>sleep</td>\n",
       "      <td>1.000000</td>\n",
       "      <td>R_12rsaTqrSH1Qt91</td>\n",
       "    </tr>\n",
       "    <tr>\n",
       "      <th>1</th>\n",
       "      <td>1</td>\n",
       "      <td>scenario4</td>\n",
       "      <td>2</td>\n",
       "      <td>2.471</td>\n",
       "      <td>eat</td>\n",
       "      <td>1.000000</td>\n",
       "      <td>R_12rsaTqrSH1Qt91</td>\n",
       "    </tr>\n",
       "    <tr>\n",
       "      <th>2</th>\n",
       "      <td>2</td>\n",
       "      <td>scenario4</td>\n",
       "      <td>3</td>\n",
       "      <td>2.672</td>\n",
       "      <td>read</td>\n",
       "      <td>1.000000</td>\n",
       "      <td>R_12rsaTqrSH1Qt91</td>\n",
       "    </tr>\n",
       "    <tr>\n",
       "      <th>3</th>\n",
       "      <td>3</td>\n",
       "      <td>scenario4</td>\n",
       "      <td>4</td>\n",
       "      <td>5.778</td>\n",
       "      <td>watch a show</td>\n",
       "      <td>1.000000</td>\n",
       "      <td>R_12rsaTqrSH1Qt91</td>\n",
       "    </tr>\n",
       "    <tr>\n",
       "      <th>4</th>\n",
       "      <td>4</td>\n",
       "      <td>scenario4</td>\n",
       "      <td>5</td>\n",
       "      <td>4.766</td>\n",
       "      <td>talk to someone</td>\n",
       "      <td>1.000000</td>\n",
       "      <td>R_12rsaTqrSH1Qt91</td>\n",
       "    </tr>\n",
       "    <tr>\n",
       "      <th>...</th>\n",
       "      <td>...</td>\n",
       "      <td>...</td>\n",
       "      <td>...</td>\n",
       "      <td>...</td>\n",
       "      <td>...</td>\n",
       "      <td>...</td>\n",
       "      <td>...</td>\n",
       "    </tr>\n",
       "    <tr>\n",
       "      <th>3315</th>\n",
       "      <td>3315</td>\n",
       "      <td>scenario8</td>\n",
       "      <td>4</td>\n",
       "      <td>31.786</td>\n",
       "      <td>Tell a joke.</td>\n",
       "      <td>0.428571</td>\n",
       "      <td>R_xzxlgFF9Ss7DY7n</td>\n",
       "    </tr>\n",
       "    <tr>\n",
       "      <th>3316</th>\n",
       "      <td>3316</td>\n",
       "      <td>scenario8</td>\n",
       "      <td>5</td>\n",
       "      <td>15.107</td>\n",
       "      <td>Push the emergency stop</td>\n",
       "      <td>0.142857</td>\n",
       "      <td>R_xzxlgFF9Ss7DY7n</td>\n",
       "    </tr>\n",
       "    <tr>\n",
       "      <th>3317</th>\n",
       "      <td>3317</td>\n",
       "      <td>scenario8</td>\n",
       "      <td>6</td>\n",
       "      <td>25.589</td>\n",
       "      <td>Take a video for social media showing your \"ne...</td>\n",
       "      <td>0.285714</td>\n",
       "      <td>R_xzxlgFF9Ss7DY7n</td>\n",
       "    </tr>\n",
       "    <tr>\n",
       "      <th>3318</th>\n",
       "      <td>3318</td>\n",
       "      <td>scenario8</td>\n",
       "      <td>7</td>\n",
       "      <td>34.393</td>\n",
       "      <td>Complain that you have to go to work/appointme...</td>\n",
       "      <td>0.428571</td>\n",
       "      <td>R_xzxlgFF9Ss7DY7n</td>\n",
       "    </tr>\n",
       "    <tr>\n",
       "      <th>3319</th>\n",
       "      <td>3319</td>\n",
       "      <td>scenario8</td>\n",
       "      <td>8</td>\n",
       "      <td>128.983</td>\n",
       "      <td>Pass gas, blame in on the person immediately n...</td>\n",
       "      <td>0.142857</td>\n",
       "      <td>R_xzxlgFF9Ss7DY7n</td>\n",
       "    </tr>\n",
       "  </tbody>\n",
       "</table>\n",
       "<p>3320 rows × 7 columns</p>\n",
       "</div>"
      ],
      "text/plain": [
       "      Unnamed: 0 vignette_name  generation_number  generation_time  \\\n",
       "0              0     scenario4                  1            3.668   \n",
       "1              1     scenario4                  2            2.471   \n",
       "2              2     scenario4                  3            2.672   \n",
       "3              3     scenario4                  4            5.778   \n",
       "4              4     scenario4                  5            4.766   \n",
       "...          ...           ...                ...              ...   \n",
       "3315        3315     scenario8                  4           31.786   \n",
       "3316        3316     scenario8                  5           15.107   \n",
       "3317        3317     scenario8                  6           25.589   \n",
       "3318        3318     scenario8                  7           34.393   \n",
       "3319        3319     scenario8                  8          128.983   \n",
       "\n",
       "                                               response  reflection_score  \\\n",
       "0                                                 sleep          1.000000   \n",
       "1                                                   eat          1.000000   \n",
       "2                                                  read          1.000000   \n",
       "3                                          watch a show          1.000000   \n",
       "4                                       talk to someone          1.000000   \n",
       "...                                                 ...               ...   \n",
       "3315                                       Tell a joke.          0.428571   \n",
       "3316                            Push the emergency stop          0.142857   \n",
       "3317  Take a video for social media showing your \"ne...          0.285714   \n",
       "3318  Complain that you have to go to work/appointme...          0.428571   \n",
       "3319  Pass gas, blame in on the person immediately n...          0.142857   \n",
       "\n",
       "                     id  \n",
       "0     R_12rsaTqrSH1Qt91  \n",
       "1     R_12rsaTqrSH1Qt91  \n",
       "2     R_12rsaTqrSH1Qt91  \n",
       "3     R_12rsaTqrSH1Qt91  \n",
       "4     R_12rsaTqrSH1Qt91  \n",
       "...                 ...  \n",
       "3315  R_xzxlgFF9Ss7DY7n  \n",
       "3316  R_xzxlgFF9Ss7DY7n  \n",
       "3317  R_xzxlgFF9Ss7DY7n  \n",
       "3318  R_xzxlgFF9Ss7DY7n  \n",
       "3319  R_xzxlgFF9Ss7DY7n  \n",
       "\n",
       "[3320 rows x 7 columns]"
      ]
     },
     "execution_count": 20,
     "metadata": {},
     "output_type": "execute_result"
    }
   ],
   "source": [
    "generations"
   ]
  },
  {
   "cell_type": "code",
   "execution_count": 21,
   "metadata": {},
   "outputs": [
    {
     "data": {
      "text/plain": [
       "array(['scenario4', 'scenario5', 'scenario6', 'scenario8', 'scenario3',\n",
       "       'scenario7', 'scenario1', 'scenario2'], dtype=object)"
      ]
     },
     "execution_count": 21,
     "metadata": {},
     "output_type": "execute_result"
    }
   ],
   "source": [
    "generations[\"vignette_name\"].unique()"
   ]
  },
  {
   "cell_type": "code",
   "execution_count": 120,
   "metadata": {},
   "outputs": [
    {
     "name": "stderr",
     "output_type": "stream",
     "text": [
      "  0%|                                                                                                                                                                                 | 0/8 [00:00<?, ?it/s]\n",
      "  0%|                                                                                                                                                                               | 0/418 [00:00<?, ?it/s]\u001b[A\n",
      "  4%|██████▎                                                                                                                                                              | 16/418 [00:00<00:02, 135.38it/s]\u001b[A\n",
      " 24%|███████████████████████████████████████▋                                                                                                                            | 101/418 [00:00<00:00, 497.16it/s]\u001b[A\n",
      " 38%|█████████████████████████████████████████████████████████████▌                                                                                                      | 157/418 [00:00<00:00, 523.72it/s]\u001b[A\n",
      " 50%|██████████████████████████████████████████████████████████████████████████████████▊                                                                                 | 211/418 [00:00<00:00, 486.78it/s]\u001b[A\n",
      " 66%|████████████████████████████████████████████████████████████████████████████████████████████████████████████▎                                                       | 276/418 [00:00<00:00, 524.96it/s]\u001b[A\n",
      " 84%|██████████████████████████████████████████████████████████████████████████████████████████████████████████████████████████████████████████                          | 352/418 [00:00<00:00, 582.29it/s]\u001b[A\n",
      "100%|████████████████████████████████████████████████████████████████████████████████████████████████████████████████████████████████████████████████████████████████████| 418/418 [00:00<00:00, 531.57it/s]\u001b[A\n",
      " 12%|█████████████████████▏                                                                                                                                                   | 1/8 [00:00<00:05,  1.26it/s]\n",
      "  0%|                                                                                                                                                                               | 0/418 [00:00<?, ?it/s]\u001b[A\n",
      " 19%|███████████████████████████████▌                                                                                                                                     | 80/418 [00:00<00:00, 721.34it/s]\u001b[A\n",
      " 37%|████████████████████████████████████████████████████████████                                                                                                        | 153/418 [00:00<00:00, 681.95it/s]\u001b[A\n",
      " 53%|███████████████████████████████████████████████████████████████████████████████████████                                                                             | 222/418 [00:00<00:00, 559.35it/s]\u001b[A\n",
      " 71%|████████████████████████████████████████████████████████████████████████████████████████████████████████████████████▉                                               | 298/418 [00:00<00:00, 600.52it/s]\u001b[A\n",
      "100%|████████████████████████████████████████████████████████████████████████████████████████████████████████████████████████████████████████████████████████████████████| 418/418 [00:00<00:00, 596.49it/s]\u001b[A\n",
      " 25%|██████████████████████████████████████████▎                                                                                                                              | 2/8 [00:01<00:04,  1.35it/s]\n",
      "  0%|                                                                                                                                                                               | 0/416 [00:00<?, ?it/s]\u001b[A\n",
      " 19%|███████████████████████████████▋                                                                                                                                     | 80/416 [00:00<00:00, 724.35it/s]\u001b[A\n",
      " 37%|████████████████████████████████████████████████████████████▎                                                                                                       | 153/416 [00:00<00:00, 677.05it/s]\u001b[A/dartfs/rc/nosnapshots/V/VaickusL-nb/EDIT_Students/users/Gokul_Srinivasan/anaconda3/envs/option-generation/lib/python3.7/site-packages/bs4/__init__.py:439: MarkupResemblesLocatorWarning:\n",
      "\n",
      "The input looks more like a filename than markup. You may want to open this file and pass the filehandle into Beautiful Soup.\n",
      "\n",
      "\n",
      " 53%|███████████████████████████████████████████████████████████████████████████████████████▏                                                                            | 221/416 [00:00<00:00, 581.95it/s]\u001b[A\n",
      " 71%|█████████████████████████████████████████████████████████████████████████████████████████████████████████████████████                                               | 297/416 [00:00<00:00, 623.20it/s]\u001b[A\n",
      "100%|████████████████████████████████████████████████████████████████████████████████████████████████████████████████████████████████████████████████████████████████████| 416/416 [00:00<00:00, 625.88it/s]\u001b[A\n",
      " 38%|███████████████████████████████████████████████████████████████▍                                                                                                         | 3/8 [00:02<00:03,  1.41it/s]\n",
      "  0%|                                                                                                                                                                               | 0/418 [00:00<?, ?it/s]\u001b[A\n",
      " 19%|███████████████████████████████▌                                                                                                                                     | 80/418 [00:00<00:00, 751.26it/s]\u001b[A\n",
      " 37%|█████████████████████████████████████████████████████████████▏                                                                                                      | 156/418 [00:00<00:00, 720.94it/s]\u001b[A\n",
      " 55%|█████████████████████████████████████████████████████████████████████████████████████████▊                                                                          | 229/418 [00:00<00:00, 545.55it/s]\u001b[A\n",
      " 73%|████████████████████████████████████████████████████████████████████████████████████████████████████████████████████████                                            | 306/418 [00:00<00:00, 599.92it/s]\u001b[A\n",
      "100%|████████████████████████████████████████████████████████████████████████████████████████████████████████████████████████████████████████████████████████████████████| 418/418 [00:00<00:00, 617.20it/s]\u001b[A\n",
      " 50%|████████████████████████████████████████████████████████████████████████████████████▌                                                                                    | 4/8 [00:02<00:02,  1.43it/s]\n",
      "  0%|                                                                                                                                                                               | 0/417 [00:00<?, ?it/s]\u001b[A\n",
      " 19%|███████████████████████████████▋                                                                                                                                     | 80/417 [00:00<00:00, 752.58it/s]\u001b[A\n",
      " 37%|█████████████████████████████████████████████████████████████▎                                                                                                      | 156/417 [00:00<00:00, 719.02it/s]\u001b[A\n",
      " 55%|█████████████████████████████████████████████████████████████████████████████████████████▋                                                                          | 228/417 [00:00<00:00, 541.79it/s]\u001b[A\n",
      " 73%|███████████████████████████████████████████████████████████████████████████████████████████████████████████████████████▉                                            | 305/417 [00:00<00:00, 596.78it/s]\u001b[A\n",
      "100%|████████████████████████████████████████████████████████████████████████████████████████████████████████████████████████████████████████████████████████████████████| 417/417 [00:00<00:00, 615.59it/s]\u001b[A\n"
     ]
    },
    {
     "name": "stderr",
     "output_type": "stream",
     "text": [
      " 62%|█████████████████████████████████████████████████████████████████████████████████████████████████████████▋                                                               | 5/8 [00:03<00:02,  1.44it/s]\n",
      "  0%|                                                                                                                                                                               | 0/411 [00:00<?, ?it/s]\u001b[A\n",
      " 19%|██████████████████████████████▉                                                                                                                                      | 77/411 [00:00<00:00, 720.55it/s]\u001b[A\n",
      " 36%|███████████████████████████████████████████████████████████▊                                                                                                        | 150/411 [00:00<00:00, 687.79it/s]\u001b[A\n",
      " 53%|███████████████████████████████████████████████████████████████████████████████████████▍                                                                            | 219/411 [00:00<00:00, 566.00it/s]\u001b[A\n",
      " 71%|████████████████████████████████████████████████████████████████████████████████████████████████████████████████████▉                                               | 293/411 [00:00<00:00, 606.44it/s]\u001b[A\n",
      "100%|████████████████████████████████████████████████████████████████████████████████████████████████████████████████████████████████████████████████████████████████████| 411/411 [00:00<00:00, 616.19it/s]\u001b[A\n",
      " 75%|██████████████████████████████████████████████████████████████████████████████████████████████████████████████████████████████▊                                          | 6/8 [00:04<00:01,  1.46it/s]\n",
      "  0%|                                                                                                                                                                               | 0/411 [00:00<?, ?it/s]\u001b[A\n",
      " 19%|██████████████████████████████▉                                                                                                                                      | 77/411 [00:00<00:00, 713.17it/s]\u001b[A\n",
      " 36%|███████████████████████████████████████████████████████████▍                                                                                                        | 149/411 [00:00<00:00, 684.21it/s]\u001b[A\n",
      " 53%|██████████████████████████████████████████████████████████████████████████████████████▉                                                                             | 218/411 [00:00<00:00, 592.96it/s]\u001b[A\n",
      " 71%|████████████████████████████████████████████████████████████████████████████████████████████████████████████████████▉                                               | 293/411 [00:00<00:00, 629.85it/s]\u001b[A\n",
      "100%|████████████████████████████████████████████████████████████████████████████████████████████████████████████████████████████████████████████████████████████████████| 411/411 [00:00<00:00, 630.33it/s]\u001b[A\n",
      " 88%|███████████████████████████████████████████████████████████████████████████████████████████████████████████████████████████████████████████████████▉                     | 7/8 [00:04<00:00,  1.48it/s]\n",
      "  0%|                                                                                                                                                                               | 0/411 [00:00<?, ?it/s]\u001b[A\n",
      " 19%|██████████████████████████████▉                                                                                                                                      | 77/411 [00:00<00:00, 726.88it/s]\u001b[A\n",
      " 36%|███████████████████████████████████████████████████████████▊                                                                                                        | 150/411 [00:00<00:00, 692.01it/s]\u001b[A\n",
      " 54%|███████████████████████████████████████████████████████████████████████████████████████▊                                                                            | 220/411 [00:00<00:00, 574.38it/s]\u001b[A\n",
      " 72%|██████████████████████████████████████████████████████████████████████████████████████████████████████████████████████                                              | 296/411 [00:00<00:00, 619.48it/s]\u001b[A\n",
      "100%|████████████████████████████████████████████████████████████████████████████████████████████████████████████████████████████████████████████████████████████████████| 411/411 [00:00<00:00, 619.49it/s]\u001b[A\n",
      "100%|█████████████████████████████████████████████████████████████████████████████████████████████████████████████████████████████████████████████████████████████████████████| 8/8 [00:05<00:00,  1.45it/s]\n"
     ]
    }
   ],
   "source": [
    "#start witht just the first generation embeddings\n",
    "names = set(['scenario5'])\n",
    "embeddings = []\n",
    "embed_map = {} #map index in embeddings to the pnum \n",
    "embed_weights = [] #keep the sentiment of embeddings[i]\n",
    "responses = []\n",
    "vigns = []\n",
    "for pnum, group in tqdm(generations.groupby(\"generation_number\")):\n",
    "    for row in tqdm(list(zip(group[\"response\"],group[\"vignette_name\"]))):\n",
    "        response = row[0]\n",
    "        name = row[1]\n",
    "        if not pd.isna(response) and name in names:\n",
    "            embeddings.append(model.encode(response))\n",
    "            responses.append(response)\n",
    "            vigns.append(name)\n",
    "            embed_map[len(embeddings)-1] = pnum\n",
    "            embed_weights.append(predict_sentiment(response))"
   ]
  },
  {
   "cell_type": "code",
   "execution_count": 121,
   "metadata": {},
   "outputs": [
    {
     "data": {
      "text/plain": [
       "394"
      ]
     },
     "execution_count": 121,
     "metadata": {},
     "output_type": "execute_result"
    }
   ],
   "source": [
    "len(embeddings)"
   ]
  },
  {
   "cell_type": "code",
   "execution_count": 122,
   "metadata": {},
   "outputs": [],
   "source": [
    "from sklearn.decomposition import PCA\n",
    "from sklearn.preprocessing import StandardScaler\n",
    "import plotly.express as px\n",
    "import matplotlib.pyplot as plt\n",
    "from scipy.ndimage.filters import gaussian_filter\n",
    "from scipy.stats import binned_statistic_2d\n",
    "from sklearn.manifold import TSNE"
   ]
  },
  {
   "cell_type": "code",
   "execution_count": 123,
   "metadata": {},
   "outputs": [],
   "source": [
    "embeddings = StandardScaler().fit_transform(embeddings)\n",
    "pca = PCA(n_components=2)\n",
    "tsne = TSNE(n_components=2, learning_rate='auto',init='random', perplexity=10)"
   ]
  },
  {
   "cell_type": "code",
   "execution_count": 124,
   "metadata": {},
   "outputs": [],
   "source": [
    "#get all of the embeddings for possibilities 1,2 and 3\n",
    "\n",
    "embed_1 = []\n",
    "embed_1_weights = []\n",
    "embed_1_responses = []\n",
    "for i in range(len(embeddings)):\n",
    "    if embed_map[i] == 1:\n",
    "        embed_1.append(embeddings[i])\n",
    "        embed_1_weights.append(embed_weights[i])\n",
    "        embed_1_responses.append(str(vigns[i] +\": \" +responses[i]))\n",
    "\n",
    "        \n",
    "embed_2 = []\n",
    "embed_2_weights = []\n",
    "embed_2_responses = []\n",
    "for i in range(len(embeddings)):\n",
    "    if embed_map[i] == 2:\n",
    "        embed_2.append(embeddings[i])\n",
    "        embed_2_weights.append(embed_weights[i])\n",
    "        embed_2_responses.append(str(vigns[i] +\": \" +responses[i]))\n",
    "        \n",
    "\n",
    "embed_3 = []\n",
    "embed_3_weights = []\n",
    "embed_3_responses = []\n",
    "for i in range(len(embeddings)):\n",
    "    if embed_map[i] == 3:\n",
    "        embed_3.append(embeddings[i])\n",
    "        embed_3_weights.append(embed_weights[i])\n",
    "        embed_3_responses.append(str(vigns[i] +\": \" +responses[i]))\n",
    "        \n",
    "embed_4 = []\n",
    "embed_4_weights = []\n",
    "embed_4_responses = []\n",
    "for i in range(len(embeddings)):\n",
    "    if embed_map[i] == 4:\n",
    "        embed_4.append(embeddings[i])\n",
    "        embed_4_weights.append(embed_weights[i])\n",
    "        embed_4_responses.append(str(vigns[i] +\": \" +responses[i]))\n",
    "\n",
    "embed_5 = []\n",
    "embed_5_weights = []\n",
    "embed_5_responses = []\n",
    "for i in range(len(embeddings)):\n",
    "    if embed_map[i] == 5:\n",
    "        embed_5.append(embeddings[i])\n",
    "        embed_5_weights.append(embed_weights[i])\n",
    "        embed_5_responses.append(str(vigns[i] +\": \" +responses[i]))\n",
    "\n",
    "embed_6 = []\n",
    "embed_6_weights = []\n",
    "embed_6_responses = []\n",
    "for i in range(len(embeddings)):\n",
    "    if embed_map[i] == 6:\n",
    "        embed_6.append(embeddings[i])\n",
    "        embed_6_weights.append(embed_weights[i])\n",
    "        embed_6_responses.append(str(vigns[i] +\": \" +responses[i]))\n",
    "        \n",
    "embed_7 = []\n",
    "embed_7_weights = []\n",
    "embed_7_responses = []\n",
    "for i in range(len(embeddings)):\n",
    "    if embed_map[i] == 7:\n",
    "        embed_7.append(embeddings[i])\n",
    "        embed_7_weights.append(embed_weights[i])\n",
    "        embed_7_responses.append(str(vigns[i] +\": \" +responses[i]))\n",
    "        \n",
    "embed_8 = []\n",
    "embed_8_weights = []\n",
    "embed_8_responses = []\n",
    "for i in range(len(embeddings)):\n",
    "    if embed_map[i] == 8:\n",
    "        embed_8.append(embeddings[i])\n",
    "        embed_8_weights.append(embed_weights[i])\n",
    "        embed_8_responses.append(str(vigns[i] +\": \" +responses[i]))\n",
    "\n"
   ]
  },
  {
   "cell_type": "code",
   "execution_count": 125,
   "metadata": {},
   "outputs": [
    {
     "name": "stdout",
     "output_type": "stream",
     "text": [
      "50 49\n"
     ]
    }
   ],
   "source": [
    "print(len(embed_1), len(embed_8))"
   ]
  },
  {
   "cell_type": "code",
   "execution_count": 126,
   "metadata": {},
   "outputs": [],
   "source": [
    "bin_size = 20"
   ]
  },
  {
   "cell_type": "code",
   "execution_count": 127,
   "metadata": {},
   "outputs": [
    {
     "data": {
      "application/vnd.plotly.v1+json": {
       "config": {
        "plotlyServerURL": "https://plot.ly"
       },
       "data": [
        {
         "hovertemplate": "<b>%{hovertext}</b><br><br>pc1=%{x}<br>pc2=%{y}<extra></extra>",
         "hovertext": [
          "scenario5: have a snack",
          "scenario5: Check my phone.",
          "scenario5: have a snack",
          "scenario5: Check my phone.",
          "scenario5: I could stop off and get donuts for the meeting. ",
          "scenario5: Get a snack ",
          "scenario5: check my email",
          "scenario5: chat with a friend",
          "scenario5: make calls",
          "scenario5: gather materials for the meeting",
          "scenario5: Grab a drink",
          "scenario5: grab a coffee",
          "scenario5: Grab something to drink during the meeting",
          "scenario5: I could put a mint in my mouth.",
          "scenario5: read some emails",
          "scenario5: discuss",
          "scenario5: Get a drink.",
          "scenario5: talk to people",
          "scenario5: Think through what I want to say in the meeting.  Try to map it out in my brain",
          "scenario5: I brainstormed some ideas.",
          "scenario5: prepare, take notes",
          "scenario5: I would try to rehearse the meeting in my head, imagining how it will be organized (how to begin, what to bring up, and how to close the meeting). By doing this I would be prepping myself, as well as organizing my own thoughts and intentions for the meeting.",
          "scenario5: Stop in the bathroom to use the facilities.",
          "scenario5: On my way to the meeting, I would stop by the restroom.",
          "scenario5: Check my phone.",
          "scenario5: practice my presentation",
          "scenario5: drink water",
          "scenario5: Catch up with someone ",
          "scenario5: talk to my coworkers",
          "scenario5: Go over the main points of what I want to accomplish ",
          "scenario5: make a phone call",
          "scenario5: I could pull together my notes and make sure I'm prepared.",
          "scenario5: Go through my notes for the meeting.",
          "scenario5: Think about what I will say.",
          "scenario5: Think",
          "scenario5: rehearse what you'll say",
          "scenario5: Review my notes and make sure everything is in order.",
          "scenario5: Check my calendar.",
          "scenario5: I could get a cup of coffee.",
          "scenario5: Go to the bathroom",
          "scenario5: check email on my phone",
          "scenario5: Review notes",
          "scenario5: I could think of things I want to accomplish at the meeting. ",
          "scenario5: rehearse your thoughts for the meeting",
          "scenario5: brainstorm ideas",
          "scenario5: Check my makeup",
          "scenario5: grab a diet coke",
          "scenario5: Go to the bathroom",
          "scenario5: check the time",
          "scenario5: I could rehearse the presentation in my head as I'm walking to the meeting"
         ],
         "legendgroup": "",
         "marker": {
          "color": "#636efa",
          "opacity": 0.4,
          "symbol": "circle"
         },
         "mode": "markers",
         "name": "",
         "orientation": "v",
         "showlegend": false,
         "type": "scatter",
         "x": [
          12.054620726218749,
          4.6781057469457155,
          12.054620726218753,
          4.678105746945719,
          0.4362396111271936,
          12.728770423238755,
          0.14305635822659712,
          -1.8535515338276258,
          -3.539882000550398,
          -8.557996587124338,
          12.882934490677368,
          12.860784560287884,
          3.3032902888599103,
          7.077678631828019,
          -1.786132231800669,
          -7.171691399079109,
          10.037295802040777,
          -4.459200626436925,
          -6.55385595385613,
          -6.35282272986524,
          -2.1398783860067527,
          -8.654218908073979,
          2.041522766655567,
          -0.704260545386829,
          4.678105746945717,
          -8.311446019004219,
          8.749073495924044,
          -1.081325391882324,
          -5.872892929873043,
          -5.115953164608256,
          0.39483767798593816,
          -3.539942117414509,
          -5.25640346326852,
          -4.180827991620857,
          -2.9429215757562788,
          -9.756078556954288,
          -3.4663099607409236,
          -0.5948516744595533,
          8.879269567136852,
          2.9009623244046097,
          1.112188845560828,
          -2.387115596660107,
          -7.04492474275007,
          -10.847550621937085,
          -9.391904713753876,
          2.1471882161046354,
          13.366718885649748,
          2.9009623244046097,
          0.36644653808968286,
          -8.908840078785767
         ],
         "xaxis": "x",
         "y": [
          -4.861335767731511,
          16.618450381880628,
          -4.861335767731505,
          16.61845038188064,
          -2.068416407951305,
          -4.264716832825037,
          13.909304880049737,
          -2.491707507669578,
          1.4993984818077992,
          -4.768846186201625,
          -6.878600869740055,
          -5.695942343578997,
          -7.385239074327546,
          -4.475478679755992,
          7.349463256331985,
          -5.918308477057572,
          -6.344982790083782,
          -3.999147702924054,
          -1.8681293296755763,
          -3.754778948777758,
          1.3468511813845145,
          -1.9387751924578671,
          -3.0044331076481594,
          -1.904828709809284,
          16.618450381880642,
          -2.195602151424459,
          -7.191062663846117,
          -1.3761684467598823,
          -1.7929042683357166,
          -2.0719923217022367,
          5.094443223759164,
          1.983332077217002,
          1.6125553001109574,
          -2.6767083581772146,
          -2.197057497527659,
          -3.6052476301810175,
          3.6018972245321943,
          10.365818091590155,
          -5.138269779496358,
          -3.965478452442267,
          15.697948951426298,
          0.17573952678324364,
          -3.632299950995465,
          -3.146380997757839,
          -6.39154782937051,
          8.630334378384095,
          -1.3419855723861147,
          -3.965478452442267,
          7.852911702791229,
          -1.8021613530179743
         ],
         "yaxis": "y"
        }
       ],
       "layout": {
        "legend": {
         "tracegroupgap": 0
        },
        "margin": {
         "t": 60
        },
        "template": {
         "data": {
          "bar": [
           {
            "error_x": {
             "color": "#2a3f5f"
            },
            "error_y": {
             "color": "#2a3f5f"
            },
            "marker": {
             "line": {
              "color": "#E5ECF6",
              "width": 0.5
             },
             "pattern": {
              "fillmode": "overlay",
              "size": 10,
              "solidity": 0.2
             }
            },
            "type": "bar"
           }
          ],
          "barpolar": [
           {
            "marker": {
             "line": {
              "color": "#E5ECF6",
              "width": 0.5
             },
             "pattern": {
              "fillmode": "overlay",
              "size": 10,
              "solidity": 0.2
             }
            },
            "type": "barpolar"
           }
          ],
          "carpet": [
           {
            "aaxis": {
             "endlinecolor": "#2a3f5f",
             "gridcolor": "white",
             "linecolor": "white",
             "minorgridcolor": "white",
             "startlinecolor": "#2a3f5f"
            },
            "baxis": {
             "endlinecolor": "#2a3f5f",
             "gridcolor": "white",
             "linecolor": "white",
             "minorgridcolor": "white",
             "startlinecolor": "#2a3f5f"
            },
            "type": "carpet"
           }
          ],
          "choropleth": [
           {
            "colorbar": {
             "outlinewidth": 0,
             "ticks": ""
            },
            "type": "choropleth"
           }
          ],
          "contour": [
           {
            "colorbar": {
             "outlinewidth": 0,
             "ticks": ""
            },
            "colorscale": [
             [
              0,
              "#0d0887"
             ],
             [
              0.1111111111111111,
              "#46039f"
             ],
             [
              0.2222222222222222,
              "#7201a8"
             ],
             [
              0.3333333333333333,
              "#9c179e"
             ],
             [
              0.4444444444444444,
              "#bd3786"
             ],
             [
              0.5555555555555556,
              "#d8576b"
             ],
             [
              0.6666666666666666,
              "#ed7953"
             ],
             [
              0.7777777777777778,
              "#fb9f3a"
             ],
             [
              0.8888888888888888,
              "#fdca26"
             ],
             [
              1,
              "#f0f921"
             ]
            ],
            "type": "contour"
           }
          ],
          "contourcarpet": [
           {
            "colorbar": {
             "outlinewidth": 0,
             "ticks": ""
            },
            "type": "contourcarpet"
           }
          ],
          "heatmap": [
           {
            "colorbar": {
             "outlinewidth": 0,
             "ticks": ""
            },
            "colorscale": [
             [
              0,
              "#0d0887"
             ],
             [
              0.1111111111111111,
              "#46039f"
             ],
             [
              0.2222222222222222,
              "#7201a8"
             ],
             [
              0.3333333333333333,
              "#9c179e"
             ],
             [
              0.4444444444444444,
              "#bd3786"
             ],
             [
              0.5555555555555556,
              "#d8576b"
             ],
             [
              0.6666666666666666,
              "#ed7953"
             ],
             [
              0.7777777777777778,
              "#fb9f3a"
             ],
             [
              0.8888888888888888,
              "#fdca26"
             ],
             [
              1,
              "#f0f921"
             ]
            ],
            "type": "heatmap"
           }
          ],
          "heatmapgl": [
           {
            "colorbar": {
             "outlinewidth": 0,
             "ticks": ""
            },
            "colorscale": [
             [
              0,
              "#0d0887"
             ],
             [
              0.1111111111111111,
              "#46039f"
             ],
             [
              0.2222222222222222,
              "#7201a8"
             ],
             [
              0.3333333333333333,
              "#9c179e"
             ],
             [
              0.4444444444444444,
              "#bd3786"
             ],
             [
              0.5555555555555556,
              "#d8576b"
             ],
             [
              0.6666666666666666,
              "#ed7953"
             ],
             [
              0.7777777777777778,
              "#fb9f3a"
             ],
             [
              0.8888888888888888,
              "#fdca26"
             ],
             [
              1,
              "#f0f921"
             ]
            ],
            "type": "heatmapgl"
           }
          ],
          "histogram": [
           {
            "marker": {
             "pattern": {
              "fillmode": "overlay",
              "size": 10,
              "solidity": 0.2
             }
            },
            "type": "histogram"
           }
          ],
          "histogram2d": [
           {
            "colorbar": {
             "outlinewidth": 0,
             "ticks": ""
            },
            "colorscale": [
             [
              0,
              "#0d0887"
             ],
             [
              0.1111111111111111,
              "#46039f"
             ],
             [
              0.2222222222222222,
              "#7201a8"
             ],
             [
              0.3333333333333333,
              "#9c179e"
             ],
             [
              0.4444444444444444,
              "#bd3786"
             ],
             [
              0.5555555555555556,
              "#d8576b"
             ],
             [
              0.6666666666666666,
              "#ed7953"
             ],
             [
              0.7777777777777778,
              "#fb9f3a"
             ],
             [
              0.8888888888888888,
              "#fdca26"
             ],
             [
              1,
              "#f0f921"
             ]
            ],
            "type": "histogram2d"
           }
          ],
          "histogram2dcontour": [
           {
            "colorbar": {
             "outlinewidth": 0,
             "ticks": ""
            },
            "colorscale": [
             [
              0,
              "#0d0887"
             ],
             [
              0.1111111111111111,
              "#46039f"
             ],
             [
              0.2222222222222222,
              "#7201a8"
             ],
             [
              0.3333333333333333,
              "#9c179e"
             ],
             [
              0.4444444444444444,
              "#bd3786"
             ],
             [
              0.5555555555555556,
              "#d8576b"
             ],
             [
              0.6666666666666666,
              "#ed7953"
             ],
             [
              0.7777777777777778,
              "#fb9f3a"
             ],
             [
              0.8888888888888888,
              "#fdca26"
             ],
             [
              1,
              "#f0f921"
             ]
            ],
            "type": "histogram2dcontour"
           }
          ],
          "mesh3d": [
           {
            "colorbar": {
             "outlinewidth": 0,
             "ticks": ""
            },
            "type": "mesh3d"
           }
          ],
          "parcoords": [
           {
            "line": {
             "colorbar": {
              "outlinewidth": 0,
              "ticks": ""
             }
            },
            "type": "parcoords"
           }
          ],
          "pie": [
           {
            "automargin": true,
            "type": "pie"
           }
          ],
          "scatter": [
           {
            "fillpattern": {
             "fillmode": "overlay",
             "size": 10,
             "solidity": 0.2
            },
            "type": "scatter"
           }
          ],
          "scatter3d": [
           {
            "line": {
             "colorbar": {
              "outlinewidth": 0,
              "ticks": ""
             }
            },
            "marker": {
             "colorbar": {
              "outlinewidth": 0,
              "ticks": ""
             }
            },
            "type": "scatter3d"
           }
          ],
          "scattercarpet": [
           {
            "marker": {
             "colorbar": {
              "outlinewidth": 0,
              "ticks": ""
             }
            },
            "type": "scattercarpet"
           }
          ],
          "scattergeo": [
           {
            "marker": {
             "colorbar": {
              "outlinewidth": 0,
              "ticks": ""
             }
            },
            "type": "scattergeo"
           }
          ],
          "scattergl": [
           {
            "marker": {
             "colorbar": {
              "outlinewidth": 0,
              "ticks": ""
             }
            },
            "type": "scattergl"
           }
          ],
          "scattermapbox": [
           {
            "marker": {
             "colorbar": {
              "outlinewidth": 0,
              "ticks": ""
             }
            },
            "type": "scattermapbox"
           }
          ],
          "scatterpolar": [
           {
            "marker": {
             "colorbar": {
              "outlinewidth": 0,
              "ticks": ""
             }
            },
            "type": "scatterpolar"
           }
          ],
          "scatterpolargl": [
           {
            "marker": {
             "colorbar": {
              "outlinewidth": 0,
              "ticks": ""
             }
            },
            "type": "scatterpolargl"
           }
          ],
          "scatterternary": [
           {
            "marker": {
             "colorbar": {
              "outlinewidth": 0,
              "ticks": ""
             }
            },
            "type": "scatterternary"
           }
          ],
          "surface": [
           {
            "colorbar": {
             "outlinewidth": 0,
             "ticks": ""
            },
            "colorscale": [
             [
              0,
              "#0d0887"
             ],
             [
              0.1111111111111111,
              "#46039f"
             ],
             [
              0.2222222222222222,
              "#7201a8"
             ],
             [
              0.3333333333333333,
              "#9c179e"
             ],
             [
              0.4444444444444444,
              "#bd3786"
             ],
             [
              0.5555555555555556,
              "#d8576b"
             ],
             [
              0.6666666666666666,
              "#ed7953"
             ],
             [
              0.7777777777777778,
              "#fb9f3a"
             ],
             [
              0.8888888888888888,
              "#fdca26"
             ],
             [
              1,
              "#f0f921"
             ]
            ],
            "type": "surface"
           }
          ],
          "table": [
           {
            "cells": {
             "fill": {
              "color": "#EBF0F8"
             },
             "line": {
              "color": "white"
             }
            },
            "header": {
             "fill": {
              "color": "#C8D4E3"
             },
             "line": {
              "color": "white"
             }
            },
            "type": "table"
           }
          ]
         },
         "layout": {
          "annotationdefaults": {
           "arrowcolor": "#2a3f5f",
           "arrowhead": 0,
           "arrowwidth": 1
          },
          "autotypenumbers": "strict",
          "coloraxis": {
           "colorbar": {
            "outlinewidth": 0,
            "ticks": ""
           }
          },
          "colorscale": {
           "diverging": [
            [
             0,
             "#8e0152"
            ],
            [
             0.1,
             "#c51b7d"
            ],
            [
             0.2,
             "#de77ae"
            ],
            [
             0.3,
             "#f1b6da"
            ],
            [
             0.4,
             "#fde0ef"
            ],
            [
             0.5,
             "#f7f7f7"
            ],
            [
             0.6,
             "#e6f5d0"
            ],
            [
             0.7,
             "#b8e186"
            ],
            [
             0.8,
             "#7fbc41"
            ],
            [
             0.9,
             "#4d9221"
            ],
            [
             1,
             "#276419"
            ]
           ],
           "sequential": [
            [
             0,
             "#0d0887"
            ],
            [
             0.1111111111111111,
             "#46039f"
            ],
            [
             0.2222222222222222,
             "#7201a8"
            ],
            [
             0.3333333333333333,
             "#9c179e"
            ],
            [
             0.4444444444444444,
             "#bd3786"
            ],
            [
             0.5555555555555556,
             "#d8576b"
            ],
            [
             0.6666666666666666,
             "#ed7953"
            ],
            [
             0.7777777777777778,
             "#fb9f3a"
            ],
            [
             0.8888888888888888,
             "#fdca26"
            ],
            [
             1,
             "#f0f921"
            ]
           ],
           "sequentialminus": [
            [
             0,
             "#0d0887"
            ],
            [
             0.1111111111111111,
             "#46039f"
            ],
            [
             0.2222222222222222,
             "#7201a8"
            ],
            [
             0.3333333333333333,
             "#9c179e"
            ],
            [
             0.4444444444444444,
             "#bd3786"
            ],
            [
             0.5555555555555556,
             "#d8576b"
            ],
            [
             0.6666666666666666,
             "#ed7953"
            ],
            [
             0.7777777777777778,
             "#fb9f3a"
            ],
            [
             0.8888888888888888,
             "#fdca26"
            ],
            [
             1,
             "#f0f921"
            ]
           ]
          },
          "colorway": [
           "#636efa",
           "#EF553B",
           "#00cc96",
           "#ab63fa",
           "#FFA15A",
           "#19d3f3",
           "#FF6692",
           "#B6E880",
           "#FF97FF",
           "#FECB52"
          ],
          "font": {
           "color": "#2a3f5f"
          },
          "geo": {
           "bgcolor": "white",
           "lakecolor": "white",
           "landcolor": "#E5ECF6",
           "showlakes": true,
           "showland": true,
           "subunitcolor": "white"
          },
          "hoverlabel": {
           "align": "left"
          },
          "hovermode": "closest",
          "mapbox": {
           "style": "light"
          },
          "paper_bgcolor": "white",
          "plot_bgcolor": "#E5ECF6",
          "polar": {
           "angularaxis": {
            "gridcolor": "white",
            "linecolor": "white",
            "ticks": ""
           },
           "bgcolor": "#E5ECF6",
           "radialaxis": {
            "gridcolor": "white",
            "linecolor": "white",
            "ticks": ""
           }
          },
          "scene": {
           "xaxis": {
            "backgroundcolor": "#E5ECF6",
            "gridcolor": "white",
            "gridwidth": 2,
            "linecolor": "white",
            "showbackground": true,
            "ticks": "",
            "zerolinecolor": "white"
           },
           "yaxis": {
            "backgroundcolor": "#E5ECF6",
            "gridcolor": "white",
            "gridwidth": 2,
            "linecolor": "white",
            "showbackground": true,
            "ticks": "",
            "zerolinecolor": "white"
           },
           "zaxis": {
            "backgroundcolor": "#E5ECF6",
            "gridcolor": "white",
            "gridwidth": 2,
            "linecolor": "white",
            "showbackground": true,
            "ticks": "",
            "zerolinecolor": "white"
           }
          },
          "shapedefaults": {
           "line": {
            "color": "#2a3f5f"
           }
          },
          "ternary": {
           "aaxis": {
            "gridcolor": "white",
            "linecolor": "white",
            "ticks": ""
           },
           "baxis": {
            "gridcolor": "white",
            "linecolor": "white",
            "ticks": ""
           },
           "bgcolor": "#E5ECF6",
           "caxis": {
            "gridcolor": "white",
            "linecolor": "white",
            "ticks": ""
           }
          },
          "title": {
           "x": 0.05
          },
          "xaxis": {
           "automargin": true,
           "gridcolor": "white",
           "linecolor": "white",
           "ticks": "",
           "title": {
            "standoff": 15
           },
           "zerolinecolor": "white",
           "zerolinewidth": 2
          },
          "yaxis": {
           "automargin": true,
           "gridcolor": "white",
           "linecolor": "white",
           "ticks": "",
           "title": {
            "standoff": 15
           },
           "zerolinecolor": "white",
           "zerolinewidth": 2
          }
         }
        },
        "xaxis": {
         "anchor": "y",
         "domain": [
          0,
          1
         ],
         "title": {
          "text": "pc1"
         }
        },
        "yaxis": {
         "anchor": "x",
         "domain": [
          0,
          1
         ],
         "title": {
          "text": "pc2"
         }
        }
       }
      },
      "text/html": [
       "<div>                            <div id=\"0b2c230c-9fc7-4a99-9991-45f863a16752\" class=\"plotly-graph-div\" style=\"height:525px; width:100%;\"></div>            <script type=\"text/javascript\">                require([\"plotly\"], function(Plotly) {                    window.PLOTLYENV=window.PLOTLYENV || {};                                    if (document.getElementById(\"0b2c230c-9fc7-4a99-9991-45f863a16752\")) {                    Plotly.newPlot(                        \"0b2c230c-9fc7-4a99-9991-45f863a16752\",                        [{\"hovertemplate\":\"<b>%{hovertext}</b><br><br>pc1=%{x}<br>pc2=%{y}<extra></extra>\",\"hovertext\":[\"scenario5: have a snack\",\"scenario5: Check my phone.\",\"scenario5: have a snack\",\"scenario5: Check my phone.\",\"scenario5: I could stop off and get donuts for the meeting. \",\"scenario5: Get a snack \",\"scenario5: check my email\",\"scenario5: chat with a friend\",\"scenario5: make calls\",\"scenario5: gather materials for the meeting\",\"scenario5: Grab a drink\",\"scenario5: grab a coffee\",\"scenario5: Grab something to drink during the meeting\",\"scenario5: I could put a mint in my mouth.\",\"scenario5: read some emails\",\"scenario5: discuss\",\"scenario5: Get a drink.\",\"scenario5: talk to people\",\"scenario5: Think through what I want to say in the meeting.  Try to map it out in my brain\",\"scenario5: I brainstormed some ideas.\",\"scenario5: prepare, take notes\",\"scenario5: I would try to rehearse the meeting in my head, imagining how it will be organized (how to begin, what to bring up, and how to close the meeting). By doing this I would be prepping myself, as well as organizing my own thoughts and intentions for the meeting.\",\"scenario5: Stop in the bathroom to use the facilities.\",\"scenario5: On my way to the meeting, I would stop by the restroom.\",\"scenario5: Check my phone.\",\"scenario5: practice my presentation\",\"scenario5: drink water\",\"scenario5: Catch up with someone \",\"scenario5: talk to my coworkers\",\"scenario5: Go over the main points of what I want to accomplish \",\"scenario5: make a phone call\",\"scenario5: I could pull together my notes and make sure I'm prepared.\",\"scenario5: Go through my notes for the meeting.\",\"scenario5: Think about what I will say.\",\"scenario5: Think\",\"scenario5: rehearse what you'll say\",\"scenario5: Review my notes and make sure everything is in order.\",\"scenario5: Check my calendar.\",\"scenario5: I could get a cup of coffee.\",\"scenario5: Go to the bathroom\",\"scenario5: check email on my phone\",\"scenario5: Review notes\",\"scenario5: I could think of things I want to accomplish at the meeting. \",\"scenario5: rehearse your thoughts for the meeting\",\"scenario5: brainstorm ideas\",\"scenario5: Check my makeup\",\"scenario5: grab a diet coke\",\"scenario5: Go to the bathroom\",\"scenario5: check the time\",\"scenario5: I could rehearse the presentation in my head as I'm walking to the meeting\"],\"legendgroup\":\"\",\"marker\":{\"color\":\"#636efa\",\"opacity\":0.4,\"symbol\":\"circle\"},\"mode\":\"markers\",\"name\":\"\",\"orientation\":\"v\",\"showlegend\":false,\"x\":[12.054620726218749,4.6781057469457155,12.054620726218753,4.678105746945719,0.4362396111271936,12.728770423238755,0.14305635822659712,-1.8535515338276258,-3.539882000550398,-8.557996587124338,12.882934490677368,12.860784560287884,3.3032902888599103,7.077678631828019,-1.786132231800669,-7.171691399079109,10.037295802040777,-4.459200626436925,-6.55385595385613,-6.35282272986524,-2.1398783860067527,-8.654218908073979,2.041522766655567,-0.704260545386829,4.678105746945717,-8.311446019004219,8.749073495924044,-1.081325391882324,-5.872892929873043,-5.115953164608256,0.39483767798593816,-3.539942117414509,-5.25640346326852,-4.180827991620857,-2.9429215757562788,-9.756078556954288,-3.4663099607409236,-0.5948516744595533,8.879269567136852,2.9009623244046097,1.112188845560828,-2.387115596660107,-7.04492474275007,-10.847550621937085,-9.391904713753876,2.1471882161046354,13.366718885649748,2.9009623244046097,0.36644653808968286,-8.908840078785767],\"xaxis\":\"x\",\"y\":[-4.861335767731511,16.618450381880628,-4.861335767731505,16.61845038188064,-2.068416407951305,-4.264716832825037,13.909304880049737,-2.491707507669578,1.4993984818077992,-4.768846186201625,-6.878600869740055,-5.695942343578997,-7.385239074327546,-4.475478679755992,7.349463256331985,-5.918308477057572,-6.344982790083782,-3.999147702924054,-1.8681293296755763,-3.754778948777758,1.3468511813845145,-1.9387751924578671,-3.0044331076481594,-1.904828709809284,16.618450381880642,-2.195602151424459,-7.191062663846117,-1.3761684467598823,-1.7929042683357166,-2.0719923217022367,5.094443223759164,1.983332077217002,1.6125553001109574,-2.6767083581772146,-2.197057497527659,-3.6052476301810175,3.6018972245321943,10.365818091590155,-5.138269779496358,-3.965478452442267,15.697948951426298,0.17573952678324364,-3.632299950995465,-3.146380997757839,-6.39154782937051,8.630334378384095,-1.3419855723861147,-3.965478452442267,7.852911702791229,-1.8021613530179743],\"yaxis\":\"y\",\"type\":\"scatter\"}],                        {\"template\":{\"data\":{\"histogram2dcontour\":[{\"type\":\"histogram2dcontour\",\"colorbar\":{\"outlinewidth\":0,\"ticks\":\"\"},\"colorscale\":[[0.0,\"#0d0887\"],[0.1111111111111111,\"#46039f\"],[0.2222222222222222,\"#7201a8\"],[0.3333333333333333,\"#9c179e\"],[0.4444444444444444,\"#bd3786\"],[0.5555555555555556,\"#d8576b\"],[0.6666666666666666,\"#ed7953\"],[0.7777777777777778,\"#fb9f3a\"],[0.8888888888888888,\"#fdca26\"],[1.0,\"#f0f921\"]]}],\"choropleth\":[{\"type\":\"choropleth\",\"colorbar\":{\"outlinewidth\":0,\"ticks\":\"\"}}],\"histogram2d\":[{\"type\":\"histogram2d\",\"colorbar\":{\"outlinewidth\":0,\"ticks\":\"\"},\"colorscale\":[[0.0,\"#0d0887\"],[0.1111111111111111,\"#46039f\"],[0.2222222222222222,\"#7201a8\"],[0.3333333333333333,\"#9c179e\"],[0.4444444444444444,\"#bd3786\"],[0.5555555555555556,\"#d8576b\"],[0.6666666666666666,\"#ed7953\"],[0.7777777777777778,\"#fb9f3a\"],[0.8888888888888888,\"#fdca26\"],[1.0,\"#f0f921\"]]}],\"heatmap\":[{\"type\":\"heatmap\",\"colorbar\":{\"outlinewidth\":0,\"ticks\":\"\"},\"colorscale\":[[0.0,\"#0d0887\"],[0.1111111111111111,\"#46039f\"],[0.2222222222222222,\"#7201a8\"],[0.3333333333333333,\"#9c179e\"],[0.4444444444444444,\"#bd3786\"],[0.5555555555555556,\"#d8576b\"],[0.6666666666666666,\"#ed7953\"],[0.7777777777777778,\"#fb9f3a\"],[0.8888888888888888,\"#fdca26\"],[1.0,\"#f0f921\"]]}],\"heatmapgl\":[{\"type\":\"heatmapgl\",\"colorbar\":{\"outlinewidth\":0,\"ticks\":\"\"},\"colorscale\":[[0.0,\"#0d0887\"],[0.1111111111111111,\"#46039f\"],[0.2222222222222222,\"#7201a8\"],[0.3333333333333333,\"#9c179e\"],[0.4444444444444444,\"#bd3786\"],[0.5555555555555556,\"#d8576b\"],[0.6666666666666666,\"#ed7953\"],[0.7777777777777778,\"#fb9f3a\"],[0.8888888888888888,\"#fdca26\"],[1.0,\"#f0f921\"]]}],\"contourcarpet\":[{\"type\":\"contourcarpet\",\"colorbar\":{\"outlinewidth\":0,\"ticks\":\"\"}}],\"contour\":[{\"type\":\"contour\",\"colorbar\":{\"outlinewidth\":0,\"ticks\":\"\"},\"colorscale\":[[0.0,\"#0d0887\"],[0.1111111111111111,\"#46039f\"],[0.2222222222222222,\"#7201a8\"],[0.3333333333333333,\"#9c179e\"],[0.4444444444444444,\"#bd3786\"],[0.5555555555555556,\"#d8576b\"],[0.6666666666666666,\"#ed7953\"],[0.7777777777777778,\"#fb9f3a\"],[0.8888888888888888,\"#fdca26\"],[1.0,\"#f0f921\"]]}],\"surface\":[{\"type\":\"surface\",\"colorbar\":{\"outlinewidth\":0,\"ticks\":\"\"},\"colorscale\":[[0.0,\"#0d0887\"],[0.1111111111111111,\"#46039f\"],[0.2222222222222222,\"#7201a8\"],[0.3333333333333333,\"#9c179e\"],[0.4444444444444444,\"#bd3786\"],[0.5555555555555556,\"#d8576b\"],[0.6666666666666666,\"#ed7953\"],[0.7777777777777778,\"#fb9f3a\"],[0.8888888888888888,\"#fdca26\"],[1.0,\"#f0f921\"]]}],\"mesh3d\":[{\"type\":\"mesh3d\",\"colorbar\":{\"outlinewidth\":0,\"ticks\":\"\"}}],\"scatter\":[{\"fillpattern\":{\"fillmode\":\"overlay\",\"size\":10,\"solidity\":0.2},\"type\":\"scatter\"}],\"parcoords\":[{\"type\":\"parcoords\",\"line\":{\"colorbar\":{\"outlinewidth\":0,\"ticks\":\"\"}}}],\"scatterpolargl\":[{\"type\":\"scatterpolargl\",\"marker\":{\"colorbar\":{\"outlinewidth\":0,\"ticks\":\"\"}}}],\"bar\":[{\"error_x\":{\"color\":\"#2a3f5f\"},\"error_y\":{\"color\":\"#2a3f5f\"},\"marker\":{\"line\":{\"color\":\"#E5ECF6\",\"width\":0.5},\"pattern\":{\"fillmode\":\"overlay\",\"size\":10,\"solidity\":0.2}},\"type\":\"bar\"}],\"scattergeo\":[{\"type\":\"scattergeo\",\"marker\":{\"colorbar\":{\"outlinewidth\":0,\"ticks\":\"\"}}}],\"scatterpolar\":[{\"type\":\"scatterpolar\",\"marker\":{\"colorbar\":{\"outlinewidth\":0,\"ticks\":\"\"}}}],\"histogram\":[{\"marker\":{\"pattern\":{\"fillmode\":\"overlay\",\"size\":10,\"solidity\":0.2}},\"type\":\"histogram\"}],\"scattergl\":[{\"type\":\"scattergl\",\"marker\":{\"colorbar\":{\"outlinewidth\":0,\"ticks\":\"\"}}}],\"scatter3d\":[{\"type\":\"scatter3d\",\"line\":{\"colorbar\":{\"outlinewidth\":0,\"ticks\":\"\"}},\"marker\":{\"colorbar\":{\"outlinewidth\":0,\"ticks\":\"\"}}}],\"scattermapbox\":[{\"type\":\"scattermapbox\",\"marker\":{\"colorbar\":{\"outlinewidth\":0,\"ticks\":\"\"}}}],\"scatterternary\":[{\"type\":\"scatterternary\",\"marker\":{\"colorbar\":{\"outlinewidth\":0,\"ticks\":\"\"}}}],\"scattercarpet\":[{\"type\":\"scattercarpet\",\"marker\":{\"colorbar\":{\"outlinewidth\":0,\"ticks\":\"\"}}}],\"carpet\":[{\"aaxis\":{\"endlinecolor\":\"#2a3f5f\",\"gridcolor\":\"white\",\"linecolor\":\"white\",\"minorgridcolor\":\"white\",\"startlinecolor\":\"#2a3f5f\"},\"baxis\":{\"endlinecolor\":\"#2a3f5f\",\"gridcolor\":\"white\",\"linecolor\":\"white\",\"minorgridcolor\":\"white\",\"startlinecolor\":\"#2a3f5f\"},\"type\":\"carpet\"}],\"table\":[{\"cells\":{\"fill\":{\"color\":\"#EBF0F8\"},\"line\":{\"color\":\"white\"}},\"header\":{\"fill\":{\"color\":\"#C8D4E3\"},\"line\":{\"color\":\"white\"}},\"type\":\"table\"}],\"barpolar\":[{\"marker\":{\"line\":{\"color\":\"#E5ECF6\",\"width\":0.5},\"pattern\":{\"fillmode\":\"overlay\",\"size\":10,\"solidity\":0.2}},\"type\":\"barpolar\"}],\"pie\":[{\"automargin\":true,\"type\":\"pie\"}]},\"layout\":{\"autotypenumbers\":\"strict\",\"colorway\":[\"#636efa\",\"#EF553B\",\"#00cc96\",\"#ab63fa\",\"#FFA15A\",\"#19d3f3\",\"#FF6692\",\"#B6E880\",\"#FF97FF\",\"#FECB52\"],\"font\":{\"color\":\"#2a3f5f\"},\"hovermode\":\"closest\",\"hoverlabel\":{\"align\":\"left\"},\"paper_bgcolor\":\"white\",\"plot_bgcolor\":\"#E5ECF6\",\"polar\":{\"bgcolor\":\"#E5ECF6\",\"angularaxis\":{\"gridcolor\":\"white\",\"linecolor\":\"white\",\"ticks\":\"\"},\"radialaxis\":{\"gridcolor\":\"white\",\"linecolor\":\"white\",\"ticks\":\"\"}},\"ternary\":{\"bgcolor\":\"#E5ECF6\",\"aaxis\":{\"gridcolor\":\"white\",\"linecolor\":\"white\",\"ticks\":\"\"},\"baxis\":{\"gridcolor\":\"white\",\"linecolor\":\"white\",\"ticks\":\"\"},\"caxis\":{\"gridcolor\":\"white\",\"linecolor\":\"white\",\"ticks\":\"\"}},\"coloraxis\":{\"colorbar\":{\"outlinewidth\":0,\"ticks\":\"\"}},\"colorscale\":{\"sequential\":[[0.0,\"#0d0887\"],[0.1111111111111111,\"#46039f\"],[0.2222222222222222,\"#7201a8\"],[0.3333333333333333,\"#9c179e\"],[0.4444444444444444,\"#bd3786\"],[0.5555555555555556,\"#d8576b\"],[0.6666666666666666,\"#ed7953\"],[0.7777777777777778,\"#fb9f3a\"],[0.8888888888888888,\"#fdca26\"],[1.0,\"#f0f921\"]],\"sequentialminus\":[[0.0,\"#0d0887\"],[0.1111111111111111,\"#46039f\"],[0.2222222222222222,\"#7201a8\"],[0.3333333333333333,\"#9c179e\"],[0.4444444444444444,\"#bd3786\"],[0.5555555555555556,\"#d8576b\"],[0.6666666666666666,\"#ed7953\"],[0.7777777777777778,\"#fb9f3a\"],[0.8888888888888888,\"#fdca26\"],[1.0,\"#f0f921\"]],\"diverging\":[[0,\"#8e0152\"],[0.1,\"#c51b7d\"],[0.2,\"#de77ae\"],[0.3,\"#f1b6da\"],[0.4,\"#fde0ef\"],[0.5,\"#f7f7f7\"],[0.6,\"#e6f5d0\"],[0.7,\"#b8e186\"],[0.8,\"#7fbc41\"],[0.9,\"#4d9221\"],[1,\"#276419\"]]},\"xaxis\":{\"gridcolor\":\"white\",\"linecolor\":\"white\",\"ticks\":\"\",\"title\":{\"standoff\":15},\"zerolinecolor\":\"white\",\"automargin\":true,\"zerolinewidth\":2},\"yaxis\":{\"gridcolor\":\"white\",\"linecolor\":\"white\",\"ticks\":\"\",\"title\":{\"standoff\":15},\"zerolinecolor\":\"white\",\"automargin\":true,\"zerolinewidth\":2},\"scene\":{\"xaxis\":{\"backgroundcolor\":\"#E5ECF6\",\"gridcolor\":\"white\",\"linecolor\":\"white\",\"showbackground\":true,\"ticks\":\"\",\"zerolinecolor\":\"white\",\"gridwidth\":2},\"yaxis\":{\"backgroundcolor\":\"#E5ECF6\",\"gridcolor\":\"white\",\"linecolor\":\"white\",\"showbackground\":true,\"ticks\":\"\",\"zerolinecolor\":\"white\",\"gridwidth\":2},\"zaxis\":{\"backgroundcolor\":\"#E5ECF6\",\"gridcolor\":\"white\",\"linecolor\":\"white\",\"showbackground\":true,\"ticks\":\"\",\"zerolinecolor\":\"white\",\"gridwidth\":2}},\"shapedefaults\":{\"line\":{\"color\":\"#2a3f5f\"}},\"annotationdefaults\":{\"arrowcolor\":\"#2a3f5f\",\"arrowhead\":0,\"arrowwidth\":1},\"geo\":{\"bgcolor\":\"white\",\"landcolor\":\"#E5ECF6\",\"subunitcolor\":\"white\",\"showland\":true,\"showlakes\":true,\"lakecolor\":\"white\"},\"title\":{\"x\":0.05},\"mapbox\":{\"style\":\"light\"}}},\"xaxis\":{\"anchor\":\"y\",\"domain\":[0.0,1.0],\"title\":{\"text\":\"pc1\"}},\"yaxis\":{\"anchor\":\"x\",\"domain\":[0.0,1.0],\"title\":{\"text\":\"pc2\"}},\"legend\":{\"tracegroupgap\":0},\"margin\":{\"t\":60}},                        {\"responsive\": true}                    ).then(function(){\n",
       "                            \n",
       "var gd = document.getElementById('0b2c230c-9fc7-4a99-9991-45f863a16752');\n",
       "var x = new MutationObserver(function (mutations, observer) {{\n",
       "        var display = window.getComputedStyle(gd).display;\n",
       "        if (!display || display === 'none') {{\n",
       "            console.log([gd, 'removed!']);\n",
       "            Plotly.purge(gd);\n",
       "            observer.disconnect();\n",
       "        }}\n",
       "}});\n",
       "\n",
       "// Listen for the removal of the full notebook cells\n",
       "var notebookContainer = gd.closest('#notebook-container');\n",
       "if (notebookContainer) {{\n",
       "    x.observe(notebookContainer, {childList: true});\n",
       "}}\n",
       "\n",
       "// Listen for the clearing of the current output cell\n",
       "var outputEl = gd.closest('.output');\n",
       "if (outputEl) {{\n",
       "    x.observe(outputEl, {childList: true});\n",
       "}}\n",
       "\n",
       "                        })                };                });            </script>        </div>"
      ]
     },
     "metadata": {},
     "output_type": "display_data"
    },
    {
     "data": {
      "image/png": "[encoded data removed]",
      "text/plain": [
       "<Figure size 432x288 with 2 Axes>"
      ]
     },
     "metadata": {
      "needs_background": "light"
     },
     "output_type": "display_data"
    },
    {
     "data": {
      "image/png": "[encoded data removed]",
      "text/plain": [
       "<Figure size 432x288 with 2 Axes>"
      ]
     },
     "metadata": {
      "needs_background": "light"
     },
     "output_type": "display_data"
    }
   ],
   "source": [
    "#scatterplot\n",
    "principalComponents = pca.fit_transform(np.array(embed_1))\n",
    "embed_1 = pd.DataFrame(data = principalComponents, columns = ['pc1', 'pc2'])\n",
    "embed_1[\"responses\"] = embed_1_responses\n",
    "fig = px.scatter(embed_1, x=\"pc1\", y=\"pc2\", opacity=.4, hover_name=\"responses\")\n",
    "fig.show()\n",
    "\n",
    "#heatmap\n",
    "heatmap1, xedges, yedges = np.histogram2d(list(embed_1[\"pc1\"]), list(embed_1[\"pc2\"]), bins=bin_size, density=False)\n",
    "heatmap1 = gaussian_filter(heatmap1, sigma=1)\n",
    "extent = [xedges[0], xedges[-1], yedges[0], yedges[-1]]\n",
    "\n",
    "plt.clf()\n",
    "plt.title(\"Generation Density Heatmap\")\n",
    "plt.imshow(heatmap1.T, extent=extent, origin='lower')\n",
    "plt.colorbar()\n",
    "plt.show()\n",
    "\n",
    "# #heatmap with weights as sentiment\n",
    "# heatmap, xedges, yedges = np.histogram2d(list(embed_1[\"pc1\"]), list(embed_1[\"pc2\"]), bins=bin_size, weights = embed_1_weights, density=True)\n",
    "# # average = heatmap / np.sum(heatmap)\n",
    "# heatmap = gaussian_filter(heatmap, sigma=1)\n",
    "# # print(heatmap)\n",
    "# extent = [xedges[0], xedges[-1], yedges[0], yedges[-1]]\n",
    "# plt.clf()\n",
    "# plt.imshow(heatmap.T, extent=extent, origin='lower')\n",
    "# plt.show()\n",
    "\n",
    "#median sentiment heatmap\n",
    "\n",
    "# Compute the median of the weights in each bin\n",
    "median, _, _, _ = binned_statistic_2d(list(embed_1[\"pc1\"]), list(embed_1[\"pc2\"]), embed_1_weights, statistic='median', bins=(bin_size, bin_size))\n",
    "#set all nans to 0\n",
    "for y in range(len(median)): \n",
    "    for x in range(len(median[y])):\n",
    "        if pd.isna(median[x][y]):\n",
    "            median[x][y]  = 0\n",
    "median = gaussian_filter(median, sigma=1)\n",
    "\n",
    "# plot the heatmap\n",
    "plt.clf()\n",
    "plt.title(\"Generation Median Sentiment Heatmap\")\n",
    "plt.imshow(median, origin='lower', extent=[xedges[0], xedges[-1], yedges[0], yedges[-1]], interpolation='nearest')\n",
    "plt.colorbar()\n",
    "plt.show()\n"
   ]
  },
  {
   "cell_type": "code",
   "execution_count": 128,
   "metadata": {},
   "outputs": [],
   "source": [
    "# from scipy.stats import binned_statistic_2d\n",
    "\n",
    "# # Compute the median of the weights in each bin\n",
    "# median, _, _, _ = binned_statistic_2d(list(embed_1[\"pc1\"]), list(embed_1[\"pc2\"]), embed_1_weights, statistic='median', bins=(bin_size, bin_size))\n",
    "# #set all nans to 0\n",
    "# for y in range(len(median)): \n",
    "#     for x in range(len(median[y])):\n",
    "#         if pd.isna(median[x][y]):\n",
    "#             median[x][y]  = 0\n",
    "# # median = gaussian_filter(median, sigma=2)\n",
    "\n",
    "# # plot the heatmap\n",
    "# plt.clf()\n",
    "# plt.imshow(median, origin='lower', extent=[xedges[0], xedges[-1], yedges[0], yedges[-1]], interpolation='nearest')\n",
    "# plt.colorbar()\n",
    "# plt.show()"
   ]
  },
  {
   "cell_type": "code",
   "execution_count": 129,
   "metadata": {},
   "outputs": [
    {
     "data": {
      "application/vnd.plotly.v1+json": {
       "config": {
        "plotlyServerURL": "https://plot.ly"
       },
       "data": [
        {
         "hovertemplate": "<b>%{hovertext}</b><br><br>pc1=%{x}<br>pc2=%{y}<extra></extra>",
         "hovertext": [
          "scenario5: have a snack",
          "scenario5: Check my phone.",
          "scenario5: have a snack",
          "scenario5: Check my phone.",
          "scenario5: I could stop off and get donuts for the meeting. ",
          "scenario5: Get a snack ",
          "scenario5: check my email",
          "scenario5: chat with a friend",
          "scenario5: make calls",
          "scenario5: gather materials for the meeting",
          "scenario5: Grab a drink",
          "scenario5: grab a coffee",
          "scenario5: Grab something to drink during the meeting",
          "scenario5: I could put a mint in my mouth.",
          "scenario5: read some emails",
          "scenario5: discuss",
          "scenario5: Get a drink.",
          "scenario5: talk to people",
          "scenario5: Think through what I want to say in the meeting.  Try to map it out in my brain",
          "scenario5: I brainstormed some ideas.",
          "scenario5: prepare, take notes",
          "scenario5: I would try to rehearse the meeting in my head, imagining how it will be organized (how to begin, what to bring up, and how to close the meeting). By doing this I would be prepping myself, as well as organizing my own thoughts and intentions for the meeting.",
          "scenario5: Stop in the bathroom to use the facilities.",
          "scenario5: On my way to the meeting, I would stop by the restroom.",
          "scenario5: Check my phone.",
          "scenario5: practice my presentation",
          "scenario5: drink water",
          "scenario5: Catch up with someone ",
          "scenario5: talk to my coworkers",
          "scenario5: Go over the main points of what I want to accomplish ",
          "scenario5: make a phone call",
          "scenario5: I could pull together my notes and make sure I'm prepared.",
          "scenario5: Go through my notes for the meeting.",
          "scenario5: Think about what I will say.",
          "scenario5: Think",
          "scenario5: rehearse what you'll say",
          "scenario5: Review my notes and make sure everything is in order.",
          "scenario5: Check my calendar.",
          "scenario5: I could get a cup of coffee.",
          "scenario5: Go to the bathroom",
          "scenario5: check email on my phone",
          "scenario5: Review notes",
          "scenario5: I could think of things I want to accomplish at the meeting. ",
          "scenario5: rehearse your thoughts for the meeting",
          "scenario5: brainstorm ideas",
          "scenario5: Check my makeup",
          "scenario5: grab a diet coke",
          "scenario5: Go to the bathroom",
          "scenario5: check the time",
          "scenario5: I could rehearse the presentation in my head as I'm walking to the meeting"
         ],
         "legendgroup": "",
         "marker": {
          "color": "#636efa",
          "opacity": 0.4,
          "symbol": "circle"
         },
         "mode": "markers",
         "name": "",
         "orientation": "v",
         "showlegend": false,
         "type": "scatter",
         "x": [
          12.054620726218749,
          4.6781057469457155,
          12.054620726218753,
          4.678105746945719,
          0.4362396111271936,
          12.728770423238755,
          0.14305635822659712,
          -1.8535515338276258,
          -3.539882000550398,
          -8.557996587124338,
          12.882934490677368,
          12.860784560287884,
          3.3032902888599103,
          7.077678631828019,
          -1.786132231800669,
          -7.171691399079109,
          10.037295802040777,
          -4.459200626436925,
          -6.55385595385613,
          -6.35282272986524,
          -2.1398783860067527,
          -8.654218908073979,
          2.041522766655567,
          -0.704260545386829,
          4.678105746945717,
          -8.311446019004219,
          8.749073495924044,
          -1.081325391882324,
          -5.872892929873043,
          -5.115953164608256,
          0.39483767798593816,
          -3.539942117414509,
          -5.25640346326852,
          -4.180827991620857,
          -2.9429215757562788,
          -9.756078556954288,
          -3.4663099607409236,
          -0.5948516744595533,
          8.879269567136852,
          2.9009623244046097,
          1.112188845560828,
          -2.387115596660107,
          -7.04492474275007,
          -10.847550621937085,
          -9.391904713753876,
          2.1471882161046354,
          13.366718885649748,
          2.9009623244046097,
          0.36644653808968286,
          -8.908840078785767
         ],
         "xaxis": "x",
         "y": [
          -4.861335767731511,
          16.618450381880628,
          -4.861335767731505,
          16.61845038188064,
          -2.068416407951305,
          -4.264716832825037,
          13.909304880049737,
          -2.491707507669578,
          1.4993984818077992,
          -4.768846186201625,
          -6.878600869740055,
          -5.695942343578997,
          -7.385239074327546,
          -4.475478679755992,
          7.349463256331985,
          -5.918308477057572,
          -6.344982790083782,
          -3.999147702924054,
          -1.8681293296755763,
          -3.754778948777758,
          1.3468511813845145,
          -1.9387751924578671,
          -3.0044331076481594,
          -1.904828709809284,
          16.618450381880642,
          -2.195602151424459,
          -7.191062663846117,
          -1.3761684467598823,
          -1.7929042683357166,
          -2.0719923217022367,
          5.094443223759164,
          1.983332077217002,
          1.6125553001109574,
          -2.6767083581772146,
          -2.197057497527659,
          -3.6052476301810175,
          3.6018972245321943,
          10.365818091590155,
          -5.138269779496358,
          -3.965478452442267,
          15.697948951426298,
          0.17573952678324364,
          -3.632299950995465,
          -3.146380997757839,
          -6.39154782937051,
          8.630334378384095,
          -1.3419855723861147,
          -3.965478452442267,
          7.852911702791229,
          -1.8021613530179743
         ],
         "yaxis": "y"
        }
       ],
       "layout": {
        "legend": {
         "tracegroupgap": 0
        },
        "margin": {
         "t": 60
        },
        "template": {
         "data": {
          "bar": [
           {
            "error_x": {
             "color": "#2a3f5f"
            },
            "error_y": {
             "color": "#2a3f5f"
            },
            "marker": {
             "line": {
              "color": "#E5ECF6",
              "width": 0.5
             },
             "pattern": {
              "fillmode": "overlay",
              "size": 10,
              "solidity": 0.2
             }
            },
            "type": "bar"
           }
          ],
          "barpolar": [
           {
            "marker": {
             "line": {
              "color": "#E5ECF6",
              "width": 0.5
             },
             "pattern": {
              "fillmode": "overlay",
              "size": 10,
              "solidity": 0.2
             }
            },
            "type": "barpolar"
           }
          ],
          "carpet": [
           {
            "aaxis": {
             "endlinecolor": "#2a3f5f",
             "gridcolor": "white",
             "linecolor": "white",
             "minorgridcolor": "white",
             "startlinecolor": "#2a3f5f"
            },
            "baxis": {
             "endlinecolor": "#2a3f5f",
             "gridcolor": "white",
             "linecolor": "white",
             "minorgridcolor": "white",
             "startlinecolor": "#2a3f5f"
            },
            "type": "carpet"
           }
          ],
          "choropleth": [
           {
            "colorbar": {
             "outlinewidth": 0,
             "ticks": ""
            },
            "type": "choropleth"
           }
          ],
          "contour": [
           {
            "colorbar": {
             "outlinewidth": 0,
             "ticks": ""
            },
            "colorscale": [
             [
              0,
              "#0d0887"
             ],
             [
              0.1111111111111111,
              "#46039f"
             ],
             [
              0.2222222222222222,
              "#7201a8"
             ],
             [
              0.3333333333333333,
              "#9c179e"
             ],
             [
              0.4444444444444444,
              "#bd3786"
             ],
             [
              0.5555555555555556,
              "#d8576b"
             ],
             [
              0.6666666666666666,
              "#ed7953"
             ],
             [
              0.7777777777777778,
              "#fb9f3a"
             ],
             [
              0.8888888888888888,
              "#fdca26"
             ],
             [
              1,
              "#f0f921"
             ]
            ],
            "type": "contour"
           }
          ],
          "contourcarpet": [
           {
            "colorbar": {
             "outlinewidth": 0,
             "ticks": ""
            },
            "type": "contourcarpet"
           }
          ],
          "heatmap": [
           {
            "colorbar": {
             "outlinewidth": 0,
             "ticks": ""
            },
            "colorscale": [
             [
              0,
              "#0d0887"
             ],
             [
              0.1111111111111111,
              "#46039f"
             ],
             [
              0.2222222222222222,
              "#7201a8"
             ],
             [
              0.3333333333333333,
              "#9c179e"
             ],
             [
              0.4444444444444444,
              "#bd3786"
             ],
             [
              0.5555555555555556,
              "#d8576b"
             ],
             [
              0.6666666666666666,
              "#ed7953"
             ],
             [
              0.7777777777777778,
              "#fb9f3a"
             ],
             [
              0.8888888888888888,
              "#fdca26"
             ],
             [
              1,
              "#f0f921"
             ]
            ],
            "type": "heatmap"
           }
          ],
          "heatmapgl": [
           {
            "colorbar": {
             "outlinewidth": 0,
             "ticks": ""
            },
            "colorscale": [
             [
              0,
              "#0d0887"
             ],
             [
              0.1111111111111111,
              "#46039f"
             ],
             [
              0.2222222222222222,
              "#7201a8"
             ],
             [
              0.3333333333333333,
              "#9c179e"
             ],
             [
              0.4444444444444444,
              "#bd3786"
             ],
             [
              0.5555555555555556,
              "#d8576b"
             ],
             [
              0.6666666666666666,
              "#ed7953"
             ],
             [
              0.7777777777777778,
              "#fb9f3a"
             ],
             [
              0.8888888888888888,
              "#fdca26"
             ],
             [
              1,
              "#f0f921"
             ]
            ],
            "type": "heatmapgl"
           }
          ],
          "histogram": [
           {
            "marker": {
             "pattern": {
              "fillmode": "overlay",
              "size": 10,
              "solidity": 0.2
             }
            },
            "type": "histogram"
           }
          ],
          "histogram2d": [
           {
            "colorbar": {
             "outlinewidth": 0,
             "ticks": ""
            },
            "colorscale": [
             [
              0,
              "#0d0887"
             ],
             [
              0.1111111111111111,
              "#46039f"
             ],
             [
              0.2222222222222222,
              "#7201a8"
             ],
             [
              0.3333333333333333,
              "#9c179e"
             ],
             [
              0.4444444444444444,
              "#bd3786"
             ],
             [
              0.5555555555555556,
              "#d8576b"
             ],
             [
              0.6666666666666666,
              "#ed7953"
             ],
             [
              0.7777777777777778,
              "#fb9f3a"
             ],
             [
              0.8888888888888888,
              "#fdca26"
             ],
             [
              1,
              "#f0f921"
             ]
            ],
            "type": "histogram2d"
           }
          ],
          "histogram2dcontour": [
           {
            "colorbar": {
             "outlinewidth": 0,
             "ticks": ""
            },
            "colorscale": [
             [
              0,
              "#0d0887"
             ],
             [
              0.1111111111111111,
              "#46039f"
             ],
             [
              0.2222222222222222,
              "#7201a8"
             ],
             [
              0.3333333333333333,
              "#9c179e"
             ],
             [
              0.4444444444444444,
              "#bd3786"
             ],
             [
              0.5555555555555556,
              "#d8576b"
             ],
             [
              0.6666666666666666,
              "#ed7953"
             ],
             [
              0.7777777777777778,
              "#fb9f3a"
             ],
             [
              0.8888888888888888,
              "#fdca26"
             ],
             [
              1,
              "#f0f921"
             ]
            ],
            "type": "histogram2dcontour"
           }
          ],
          "mesh3d": [
           {
            "colorbar": {
             "outlinewidth": 0,
             "ticks": ""
            },
            "type": "mesh3d"
           }
          ],
          "parcoords": [
           {
            "line": {
             "colorbar": {
              "outlinewidth": 0,
              "ticks": ""
             }
            },
            "type": "parcoords"
           }
          ],
          "pie": [
           {
            "automargin": true,
            "type": "pie"
           }
          ],
          "scatter": [
           {
            "fillpattern": {
             "fillmode": "overlay",
             "size": 10,
             "solidity": 0.2
            },
            "type": "scatter"
           }
          ],
          "scatter3d": [
           {
            "line": {
             "colorbar": {
              "outlinewidth": 0,
              "ticks": ""
             }
            },
            "marker": {
             "colorbar": {
              "outlinewidth": 0,
              "ticks": ""
             }
            },
            "type": "scatter3d"
           }
          ],
          "scattercarpet": [
           {
            "marker": {
             "colorbar": {
              "outlinewidth": 0,
              "ticks": ""
             }
            },
            "type": "scattercarpet"
           }
          ],
          "scattergeo": [
           {
            "marker": {
             "colorbar": {
              "outlinewidth": 0,
              "ticks": ""
             }
            },
            "type": "scattergeo"
           }
          ],
          "scattergl": [
           {
            "marker": {
             "colorbar": {
              "outlinewidth": 0,
              "ticks": ""
             }
            },
            "type": "scattergl"
           }
          ],
          "scattermapbox": [
           {
            "marker": {
             "colorbar": {
              "outlinewidth": 0,
              "ticks": ""
             }
            },
            "type": "scattermapbox"
           }
          ],
          "scatterpolar": [
           {
            "marker": {
             "colorbar": {
              "outlinewidth": 0,
              "ticks": ""
             }
            },
            "type": "scatterpolar"
           }
          ],
          "scatterpolargl": [
           {
            "marker": {
             "colorbar": {
              "outlinewidth": 0,
              "ticks": ""
             }
            },
            "type": "scatterpolargl"
           }
          ],
          "scatterternary": [
           {
            "marker": {
             "colorbar": {
              "outlinewidth": 0,
              "ticks": ""
             }
            },
            "type": "scatterternary"
           }
          ],
          "surface": [
           {
            "colorbar": {
             "outlinewidth": 0,
             "ticks": ""
            },
            "colorscale": [
             [
              0,
              "#0d0887"
             ],
             [
              0.1111111111111111,
              "#46039f"
             ],
             [
              0.2222222222222222,
              "#7201a8"
             ],
             [
              0.3333333333333333,
              "#9c179e"
             ],
             [
              0.4444444444444444,
              "#bd3786"
             ],
             [
              0.5555555555555556,
              "#d8576b"
             ],
             [
              0.6666666666666666,
              "#ed7953"
             ],
             [
              0.7777777777777778,
              "#fb9f3a"
             ],
             [
              0.8888888888888888,
              "#fdca26"
             ],
             [
              1,
              "#f0f921"
             ]
            ],
            "type": "surface"
           }
          ],
          "table": [
           {
            "cells": {
             "fill": {
              "color": "#EBF0F8"
             },
             "line": {
              "color": "white"
             }
            },
            "header": {
             "fill": {
              "color": "#C8D4E3"
             },
             "line": {
              "color": "white"
             }
            },
            "type": "table"
           }
          ]
         },
         "layout": {
          "annotationdefaults": {
           "arrowcolor": "#2a3f5f",
           "arrowhead": 0,
           "arrowwidth": 1
          },
          "autotypenumbers": "strict",
          "coloraxis": {
           "colorbar": {
            "outlinewidth": 0,
            "ticks": ""
           }
          },
          "colorscale": {
           "diverging": [
            [
             0,
             "#8e0152"
            ],
            [
             0.1,
             "#c51b7d"
            ],
            [
             0.2,
             "#de77ae"
            ],
            [
             0.3,
             "#f1b6da"
            ],
            [
             0.4,
             "#fde0ef"
            ],
            [
             0.5,
             "#f7f7f7"
            ],
            [
             0.6,
             "#e6f5d0"
            ],
            [
             0.7,
             "#b8e186"
            ],
            [
             0.8,
             "#7fbc41"
            ],
            [
             0.9,
             "#4d9221"
            ],
            [
             1,
             "#276419"
            ]
           ],
           "sequential": [
            [
             0,
             "#0d0887"
            ],
            [
             0.1111111111111111,
             "#46039f"
            ],
            [
             0.2222222222222222,
             "#7201a8"
            ],
            [
             0.3333333333333333,
             "#9c179e"
            ],
            [
             0.4444444444444444,
             "#bd3786"
            ],
            [
             0.5555555555555556,
             "#d8576b"
            ],
            [
             0.6666666666666666,
             "#ed7953"
            ],
            [
             0.7777777777777778,
             "#fb9f3a"
            ],
            [
             0.8888888888888888,
             "#fdca26"
            ],
            [
             1,
             "#f0f921"
            ]
           ],
           "sequentialminus": [
            [
             0,
             "#0d0887"
            ],
            [
             0.1111111111111111,
             "#46039f"
            ],
            [
             0.2222222222222222,
             "#7201a8"
            ],
            [
             0.3333333333333333,
             "#9c179e"
            ],
            [
             0.4444444444444444,
             "#bd3786"
            ],
            [
             0.5555555555555556,
             "#d8576b"
            ],
            [
             0.6666666666666666,
             "#ed7953"
            ],
            [
             0.7777777777777778,
             "#fb9f3a"
            ],
            [
             0.8888888888888888,
             "#fdca26"
            ],
            [
             1,
             "#f0f921"
            ]
           ]
          },
          "colorway": [
           "#636efa",
           "#EF553B",
           "#00cc96",
           "#ab63fa",
           "#FFA15A",
           "#19d3f3",
           "#FF6692",
           "#B6E880",
           "#FF97FF",
           "#FECB52"
          ],
          "font": {
           "color": "#2a3f5f"
          },
          "geo": {
           "bgcolor": "white",
           "lakecolor": "white",
           "landcolor": "#E5ECF6",
           "showlakes": true,
           "showland": true,
           "subunitcolor": "white"
          },
          "hoverlabel": {
           "align": "left"
          },
          "hovermode": "closest",
          "mapbox": {
           "style": "light"
          },
          "paper_bgcolor": "white",
          "plot_bgcolor": "#E5ECF6",
          "polar": {
           "angularaxis": {
            "gridcolor": "white",
            "linecolor": "white",
            "ticks": ""
           },
           "bgcolor": "#E5ECF6",
           "radialaxis": {
            "gridcolor": "white",
            "linecolor": "white",
            "ticks": ""
           }
          },
          "scene": {
           "xaxis": {
            "backgroundcolor": "#E5ECF6",
            "gridcolor": "white",
            "gridwidth": 2,
            "linecolor": "white",
            "showbackground": true,
            "ticks": "",
            "zerolinecolor": "white"
           },
           "yaxis": {
            "backgroundcolor": "#E5ECF6",
            "gridcolor": "white",
            "gridwidth": 2,
            "linecolor": "white",
            "showbackground": true,
            "ticks": "",
            "zerolinecolor": "white"
           },
           "zaxis": {
            "backgroundcolor": "#E5ECF6",
            "gridcolor": "white",
            "gridwidth": 2,
            "linecolor": "white",
            "showbackground": true,
            "ticks": "",
            "zerolinecolor": "white"
           }
          },
          "shapedefaults": {
           "line": {
            "color": "#2a3f5f"
           }
          },
          "ternary": {
           "aaxis": {
            "gridcolor": "white",
            "linecolor": "white",
            "ticks": ""
           },
           "baxis": {
            "gridcolor": "white",
            "linecolor": "white",
            "ticks": ""
           },
           "bgcolor": "#E5ECF6",
           "caxis": {
            "gridcolor": "white",
            "linecolor": "white",
            "ticks": ""
           }
          },
          "title": {
           "x": 0.05
          },
          "xaxis": {
           "automargin": true,
           "gridcolor": "white",
           "linecolor": "white",
           "ticks": "",
           "title": {
            "standoff": 15
           },
           "zerolinecolor": "white",
           "zerolinewidth": 2
          },
          "yaxis": {
           "automargin": true,
           "gridcolor": "white",
           "linecolor": "white",
           "ticks": "",
           "title": {
            "standoff": 15
           },
           "zerolinecolor": "white",
           "zerolinewidth": 2
          }
         }
        },
        "xaxis": {
         "anchor": "y",
         "domain": [
          0,
          1
         ],
         "title": {
          "text": "pc1"
         }
        },
        "yaxis": {
         "anchor": "x",
         "domain": [
          0,
          1
         ],
         "title": {
          "text": "pc2"
         }
        }
       }
      },
      "text/html": [
       "<div>                            <div id=\"3278bf6b-03c5-4235-987a-3d2a9d2efac5\" class=\"plotly-graph-div\" style=\"height:525px; width:100%;\"></div>            <script type=\"text/javascript\">                require([\"plotly\"], function(Plotly) {                    window.PLOTLYENV=window.PLOTLYENV || {};                                    if (document.getElementById(\"3278bf6b-03c5-4235-987a-3d2a9d2efac5\")) {                    Plotly.newPlot(                        \"3278bf6b-03c5-4235-987a-3d2a9d2efac5\",                        [{\"hovertemplate\":\"<b>%{hovertext}</b><br><br>pc1=%{x}<br>pc2=%{y}<extra></extra>\",\"hovertext\":[\"scenario5: have a snack\",\"scenario5: Check my phone.\",\"scenario5: have a snack\",\"scenario5: Check my phone.\",\"scenario5: I could stop off and get donuts for the meeting. \",\"scenario5: Get a snack \",\"scenario5: check my email\",\"scenario5: chat with a friend\",\"scenario5: make calls\",\"scenario5: gather materials for the meeting\",\"scenario5: Grab a drink\",\"scenario5: grab a coffee\",\"scenario5: Grab something to drink during the meeting\",\"scenario5: I could put a mint in my mouth.\",\"scenario5: read some emails\",\"scenario5: discuss\",\"scenario5: Get a drink.\",\"scenario5: talk to people\",\"scenario5: Think through what I want to say in the meeting.  Try to map it out in my brain\",\"scenario5: I brainstormed some ideas.\",\"scenario5: prepare, take notes\",\"scenario5: I would try to rehearse the meeting in my head, imagining how it will be organized (how to begin, what to bring up, and how to close the meeting). By doing this I would be prepping myself, as well as organizing my own thoughts and intentions for the meeting.\",\"scenario5: Stop in the bathroom to use the facilities.\",\"scenario5: On my way to the meeting, I would stop by the restroom.\",\"scenario5: Check my phone.\",\"scenario5: practice my presentation\",\"scenario5: drink water\",\"scenario5: Catch up with someone \",\"scenario5: talk to my coworkers\",\"scenario5: Go over the main points of what I want to accomplish \",\"scenario5: make a phone call\",\"scenario5: I could pull together my notes and make sure I'm prepared.\",\"scenario5: Go through my notes for the meeting.\",\"scenario5: Think about what I will say.\",\"scenario5: Think\",\"scenario5: rehearse what you'll say\",\"scenario5: Review my notes and make sure everything is in order.\",\"scenario5: Check my calendar.\",\"scenario5: I could get a cup of coffee.\",\"scenario5: Go to the bathroom\",\"scenario5: check email on my phone\",\"scenario5: Review notes\",\"scenario5: I could think of things I want to accomplish at the meeting. \",\"scenario5: rehearse your thoughts for the meeting\",\"scenario5: brainstorm ideas\",\"scenario5: Check my makeup\",\"scenario5: grab a diet coke\",\"scenario5: Go to the bathroom\",\"scenario5: check the time\",\"scenario5: I could rehearse the presentation in my head as I'm walking to the meeting\"],\"legendgroup\":\"\",\"marker\":{\"color\":\"#636efa\",\"opacity\":0.4,\"symbol\":\"circle\"},\"mode\":\"markers\",\"name\":\"\",\"orientation\":\"v\",\"showlegend\":false,\"x\":[12.054620726218749,4.6781057469457155,12.054620726218753,4.678105746945719,0.4362396111271936,12.728770423238755,0.14305635822659712,-1.8535515338276258,-3.539882000550398,-8.557996587124338,12.882934490677368,12.860784560287884,3.3032902888599103,7.077678631828019,-1.786132231800669,-7.171691399079109,10.037295802040777,-4.459200626436925,-6.55385595385613,-6.35282272986524,-2.1398783860067527,-8.654218908073979,2.041522766655567,-0.704260545386829,4.678105746945717,-8.311446019004219,8.749073495924044,-1.081325391882324,-5.872892929873043,-5.115953164608256,0.39483767798593816,-3.539942117414509,-5.25640346326852,-4.180827991620857,-2.9429215757562788,-9.756078556954288,-3.4663099607409236,-0.5948516744595533,8.879269567136852,2.9009623244046097,1.112188845560828,-2.387115596660107,-7.04492474275007,-10.847550621937085,-9.391904713753876,2.1471882161046354,13.366718885649748,2.9009623244046097,0.36644653808968286,-8.908840078785767],\"xaxis\":\"x\",\"y\":[-4.861335767731511,16.618450381880628,-4.861335767731505,16.61845038188064,-2.068416407951305,-4.264716832825037,13.909304880049737,-2.491707507669578,1.4993984818077992,-4.768846186201625,-6.878600869740055,-5.695942343578997,-7.385239074327546,-4.475478679755992,7.349463256331985,-5.918308477057572,-6.344982790083782,-3.999147702924054,-1.8681293296755763,-3.754778948777758,1.3468511813845145,-1.9387751924578671,-3.0044331076481594,-1.904828709809284,16.618450381880642,-2.195602151424459,-7.191062663846117,-1.3761684467598823,-1.7929042683357166,-2.0719923217022367,5.094443223759164,1.983332077217002,1.6125553001109574,-2.6767083581772146,-2.197057497527659,-3.6052476301810175,3.6018972245321943,10.365818091590155,-5.138269779496358,-3.965478452442267,15.697948951426298,0.17573952678324364,-3.632299950995465,-3.146380997757839,-6.39154782937051,8.630334378384095,-1.3419855723861147,-3.965478452442267,7.852911702791229,-1.8021613530179743],\"yaxis\":\"y\",\"type\":\"scatter\"}],                        {\"template\":{\"data\":{\"histogram2dcontour\":[{\"type\":\"histogram2dcontour\",\"colorbar\":{\"outlinewidth\":0,\"ticks\":\"\"},\"colorscale\":[[0.0,\"#0d0887\"],[0.1111111111111111,\"#46039f\"],[0.2222222222222222,\"#7201a8\"],[0.3333333333333333,\"#9c179e\"],[0.4444444444444444,\"#bd3786\"],[0.5555555555555556,\"#d8576b\"],[0.6666666666666666,\"#ed7953\"],[0.7777777777777778,\"#fb9f3a\"],[0.8888888888888888,\"#fdca26\"],[1.0,\"#f0f921\"]]}],\"choropleth\":[{\"type\":\"choropleth\",\"colorbar\":{\"outlinewidth\":0,\"ticks\":\"\"}}],\"histogram2d\":[{\"type\":\"histogram2d\",\"colorbar\":{\"outlinewidth\":0,\"ticks\":\"\"},\"colorscale\":[[0.0,\"#0d0887\"],[0.1111111111111111,\"#46039f\"],[0.2222222222222222,\"#7201a8\"],[0.3333333333333333,\"#9c179e\"],[0.4444444444444444,\"#bd3786\"],[0.5555555555555556,\"#d8576b\"],[0.6666666666666666,\"#ed7953\"],[0.7777777777777778,\"#fb9f3a\"],[0.8888888888888888,\"#fdca26\"],[1.0,\"#f0f921\"]]}],\"heatmap\":[{\"type\":\"heatmap\",\"colorbar\":{\"outlinewidth\":0,\"ticks\":\"\"},\"colorscale\":[[0.0,\"#0d0887\"],[0.1111111111111111,\"#46039f\"],[0.2222222222222222,\"#7201a8\"],[0.3333333333333333,\"#9c179e\"],[0.4444444444444444,\"#bd3786\"],[0.5555555555555556,\"#d8576b\"],[0.6666666666666666,\"#ed7953\"],[0.7777777777777778,\"#fb9f3a\"],[0.8888888888888888,\"#fdca26\"],[1.0,\"#f0f921\"]]}],\"heatmapgl\":[{\"type\":\"heatmapgl\",\"colorbar\":{\"outlinewidth\":0,\"ticks\":\"\"},\"colorscale\":[[0.0,\"#0d0887\"],[0.1111111111111111,\"#46039f\"],[0.2222222222222222,\"#7201a8\"],[0.3333333333333333,\"#9c179e\"],[0.4444444444444444,\"#bd3786\"],[0.5555555555555556,\"#d8576b\"],[0.6666666666666666,\"#ed7953\"],[0.7777777777777778,\"#fb9f3a\"],[0.8888888888888888,\"#fdca26\"],[1.0,\"#f0f921\"]]}],\"contourcarpet\":[{\"type\":\"contourcarpet\",\"colorbar\":{\"outlinewidth\":0,\"ticks\":\"\"}}],\"contour\":[{\"type\":\"contour\",\"colorbar\":{\"outlinewidth\":0,\"ticks\":\"\"},\"colorscale\":[[0.0,\"#0d0887\"],[0.1111111111111111,\"#46039f\"],[0.2222222222222222,\"#7201a8\"],[0.3333333333333333,\"#9c179e\"],[0.4444444444444444,\"#bd3786\"],[0.5555555555555556,\"#d8576b\"],[0.6666666666666666,\"#ed7953\"],[0.7777777777777778,\"#fb9f3a\"],[0.8888888888888888,\"#fdca26\"],[1.0,\"#f0f921\"]]}],\"surface\":[{\"type\":\"surface\",\"colorbar\":{\"outlinewidth\":0,\"ticks\":\"\"},\"colorscale\":[[0.0,\"#0d0887\"],[0.1111111111111111,\"#46039f\"],[0.2222222222222222,\"#7201a8\"],[0.3333333333333333,\"#9c179e\"],[0.4444444444444444,\"#bd3786\"],[0.5555555555555556,\"#d8576b\"],[0.6666666666666666,\"#ed7953\"],[0.7777777777777778,\"#fb9f3a\"],[0.8888888888888888,\"#fdca26\"],[1.0,\"#f0f921\"]]}],\"mesh3d\":[{\"type\":\"mesh3d\",\"colorbar\":{\"outlinewidth\":0,\"ticks\":\"\"}}],\"scatter\":[{\"fillpattern\":{\"fillmode\":\"overlay\",\"size\":10,\"solidity\":0.2},\"type\":\"scatter\"}],\"parcoords\":[{\"type\":\"parcoords\",\"line\":{\"colorbar\":{\"outlinewidth\":0,\"ticks\":\"\"}}}],\"scatterpolargl\":[{\"type\":\"scatterpolargl\",\"marker\":{\"colorbar\":{\"outlinewidth\":0,\"ticks\":\"\"}}}],\"bar\":[{\"error_x\":{\"color\":\"#2a3f5f\"},\"error_y\":{\"color\":\"#2a3f5f\"},\"marker\":{\"line\":{\"color\":\"#E5ECF6\",\"width\":0.5},\"pattern\":{\"fillmode\":\"overlay\",\"size\":10,\"solidity\":0.2}},\"type\":\"bar\"}],\"scattergeo\":[{\"type\":\"scattergeo\",\"marker\":{\"colorbar\":{\"outlinewidth\":0,\"ticks\":\"\"}}}],\"scatterpolar\":[{\"type\":\"scatterpolar\",\"marker\":{\"colorbar\":{\"outlinewidth\":0,\"ticks\":\"\"}}}],\"histogram\":[{\"marker\":{\"pattern\":{\"fillmode\":\"overlay\",\"size\":10,\"solidity\":0.2}},\"type\":\"histogram\"}],\"scattergl\":[{\"type\":\"scattergl\",\"marker\":{\"colorbar\":{\"outlinewidth\":0,\"ticks\":\"\"}}}],\"scatter3d\":[{\"type\":\"scatter3d\",\"line\":{\"colorbar\":{\"outlinewidth\":0,\"ticks\":\"\"}},\"marker\":{\"colorbar\":{\"outlinewidth\":0,\"ticks\":\"\"}}}],\"scattermapbox\":[{\"type\":\"scattermapbox\",\"marker\":{\"colorbar\":{\"outlinewidth\":0,\"ticks\":\"\"}}}],\"scatterternary\":[{\"type\":\"scatterternary\",\"marker\":{\"colorbar\":{\"outlinewidth\":0,\"ticks\":\"\"}}}],\"scattercarpet\":[{\"type\":\"scattercarpet\",\"marker\":{\"colorbar\":{\"outlinewidth\":0,\"ticks\":\"\"}}}],\"carpet\":[{\"aaxis\":{\"endlinecolor\":\"#2a3f5f\",\"gridcolor\":\"white\",\"linecolor\":\"white\",\"minorgridcolor\":\"white\",\"startlinecolor\":\"#2a3f5f\"},\"baxis\":{\"endlinecolor\":\"#2a3f5f\",\"gridcolor\":\"white\",\"linecolor\":\"white\",\"minorgridcolor\":\"white\",\"startlinecolor\":\"#2a3f5f\"},\"type\":\"carpet\"}],\"table\":[{\"cells\":{\"fill\":{\"color\":\"#EBF0F8\"},\"line\":{\"color\":\"white\"}},\"header\":{\"fill\":{\"color\":\"#C8D4E3\"},\"line\":{\"color\":\"white\"}},\"type\":\"table\"}],\"barpolar\":[{\"marker\":{\"line\":{\"color\":\"#E5ECF6\",\"width\":0.5},\"pattern\":{\"fillmode\":\"overlay\",\"size\":10,\"solidity\":0.2}},\"type\":\"barpolar\"}],\"pie\":[{\"automargin\":true,\"type\":\"pie\"}]},\"layout\":{\"autotypenumbers\":\"strict\",\"colorway\":[\"#636efa\",\"#EF553B\",\"#00cc96\",\"#ab63fa\",\"#FFA15A\",\"#19d3f3\",\"#FF6692\",\"#B6E880\",\"#FF97FF\",\"#FECB52\"],\"font\":{\"color\":\"#2a3f5f\"},\"hovermode\":\"closest\",\"hoverlabel\":{\"align\":\"left\"},\"paper_bgcolor\":\"white\",\"plot_bgcolor\":\"#E5ECF6\",\"polar\":{\"bgcolor\":\"#E5ECF6\",\"angularaxis\":{\"gridcolor\":\"white\",\"linecolor\":\"white\",\"ticks\":\"\"},\"radialaxis\":{\"gridcolor\":\"white\",\"linecolor\":\"white\",\"ticks\":\"\"}},\"ternary\":{\"bgcolor\":\"#E5ECF6\",\"aaxis\":{\"gridcolor\":\"white\",\"linecolor\":\"white\",\"ticks\":\"\"},\"baxis\":{\"gridcolor\":\"white\",\"linecolor\":\"white\",\"ticks\":\"\"},\"caxis\":{\"gridcolor\":\"white\",\"linecolor\":\"white\",\"ticks\":\"\"}},\"coloraxis\":{\"colorbar\":{\"outlinewidth\":0,\"ticks\":\"\"}},\"colorscale\":{\"sequential\":[[0.0,\"#0d0887\"],[0.1111111111111111,\"#46039f\"],[0.2222222222222222,\"#7201a8\"],[0.3333333333333333,\"#9c179e\"],[0.4444444444444444,\"#bd3786\"],[0.5555555555555556,\"#d8576b\"],[0.6666666666666666,\"#ed7953\"],[0.7777777777777778,\"#fb9f3a\"],[0.8888888888888888,\"#fdca26\"],[1.0,\"#f0f921\"]],\"sequentialminus\":[[0.0,\"#0d0887\"],[0.1111111111111111,\"#46039f\"],[0.2222222222222222,\"#7201a8\"],[0.3333333333333333,\"#9c179e\"],[0.4444444444444444,\"#bd3786\"],[0.5555555555555556,\"#d8576b\"],[0.6666666666666666,\"#ed7953\"],[0.7777777777777778,\"#fb9f3a\"],[0.8888888888888888,\"#fdca26\"],[1.0,\"#f0f921\"]],\"diverging\":[[0,\"#8e0152\"],[0.1,\"#c51b7d\"],[0.2,\"#de77ae\"],[0.3,\"#f1b6da\"],[0.4,\"#fde0ef\"],[0.5,\"#f7f7f7\"],[0.6,\"#e6f5d0\"],[0.7,\"#b8e186\"],[0.8,\"#7fbc41\"],[0.9,\"#4d9221\"],[1,\"#276419\"]]},\"xaxis\":{\"gridcolor\":\"white\",\"linecolor\":\"white\",\"ticks\":\"\",\"title\":{\"standoff\":15},\"zerolinecolor\":\"white\",\"automargin\":true,\"zerolinewidth\":2},\"yaxis\":{\"gridcolor\":\"white\",\"linecolor\":\"white\",\"ticks\":\"\",\"title\":{\"standoff\":15},\"zerolinecolor\":\"white\",\"automargin\":true,\"zerolinewidth\":2},\"scene\":{\"xaxis\":{\"backgroundcolor\":\"#E5ECF6\",\"gridcolor\":\"white\",\"linecolor\":\"white\",\"showbackground\":true,\"ticks\":\"\",\"zerolinecolor\":\"white\",\"gridwidth\":2},\"yaxis\":{\"backgroundcolor\":\"#E5ECF6\",\"gridcolor\":\"white\",\"linecolor\":\"white\",\"showbackground\":true,\"ticks\":\"\",\"zerolinecolor\":\"white\",\"gridwidth\":2},\"zaxis\":{\"backgroundcolor\":\"#E5ECF6\",\"gridcolor\":\"white\",\"linecolor\":\"white\",\"showbackground\":true,\"ticks\":\"\",\"zerolinecolor\":\"white\",\"gridwidth\":2}},\"shapedefaults\":{\"line\":{\"color\":\"#2a3f5f\"}},\"annotationdefaults\":{\"arrowcolor\":\"#2a3f5f\",\"arrowhead\":0,\"arrowwidth\":1},\"geo\":{\"bgcolor\":\"white\",\"landcolor\":\"#E5ECF6\",\"subunitcolor\":\"white\",\"showland\":true,\"showlakes\":true,\"lakecolor\":\"white\"},\"title\":{\"x\":0.05},\"mapbox\":{\"style\":\"light\"}}},\"xaxis\":{\"anchor\":\"y\",\"domain\":[0.0,1.0],\"title\":{\"text\":\"pc1\"}},\"yaxis\":{\"anchor\":\"x\",\"domain\":[0.0,1.0],\"title\":{\"text\":\"pc2\"}},\"legend\":{\"tracegroupgap\":0},\"margin\":{\"t\":60}},                        {\"responsive\": true}                    ).then(function(){\n",
       "                            \n",
       "var gd = document.getElementById('3278bf6b-03c5-4235-987a-3d2a9d2efac5');\n",
       "var x = new MutationObserver(function (mutations, observer) {{\n",
       "        var display = window.getComputedStyle(gd).display;\n",
       "        if (!display || display === 'none') {{\n",
       "            console.log([gd, 'removed!']);\n",
       "            Plotly.purge(gd);\n",
       "            observer.disconnect();\n",
       "        }}\n",
       "}});\n",
       "\n",
       "// Listen for the removal of the full notebook cells\n",
       "var notebookContainer = gd.closest('#notebook-container');\n",
       "if (notebookContainer) {{\n",
       "    x.observe(notebookContainer, {childList: true});\n",
       "}}\n",
       "\n",
       "// Listen for the clearing of the current output cell\n",
       "var outputEl = gd.closest('.output');\n",
       "if (outputEl) {{\n",
       "    x.observe(outputEl, {childList: true});\n",
       "}}\n",
       "\n",
       "                        })                };                });            </script>        </div>"
      ]
     },
     "metadata": {},
     "output_type": "display_data"
    },
    {
     "data": {
      "image/png": "[encoded data removed]",
      "text/plain": [
       "<Figure size 432x288 with 2 Axes>"
      ]
     },
     "metadata": {
      "needs_background": "light"
     },
     "output_type": "display_data"
    },
    {
     "data": {
      "image/png": "[encoded data removed]",
      "text/plain": [
       "<Figure size 432x288 with 2 Axes>"
      ]
     },
     "metadata": {
      "needs_background": "light"
     },
     "output_type": "display_data"
    }
   ],
   "source": [
    "#scatterplot\n",
    "principalComponents = pca.fit_transform(np.array(embed_2))\n",
    "embed_2 = pd.DataFrame(data = principalComponents, columns = ['pc1', 'pc2'])\n",
    "embed_2[\"responses\"] = embed_2_responses\n",
    "fig = px.scatter(embed_1, x=\"pc1\", y=\"pc2\", opacity=.4, hover_name=\"responses\")\n",
    "fig.show()\n",
    "\n",
    "#heatmap with raw numbers \n",
    "heatmap2, xedges, yedges = np.histogram2d(list(embed_2[\"pc1\"]), list(embed_2[\"pc2\"]), bins=bin_size, density=False)\n",
    "heatmap2 = gaussian_filter(heatmap2, sigma=1)\n",
    "extent = [xedges[0], xedges[-1], yedges[0], yedges[-1]]\n",
    "\n",
    "plt.clf()\n",
    "plt.title(\"Generation Density Heatmap\")\n",
    "plt.imshow(heatmap2.T, extent=extent, origin='lower')\n",
    "plt.colorbar()\n",
    "plt.show()\n",
    "\n",
    "# #heatmap with weights\n",
    "# heatmap, xedges, yedges = np.histogram2d(list(embed_2[\"pc1\"]), list(embed_2[\"pc2\"]), bins=bin_size, weights = embed_2_weights, density=True)\n",
    "# # average = heatmap / np.sum(heatmap)\n",
    "# heatmap = gaussian_filter(heatmap, sigma=1)\n",
    "# extent = [xedges[0], xedges[-1], yedges[0], yedges[-1]]\n",
    "\n",
    "# plt.clf()\n",
    "# plt.imshow(heatmap.T, extent=extent, origin='lower')\n",
    "# plt.show()\n",
    "\n",
    "\n",
    "#median sentiment heatmap\n",
    "# Compute the median of the weights in each bin\n",
    "median, _, _, _ = binned_statistic_2d(list(embed_2[\"pc1\"]), list(embed_2[\"pc2\"]), embed_2_weights, statistic='median', bins=(bin_size, bin_size))\n",
    "#set all nans to 0\n",
    "for y in range(len(median)): \n",
    "    for x in range(len(median[y])):\n",
    "        if pd.isna(median[x][y]):\n",
    "            median[x][y]  = 0\n",
    "median = gaussian_filter(median, sigma=1)\n",
    "\n",
    "# plot the heatmap\n",
    "plt.clf()\n",
    "plt.title(\"Generation Median Sentiment Heatmap\")\n",
    "plt.imshow(median, origin='lower', extent=[xedges[0], xedges[-1], yedges[0], yedges[-1]], interpolation='nearest')\n",
    "plt.colorbar()\n",
    "plt.show()"
   ]
  },
  {
   "cell_type": "code",
   "execution_count": 130,
   "metadata": {},
   "outputs": [
    {
     "data": {
      "application/vnd.plotly.v1+json": {
       "config": {
        "plotlyServerURL": "https://plot.ly"
       },
       "data": [
        {
         "hovertemplate": "<b>%{hovertext}</b><br><br>pc1=%{x}<br>pc2=%{y}<extra></extra>",
         "hovertext": [
          "scenario5: have a snack",
          "scenario5: Check my phone.",
          "scenario5: have a snack",
          "scenario5: Check my phone.",
          "scenario5: I could stop off and get donuts for the meeting. ",
          "scenario5: Get a snack ",
          "scenario5: check my email",
          "scenario5: chat with a friend",
          "scenario5: make calls",
          "scenario5: gather materials for the meeting",
          "scenario5: Grab a drink",
          "scenario5: grab a coffee",
          "scenario5: Grab something to drink during the meeting",
          "scenario5: I could put a mint in my mouth.",
          "scenario5: read some emails",
          "scenario5: discuss",
          "scenario5: Get a drink.",
          "scenario5: talk to people",
          "scenario5: Think through what I want to say in the meeting.  Try to map it out in my brain",
          "scenario5: I brainstormed some ideas.",
          "scenario5: prepare, take notes",
          "scenario5: I would try to rehearse the meeting in my head, imagining how it will be organized (how to begin, what to bring up, and how to close the meeting). By doing this I would be prepping myself, as well as organizing my own thoughts and intentions for the meeting.",
          "scenario5: Stop in the bathroom to use the facilities.",
          "scenario5: On my way to the meeting, I would stop by the restroom.",
          "scenario5: Check my phone.",
          "scenario5: practice my presentation",
          "scenario5: drink water",
          "scenario5: Catch up with someone ",
          "scenario5: talk to my coworkers",
          "scenario5: Go over the main points of what I want to accomplish ",
          "scenario5: make a phone call",
          "scenario5: I could pull together my notes and make sure I'm prepared.",
          "scenario5: Go through my notes for the meeting.",
          "scenario5: Think about what I will say.",
          "scenario5: Think",
          "scenario5: rehearse what you'll say",
          "scenario5: Review my notes and make sure everything is in order.",
          "scenario5: Check my calendar.",
          "scenario5: I could get a cup of coffee.",
          "scenario5: Go to the bathroom",
          "scenario5: check email on my phone",
          "scenario5: Review notes",
          "scenario5: I could think of things I want to accomplish at the meeting. ",
          "scenario5: rehearse your thoughts for the meeting",
          "scenario5: brainstorm ideas",
          "scenario5: Check my makeup",
          "scenario5: grab a diet coke",
          "scenario5: Go to the bathroom",
          "scenario5: check the time",
          "scenario5: I could rehearse the presentation in my head as I'm walking to the meeting"
         ],
         "legendgroup": "",
         "marker": {
          "color": "#636efa",
          "opacity": 0.4,
          "symbol": "circle"
         },
         "mode": "markers",
         "name": "",
         "orientation": "v",
         "showlegend": false,
         "type": "scatter",
         "x": [
          12.054620726218749,
          4.6781057469457155,
          12.054620726218753,
          4.678105746945719,
          0.4362396111271936,
          12.728770423238755,
          0.14305635822659712,
          -1.8535515338276258,
          -3.539882000550398,
          -8.557996587124338,
          12.882934490677368,
          12.860784560287884,
          3.3032902888599103,
          7.077678631828019,
          -1.786132231800669,
          -7.171691399079109,
          10.037295802040777,
          -4.459200626436925,
          -6.55385595385613,
          -6.35282272986524,
          -2.1398783860067527,
          -8.654218908073979,
          2.041522766655567,
          -0.704260545386829,
          4.678105746945717,
          -8.311446019004219,
          8.749073495924044,
          -1.081325391882324,
          -5.872892929873043,
          -5.115953164608256,
          0.39483767798593816,
          -3.539942117414509,
          -5.25640346326852,
          -4.180827991620857,
          -2.9429215757562788,
          -9.756078556954288,
          -3.4663099607409236,
          -0.5948516744595533,
          8.879269567136852,
          2.9009623244046097,
          1.112188845560828,
          -2.387115596660107,
          -7.04492474275007,
          -10.847550621937085,
          -9.391904713753876,
          2.1471882161046354,
          13.366718885649748,
          2.9009623244046097,
          0.36644653808968286,
          -8.908840078785767
         ],
         "xaxis": "x",
         "y": [
          -4.861335767731511,
          16.618450381880628,
          -4.861335767731505,
          16.61845038188064,
          -2.068416407951305,
          -4.264716832825037,
          13.909304880049737,
          -2.491707507669578,
          1.4993984818077992,
          -4.768846186201625,
          -6.878600869740055,
          -5.695942343578997,
          -7.385239074327546,
          -4.475478679755992,
          7.349463256331985,
          -5.918308477057572,
          -6.344982790083782,
          -3.999147702924054,
          -1.8681293296755763,
          -3.754778948777758,
          1.3468511813845145,
          -1.9387751924578671,
          -3.0044331076481594,
          -1.904828709809284,
          16.618450381880642,
          -2.195602151424459,
          -7.191062663846117,
          -1.3761684467598823,
          -1.7929042683357166,
          -2.0719923217022367,
          5.094443223759164,
          1.983332077217002,
          1.6125553001109574,
          -2.6767083581772146,
          -2.197057497527659,
          -3.6052476301810175,
          3.6018972245321943,
          10.365818091590155,
          -5.138269779496358,
          -3.965478452442267,
          15.697948951426298,
          0.17573952678324364,
          -3.632299950995465,
          -3.146380997757839,
          -6.39154782937051,
          8.630334378384095,
          -1.3419855723861147,
          -3.965478452442267,
          7.852911702791229,
          -1.8021613530179743
         ],
         "yaxis": "y"
        }
       ],
       "layout": {
        "legend": {
         "tracegroupgap": 0
        },
        "margin": {
         "t": 60
        },
        "template": {
         "data": {
          "bar": [
           {
            "error_x": {
             "color": "#2a3f5f"
            },
            "error_y": {
             "color": "#2a3f5f"
            },
            "marker": {
             "line": {
              "color": "#E5ECF6",
              "width": 0.5
             },
             "pattern": {
              "fillmode": "overlay",
              "size": 10,
              "solidity": 0.2
             }
            },
            "type": "bar"
           }
          ],
          "barpolar": [
           {
            "marker": {
             "line": {
              "color": "#E5ECF6",
              "width": 0.5
             },
             "pattern": {
              "fillmode": "overlay",
              "size": 10,
              "solidity": 0.2
             }
            },
            "type": "barpolar"
           }
          ],
          "carpet": [
           {
            "aaxis": {
             "endlinecolor": "#2a3f5f",
             "gridcolor": "white",
             "linecolor": "white",
             "minorgridcolor": "white",
             "startlinecolor": "#2a3f5f"
            },
            "baxis": {
             "endlinecolor": "#2a3f5f",
             "gridcolor": "white",
             "linecolor": "white",
             "minorgridcolor": "white",
             "startlinecolor": "#2a3f5f"
            },
            "type": "carpet"
           }
          ],
          "choropleth": [
           {
            "colorbar": {
             "outlinewidth": 0,
             "ticks": ""
            },
            "type": "choropleth"
           }
          ],
          "contour": [
           {
            "colorbar": {
             "outlinewidth": 0,
             "ticks": ""
            },
            "colorscale": [
             [
              0,
              "#0d0887"
             ],
             [
              0.1111111111111111,
              "#46039f"
             ],
             [
              0.2222222222222222,
              "#7201a8"
             ],
             [
              0.3333333333333333,
              "#9c179e"
             ],
             [
              0.4444444444444444,
              "#bd3786"
             ],
             [
              0.5555555555555556,
              "#d8576b"
             ],
             [
              0.6666666666666666,
              "#ed7953"
             ],
             [
              0.7777777777777778,
              "#fb9f3a"
             ],
             [
              0.8888888888888888,
              "#fdca26"
             ],
             [
              1,
              "#f0f921"
             ]
            ],
            "type": "contour"
           }
          ],
          "contourcarpet": [
           {
            "colorbar": {
             "outlinewidth": 0,
             "ticks": ""
            },
            "type": "contourcarpet"
           }
          ],
          "heatmap": [
           {
            "colorbar": {
             "outlinewidth": 0,
             "ticks": ""
            },
            "colorscale": [
             [
              0,
              "#0d0887"
             ],
             [
              0.1111111111111111,
              "#46039f"
             ],
             [
              0.2222222222222222,
              "#7201a8"
             ],
             [
              0.3333333333333333,
              "#9c179e"
             ],
             [
              0.4444444444444444,
              "#bd3786"
             ],
             [
              0.5555555555555556,
              "#d8576b"
             ],
             [
              0.6666666666666666,
              "#ed7953"
             ],
             [
              0.7777777777777778,
              "#fb9f3a"
             ],
             [
              0.8888888888888888,
              "#fdca26"
             ],
             [
              1,
              "#f0f921"
             ]
            ],
            "type": "heatmap"
           }
          ],
          "heatmapgl": [
           {
            "colorbar": {
             "outlinewidth": 0,
             "ticks": ""
            },
            "colorscale": [
             [
              0,
              "#0d0887"
             ],
             [
              0.1111111111111111,
              "#46039f"
             ],
             [
              0.2222222222222222,
              "#7201a8"
             ],
             [
              0.3333333333333333,
              "#9c179e"
             ],
             [
              0.4444444444444444,
              "#bd3786"
             ],
             [
              0.5555555555555556,
              "#d8576b"
             ],
             [
              0.6666666666666666,
              "#ed7953"
             ],
             [
              0.7777777777777778,
              "#fb9f3a"
             ],
             [
              0.8888888888888888,
              "#fdca26"
             ],
             [
              1,
              "#f0f921"
             ]
            ],
            "type": "heatmapgl"
           }
          ],
          "histogram": [
           {
            "marker": {
             "pattern": {
              "fillmode": "overlay",
              "size": 10,
              "solidity": 0.2
             }
            },
            "type": "histogram"
           }
          ],
          "histogram2d": [
           {
            "colorbar": {
             "outlinewidth": 0,
             "ticks": ""
            },
            "colorscale": [
             [
              0,
              "#0d0887"
             ],
             [
              0.1111111111111111,
              "#46039f"
             ],
             [
              0.2222222222222222,
              "#7201a8"
             ],
             [
              0.3333333333333333,
              "#9c179e"
             ],
             [
              0.4444444444444444,
              "#bd3786"
             ],
             [
              0.5555555555555556,
              "#d8576b"
             ],
             [
              0.6666666666666666,
              "#ed7953"
             ],
             [
              0.7777777777777778,
              "#fb9f3a"
             ],
             [
              0.8888888888888888,
              "#fdca26"
             ],
             [
              1,
              "#f0f921"
             ]
            ],
            "type": "histogram2d"
           }
          ],
          "histogram2dcontour": [
           {
            "colorbar": {
             "outlinewidth": 0,
             "ticks": ""
            },
            "colorscale": [
             [
              0,
              "#0d0887"
             ],
             [
              0.1111111111111111,
              "#46039f"
             ],
             [
              0.2222222222222222,
              "#7201a8"
             ],
             [
              0.3333333333333333,
              "#9c179e"
             ],
             [
              0.4444444444444444,
              "#bd3786"
             ],
             [
              0.5555555555555556,
              "#d8576b"
             ],
             [
              0.6666666666666666,
              "#ed7953"
             ],
             [
              0.7777777777777778,
              "#fb9f3a"
             ],
             [
              0.8888888888888888,
              "#fdca26"
             ],
             [
              1,
              "#f0f921"
             ]
            ],
            "type": "histogram2dcontour"
           }
          ],
          "mesh3d": [
           {
            "colorbar": {
             "outlinewidth": 0,
             "ticks": ""
            },
            "type": "mesh3d"
           }
          ],
          "parcoords": [
           {
            "line": {
             "colorbar": {
              "outlinewidth": 0,
              "ticks": ""
             }
            },
            "type": "parcoords"
           }
          ],
          "pie": [
           {
            "automargin": true,
            "type": "pie"
           }
          ],
          "scatter": [
           {
            "fillpattern": {
             "fillmode": "overlay",
             "size": 10,
             "solidity": 0.2
            },
            "type": "scatter"
           }
          ],
          "scatter3d": [
           {
            "line": {
             "colorbar": {
              "outlinewidth": 0,
              "ticks": ""
             }
            },
            "marker": {
             "colorbar": {
              "outlinewidth": 0,
              "ticks": ""
             }
            },
            "type": "scatter3d"
           }
          ],
          "scattercarpet": [
           {
            "marker": {
             "colorbar": {
              "outlinewidth": 0,
              "ticks": ""
             }
            },
            "type": "scattercarpet"
           }
          ],
          "scattergeo": [
           {
            "marker": {
             "colorbar": {
              "outlinewidth": 0,
              "ticks": ""
             }
            },
            "type": "scattergeo"
           }
          ],
          "scattergl": [
           {
            "marker": {
             "colorbar": {
              "outlinewidth": 0,
              "ticks": ""
             }
            },
            "type": "scattergl"
           }
          ],
          "scattermapbox": [
           {
            "marker": {
             "colorbar": {
              "outlinewidth": 0,
              "ticks": ""
             }
            },
            "type": "scattermapbox"
           }
          ],
          "scatterpolar": [
           {
            "marker": {
             "colorbar": {
              "outlinewidth": 0,
              "ticks": ""
             }
            },
            "type": "scatterpolar"
           }
          ],
          "scatterpolargl": [
           {
            "marker": {
             "colorbar": {
              "outlinewidth": 0,
              "ticks": ""
             }
            },
            "type": "scatterpolargl"
           }
          ],
          "scatterternary": [
           {
            "marker": {
             "colorbar": {
              "outlinewidth": 0,
              "ticks": ""
             }
            },
            "type": "scatterternary"
           }
          ],
          "surface": [
           {
            "colorbar": {
             "outlinewidth": 0,
             "ticks": ""
            },
            "colorscale": [
             [
              0,
              "#0d0887"
             ],
             [
              0.1111111111111111,
              "#46039f"
             ],
             [
              0.2222222222222222,
              "#7201a8"
             ],
             [
              0.3333333333333333,
              "#9c179e"
             ],
             [
              0.4444444444444444,
              "#bd3786"
             ],
             [
              0.5555555555555556,
              "#d8576b"
             ],
             [
              0.6666666666666666,
              "#ed7953"
             ],
             [
              0.7777777777777778,
              "#fb9f3a"
             ],
             [
              0.8888888888888888,
              "#fdca26"
             ],
             [
              1,
              "#f0f921"
             ]
            ],
            "type": "surface"
           }
          ],
          "table": [
           {
            "cells": {
             "fill": {
              "color": "#EBF0F8"
             },
             "line": {
              "color": "white"
             }
            },
            "header": {
             "fill": {
              "color": "#C8D4E3"
             },
             "line": {
              "color": "white"
             }
            },
            "type": "table"
           }
          ]
         },
         "layout": {
          "annotationdefaults": {
           "arrowcolor": "#2a3f5f",
           "arrowhead": 0,
           "arrowwidth": 1
          },
          "autotypenumbers": "strict",
          "coloraxis": {
           "colorbar": {
            "outlinewidth": 0,
            "ticks": ""
           }
          },
          "colorscale": {
           "diverging": [
            [
             0,
             "#8e0152"
            ],
            [
             0.1,
             "#c51b7d"
            ],
            [
             0.2,
             "#de77ae"
            ],
            [
             0.3,
             "#f1b6da"
            ],
            [
             0.4,
             "#fde0ef"
            ],
            [
             0.5,
             "#f7f7f7"
            ],
            [
             0.6,
             "#e6f5d0"
            ],
            [
             0.7,
             "#b8e186"
            ],
            [
             0.8,
             "#7fbc41"
            ],
            [
             0.9,
             "#4d9221"
            ],
            [
             1,
             "#276419"
            ]
           ],
           "sequential": [
            [
             0,
             "#0d0887"
            ],
            [
             0.1111111111111111,
             "#46039f"
            ],
            [
             0.2222222222222222,
             "#7201a8"
            ],
            [
             0.3333333333333333,
             "#9c179e"
            ],
            [
             0.4444444444444444,
             "#bd3786"
            ],
            [
             0.5555555555555556,
             "#d8576b"
            ],
            [
             0.6666666666666666,
             "#ed7953"
            ],
            [
             0.7777777777777778,
             "#fb9f3a"
            ],
            [
             0.8888888888888888,
             "#fdca26"
            ],
            [
             1,
             "#f0f921"
            ]
           ],
           "sequentialminus": [
            [
             0,
             "#0d0887"
            ],
            [
             0.1111111111111111,
             "#46039f"
            ],
            [
             0.2222222222222222,
             "#7201a8"
            ],
            [
             0.3333333333333333,
             "#9c179e"
            ],
            [
             0.4444444444444444,
             "#bd3786"
            ],
            [
             0.5555555555555556,
             "#d8576b"
            ],
            [
             0.6666666666666666,
             "#ed7953"
            ],
            [
             0.7777777777777778,
             "#fb9f3a"
            ],
            [
             0.8888888888888888,
             "#fdca26"
            ],
            [
             1,
             "#f0f921"
            ]
           ]
          },
          "colorway": [
           "#636efa",
           "#EF553B",
           "#00cc96",
           "#ab63fa",
           "#FFA15A",
           "#19d3f3",
           "#FF6692",
           "#B6E880",
           "#FF97FF",
           "#FECB52"
          ],
          "font": {
           "color": "#2a3f5f"
          },
          "geo": {
           "bgcolor": "white",
           "lakecolor": "white",
           "landcolor": "#E5ECF6",
           "showlakes": true,
           "showland": true,
           "subunitcolor": "white"
          },
          "hoverlabel": {
           "align": "left"
          },
          "hovermode": "closest",
          "mapbox": {
           "style": "light"
          },
          "paper_bgcolor": "white",
          "plot_bgcolor": "#E5ECF6",
          "polar": {
           "angularaxis": {
            "gridcolor": "white",
            "linecolor": "white",
            "ticks": ""
           },
           "bgcolor": "#E5ECF6",
           "radialaxis": {
            "gridcolor": "white",
            "linecolor": "white",
            "ticks": ""
           }
          },
          "scene": {
           "xaxis": {
            "backgroundcolor": "#E5ECF6",
            "gridcolor": "white",
            "gridwidth": 2,
            "linecolor": "white",
            "showbackground": true,
            "ticks": "",
            "zerolinecolor": "white"
           },
           "yaxis": {
            "backgroundcolor": "#E5ECF6",
            "gridcolor": "white",
            "gridwidth": 2,
            "linecolor": "white",
            "showbackground": true,
            "ticks": "",
            "zerolinecolor": "white"
           },
           "zaxis": {
            "backgroundcolor": "#E5ECF6",
            "gridcolor": "white",
            "gridwidth": 2,
            "linecolor": "white",
            "showbackground": true,
            "ticks": "",
            "zerolinecolor": "white"
           }
          },
          "shapedefaults": {
           "line": {
            "color": "#2a3f5f"
           }
          },
          "ternary": {
           "aaxis": {
            "gridcolor": "white",
            "linecolor": "white",
            "ticks": ""
           },
           "baxis": {
            "gridcolor": "white",
            "linecolor": "white",
            "ticks": ""
           },
           "bgcolor": "#E5ECF6",
           "caxis": {
            "gridcolor": "white",
            "linecolor": "white",
            "ticks": ""
           }
          },
          "title": {
           "x": 0.05
          },
          "xaxis": {
           "automargin": true,
           "gridcolor": "white",
           "linecolor": "white",
           "ticks": "",
           "title": {
            "standoff": 15
           },
           "zerolinecolor": "white",
           "zerolinewidth": 2
          },
          "yaxis": {
           "automargin": true,
           "gridcolor": "white",
           "linecolor": "white",
           "ticks": "",
           "title": {
            "standoff": 15
           },
           "zerolinecolor": "white",
           "zerolinewidth": 2
          }
         }
        },
        "xaxis": {
         "anchor": "y",
         "domain": [
          0,
          1
         ],
         "title": {
          "text": "pc1"
         }
        },
        "yaxis": {
         "anchor": "x",
         "domain": [
          0,
          1
         ],
         "title": {
          "text": "pc2"
         }
        }
       }
      },
      "text/html": [
       "<div>                            <div id=\"337eec82-1830-4709-8df8-c44c43becd6d\" class=\"plotly-graph-div\" style=\"height:525px; width:100%;\"></div>            <script type=\"text/javascript\">                require([\"plotly\"], function(Plotly) {                    window.PLOTLYENV=window.PLOTLYENV || {};                                    if (document.getElementById(\"337eec82-1830-4709-8df8-c44c43becd6d\")) {                    Plotly.newPlot(                        \"337eec82-1830-4709-8df8-c44c43becd6d\",                        [{\"hovertemplate\":\"<b>%{hovertext}</b><br><br>pc1=%{x}<br>pc2=%{y}<extra></extra>\",\"hovertext\":[\"scenario5: have a snack\",\"scenario5: Check my phone.\",\"scenario5: have a snack\",\"scenario5: Check my phone.\",\"scenario5: I could stop off and get donuts for the meeting. \",\"scenario5: Get a snack \",\"scenario5: check my email\",\"scenario5: chat with a friend\",\"scenario5: make calls\",\"scenario5: gather materials for the meeting\",\"scenario5: Grab a drink\",\"scenario5: grab a coffee\",\"scenario5: Grab something to drink during the meeting\",\"scenario5: I could put a mint in my mouth.\",\"scenario5: read some emails\",\"scenario5: discuss\",\"scenario5: Get a drink.\",\"scenario5: talk to people\",\"scenario5: Think through what I want to say in the meeting.  Try to map it out in my brain\",\"scenario5: I brainstormed some ideas.\",\"scenario5: prepare, take notes\",\"scenario5: I would try to rehearse the meeting in my head, imagining how it will be organized (how to begin, what to bring up, and how to close the meeting). By doing this I would be prepping myself, as well as organizing my own thoughts and intentions for the meeting.\",\"scenario5: Stop in the bathroom to use the facilities.\",\"scenario5: On my way to the meeting, I would stop by the restroom.\",\"scenario5: Check my phone.\",\"scenario5: practice my presentation\",\"scenario5: drink water\",\"scenario5: Catch up with someone \",\"scenario5: talk to my coworkers\",\"scenario5: Go over the main points of what I want to accomplish \",\"scenario5: make a phone call\",\"scenario5: I could pull together my notes and make sure I'm prepared.\",\"scenario5: Go through my notes for the meeting.\",\"scenario5: Think about what I will say.\",\"scenario5: Think\",\"scenario5: rehearse what you'll say\",\"scenario5: Review my notes and make sure everything is in order.\",\"scenario5: Check my calendar.\",\"scenario5: I could get a cup of coffee.\",\"scenario5: Go to the bathroom\",\"scenario5: check email on my phone\",\"scenario5: Review notes\",\"scenario5: I could think of things I want to accomplish at the meeting. \",\"scenario5: rehearse your thoughts for the meeting\",\"scenario5: brainstorm ideas\",\"scenario5: Check my makeup\",\"scenario5: grab a diet coke\",\"scenario5: Go to the bathroom\",\"scenario5: check the time\",\"scenario5: I could rehearse the presentation in my head as I'm walking to the meeting\"],\"legendgroup\":\"\",\"marker\":{\"color\":\"#636efa\",\"opacity\":0.4,\"symbol\":\"circle\"},\"mode\":\"markers\",\"name\":\"\",\"orientation\":\"v\",\"showlegend\":false,\"x\":[12.054620726218749,4.6781057469457155,12.054620726218753,4.678105746945719,0.4362396111271936,12.728770423238755,0.14305635822659712,-1.8535515338276258,-3.539882000550398,-8.557996587124338,12.882934490677368,12.860784560287884,3.3032902888599103,7.077678631828019,-1.786132231800669,-7.171691399079109,10.037295802040777,-4.459200626436925,-6.55385595385613,-6.35282272986524,-2.1398783860067527,-8.654218908073979,2.041522766655567,-0.704260545386829,4.678105746945717,-8.311446019004219,8.749073495924044,-1.081325391882324,-5.872892929873043,-5.115953164608256,0.39483767798593816,-3.539942117414509,-5.25640346326852,-4.180827991620857,-2.9429215757562788,-9.756078556954288,-3.4663099607409236,-0.5948516744595533,8.879269567136852,2.9009623244046097,1.112188845560828,-2.387115596660107,-7.04492474275007,-10.847550621937085,-9.391904713753876,2.1471882161046354,13.366718885649748,2.9009623244046097,0.36644653808968286,-8.908840078785767],\"xaxis\":\"x\",\"y\":[-4.861335767731511,16.618450381880628,-4.861335767731505,16.61845038188064,-2.068416407951305,-4.264716832825037,13.909304880049737,-2.491707507669578,1.4993984818077992,-4.768846186201625,-6.878600869740055,-5.695942343578997,-7.385239074327546,-4.475478679755992,7.349463256331985,-5.918308477057572,-6.344982790083782,-3.999147702924054,-1.8681293296755763,-3.754778948777758,1.3468511813845145,-1.9387751924578671,-3.0044331076481594,-1.904828709809284,16.618450381880642,-2.195602151424459,-7.191062663846117,-1.3761684467598823,-1.7929042683357166,-2.0719923217022367,5.094443223759164,1.983332077217002,1.6125553001109574,-2.6767083581772146,-2.197057497527659,-3.6052476301810175,3.6018972245321943,10.365818091590155,-5.138269779496358,-3.965478452442267,15.697948951426298,0.17573952678324364,-3.632299950995465,-3.146380997757839,-6.39154782937051,8.630334378384095,-1.3419855723861147,-3.965478452442267,7.852911702791229,-1.8021613530179743],\"yaxis\":\"y\",\"type\":\"scatter\"}],                        {\"template\":{\"data\":{\"histogram2dcontour\":[{\"type\":\"histogram2dcontour\",\"colorbar\":{\"outlinewidth\":0,\"ticks\":\"\"},\"colorscale\":[[0.0,\"#0d0887\"],[0.1111111111111111,\"#46039f\"],[0.2222222222222222,\"#7201a8\"],[0.3333333333333333,\"#9c179e\"],[0.4444444444444444,\"#bd3786\"],[0.5555555555555556,\"#d8576b\"],[0.6666666666666666,\"#ed7953\"],[0.7777777777777778,\"#fb9f3a\"],[0.8888888888888888,\"#fdca26\"],[1.0,\"#f0f921\"]]}],\"choropleth\":[{\"type\":\"choropleth\",\"colorbar\":{\"outlinewidth\":0,\"ticks\":\"\"}}],\"histogram2d\":[{\"type\":\"histogram2d\",\"colorbar\":{\"outlinewidth\":0,\"ticks\":\"\"},\"colorscale\":[[0.0,\"#0d0887\"],[0.1111111111111111,\"#46039f\"],[0.2222222222222222,\"#7201a8\"],[0.3333333333333333,\"#9c179e\"],[0.4444444444444444,\"#bd3786\"],[0.5555555555555556,\"#d8576b\"],[0.6666666666666666,\"#ed7953\"],[0.7777777777777778,\"#fb9f3a\"],[0.8888888888888888,\"#fdca26\"],[1.0,\"#f0f921\"]]}],\"heatmap\":[{\"type\":\"heatmap\",\"colorbar\":{\"outlinewidth\":0,\"ticks\":\"\"},\"colorscale\":[[0.0,\"#0d0887\"],[0.1111111111111111,\"#46039f\"],[0.2222222222222222,\"#7201a8\"],[0.3333333333333333,\"#9c179e\"],[0.4444444444444444,\"#bd3786\"],[0.5555555555555556,\"#d8576b\"],[0.6666666666666666,\"#ed7953\"],[0.7777777777777778,\"#fb9f3a\"],[0.8888888888888888,\"#fdca26\"],[1.0,\"#f0f921\"]]}],\"heatmapgl\":[{\"type\":\"heatmapgl\",\"colorbar\":{\"outlinewidth\":0,\"ticks\":\"\"},\"colorscale\":[[0.0,\"#0d0887\"],[0.1111111111111111,\"#46039f\"],[0.2222222222222222,\"#7201a8\"],[0.3333333333333333,\"#9c179e\"],[0.4444444444444444,\"#bd3786\"],[0.5555555555555556,\"#d8576b\"],[0.6666666666666666,\"#ed7953\"],[0.7777777777777778,\"#fb9f3a\"],[0.8888888888888888,\"#fdca26\"],[1.0,\"#f0f921\"]]}],\"contourcarpet\":[{\"type\":\"contourcarpet\",\"colorbar\":{\"outlinewidth\":0,\"ticks\":\"\"}}],\"contour\":[{\"type\":\"contour\",\"colorbar\":{\"outlinewidth\":0,\"ticks\":\"\"},\"colorscale\":[[0.0,\"#0d0887\"],[0.1111111111111111,\"#46039f\"],[0.2222222222222222,\"#7201a8\"],[0.3333333333333333,\"#9c179e\"],[0.4444444444444444,\"#bd3786\"],[0.5555555555555556,\"#d8576b\"],[0.6666666666666666,\"#ed7953\"],[0.7777777777777778,\"#fb9f3a\"],[0.8888888888888888,\"#fdca26\"],[1.0,\"#f0f921\"]]}],\"surface\":[{\"type\":\"surface\",\"colorbar\":{\"outlinewidth\":0,\"ticks\":\"\"},\"colorscale\":[[0.0,\"#0d0887\"],[0.1111111111111111,\"#46039f\"],[0.2222222222222222,\"#7201a8\"],[0.3333333333333333,\"#9c179e\"],[0.4444444444444444,\"#bd3786\"],[0.5555555555555556,\"#d8576b\"],[0.6666666666666666,\"#ed7953\"],[0.7777777777777778,\"#fb9f3a\"],[0.8888888888888888,\"#fdca26\"],[1.0,\"#f0f921\"]]}],\"mesh3d\":[{\"type\":\"mesh3d\",\"colorbar\":{\"outlinewidth\":0,\"ticks\":\"\"}}],\"scatter\":[{\"fillpattern\":{\"fillmode\":\"overlay\",\"size\":10,\"solidity\":0.2},\"type\":\"scatter\"}],\"parcoords\":[{\"type\":\"parcoords\",\"line\":{\"colorbar\":{\"outlinewidth\":0,\"ticks\":\"\"}}}],\"scatterpolargl\":[{\"type\":\"scatterpolargl\",\"marker\":{\"colorbar\":{\"outlinewidth\":0,\"ticks\":\"\"}}}],\"bar\":[{\"error_x\":{\"color\":\"#2a3f5f\"},\"error_y\":{\"color\":\"#2a3f5f\"},\"marker\":{\"line\":{\"color\":\"#E5ECF6\",\"width\":0.5},\"pattern\":{\"fillmode\":\"overlay\",\"size\":10,\"solidity\":0.2}},\"type\":\"bar\"}],\"scattergeo\":[{\"type\":\"scattergeo\",\"marker\":{\"colorbar\":{\"outlinewidth\":0,\"ticks\":\"\"}}}],\"scatterpolar\":[{\"type\":\"scatterpolar\",\"marker\":{\"colorbar\":{\"outlinewidth\":0,\"ticks\":\"\"}}}],\"histogram\":[{\"marker\":{\"pattern\":{\"fillmode\":\"overlay\",\"size\":10,\"solidity\":0.2}},\"type\":\"histogram\"}],\"scattergl\":[{\"type\":\"scattergl\",\"marker\":{\"colorbar\":{\"outlinewidth\":0,\"ticks\":\"\"}}}],\"scatter3d\":[{\"type\":\"scatter3d\",\"line\":{\"colorbar\":{\"outlinewidth\":0,\"ticks\":\"\"}},\"marker\":{\"colorbar\":{\"outlinewidth\":0,\"ticks\":\"\"}}}],\"scattermapbox\":[{\"type\":\"scattermapbox\",\"marker\":{\"colorbar\":{\"outlinewidth\":0,\"ticks\":\"\"}}}],\"scatterternary\":[{\"type\":\"scatterternary\",\"marker\":{\"colorbar\":{\"outlinewidth\":0,\"ticks\":\"\"}}}],\"scattercarpet\":[{\"type\":\"scattercarpet\",\"marker\":{\"colorbar\":{\"outlinewidth\":0,\"ticks\":\"\"}}}],\"carpet\":[{\"aaxis\":{\"endlinecolor\":\"#2a3f5f\",\"gridcolor\":\"white\",\"linecolor\":\"white\",\"minorgridcolor\":\"white\",\"startlinecolor\":\"#2a3f5f\"},\"baxis\":{\"endlinecolor\":\"#2a3f5f\",\"gridcolor\":\"white\",\"linecolor\":\"white\",\"minorgridcolor\":\"white\",\"startlinecolor\":\"#2a3f5f\"},\"type\":\"carpet\"}],\"table\":[{\"cells\":{\"fill\":{\"color\":\"#EBF0F8\"},\"line\":{\"color\":\"white\"}},\"header\":{\"fill\":{\"color\":\"#C8D4E3\"},\"line\":{\"color\":\"white\"}},\"type\":\"table\"}],\"barpolar\":[{\"marker\":{\"line\":{\"color\":\"#E5ECF6\",\"width\":0.5},\"pattern\":{\"fillmode\":\"overlay\",\"size\":10,\"solidity\":0.2}},\"type\":\"barpolar\"}],\"pie\":[{\"automargin\":true,\"type\":\"pie\"}]},\"layout\":{\"autotypenumbers\":\"strict\",\"colorway\":[\"#636efa\",\"#EF553B\",\"#00cc96\",\"#ab63fa\",\"#FFA15A\",\"#19d3f3\",\"#FF6692\",\"#B6E880\",\"#FF97FF\",\"#FECB52\"],\"font\":{\"color\":\"#2a3f5f\"},\"hovermode\":\"closest\",\"hoverlabel\":{\"align\":\"left\"},\"paper_bgcolor\":\"white\",\"plot_bgcolor\":\"#E5ECF6\",\"polar\":{\"bgcolor\":\"#E5ECF6\",\"angularaxis\":{\"gridcolor\":\"white\",\"linecolor\":\"white\",\"ticks\":\"\"},\"radialaxis\":{\"gridcolor\":\"white\",\"linecolor\":\"white\",\"ticks\":\"\"}},\"ternary\":{\"bgcolor\":\"#E5ECF6\",\"aaxis\":{\"gridcolor\":\"white\",\"linecolor\":\"white\",\"ticks\":\"\"},\"baxis\":{\"gridcolor\":\"white\",\"linecolor\":\"white\",\"ticks\":\"\"},\"caxis\":{\"gridcolor\":\"white\",\"linecolor\":\"white\",\"ticks\":\"\"}},\"coloraxis\":{\"colorbar\":{\"outlinewidth\":0,\"ticks\":\"\"}},\"colorscale\":{\"sequential\":[[0.0,\"#0d0887\"],[0.1111111111111111,\"#46039f\"],[0.2222222222222222,\"#7201a8\"],[0.3333333333333333,\"#9c179e\"],[0.4444444444444444,\"#bd3786\"],[0.5555555555555556,\"#d8576b\"],[0.6666666666666666,\"#ed7953\"],[0.7777777777777778,\"#fb9f3a\"],[0.8888888888888888,\"#fdca26\"],[1.0,\"#f0f921\"]],\"sequentialminus\":[[0.0,\"#0d0887\"],[0.1111111111111111,\"#46039f\"],[0.2222222222222222,\"#7201a8\"],[0.3333333333333333,\"#9c179e\"],[0.4444444444444444,\"#bd3786\"],[0.5555555555555556,\"#d8576b\"],[0.6666666666666666,\"#ed7953\"],[0.7777777777777778,\"#fb9f3a\"],[0.8888888888888888,\"#fdca26\"],[1.0,\"#f0f921\"]],\"diverging\":[[0,\"#8e0152\"],[0.1,\"#c51b7d\"],[0.2,\"#de77ae\"],[0.3,\"#f1b6da\"],[0.4,\"#fde0ef\"],[0.5,\"#f7f7f7\"],[0.6,\"#e6f5d0\"],[0.7,\"#b8e186\"],[0.8,\"#7fbc41\"],[0.9,\"#4d9221\"],[1,\"#276419\"]]},\"xaxis\":{\"gridcolor\":\"white\",\"linecolor\":\"white\",\"ticks\":\"\",\"title\":{\"standoff\":15},\"zerolinecolor\":\"white\",\"automargin\":true,\"zerolinewidth\":2},\"yaxis\":{\"gridcolor\":\"white\",\"linecolor\":\"white\",\"ticks\":\"\",\"title\":{\"standoff\":15},\"zerolinecolor\":\"white\",\"automargin\":true,\"zerolinewidth\":2},\"scene\":{\"xaxis\":{\"backgroundcolor\":\"#E5ECF6\",\"gridcolor\":\"white\",\"linecolor\":\"white\",\"showbackground\":true,\"ticks\":\"\",\"zerolinecolor\":\"white\",\"gridwidth\":2},\"yaxis\":{\"backgroundcolor\":\"#E5ECF6\",\"gridcolor\":\"white\",\"linecolor\":\"white\",\"showbackground\":true,\"ticks\":\"\",\"zerolinecolor\":\"white\",\"gridwidth\":2},\"zaxis\":{\"backgroundcolor\":\"#E5ECF6\",\"gridcolor\":\"white\",\"linecolor\":\"white\",\"showbackground\":true,\"ticks\":\"\",\"zerolinecolor\":\"white\",\"gridwidth\":2}},\"shapedefaults\":{\"line\":{\"color\":\"#2a3f5f\"}},\"annotationdefaults\":{\"arrowcolor\":\"#2a3f5f\",\"arrowhead\":0,\"arrowwidth\":1},\"geo\":{\"bgcolor\":\"white\",\"landcolor\":\"#E5ECF6\",\"subunitcolor\":\"white\",\"showland\":true,\"showlakes\":true,\"lakecolor\":\"white\"},\"title\":{\"x\":0.05},\"mapbox\":{\"style\":\"light\"}}},\"xaxis\":{\"anchor\":\"y\",\"domain\":[0.0,1.0],\"title\":{\"text\":\"pc1\"}},\"yaxis\":{\"anchor\":\"x\",\"domain\":[0.0,1.0],\"title\":{\"text\":\"pc2\"}},\"legend\":{\"tracegroupgap\":0},\"margin\":{\"t\":60}},                        {\"responsive\": true}                    ).then(function(){\n",
       "                            \n",
       "var gd = document.getElementById('337eec82-1830-4709-8df8-c44c43becd6d');\n",
       "var x = new MutationObserver(function (mutations, observer) {{\n",
       "        var display = window.getComputedStyle(gd).display;\n",
       "        if (!display || display === 'none') {{\n",
       "            console.log([gd, 'removed!']);\n",
       "            Plotly.purge(gd);\n",
       "            observer.disconnect();\n",
       "        }}\n",
       "}});\n",
       "\n",
       "// Listen for the removal of the full notebook cells\n",
       "var notebookContainer = gd.closest('#notebook-container');\n",
       "if (notebookContainer) {{\n",
       "    x.observe(notebookContainer, {childList: true});\n",
       "}}\n",
       "\n",
       "// Listen for the clearing of the current output cell\n",
       "var outputEl = gd.closest('.output');\n",
       "if (outputEl) {{\n",
       "    x.observe(outputEl, {childList: true});\n",
       "}}\n",
       "\n",
       "                        })                };                });            </script>        </div>"
      ]
     },
     "metadata": {},
     "output_type": "display_data"
    },
    {
     "data": {
      "image/png": "[encoded data removed]",
      "text/plain": [
       "<Figure size 432x288 with 2 Axes>"
      ]
     },
     "metadata": {
      "needs_background": "light"
     },
     "output_type": "display_data"
    },
    {
     "data": {
      "image/png": "[encoded data removed]",
      "text/plain": [
       "<Figure size 432x288 with 2 Axes>"
      ]
     },
     "metadata": {
      "needs_background": "light"
     },
     "output_type": "display_data"
    }
   ],
   "source": [
    "#scatterplot\n",
    "principalComponents = pca.fit_transform(np.array(embed_3))\n",
    "embed_3 = pd.DataFrame(data = principalComponents, columns = ['pc1', 'pc2'])\n",
    "embed_3[\"responses\"] = embed_3_responses\n",
    "fig = px.scatter(embed_1, x=\"pc1\", y=\"pc2\", opacity=.4, hover_name=\"responses\")\n",
    "fig.show()\n",
    "\n",
    "#heatmap with raw numbers\n",
    "heatmap3, xedges, yedges = np.histogram2d(list(embed_3[\"pc1\"]), list(embed_3[\"pc2\"]), bins=bin_size)\n",
    "heatmap3 = gaussian_filter(heatmap3, sigma=1)\n",
    "extent = [xedges[0], xedges[-1], yedges[0], yedges[-1]]\n",
    "\n",
    "plt.clf()\n",
    "plt.title(\"Generation Density Heatmap\")\n",
    "plt.imshow(heatmap3.T, extent=extent, origin='lower')\n",
    "plt.colorbar()\n",
    "plt.show()\n",
    "\n",
    "# #heatmap with weights\n",
    "# heatmap, xedges, yedges = np.histogram2d(list(embed_3[\"pc1\"]), list(embed_3[\"pc2\"]), bins=bin_size, weights = embed_3_weights, density=False)\n",
    "# heatmap = gaussian_filter(heatmap, sigma=1)\n",
    "# # print(heatmap)\n",
    "# extent = [xedges[0], xedges[-1], yedges[0], yedges[-1]]\n",
    "\n",
    "# plt.clf()\n",
    "# plt.imshow(heatmap.T, extent=extent, origin='lower')\n",
    "# plt.show()\n",
    "\n",
    "#median sentiment heatmap\n",
    "# Compute the median of the weights in each bin\n",
    "median, _, _, _ = binned_statistic_2d(list(embed_3[\"pc1\"]), list(embed_3[\"pc2\"]), embed_3_weights, statistic='median', bins=(bin_size, bin_size))\n",
    "#set all nans to 0\n",
    "for y in range(len(median)): \n",
    "    for x in range(len(median[y])):\n",
    "        if pd.isna(median[x][y]):\n",
    "            median[x][y]  = 0\n",
    "median = gaussian_filter(median, sigma=1)\n",
    "\n",
    "# plot the heatmap\n",
    "plt.clf()\n",
    "plt.title(\"Generation Median Sentiment Heatmap\")\n",
    "plt.imshow(median, origin='lower', extent=[xedges[0], xedges[-1], yedges[0], yedges[-1]], interpolation='nearest')\n",
    "plt.colorbar()\n",
    "plt.show()\n"
   ]
  },
  {
   "cell_type": "code",
   "execution_count": 131,
   "metadata": {},
   "outputs": [
    {
     "data": {
      "application/vnd.plotly.v1+json": {
       "config": {
        "plotlyServerURL": "https://plot.ly"
       },
       "data": [
        {
         "hovertemplate": "<b>%{hovertext}</b><br><br>pc1=%{x}<br>pc2=%{y}<extra></extra>",
         "hovertext": [
          "scenario5: have coffee",
          "scenario5: Get a snack from a vending machine.",
          "scenario5: have coffee",
          "scenario5: Get a snack from a vending machine.",
          "scenario5: I could think about what our objectives are as I drive to the meeting. ",
          "scenario5: Talk to others waiting",
          "scenario5: text my wife",
          "scenario5: use the restroom",
          "scenario5: get beverage",
          "scenario5: head toward the meeting location",
          "scenario5: Call up my wife. ",
          "scenario5: get a drink of water",
          "scenario5: Check emails",
          "scenario5: I could mentally go over issues that might come up in the meeting.",
          "scenario5: get prepped for the meeting",
          "scenario5: eat",
          "scenario5: Check your phone for messages.",
          "scenario5: eat",
          "scenario5: listen to music",
          "scenario5: Make sure I listen to other opinions and offer responses.",
          "scenario5: Have a quick snack",
          "scenario5: I could think about my primary goal for the meeting. Since it if relatively short, I would choose only one definitive, but substantial accomplishment I would like to bring up and complete. I would strategize, mentally, about how to approach the issue and gain support from others who will be at the meeting.",
          "scenario5: Double check my files/folders to be sure I had everything I needed for the meeting.",
          "scenario5: I would let my supervisor know I am going to the meeting.",
          "scenario5: Double check my notes for the event.",
          "scenario5: make phone calls",
          "scenario5: call on phone",
          "scenario5: Go to the bathrooms ",
          "scenario5: grab some water because im thirsty",
          "scenario5: Rehearse my material and delivery ",
          "scenario5: chat with coworkers",
          "scenario5: I could make a list of all the things we need to do for the event.",
          "scenario5: Call a coworker to discuss something related to the meeting.",
          "scenario5: Try and relax by thinking of pleasant thoughts.",
          "scenario5: Talk",
          "scenario5: hum a tune",
          "scenario5: Stop for a coffee or snack to bring to the meeting.",
          "scenario5: Check my emails.",
          "scenario5: I could make a phone call.",
          "scenario5: Get some coffee",
          "scenario5: practice what I am going to say at the meeting",
          "scenario5: Read news on your phone",
          "scenario5: I could visually how the meeting will go. ",
          "scenario5: turn your music up",
          "scenario5: rehearse what i'll say",
          "scenario5: Enjoy the scenery",
          "scenario5: review meeting agenda and material",
          "scenario5: Gather my thoughts",
          "scenario5: check for texts",
          "scenario5: I could go over my notes mentally as I'm walking to the meeting"
         ],
         "legendgroup": "",
         "marker": {
          "color": "#636efa",
          "opacity": 0.4,
          "symbol": "circle"
         },
         "mode": "markers",
         "name": "",
         "orientation": "v",
         "showlegend": false,
         "type": "scatter",
         "x": [
          15.330768185439775,
          9.744610148113573,
          15.330768185439787,
          9.744610148113562,
          -6.613982969845504,
          -4.2177982309463395,
          -4.576403437479739,
          2.5964852277549433,
          13.65830390099957,
          -6.681889392593517,
          -4.257520101163267,
          9.875189171422646,
          -1.5445283577312308,
          -5.5682842779857324,
          -5.3628184177471585,
          11.626173095429323,
          -3.7701240745148983,
          11.626173095429323,
          -3.018911193330241,
          -3.6591449440055053,
          12.281230687938358,
          -4.2984941999998485,
          -4.2387522823858665,
          -5.121520175413667,
          -3.4758257958143752,
          -4.112386630204494,
          -4.1215761931236345,
          3.009310376115527,
          10.267622938141045,
          -5.382914831287792,
          -4.771873183463955,
          -3.4742387808208615,
          -6.412538161924385,
          -1.235974050300973,
          -1.4532789731152533,
          -3.8309567193835368,
          3.643004591775465,
          -2.090514376021825,
          -3.256801866084994,
          15.291710512923766,
          -5.691947390217993,
          -3.24370307839072,
          -5.6258176725019915,
          -3.736092956118632,
          -7.292191598033757,
          2.467485020580576,
          -4.7845629923900415,
          -2.6207062452724723,
          -2.07304958772142,
          -4.8763221482816075
         ],
         "xaxis": "x",
         "y": [
          -1.9017725579490083,
          1.746162515967998,
          -1.9017725579490077,
          1.746162515967998,
          -6.358163453513741,
          -3.3331736577941986,
          9.90436012339386,
          -2.804134504094317,
          -1.1965711095742935,
          -6.758142791355294,
          5.366449923127303,
          -1.0115094827540072,
          14.970680930294517,
          -5.96733299471396,
          -4.484555972867876,
          -0.9075346403984497,
          15.557343243030822,
          -0.9075346403984494,
          -1.8075480583275645,
          -1.9785398244883619,
          1.2307851308636406,
          -5.364713430301487,
          0.7900692792433033,
          -2.9138841537890725,
          5.301582349235601,
          9.066965387126375,
          9.043365366983124,
          -3.5903927529045307,
          -0.7683366802765111,
          -2.634600217057242,
          -1.5830639851547017,
          -2.9437427080156864,
          -3.251670887237226,
          -1.6437054306246444,
          -3.468018803268652,
          -3.662158352832737,
          -4.003181987241944,
          12.71562799923702,
          4.244923700160637,
          -0.8430503732106074,
          -5.90410898050962,
          7.117871754191763,
          -6.6201666493400415,
          -2.0256902347692356,
          -5.696048519369305,
          -2.7340344056520585,
          -6.132738331469519,
          -2.264698906987336,
          14.167188726005941,
          -3.603246908639227
         ],
         "yaxis": "y"
        }
       ],
       "layout": {
        "legend": {
         "tracegroupgap": 0
        },
        "margin": {
         "t": 60
        },
        "template": {
         "data": {
          "bar": [
           {
            "error_x": {
             "color": "#2a3f5f"
            },
            "error_y": {
             "color": "#2a3f5f"
            },
            "marker": {
             "line": {
              "color": "#E5ECF6",
              "width": 0.5
             },
             "pattern": {
              "fillmode": "overlay",
              "size": 10,
              "solidity": 0.2
             }
            },
            "type": "bar"
           }
          ],
          "barpolar": [
           {
            "marker": {
             "line": {
              "color": "#E5ECF6",
              "width": 0.5
             },
             "pattern": {
              "fillmode": "overlay",
              "size": 10,
              "solidity": 0.2
             }
            },
            "type": "barpolar"
           }
          ],
          "carpet": [
           {
            "aaxis": {
             "endlinecolor": "#2a3f5f",
             "gridcolor": "white",
             "linecolor": "white",
             "minorgridcolor": "white",
             "startlinecolor": "#2a3f5f"
            },
            "baxis": {
             "endlinecolor": "#2a3f5f",
             "gridcolor": "white",
             "linecolor": "white",
             "minorgridcolor": "white",
             "startlinecolor": "#2a3f5f"
            },
            "type": "carpet"
           }
          ],
          "choropleth": [
           {
            "colorbar": {
             "outlinewidth": 0,
             "ticks": ""
            },
            "type": "choropleth"
           }
          ],
          "contour": [
           {
            "colorbar": {
             "outlinewidth": 0,
             "ticks": ""
            },
            "colorscale": [
             [
              0,
              "#0d0887"
             ],
             [
              0.1111111111111111,
              "#46039f"
             ],
             [
              0.2222222222222222,
              "#7201a8"
             ],
             [
              0.3333333333333333,
              "#9c179e"
             ],
             [
              0.4444444444444444,
              "#bd3786"
             ],
             [
              0.5555555555555556,
              "#d8576b"
             ],
             [
              0.6666666666666666,
              "#ed7953"
             ],
             [
              0.7777777777777778,
              "#fb9f3a"
             ],
             [
              0.8888888888888888,
              "#fdca26"
             ],
             [
              1,
              "#f0f921"
             ]
            ],
            "type": "contour"
           }
          ],
          "contourcarpet": [
           {
            "colorbar": {
             "outlinewidth": 0,
             "ticks": ""
            },
            "type": "contourcarpet"
           }
          ],
          "heatmap": [
           {
            "colorbar": {
             "outlinewidth": 0,
             "ticks": ""
            },
            "colorscale": [
             [
              0,
              "#0d0887"
             ],
             [
              0.1111111111111111,
              "#46039f"
             ],
             [
              0.2222222222222222,
              "#7201a8"
             ],
             [
              0.3333333333333333,
              "#9c179e"
             ],
             [
              0.4444444444444444,
              "#bd3786"
             ],
             [
              0.5555555555555556,
              "#d8576b"
             ],
             [
              0.6666666666666666,
              "#ed7953"
             ],
             [
              0.7777777777777778,
              "#fb9f3a"
             ],
             [
              0.8888888888888888,
              "#fdca26"
             ],
             [
              1,
              "#f0f921"
             ]
            ],
            "type": "heatmap"
           }
          ],
          "heatmapgl": [
           {
            "colorbar": {
             "outlinewidth": 0,
             "ticks": ""
            },
            "colorscale": [
             [
              0,
              "#0d0887"
             ],
             [
              0.1111111111111111,
              "#46039f"
             ],
             [
              0.2222222222222222,
              "#7201a8"
             ],
             [
              0.3333333333333333,
              "#9c179e"
             ],
             [
              0.4444444444444444,
              "#bd3786"
             ],
             [
              0.5555555555555556,
              "#d8576b"
             ],
             [
              0.6666666666666666,
              "#ed7953"
             ],
             [
              0.7777777777777778,
              "#fb9f3a"
             ],
             [
              0.8888888888888888,
              "#fdca26"
             ],
             [
              1,
              "#f0f921"
             ]
            ],
            "type": "heatmapgl"
           }
          ],
          "histogram": [
           {
            "marker": {
             "pattern": {
              "fillmode": "overlay",
              "size": 10,
              "solidity": 0.2
             }
            },
            "type": "histogram"
           }
          ],
          "histogram2d": [
           {
            "colorbar": {
             "outlinewidth": 0,
             "ticks": ""
            },
            "colorscale": [
             [
              0,
              "#0d0887"
             ],
             [
              0.1111111111111111,
              "#46039f"
             ],
             [
              0.2222222222222222,
              "#7201a8"
             ],
             [
              0.3333333333333333,
              "#9c179e"
             ],
             [
              0.4444444444444444,
              "#bd3786"
             ],
             [
              0.5555555555555556,
              "#d8576b"
             ],
             [
              0.6666666666666666,
              "#ed7953"
             ],
             [
              0.7777777777777778,
              "#fb9f3a"
             ],
             [
              0.8888888888888888,
              "#fdca26"
             ],
             [
              1,
              "#f0f921"
             ]
            ],
            "type": "histogram2d"
           }
          ],
          "histogram2dcontour": [
           {
            "colorbar": {
             "outlinewidth": 0,
             "ticks": ""
            },
            "colorscale": [
             [
              0,
              "#0d0887"
             ],
             [
              0.1111111111111111,
              "#46039f"
             ],
             [
              0.2222222222222222,
              "#7201a8"
             ],
             [
              0.3333333333333333,
              "#9c179e"
             ],
             [
              0.4444444444444444,
              "#bd3786"
             ],
             [
              0.5555555555555556,
              "#d8576b"
             ],
             [
              0.6666666666666666,
              "#ed7953"
             ],
             [
              0.7777777777777778,
              "#fb9f3a"
             ],
             [
              0.8888888888888888,
              "#fdca26"
             ],
             [
              1,
              "#f0f921"
             ]
            ],
            "type": "histogram2dcontour"
           }
          ],
          "mesh3d": [
           {
            "colorbar": {
             "outlinewidth": 0,
             "ticks": ""
            },
            "type": "mesh3d"
           }
          ],
          "parcoords": [
           {
            "line": {
             "colorbar": {
              "outlinewidth": 0,
              "ticks": ""
             }
            },
            "type": "parcoords"
           }
          ],
          "pie": [
           {
            "automargin": true,
            "type": "pie"
           }
          ],
          "scatter": [
           {
            "fillpattern": {
             "fillmode": "overlay",
             "size": 10,
             "solidity": 0.2
            },
            "type": "scatter"
           }
          ],
          "scatter3d": [
           {
            "line": {
             "colorbar": {
              "outlinewidth": 0,
              "ticks": ""
             }
            },
            "marker": {
             "colorbar": {
              "outlinewidth": 0,
              "ticks": ""
             }
            },
            "type": "scatter3d"
           }
          ],
          "scattercarpet": [
           {
            "marker": {
             "colorbar": {
              "outlinewidth": 0,
              "ticks": ""
             }
            },
            "type": "scattercarpet"
           }
          ],
          "scattergeo": [
           {
            "marker": {
             "colorbar": {
              "outlinewidth": 0,
              "ticks": ""
             }
            },
            "type": "scattergeo"
           }
          ],
          "scattergl": [
           {
            "marker": {
             "colorbar": {
              "outlinewidth": 0,
              "ticks": ""
             }
            },
            "type": "scattergl"
           }
          ],
          "scattermapbox": [
           {
            "marker": {
             "colorbar": {
              "outlinewidth": 0,
              "ticks": ""
             }
            },
            "type": "scattermapbox"
           }
          ],
          "scatterpolar": [
           {
            "marker": {
             "colorbar": {
              "outlinewidth": 0,
              "ticks": ""
             }
            },
            "type": "scatterpolar"
           }
          ],
          "scatterpolargl": [
           {
            "marker": {
             "colorbar": {
              "outlinewidth": 0,
              "ticks": ""
             }
            },
            "type": "scatterpolargl"
           }
          ],
          "scatterternary": [
           {
            "marker": {
             "colorbar": {
              "outlinewidth": 0,
              "ticks": ""
             }
            },
            "type": "scatterternary"
           }
          ],
          "surface": [
           {
            "colorbar": {
             "outlinewidth": 0,
             "ticks": ""
            },
            "colorscale": [
             [
              0,
              "#0d0887"
             ],
             [
              0.1111111111111111,
              "#46039f"
             ],
             [
              0.2222222222222222,
              "#7201a8"
             ],
             [
              0.3333333333333333,
              "#9c179e"
             ],
             [
              0.4444444444444444,
              "#bd3786"
             ],
             [
              0.5555555555555556,
              "#d8576b"
             ],
             [
              0.6666666666666666,
              "#ed7953"
             ],
             [
              0.7777777777777778,
              "#fb9f3a"
             ],
             [
              0.8888888888888888,
              "#fdca26"
             ],
             [
              1,
              "#f0f921"
             ]
            ],
            "type": "surface"
           }
          ],
          "table": [
           {
            "cells": {
             "fill": {
              "color": "#EBF0F8"
             },
             "line": {
              "color": "white"
             }
            },
            "header": {
             "fill": {
              "color": "#C8D4E3"
             },
             "line": {
              "color": "white"
             }
            },
            "type": "table"
           }
          ]
         },
         "layout": {
          "annotationdefaults": {
           "arrowcolor": "#2a3f5f",
           "arrowhead": 0,
           "arrowwidth": 1
          },
          "autotypenumbers": "strict",
          "coloraxis": {
           "colorbar": {
            "outlinewidth": 0,
            "ticks": ""
           }
          },
          "colorscale": {
           "diverging": [
            [
             0,
             "#8e0152"
            ],
            [
             0.1,
             "#c51b7d"
            ],
            [
             0.2,
             "#de77ae"
            ],
            [
             0.3,
             "#f1b6da"
            ],
            [
             0.4,
             "#fde0ef"
            ],
            [
             0.5,
             "#f7f7f7"
            ],
            [
             0.6,
             "#e6f5d0"
            ],
            [
             0.7,
             "#b8e186"
            ],
            [
             0.8,
             "#7fbc41"
            ],
            [
             0.9,
             "#4d9221"
            ],
            [
             1,
             "#276419"
            ]
           ],
           "sequential": [
            [
             0,
             "#0d0887"
            ],
            [
             0.1111111111111111,
             "#46039f"
            ],
            [
             0.2222222222222222,
             "#7201a8"
            ],
            [
             0.3333333333333333,
             "#9c179e"
            ],
            [
             0.4444444444444444,
             "#bd3786"
            ],
            [
             0.5555555555555556,
             "#d8576b"
            ],
            [
             0.6666666666666666,
             "#ed7953"
            ],
            [
             0.7777777777777778,
             "#fb9f3a"
            ],
            [
             0.8888888888888888,
             "#fdca26"
            ],
            [
             1,
             "#f0f921"
            ]
           ],
           "sequentialminus": [
            [
             0,
             "#0d0887"
            ],
            [
             0.1111111111111111,
             "#46039f"
            ],
            [
             0.2222222222222222,
             "#7201a8"
            ],
            [
             0.3333333333333333,
             "#9c179e"
            ],
            [
             0.4444444444444444,
             "#bd3786"
            ],
            [
             0.5555555555555556,
             "#d8576b"
            ],
            [
             0.6666666666666666,
             "#ed7953"
            ],
            [
             0.7777777777777778,
             "#fb9f3a"
            ],
            [
             0.8888888888888888,
             "#fdca26"
            ],
            [
             1,
             "#f0f921"
            ]
           ]
          },
          "colorway": [
           "#636efa",
           "#EF553B",
           "#00cc96",
           "#ab63fa",
           "#FFA15A",
           "#19d3f3",
           "#FF6692",
           "#B6E880",
           "#FF97FF",
           "#FECB52"
          ],
          "font": {
           "color": "#2a3f5f"
          },
          "geo": {
           "bgcolor": "white",
           "lakecolor": "white",
           "landcolor": "#E5ECF6",
           "showlakes": true,
           "showland": true,
           "subunitcolor": "white"
          },
          "hoverlabel": {
           "align": "left"
          },
          "hovermode": "closest",
          "mapbox": {
           "style": "light"
          },
          "paper_bgcolor": "white",
          "plot_bgcolor": "#E5ECF6",
          "polar": {
           "angularaxis": {
            "gridcolor": "white",
            "linecolor": "white",
            "ticks": ""
           },
           "bgcolor": "#E5ECF6",
           "radialaxis": {
            "gridcolor": "white",
            "linecolor": "white",
            "ticks": ""
           }
          },
          "scene": {
           "xaxis": {
            "backgroundcolor": "#E5ECF6",
            "gridcolor": "white",
            "gridwidth": 2,
            "linecolor": "white",
            "showbackground": true,
            "ticks": "",
            "zerolinecolor": "white"
           },
           "yaxis": {
            "backgroundcolor": "#E5ECF6",
            "gridcolor": "white",
            "gridwidth": 2,
            "linecolor": "white",
            "showbackground": true,
            "ticks": "",
            "zerolinecolor": "white"
           },
           "zaxis": {
            "backgroundcolor": "#E5ECF6",
            "gridcolor": "white",
            "gridwidth": 2,
            "linecolor": "white",
            "showbackground": true,
            "ticks": "",
            "zerolinecolor": "white"
           }
          },
          "shapedefaults": {
           "line": {
            "color": "#2a3f5f"
           }
          },
          "ternary": {
           "aaxis": {
            "gridcolor": "white",
            "linecolor": "white",
            "ticks": ""
           },
           "baxis": {
            "gridcolor": "white",
            "linecolor": "white",
            "ticks": ""
           },
           "bgcolor": "#E5ECF6",
           "caxis": {
            "gridcolor": "white",
            "linecolor": "white",
            "ticks": ""
           }
          },
          "title": {
           "x": 0.05
          },
          "xaxis": {
           "automargin": true,
           "gridcolor": "white",
           "linecolor": "white",
           "ticks": "",
           "title": {
            "standoff": 15
           },
           "zerolinecolor": "white",
           "zerolinewidth": 2
          },
          "yaxis": {
           "automargin": true,
           "gridcolor": "white",
           "linecolor": "white",
           "ticks": "",
           "title": {
            "standoff": 15
           },
           "zerolinecolor": "white",
           "zerolinewidth": 2
          }
         }
        },
        "xaxis": {
         "anchor": "y",
         "domain": [
          0,
          1
         ],
         "title": {
          "text": "pc1"
         }
        },
        "yaxis": {
         "anchor": "x",
         "domain": [
          0,
          1
         ],
         "title": {
          "text": "pc2"
         }
        }
       }
      },
      "text/html": [
       "<div>                            <div id=\"e620cc3d-baa1-4554-8fe3-f05d1ef8b5d6\" class=\"plotly-graph-div\" style=\"height:525px; width:100%;\"></div>            <script type=\"text/javascript\">                require([\"plotly\"], function(Plotly) {                    window.PLOTLYENV=window.PLOTLYENV || {};                                    if (document.getElementById(\"e620cc3d-baa1-4554-8fe3-f05d1ef8b5d6\")) {                    Plotly.newPlot(                        \"e620cc3d-baa1-4554-8fe3-f05d1ef8b5d6\",                        [{\"hovertemplate\":\"<b>%{hovertext}</b><br><br>pc1=%{x}<br>pc2=%{y}<extra></extra>\",\"hovertext\":[\"scenario5: have coffee\",\"scenario5: Get a snack from a vending machine.\",\"scenario5: have coffee\",\"scenario5: Get a snack from a vending machine.\",\"scenario5: I could think about what our objectives are as I drive to the meeting. \",\"scenario5: Talk to others waiting\",\"scenario5: text my wife\",\"scenario5: use the restroom\",\"scenario5: get beverage\",\"scenario5: head toward the meeting location\",\"scenario5: Call up my wife. \",\"scenario5: get a drink of water\",\"scenario5: Check emails\",\"scenario5: I could mentally go over issues that might come up in the meeting.\",\"scenario5: get prepped for the meeting\",\"scenario5: eat\",\"scenario5: Check your phone for messages.\",\"scenario5: eat\",\"scenario5: listen to music\",\"scenario5: Make sure I listen to other opinions and offer responses.\",\"scenario5: Have a quick snack\",\"scenario5: I could think about my primary goal for the meeting. Since it if relatively short, I would choose only one definitive, but substantial accomplishment I would like to bring up and complete. I would strategize, mentally, about how to approach the issue and gain support from others who will be at the meeting.\",\"scenario5: Double check my files/folders to be sure I had everything I needed for the meeting.\",\"scenario5: I would let my supervisor know I am going to the meeting.\",\"scenario5: Double check my notes for the event.\",\"scenario5: make phone calls\",\"scenario5: call on phone\",\"scenario5: Go to the bathrooms \",\"scenario5: grab some water because im thirsty\",\"scenario5: Rehearse my material and delivery \",\"scenario5: chat with coworkers\",\"scenario5: I could make a list of all the things we need to do for the event.\",\"scenario5: Call a coworker to discuss something related to the meeting.\",\"scenario5: Try and relax by thinking of pleasant thoughts.\",\"scenario5: Talk\",\"scenario5: hum a tune\",\"scenario5: Stop for a coffee or snack to bring to the meeting.\",\"scenario5: Check my emails.\",\"scenario5: I could make a phone call.\",\"scenario5: Get some coffee\",\"scenario5: practice what I am going to say at the meeting\",\"scenario5: Read news on your phone\",\"scenario5: I could visually how the meeting will go. \",\"scenario5: turn your music up\",\"scenario5: rehearse what i'll say\",\"scenario5: Enjoy the scenery\",\"scenario5: review meeting agenda and material\",\"scenario5: Gather my thoughts\",\"scenario5: check for texts\",\"scenario5: I could go over my notes mentally as I'm walking to the meeting\"],\"legendgroup\":\"\",\"marker\":{\"color\":\"#636efa\",\"opacity\":0.4,\"symbol\":\"circle\"},\"mode\":\"markers\",\"name\":\"\",\"orientation\":\"v\",\"showlegend\":false,\"x\":[15.330768185439775,9.744610148113573,15.330768185439787,9.744610148113562,-6.613982969845504,-4.2177982309463395,-4.576403437479739,2.5964852277549433,13.65830390099957,-6.681889392593517,-4.257520101163267,9.875189171422646,-1.5445283577312308,-5.5682842779857324,-5.3628184177471585,11.626173095429323,-3.7701240745148983,11.626173095429323,-3.018911193330241,-3.6591449440055053,12.281230687938358,-4.2984941999998485,-4.2387522823858665,-5.121520175413667,-3.4758257958143752,-4.112386630204494,-4.1215761931236345,3.009310376115527,10.267622938141045,-5.382914831287792,-4.771873183463955,-3.4742387808208615,-6.412538161924385,-1.235974050300973,-1.4532789731152533,-3.8309567193835368,3.643004591775465,-2.090514376021825,-3.256801866084994,15.291710512923766,-5.691947390217993,-3.24370307839072,-5.6258176725019915,-3.736092956118632,-7.292191598033757,2.467485020580576,-4.7845629923900415,-2.6207062452724723,-2.07304958772142,-4.8763221482816075],\"xaxis\":\"x\",\"y\":[-1.9017725579490083,1.746162515967998,-1.9017725579490077,1.746162515967998,-6.358163453513741,-3.3331736577941986,9.90436012339386,-2.804134504094317,-1.1965711095742935,-6.758142791355294,5.366449923127303,-1.0115094827540072,14.970680930294517,-5.96733299471396,-4.484555972867876,-0.9075346403984497,15.557343243030822,-0.9075346403984494,-1.8075480583275645,-1.9785398244883619,1.2307851308636406,-5.364713430301487,0.7900692792433033,-2.9138841537890725,5.301582349235601,9.066965387126375,9.043365366983124,-3.5903927529045307,-0.7683366802765111,-2.634600217057242,-1.5830639851547017,-2.9437427080156864,-3.251670887237226,-1.6437054306246444,-3.468018803268652,-3.662158352832737,-4.003181987241944,12.71562799923702,4.244923700160637,-0.8430503732106074,-5.90410898050962,7.117871754191763,-6.6201666493400415,-2.0256902347692356,-5.696048519369305,-2.7340344056520585,-6.132738331469519,-2.264698906987336,14.167188726005941,-3.603246908639227],\"yaxis\":\"y\",\"type\":\"scatter\"}],                        {\"template\":{\"data\":{\"histogram2dcontour\":[{\"type\":\"histogram2dcontour\",\"colorbar\":{\"outlinewidth\":0,\"ticks\":\"\"},\"colorscale\":[[0.0,\"#0d0887\"],[0.1111111111111111,\"#46039f\"],[0.2222222222222222,\"#7201a8\"],[0.3333333333333333,\"#9c179e\"],[0.4444444444444444,\"#bd3786\"],[0.5555555555555556,\"#d8576b\"],[0.6666666666666666,\"#ed7953\"],[0.7777777777777778,\"#fb9f3a\"],[0.8888888888888888,\"#fdca26\"],[1.0,\"#f0f921\"]]}],\"choropleth\":[{\"type\":\"choropleth\",\"colorbar\":{\"outlinewidth\":0,\"ticks\":\"\"}}],\"histogram2d\":[{\"type\":\"histogram2d\",\"colorbar\":{\"outlinewidth\":0,\"ticks\":\"\"},\"colorscale\":[[0.0,\"#0d0887\"],[0.1111111111111111,\"#46039f\"],[0.2222222222222222,\"#7201a8\"],[0.3333333333333333,\"#9c179e\"],[0.4444444444444444,\"#bd3786\"],[0.5555555555555556,\"#d8576b\"],[0.6666666666666666,\"#ed7953\"],[0.7777777777777778,\"#fb9f3a\"],[0.8888888888888888,\"#fdca26\"],[1.0,\"#f0f921\"]]}],\"heatmap\":[{\"type\":\"heatmap\",\"colorbar\":{\"outlinewidth\":0,\"ticks\":\"\"},\"colorscale\":[[0.0,\"#0d0887\"],[0.1111111111111111,\"#46039f\"],[0.2222222222222222,\"#7201a8\"],[0.3333333333333333,\"#9c179e\"],[0.4444444444444444,\"#bd3786\"],[0.5555555555555556,\"#d8576b\"],[0.6666666666666666,\"#ed7953\"],[0.7777777777777778,\"#fb9f3a\"],[0.8888888888888888,\"#fdca26\"],[1.0,\"#f0f921\"]]}],\"heatmapgl\":[{\"type\":\"heatmapgl\",\"colorbar\":{\"outlinewidth\":0,\"ticks\":\"\"},\"colorscale\":[[0.0,\"#0d0887\"],[0.1111111111111111,\"#46039f\"],[0.2222222222222222,\"#7201a8\"],[0.3333333333333333,\"#9c179e\"],[0.4444444444444444,\"#bd3786\"],[0.5555555555555556,\"#d8576b\"],[0.6666666666666666,\"#ed7953\"],[0.7777777777777778,\"#fb9f3a\"],[0.8888888888888888,\"#fdca26\"],[1.0,\"#f0f921\"]]}],\"contourcarpet\":[{\"type\":\"contourcarpet\",\"colorbar\":{\"outlinewidth\":0,\"ticks\":\"\"}}],\"contour\":[{\"type\":\"contour\",\"colorbar\":{\"outlinewidth\":0,\"ticks\":\"\"},\"colorscale\":[[0.0,\"#0d0887\"],[0.1111111111111111,\"#46039f\"],[0.2222222222222222,\"#7201a8\"],[0.3333333333333333,\"#9c179e\"],[0.4444444444444444,\"#bd3786\"],[0.5555555555555556,\"#d8576b\"],[0.6666666666666666,\"#ed7953\"],[0.7777777777777778,\"#fb9f3a\"],[0.8888888888888888,\"#fdca26\"],[1.0,\"#f0f921\"]]}],\"surface\":[{\"type\":\"surface\",\"colorbar\":{\"outlinewidth\":0,\"ticks\":\"\"},\"colorscale\":[[0.0,\"#0d0887\"],[0.1111111111111111,\"#46039f\"],[0.2222222222222222,\"#7201a8\"],[0.3333333333333333,\"#9c179e\"],[0.4444444444444444,\"#bd3786\"],[0.5555555555555556,\"#d8576b\"],[0.6666666666666666,\"#ed7953\"],[0.7777777777777778,\"#fb9f3a\"],[0.8888888888888888,\"#fdca26\"],[1.0,\"#f0f921\"]]}],\"mesh3d\":[{\"type\":\"mesh3d\",\"colorbar\":{\"outlinewidth\":0,\"ticks\":\"\"}}],\"scatter\":[{\"fillpattern\":{\"fillmode\":\"overlay\",\"size\":10,\"solidity\":0.2},\"type\":\"scatter\"}],\"parcoords\":[{\"type\":\"parcoords\",\"line\":{\"colorbar\":{\"outlinewidth\":0,\"ticks\":\"\"}}}],\"scatterpolargl\":[{\"type\":\"scatterpolargl\",\"marker\":{\"colorbar\":{\"outlinewidth\":0,\"ticks\":\"\"}}}],\"bar\":[{\"error_x\":{\"color\":\"#2a3f5f\"},\"error_y\":{\"color\":\"#2a3f5f\"},\"marker\":{\"line\":{\"color\":\"#E5ECF6\",\"width\":0.5},\"pattern\":{\"fillmode\":\"overlay\",\"size\":10,\"solidity\":0.2}},\"type\":\"bar\"}],\"scattergeo\":[{\"type\":\"scattergeo\",\"marker\":{\"colorbar\":{\"outlinewidth\":0,\"ticks\":\"\"}}}],\"scatterpolar\":[{\"type\":\"scatterpolar\",\"marker\":{\"colorbar\":{\"outlinewidth\":0,\"ticks\":\"\"}}}],\"histogram\":[{\"marker\":{\"pattern\":{\"fillmode\":\"overlay\",\"size\":10,\"solidity\":0.2}},\"type\":\"histogram\"}],\"scattergl\":[{\"type\":\"scattergl\",\"marker\":{\"colorbar\":{\"outlinewidth\":0,\"ticks\":\"\"}}}],\"scatter3d\":[{\"type\":\"scatter3d\",\"line\":{\"colorbar\":{\"outlinewidth\":0,\"ticks\":\"\"}},\"marker\":{\"colorbar\":{\"outlinewidth\":0,\"ticks\":\"\"}}}],\"scattermapbox\":[{\"type\":\"scattermapbox\",\"marker\":{\"colorbar\":{\"outlinewidth\":0,\"ticks\":\"\"}}}],\"scatterternary\":[{\"type\":\"scatterternary\",\"marker\":{\"colorbar\":{\"outlinewidth\":0,\"ticks\":\"\"}}}],\"scattercarpet\":[{\"type\":\"scattercarpet\",\"marker\":{\"colorbar\":{\"outlinewidth\":0,\"ticks\":\"\"}}}],\"carpet\":[{\"aaxis\":{\"endlinecolor\":\"#2a3f5f\",\"gridcolor\":\"white\",\"linecolor\":\"white\",\"minorgridcolor\":\"white\",\"startlinecolor\":\"#2a3f5f\"},\"baxis\":{\"endlinecolor\":\"#2a3f5f\",\"gridcolor\":\"white\",\"linecolor\":\"white\",\"minorgridcolor\":\"white\",\"startlinecolor\":\"#2a3f5f\"},\"type\":\"carpet\"}],\"table\":[{\"cells\":{\"fill\":{\"color\":\"#EBF0F8\"},\"line\":{\"color\":\"white\"}},\"header\":{\"fill\":{\"color\":\"#C8D4E3\"},\"line\":{\"color\":\"white\"}},\"type\":\"table\"}],\"barpolar\":[{\"marker\":{\"line\":{\"color\":\"#E5ECF6\",\"width\":0.5},\"pattern\":{\"fillmode\":\"overlay\",\"size\":10,\"solidity\":0.2}},\"type\":\"barpolar\"}],\"pie\":[{\"automargin\":true,\"type\":\"pie\"}]},\"layout\":{\"autotypenumbers\":\"strict\",\"colorway\":[\"#636efa\",\"#EF553B\",\"#00cc96\",\"#ab63fa\",\"#FFA15A\",\"#19d3f3\",\"#FF6692\",\"#B6E880\",\"#FF97FF\",\"#FECB52\"],\"font\":{\"color\":\"#2a3f5f\"},\"hovermode\":\"closest\",\"hoverlabel\":{\"align\":\"left\"},\"paper_bgcolor\":\"white\",\"plot_bgcolor\":\"#E5ECF6\",\"polar\":{\"bgcolor\":\"#E5ECF6\",\"angularaxis\":{\"gridcolor\":\"white\",\"linecolor\":\"white\",\"ticks\":\"\"},\"radialaxis\":{\"gridcolor\":\"white\",\"linecolor\":\"white\",\"ticks\":\"\"}},\"ternary\":{\"bgcolor\":\"#E5ECF6\",\"aaxis\":{\"gridcolor\":\"white\",\"linecolor\":\"white\",\"ticks\":\"\"},\"baxis\":{\"gridcolor\":\"white\",\"linecolor\":\"white\",\"ticks\":\"\"},\"caxis\":{\"gridcolor\":\"white\",\"linecolor\":\"white\",\"ticks\":\"\"}},\"coloraxis\":{\"colorbar\":{\"outlinewidth\":0,\"ticks\":\"\"}},\"colorscale\":{\"sequential\":[[0.0,\"#0d0887\"],[0.1111111111111111,\"#46039f\"],[0.2222222222222222,\"#7201a8\"],[0.3333333333333333,\"#9c179e\"],[0.4444444444444444,\"#bd3786\"],[0.5555555555555556,\"#d8576b\"],[0.6666666666666666,\"#ed7953\"],[0.7777777777777778,\"#fb9f3a\"],[0.8888888888888888,\"#fdca26\"],[1.0,\"#f0f921\"]],\"sequentialminus\":[[0.0,\"#0d0887\"],[0.1111111111111111,\"#46039f\"],[0.2222222222222222,\"#7201a8\"],[0.3333333333333333,\"#9c179e\"],[0.4444444444444444,\"#bd3786\"],[0.5555555555555556,\"#d8576b\"],[0.6666666666666666,\"#ed7953\"],[0.7777777777777778,\"#fb9f3a\"],[0.8888888888888888,\"#fdca26\"],[1.0,\"#f0f921\"]],\"diverging\":[[0,\"#8e0152\"],[0.1,\"#c51b7d\"],[0.2,\"#de77ae\"],[0.3,\"#f1b6da\"],[0.4,\"#fde0ef\"],[0.5,\"#f7f7f7\"],[0.6,\"#e6f5d0\"],[0.7,\"#b8e186\"],[0.8,\"#7fbc41\"],[0.9,\"#4d9221\"],[1,\"#276419\"]]},\"xaxis\":{\"gridcolor\":\"white\",\"linecolor\":\"white\",\"ticks\":\"\",\"title\":{\"standoff\":15},\"zerolinecolor\":\"white\",\"automargin\":true,\"zerolinewidth\":2},\"yaxis\":{\"gridcolor\":\"white\",\"linecolor\":\"white\",\"ticks\":\"\",\"title\":{\"standoff\":15},\"zerolinecolor\":\"white\",\"automargin\":true,\"zerolinewidth\":2},\"scene\":{\"xaxis\":{\"backgroundcolor\":\"#E5ECF6\",\"gridcolor\":\"white\",\"linecolor\":\"white\",\"showbackground\":true,\"ticks\":\"\",\"zerolinecolor\":\"white\",\"gridwidth\":2},\"yaxis\":{\"backgroundcolor\":\"#E5ECF6\",\"gridcolor\":\"white\",\"linecolor\":\"white\",\"showbackground\":true,\"ticks\":\"\",\"zerolinecolor\":\"white\",\"gridwidth\":2},\"zaxis\":{\"backgroundcolor\":\"#E5ECF6\",\"gridcolor\":\"white\",\"linecolor\":\"white\",\"showbackground\":true,\"ticks\":\"\",\"zerolinecolor\":\"white\",\"gridwidth\":2}},\"shapedefaults\":{\"line\":{\"color\":\"#2a3f5f\"}},\"annotationdefaults\":{\"arrowcolor\":\"#2a3f5f\",\"arrowhead\":0,\"arrowwidth\":1},\"geo\":{\"bgcolor\":\"white\",\"landcolor\":\"#E5ECF6\",\"subunitcolor\":\"white\",\"showland\":true,\"showlakes\":true,\"lakecolor\":\"white\"},\"title\":{\"x\":0.05},\"mapbox\":{\"style\":\"light\"}}},\"xaxis\":{\"anchor\":\"y\",\"domain\":[0.0,1.0],\"title\":{\"text\":\"pc1\"}},\"yaxis\":{\"anchor\":\"x\",\"domain\":[0.0,1.0],\"title\":{\"text\":\"pc2\"}},\"legend\":{\"tracegroupgap\":0},\"margin\":{\"t\":60}},                        {\"responsive\": true}                    ).then(function(){\n",
       "                            \n",
       "var gd = document.getElementById('e620cc3d-baa1-4554-8fe3-f05d1ef8b5d6');\n",
       "var x = new MutationObserver(function (mutations, observer) {{\n",
       "        var display = window.getComputedStyle(gd).display;\n",
       "        if (!display || display === 'none') {{\n",
       "            console.log([gd, 'removed!']);\n",
       "            Plotly.purge(gd);\n",
       "            observer.disconnect();\n",
       "        }}\n",
       "}});\n",
       "\n",
       "// Listen for the removal of the full notebook cells\n",
       "var notebookContainer = gd.closest('#notebook-container');\n",
       "if (notebookContainer) {{\n",
       "    x.observe(notebookContainer, {childList: true});\n",
       "}}\n",
       "\n",
       "// Listen for the clearing of the current output cell\n",
       "var outputEl = gd.closest('.output');\n",
       "if (outputEl) {{\n",
       "    x.observe(outputEl, {childList: true});\n",
       "}}\n",
       "\n",
       "                        })                };                });            </script>        </div>"
      ]
     },
     "metadata": {},
     "output_type": "display_data"
    },
    {
     "data": {
      "image/png": "[encoded data removed]",
      "text/plain": [
       "<Figure size 432x288 with 2 Axes>"
      ]
     },
     "metadata": {
      "needs_background": "light"
     },
     "output_type": "display_data"
    },
    {
     "data": {
      "image/png": "[encoded data removed]",
      "text/plain": [
       "<Figure size 432x288 with 2 Axes>"
      ]
     },
     "metadata": {
      "needs_background": "light"
     },
     "output_type": "display_data"
    }
   ],
   "source": [
    "#scatterplot\n",
    "principalComponents = pca.fit_transform(np.array(embed_4))\n",
    "embed_4 = pd.DataFrame(data = principalComponents, columns = ['pc1', 'pc2'])\n",
    "embed_4[\"responses\"] = embed_4_responses\n",
    "fig = px.scatter(embed_4, x=\"pc1\", y=\"pc2\", opacity=.4, hover_name=\"responses\")\n",
    "fig.show()\n",
    "\n",
    "#heatmap with raw numbers\n",
    "heatmap4, xedges, yedges = np.histogram2d(list(embed_4[\"pc1\"]), list(embed_4[\"pc2\"]), bins=bin_size)\n",
    "heatmap4 = gaussian_filter(heatmap4, sigma=1)\n",
    "extent = [xedges[0], xedges[-1], yedges[0], yedges[-1]]\n",
    "\n",
    "plt.clf()\n",
    "plt.title(\"Generation Density Heatmap\")\n",
    "plt.imshow(heatmap4.T, extent=extent, origin='lower')\n",
    "plt.colorbar()\n",
    "plt.show()\n",
    "\n",
    "# #heatmap with weights\n",
    "# heatmap, xedges, yedges = np.histogram2d(list(embed_4[\"pc1\"]), list(embed_4[\"pc2\"]), bins=bin_size, weights = embed_4_weights, density=False)\n",
    "# heatmap = gaussian_filter(heatmap, sigma=1)\n",
    "# extent = [xedges[0], xedges[-1], yedges[0], yedges[-1]]\n",
    "\n",
    "# plt.clf()\n",
    "# plt.imshow(heatmap.T, extent=extent, origin='lower')\n",
    "# plt.show()\n",
    "\n",
    "#median sentiment heatmap\n",
    "# Compute the median of the weights in each bin\n",
    "median, _, _, _ = binned_statistic_2d(list(embed_4[\"pc1\"]), list(embed_4[\"pc2\"]), embed_4_weights, statistic='median', bins=(bin_size, bin_size))\n",
    "#set all nans to 0\n",
    "for y in range(len(median)): \n",
    "    for x in range(len(median[y])):\n",
    "        if pd.isna(median[x][y]):\n",
    "            median[x][y]  = 0\n",
    "median = gaussian_filter(median, sigma=1)\n",
    "\n",
    "# plot the heatmap\n",
    "plt.clf()\n",
    "plt.title(\"Generation Median Sentiment Heatmap\")\n",
    "plt.imshow(median, origin='lower', extent=[xedges[0], xedges[-1], yedges[0], yedges[-1]], interpolation='nearest')\n",
    "plt.colorbar()\n",
    "plt.show()"
   ]
  },
  {
   "cell_type": "code",
   "execution_count": 132,
   "metadata": {},
   "outputs": [
    {
     "data": {
      "application/vnd.plotly.v1+json": {
       "config": {
        "plotlyServerURL": "https://plot.ly"
       },
       "data": [
        {
         "hovertemplate": "<b>%{hovertext}</b><br><br>pc1=%{x}<br>pc2=%{y}<extra></extra>",
         "hovertext": [
          "scenario5: review notes",
          "scenario5: Say hello to someone I know.",
          "scenario5: review notes",
          "scenario5: Say hello to someone I know.",
          "scenario5: I could turn on my radio and sing at the top of my lungs on the way to the meeting. ",
          "scenario5: Check my email",
          "scenario5: check how the stock market is doing today",
          "scenario5: organize my notes",
          "scenario5: drive around",
          "scenario5: chat with a fellow member",
          "scenario5: Facetime my daughter. ",
          "scenario5: double check in the bathroom mirror that you look presentable",
          "scenario5: Turn on my out of office replies",
          "scenario5: I could go to the bathroom. ",
          "scenario5: talk on the phone",
          "scenario5: drive",
          "scenario5: Check your emails.",
          "scenario5: drink coffee ",
          "scenario5: talk to a coworker",
          "scenario5: Stop and grab some treats.",
          "scenario5: review my work",
          "scenario5: I could reflect on something I want to do over the weekend, spacing out about the meeting. By avoiding thinking about it, I might approach the situation in a new or fresh way, devoid of my prior thoughts or mental constraints.",
          "scenario5: Mentally review the comments I want to make at the meeting.",
          "scenario5: Go into the conference room.",
          "scenario5: Check to make sure I have the right day/time for the meeting.",
          "scenario5: play music",
          "scenario5: walk fast",
          "scenario5: Excercise",
          "scenario5: go to the bathroom",
          "scenario5: Go over my material and presentation in my head",
          "scenario5: review my notes",
          "scenario5: I could quietly listen to music to ensure I'm relaxed for the meeting.",
          "scenario5: Go through the meeting agenda again.",
          "scenario5: Text on my phone",
          "scenario5: Sit",
          "scenario5: wonder what snacks will be there",
          "scenario5: Pop into the restroom to make sure I look presentable.",
          "scenario5: Check my text messages.",
          "scenario5: I could send a text. ",
          "scenario5: Check your texts",
          "scenario5: make a mental list of things to do after work",
          "scenario5: Listen to calm music",
          "scenario5: I could think of all the people in attendance. ",
          "scenario5: dance",
          "scenario5: make notes",
          "scenario5: Listen to the radio",
          "scenario5: listen to the news or music",
          "scenario5: Talk to someone",
          "scenario5: drink water",
          "scenario5: I could make sure I have my notebook and other things then walk to the meeting"
         ],
         "legendgroup": "",
         "marker": {
          "color": "#636efa",
          "opacity": 0.4,
          "symbol": "circle"
         },
         "mode": "markers",
         "name": "",
         "orientation": "v",
         "showlegend": false,
         "type": "scatter",
         "x": [
          1.636381752090347,
          -2.060331001089925,
          1.6363817520903559,
          -2.0603310010899274,
          -5.212437521326673,
          11.815855610282549,
          3.102771595771519,
          13.292522608020048,
          1.9962746164982101,
          -2.4319690699944068,
          -3.622578533628547,
          2.4956825017127167,
          4.063145657959291,
          -3.4505942618676584,
          -5.527290506734699,
          2.483943275791057,
          10.569963557576619,
          -2.9215495992620757,
          -4.041558204554457,
          -1.2959818328851613,
          3.6830271926240368,
          -0.8372975277137829,
          1.3254749509164028,
          -4.2997033727240765,
          1.0833856492231768,
          -10.683774625411948,
          -3.295092078979879,
          -0.5677440645249054,
          -3.981255426016146,
          -0.5073901260776298,
          9.125176364492132,
          -5.442987112042941,
          -0.988068071981772,
          5.3813144032185996,
          -0.8231668318292086,
          -1.0814220387345281,
          -0.9475161291302767,
          10.194195989993347,
          3.405913218448426,
          11.94109849198092,
          2.542554430460317,
          -10.849042247050987,
          -1.8405569877840713,
          -8.746064976258197,
          11.119287839873857,
          -9.56343629358169,
          -7.685652966510551,
          -5.952588760418194,
          -4.446742721449535,
          2.2697724316299333
         ],
         "xaxis": "x",
         "y": [
          2.968566194679967,
          -4.855569294906727,
          2.968566194679974,
          -4.855569294906722,
          -2.5365956455346863,
          -5.241358197493985,
          -0.7551858585979564,
          1.3902076496316755,
          13.402455658261305,
          -8.568896629203275,
          0.5099860695426952,
          5.8714497341692375,
          -1.830063966800311,
          7.429130247392097,
          -6.325177925942893,
          15.078172856524263,
          -3.8178383318936837,
          3.1971500137642614,
          -3.7688798522293676,
          1.3800114187569923,
          2.9962885415517575,
          -1.1068526851329867,
          -1.6305016802916072,
          -1.4843657676821906,
          -2.631093825032723,
          -2.0758415022170364,
          11.441735280997827,
          11.400522113774564,
          7.637984275447251,
          1.7428846437449648,
          1.4747624084086766,
          -3.625866790301568,
          -0.01587918162430203,
          -7.383492756409856,
          -1.4649352346377564,
          2.2180570857319943,
          5.979380663193508,
          -8.818231953688503,
          -3.5620979029074284,
          -8.051128990484193,
          1.961305116391302,
          -5.075609657337495,
          -0.3204588368201386,
          3.9097044015631637,
          1.5822247007698649,
          -7.797872258044749,
          -6.824134290239761,
          -5.953619512371181,
          3.6251231613978474,
          0.21144939235787608
         ],
         "yaxis": "y"
        }
       ],
       "layout": {
        "legend": {
         "tracegroupgap": 0
        },
        "margin": {
         "t": 60
        },
        "template": {
         "data": {
          "bar": [
           {
            "error_x": {
             "color": "#2a3f5f"
            },
            "error_y": {
             "color": "#2a3f5f"
            },
            "marker": {
             "line": {
              "color": "#E5ECF6",
              "width": 0.5
             },
             "pattern": {
              "fillmode": "overlay",
              "size": 10,
              "solidity": 0.2
             }
            },
            "type": "bar"
           }
          ],
          "barpolar": [
           {
            "marker": {
             "line": {
              "color": "#E5ECF6",
              "width": 0.5
             },
             "pattern": {
              "fillmode": "overlay",
              "size": 10,
              "solidity": 0.2
             }
            },
            "type": "barpolar"
           }
          ],
          "carpet": [
           {
            "aaxis": {
             "endlinecolor": "#2a3f5f",
             "gridcolor": "white",
             "linecolor": "white",
             "minorgridcolor": "white",
             "startlinecolor": "#2a3f5f"
            },
            "baxis": {
             "endlinecolor": "#2a3f5f",
             "gridcolor": "white",
             "linecolor": "white",
             "minorgridcolor": "white",
             "startlinecolor": "#2a3f5f"
            },
            "type": "carpet"
           }
          ],
          "choropleth": [
           {
            "colorbar": {
             "outlinewidth": 0,
             "ticks": ""
            },
            "type": "choropleth"
           }
          ],
          "contour": [
           {
            "colorbar": {
             "outlinewidth": 0,
             "ticks": ""
            },
            "colorscale": [
             [
              0,
              "#0d0887"
             ],
             [
              0.1111111111111111,
              "#46039f"
             ],
             [
              0.2222222222222222,
              "#7201a8"
             ],
             [
              0.3333333333333333,
              "#9c179e"
             ],
             [
              0.4444444444444444,
              "#bd3786"
             ],
             [
              0.5555555555555556,
              "#d8576b"
             ],
             [
              0.6666666666666666,
              "#ed7953"
             ],
             [
              0.7777777777777778,
              "#fb9f3a"
             ],
             [
              0.8888888888888888,
              "#fdca26"
             ],
             [
              1,
              "#f0f921"
             ]
            ],
            "type": "contour"
           }
          ],
          "contourcarpet": [
           {
            "colorbar": {
             "outlinewidth": 0,
             "ticks": ""
            },
            "type": "contourcarpet"
           }
          ],
          "heatmap": [
           {
            "colorbar": {
             "outlinewidth": 0,
             "ticks": ""
            },
            "colorscale": [
             [
              0,
              "#0d0887"
             ],
             [
              0.1111111111111111,
              "#46039f"
             ],
             [
              0.2222222222222222,
              "#7201a8"
             ],
             [
              0.3333333333333333,
              "#9c179e"
             ],
             [
              0.4444444444444444,
              "#bd3786"
             ],
             [
              0.5555555555555556,
              "#d8576b"
             ],
             [
              0.6666666666666666,
              "#ed7953"
             ],
             [
              0.7777777777777778,
              "#fb9f3a"
             ],
             [
              0.8888888888888888,
              "#fdca26"
             ],
             [
              1,
              "#f0f921"
             ]
            ],
            "type": "heatmap"
           }
          ],
          "heatmapgl": [
           {
            "colorbar": {
             "outlinewidth": 0,
             "ticks": ""
            },
            "colorscale": [
             [
              0,
              "#0d0887"
             ],
             [
              0.1111111111111111,
              "#46039f"
             ],
             [
              0.2222222222222222,
              "#7201a8"
             ],
             [
              0.3333333333333333,
              "#9c179e"
             ],
             [
              0.4444444444444444,
              "#bd3786"
             ],
             [
              0.5555555555555556,
              "#d8576b"
             ],
             [
              0.6666666666666666,
              "#ed7953"
             ],
             [
              0.7777777777777778,
              "#fb9f3a"
             ],
             [
              0.8888888888888888,
              "#fdca26"
             ],
             [
              1,
              "#f0f921"
             ]
            ],
            "type": "heatmapgl"
           }
          ],
          "histogram": [
           {
            "marker": {
             "pattern": {
              "fillmode": "overlay",
              "size": 10,
              "solidity": 0.2
             }
            },
            "type": "histogram"
           }
          ],
          "histogram2d": [
           {
            "colorbar": {
             "outlinewidth": 0,
             "ticks": ""
            },
            "colorscale": [
             [
              0,
              "#0d0887"
             ],
             [
              0.1111111111111111,
              "#46039f"
             ],
             [
              0.2222222222222222,
              "#7201a8"
             ],
             [
              0.3333333333333333,
              "#9c179e"
             ],
             [
              0.4444444444444444,
              "#bd3786"
             ],
             [
              0.5555555555555556,
              "#d8576b"
             ],
             [
              0.6666666666666666,
              "#ed7953"
             ],
             [
              0.7777777777777778,
              "#fb9f3a"
             ],
             [
              0.8888888888888888,
              "#fdca26"
             ],
             [
              1,
              "#f0f921"
             ]
            ],
            "type": "histogram2d"
           }
          ],
          "histogram2dcontour": [
           {
            "colorbar": {
             "outlinewidth": 0,
             "ticks": ""
            },
            "colorscale": [
             [
              0,
              "#0d0887"
             ],
             [
              0.1111111111111111,
              "#46039f"
             ],
             [
              0.2222222222222222,
              "#7201a8"
             ],
             [
              0.3333333333333333,
              "#9c179e"
             ],
             [
              0.4444444444444444,
              "#bd3786"
             ],
             [
              0.5555555555555556,
              "#d8576b"
             ],
             [
              0.6666666666666666,
              "#ed7953"
             ],
             [
              0.7777777777777778,
              "#fb9f3a"
             ],
             [
              0.8888888888888888,
              "#fdca26"
             ],
             [
              1,
              "#f0f921"
             ]
            ],
            "type": "histogram2dcontour"
           }
          ],
          "mesh3d": [
           {
            "colorbar": {
             "outlinewidth": 0,
             "ticks": ""
            },
            "type": "mesh3d"
           }
          ],
          "parcoords": [
           {
            "line": {
             "colorbar": {
              "outlinewidth": 0,
              "ticks": ""
             }
            },
            "type": "parcoords"
           }
          ],
          "pie": [
           {
            "automargin": true,
            "type": "pie"
           }
          ],
          "scatter": [
           {
            "fillpattern": {
             "fillmode": "overlay",
             "size": 10,
             "solidity": 0.2
            },
            "type": "scatter"
           }
          ],
          "scatter3d": [
           {
            "line": {
             "colorbar": {
              "outlinewidth": 0,
              "ticks": ""
             }
            },
            "marker": {
             "colorbar": {
              "outlinewidth": 0,
              "ticks": ""
             }
            },
            "type": "scatter3d"
           }
          ],
          "scattercarpet": [
           {
            "marker": {
             "colorbar": {
              "outlinewidth": 0,
              "ticks": ""
             }
            },
            "type": "scattercarpet"
           }
          ],
          "scattergeo": [
           {
            "marker": {
             "colorbar": {
              "outlinewidth": 0,
              "ticks": ""
             }
            },
            "type": "scattergeo"
           }
          ],
          "scattergl": [
           {
            "marker": {
             "colorbar": {
              "outlinewidth": 0,
              "ticks": ""
             }
            },
            "type": "scattergl"
           }
          ],
          "scattermapbox": [
           {
            "marker": {
             "colorbar": {
              "outlinewidth": 0,
              "ticks": ""
             }
            },
            "type": "scattermapbox"
           }
          ],
          "scatterpolar": [
           {
            "marker": {
             "colorbar": {
              "outlinewidth": 0,
              "ticks": ""
             }
            },
            "type": "scatterpolar"
           }
          ],
          "scatterpolargl": [
           {
            "marker": {
             "colorbar": {
              "outlinewidth": 0,
              "ticks": ""
             }
            },
            "type": "scatterpolargl"
           }
          ],
          "scatterternary": [
           {
            "marker": {
             "colorbar": {
              "outlinewidth": 0,
              "ticks": ""
             }
            },
            "type": "scatterternary"
           }
          ],
          "surface": [
           {
            "colorbar": {
             "outlinewidth": 0,
             "ticks": ""
            },
            "colorscale": [
             [
              0,
              "#0d0887"
             ],
             [
              0.1111111111111111,
              "#46039f"
             ],
             [
              0.2222222222222222,
              "#7201a8"
             ],
             [
              0.3333333333333333,
              "#9c179e"
             ],
             [
              0.4444444444444444,
              "#bd3786"
             ],
             [
              0.5555555555555556,
              "#d8576b"
             ],
             [
              0.6666666666666666,
              "#ed7953"
             ],
             [
              0.7777777777777778,
              "#fb9f3a"
             ],
             [
              0.8888888888888888,
              "#fdca26"
             ],
             [
              1,
              "#f0f921"
             ]
            ],
            "type": "surface"
           }
          ],
          "table": [
           {
            "cells": {
             "fill": {
              "color": "#EBF0F8"
             },
             "line": {
              "color": "white"
             }
            },
            "header": {
             "fill": {
              "color": "#C8D4E3"
             },
             "line": {
              "color": "white"
             }
            },
            "type": "table"
           }
          ]
         },
         "layout": {
          "annotationdefaults": {
           "arrowcolor": "#2a3f5f",
           "arrowhead": 0,
           "arrowwidth": 1
          },
          "autotypenumbers": "strict",
          "coloraxis": {
           "colorbar": {
            "outlinewidth": 0,
            "ticks": ""
           }
          },
          "colorscale": {
           "diverging": [
            [
             0,
             "#8e0152"
            ],
            [
             0.1,
             "#c51b7d"
            ],
            [
             0.2,
             "#de77ae"
            ],
            [
             0.3,
             "#f1b6da"
            ],
            [
             0.4,
             "#fde0ef"
            ],
            [
             0.5,
             "#f7f7f7"
            ],
            [
             0.6,
             "#e6f5d0"
            ],
            [
             0.7,
             "#b8e186"
            ],
            [
             0.8,
             "#7fbc41"
            ],
            [
             0.9,
             "#4d9221"
            ],
            [
             1,
             "#276419"
            ]
           ],
           "sequential": [
            [
             0,
             "#0d0887"
            ],
            [
             0.1111111111111111,
             "#46039f"
            ],
            [
             0.2222222222222222,
             "#7201a8"
            ],
            [
             0.3333333333333333,
             "#9c179e"
            ],
            [
             0.4444444444444444,
             "#bd3786"
            ],
            [
             0.5555555555555556,
             "#d8576b"
            ],
            [
             0.6666666666666666,
             "#ed7953"
            ],
            [
             0.7777777777777778,
             "#fb9f3a"
            ],
            [
             0.8888888888888888,
             "#fdca26"
            ],
            [
             1,
             "#f0f921"
            ]
           ],
           "sequentialminus": [
            [
             0,
             "#0d0887"
            ],
            [
             0.1111111111111111,
             "#46039f"
            ],
            [
             0.2222222222222222,
             "#7201a8"
            ],
            [
             0.3333333333333333,
             "#9c179e"
            ],
            [
             0.4444444444444444,
             "#bd3786"
            ],
            [
             0.5555555555555556,
             "#d8576b"
            ],
            [
             0.6666666666666666,
             "#ed7953"
            ],
            [
             0.7777777777777778,
             "#fb9f3a"
            ],
            [
             0.8888888888888888,
             "#fdca26"
            ],
            [
             1,
             "#f0f921"
            ]
           ]
          },
          "colorway": [
           "#636efa",
           "#EF553B",
           "#00cc96",
           "#ab63fa",
           "#FFA15A",
           "#19d3f3",
           "#FF6692",
           "#B6E880",
           "#FF97FF",
           "#FECB52"
          ],
          "font": {
           "color": "#2a3f5f"
          },
          "geo": {
           "bgcolor": "white",
           "lakecolor": "white",
           "landcolor": "#E5ECF6",
           "showlakes": true,
           "showland": true,
           "subunitcolor": "white"
          },
          "hoverlabel": {
           "align": "left"
          },
          "hovermode": "closest",
          "mapbox": {
           "style": "light"
          },
          "paper_bgcolor": "white",
          "plot_bgcolor": "#E5ECF6",
          "polar": {
           "angularaxis": {
            "gridcolor": "white",
            "linecolor": "white",
            "ticks": ""
           },
           "bgcolor": "#E5ECF6",
           "radialaxis": {
            "gridcolor": "white",
            "linecolor": "white",
            "ticks": ""
           }
          },
          "scene": {
           "xaxis": {
            "backgroundcolor": "#E5ECF6",
            "gridcolor": "white",
            "gridwidth": 2,
            "linecolor": "white",
            "showbackground": true,
            "ticks": "",
            "zerolinecolor": "white"
           },
           "yaxis": {
            "backgroundcolor": "#E5ECF6",
            "gridcolor": "white",
            "gridwidth": 2,
            "linecolor": "white",
            "showbackground": true,
            "ticks": "",
            "zerolinecolor": "white"
           },
           "zaxis": {
            "backgroundcolor": "#E5ECF6",
            "gridcolor": "white",
            "gridwidth": 2,
            "linecolor": "white",
            "showbackground": true,
            "ticks": "",
            "zerolinecolor": "white"
           }
          },
          "shapedefaults": {
           "line": {
            "color": "#2a3f5f"
           }
          },
          "ternary": {
           "aaxis": {
            "gridcolor": "white",
            "linecolor": "white",
            "ticks": ""
           },
           "baxis": {
            "gridcolor": "white",
            "linecolor": "white",
            "ticks": ""
           },
           "bgcolor": "#E5ECF6",
           "caxis": {
            "gridcolor": "white",
            "linecolor": "white",
            "ticks": ""
           }
          },
          "title": {
           "x": 0.05
          },
          "xaxis": {
           "automargin": true,
           "gridcolor": "white",
           "linecolor": "white",
           "ticks": "",
           "title": {
            "standoff": 15
           },
           "zerolinecolor": "white",
           "zerolinewidth": 2
          },
          "yaxis": {
           "automargin": true,
           "gridcolor": "white",
           "linecolor": "white",
           "ticks": "",
           "title": {
            "standoff": 15
           },
           "zerolinecolor": "white",
           "zerolinewidth": 2
          }
         }
        },
        "xaxis": {
         "anchor": "y",
         "domain": [
          0,
          1
         ],
         "title": {
          "text": "pc1"
         }
        },
        "yaxis": {
         "anchor": "x",
         "domain": [
          0,
          1
         ],
         "title": {
          "text": "pc2"
         }
        }
       }
      },
      "text/html": [
       "<div>                            <div id=\"44c9d825-ded3-4d41-b5e1-382994184596\" class=\"plotly-graph-div\" style=\"height:525px; width:100%;\"></div>            <script type=\"text/javascript\">                require([\"plotly\"], function(Plotly) {                    window.PLOTLYENV=window.PLOTLYENV || {};                                    if (document.getElementById(\"44c9d825-ded3-4d41-b5e1-382994184596\")) {                    Plotly.newPlot(                        \"44c9d825-ded3-4d41-b5e1-382994184596\",                        [{\"hovertemplate\":\"<b>%{hovertext}</b><br><br>pc1=%{x}<br>pc2=%{y}<extra></extra>\",\"hovertext\":[\"scenario5: review notes\",\"scenario5: Say hello to someone I know.\",\"scenario5: review notes\",\"scenario5: Say hello to someone I know.\",\"scenario5: I could turn on my radio and sing at the top of my lungs on the way to the meeting. \",\"scenario5: Check my email\",\"scenario5: check how the stock market is doing today\",\"scenario5: organize my notes\",\"scenario5: drive around\",\"scenario5: chat with a fellow member\",\"scenario5: Facetime my daughter. \",\"scenario5: double check in the bathroom mirror that you look presentable\",\"scenario5: Turn on my out of office replies\",\"scenario5: I could go to the bathroom. \",\"scenario5: talk on the phone\",\"scenario5: drive\",\"scenario5: Check your emails.\",\"scenario5: drink coffee \",\"scenario5: talk to a coworker\",\"scenario5: Stop and grab some treats.\",\"scenario5: review my work\",\"scenario5: I could reflect on something I want to do over the weekend, spacing out about the meeting. By avoiding thinking about it, I might approach the situation in a new or fresh way, devoid of my prior thoughts or mental constraints.\",\"scenario5: Mentally review the comments I want to make at the meeting.\",\"scenario5: Go into the conference room.\",\"scenario5: Check to make sure I have the right day/time for the meeting.\",\"scenario5: play music\",\"scenario5: walk fast\",\"scenario5: Excercise\",\"scenario5: go to the bathroom\",\"scenario5: Go over my material and presentation in my head\",\"scenario5: review my notes\",\"scenario5: I could quietly listen to music to ensure I'm relaxed for the meeting.\",\"scenario5: Go through the meeting agenda again.\",\"scenario5: Text on my phone\",\"scenario5: Sit\",\"scenario5: wonder what snacks will be there\",\"scenario5: Pop into the restroom to make sure I look presentable.\",\"scenario5: Check my text messages.\",\"scenario5: I could send a text. \",\"scenario5: Check your texts\",\"scenario5: make a mental list of things to do after work\",\"scenario5: Listen to calm music\",\"scenario5: I could think of all the people in attendance. \",\"scenario5: dance\",\"scenario5: make notes\",\"scenario5: Listen to the radio\",\"scenario5: listen to the news or music\",\"scenario5: Talk to someone\",\"scenario5: drink water\",\"scenario5: I could make sure I have my notebook and other things then walk to the meeting\"],\"legendgroup\":\"\",\"marker\":{\"color\":\"#636efa\",\"opacity\":0.4,\"symbol\":\"circle\"},\"mode\":\"markers\",\"name\":\"\",\"orientation\":\"v\",\"showlegend\":false,\"x\":[1.636381752090347,-2.060331001089925,1.6363817520903559,-2.0603310010899274,-5.212437521326673,11.815855610282549,3.102771595771519,13.292522608020048,1.9962746164982101,-2.4319690699944068,-3.622578533628547,2.4956825017127167,4.063145657959291,-3.4505942618676584,-5.527290506734699,2.483943275791057,10.569963557576619,-2.9215495992620757,-4.041558204554457,-1.2959818328851613,3.6830271926240368,-0.8372975277137829,1.3254749509164028,-4.2997033727240765,1.0833856492231768,-10.683774625411948,-3.295092078979879,-0.5677440645249054,-3.981255426016146,-0.5073901260776298,9.125176364492132,-5.442987112042941,-0.988068071981772,5.3813144032185996,-0.8231668318292086,-1.0814220387345281,-0.9475161291302767,10.194195989993347,3.405913218448426,11.94109849198092,2.542554430460317,-10.849042247050987,-1.8405569877840713,-8.746064976258197,11.119287839873857,-9.56343629358169,-7.685652966510551,-5.952588760418194,-4.446742721449535,2.2697724316299333],\"xaxis\":\"x\",\"y\":[2.968566194679967,-4.855569294906727,2.968566194679974,-4.855569294906722,-2.5365956455346863,-5.241358197493985,-0.7551858585979564,1.3902076496316755,13.402455658261305,-8.568896629203275,0.5099860695426952,5.8714497341692375,-1.830063966800311,7.429130247392097,-6.325177925942893,15.078172856524263,-3.8178383318936837,3.1971500137642614,-3.7688798522293676,1.3800114187569923,2.9962885415517575,-1.1068526851329867,-1.6305016802916072,-1.4843657676821906,-2.631093825032723,-2.0758415022170364,11.441735280997827,11.400522113774564,7.637984275447251,1.7428846437449648,1.4747624084086766,-3.625866790301568,-0.01587918162430203,-7.383492756409856,-1.4649352346377564,2.2180570857319943,5.979380663193508,-8.818231953688503,-3.5620979029074284,-8.051128990484193,1.961305116391302,-5.075609657337495,-0.3204588368201386,3.9097044015631637,1.5822247007698649,-7.797872258044749,-6.824134290239761,-5.953619512371181,3.6251231613978474,0.21144939235787608],\"yaxis\":\"y\",\"type\":\"scatter\"}],                        {\"template\":{\"data\":{\"histogram2dcontour\":[{\"type\":\"histogram2dcontour\",\"colorbar\":{\"outlinewidth\":0,\"ticks\":\"\"},\"colorscale\":[[0.0,\"#0d0887\"],[0.1111111111111111,\"#46039f\"],[0.2222222222222222,\"#7201a8\"],[0.3333333333333333,\"#9c179e\"],[0.4444444444444444,\"#bd3786\"],[0.5555555555555556,\"#d8576b\"],[0.6666666666666666,\"#ed7953\"],[0.7777777777777778,\"#fb9f3a\"],[0.8888888888888888,\"#fdca26\"],[1.0,\"#f0f921\"]]}],\"choropleth\":[{\"type\":\"choropleth\",\"colorbar\":{\"outlinewidth\":0,\"ticks\":\"\"}}],\"histogram2d\":[{\"type\":\"histogram2d\",\"colorbar\":{\"outlinewidth\":0,\"ticks\":\"\"},\"colorscale\":[[0.0,\"#0d0887\"],[0.1111111111111111,\"#46039f\"],[0.2222222222222222,\"#7201a8\"],[0.3333333333333333,\"#9c179e\"],[0.4444444444444444,\"#bd3786\"],[0.5555555555555556,\"#d8576b\"],[0.6666666666666666,\"#ed7953\"],[0.7777777777777778,\"#fb9f3a\"],[0.8888888888888888,\"#fdca26\"],[1.0,\"#f0f921\"]]}],\"heatmap\":[{\"type\":\"heatmap\",\"colorbar\":{\"outlinewidth\":0,\"ticks\":\"\"},\"colorscale\":[[0.0,\"#0d0887\"],[0.1111111111111111,\"#46039f\"],[0.2222222222222222,\"#7201a8\"],[0.3333333333333333,\"#9c179e\"],[0.4444444444444444,\"#bd3786\"],[0.5555555555555556,\"#d8576b\"],[0.6666666666666666,\"#ed7953\"],[0.7777777777777778,\"#fb9f3a\"],[0.8888888888888888,\"#fdca26\"],[1.0,\"#f0f921\"]]}],\"heatmapgl\":[{\"type\":\"heatmapgl\",\"colorbar\":{\"outlinewidth\":0,\"ticks\":\"\"},\"colorscale\":[[0.0,\"#0d0887\"],[0.1111111111111111,\"#46039f\"],[0.2222222222222222,\"#7201a8\"],[0.3333333333333333,\"#9c179e\"],[0.4444444444444444,\"#bd3786\"],[0.5555555555555556,\"#d8576b\"],[0.6666666666666666,\"#ed7953\"],[0.7777777777777778,\"#fb9f3a\"],[0.8888888888888888,\"#fdca26\"],[1.0,\"#f0f921\"]]}],\"contourcarpet\":[{\"type\":\"contourcarpet\",\"colorbar\":{\"outlinewidth\":0,\"ticks\":\"\"}}],\"contour\":[{\"type\":\"contour\",\"colorbar\":{\"outlinewidth\":0,\"ticks\":\"\"},\"colorscale\":[[0.0,\"#0d0887\"],[0.1111111111111111,\"#46039f\"],[0.2222222222222222,\"#7201a8\"],[0.3333333333333333,\"#9c179e\"],[0.4444444444444444,\"#bd3786\"],[0.5555555555555556,\"#d8576b\"],[0.6666666666666666,\"#ed7953\"],[0.7777777777777778,\"#fb9f3a\"],[0.8888888888888888,\"#fdca26\"],[1.0,\"#f0f921\"]]}],\"surface\":[{\"type\":\"surface\",\"colorbar\":{\"outlinewidth\":0,\"ticks\":\"\"},\"colorscale\":[[0.0,\"#0d0887\"],[0.1111111111111111,\"#46039f\"],[0.2222222222222222,\"#7201a8\"],[0.3333333333333333,\"#9c179e\"],[0.4444444444444444,\"#bd3786\"],[0.5555555555555556,\"#d8576b\"],[0.6666666666666666,\"#ed7953\"],[0.7777777777777778,\"#fb9f3a\"],[0.8888888888888888,\"#fdca26\"],[1.0,\"#f0f921\"]]}],\"mesh3d\":[{\"type\":\"mesh3d\",\"colorbar\":{\"outlinewidth\":0,\"ticks\":\"\"}}],\"scatter\":[{\"fillpattern\":{\"fillmode\":\"overlay\",\"size\":10,\"solidity\":0.2},\"type\":\"scatter\"}],\"parcoords\":[{\"type\":\"parcoords\",\"line\":{\"colorbar\":{\"outlinewidth\":0,\"ticks\":\"\"}}}],\"scatterpolargl\":[{\"type\":\"scatterpolargl\",\"marker\":{\"colorbar\":{\"outlinewidth\":0,\"ticks\":\"\"}}}],\"bar\":[{\"error_x\":{\"color\":\"#2a3f5f\"},\"error_y\":{\"color\":\"#2a3f5f\"},\"marker\":{\"line\":{\"color\":\"#E5ECF6\",\"width\":0.5},\"pattern\":{\"fillmode\":\"overlay\",\"size\":10,\"solidity\":0.2}},\"type\":\"bar\"}],\"scattergeo\":[{\"type\":\"scattergeo\",\"marker\":{\"colorbar\":{\"outlinewidth\":0,\"ticks\":\"\"}}}],\"scatterpolar\":[{\"type\":\"scatterpolar\",\"marker\":{\"colorbar\":{\"outlinewidth\":0,\"ticks\":\"\"}}}],\"histogram\":[{\"marker\":{\"pattern\":{\"fillmode\":\"overlay\",\"size\":10,\"solidity\":0.2}},\"type\":\"histogram\"}],\"scattergl\":[{\"type\":\"scattergl\",\"marker\":{\"colorbar\":{\"outlinewidth\":0,\"ticks\":\"\"}}}],\"scatter3d\":[{\"type\":\"scatter3d\",\"line\":{\"colorbar\":{\"outlinewidth\":0,\"ticks\":\"\"}},\"marker\":{\"colorbar\":{\"outlinewidth\":0,\"ticks\":\"\"}}}],\"scattermapbox\":[{\"type\":\"scattermapbox\",\"marker\":{\"colorbar\":{\"outlinewidth\":0,\"ticks\":\"\"}}}],\"scatterternary\":[{\"type\":\"scatterternary\",\"marker\":{\"colorbar\":{\"outlinewidth\":0,\"ticks\":\"\"}}}],\"scattercarpet\":[{\"type\":\"scattercarpet\",\"marker\":{\"colorbar\":{\"outlinewidth\":0,\"ticks\":\"\"}}}],\"carpet\":[{\"aaxis\":{\"endlinecolor\":\"#2a3f5f\",\"gridcolor\":\"white\",\"linecolor\":\"white\",\"minorgridcolor\":\"white\",\"startlinecolor\":\"#2a3f5f\"},\"baxis\":{\"endlinecolor\":\"#2a3f5f\",\"gridcolor\":\"white\",\"linecolor\":\"white\",\"minorgridcolor\":\"white\",\"startlinecolor\":\"#2a3f5f\"},\"type\":\"carpet\"}],\"table\":[{\"cells\":{\"fill\":{\"color\":\"#EBF0F8\"},\"line\":{\"color\":\"white\"}},\"header\":{\"fill\":{\"color\":\"#C8D4E3\"},\"line\":{\"color\":\"white\"}},\"type\":\"table\"}],\"barpolar\":[{\"marker\":{\"line\":{\"color\":\"#E5ECF6\",\"width\":0.5},\"pattern\":{\"fillmode\":\"overlay\",\"size\":10,\"solidity\":0.2}},\"type\":\"barpolar\"}],\"pie\":[{\"automargin\":true,\"type\":\"pie\"}]},\"layout\":{\"autotypenumbers\":\"strict\",\"colorway\":[\"#636efa\",\"#EF553B\",\"#00cc96\",\"#ab63fa\",\"#FFA15A\",\"#19d3f3\",\"#FF6692\",\"#B6E880\",\"#FF97FF\",\"#FECB52\"],\"font\":{\"color\":\"#2a3f5f\"},\"hovermode\":\"closest\",\"hoverlabel\":{\"align\":\"left\"},\"paper_bgcolor\":\"white\",\"plot_bgcolor\":\"#E5ECF6\",\"polar\":{\"bgcolor\":\"#E5ECF6\",\"angularaxis\":{\"gridcolor\":\"white\",\"linecolor\":\"white\",\"ticks\":\"\"},\"radialaxis\":{\"gridcolor\":\"white\",\"linecolor\":\"white\",\"ticks\":\"\"}},\"ternary\":{\"bgcolor\":\"#E5ECF6\",\"aaxis\":{\"gridcolor\":\"white\",\"linecolor\":\"white\",\"ticks\":\"\"},\"baxis\":{\"gridcolor\":\"white\",\"linecolor\":\"white\",\"ticks\":\"\"},\"caxis\":{\"gridcolor\":\"white\",\"linecolor\":\"white\",\"ticks\":\"\"}},\"coloraxis\":{\"colorbar\":{\"outlinewidth\":0,\"ticks\":\"\"}},\"colorscale\":{\"sequential\":[[0.0,\"#0d0887\"],[0.1111111111111111,\"#46039f\"],[0.2222222222222222,\"#7201a8\"],[0.3333333333333333,\"#9c179e\"],[0.4444444444444444,\"#bd3786\"],[0.5555555555555556,\"#d8576b\"],[0.6666666666666666,\"#ed7953\"],[0.7777777777777778,\"#fb9f3a\"],[0.8888888888888888,\"#fdca26\"],[1.0,\"#f0f921\"]],\"sequentialminus\":[[0.0,\"#0d0887\"],[0.1111111111111111,\"#46039f\"],[0.2222222222222222,\"#7201a8\"],[0.3333333333333333,\"#9c179e\"],[0.4444444444444444,\"#bd3786\"],[0.5555555555555556,\"#d8576b\"],[0.6666666666666666,\"#ed7953\"],[0.7777777777777778,\"#fb9f3a\"],[0.8888888888888888,\"#fdca26\"],[1.0,\"#f0f921\"]],\"diverging\":[[0,\"#8e0152\"],[0.1,\"#c51b7d\"],[0.2,\"#de77ae\"],[0.3,\"#f1b6da\"],[0.4,\"#fde0ef\"],[0.5,\"#f7f7f7\"],[0.6,\"#e6f5d0\"],[0.7,\"#b8e186\"],[0.8,\"#7fbc41\"],[0.9,\"#4d9221\"],[1,\"#276419\"]]},\"xaxis\":{\"gridcolor\":\"white\",\"linecolor\":\"white\",\"ticks\":\"\",\"title\":{\"standoff\":15},\"zerolinecolor\":\"white\",\"automargin\":true,\"zerolinewidth\":2},\"yaxis\":{\"gridcolor\":\"white\",\"linecolor\":\"white\",\"ticks\":\"\",\"title\":{\"standoff\":15},\"zerolinecolor\":\"white\",\"automargin\":true,\"zerolinewidth\":2},\"scene\":{\"xaxis\":{\"backgroundcolor\":\"#E5ECF6\",\"gridcolor\":\"white\",\"linecolor\":\"white\",\"showbackground\":true,\"ticks\":\"\",\"zerolinecolor\":\"white\",\"gridwidth\":2},\"yaxis\":{\"backgroundcolor\":\"#E5ECF6\",\"gridcolor\":\"white\",\"linecolor\":\"white\",\"showbackground\":true,\"ticks\":\"\",\"zerolinecolor\":\"white\",\"gridwidth\":2},\"zaxis\":{\"backgroundcolor\":\"#E5ECF6\",\"gridcolor\":\"white\",\"linecolor\":\"white\",\"showbackground\":true,\"ticks\":\"\",\"zerolinecolor\":\"white\",\"gridwidth\":2}},\"shapedefaults\":{\"line\":{\"color\":\"#2a3f5f\"}},\"annotationdefaults\":{\"arrowcolor\":\"#2a3f5f\",\"arrowhead\":0,\"arrowwidth\":1},\"geo\":{\"bgcolor\":\"white\",\"landcolor\":\"#E5ECF6\",\"subunitcolor\":\"white\",\"showland\":true,\"showlakes\":true,\"lakecolor\":\"white\"},\"title\":{\"x\":0.05},\"mapbox\":{\"style\":\"light\"}}},\"xaxis\":{\"anchor\":\"y\",\"domain\":[0.0,1.0],\"title\":{\"text\":\"pc1\"}},\"yaxis\":{\"anchor\":\"x\",\"domain\":[0.0,1.0],\"title\":{\"text\":\"pc2\"}},\"legend\":{\"tracegroupgap\":0},\"margin\":{\"t\":60}},                        {\"responsive\": true}                    ).then(function(){\n",
       "                            \n",
       "var gd = document.getElementById('44c9d825-ded3-4d41-b5e1-382994184596');\n",
       "var x = new MutationObserver(function (mutations, observer) {{\n",
       "        var display = window.getComputedStyle(gd).display;\n",
       "        if (!display || display === 'none') {{\n",
       "            console.log([gd, 'removed!']);\n",
       "            Plotly.purge(gd);\n",
       "            observer.disconnect();\n",
       "        }}\n",
       "}});\n",
       "\n",
       "// Listen for the removal of the full notebook cells\n",
       "var notebookContainer = gd.closest('#notebook-container');\n",
       "if (notebookContainer) {{\n",
       "    x.observe(notebookContainer, {childList: true});\n",
       "}}\n",
       "\n",
       "// Listen for the clearing of the current output cell\n",
       "var outputEl = gd.closest('.output');\n",
       "if (outputEl) {{\n",
       "    x.observe(outputEl, {childList: true});\n",
       "}}\n",
       "\n",
       "                        })                };                });            </script>        </div>"
      ]
     },
     "metadata": {},
     "output_type": "display_data"
    },
    {
     "data": {
      "image/png": "[encoded data removed]",
      "text/plain": [
       "<Figure size 432x288 with 2 Axes>"
      ]
     },
     "metadata": {
      "needs_background": "light"
     },
     "output_type": "display_data"
    },
    {
     "data": {
      "image/png": "[encoded data removed]",
      "text/plain": [
       "<Figure size 432x288 with 2 Axes>"
      ]
     },
     "metadata": {
      "needs_background": "light"
     },
     "output_type": "display_data"
    }
   ],
   "source": [
    "#scatterplot\n",
    "principalComponents = pca.fit_transform(np.array(embed_5))\n",
    "embed_5 = pd.DataFrame(data = principalComponents, columns = ['pc1', 'pc2'])\n",
    "embed_5[\"responses\"] = embed_5_responses\n",
    "fig = px.scatter(embed_5, x=\"pc1\", y=\"pc2\", opacity=.4, hover_name=\"responses\")\n",
    "fig.show()\n",
    "\n",
    "#heatmap\n",
    "heatmap5, xedges, yedges = np.histogram2d(list(embed_5[\"pc1\"]), list(embed_5[\"pc2\"]), bins=bin_size)\n",
    "heatmap5 = gaussian_filter(heatmap5, sigma=1)\n",
    "extent = [xedges[0], xedges[-1], yedges[0], yedges[-1]]\n",
    "\n",
    "plt.clf()\n",
    "plt.title(\"Generation Density Heatmap\")\n",
    "plt.imshow(heatmap5.T, extent=extent, origin='lower')\n",
    "plt.colorbar()\n",
    "plt.show()\n",
    "\n",
    "# #heatmap with weights\n",
    "# heatmap, xedges, yedges = np.histogram2d(list(embed_5[\"pc1\"]), list(embed_5[\"pc2\"]), bins=bin_size, weights = embed_5_weights, density=False)\n",
    "# heatmap = gaussian_filter(heatmap, sigma=1)\n",
    "# extent = [xedges[0], xedges[-1], yedges[0], yedges[-1]]\n",
    "\n",
    "# plt.clf()\n",
    "# plt.imshow(heatmap.T, extent=extent, origin='lower')\n",
    "# plt.show()\n",
    "\n",
    "#median sentiment heatmap\n",
    "# Compute the median of the weights in each bin\n",
    "median, _, _, _ = binned_statistic_2d(list(embed_5[\"pc1\"]), list(embed_5[\"pc2\"]), embed_5_weights, statistic='median', bins=(bin_size, bin_size))\n",
    "#set all nans to 0\n",
    "for y in range(len(median)): \n",
    "    for x in range(len(median[y])):\n",
    "        if pd.isna(median[x][y]):\n",
    "            median[x][y]  = 0\n",
    "median = gaussian_filter(median, sigma=1)\n",
    "\n",
    "# plot the heatmap\n",
    "plt.clf()\n",
    "plt.title(\"Generation Median Sentiment Heatmap\")\n",
    "plt.imshow(median, origin='lower', extent=[xedges[0], xedges[-1], yedges[0], yedges[-1]], interpolation='nearest')\n",
    "plt.colorbar()\n",
    "plt.show()"
   ]
  },
  {
   "cell_type": "code",
   "execution_count": 133,
   "metadata": {},
   "outputs": [
    {
     "data": {
      "application/vnd.plotly.v1+json": {
       "config": {
        "plotlyServerURL": "https://plot.ly"
       },
       "data": [
        {
         "hovertemplate": "<b>%{hovertext}</b><br><br>pc1=%{x}<br>pc2=%{y}<extra></extra>",
         "hovertext": [
          "scenario5: make a call",
          "scenario5: Stretch.",
          "scenario5: make a call",
          "scenario5: Stretch.",
          "scenario5: I could pick up other committee members and take them to the meeting with me.  ",
          "scenario5: Read a few pages of a book",
          "scenario5: listen to music",
          "scenario5: get a cup of coffee",
          "scenario5: listen to radio",
          "scenario5: rehearse any statements",
          "scenario5: Call a client. ",
          "scenario5: review the materials you will be presenting",
          "scenario5: Brush my teeth",
          "scenario5: I could check my appearance in a mirror.",
          "scenario5: nothing, just zone out for a few minutes",
          "scenario5: shop",
          "scenario5: Check your appearance.",
          "scenario5: take pictures",
          "scenario5: talk to my mom",
          "scenario5: Use the restroom so I do not leave the meeting.",
          "scenario5: Put gas in the car",
          "scenario5: Sing a song that I like silently, to destress and give myself a quick 'vacation' before getting down to business.",
          "scenario5: Breath deeply to relax.",
          "scenario5: I would next find a seat",
          "scenario5: Turn my phone to silent.",
          "scenario5: listen to voicemails",
          "scenario5: stop and read",
          "scenario5: Eat",
          "scenario5: call my parents and ask them how they are doing",
          "scenario5: Make sure to put my phone on silent ",
          "scenario5: practice what I am going to say",
          "scenario5: I could call members to make sure they have everything they need for the meeting.",
          "scenario5: Play a game on my phone.",
          "scenario5: call a friend",
          "scenario5: Eat",
          "scenario5: check messages on your phone",
          "scenario5: Walk a little bit slow since the meeting isn't for 15 minutes.",
          "scenario5: Notice my surroundings as I head to the meeting.",
          "scenario5: I could stop by the restroom.",
          "scenario5: copy some papers",
          "scenario5: Pray",
          "scenario5: Browse social media to pass time",
          "scenario5: I could listen to music. ",
          "scenario5: Yell at other drivers",
          "scenario5: grab a small snack",
          "scenario5: Listen to a cd",
          "scenario5: Go over my notes",
          "scenario5: make sure shoes are tied",
          "scenario5: I could make sure I have all the research notes as I walk to the meeting"
         ],
         "legendgroup": "",
         "marker": {
          "color": "#636efa",
          "opacity": 0.4,
          "symbol": "circle"
         },
         "mode": "markers",
         "name": "",
         "orientation": "v",
         "showlegend": false,
         "type": "scatter",
         "x": [
          -6.608014305138769,
          8.333986317015597,
          -6.608014305138767,
          8.333986317015594,
          0.7736870402632258,
          6.000128858607953,
          -8.71232457596355,
          4.4444571750796635,
          -9.858186721656777,
          -2.186497264536856,
          -7.0361676404372915,
          2.19568050858972,
          5.317218510267056,
          4.105664861414466,
          1.3458398231812645,
          4.448004065948339,
          4.757434473818568,
          3.133423288071518,
          -3.4991280862783647,
          -0.28197178630826525,
          4.047853605636044,
          -2.7845490866208378,
          0.7216764263611913,
          4.588967502612397,
          -10.049417342648852,
          -11.149980316224765,
          0.6962906063456478,
          11.27220172528982,
          -3.8879901769304883,
          -9.260472297380927,
          -1.7331011249334267,
          -1.1887015782220178,
          -7.748685024227204,
          -3.3314677226914937,
          11.27220172528982,
          -6.632935962782753,
          0.10613280886828622,
          -0.8252214425657994,
          2.795513762754828,
          4.359186682320199,
          -1.5697608070117346,
          -2.2414676526864037,
          -3.442860870651329,
          -0.6601309419438505,
          10.206841643926452,
          -5.301920862356027,
          4.0511545347117455,
          6.057720917047617,
          3.233714714899543
         ],
         "xaxis": "x",
         "y": [
          -5.625986515075705,
          -12.127131884561418,
          -5.625986515075705,
          -12.12713188456141,
          0.7503019005105254,
          1.3159116847389607,
          7.940680760396098,
          4.8005855704561515,
          8.359226889070115,
          -2.4396377661462596,
          -4.233750406950107,
          -0.5696484414073656,
          1.2183398052300318,
          -0.9120284782273229,
          -0.9888646001956266,
          2.1180466824468174,
          -0.7271462204682214,
          -1.8542902998698063,
          2.775272780821954,
          1.3153232624166729,
          -4.106230056953307,
          1.0635729277321484,
          -1.9952416148087193,
          1.5676039236765529,
          1.4864465849978137,
          5.44720703711138,
          1.5186441995143485,
          14.26988354162835,
          -3.882715024978554,
          -0.5508819290572334,
          -2.94758375108231,
          -1.6674311656763892,
          1.8753343405485827,
          -3.4104200050810007,
          14.26988354162835,
          -1.434832954389976,
          0.5429989152436748,
          -1.1290399148602106,
          0.898983115343649,
          -4.772317250337132,
          -5.204695499372748,
          2.1266177059876465,
          7.3367505573635725,
          -6.960405088011948,
          8.685573340059204,
          6.009979046652677,
          -3.088372349656196,
          -7.891787498109028,
          -1.4196109986615992
         ],
         "yaxis": "y"
        }
       ],
       "layout": {
        "legend": {
         "tracegroupgap": 0
        },
        "margin": {
         "t": 60
        },
        "template": {
         "data": {
          "bar": [
           {
            "error_x": {
             "color": "#2a3f5f"
            },
            "error_y": {
             "color": "#2a3f5f"
            },
            "marker": {
             "line": {
              "color": "#E5ECF6",
              "width": 0.5
             },
             "pattern": {
              "fillmode": "overlay",
              "size": 10,
              "solidity": 0.2
             }
            },
            "type": "bar"
           }
          ],
          "barpolar": [
           {
            "marker": {
             "line": {
              "color": "#E5ECF6",
              "width": 0.5
             },
             "pattern": {
              "fillmode": "overlay",
              "size": 10,
              "solidity": 0.2
             }
            },
            "type": "barpolar"
           }
          ],
          "carpet": [
           {
            "aaxis": {
             "endlinecolor": "#2a3f5f",
             "gridcolor": "white",
             "linecolor": "white",
             "minorgridcolor": "white",
             "startlinecolor": "#2a3f5f"
            },
            "baxis": {
             "endlinecolor": "#2a3f5f",
             "gridcolor": "white",
             "linecolor": "white",
             "minorgridcolor": "white",
             "startlinecolor": "#2a3f5f"
            },
            "type": "carpet"
           }
          ],
          "choropleth": [
           {
            "colorbar": {
             "outlinewidth": 0,
             "ticks": ""
            },
            "type": "choropleth"
           }
          ],
          "contour": [
           {
            "colorbar": {
             "outlinewidth": 0,
             "ticks": ""
            },
            "colorscale": [
             [
              0,
              "#0d0887"
             ],
             [
              0.1111111111111111,
              "#46039f"
             ],
             [
              0.2222222222222222,
              "#7201a8"
             ],
             [
              0.3333333333333333,
              "#9c179e"
             ],
             [
              0.4444444444444444,
              "#bd3786"
             ],
             [
              0.5555555555555556,
              "#d8576b"
             ],
             [
              0.6666666666666666,
              "#ed7953"
             ],
             [
              0.7777777777777778,
              "#fb9f3a"
             ],
             [
              0.8888888888888888,
              "#fdca26"
             ],
             [
              1,
              "#f0f921"
             ]
            ],
            "type": "contour"
           }
          ],
          "contourcarpet": [
           {
            "colorbar": {
             "outlinewidth": 0,
             "ticks": ""
            },
            "type": "contourcarpet"
           }
          ],
          "heatmap": [
           {
            "colorbar": {
             "outlinewidth": 0,
             "ticks": ""
            },
            "colorscale": [
             [
              0,
              "#0d0887"
             ],
             [
              0.1111111111111111,
              "#46039f"
             ],
             [
              0.2222222222222222,
              "#7201a8"
             ],
             [
              0.3333333333333333,
              "#9c179e"
             ],
             [
              0.4444444444444444,
              "#bd3786"
             ],
             [
              0.5555555555555556,
              "#d8576b"
             ],
             [
              0.6666666666666666,
              "#ed7953"
             ],
             [
              0.7777777777777778,
              "#fb9f3a"
             ],
             [
              0.8888888888888888,
              "#fdca26"
             ],
             [
              1,
              "#f0f921"
             ]
            ],
            "type": "heatmap"
           }
          ],
          "heatmapgl": [
           {
            "colorbar": {
             "outlinewidth": 0,
             "ticks": ""
            },
            "colorscale": [
             [
              0,
              "#0d0887"
             ],
             [
              0.1111111111111111,
              "#46039f"
             ],
             [
              0.2222222222222222,
              "#7201a8"
             ],
             [
              0.3333333333333333,
              "#9c179e"
             ],
             [
              0.4444444444444444,
              "#bd3786"
             ],
             [
              0.5555555555555556,
              "#d8576b"
             ],
             [
              0.6666666666666666,
              "#ed7953"
             ],
             [
              0.7777777777777778,
              "#fb9f3a"
             ],
             [
              0.8888888888888888,
              "#fdca26"
             ],
             [
              1,
              "#f0f921"
             ]
            ],
            "type": "heatmapgl"
           }
          ],
          "histogram": [
           {
            "marker": {
             "pattern": {
              "fillmode": "overlay",
              "size": 10,
              "solidity": 0.2
             }
            },
            "type": "histogram"
           }
          ],
          "histogram2d": [
           {
            "colorbar": {
             "outlinewidth": 0,
             "ticks": ""
            },
            "colorscale": [
             [
              0,
              "#0d0887"
             ],
             [
              0.1111111111111111,
              "#46039f"
             ],
             [
              0.2222222222222222,
              "#7201a8"
             ],
             [
              0.3333333333333333,
              "#9c179e"
             ],
             [
              0.4444444444444444,
              "#bd3786"
             ],
             [
              0.5555555555555556,
              "#d8576b"
             ],
             [
              0.6666666666666666,
              "#ed7953"
             ],
             [
              0.7777777777777778,
              "#fb9f3a"
             ],
             [
              0.8888888888888888,
              "#fdca26"
             ],
             [
              1,
              "#f0f921"
             ]
            ],
            "type": "histogram2d"
           }
          ],
          "histogram2dcontour": [
           {
            "colorbar": {
             "outlinewidth": 0,
             "ticks": ""
            },
            "colorscale": [
             [
              0,
              "#0d0887"
             ],
             [
              0.1111111111111111,
              "#46039f"
             ],
             [
              0.2222222222222222,
              "#7201a8"
             ],
             [
              0.3333333333333333,
              "#9c179e"
             ],
             [
              0.4444444444444444,
              "#bd3786"
             ],
             [
              0.5555555555555556,
              "#d8576b"
             ],
             [
              0.6666666666666666,
              "#ed7953"
             ],
             [
              0.7777777777777778,
              "#fb9f3a"
             ],
             [
              0.8888888888888888,
              "#fdca26"
             ],
             [
              1,
              "#f0f921"
             ]
            ],
            "type": "histogram2dcontour"
           }
          ],
          "mesh3d": [
           {
            "colorbar": {
             "outlinewidth": 0,
             "ticks": ""
            },
            "type": "mesh3d"
           }
          ],
          "parcoords": [
           {
            "line": {
             "colorbar": {
              "outlinewidth": 0,
              "ticks": ""
             }
            },
            "type": "parcoords"
           }
          ],
          "pie": [
           {
            "automargin": true,
            "type": "pie"
           }
          ],
          "scatter": [
           {
            "fillpattern": {
             "fillmode": "overlay",
             "size": 10,
             "solidity": 0.2
            },
            "type": "scatter"
           }
          ],
          "scatter3d": [
           {
            "line": {
             "colorbar": {
              "outlinewidth": 0,
              "ticks": ""
             }
            },
            "marker": {
             "colorbar": {
              "outlinewidth": 0,
              "ticks": ""
             }
            },
            "type": "scatter3d"
           }
          ],
          "scattercarpet": [
           {
            "marker": {
             "colorbar": {
              "outlinewidth": 0,
              "ticks": ""
             }
            },
            "type": "scattercarpet"
           }
          ],
          "scattergeo": [
           {
            "marker": {
             "colorbar": {
              "outlinewidth": 0,
              "ticks": ""
             }
            },
            "type": "scattergeo"
           }
          ],
          "scattergl": [
           {
            "marker": {
             "colorbar": {
              "outlinewidth": 0,
              "ticks": ""
             }
            },
            "type": "scattergl"
           }
          ],
          "scattermapbox": [
           {
            "marker": {
             "colorbar": {
              "outlinewidth": 0,
              "ticks": ""
             }
            },
            "type": "scattermapbox"
           }
          ],
          "scatterpolar": [
           {
            "marker": {
             "colorbar": {
              "outlinewidth": 0,
              "ticks": ""
             }
            },
            "type": "scatterpolar"
           }
          ],
          "scatterpolargl": [
           {
            "marker": {
             "colorbar": {
              "outlinewidth": 0,
              "ticks": ""
             }
            },
            "type": "scatterpolargl"
           }
          ],
          "scatterternary": [
           {
            "marker": {
             "colorbar": {
              "outlinewidth": 0,
              "ticks": ""
             }
            },
            "type": "scatterternary"
           }
          ],
          "surface": [
           {
            "colorbar": {
             "outlinewidth": 0,
             "ticks": ""
            },
            "colorscale": [
             [
              0,
              "#0d0887"
             ],
             [
              0.1111111111111111,
              "#46039f"
             ],
             [
              0.2222222222222222,
              "#7201a8"
             ],
             [
              0.3333333333333333,
              "#9c179e"
             ],
             [
              0.4444444444444444,
              "#bd3786"
             ],
             [
              0.5555555555555556,
              "#d8576b"
             ],
             [
              0.6666666666666666,
              "#ed7953"
             ],
             [
              0.7777777777777778,
              "#fb9f3a"
             ],
             [
              0.8888888888888888,
              "#fdca26"
             ],
             [
              1,
              "#f0f921"
             ]
            ],
            "type": "surface"
           }
          ],
          "table": [
           {
            "cells": {
             "fill": {
              "color": "#EBF0F8"
             },
             "line": {
              "color": "white"
             }
            },
            "header": {
             "fill": {
              "color": "#C8D4E3"
             },
             "line": {
              "color": "white"
             }
            },
            "type": "table"
           }
          ]
         },
         "layout": {
          "annotationdefaults": {
           "arrowcolor": "#2a3f5f",
           "arrowhead": 0,
           "arrowwidth": 1
          },
          "autotypenumbers": "strict",
          "coloraxis": {
           "colorbar": {
            "outlinewidth": 0,
            "ticks": ""
           }
          },
          "colorscale": {
           "diverging": [
            [
             0,
             "#8e0152"
            ],
            [
             0.1,
             "#c51b7d"
            ],
            [
             0.2,
             "#de77ae"
            ],
            [
             0.3,
             "#f1b6da"
            ],
            [
             0.4,
             "#fde0ef"
            ],
            [
             0.5,
             "#f7f7f7"
            ],
            [
             0.6,
             "#e6f5d0"
            ],
            [
             0.7,
             "#b8e186"
            ],
            [
             0.8,
             "#7fbc41"
            ],
            [
             0.9,
             "#4d9221"
            ],
            [
             1,
             "#276419"
            ]
           ],
           "sequential": [
            [
             0,
             "#0d0887"
            ],
            [
             0.1111111111111111,
             "#46039f"
            ],
            [
             0.2222222222222222,
             "#7201a8"
            ],
            [
             0.3333333333333333,
             "#9c179e"
            ],
            [
             0.4444444444444444,
             "#bd3786"
            ],
            [
             0.5555555555555556,
             "#d8576b"
            ],
            [
             0.6666666666666666,
             "#ed7953"
            ],
            [
             0.7777777777777778,
             "#fb9f3a"
            ],
            [
             0.8888888888888888,
             "#fdca26"
            ],
            [
             1,
             "#f0f921"
            ]
           ],
           "sequentialminus": [
            [
             0,
             "#0d0887"
            ],
            [
             0.1111111111111111,
             "#46039f"
            ],
            [
             0.2222222222222222,
             "#7201a8"
            ],
            [
             0.3333333333333333,
             "#9c179e"
            ],
            [
             0.4444444444444444,
             "#bd3786"
            ],
            [
             0.5555555555555556,
             "#d8576b"
            ],
            [
             0.6666666666666666,
             "#ed7953"
            ],
            [
             0.7777777777777778,
             "#fb9f3a"
            ],
            [
             0.8888888888888888,
             "#fdca26"
            ],
            [
             1,
             "#f0f921"
            ]
           ]
          },
          "colorway": [
           "#636efa",
           "#EF553B",
           "#00cc96",
           "#ab63fa",
           "#FFA15A",
           "#19d3f3",
           "#FF6692",
           "#B6E880",
           "#FF97FF",
           "#FECB52"
          ],
          "font": {
           "color": "#2a3f5f"
          },
          "geo": {
           "bgcolor": "white",
           "lakecolor": "white",
           "landcolor": "#E5ECF6",
           "showlakes": true,
           "showland": true,
           "subunitcolor": "white"
          },
          "hoverlabel": {
           "align": "left"
          },
          "hovermode": "closest",
          "mapbox": {
           "style": "light"
          },
          "paper_bgcolor": "white",
          "plot_bgcolor": "#E5ECF6",
          "polar": {
           "angularaxis": {
            "gridcolor": "white",
            "linecolor": "white",
            "ticks": ""
           },
           "bgcolor": "#E5ECF6",
           "radialaxis": {
            "gridcolor": "white",
            "linecolor": "white",
            "ticks": ""
           }
          },
          "scene": {
           "xaxis": {
            "backgroundcolor": "#E5ECF6",
            "gridcolor": "white",
            "gridwidth": 2,
            "linecolor": "white",
            "showbackground": true,
            "ticks": "",
            "zerolinecolor": "white"
           },
           "yaxis": {
            "backgroundcolor": "#E5ECF6",
            "gridcolor": "white",
            "gridwidth": 2,
            "linecolor": "white",
            "showbackground": true,
            "ticks": "",
            "zerolinecolor": "white"
           },
           "zaxis": {
            "backgroundcolor": "#E5ECF6",
            "gridcolor": "white",
            "gridwidth": 2,
            "linecolor": "white",
            "showbackground": true,
            "ticks": "",
            "zerolinecolor": "white"
           }
          },
          "shapedefaults": {
           "line": {
            "color": "#2a3f5f"
           }
          },
          "ternary": {
           "aaxis": {
            "gridcolor": "white",
            "linecolor": "white",
            "ticks": ""
           },
           "baxis": {
            "gridcolor": "white",
            "linecolor": "white",
            "ticks": ""
           },
           "bgcolor": "#E5ECF6",
           "caxis": {
            "gridcolor": "white",
            "linecolor": "white",
            "ticks": ""
           }
          },
          "title": {
           "x": 0.05
          },
          "xaxis": {
           "automargin": true,
           "gridcolor": "white",
           "linecolor": "white",
           "ticks": "",
           "title": {
            "standoff": 15
           },
           "zerolinecolor": "white",
           "zerolinewidth": 2
          },
          "yaxis": {
           "automargin": true,
           "gridcolor": "white",
           "linecolor": "white",
           "ticks": "",
           "title": {
            "standoff": 15
           },
           "zerolinecolor": "white",
           "zerolinewidth": 2
          }
         }
        },
        "xaxis": {
         "anchor": "y",
         "domain": [
          0,
          1
         ],
         "title": {
          "text": "pc1"
         }
        },
        "yaxis": {
         "anchor": "x",
         "domain": [
          0,
          1
         ],
         "title": {
          "text": "pc2"
         }
        }
       }
      },
      "text/html": [
       "<div>                            <div id=\"1d978d9e-bc69-4add-b4ce-d6330a246a25\" class=\"plotly-graph-div\" style=\"height:525px; width:100%;\"></div>            <script type=\"text/javascript\">                require([\"plotly\"], function(Plotly) {                    window.PLOTLYENV=window.PLOTLYENV || {};                                    if (document.getElementById(\"1d978d9e-bc69-4add-b4ce-d6330a246a25\")) {                    Plotly.newPlot(                        \"1d978d9e-bc69-4add-b4ce-d6330a246a25\",                        [{\"hovertemplate\":\"<b>%{hovertext}</b><br><br>pc1=%{x}<br>pc2=%{y}<extra></extra>\",\"hovertext\":[\"scenario5: make a call\",\"scenario5: Stretch.\",\"scenario5: make a call\",\"scenario5: Stretch.\",\"scenario5: I could pick up other committee members and take them to the meeting with me.  \",\"scenario5: Read a few pages of a book\",\"scenario5: listen to music\",\"scenario5: get a cup of coffee\",\"scenario5: listen to radio\",\"scenario5: rehearse any statements\",\"scenario5: Call a client. \",\"scenario5: review the materials you will be presenting\",\"scenario5: Brush my teeth\",\"scenario5: I could check my appearance in a mirror.\",\"scenario5: nothing, just zone out for a few minutes\",\"scenario5: shop\",\"scenario5: Check your appearance.\",\"scenario5: take pictures\",\"scenario5: talk to my mom\",\"scenario5: Use the restroom so I do not leave the meeting.\",\"scenario5: Put gas in the car\",\"scenario5: Sing a song that I like silently, to destress and give myself a quick 'vacation' before getting down to business.\",\"scenario5: Breath deeply to relax.\",\"scenario5: I would next find a seat\",\"scenario5: Turn my phone to silent.\",\"scenario5: listen to voicemails\",\"scenario5: stop and read\",\"scenario5: Eat\",\"scenario5: call my parents and ask them how they are doing\",\"scenario5: Make sure to put my phone on silent \",\"scenario5: practice what I am going to say\",\"scenario5: I could call members to make sure they have everything they need for the meeting.\",\"scenario5: Play a game on my phone.\",\"scenario5: call a friend\",\"scenario5: Eat\",\"scenario5: check messages on your phone\",\"scenario5: Walk a little bit slow since the meeting isn't for 15 minutes.\",\"scenario5: Notice my surroundings as I head to the meeting.\",\"scenario5: I could stop by the restroom.\",\"scenario5: copy some papers\",\"scenario5: Pray\",\"scenario5: Browse social media to pass time\",\"scenario5: I could listen to music. \",\"scenario5: Yell at other drivers\",\"scenario5: grab a small snack\",\"scenario5: Listen to a cd\",\"scenario5: Go over my notes\",\"scenario5: make sure shoes are tied\",\"scenario5: I could make sure I have all the research notes as I walk to the meeting\"],\"legendgroup\":\"\",\"marker\":{\"color\":\"#636efa\",\"opacity\":0.4,\"symbol\":\"circle\"},\"mode\":\"markers\",\"name\":\"\",\"orientation\":\"v\",\"showlegend\":false,\"x\":[-6.608014305138769,8.333986317015597,-6.608014305138767,8.333986317015594,0.7736870402632258,6.000128858607953,-8.71232457596355,4.4444571750796635,-9.858186721656777,-2.186497264536856,-7.0361676404372915,2.19568050858972,5.317218510267056,4.105664861414466,1.3458398231812645,4.448004065948339,4.757434473818568,3.133423288071518,-3.4991280862783647,-0.28197178630826525,4.047853605636044,-2.7845490866208378,0.7216764263611913,4.588967502612397,-10.049417342648852,-11.149980316224765,0.6962906063456478,11.27220172528982,-3.8879901769304883,-9.260472297380927,-1.7331011249334267,-1.1887015782220178,-7.748685024227204,-3.3314677226914937,11.27220172528982,-6.632935962782753,0.10613280886828622,-0.8252214425657994,2.795513762754828,4.359186682320199,-1.5697608070117346,-2.2414676526864037,-3.442860870651329,-0.6601309419438505,10.206841643926452,-5.301920862356027,4.0511545347117455,6.057720917047617,3.233714714899543],\"xaxis\":\"x\",\"y\":[-5.625986515075705,-12.127131884561418,-5.625986515075705,-12.12713188456141,0.7503019005105254,1.3159116847389607,7.940680760396098,4.8005855704561515,8.359226889070115,-2.4396377661462596,-4.233750406950107,-0.5696484414073656,1.2183398052300318,-0.9120284782273229,-0.9888646001956266,2.1180466824468174,-0.7271462204682214,-1.8542902998698063,2.775272780821954,1.3153232624166729,-4.106230056953307,1.0635729277321484,-1.9952416148087193,1.5676039236765529,1.4864465849978137,5.44720703711138,1.5186441995143485,14.26988354162835,-3.882715024978554,-0.5508819290572334,-2.94758375108231,-1.6674311656763892,1.8753343405485827,-3.4104200050810007,14.26988354162835,-1.434832954389976,0.5429989152436748,-1.1290399148602106,0.898983115343649,-4.772317250337132,-5.204695499372748,2.1266177059876465,7.3367505573635725,-6.960405088011948,8.685573340059204,6.009979046652677,-3.088372349656196,-7.891787498109028,-1.4196109986615992],\"yaxis\":\"y\",\"type\":\"scatter\"}],                        {\"template\":{\"data\":{\"histogram2dcontour\":[{\"type\":\"histogram2dcontour\",\"colorbar\":{\"outlinewidth\":0,\"ticks\":\"\"},\"colorscale\":[[0.0,\"#0d0887\"],[0.1111111111111111,\"#46039f\"],[0.2222222222222222,\"#7201a8\"],[0.3333333333333333,\"#9c179e\"],[0.4444444444444444,\"#bd3786\"],[0.5555555555555556,\"#d8576b\"],[0.6666666666666666,\"#ed7953\"],[0.7777777777777778,\"#fb9f3a\"],[0.8888888888888888,\"#fdca26\"],[1.0,\"#f0f921\"]]}],\"choropleth\":[{\"type\":\"choropleth\",\"colorbar\":{\"outlinewidth\":0,\"ticks\":\"\"}}],\"histogram2d\":[{\"type\":\"histogram2d\",\"colorbar\":{\"outlinewidth\":0,\"ticks\":\"\"},\"colorscale\":[[0.0,\"#0d0887\"],[0.1111111111111111,\"#46039f\"],[0.2222222222222222,\"#7201a8\"],[0.3333333333333333,\"#9c179e\"],[0.4444444444444444,\"#bd3786\"],[0.5555555555555556,\"#d8576b\"],[0.6666666666666666,\"#ed7953\"],[0.7777777777777778,\"#fb9f3a\"],[0.8888888888888888,\"#fdca26\"],[1.0,\"#f0f921\"]]}],\"heatmap\":[{\"type\":\"heatmap\",\"colorbar\":{\"outlinewidth\":0,\"ticks\":\"\"},\"colorscale\":[[0.0,\"#0d0887\"],[0.1111111111111111,\"#46039f\"],[0.2222222222222222,\"#7201a8\"],[0.3333333333333333,\"#9c179e\"],[0.4444444444444444,\"#bd3786\"],[0.5555555555555556,\"#d8576b\"],[0.6666666666666666,\"#ed7953\"],[0.7777777777777778,\"#fb9f3a\"],[0.8888888888888888,\"#fdca26\"],[1.0,\"#f0f921\"]]}],\"heatmapgl\":[{\"type\":\"heatmapgl\",\"colorbar\":{\"outlinewidth\":0,\"ticks\":\"\"},\"colorscale\":[[0.0,\"#0d0887\"],[0.1111111111111111,\"#46039f\"],[0.2222222222222222,\"#7201a8\"],[0.3333333333333333,\"#9c179e\"],[0.4444444444444444,\"#bd3786\"],[0.5555555555555556,\"#d8576b\"],[0.6666666666666666,\"#ed7953\"],[0.7777777777777778,\"#fb9f3a\"],[0.8888888888888888,\"#fdca26\"],[1.0,\"#f0f921\"]]}],\"contourcarpet\":[{\"type\":\"contourcarpet\",\"colorbar\":{\"outlinewidth\":0,\"ticks\":\"\"}}],\"contour\":[{\"type\":\"contour\",\"colorbar\":{\"outlinewidth\":0,\"ticks\":\"\"},\"colorscale\":[[0.0,\"#0d0887\"],[0.1111111111111111,\"#46039f\"],[0.2222222222222222,\"#7201a8\"],[0.3333333333333333,\"#9c179e\"],[0.4444444444444444,\"#bd3786\"],[0.5555555555555556,\"#d8576b\"],[0.6666666666666666,\"#ed7953\"],[0.7777777777777778,\"#fb9f3a\"],[0.8888888888888888,\"#fdca26\"],[1.0,\"#f0f921\"]]}],\"surface\":[{\"type\":\"surface\",\"colorbar\":{\"outlinewidth\":0,\"ticks\":\"\"},\"colorscale\":[[0.0,\"#0d0887\"],[0.1111111111111111,\"#46039f\"],[0.2222222222222222,\"#7201a8\"],[0.3333333333333333,\"#9c179e\"],[0.4444444444444444,\"#bd3786\"],[0.5555555555555556,\"#d8576b\"],[0.6666666666666666,\"#ed7953\"],[0.7777777777777778,\"#fb9f3a\"],[0.8888888888888888,\"#fdca26\"],[1.0,\"#f0f921\"]]}],\"mesh3d\":[{\"type\":\"mesh3d\",\"colorbar\":{\"outlinewidth\":0,\"ticks\":\"\"}}],\"scatter\":[{\"fillpattern\":{\"fillmode\":\"overlay\",\"size\":10,\"solidity\":0.2},\"type\":\"scatter\"}],\"parcoords\":[{\"type\":\"parcoords\",\"line\":{\"colorbar\":{\"outlinewidth\":0,\"ticks\":\"\"}}}],\"scatterpolargl\":[{\"type\":\"scatterpolargl\",\"marker\":{\"colorbar\":{\"outlinewidth\":0,\"ticks\":\"\"}}}],\"bar\":[{\"error_x\":{\"color\":\"#2a3f5f\"},\"error_y\":{\"color\":\"#2a3f5f\"},\"marker\":{\"line\":{\"color\":\"#E5ECF6\",\"width\":0.5},\"pattern\":{\"fillmode\":\"overlay\",\"size\":10,\"solidity\":0.2}},\"type\":\"bar\"}],\"scattergeo\":[{\"type\":\"scattergeo\",\"marker\":{\"colorbar\":{\"outlinewidth\":0,\"ticks\":\"\"}}}],\"scatterpolar\":[{\"type\":\"scatterpolar\",\"marker\":{\"colorbar\":{\"outlinewidth\":0,\"ticks\":\"\"}}}],\"histogram\":[{\"marker\":{\"pattern\":{\"fillmode\":\"overlay\",\"size\":10,\"solidity\":0.2}},\"type\":\"histogram\"}],\"scattergl\":[{\"type\":\"scattergl\",\"marker\":{\"colorbar\":{\"outlinewidth\":0,\"ticks\":\"\"}}}],\"scatter3d\":[{\"type\":\"scatter3d\",\"line\":{\"colorbar\":{\"outlinewidth\":0,\"ticks\":\"\"}},\"marker\":{\"colorbar\":{\"outlinewidth\":0,\"ticks\":\"\"}}}],\"scattermapbox\":[{\"type\":\"scattermapbox\",\"marker\":{\"colorbar\":{\"outlinewidth\":0,\"ticks\":\"\"}}}],\"scatterternary\":[{\"type\":\"scatterternary\",\"marker\":{\"colorbar\":{\"outlinewidth\":0,\"ticks\":\"\"}}}],\"scattercarpet\":[{\"type\":\"scattercarpet\",\"marker\":{\"colorbar\":{\"outlinewidth\":0,\"ticks\":\"\"}}}],\"carpet\":[{\"aaxis\":{\"endlinecolor\":\"#2a3f5f\",\"gridcolor\":\"white\",\"linecolor\":\"white\",\"minorgridcolor\":\"white\",\"startlinecolor\":\"#2a3f5f\"},\"baxis\":{\"endlinecolor\":\"#2a3f5f\",\"gridcolor\":\"white\",\"linecolor\":\"white\",\"minorgridcolor\":\"white\",\"startlinecolor\":\"#2a3f5f\"},\"type\":\"carpet\"}],\"table\":[{\"cells\":{\"fill\":{\"color\":\"#EBF0F8\"},\"line\":{\"color\":\"white\"}},\"header\":{\"fill\":{\"color\":\"#C8D4E3\"},\"line\":{\"color\":\"white\"}},\"type\":\"table\"}],\"barpolar\":[{\"marker\":{\"line\":{\"color\":\"#E5ECF6\",\"width\":0.5},\"pattern\":{\"fillmode\":\"overlay\",\"size\":10,\"solidity\":0.2}},\"type\":\"barpolar\"}],\"pie\":[{\"automargin\":true,\"type\":\"pie\"}]},\"layout\":{\"autotypenumbers\":\"strict\",\"colorway\":[\"#636efa\",\"#EF553B\",\"#00cc96\",\"#ab63fa\",\"#FFA15A\",\"#19d3f3\",\"#FF6692\",\"#B6E880\",\"#FF97FF\",\"#FECB52\"],\"font\":{\"color\":\"#2a3f5f\"},\"hovermode\":\"closest\",\"hoverlabel\":{\"align\":\"left\"},\"paper_bgcolor\":\"white\",\"plot_bgcolor\":\"#E5ECF6\",\"polar\":{\"bgcolor\":\"#E5ECF6\",\"angularaxis\":{\"gridcolor\":\"white\",\"linecolor\":\"white\",\"ticks\":\"\"},\"radialaxis\":{\"gridcolor\":\"white\",\"linecolor\":\"white\",\"ticks\":\"\"}},\"ternary\":{\"bgcolor\":\"#E5ECF6\",\"aaxis\":{\"gridcolor\":\"white\",\"linecolor\":\"white\",\"ticks\":\"\"},\"baxis\":{\"gridcolor\":\"white\",\"linecolor\":\"white\",\"ticks\":\"\"},\"caxis\":{\"gridcolor\":\"white\",\"linecolor\":\"white\",\"ticks\":\"\"}},\"coloraxis\":{\"colorbar\":{\"outlinewidth\":0,\"ticks\":\"\"}},\"colorscale\":{\"sequential\":[[0.0,\"#0d0887\"],[0.1111111111111111,\"#46039f\"],[0.2222222222222222,\"#7201a8\"],[0.3333333333333333,\"#9c179e\"],[0.4444444444444444,\"#bd3786\"],[0.5555555555555556,\"#d8576b\"],[0.6666666666666666,\"#ed7953\"],[0.7777777777777778,\"#fb9f3a\"],[0.8888888888888888,\"#fdca26\"],[1.0,\"#f0f921\"]],\"sequentialminus\":[[0.0,\"#0d0887\"],[0.1111111111111111,\"#46039f\"],[0.2222222222222222,\"#7201a8\"],[0.3333333333333333,\"#9c179e\"],[0.4444444444444444,\"#bd3786\"],[0.5555555555555556,\"#d8576b\"],[0.6666666666666666,\"#ed7953\"],[0.7777777777777778,\"#fb9f3a\"],[0.8888888888888888,\"#fdca26\"],[1.0,\"#f0f921\"]],\"diverging\":[[0,\"#8e0152\"],[0.1,\"#c51b7d\"],[0.2,\"#de77ae\"],[0.3,\"#f1b6da\"],[0.4,\"#fde0ef\"],[0.5,\"#f7f7f7\"],[0.6,\"#e6f5d0\"],[0.7,\"#b8e186\"],[0.8,\"#7fbc41\"],[0.9,\"#4d9221\"],[1,\"#276419\"]]},\"xaxis\":{\"gridcolor\":\"white\",\"linecolor\":\"white\",\"ticks\":\"\",\"title\":{\"standoff\":15},\"zerolinecolor\":\"white\",\"automargin\":true,\"zerolinewidth\":2},\"yaxis\":{\"gridcolor\":\"white\",\"linecolor\":\"white\",\"ticks\":\"\",\"title\":{\"standoff\":15},\"zerolinecolor\":\"white\",\"automargin\":true,\"zerolinewidth\":2},\"scene\":{\"xaxis\":{\"backgroundcolor\":\"#E5ECF6\",\"gridcolor\":\"white\",\"linecolor\":\"white\",\"showbackground\":true,\"ticks\":\"\",\"zerolinecolor\":\"white\",\"gridwidth\":2},\"yaxis\":{\"backgroundcolor\":\"#E5ECF6\",\"gridcolor\":\"white\",\"linecolor\":\"white\",\"showbackground\":true,\"ticks\":\"\",\"zerolinecolor\":\"white\",\"gridwidth\":2},\"zaxis\":{\"backgroundcolor\":\"#E5ECF6\",\"gridcolor\":\"white\",\"linecolor\":\"white\",\"showbackground\":true,\"ticks\":\"\",\"zerolinecolor\":\"white\",\"gridwidth\":2}},\"shapedefaults\":{\"line\":{\"color\":\"#2a3f5f\"}},\"annotationdefaults\":{\"arrowcolor\":\"#2a3f5f\",\"arrowhead\":0,\"arrowwidth\":1},\"geo\":{\"bgcolor\":\"white\",\"landcolor\":\"#E5ECF6\",\"subunitcolor\":\"white\",\"showland\":true,\"showlakes\":true,\"lakecolor\":\"white\"},\"title\":{\"x\":0.05},\"mapbox\":{\"style\":\"light\"}}},\"xaxis\":{\"anchor\":\"y\",\"domain\":[0.0,1.0],\"title\":{\"text\":\"pc1\"}},\"yaxis\":{\"anchor\":\"x\",\"domain\":[0.0,1.0],\"title\":{\"text\":\"pc2\"}},\"legend\":{\"tracegroupgap\":0},\"margin\":{\"t\":60}},                        {\"responsive\": true}                    ).then(function(){\n",
       "                            \n",
       "var gd = document.getElementById('1d978d9e-bc69-4add-b4ce-d6330a246a25');\n",
       "var x = new MutationObserver(function (mutations, observer) {{\n",
       "        var display = window.getComputedStyle(gd).display;\n",
       "        if (!display || display === 'none') {{\n",
       "            console.log([gd, 'removed!']);\n",
       "            Plotly.purge(gd);\n",
       "            observer.disconnect();\n",
       "        }}\n",
       "}});\n",
       "\n",
       "// Listen for the removal of the full notebook cells\n",
       "var notebookContainer = gd.closest('#notebook-container');\n",
       "if (notebookContainer) {{\n",
       "    x.observe(notebookContainer, {childList: true});\n",
       "}}\n",
       "\n",
       "// Listen for the clearing of the current output cell\n",
       "var outputEl = gd.closest('.output');\n",
       "if (outputEl) {{\n",
       "    x.observe(outputEl, {childList: true});\n",
       "}}\n",
       "\n",
       "                        })                };                });            </script>        </div>"
      ]
     },
     "metadata": {},
     "output_type": "display_data"
    },
    {
     "data": {
      "image/png": "[encoded data removed]",
      "text/plain": [
       "<Figure size 432x288 with 2 Axes>"
      ]
     },
     "metadata": {
      "needs_background": "light"
     },
     "output_type": "display_data"
    },
    {
     "data": {
      "image/png": "[encoded data removed]",
      "text/plain": [
       "<Figure size 432x288 with 2 Axes>"
      ]
     },
     "metadata": {
      "needs_background": "light"
     },
     "output_type": "display_data"
    }
   ],
   "source": [
    "#scatterplot\n",
    "principalComponents = pca.fit_transform(np.array(embed_6))\n",
    "embed_6 = pd.DataFrame(data = principalComponents, columns = ['pc1', 'pc2'])\n",
    "embed_6[\"responses\"] = embed_6_responses\n",
    "fig = px.scatter(embed_6, x=\"pc1\", y=\"pc2\", opacity=.4, hover_name=\"responses\")\n",
    "fig.show()\n",
    "\n",
    "#heatmap\n",
    "heatmap6, xedges, yedges = np.histogram2d(list(embed_6[\"pc1\"]), list(embed_6[\"pc2\"]), bins=bin_size)\n",
    "heatmap6 = gaussian_filter(heatmap6, sigma=1)\n",
    "extent = [xedges[0], xedges[-1], yedges[0], yedges[-1]]\n",
    "\n",
    "plt.clf()\n",
    "plt.title(\"Generation Density Heatmap\")\n",
    "plt.imshow(heatmap6.T, extent=extent, origin='lower')\n",
    "plt.colorbar()\n",
    "plt.show()\n",
    "\n",
    "# #heatmap with weights\n",
    "# heatmap, xedges, yedges = np.histogram2d(list(embed_6[\"pc1\"]), list(embed_6[\"pc2\"]), bins=bin_size, weights = embed_6_weights, density=False)\n",
    "# heatmap = gaussian_filter(heatmap, sigma=1)\n",
    "# extent = [xedges[0], xedges[-1], yedges[0], yedges[-1]]\n",
    "\n",
    "# plt.clf()\n",
    "# plt.imshow(heatmap.T, extent=extent, origin='lower')\n",
    "# plt.show()\n",
    "\n",
    "#median sentiment heatmap\n",
    "# Compute the median of the weights in each bin\n",
    "median, _, _, _ = binned_statistic_2d(list(embed_6[\"pc1\"]), list(embed_6[\"pc2\"]), embed_6_weights, statistic='median', bins=(bin_size, bin_size))\n",
    "#set all nans to 0\n",
    "for y in range(len(median)): \n",
    "    for x in range(len(median[y])):\n",
    "        if pd.isna(median[x][y]):\n",
    "            median[x][y]  = 0\n",
    "median = gaussian_filter(median, sigma=1)\n",
    "\n",
    "# plot the heatmap\n",
    "plt.clf()\n",
    "plt.title(\"Generation Median Sentiment Heatmap\")\n",
    "plt.imshow(median, origin='lower', extent=[xedges[0], xedges[-1], yedges[0], yedges[-1]], interpolation='nearest')\n",
    "plt.colorbar()\n",
    "plt.show()"
   ]
  },
  {
   "cell_type": "code",
   "execution_count": 134,
   "metadata": {},
   "outputs": [
    {
     "data": {
      "application/vnd.plotly.v1+json": {
       "config": {
        "plotlyServerURL": "https://plot.ly"
       },
       "data": [
        {
         "hovertemplate": "<b>%{hovertext}</b><br><br>pc1=%{x}<br>pc2=%{y}<extra></extra>",
         "hovertext": [
          "scenario5: listen to music",
          "scenario5: Run to my car to get something I forgot.",
          "scenario5: listen to music",
          "scenario5: Run to my car to get something I forgot.",
          "scenario5: I could stop to get gas on the way to the meeting. ",
          "scenario5: Call my mom",
          "scenario5: check the news",
          "scenario5: have a snack",
          "scenario5: park somewhere",
          "scenario5: check your watch to make sure you're on time",
          "scenario5: check email",
          "scenario5: get coworker opinion on your presentation",
          "scenario5: Listen to music",
          "scenario5: I could get a bottle of water.",
          "scenario5: plan what I wanted to do for dinner",
          "scenario5: prepare",
          "scenario5: Calm your thoughts.",
          "scenario5: take a cab",
          "scenario5: think about what I want for dinner",
          "scenario5: Make sure I have the right paperwork.  ",
          "scenario5: listen to the radio",
          "scenario5: Look over notes I've written, either with pencil and paper or on my phone, while walking to the meeting.",
          "scenario5: Make small talk with coworkers that I may encounter.",
          "scenario5: Make sure all my papers/materials are in order for the meeting.",
          "scenario5: think of last-minute tasks",
          "scenario5: listen to podcast",
          "scenario5: Get a drink",
          "scenario5: check my emails",
          "scenario5: Breath deeply and relax ",
          "scenario5: grab a quick snack",
          "scenario5: I could pick up snacks and coffee to offer members at the meeting.",
          "scenario5: Relax.",
          "scenario5: squeeze a stressball",
          "scenario5: Drink",
          "scenario5: whistle",
          "scenario5: Be thinking about how the meeting will go and what will be discussed.",
          "scenario5: Mentally prepare for the meeting.",
          "scenario5: I could eat a quick snack.",
          "scenario5: say hi to your boss",
          "scenario5: go over a checklist of items that need to be discussed at meeting",
          "scenario5: Text coworkers",
          "scenario5: I could talk to myself, to psyche myself up. ",
          "scenario5: give directions",
          "scenario5: grab some coffee",
          "scenario5: Check my hair",
          "scenario5: Call someone",
          "scenario5: make sure zipper is up",
          "scenario5: I could give myself a pep talk as I'm walking to the meeting"
         ],
         "legendgroup": "",
         "marker": {
          "color": "#636efa",
          "opacity": 0.4,
          "symbol": "circle"
         },
         "mode": "markers",
         "name": "",
         "orientation": "v",
         "showlegend": false,
         "type": "scatter",
         "x": [
          -13.171876028612111,
          5.769674890234504,
          -13.171876028612122,
          5.769674890234501,
          1.0969691213190462,
          -0.6060940503367432,
          -4.2537250165798985,
          12.84541009818739,
          -1.2247092774875963,
          -3.2556131576864167,
          -2.4242480617628552,
          -5.205597013494153,
          -13.171876028612122,
          7.839350947942083,
          8.199985414990522,
          0.7720605645641954,
          -2.7767489538491223,
          1.4599371278067956,
          7.6347081044196,
          -1.0262729389354324,
          -12.274534449947636,
          -0.47854238043019814,
          -1.1658837256902241,
          -1.5456046059895523,
          0.7250896585899467,
          -13.743346557194684,
          7.3971269303804235,
          -1.3422134506077497,
          -0.7901711901200065,
          14.124203895877395,
          4.749785938103222,
          -0.47528984046289935,
          6.452878481487066,
          8.378419005549643,
          -4.861223348312466,
          -2.9994703946770582,
          -2.6676361202272427,
          12.681706079209073,
          -2.5277625872912206,
          -1.3619548668518537,
          -6.531710217423714,
          -0.009464004094342162,
          -0.9064978959890231,
          9.839866783384862,
          0.23175815287649368,
          -1.6015269810184012,
          -0.4552378950717421,
          0.05810098221183857
         ],
         "xaxis": "x",
         "y": [
          -10.805035626032051,
          -0.32429128385245765,
          -10.805035626032051,
          -0.32429128385245765,
          1.3808264464636855,
          0.5566114388662794,
          2.074061332579798,
          -5.9378696159214845,
          -3.4185376092053628,
          0.7804712802722512,
          8.19103523851925,
          6.283706077919307,
          -10.805035626032046,
          -3.8067055977202164,
          1.3345695817754828,
          1.4724983861562622,
          -2.7242192724768253,
          -2.466099829714136,
          -1.1360140583377878,
          6.100199946300972,
          -8.02765182475215,
          6.342819315644115,
          7.493166487363815,
          7.48671373478068,
          5.4374847156919035,
          -7.099471187658738,
          -6.600774758432029,
          9.056593937312739,
          -6.773844144475451,
          -6.21719135306714,
          2.1338429983900284,
          -4.087638273464898,
          0.9517435518242515,
          -9.702313407924334,
          -1.955965690959063,
          4.994941546021437,
          3.96285289568513,
          -4.474985890951422,
          5.017586734172784,
          5.925686220380386,
          12.28465567489814,
          0.5623519635182127,
          2.829509161196839,
          -5.026652967943154,
          2.5502939528991475,
          2.3226862180194816,
          2.309734161934643,
          2.6829819302182516
         ],
         "yaxis": "y"
        }
       ],
       "layout": {
        "legend": {
         "tracegroupgap": 0
        },
        "margin": {
         "t": 60
        },
        "template": {
         "data": {
          "bar": [
           {
            "error_x": {
             "color": "#2a3f5f"
            },
            "error_y": {
             "color": "#2a3f5f"
            },
            "marker": {
             "line": {
              "color": "#E5ECF6",
              "width": 0.5
             },
             "pattern": {
              "fillmode": "overlay",
              "size": 10,
              "solidity": 0.2
             }
            },
            "type": "bar"
           }
          ],
          "barpolar": [
           {
            "marker": {
             "line": {
              "color": "#E5ECF6",
              "width": 0.5
             },
             "pattern": {
              "fillmode": "overlay",
              "size": 10,
              "solidity": 0.2
             }
            },
            "type": "barpolar"
           }
          ],
          "carpet": [
           {
            "aaxis": {
             "endlinecolor": "#2a3f5f",
             "gridcolor": "white",
             "linecolor": "white",
             "minorgridcolor": "white",
             "startlinecolor": "#2a3f5f"
            },
            "baxis": {
             "endlinecolor": "#2a3f5f",
             "gridcolor": "white",
             "linecolor": "white",
             "minorgridcolor": "white",
             "startlinecolor": "#2a3f5f"
            },
            "type": "carpet"
           }
          ],
          "choropleth": [
           {
            "colorbar": {
             "outlinewidth": 0,
             "ticks": ""
            },
            "type": "choropleth"
           }
          ],
          "contour": [
           {
            "colorbar": {
             "outlinewidth": 0,
             "ticks": ""
            },
            "colorscale": [
             [
              0,
              "#0d0887"
             ],
             [
              0.1111111111111111,
              "#46039f"
             ],
             [
              0.2222222222222222,
              "#7201a8"
             ],
             [
              0.3333333333333333,
              "#9c179e"
             ],
             [
              0.4444444444444444,
              "#bd3786"
             ],
             [
              0.5555555555555556,
              "#d8576b"
             ],
             [
              0.6666666666666666,
              "#ed7953"
             ],
             [
              0.7777777777777778,
              "#fb9f3a"
             ],
             [
              0.8888888888888888,
              "#fdca26"
             ],
             [
              1,
              "#f0f921"
             ]
            ],
            "type": "contour"
           }
          ],
          "contourcarpet": [
           {
            "colorbar": {
             "outlinewidth": 0,
             "ticks": ""
            },
            "type": "contourcarpet"
           }
          ],
          "heatmap": [
           {
            "colorbar": {
             "outlinewidth": 0,
             "ticks": ""
            },
            "colorscale": [
             [
              0,
              "#0d0887"
             ],
             [
              0.1111111111111111,
              "#46039f"
             ],
             [
              0.2222222222222222,
              "#7201a8"
             ],
             [
              0.3333333333333333,
              "#9c179e"
             ],
             [
              0.4444444444444444,
              "#bd3786"
             ],
             [
              0.5555555555555556,
              "#d8576b"
             ],
             [
              0.6666666666666666,
              "#ed7953"
             ],
             [
              0.7777777777777778,
              "#fb9f3a"
             ],
             [
              0.8888888888888888,
              "#fdca26"
             ],
             [
              1,
              "#f0f921"
             ]
            ],
            "type": "heatmap"
           }
          ],
          "heatmapgl": [
           {
            "colorbar": {
             "outlinewidth": 0,
             "ticks": ""
            },
            "colorscale": [
             [
              0,
              "#0d0887"
             ],
             [
              0.1111111111111111,
              "#46039f"
             ],
             [
              0.2222222222222222,
              "#7201a8"
             ],
             [
              0.3333333333333333,
              "#9c179e"
             ],
             [
              0.4444444444444444,
              "#bd3786"
             ],
             [
              0.5555555555555556,
              "#d8576b"
             ],
             [
              0.6666666666666666,
              "#ed7953"
             ],
             [
              0.7777777777777778,
              "#fb9f3a"
             ],
             [
              0.8888888888888888,
              "#fdca26"
             ],
             [
              1,
              "#f0f921"
             ]
            ],
            "type": "heatmapgl"
           }
          ],
          "histogram": [
           {
            "marker": {
             "pattern": {
              "fillmode": "overlay",
              "size": 10,
              "solidity": 0.2
             }
            },
            "type": "histogram"
           }
          ],
          "histogram2d": [
           {
            "colorbar": {
             "outlinewidth": 0,
             "ticks": ""
            },
            "colorscale": [
             [
              0,
              "#0d0887"
             ],
             [
              0.1111111111111111,
              "#46039f"
             ],
             [
              0.2222222222222222,
              "#7201a8"
             ],
             [
              0.3333333333333333,
              "#9c179e"
             ],
             [
              0.4444444444444444,
              "#bd3786"
             ],
             [
              0.5555555555555556,
              "#d8576b"
             ],
             [
              0.6666666666666666,
              "#ed7953"
             ],
             [
              0.7777777777777778,
              "#fb9f3a"
             ],
             [
              0.8888888888888888,
              "#fdca26"
             ],
             [
              1,
              "#f0f921"
             ]
            ],
            "type": "histogram2d"
           }
          ],
          "histogram2dcontour": [
           {
            "colorbar": {
             "outlinewidth": 0,
             "ticks": ""
            },
            "colorscale": [
             [
              0,
              "#0d0887"
             ],
             [
              0.1111111111111111,
              "#46039f"
             ],
             [
              0.2222222222222222,
              "#7201a8"
             ],
             [
              0.3333333333333333,
              "#9c179e"
             ],
             [
              0.4444444444444444,
              "#bd3786"
             ],
             [
              0.5555555555555556,
              "#d8576b"
             ],
             [
              0.6666666666666666,
              "#ed7953"
             ],
             [
              0.7777777777777778,
              "#fb9f3a"
             ],
             [
              0.8888888888888888,
              "#fdca26"
             ],
             [
              1,
              "#f0f921"
             ]
            ],
            "type": "histogram2dcontour"
           }
          ],
          "mesh3d": [
           {
            "colorbar": {
             "outlinewidth": 0,
             "ticks": ""
            },
            "type": "mesh3d"
           }
          ],
          "parcoords": [
           {
            "line": {
             "colorbar": {
              "outlinewidth": 0,
              "ticks": ""
             }
            },
            "type": "parcoords"
           }
          ],
          "pie": [
           {
            "automargin": true,
            "type": "pie"
           }
          ],
          "scatter": [
           {
            "fillpattern": {
             "fillmode": "overlay",
             "size": 10,
             "solidity": 0.2
            },
            "type": "scatter"
           }
          ],
          "scatter3d": [
           {
            "line": {
             "colorbar": {
              "outlinewidth": 0,
              "ticks": ""
             }
            },
            "marker": {
             "colorbar": {
              "outlinewidth": 0,
              "ticks": ""
             }
            },
            "type": "scatter3d"
           }
          ],
          "scattercarpet": [
           {
            "marker": {
             "colorbar": {
              "outlinewidth": 0,
              "ticks": ""
             }
            },
            "type": "scattercarpet"
           }
          ],
          "scattergeo": [
           {
            "marker": {
             "colorbar": {
              "outlinewidth": 0,
              "ticks": ""
             }
            },
            "type": "scattergeo"
           }
          ],
          "scattergl": [
           {
            "marker": {
             "colorbar": {
              "outlinewidth": 0,
              "ticks": ""
             }
            },
            "type": "scattergl"
           }
          ],
          "scattermapbox": [
           {
            "marker": {
             "colorbar": {
              "outlinewidth": 0,
              "ticks": ""
             }
            },
            "type": "scattermapbox"
           }
          ],
          "scatterpolar": [
           {
            "marker": {
             "colorbar": {
              "outlinewidth": 0,
              "ticks": ""
             }
            },
            "type": "scatterpolar"
           }
          ],
          "scatterpolargl": [
           {
            "marker": {
             "colorbar": {
              "outlinewidth": 0,
              "ticks": ""
             }
            },
            "type": "scatterpolargl"
           }
          ],
          "scatterternary": [
           {
            "marker": {
             "colorbar": {
              "outlinewidth": 0,
              "ticks": ""
             }
            },
            "type": "scatterternary"
           }
          ],
          "surface": [
           {
            "colorbar": {
             "outlinewidth": 0,
             "ticks": ""
            },
            "colorscale": [
             [
              0,
              "#0d0887"
             ],
             [
              0.1111111111111111,
              "#46039f"
             ],
             [
              0.2222222222222222,
              "#7201a8"
             ],
             [
              0.3333333333333333,
              "#9c179e"
             ],
             [
              0.4444444444444444,
              "#bd3786"
             ],
             [
              0.5555555555555556,
              "#d8576b"
             ],
             [
              0.6666666666666666,
              "#ed7953"
             ],
             [
              0.7777777777777778,
              "#fb9f3a"
             ],
             [
              0.8888888888888888,
              "#fdca26"
             ],
             [
              1,
              "#f0f921"
             ]
            ],
            "type": "surface"
           }
          ],
          "table": [
           {
            "cells": {
             "fill": {
              "color": "#EBF0F8"
             },
             "line": {
              "color": "white"
             }
            },
            "header": {
             "fill": {
              "color": "#C8D4E3"
             },
             "line": {
              "color": "white"
             }
            },
            "type": "table"
           }
          ]
         },
         "layout": {
          "annotationdefaults": {
           "arrowcolor": "#2a3f5f",
           "arrowhead": 0,
           "arrowwidth": 1
          },
          "autotypenumbers": "strict",
          "coloraxis": {
           "colorbar": {
            "outlinewidth": 0,
            "ticks": ""
           }
          },
          "colorscale": {
           "diverging": [
            [
             0,
             "#8e0152"
            ],
            [
             0.1,
             "#c51b7d"
            ],
            [
             0.2,
             "#de77ae"
            ],
            [
             0.3,
             "#f1b6da"
            ],
            [
             0.4,
             "#fde0ef"
            ],
            [
             0.5,
             "#f7f7f7"
            ],
            [
             0.6,
             "#e6f5d0"
            ],
            [
             0.7,
             "#b8e186"
            ],
            [
             0.8,
             "#7fbc41"
            ],
            [
             0.9,
             "#4d9221"
            ],
            [
             1,
             "#276419"
            ]
           ],
           "sequential": [
            [
             0,
             "#0d0887"
            ],
            [
             0.1111111111111111,
             "#46039f"
            ],
            [
             0.2222222222222222,
             "#7201a8"
            ],
            [
             0.3333333333333333,
             "#9c179e"
            ],
            [
             0.4444444444444444,
             "#bd3786"
            ],
            [
             0.5555555555555556,
             "#d8576b"
            ],
            [
             0.6666666666666666,
             "#ed7953"
            ],
            [
             0.7777777777777778,
             "#fb9f3a"
            ],
            [
             0.8888888888888888,
             "#fdca26"
            ],
            [
             1,
             "#f0f921"
            ]
           ],
           "sequentialminus": [
            [
             0,
             "#0d0887"
            ],
            [
             0.1111111111111111,
             "#46039f"
            ],
            [
             0.2222222222222222,
             "#7201a8"
            ],
            [
             0.3333333333333333,
             "#9c179e"
            ],
            [
             0.4444444444444444,
             "#bd3786"
            ],
            [
             0.5555555555555556,
             "#d8576b"
            ],
            [
             0.6666666666666666,
             "#ed7953"
            ],
            [
             0.7777777777777778,
             "#fb9f3a"
            ],
            [
             0.8888888888888888,
             "#fdca26"
            ],
            [
             1,
             "#f0f921"
            ]
           ]
          },
          "colorway": [
           "#636efa",
           "#EF553B",
           "#00cc96",
           "#ab63fa",
           "#FFA15A",
           "#19d3f3",
           "#FF6692",
           "#B6E880",
           "#FF97FF",
           "#FECB52"
          ],
          "font": {
           "color": "#2a3f5f"
          },
          "geo": {
           "bgcolor": "white",
           "lakecolor": "white",
           "landcolor": "#E5ECF6",
           "showlakes": true,
           "showland": true,
           "subunitcolor": "white"
          },
          "hoverlabel": {
           "align": "left"
          },
          "hovermode": "closest",
          "mapbox": {
           "style": "light"
          },
          "paper_bgcolor": "white",
          "plot_bgcolor": "#E5ECF6",
          "polar": {
           "angularaxis": {
            "gridcolor": "white",
            "linecolor": "white",
            "ticks": ""
           },
           "bgcolor": "#E5ECF6",
           "radialaxis": {
            "gridcolor": "white",
            "linecolor": "white",
            "ticks": ""
           }
          },
          "scene": {
           "xaxis": {
            "backgroundcolor": "#E5ECF6",
            "gridcolor": "white",
            "gridwidth": 2,
            "linecolor": "white",
            "showbackground": true,
            "ticks": "",
            "zerolinecolor": "white"
           },
           "yaxis": {
            "backgroundcolor": "#E5ECF6",
            "gridcolor": "white",
            "gridwidth": 2,
            "linecolor": "white",
            "showbackground": true,
            "ticks": "",
            "zerolinecolor": "white"
           },
           "zaxis": {
            "backgroundcolor": "#E5ECF6",
            "gridcolor": "white",
            "gridwidth": 2,
            "linecolor": "white",
            "showbackground": true,
            "ticks": "",
            "zerolinecolor": "white"
           }
          },
          "shapedefaults": {
           "line": {
            "color": "#2a3f5f"
           }
          },
          "ternary": {
           "aaxis": {
            "gridcolor": "white",
            "linecolor": "white",
            "ticks": ""
           },
           "baxis": {
            "gridcolor": "white",
            "linecolor": "white",
            "ticks": ""
           },
           "bgcolor": "#E5ECF6",
           "caxis": {
            "gridcolor": "white",
            "linecolor": "white",
            "ticks": ""
           }
          },
          "title": {
           "x": 0.05
          },
          "xaxis": {
           "automargin": true,
           "gridcolor": "white",
           "linecolor": "white",
           "ticks": "",
           "title": {
            "standoff": 15
           },
           "zerolinecolor": "white",
           "zerolinewidth": 2
          },
          "yaxis": {
           "automargin": true,
           "gridcolor": "white",
           "linecolor": "white",
           "ticks": "",
           "title": {
            "standoff": 15
           },
           "zerolinecolor": "white",
           "zerolinewidth": 2
          }
         }
        },
        "xaxis": {
         "anchor": "y",
         "domain": [
          0,
          1
         ],
         "title": {
          "text": "pc1"
         }
        },
        "yaxis": {
         "anchor": "x",
         "domain": [
          0,
          1
         ],
         "title": {
          "text": "pc2"
         }
        }
       }
      },
      "text/html": [
       "<div>                            <div id=\"84c75eb2-fae7-40fb-9ebe-41a037b6ff4d\" class=\"plotly-graph-div\" style=\"height:525px; width:100%;\"></div>            <script type=\"text/javascript\">                require([\"plotly\"], function(Plotly) {                    window.PLOTLYENV=window.PLOTLYENV || {};                                    if (document.getElementById(\"84c75eb2-fae7-40fb-9ebe-41a037b6ff4d\")) {                    Plotly.newPlot(                        \"84c75eb2-fae7-40fb-9ebe-41a037b6ff4d\",                        [{\"hovertemplate\":\"<b>%{hovertext}</b><br><br>pc1=%{x}<br>pc2=%{y}<extra></extra>\",\"hovertext\":[\"scenario5: listen to music\",\"scenario5: Run to my car to get something I forgot.\",\"scenario5: listen to music\",\"scenario5: Run to my car to get something I forgot.\",\"scenario5: I could stop to get gas on the way to the meeting. \",\"scenario5: Call my mom\",\"scenario5: check the news\",\"scenario5: have a snack\",\"scenario5: park somewhere\",\"scenario5: check your watch to make sure you're on time\",\"scenario5: check email\",\"scenario5: get coworker opinion on your presentation\",\"scenario5: Listen to music\",\"scenario5: I could get a bottle of water.\",\"scenario5: plan what I wanted to do for dinner\",\"scenario5: prepare\",\"scenario5: Calm your thoughts.\",\"scenario5: take a cab\",\"scenario5: think about what I want for dinner\",\"scenario5: Make sure I have the right paperwork.  \",\"scenario5: listen to the radio\",\"scenario5: Look over notes I've written, either with pencil and paper or on my phone, while walking to the meeting.\",\"scenario5: Make small talk with coworkers that I may encounter.\",\"scenario5: Make sure all my papers/materials are in order for the meeting.\",\"scenario5: think of last-minute tasks\",\"scenario5: listen to podcast\",\"scenario5: Get a drink\",\"scenario5: check my emails\",\"scenario5: Breath deeply and relax \",\"scenario5: grab a quick snack\",\"scenario5: I could pick up snacks and coffee to offer members at the meeting.\",\"scenario5: Relax.\",\"scenario5: squeeze a stressball\",\"scenario5: Drink\",\"scenario5: whistle\",\"scenario5: Be thinking about how the meeting will go and what will be discussed.\",\"scenario5: Mentally prepare for the meeting.\",\"scenario5: I could eat a quick snack.\",\"scenario5: say hi to your boss\",\"scenario5: go over a checklist of items that need to be discussed at meeting\",\"scenario5: Text coworkers\",\"scenario5: I could talk to myself, to psyche myself up. \",\"scenario5: give directions\",\"scenario5: grab some coffee\",\"scenario5: Check my hair\",\"scenario5: Call someone\",\"scenario5: make sure zipper is up\",\"scenario5: I could give myself a pep talk as I'm walking to the meeting\"],\"legendgroup\":\"\",\"marker\":{\"color\":\"#636efa\",\"opacity\":0.4,\"symbol\":\"circle\"},\"mode\":\"markers\",\"name\":\"\",\"orientation\":\"v\",\"showlegend\":false,\"x\":[-13.171876028612111,5.769674890234504,-13.171876028612122,5.769674890234501,1.0969691213190462,-0.6060940503367432,-4.2537250165798985,12.84541009818739,-1.2247092774875963,-3.2556131576864167,-2.4242480617628552,-5.205597013494153,-13.171876028612122,7.839350947942083,8.199985414990522,0.7720605645641954,-2.7767489538491223,1.4599371278067956,7.6347081044196,-1.0262729389354324,-12.274534449947636,-0.47854238043019814,-1.1658837256902241,-1.5456046059895523,0.7250896585899467,-13.743346557194684,7.3971269303804235,-1.3422134506077497,-0.7901711901200065,14.124203895877395,4.749785938103222,-0.47528984046289935,6.452878481487066,8.378419005549643,-4.861223348312466,-2.9994703946770582,-2.6676361202272427,12.681706079209073,-2.5277625872912206,-1.3619548668518537,-6.531710217423714,-0.009464004094342162,-0.9064978959890231,9.839866783384862,0.23175815287649368,-1.6015269810184012,-0.4552378950717421,0.05810098221183857],\"xaxis\":\"x\",\"y\":[-10.805035626032051,-0.32429128385245765,-10.805035626032051,-0.32429128385245765,1.3808264464636855,0.5566114388662794,2.074061332579798,-5.9378696159214845,-3.4185376092053628,0.7804712802722512,8.19103523851925,6.283706077919307,-10.805035626032046,-3.8067055977202164,1.3345695817754828,1.4724983861562622,-2.7242192724768253,-2.466099829714136,-1.1360140583377878,6.100199946300972,-8.02765182475215,6.342819315644115,7.493166487363815,7.48671373478068,5.4374847156919035,-7.099471187658738,-6.600774758432029,9.056593937312739,-6.773844144475451,-6.21719135306714,2.1338429983900284,-4.087638273464898,0.9517435518242515,-9.702313407924334,-1.955965690959063,4.994941546021437,3.96285289568513,-4.474985890951422,5.017586734172784,5.925686220380386,12.28465567489814,0.5623519635182127,2.829509161196839,-5.026652967943154,2.5502939528991475,2.3226862180194816,2.309734161934643,2.6829819302182516],\"yaxis\":\"y\",\"type\":\"scatter\"}],                        {\"template\":{\"data\":{\"histogram2dcontour\":[{\"type\":\"histogram2dcontour\",\"colorbar\":{\"outlinewidth\":0,\"ticks\":\"\"},\"colorscale\":[[0.0,\"#0d0887\"],[0.1111111111111111,\"#46039f\"],[0.2222222222222222,\"#7201a8\"],[0.3333333333333333,\"#9c179e\"],[0.4444444444444444,\"#bd3786\"],[0.5555555555555556,\"#d8576b\"],[0.6666666666666666,\"#ed7953\"],[0.7777777777777778,\"#fb9f3a\"],[0.8888888888888888,\"#fdca26\"],[1.0,\"#f0f921\"]]}],\"choropleth\":[{\"type\":\"choropleth\",\"colorbar\":{\"outlinewidth\":0,\"ticks\":\"\"}}],\"histogram2d\":[{\"type\":\"histogram2d\",\"colorbar\":{\"outlinewidth\":0,\"ticks\":\"\"},\"colorscale\":[[0.0,\"#0d0887\"],[0.1111111111111111,\"#46039f\"],[0.2222222222222222,\"#7201a8\"],[0.3333333333333333,\"#9c179e\"],[0.4444444444444444,\"#bd3786\"],[0.5555555555555556,\"#d8576b\"],[0.6666666666666666,\"#ed7953\"],[0.7777777777777778,\"#fb9f3a\"],[0.8888888888888888,\"#fdca26\"],[1.0,\"#f0f921\"]]}],\"heatmap\":[{\"type\":\"heatmap\",\"colorbar\":{\"outlinewidth\":0,\"ticks\":\"\"},\"colorscale\":[[0.0,\"#0d0887\"],[0.1111111111111111,\"#46039f\"],[0.2222222222222222,\"#7201a8\"],[0.3333333333333333,\"#9c179e\"],[0.4444444444444444,\"#bd3786\"],[0.5555555555555556,\"#d8576b\"],[0.6666666666666666,\"#ed7953\"],[0.7777777777777778,\"#fb9f3a\"],[0.8888888888888888,\"#fdca26\"],[1.0,\"#f0f921\"]]}],\"heatmapgl\":[{\"type\":\"heatmapgl\",\"colorbar\":{\"outlinewidth\":0,\"ticks\":\"\"},\"colorscale\":[[0.0,\"#0d0887\"],[0.1111111111111111,\"#46039f\"],[0.2222222222222222,\"#7201a8\"],[0.3333333333333333,\"#9c179e\"],[0.4444444444444444,\"#bd3786\"],[0.5555555555555556,\"#d8576b\"],[0.6666666666666666,\"#ed7953\"],[0.7777777777777778,\"#fb9f3a\"],[0.8888888888888888,\"#fdca26\"],[1.0,\"#f0f921\"]]}],\"contourcarpet\":[{\"type\":\"contourcarpet\",\"colorbar\":{\"outlinewidth\":0,\"ticks\":\"\"}}],\"contour\":[{\"type\":\"contour\",\"colorbar\":{\"outlinewidth\":0,\"ticks\":\"\"},\"colorscale\":[[0.0,\"#0d0887\"],[0.1111111111111111,\"#46039f\"],[0.2222222222222222,\"#7201a8\"],[0.3333333333333333,\"#9c179e\"],[0.4444444444444444,\"#bd3786\"],[0.5555555555555556,\"#d8576b\"],[0.6666666666666666,\"#ed7953\"],[0.7777777777777778,\"#fb9f3a\"],[0.8888888888888888,\"#fdca26\"],[1.0,\"#f0f921\"]]}],\"surface\":[{\"type\":\"surface\",\"colorbar\":{\"outlinewidth\":0,\"ticks\":\"\"},\"colorscale\":[[0.0,\"#0d0887\"],[0.1111111111111111,\"#46039f\"],[0.2222222222222222,\"#7201a8\"],[0.3333333333333333,\"#9c179e\"],[0.4444444444444444,\"#bd3786\"],[0.5555555555555556,\"#d8576b\"],[0.6666666666666666,\"#ed7953\"],[0.7777777777777778,\"#fb9f3a\"],[0.8888888888888888,\"#fdca26\"],[1.0,\"#f0f921\"]]}],\"mesh3d\":[{\"type\":\"mesh3d\",\"colorbar\":{\"outlinewidth\":0,\"ticks\":\"\"}}],\"scatter\":[{\"fillpattern\":{\"fillmode\":\"overlay\",\"size\":10,\"solidity\":0.2},\"type\":\"scatter\"}],\"parcoords\":[{\"type\":\"parcoords\",\"line\":{\"colorbar\":{\"outlinewidth\":0,\"ticks\":\"\"}}}],\"scatterpolargl\":[{\"type\":\"scatterpolargl\",\"marker\":{\"colorbar\":{\"outlinewidth\":0,\"ticks\":\"\"}}}],\"bar\":[{\"error_x\":{\"color\":\"#2a3f5f\"},\"error_y\":{\"color\":\"#2a3f5f\"},\"marker\":{\"line\":{\"color\":\"#E5ECF6\",\"width\":0.5},\"pattern\":{\"fillmode\":\"overlay\",\"size\":10,\"solidity\":0.2}},\"type\":\"bar\"}],\"scattergeo\":[{\"type\":\"scattergeo\",\"marker\":{\"colorbar\":{\"outlinewidth\":0,\"ticks\":\"\"}}}],\"scatterpolar\":[{\"type\":\"scatterpolar\",\"marker\":{\"colorbar\":{\"outlinewidth\":0,\"ticks\":\"\"}}}],\"histogram\":[{\"marker\":{\"pattern\":{\"fillmode\":\"overlay\",\"size\":10,\"solidity\":0.2}},\"type\":\"histogram\"}],\"scattergl\":[{\"type\":\"scattergl\",\"marker\":{\"colorbar\":{\"outlinewidth\":0,\"ticks\":\"\"}}}],\"scatter3d\":[{\"type\":\"scatter3d\",\"line\":{\"colorbar\":{\"outlinewidth\":0,\"ticks\":\"\"}},\"marker\":{\"colorbar\":{\"outlinewidth\":0,\"ticks\":\"\"}}}],\"scattermapbox\":[{\"type\":\"scattermapbox\",\"marker\":{\"colorbar\":{\"outlinewidth\":0,\"ticks\":\"\"}}}],\"scatterternary\":[{\"type\":\"scatterternary\",\"marker\":{\"colorbar\":{\"outlinewidth\":0,\"ticks\":\"\"}}}],\"scattercarpet\":[{\"type\":\"scattercarpet\",\"marker\":{\"colorbar\":{\"outlinewidth\":0,\"ticks\":\"\"}}}],\"carpet\":[{\"aaxis\":{\"endlinecolor\":\"#2a3f5f\",\"gridcolor\":\"white\",\"linecolor\":\"white\",\"minorgridcolor\":\"white\",\"startlinecolor\":\"#2a3f5f\"},\"baxis\":{\"endlinecolor\":\"#2a3f5f\",\"gridcolor\":\"white\",\"linecolor\":\"white\",\"minorgridcolor\":\"white\",\"startlinecolor\":\"#2a3f5f\"},\"type\":\"carpet\"}],\"table\":[{\"cells\":{\"fill\":{\"color\":\"#EBF0F8\"},\"line\":{\"color\":\"white\"}},\"header\":{\"fill\":{\"color\":\"#C8D4E3\"},\"line\":{\"color\":\"white\"}},\"type\":\"table\"}],\"barpolar\":[{\"marker\":{\"line\":{\"color\":\"#E5ECF6\",\"width\":0.5},\"pattern\":{\"fillmode\":\"overlay\",\"size\":10,\"solidity\":0.2}},\"type\":\"barpolar\"}],\"pie\":[{\"automargin\":true,\"type\":\"pie\"}]},\"layout\":{\"autotypenumbers\":\"strict\",\"colorway\":[\"#636efa\",\"#EF553B\",\"#00cc96\",\"#ab63fa\",\"#FFA15A\",\"#19d3f3\",\"#FF6692\",\"#B6E880\",\"#FF97FF\",\"#FECB52\"],\"font\":{\"color\":\"#2a3f5f\"},\"hovermode\":\"closest\",\"hoverlabel\":{\"align\":\"left\"},\"paper_bgcolor\":\"white\",\"plot_bgcolor\":\"#E5ECF6\",\"polar\":{\"bgcolor\":\"#E5ECF6\",\"angularaxis\":{\"gridcolor\":\"white\",\"linecolor\":\"white\",\"ticks\":\"\"},\"radialaxis\":{\"gridcolor\":\"white\",\"linecolor\":\"white\",\"ticks\":\"\"}},\"ternary\":{\"bgcolor\":\"#E5ECF6\",\"aaxis\":{\"gridcolor\":\"white\",\"linecolor\":\"white\",\"ticks\":\"\"},\"baxis\":{\"gridcolor\":\"white\",\"linecolor\":\"white\",\"ticks\":\"\"},\"caxis\":{\"gridcolor\":\"white\",\"linecolor\":\"white\",\"ticks\":\"\"}},\"coloraxis\":{\"colorbar\":{\"outlinewidth\":0,\"ticks\":\"\"}},\"colorscale\":{\"sequential\":[[0.0,\"#0d0887\"],[0.1111111111111111,\"#46039f\"],[0.2222222222222222,\"#7201a8\"],[0.3333333333333333,\"#9c179e\"],[0.4444444444444444,\"#bd3786\"],[0.5555555555555556,\"#d8576b\"],[0.6666666666666666,\"#ed7953\"],[0.7777777777777778,\"#fb9f3a\"],[0.8888888888888888,\"#fdca26\"],[1.0,\"#f0f921\"]],\"sequentialminus\":[[0.0,\"#0d0887\"],[0.1111111111111111,\"#46039f\"],[0.2222222222222222,\"#7201a8\"],[0.3333333333333333,\"#9c179e\"],[0.4444444444444444,\"#bd3786\"],[0.5555555555555556,\"#d8576b\"],[0.6666666666666666,\"#ed7953\"],[0.7777777777777778,\"#fb9f3a\"],[0.8888888888888888,\"#fdca26\"],[1.0,\"#f0f921\"]],\"diverging\":[[0,\"#8e0152\"],[0.1,\"#c51b7d\"],[0.2,\"#de77ae\"],[0.3,\"#f1b6da\"],[0.4,\"#fde0ef\"],[0.5,\"#f7f7f7\"],[0.6,\"#e6f5d0\"],[0.7,\"#b8e186\"],[0.8,\"#7fbc41\"],[0.9,\"#4d9221\"],[1,\"#276419\"]]},\"xaxis\":{\"gridcolor\":\"white\",\"linecolor\":\"white\",\"ticks\":\"\",\"title\":{\"standoff\":15},\"zerolinecolor\":\"white\",\"automargin\":true,\"zerolinewidth\":2},\"yaxis\":{\"gridcolor\":\"white\",\"linecolor\":\"white\",\"ticks\":\"\",\"title\":{\"standoff\":15},\"zerolinecolor\":\"white\",\"automargin\":true,\"zerolinewidth\":2},\"scene\":{\"xaxis\":{\"backgroundcolor\":\"#E5ECF6\",\"gridcolor\":\"white\",\"linecolor\":\"white\",\"showbackground\":true,\"ticks\":\"\",\"zerolinecolor\":\"white\",\"gridwidth\":2},\"yaxis\":{\"backgroundcolor\":\"#E5ECF6\",\"gridcolor\":\"white\",\"linecolor\":\"white\",\"showbackground\":true,\"ticks\":\"\",\"zerolinecolor\":\"white\",\"gridwidth\":2},\"zaxis\":{\"backgroundcolor\":\"#E5ECF6\",\"gridcolor\":\"white\",\"linecolor\":\"white\",\"showbackground\":true,\"ticks\":\"\",\"zerolinecolor\":\"white\",\"gridwidth\":2}},\"shapedefaults\":{\"line\":{\"color\":\"#2a3f5f\"}},\"annotationdefaults\":{\"arrowcolor\":\"#2a3f5f\",\"arrowhead\":0,\"arrowwidth\":1},\"geo\":{\"bgcolor\":\"white\",\"landcolor\":\"#E5ECF6\",\"subunitcolor\":\"white\",\"showland\":true,\"showlakes\":true,\"lakecolor\":\"white\"},\"title\":{\"x\":0.05},\"mapbox\":{\"style\":\"light\"}}},\"xaxis\":{\"anchor\":\"y\",\"domain\":[0.0,1.0],\"title\":{\"text\":\"pc1\"}},\"yaxis\":{\"anchor\":\"x\",\"domain\":[0.0,1.0],\"title\":{\"text\":\"pc2\"}},\"legend\":{\"tracegroupgap\":0},\"margin\":{\"t\":60}},                        {\"responsive\": true}                    ).then(function(){\n",
       "                            \n",
       "var gd = document.getElementById('84c75eb2-fae7-40fb-9ebe-41a037b6ff4d');\n",
       "var x = new MutationObserver(function (mutations, observer) {{\n",
       "        var display = window.getComputedStyle(gd).display;\n",
       "        if (!display || display === 'none') {{\n",
       "            console.log([gd, 'removed!']);\n",
       "            Plotly.purge(gd);\n",
       "            observer.disconnect();\n",
       "        }}\n",
       "}});\n",
       "\n",
       "// Listen for the removal of the full notebook cells\n",
       "var notebookContainer = gd.closest('#notebook-container');\n",
       "if (notebookContainer) {{\n",
       "    x.observe(notebookContainer, {childList: true});\n",
       "}}\n",
       "\n",
       "// Listen for the clearing of the current output cell\n",
       "var outputEl = gd.closest('.output');\n",
       "if (outputEl) {{\n",
       "    x.observe(outputEl, {childList: true});\n",
       "}}\n",
       "\n",
       "                        })                };                });            </script>        </div>"
      ]
     },
     "metadata": {},
     "output_type": "display_data"
    },
    {
     "data": {
      "image/png": "[encoded data removed]",
      "text/plain": [
       "<Figure size 432x288 with 2 Axes>"
      ]
     },
     "metadata": {
      "needs_background": "light"
     },
     "output_type": "display_data"
    },
    {
     "data": {
      "image/png": "[encoded data removed]",
      "text/plain": [
       "<Figure size 432x288 with 2 Axes>"
      ]
     },
     "metadata": {
      "needs_background": "light"
     },
     "output_type": "display_data"
    }
   ],
   "source": [
    "#scatterplot\n",
    "principalComponents = pca.fit_transform(np.array(embed_7))\n",
    "embed_7 = pd.DataFrame(data = principalComponents, columns = ['pc1', 'pc2'])\n",
    "embed_7[\"responses\"] = embed_7_responses\n",
    "fig = px.scatter(embed_7, x=\"pc1\", y=\"pc2\", opacity=.4, hover_name=\"responses\")\n",
    "fig.show()\n",
    "\n",
    "#heatmap\n",
    "heatmap7, xedges, yedges = np.histogram2d(list(embed_7[\"pc1\"]), list(embed_7[\"pc2\"]), bins=bin_size)\n",
    "heatmap7 = gaussian_filter(heatmap7, sigma=1)\n",
    "extent = [xedges[0], xedges[-1], yedges[0], yedges[-1]]\n",
    "\n",
    "plt.clf()\n",
    "plt.title(\"Generation Density Heatmap\")\n",
    "plt.imshow(heatmap7.T, extent=extent, origin='lower')\n",
    "plt.colorbar()\n",
    "plt.show()\n",
    "\n",
    "# #heatmap with weights\n",
    "# heatmap, xedges, yedges = np.histogram2d(list(embed_6[\"pc1\"]), list(embed_6[\"pc2\"]), bins=bin_size, weights = embed_6_weights, density=False)\n",
    "# heatmap = gaussian_filter(heatmap, sigma=1)\n",
    "# extent = [xedges[0], xedges[-1], yedges[0], yedges[-1]]\n",
    "\n",
    "# plt.clf()\n",
    "# plt.imshow(heatmap.T, extent=extent, origin='lower')\n",
    "# plt.show()\n",
    "\n",
    "#median sentiment heatmap\n",
    "# Compute the median of the weights in each bin\n",
    "median, _, _, _ = binned_statistic_2d(list(embed_7[\"pc1\"]), list(embed_7[\"pc2\"]), embed_7_weights, statistic='median', bins=(bin_size, bin_size))\n",
    "#set all nans to 0\n",
    "for y in range(len(median)): \n",
    "    for x in range(len(median[y])):\n",
    "        if pd.isna(median[x][y]):\n",
    "            median[x][y]  = 0\n",
    "median = gaussian_filter(median, sigma=1)\n",
    "\n",
    "# plot the heatmap\n",
    "plt.clf()\n",
    "plt.title(\"Generation Median Sentiment Heatmap\")\n",
    "plt.imshow(median, origin='lower', extent=[xedges[0], xedges[-1], yedges[0], yedges[-1]], interpolation='nearest')\n",
    "plt.colorbar()\n",
    "plt.show()"
   ]
  },
  {
   "cell_type": "code",
   "execution_count": 135,
   "metadata": {},
   "outputs": [
    {
     "data": {
      "application/vnd.plotly.v1+json": {
       "config": {
        "plotlyServerURL": "https://plot.ly"
       },
       "data": [
        {
         "hovertemplate": "<b>%{hovertext}</b><br><br>pc1=%{x}<br>pc2=%{y}<extra></extra>",
         "hovertext": [
          "scenario5: watch a video",
          "scenario5: Charge my phone.",
          "scenario5: watch a video",
          "scenario5: Charge my phone.",
          "scenario5: I could call a friend and talk to them over the phone on the way to the meeting. ",
          "scenario5: Smoke ",
          "scenario5: pick up a coffee",
          "scenario5: call my husband",
          "scenario5: talk a walk",
          "scenario5: greet other meeting atttendees",
          "scenario5: check calendars. ",
          "scenario5: do absolutely nothing for a few minutes to relax",
          "scenario5: Change clothes",
          "scenario5: I could turn my phone on silent.",
          "scenario5: go over my schedule for the rest of the day",
          "scenario5: play a game",
          "scenario5: Check in with your office.",
          "scenario5: pay bills",
          "scenario5: listen to book on cd",
          "scenario5: Check with other employees on details they want to discuss.",
          "scenario5: check social media",
          "scenario5: Make coffee for the group, so it will be ready by the beginning of the meeting.",
          "scenario5: Check the clock to be certain I am on time.",
          "scenario5: Eat a mint.",
          "scenario5: clear my mind",
          "scenario5: waste time",
          "scenario5: Call home",
          "scenario5: play some candy crush video games",
          "scenario5: Focus on my main strengths ",
          "scenario5: enjoy some alone time",
          "scenario5: I could try to relax by doing something not related to the meeting, like playing games on my phone.",
          "scenario5: Think about the meeting.",
          "scenario5: take the stars for exercise",
          "scenario5: Bathroom",
          "scenario5: call a friend",
          "scenario5: Take a moment to collect myself before entering the room.",
          "scenario5: Go over my notes for the meeting.",
          "scenario5: I could talk with a co-worker. ",
          "scenario5: Fix your hair",
          "scenario5: listen to music",
          "scenario5: Write more notes",
          "scenario5: I could clear my mind to calm my nerves. ",
          "scenario5: crash your car",
          "scenario5: make a phone call",
          "scenario5: Brush my hair",
          "scenario5: jog",
          "scenario5: Hum to myself",
          "scenario5: comb my hair with my hands",
          "scenario5: I could check to see who's coming to the meeting on the way"
         ],
         "legendgroup": "",
         "marker": {
          "color": "#636efa",
          "opacity": 0.4,
          "symbol": "circle"
         },
         "mode": "markers",
         "name": "",
         "orientation": "v",
         "showlegend": false,
         "type": "scatter",
         "x": [
          -7.518335223714413,
          -1.8152768522856022,
          -7.518335223714402,
          -1.8152768522855975,
          -2.3878186599070257,
          7.151272809955862,
          1.1743479404456878,
          2.1008301941604244,
          2.301965718425721,
          -4.75408662550723,
          -7.920936578877523,
          0.00432760940143752,
          9.748060752894594,
          2.262492248043195,
          -0.9137095031513539,
          -4.4040222119680426,
          -2.8181521305007813,
          -8.835972411900435,
          -4.384757649665451,
          -3.998212417049139,
          -7.304453414725644,
          -2.6939733355887605,
          -4.675154791252541,
          3.0261347826078397,
          3.8364083334125416,
          -1.2625361935982795,
          -0.3266819802613459,
          -4.979302064897982,
          5.378319274360222,
          -0.9317696503388591,
          -3.312556186390548,
          -6.145096486134232,
          -1.058045829522939,
          5.927768710595121,
          -2.0532718941955928,
          2.0134135333072103,
          -3.8854632304742163,
          -0.9402536691487852,
          16.7290844195229,
          -3.930345879266192,
          -2.4695879826023655,
          4.1851769119318405,
          3.631947332648064,
          -0.06460559833998318,
          19.453490757562815,
          4.545374267183219,
          2.395330350802368,
          16.516070873067495,
          -7.263826293063291
         ],
         "xaxis": "x",
         "y": [
          -2.3438213177971594,
          18.715672619781262,
          -2.3438213177971594,
          18.715672619781262,
          0.20978044306779578,
          -8.280881561055443,
          -2.6085723449471447,
          4.77322165433285,
          1.1010150098655314,
          -7.179826161347843,
          3.0937289178203407,
          -3.3102216456087783,
          1.8263479178389,
          6.634055617786495,
          0.7637502169450404,
          -0.973706545893351,
          0.8374670485831036,
          6.510928117620919,
          -4.271246619628723,
          -3.182114048253075,
          0.9082424114574188,
          -6.825496480828071,
          4.194205715089098,
          -3.096832379966633,
          -4.369297739734649,
          -1.813738324191463,
          5.3051266110051625,
          0.9191172213735378,
          -4.273574745847369,
          -2.616988964656164,
          -1.542747268207765,
          -7.623781794028399,
          -3.9973167265593306,
          -1.0862986373898174,
          2.7542581628812375,
          -2.1624518368176804,
          -3.3817701038244676,
          -2.478703341408259,
          0.607266623876839,
          -1.242552530805038,
          -3.6607807800912098,
          -2.591992271364069,
          0.27610363429680645,
          10.215381068405293,
          -0.4229269052950926,
          3.7864254561646478,
          -1.0773125108815018,
          1.0132240648661341,
          -4.402216248614018
         ],
         "yaxis": "y"
        }
       ],
       "layout": {
        "legend": {
         "tracegroupgap": 0
        },
        "margin": {
         "t": 60
        },
        "template": {
         "data": {
          "bar": [
           {
            "error_x": {
             "color": "#2a3f5f"
            },
            "error_y": {
             "color": "#2a3f5f"
            },
            "marker": {
             "line": {
              "color": "#E5ECF6",
              "width": 0.5
             },
             "pattern": {
              "fillmode": "overlay",
              "size": 10,
              "solidity": 0.2
             }
            },
            "type": "bar"
           }
          ],
          "barpolar": [
           {
            "marker": {
             "line": {
              "color": "#E5ECF6",
              "width": 0.5
             },
             "pattern": {
              "fillmode": "overlay",
              "size": 10,
              "solidity": 0.2
             }
            },
            "type": "barpolar"
           }
          ],
          "carpet": [
           {
            "aaxis": {
             "endlinecolor": "#2a3f5f",
             "gridcolor": "white",
             "linecolor": "white",
             "minorgridcolor": "white",
             "startlinecolor": "#2a3f5f"
            },
            "baxis": {
             "endlinecolor": "#2a3f5f",
             "gridcolor": "white",
             "linecolor": "white",
             "minorgridcolor": "white",
             "startlinecolor": "#2a3f5f"
            },
            "type": "carpet"
           }
          ],
          "choropleth": [
           {
            "colorbar": {
             "outlinewidth": 0,
             "ticks": ""
            },
            "type": "choropleth"
           }
          ],
          "contour": [
           {
            "colorbar": {
             "outlinewidth": 0,
             "ticks": ""
            },
            "colorscale": [
             [
              0,
              "#0d0887"
             ],
             [
              0.1111111111111111,
              "#46039f"
             ],
             [
              0.2222222222222222,
              "#7201a8"
             ],
             [
              0.3333333333333333,
              "#9c179e"
             ],
             [
              0.4444444444444444,
              "#bd3786"
             ],
             [
              0.5555555555555556,
              "#d8576b"
             ],
             [
              0.6666666666666666,
              "#ed7953"
             ],
             [
              0.7777777777777778,
              "#fb9f3a"
             ],
             [
              0.8888888888888888,
              "#fdca26"
             ],
             [
              1,
              "#f0f921"
             ]
            ],
            "type": "contour"
           }
          ],
          "contourcarpet": [
           {
            "colorbar": {
             "outlinewidth": 0,
             "ticks": ""
            },
            "type": "contourcarpet"
           }
          ],
          "heatmap": [
           {
            "colorbar": {
             "outlinewidth": 0,
             "ticks": ""
            },
            "colorscale": [
             [
              0,
              "#0d0887"
             ],
             [
              0.1111111111111111,
              "#46039f"
             ],
             [
              0.2222222222222222,
              "#7201a8"
             ],
             [
              0.3333333333333333,
              "#9c179e"
             ],
             [
              0.4444444444444444,
              "#bd3786"
             ],
             [
              0.5555555555555556,
              "#d8576b"
             ],
             [
              0.6666666666666666,
              "#ed7953"
             ],
             [
              0.7777777777777778,
              "#fb9f3a"
             ],
             [
              0.8888888888888888,
              "#fdca26"
             ],
             [
              1,
              "#f0f921"
             ]
            ],
            "type": "heatmap"
           }
          ],
          "heatmapgl": [
           {
            "colorbar": {
             "outlinewidth": 0,
             "ticks": ""
            },
            "colorscale": [
             [
              0,
              "#0d0887"
             ],
             [
              0.1111111111111111,
              "#46039f"
             ],
             [
              0.2222222222222222,
              "#7201a8"
             ],
             [
              0.3333333333333333,
              "#9c179e"
             ],
             [
              0.4444444444444444,
              "#bd3786"
             ],
             [
              0.5555555555555556,
              "#d8576b"
             ],
             [
              0.6666666666666666,
              "#ed7953"
             ],
             [
              0.7777777777777778,
              "#fb9f3a"
             ],
             [
              0.8888888888888888,
              "#fdca26"
             ],
             [
              1,
              "#f0f921"
             ]
            ],
            "type": "heatmapgl"
           }
          ],
          "histogram": [
           {
            "marker": {
             "pattern": {
              "fillmode": "overlay",
              "size": 10,
              "solidity": 0.2
             }
            },
            "type": "histogram"
           }
          ],
          "histogram2d": [
           {
            "colorbar": {
             "outlinewidth": 0,
             "ticks": ""
            },
            "colorscale": [
             [
              0,
              "#0d0887"
             ],
             [
              0.1111111111111111,
              "#46039f"
             ],
             [
              0.2222222222222222,
              "#7201a8"
             ],
             [
              0.3333333333333333,
              "#9c179e"
             ],
             [
              0.4444444444444444,
              "#bd3786"
             ],
             [
              0.5555555555555556,
              "#d8576b"
             ],
             [
              0.6666666666666666,
              "#ed7953"
             ],
             [
              0.7777777777777778,
              "#fb9f3a"
             ],
             [
              0.8888888888888888,
              "#fdca26"
             ],
             [
              1,
              "#f0f921"
             ]
            ],
            "type": "histogram2d"
           }
          ],
          "histogram2dcontour": [
           {
            "colorbar": {
             "outlinewidth": 0,
             "ticks": ""
            },
            "colorscale": [
             [
              0,
              "#0d0887"
             ],
             [
              0.1111111111111111,
              "#46039f"
             ],
             [
              0.2222222222222222,
              "#7201a8"
             ],
             [
              0.3333333333333333,
              "#9c179e"
             ],
             [
              0.4444444444444444,
              "#bd3786"
             ],
             [
              0.5555555555555556,
              "#d8576b"
             ],
             [
              0.6666666666666666,
              "#ed7953"
             ],
             [
              0.7777777777777778,
              "#fb9f3a"
             ],
             [
              0.8888888888888888,
              "#fdca26"
             ],
             [
              1,
              "#f0f921"
             ]
            ],
            "type": "histogram2dcontour"
           }
          ],
          "mesh3d": [
           {
            "colorbar": {
             "outlinewidth": 0,
             "ticks": ""
            },
            "type": "mesh3d"
           }
          ],
          "parcoords": [
           {
            "line": {
             "colorbar": {
              "outlinewidth": 0,
              "ticks": ""
             }
            },
            "type": "parcoords"
           }
          ],
          "pie": [
           {
            "automargin": true,
            "type": "pie"
           }
          ],
          "scatter": [
           {
            "fillpattern": {
             "fillmode": "overlay",
             "size": 10,
             "solidity": 0.2
            },
            "type": "scatter"
           }
          ],
          "scatter3d": [
           {
            "line": {
             "colorbar": {
              "outlinewidth": 0,
              "ticks": ""
             }
            },
            "marker": {
             "colorbar": {
              "outlinewidth": 0,
              "ticks": ""
             }
            },
            "type": "scatter3d"
           }
          ],
          "scattercarpet": [
           {
            "marker": {
             "colorbar": {
              "outlinewidth": 0,
              "ticks": ""
             }
            },
            "type": "scattercarpet"
           }
          ],
          "scattergeo": [
           {
            "marker": {
             "colorbar": {
              "outlinewidth": 0,
              "ticks": ""
             }
            },
            "type": "scattergeo"
           }
          ],
          "scattergl": [
           {
            "marker": {
             "colorbar": {
              "outlinewidth": 0,
              "ticks": ""
             }
            },
            "type": "scattergl"
           }
          ],
          "scattermapbox": [
           {
            "marker": {
             "colorbar": {
              "outlinewidth": 0,
              "ticks": ""
             }
            },
            "type": "scattermapbox"
           }
          ],
          "scatterpolar": [
           {
            "marker": {
             "colorbar": {
              "outlinewidth": 0,
              "ticks": ""
             }
            },
            "type": "scatterpolar"
           }
          ],
          "scatterpolargl": [
           {
            "marker": {
             "colorbar": {
              "outlinewidth": 0,
              "ticks": ""
             }
            },
            "type": "scatterpolargl"
           }
          ],
          "scatterternary": [
           {
            "marker": {
             "colorbar": {
              "outlinewidth": 0,
              "ticks": ""
             }
            },
            "type": "scatterternary"
           }
          ],
          "surface": [
           {
            "colorbar": {
             "outlinewidth": 0,
             "ticks": ""
            },
            "colorscale": [
             [
              0,
              "#0d0887"
             ],
             [
              0.1111111111111111,
              "#46039f"
             ],
             [
              0.2222222222222222,
              "#7201a8"
             ],
             [
              0.3333333333333333,
              "#9c179e"
             ],
             [
              0.4444444444444444,
              "#bd3786"
             ],
             [
              0.5555555555555556,
              "#d8576b"
             ],
             [
              0.6666666666666666,
              "#ed7953"
             ],
             [
              0.7777777777777778,
              "#fb9f3a"
             ],
             [
              0.8888888888888888,
              "#fdca26"
             ],
             [
              1,
              "#f0f921"
             ]
            ],
            "type": "surface"
           }
          ],
          "table": [
           {
            "cells": {
             "fill": {
              "color": "#EBF0F8"
             },
             "line": {
              "color": "white"
             }
            },
            "header": {
             "fill": {
              "color": "#C8D4E3"
             },
             "line": {
              "color": "white"
             }
            },
            "type": "table"
           }
          ]
         },
         "layout": {
          "annotationdefaults": {
           "arrowcolor": "#2a3f5f",
           "arrowhead": 0,
           "arrowwidth": 1
          },
          "autotypenumbers": "strict",
          "coloraxis": {
           "colorbar": {
            "outlinewidth": 0,
            "ticks": ""
           }
          },
          "colorscale": {
           "diverging": [
            [
             0,
             "#8e0152"
            ],
            [
             0.1,
             "#c51b7d"
            ],
            [
             0.2,
             "#de77ae"
            ],
            [
             0.3,
             "#f1b6da"
            ],
            [
             0.4,
             "#fde0ef"
            ],
            [
             0.5,
             "#f7f7f7"
            ],
            [
             0.6,
             "#e6f5d0"
            ],
            [
             0.7,
             "#b8e186"
            ],
            [
             0.8,
             "#7fbc41"
            ],
            [
             0.9,
             "#4d9221"
            ],
            [
             1,
             "#276419"
            ]
           ],
           "sequential": [
            [
             0,
             "#0d0887"
            ],
            [
             0.1111111111111111,
             "#46039f"
            ],
            [
             0.2222222222222222,
             "#7201a8"
            ],
            [
             0.3333333333333333,
             "#9c179e"
            ],
            [
             0.4444444444444444,
             "#bd3786"
            ],
            [
             0.5555555555555556,
             "#d8576b"
            ],
            [
             0.6666666666666666,
             "#ed7953"
            ],
            [
             0.7777777777777778,
             "#fb9f3a"
            ],
            [
             0.8888888888888888,
             "#fdca26"
            ],
            [
             1,
             "#f0f921"
            ]
           ],
           "sequentialminus": [
            [
             0,
             "#0d0887"
            ],
            [
             0.1111111111111111,
             "#46039f"
            ],
            [
             0.2222222222222222,
             "#7201a8"
            ],
            [
             0.3333333333333333,
             "#9c179e"
            ],
            [
             0.4444444444444444,
             "#bd3786"
            ],
            [
             0.5555555555555556,
             "#d8576b"
            ],
            [
             0.6666666666666666,
             "#ed7953"
            ],
            [
             0.7777777777777778,
             "#fb9f3a"
            ],
            [
             0.8888888888888888,
             "#fdca26"
            ],
            [
             1,
             "#f0f921"
            ]
           ]
          },
          "colorway": [
           "#636efa",
           "#EF553B",
           "#00cc96",
           "#ab63fa",
           "#FFA15A",
           "#19d3f3",
           "#FF6692",
           "#B6E880",
           "#FF97FF",
           "#FECB52"
          ],
          "font": {
           "color": "#2a3f5f"
          },
          "geo": {
           "bgcolor": "white",
           "lakecolor": "white",
           "landcolor": "#E5ECF6",
           "showlakes": true,
           "showland": true,
           "subunitcolor": "white"
          },
          "hoverlabel": {
           "align": "left"
          },
          "hovermode": "closest",
          "mapbox": {
           "style": "light"
          },
          "paper_bgcolor": "white",
          "plot_bgcolor": "#E5ECF6",
          "polar": {
           "angularaxis": {
            "gridcolor": "white",
            "linecolor": "white",
            "ticks": ""
           },
           "bgcolor": "#E5ECF6",
           "radialaxis": {
            "gridcolor": "white",
            "linecolor": "white",
            "ticks": ""
           }
          },
          "scene": {
           "xaxis": {
            "backgroundcolor": "#E5ECF6",
            "gridcolor": "white",
            "gridwidth": 2,
            "linecolor": "white",
            "showbackground": true,
            "ticks": "",
            "zerolinecolor": "white"
           },
           "yaxis": {
            "backgroundcolor": "#E5ECF6",
            "gridcolor": "white",
            "gridwidth": 2,
            "linecolor": "white",
            "showbackground": true,
            "ticks": "",
            "zerolinecolor": "white"
           },
           "zaxis": {
            "backgroundcolor": "#E5ECF6",
            "gridcolor": "white",
            "gridwidth": 2,
            "linecolor": "white",
            "showbackground": true,
            "ticks": "",
            "zerolinecolor": "white"
           }
          },
          "shapedefaults": {
           "line": {
            "color": "#2a3f5f"
           }
          },
          "ternary": {
           "aaxis": {
            "gridcolor": "white",
            "linecolor": "white",
            "ticks": ""
           },
           "baxis": {
            "gridcolor": "white",
            "linecolor": "white",
            "ticks": ""
           },
           "bgcolor": "#E5ECF6",
           "caxis": {
            "gridcolor": "white",
            "linecolor": "white",
            "ticks": ""
           }
          },
          "title": {
           "x": 0.05
          },
          "xaxis": {
           "automargin": true,
           "gridcolor": "white",
           "linecolor": "white",
           "ticks": "",
           "title": {
            "standoff": 15
           },
           "zerolinecolor": "white",
           "zerolinewidth": 2
          },
          "yaxis": {
           "automargin": true,
           "gridcolor": "white",
           "linecolor": "white",
           "ticks": "",
           "title": {
            "standoff": 15
           },
           "zerolinecolor": "white",
           "zerolinewidth": 2
          }
         }
        },
        "xaxis": {
         "anchor": "y",
         "domain": [
          0,
          1
         ],
         "title": {
          "text": "pc1"
         }
        },
        "yaxis": {
         "anchor": "x",
         "domain": [
          0,
          1
         ],
         "title": {
          "text": "pc2"
         }
        }
       }
      },
      "text/html": [
       "<div>                            <div id=\"d048e57b-eb6a-498f-b80f-d91920c46766\" class=\"plotly-graph-div\" style=\"height:525px; width:100%;\"></div>            <script type=\"text/javascript\">                require([\"plotly\"], function(Plotly) {                    window.PLOTLYENV=window.PLOTLYENV || {};                                    if (document.getElementById(\"d048e57b-eb6a-498f-b80f-d91920c46766\")) {                    Plotly.newPlot(                        \"d048e57b-eb6a-498f-b80f-d91920c46766\",                        [{\"hovertemplate\":\"<b>%{hovertext}</b><br><br>pc1=%{x}<br>pc2=%{y}<extra></extra>\",\"hovertext\":[\"scenario5: watch a video\",\"scenario5: Charge my phone.\",\"scenario5: watch a video\",\"scenario5: Charge my phone.\",\"scenario5: I could call a friend and talk to them over the phone on the way to the meeting. \",\"scenario5: Smoke \",\"scenario5: pick up a coffee\",\"scenario5: call my husband\",\"scenario5: talk a walk\",\"scenario5: greet other meeting atttendees\",\"scenario5: check calendars. \",\"scenario5: do absolutely nothing for a few minutes to relax\",\"scenario5: Change clothes\",\"scenario5: I could turn my phone on silent.\",\"scenario5: go over my schedule for the rest of the day\",\"scenario5: play a game\",\"scenario5: Check in with your office.\",\"scenario5: pay bills\",\"scenario5: listen to book on cd\",\"scenario5: Check with other employees on details they want to discuss.\",\"scenario5: check social media\",\"scenario5: Make coffee for the group, so it will be ready by the beginning of the meeting.\",\"scenario5: Check the clock to be certain I am on time.\",\"scenario5: Eat a mint.\",\"scenario5: clear my mind\",\"scenario5: waste time\",\"scenario5: Call home\",\"scenario5: play some candy crush video games\",\"scenario5: Focus on my main strengths \",\"scenario5: enjoy some alone time\",\"scenario5: I could try to relax by doing something not related to the meeting, like playing games on my phone.\",\"scenario5: Think about the meeting.\",\"scenario5: take the stars for exercise\",\"scenario5: Bathroom\",\"scenario5: call a friend\",\"scenario5: Take a moment to collect myself before entering the room.\",\"scenario5: Go over my notes for the meeting.\",\"scenario5: I could talk with a co-worker. \",\"scenario5: Fix your hair\",\"scenario5: listen to music\",\"scenario5: Write more notes\",\"scenario5: I could clear my mind to calm my nerves. \",\"scenario5: crash your car\",\"scenario5: make a phone call\",\"scenario5: Brush my hair\",\"scenario5: jog\",\"scenario5: Hum to myself\",\"scenario5: comb my hair with my hands\",\"scenario5: I could check to see who's coming to the meeting on the way\"],\"legendgroup\":\"\",\"marker\":{\"color\":\"#636efa\",\"opacity\":0.4,\"symbol\":\"circle\"},\"mode\":\"markers\",\"name\":\"\",\"orientation\":\"v\",\"showlegend\":false,\"x\":[-7.518335223714413,-1.8152768522856022,-7.518335223714402,-1.8152768522855975,-2.3878186599070257,7.151272809955862,1.1743479404456878,2.1008301941604244,2.301965718425721,-4.75408662550723,-7.920936578877523,0.00432760940143752,9.748060752894594,2.262492248043195,-0.9137095031513539,-4.4040222119680426,-2.8181521305007813,-8.835972411900435,-4.384757649665451,-3.998212417049139,-7.304453414725644,-2.6939733355887605,-4.675154791252541,3.0261347826078397,3.8364083334125416,-1.2625361935982795,-0.3266819802613459,-4.979302064897982,5.378319274360222,-0.9317696503388591,-3.312556186390548,-6.145096486134232,-1.058045829522939,5.927768710595121,-2.0532718941955928,2.0134135333072103,-3.8854632304742163,-0.9402536691487852,16.7290844195229,-3.930345879266192,-2.4695879826023655,4.1851769119318405,3.631947332648064,-0.06460559833998318,19.453490757562815,4.545374267183219,2.395330350802368,16.516070873067495,-7.263826293063291],\"xaxis\":\"x\",\"y\":[-2.3438213177971594,18.715672619781262,-2.3438213177971594,18.715672619781262,0.20978044306779578,-8.280881561055443,-2.6085723449471447,4.77322165433285,1.1010150098655314,-7.179826161347843,3.0937289178203407,-3.3102216456087783,1.8263479178389,6.634055617786495,0.7637502169450404,-0.973706545893351,0.8374670485831036,6.510928117620919,-4.271246619628723,-3.182114048253075,0.9082424114574188,-6.825496480828071,4.194205715089098,-3.096832379966633,-4.369297739734649,-1.813738324191463,5.3051266110051625,0.9191172213735378,-4.273574745847369,-2.616988964656164,-1.542747268207765,-7.623781794028399,-3.9973167265593306,-1.0862986373898174,2.7542581628812375,-2.1624518368176804,-3.3817701038244676,-2.478703341408259,0.607266623876839,-1.242552530805038,-3.6607807800912098,-2.591992271364069,0.27610363429680645,10.215381068405293,-0.4229269052950926,3.7864254561646478,-1.0773125108815018,1.0132240648661341,-4.402216248614018],\"yaxis\":\"y\",\"type\":\"scatter\"}],                        {\"template\":{\"data\":{\"histogram2dcontour\":[{\"type\":\"histogram2dcontour\",\"colorbar\":{\"outlinewidth\":0,\"ticks\":\"\"},\"colorscale\":[[0.0,\"#0d0887\"],[0.1111111111111111,\"#46039f\"],[0.2222222222222222,\"#7201a8\"],[0.3333333333333333,\"#9c179e\"],[0.4444444444444444,\"#bd3786\"],[0.5555555555555556,\"#d8576b\"],[0.6666666666666666,\"#ed7953\"],[0.7777777777777778,\"#fb9f3a\"],[0.8888888888888888,\"#fdca26\"],[1.0,\"#f0f921\"]]}],\"choropleth\":[{\"type\":\"choropleth\",\"colorbar\":{\"outlinewidth\":0,\"ticks\":\"\"}}],\"histogram2d\":[{\"type\":\"histogram2d\",\"colorbar\":{\"outlinewidth\":0,\"ticks\":\"\"},\"colorscale\":[[0.0,\"#0d0887\"],[0.1111111111111111,\"#46039f\"],[0.2222222222222222,\"#7201a8\"],[0.3333333333333333,\"#9c179e\"],[0.4444444444444444,\"#bd3786\"],[0.5555555555555556,\"#d8576b\"],[0.6666666666666666,\"#ed7953\"],[0.7777777777777778,\"#fb9f3a\"],[0.8888888888888888,\"#fdca26\"],[1.0,\"#f0f921\"]]}],\"heatmap\":[{\"type\":\"heatmap\",\"colorbar\":{\"outlinewidth\":0,\"ticks\":\"\"},\"colorscale\":[[0.0,\"#0d0887\"],[0.1111111111111111,\"#46039f\"],[0.2222222222222222,\"#7201a8\"],[0.3333333333333333,\"#9c179e\"],[0.4444444444444444,\"#bd3786\"],[0.5555555555555556,\"#d8576b\"],[0.6666666666666666,\"#ed7953\"],[0.7777777777777778,\"#fb9f3a\"],[0.8888888888888888,\"#fdca26\"],[1.0,\"#f0f921\"]]}],\"heatmapgl\":[{\"type\":\"heatmapgl\",\"colorbar\":{\"outlinewidth\":0,\"ticks\":\"\"},\"colorscale\":[[0.0,\"#0d0887\"],[0.1111111111111111,\"#46039f\"],[0.2222222222222222,\"#7201a8\"],[0.3333333333333333,\"#9c179e\"],[0.4444444444444444,\"#bd3786\"],[0.5555555555555556,\"#d8576b\"],[0.6666666666666666,\"#ed7953\"],[0.7777777777777778,\"#fb9f3a\"],[0.8888888888888888,\"#fdca26\"],[1.0,\"#f0f921\"]]}],\"contourcarpet\":[{\"type\":\"contourcarpet\",\"colorbar\":{\"outlinewidth\":0,\"ticks\":\"\"}}],\"contour\":[{\"type\":\"contour\",\"colorbar\":{\"outlinewidth\":0,\"ticks\":\"\"},\"colorscale\":[[0.0,\"#0d0887\"],[0.1111111111111111,\"#46039f\"],[0.2222222222222222,\"#7201a8\"],[0.3333333333333333,\"#9c179e\"],[0.4444444444444444,\"#bd3786\"],[0.5555555555555556,\"#d8576b\"],[0.6666666666666666,\"#ed7953\"],[0.7777777777777778,\"#fb9f3a\"],[0.8888888888888888,\"#fdca26\"],[1.0,\"#f0f921\"]]}],\"surface\":[{\"type\":\"surface\",\"colorbar\":{\"outlinewidth\":0,\"ticks\":\"\"},\"colorscale\":[[0.0,\"#0d0887\"],[0.1111111111111111,\"#46039f\"],[0.2222222222222222,\"#7201a8\"],[0.3333333333333333,\"#9c179e\"],[0.4444444444444444,\"#bd3786\"],[0.5555555555555556,\"#d8576b\"],[0.6666666666666666,\"#ed7953\"],[0.7777777777777778,\"#fb9f3a\"],[0.8888888888888888,\"#fdca26\"],[1.0,\"#f0f921\"]]}],\"mesh3d\":[{\"type\":\"mesh3d\",\"colorbar\":{\"outlinewidth\":0,\"ticks\":\"\"}}],\"scatter\":[{\"fillpattern\":{\"fillmode\":\"overlay\",\"size\":10,\"solidity\":0.2},\"type\":\"scatter\"}],\"parcoords\":[{\"type\":\"parcoords\",\"line\":{\"colorbar\":{\"outlinewidth\":0,\"ticks\":\"\"}}}],\"scatterpolargl\":[{\"type\":\"scatterpolargl\",\"marker\":{\"colorbar\":{\"outlinewidth\":0,\"ticks\":\"\"}}}],\"bar\":[{\"error_x\":{\"color\":\"#2a3f5f\"},\"error_y\":{\"color\":\"#2a3f5f\"},\"marker\":{\"line\":{\"color\":\"#E5ECF6\",\"width\":0.5},\"pattern\":{\"fillmode\":\"overlay\",\"size\":10,\"solidity\":0.2}},\"type\":\"bar\"}],\"scattergeo\":[{\"type\":\"scattergeo\",\"marker\":{\"colorbar\":{\"outlinewidth\":0,\"ticks\":\"\"}}}],\"scatterpolar\":[{\"type\":\"scatterpolar\",\"marker\":{\"colorbar\":{\"outlinewidth\":0,\"ticks\":\"\"}}}],\"histogram\":[{\"marker\":{\"pattern\":{\"fillmode\":\"overlay\",\"size\":10,\"solidity\":0.2}},\"type\":\"histogram\"}],\"scattergl\":[{\"type\":\"scattergl\",\"marker\":{\"colorbar\":{\"outlinewidth\":0,\"ticks\":\"\"}}}],\"scatter3d\":[{\"type\":\"scatter3d\",\"line\":{\"colorbar\":{\"outlinewidth\":0,\"ticks\":\"\"}},\"marker\":{\"colorbar\":{\"outlinewidth\":0,\"ticks\":\"\"}}}],\"scattermapbox\":[{\"type\":\"scattermapbox\",\"marker\":{\"colorbar\":{\"outlinewidth\":0,\"ticks\":\"\"}}}],\"scatterternary\":[{\"type\":\"scatterternary\",\"marker\":{\"colorbar\":{\"outlinewidth\":0,\"ticks\":\"\"}}}],\"scattercarpet\":[{\"type\":\"scattercarpet\",\"marker\":{\"colorbar\":{\"outlinewidth\":0,\"ticks\":\"\"}}}],\"carpet\":[{\"aaxis\":{\"endlinecolor\":\"#2a3f5f\",\"gridcolor\":\"white\",\"linecolor\":\"white\",\"minorgridcolor\":\"white\",\"startlinecolor\":\"#2a3f5f\"},\"baxis\":{\"endlinecolor\":\"#2a3f5f\",\"gridcolor\":\"white\",\"linecolor\":\"white\",\"minorgridcolor\":\"white\",\"startlinecolor\":\"#2a3f5f\"},\"type\":\"carpet\"}],\"table\":[{\"cells\":{\"fill\":{\"color\":\"#EBF0F8\"},\"line\":{\"color\":\"white\"}},\"header\":{\"fill\":{\"color\":\"#C8D4E3\"},\"line\":{\"color\":\"white\"}},\"type\":\"table\"}],\"barpolar\":[{\"marker\":{\"line\":{\"color\":\"#E5ECF6\",\"width\":0.5},\"pattern\":{\"fillmode\":\"overlay\",\"size\":10,\"solidity\":0.2}},\"type\":\"barpolar\"}],\"pie\":[{\"automargin\":true,\"type\":\"pie\"}]},\"layout\":{\"autotypenumbers\":\"strict\",\"colorway\":[\"#636efa\",\"#EF553B\",\"#00cc96\",\"#ab63fa\",\"#FFA15A\",\"#19d3f3\",\"#FF6692\",\"#B6E880\",\"#FF97FF\",\"#FECB52\"],\"font\":{\"color\":\"#2a3f5f\"},\"hovermode\":\"closest\",\"hoverlabel\":{\"align\":\"left\"},\"paper_bgcolor\":\"white\",\"plot_bgcolor\":\"#E5ECF6\",\"polar\":{\"bgcolor\":\"#E5ECF6\",\"angularaxis\":{\"gridcolor\":\"white\",\"linecolor\":\"white\",\"ticks\":\"\"},\"radialaxis\":{\"gridcolor\":\"white\",\"linecolor\":\"white\",\"ticks\":\"\"}},\"ternary\":{\"bgcolor\":\"#E5ECF6\",\"aaxis\":{\"gridcolor\":\"white\",\"linecolor\":\"white\",\"ticks\":\"\"},\"baxis\":{\"gridcolor\":\"white\",\"linecolor\":\"white\",\"ticks\":\"\"},\"caxis\":{\"gridcolor\":\"white\",\"linecolor\":\"white\",\"ticks\":\"\"}},\"coloraxis\":{\"colorbar\":{\"outlinewidth\":0,\"ticks\":\"\"}},\"colorscale\":{\"sequential\":[[0.0,\"#0d0887\"],[0.1111111111111111,\"#46039f\"],[0.2222222222222222,\"#7201a8\"],[0.3333333333333333,\"#9c179e\"],[0.4444444444444444,\"#bd3786\"],[0.5555555555555556,\"#d8576b\"],[0.6666666666666666,\"#ed7953\"],[0.7777777777777778,\"#fb9f3a\"],[0.8888888888888888,\"#fdca26\"],[1.0,\"#f0f921\"]],\"sequentialminus\":[[0.0,\"#0d0887\"],[0.1111111111111111,\"#46039f\"],[0.2222222222222222,\"#7201a8\"],[0.3333333333333333,\"#9c179e\"],[0.4444444444444444,\"#bd3786\"],[0.5555555555555556,\"#d8576b\"],[0.6666666666666666,\"#ed7953\"],[0.7777777777777778,\"#fb9f3a\"],[0.8888888888888888,\"#fdca26\"],[1.0,\"#f0f921\"]],\"diverging\":[[0,\"#8e0152\"],[0.1,\"#c51b7d\"],[0.2,\"#de77ae\"],[0.3,\"#f1b6da\"],[0.4,\"#fde0ef\"],[0.5,\"#f7f7f7\"],[0.6,\"#e6f5d0\"],[0.7,\"#b8e186\"],[0.8,\"#7fbc41\"],[0.9,\"#4d9221\"],[1,\"#276419\"]]},\"xaxis\":{\"gridcolor\":\"white\",\"linecolor\":\"white\",\"ticks\":\"\",\"title\":{\"standoff\":15},\"zerolinecolor\":\"white\",\"automargin\":true,\"zerolinewidth\":2},\"yaxis\":{\"gridcolor\":\"white\",\"linecolor\":\"white\",\"ticks\":\"\",\"title\":{\"standoff\":15},\"zerolinecolor\":\"white\",\"automargin\":true,\"zerolinewidth\":2},\"scene\":{\"xaxis\":{\"backgroundcolor\":\"#E5ECF6\",\"gridcolor\":\"white\",\"linecolor\":\"white\",\"showbackground\":true,\"ticks\":\"\",\"zerolinecolor\":\"white\",\"gridwidth\":2},\"yaxis\":{\"backgroundcolor\":\"#E5ECF6\",\"gridcolor\":\"white\",\"linecolor\":\"white\",\"showbackground\":true,\"ticks\":\"\",\"zerolinecolor\":\"white\",\"gridwidth\":2},\"zaxis\":{\"backgroundcolor\":\"#E5ECF6\",\"gridcolor\":\"white\",\"linecolor\":\"white\",\"showbackground\":true,\"ticks\":\"\",\"zerolinecolor\":\"white\",\"gridwidth\":2}},\"shapedefaults\":{\"line\":{\"color\":\"#2a3f5f\"}},\"annotationdefaults\":{\"arrowcolor\":\"#2a3f5f\",\"arrowhead\":0,\"arrowwidth\":1},\"geo\":{\"bgcolor\":\"white\",\"landcolor\":\"#E5ECF6\",\"subunitcolor\":\"white\",\"showland\":true,\"showlakes\":true,\"lakecolor\":\"white\"},\"title\":{\"x\":0.05},\"mapbox\":{\"style\":\"light\"}}},\"xaxis\":{\"anchor\":\"y\",\"domain\":[0.0,1.0],\"title\":{\"text\":\"pc1\"}},\"yaxis\":{\"anchor\":\"x\",\"domain\":[0.0,1.0],\"title\":{\"text\":\"pc2\"}},\"legend\":{\"tracegroupgap\":0},\"margin\":{\"t\":60}},                        {\"responsive\": true}                    ).then(function(){\n",
       "                            \n",
       "var gd = document.getElementById('d048e57b-eb6a-498f-b80f-d91920c46766');\n",
       "var x = new MutationObserver(function (mutations, observer) {{\n",
       "        var display = window.getComputedStyle(gd).display;\n",
       "        if (!display || display === 'none') {{\n",
       "            console.log([gd, 'removed!']);\n",
       "            Plotly.purge(gd);\n",
       "            observer.disconnect();\n",
       "        }}\n",
       "}});\n",
       "\n",
       "// Listen for the removal of the full notebook cells\n",
       "var notebookContainer = gd.closest('#notebook-container');\n",
       "if (notebookContainer) {{\n",
       "    x.observe(notebookContainer, {childList: true});\n",
       "}}\n",
       "\n",
       "// Listen for the clearing of the current output cell\n",
       "var outputEl = gd.closest('.output');\n",
       "if (outputEl) {{\n",
       "    x.observe(outputEl, {childList: true});\n",
       "}}\n",
       "\n",
       "                        })                };                });            </script>        </div>"
      ]
     },
     "metadata": {},
     "output_type": "display_data"
    },
    {
     "data": {
      "image/png": "[encoded data removed]",
      "text/plain": [
       "<Figure size 432x288 with 2 Axes>"
      ]
     },
     "metadata": {
      "needs_background": "light"
     },
     "output_type": "display_data"
    },
    {
     "data": {
      "image/png": "[encoded data removed]",
      "text/plain": [
       "<Figure size 432x288 with 2 Axes>"
      ]
     },
     "metadata": {
      "needs_background": "light"
     },
     "output_type": "display_data"
    }
   ],
   "source": [
    "#scatterplot\n",
    "principalComponents = pca.fit_transform(np.array(embed_8))\n",
    "embed_8 = pd.DataFrame(data = principalComponents, columns = ['pc1', 'pc2'])\n",
    "embed_8[\"responses\"] = embed_8_responses\n",
    "fig = px.scatter(embed_8, x=\"pc1\", y=\"pc2\", opacity=.4, hover_name=\"responses\")\n",
    "fig.show()\n",
    "\n",
    "#heatmap\n",
    "heatmap8, xedges, yedges = np.histogram2d(list(embed_8[\"pc1\"]), list(embed_8[\"pc2\"]), bins=bin_size)\n",
    "heatmap8 = gaussian_filter(heatmap6, sigma=1)\n",
    "extent = [xedges[0], xedges[-1], yedges[0], yedges[-1]]\n",
    "\n",
    "plt.clf()\n",
    "plt.title(\"Generation Density Heatmap\")\n",
    "plt.imshow(heatmap6.T, extent=extent, origin='lower')\n",
    "plt.colorbar()\n",
    "plt.show()\n",
    "\n",
    "# #heatmap with weights\n",
    "# heatmap, xedges, yedges = np.histogram2d(list(embed_6[\"pc1\"]), list(embed_6[\"pc2\"]), bins=bin_size, weights = embed_6_weights, density=False)\n",
    "# heatmap = gaussian_filter(heatmap, sigma=1)\n",
    "# extent = [xedges[0], xedges[-1], yedges[0], yedges[-1]]\n",
    "\n",
    "# plt.clf()\n",
    "# plt.imshow(heatmap.T, extent=extent, origin='lower')\n",
    "# plt.show()\n",
    "\n",
    "#median sentiment heatmap\n",
    "# Compute the median of the weights in each bin\n",
    "median, _, _, _ = binned_statistic_2d(list(embed_8[\"pc1\"]), list(embed_8[\"pc2\"]), embed_8_weights, statistic='median', bins=(bin_size, bin_size))\n",
    "#set all nans to 0\n",
    "for y in range(len(median)): \n",
    "    for x in range(len(median[y])):\n",
    "        if pd.isna(median[x][y]):\n",
    "            median[x][y]  = 0\n",
    "median = gaussian_filter(median, sigma=1)\n",
    "\n",
    "# plot the heatmap\n",
    "plt.clf()\n",
    "plt.title(\"Generation Median Sentiment Heatmap\")\n",
    "plt.imshow(median, origin='lower', extent=[xedges[0], xedges[-1], yedges[0], yedges[-1]], interpolation='nearest')\n",
    "plt.colorbar()\n",
    "plt.show()"
   ]
  },
  {
   "cell_type": "code",
   "execution_count": 136,
   "metadata": {
    "scrolled": true
   },
   "outputs": [
    {
     "data": {
      "image/png": "[encoded data removed]",
      "text/plain": [
       "<Figure size 1080x576 with 9 Axes>"
      ]
     },
     "metadata": {
      "needs_background": "light"
     },
     "output_type": "display_data"
    }
   ],
   "source": [
    "fig, axs = plt.subplots(2, 4, figsize=(15, 8))\n",
    "# Create some data for the heatmaps\n",
    "\n",
    "#r,c\n",
    "# Create the heatmaps\n",
    "im1 = axs[0][0].imshow(heatmap1, cmap='magma')\n",
    "im2 = axs[0][1].imshow(heatmap2, cmap='magma')\n",
    "im3 = axs[0][2].imshow(heatmap3, cmap='magma')\n",
    "im4 = axs[0][3].imshow(heatmap4, cmap='magma')\n",
    "im5 = axs[1][0].imshow(heatmap5, cmap='magma')\n",
    "im6 = axs[1][1].imshow(heatmap6, cmap='magma')\n",
    "im7 = axs[1][2].imshow(heatmap7, cmap='magma')\n",
    "im8 = axs[1][3].imshow(heatmap8, cmap='magma')\n",
    "\n",
    "# Create the colorbar and connect it to the heatmaps\n",
    "cbar = fig.colorbar(im1, ax=axs)\n",
    "\n",
    "#Add titles \n",
    "fig.suptitle(\"Possibility Generation Density\")\n",
    "axs[0][0].set_title(\"Generation 1\")\n",
    "axs[0][1].set_title(\"Generation 2\")\n",
    "axs[0][2].set_title(\"Generation 3\")\n",
    "axs[0][3].set_title(\"Generation 4\")\n",
    "axs[1][0].set_title(\"Generation 5\")\n",
    "axs[1][1].set_title(\"Generation 6\")\n",
    "axs[1][2].set_title(\"Generation 7\")\n",
    "axs[1][3].set_title(\"Generation 8\")\n",
    "\n",
    "# Adjust the layout\n",
    "# fig.tight_layout()\n",
    "plt.show()\n"
   ]
  },
  {
   "cell_type": "code",
   "execution_count": null,
   "metadata": {},
   "outputs": [],
   "source": []
  }
 ],
 "metadata": {
  "accelerator": "GPU",
  "colab": {
   "collapsed_sections": [
    "QZE6kgH21wcZ",
    "Wa9-8o8U5epR",
    "WN-e647q7i06",
    "R0xiIKhy9i0D",
    "Hqufw5AW_ZEf",
    "COVYeWYZ1Idn",
    "5EqjXNduH2Qq",
    "g5iuRtjSDcLE",
    "fBryxHlUDUA6",
    "XzcBzA7C_Sq6",
    "dmyv1NgNAQK2",
    "pUnD2m79CmRC",
    "fClpt-HVEE4Q",
    "boPnnXIBG0_L",
    "Mac1Zpu4IAlG"
   ],
   "provenance": []
  },
  "kernelspec": {
   "display_name": "option-generation",
   "language": "python",
   "name": "option-generation"
  },
  "language_info": {
   "codemirror_mode": {
    "name": "ipython",
    "version": 3
   },
   "file_extension": ".py",
   "mimetype": "text/x-python",
   "name": "python",
   "nbconvert_exporter": "python",
   "pygments_lexer": "ipython3",
   "version": "3.7.15"
  }
 },
 "nbformat": 4,
 "nbformat_minor": 1
}
