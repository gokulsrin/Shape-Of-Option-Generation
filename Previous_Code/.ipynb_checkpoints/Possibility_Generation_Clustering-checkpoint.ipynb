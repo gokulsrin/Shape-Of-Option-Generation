{
 "cells": [
  {
   "cell_type": "code",
   "execution_count": 1,
   "metadata": {
    "colab": {
     "base_uri": "https://localhost:8080/"
    },
    "executionInfo": {
     "elapsed": 14726,
     "status": "ok",
     "timestamp": 1635113901705,
     "user": {
      "displayName": "Gokul Srinivasan",
      "photoUrl": "https://lh3.googleusercontent.com/a/default-user=s64",
      "userId": "01072835723997484871"
     },
     "user_tz": 240
    },
    "id": "jTXvqoAGcucj",
    "outputId": "a03857a6-b390-4ee0-cae2-3b7a12f6bd33"
   },
   "outputs": [
    {
     "name": "stdout",
     "output_type": "stream",
     "text": [
      "Collecting git+https://github.com/ContextLab/davos.git\n",
      "  Cloning https://github.com/ContextLab/davos.git to /tmp/pip-req-build-shx_2ybd\n",
      "  Running command git clone -q https://github.com/ContextLab/davos.git /tmp/pip-req-build-shx_2ybd\n",
      "  Installing build dependencies ... \u001b[?25l\u001b[?25hdone\n",
      "  Getting requirements to build wheel ... \u001b[?25l\u001b[?25hdone\n",
      "    Preparing wheel metadata ... \u001b[?25l\u001b[?25hdone\n",
      "Requirement already satisfied: setuptools in /usr/local/lib/python3.7/dist-packages (from davos==0.0.1) (57.4.0)\n",
      "Requirement already satisfied: packaging in /usr/local/lib/python3.7/dist-packages (from davos==0.0.1) (21.0)\n",
      "Requirement already satisfied: pyparsing>=2.0.2 in /usr/local/lib/python3.7/dist-packages (from packaging->davos==0.0.1) (2.4.7)\n",
      "Building wheels for collected packages: davos\n",
      "  Building wheel for davos (PEP 517) ... \u001b[?25l\u001b[?25hdone\n",
      "  Created wheel for davos: filename=davos-0.0.1-py3-none-any.whl size=76438 sha256=f30f12abc1be8282113ddb2c5e9816984b1a629b88c90e52c576bfe0bfdb8cb0\n",
      "  Stored in directory: /tmp/pip-ephem-wheel-cache-6scus0vt/wheels/91/25/62/ff3e77f0c7b0be985afa1841e980aa00ba971e687beb29eb88\n",
      "Successfully built davos\n",
      "Installing collected packages: davos\n",
      "Successfully installed davos-0.0.1\n"
     ]
    }
   ],
   "source": [
    "!pip install git+https://github.com/ContextLab/davos.git\n",
    "import davos"
   ]
  },
  {
   "cell_type": "code",
   "execution_count": 2,
   "metadata": {
    "colab": {
     "base_uri": "https://localhost:8080/"
    },
    "executionInfo": {
     "elapsed": 30530,
     "status": "ok",
     "timestamp": 1635113932229,
     "user": {
      "displayName": "Gokul Srinivasan",
      "photoUrl": "https://lh3.googleusercontent.com/a/default-user=s64",
      "userId": "01072835723997484871"
     },
     "user_tz": 240
    },
    "id": "x98PaOync1bC",
    "outputId": "4fc54f5e-dd7f-46fe-938f-b6947235b039"
   },
   "outputs": [
    {
     "name": "stdout",
     "output_type": "stream",
     "text": [
      "Collecting hypertools\n",
      "  Downloading hypertools-0.7.0-py3-none-any.whl (59 kB)\n",
      "\u001b[K     |████████████████████████████████| 59 kB 3.3 MB/s \n",
      "\u001b[?25hCollecting deepdish\n",
      "  Downloading deepdish-0.3.7-py2.py3-none-any.whl (37 kB)\n",
      "Requirement already satisfied: six in /usr/local/lib/python3.7/dist-packages (from hypertools) (1.15.0)\n",
      "Requirement already satisfied: pandas>=0.18.0 in /usr/local/lib/python3.7/dist-packages (from hypertools) (1.1.5)\n",
      "Collecting PPCA>=0.0.2\n",
      "  Downloading ppca-0.0.4-py3-none-any.whl (6.7 kB)\n",
      "Requirement already satisfied: requests in /usr/local/lib/python3.7/dist-packages (from hypertools) (2.23.0)\n",
      "Requirement already satisfied: scipy>=1.0.0 in /usr/local/lib/python3.7/dist-packages (from hypertools) (1.4.1)\n",
      "Requirement already satisfied: future in /usr/local/lib/python3.7/dist-packages (from hypertools) (0.16.0)\n",
      "Requirement already satisfied: matplotlib>=1.5.1 in /usr/local/lib/python3.7/dist-packages (from hypertools) (3.2.2)\n",
      "Requirement already satisfied: numpy>=1.10.4 in /usr/local/lib/python3.7/dist-packages (from hypertools) (1.19.5)\n",
      "Collecting umap-learn>=0.4.6\n",
      "  Downloading umap-learn-0.5.1.tar.gz (80 kB)\n",
      "\u001b[K     |████████████████████████████████| 80 kB 3.9 MB/s \n",
      "\u001b[?25hRequirement already satisfied: scikit-learn!=0.22,<0.24,>=0.19.1 in /usr/local/lib/python3.7/dist-packages (from hypertools) (0.22.2.post1)\n",
      "Requirement already satisfied: seaborn>=0.8.1 in /usr/local/lib/python3.7/dist-packages (from hypertools) (0.11.2)\n",
      "Requirement already satisfied: python-dateutil>=2.1 in /usr/local/lib/python3.7/dist-packages (from matplotlib>=1.5.1->hypertools) (2.8.2)\n",
      "Requirement already satisfied: pyparsing!=2.0.4,!=2.1.2,!=2.1.6,>=2.0.1 in /usr/local/lib/python3.7/dist-packages (from matplotlib>=1.5.1->hypertools) (2.4.7)\n",
      "Requirement already satisfied: kiwisolver>=1.0.1 in /usr/local/lib/python3.7/dist-packages (from matplotlib>=1.5.1->hypertools) (1.3.2)\n",
      "Requirement already satisfied: cycler>=0.10 in /usr/local/lib/python3.7/dist-packages (from matplotlib>=1.5.1->hypertools) (0.10.0)\n",
      "Requirement already satisfied: pytz>=2017.2 in /usr/local/lib/python3.7/dist-packages (from pandas>=0.18.0->hypertools) (2018.9)\n",
      "Requirement already satisfied: joblib>=0.11 in /usr/local/lib/python3.7/dist-packages (from scikit-learn!=0.22,<0.24,>=0.19.1->hypertools) (1.0.1)\n",
      "Requirement already satisfied: numba>=0.49 in /usr/local/lib/python3.7/dist-packages (from umap-learn>=0.4.6->hypertools) (0.51.2)\n",
      "Collecting pynndescent>=0.5\n",
      "  Downloading pynndescent-0.5.5.tar.gz (1.1 MB)\n",
      "\u001b[K     |████████████████████████████████| 1.1 MB 22.3 MB/s \n",
      "\u001b[?25hRequirement already satisfied: setuptools in /usr/local/lib/python3.7/dist-packages (from numba>=0.49->umap-learn>=0.4.6->hypertools) (57.4.0)\n",
      "Requirement already satisfied: llvmlite<0.35,>=0.34.0.dev0 in /usr/local/lib/python3.7/dist-packages (from numba>=0.49->umap-learn>=0.4.6->hypertools) (0.34.0)\n",
      "Requirement already satisfied: tables in /usr/local/lib/python3.7/dist-packages (from deepdish->hypertools) (3.4.4)\n",
      "Requirement already satisfied: urllib3!=1.25.0,!=1.25.1,<1.26,>=1.21.1 in /usr/local/lib/python3.7/dist-packages (from requests->hypertools) (1.24.3)\n",
      "Requirement already satisfied: chardet<4,>=3.0.2 in /usr/local/lib/python3.7/dist-packages (from requests->hypertools) (3.0.4)\n",
      "Requirement already satisfied: idna<3,>=2.5 in /usr/local/lib/python3.7/dist-packages (from requests->hypertools) (2.10)\n",
      "Requirement already satisfied: certifi>=2017.4.17 in /usr/local/lib/python3.7/dist-packages (from requests->hypertools) (2021.5.30)\n",
      "Requirement already satisfied: numexpr>=2.5.2 in /usr/local/lib/python3.7/dist-packages (from tables->deepdish->hypertools) (2.7.3)\n",
      "Building wheels for collected packages: umap-learn, pynndescent\n",
      "  Building wheel for umap-learn (setup.py) ... \u001b[?25l\u001b[?25hdone\n",
      "  Created wheel for umap-learn: filename=umap_learn-0.5.1-py3-none-any.whl size=76564 sha256=54810d7aabe4638a95e2439048f39ca9066e3497ba2891aa05f1e4116ed8da6f\n",
      "  Stored in directory: /root/.cache/pip/wheels/01/e7/bb/347dc0e510803d7116a13d592b10cc68262da56a8eec4dd72f\n",
      "  Building wheel for pynndescent (setup.py) ... \u001b[?25l\u001b[?25hdone\n",
      "  Created wheel for pynndescent: filename=pynndescent-0.5.5-py3-none-any.whl size=52603 sha256=3c9bc605000758a08fa64ebc12d452f8be3f7da9600650fa2e6e25bd5ebca796\n",
      "  Stored in directory: /root/.cache/pip/wheels/af/e9/33/04db1436df0757c42fda8ea6796d7a8586e23c85fac355f476\n",
      "Successfully built umap-learn pynndescent\n",
      "Installing collected packages: pynndescent, umap-learn, PPCA, deepdish, hypertools\n",
      "Successfully installed PPCA-0.0.4 deepdish-0.3.7 hypertools-0.7.0 pynndescent-0.5.5 umap-learn-0.5.1\n"
     ]
    }
   ],
   "source": [
    "smuggle numpy as np\n",
    "smuggle pandas as pd\n",
    "smuggle hypertools as hyp\n",
    "\n",
    "import os"
   ]
  },
  {
   "cell_type": "code",
   "execution_count": 3,
   "metadata": {
    "colab": {
     "base_uri": "https://localhost:8080/"
    },
    "executionInfo": {
     "elapsed": 208,
     "status": "ok",
     "timestamp": 1635113932414,
     "user": {
      "displayName": "Gokul Srinivasan",
      "photoUrl": "https://lh3.googleusercontent.com/a/default-user=s64",
      "userId": "01072835723997484871"
     },
     "user_tz": 240
    },
    "id": "XbbyTOlhc2_B",
    "outputId": "2c23167d-a259-483c-9d14-57fbc2e287ac"
   },
   "outputs": [
    {
     "name": "stdout",
     "output_type": "stream",
     "text": [
      "Cloning into 'generation-trajectory'...\n",
      "remote: Enumerating objects: 43, done.\u001b[K\n",
      "remote: Counting objects:   2% (1/43)\u001b[K\rremote: Counting objects:   4% (2/43)\u001b[K\rremote: Counting objects:   6% (3/43)\u001b[K\rremote: Counting objects:   9% (4/43)\u001b[K\rremote: Counting objects:  11% (5/43)\u001b[K\rremote: Counting objects:  13% (6/43)\u001b[K\rremote: Counting objects:  16% (7/43)\u001b[K\rremote: Counting objects:  18% (8/43)\u001b[K\rremote: Counting objects:  20% (9/43)\u001b[K\rremote: Counting objects:  23% (10/43)\u001b[K\rremote: Counting objects:  25% (11/43)\u001b[K\rremote: Counting objects:  27% (12/43)\u001b[K\rremote: Counting objects:  30% (13/43)\u001b[K\rremote: Counting objects:  32% (14/43)\u001b[K\rremote: Counting objects:  34% (15/43)\u001b[K\rremote: Counting objects:  37% (16/43)\u001b[K\rremote: Counting objects:  39% (17/43)\u001b[K\rremote: Counting objects:  41% (18/43)\u001b[K\rremote: Counting objects:  44% (19/43)\u001b[K\rremote: Counting objects:  46% (20/43)\u001b[K\rremote: Counting objects:  48% (21/43)\u001b[K\rremote: Counting objects:  51% (22/43)\u001b[K\rremote: Counting objects:  53% (23/43)\u001b[K\rremote: Counting objects:  55% (24/43)\u001b[K\rremote: Counting objects:  58% (25/43)\u001b[K\rremote: Counting objects:  60% (26/43)\u001b[K\rremote: Counting objects:  62% (27/43)\u001b[K\rremote: Counting objects:  65% (28/43)\u001b[K\rremote: Counting objects:  67% (29/43)\u001b[K\rremote: Counting objects:  69% (30/43)\u001b[K\rremote: Counting objects:  72% (31/43)\u001b[K\rremote: Counting objects:  74% (32/43)\u001b[K\rremote: Counting objects:  76% (33/43)\u001b[K\rremote: Counting objects:  79% (34/43)\u001b[K\rremote: Counting objects:  81% (35/43)\u001b[K\rremote: Counting objects:  83% (36/43)\u001b[K\rremote: Counting objects:  86% (37/43)\u001b[K\rremote: Counting objects:  88% (38/43)\u001b[K\rremote: Counting objects:  90% (39/43)\u001b[K\rremote: Counting objects:  93% (40/43)\u001b[K\rremote: Counting objects:  95% (41/43)\u001b[K\rremote: Counting objects:  97% (42/43)\u001b[K\rremote: Counting objects: 100% (43/43)\u001b[K\rremote: Counting objects: 100% (43/43), done.\u001b[K\n",
      "remote: Compressing objects:   3% (1/32)\u001b[K\rremote: Compressing objects:   6% (2/32)\u001b[K\rremote: Compressing objects:   9% (3/32)\u001b[K\rremote: Compressing objects:  12% (4/32)\u001b[K\rremote: Compressing objects:  15% (5/32)\u001b[K\rremote: Compressing objects:  18% (6/32)\u001b[K\rremote: Compressing objects:  21% (7/32)\u001b[K\rremote: Compressing objects:  25% (8/32)\u001b[K\rremote: Compressing objects:  28% (9/32)\u001b[K\rremote: Compressing objects:  31% (10/32)\u001b[K\rremote: Compressing objects:  34% (11/32)\u001b[K\rremote: Compressing objects:  37% (12/32)\u001b[K\rremote: Compressing objects:  40% (13/32)\u001b[K\rremote: Compressing objects:  43% (14/32)\u001b[K\rremote: Compressing objects:  46% (15/32)\u001b[K\rremote: Compressing objects:  50% (16/32)\u001b[K\rremote: Compressing objects:  53% (17/32)\u001b[K\rremote: Compressing objects:  56% (18/32)\u001b[K\rremote: Compressing objects:  59% (19/32)\u001b[K\rremote: Compressing objects:  62% (20/32)\u001b[K\rremote: Compressing objects:  65% (21/32)\u001b[K\rremote: Compressing objects:  68% (22/32)\u001b[K\rremote: Compressing objects:  71% (23/32)\u001b[K\rremote: Compressing objects:  75% (24/32)\u001b[K\rremote: Compressing objects:  78% (25/32)\u001b[K\rremote: Compressing objects:  81% (26/32)\u001b[K\rremote: Compressing objects:  84% (27/32)\u001b[K\rremote: Compressing objects:  87% (28/32)\u001b[K\rremote: Compressing objects:  90% (29/32)\u001b[K\rremote: Compressing objects:  93% (30/32)\u001b[K\rremote: Compressing objects:  96% (31/32)\u001b[K\rremote: Compressing objects: 100% (32/32)\u001b[K\rremote: Compressing objects: 100% (32/32), done.\u001b[K\n",
      "remote: Total 43 (delta 16), reused 34 (delta 9), pack-reused 0\u001b[K\n",
      "Unpacking objects:   2% (1/43)   \rUnpacking objects:   4% (2/43)   \rUnpacking objects:   6% (3/43)   \rUnpacking objects:   9% (4/43)   \rUnpacking objects:  11% (5/43)   \rUnpacking objects:  13% (6/43)   \rUnpacking objects:  16% (7/43)   \rUnpacking objects:  18% (8/43)   \rUnpacking objects:  20% (9/43)   \rUnpacking objects:  23% (10/43)   \rUnpacking objects:  25% (11/43)   \rUnpacking objects:  27% (12/43)   \rUnpacking objects:  30% (13/43)   \rUnpacking objects:  32% (14/43)   \rUnpacking objects:  34% (15/43)   \rUnpacking objects:  37% (16/43)   \rUnpacking objects:  39% (17/43)   \rUnpacking objects:  41% (18/43)   \rUnpacking objects:  44% (19/43)   \rUnpacking objects:  46% (20/43)   \rUnpacking objects:  48% (21/43)   \rUnpacking objects:  51% (22/43)   \rUnpacking objects:  53% (23/43)   \rUnpacking objects:  55% (24/43)   \rUnpacking objects:  58% (25/43)   \rUnpacking objects:  60% (26/43)   \rUnpacking objects:  62% (27/43)   \rUnpacking objects:  65% (28/43)   \rUnpacking objects:  67% (29/43)   \rUnpacking objects:  69% (30/43)   \rUnpacking objects:  72% (31/43)   \rUnpacking objects:  74% (32/43)   \rUnpacking objects:  76% (33/43)   \rUnpacking objects:  79% (34/43)   \rUnpacking objects:  81% (35/43)   \rUnpacking objects:  83% (36/43)   \rUnpacking objects:  86% (37/43)   \rUnpacking objects:  88% (38/43)   \rUnpacking objects:  90% (39/43)   \rUnpacking objects:  93% (40/43)   \rUnpacking objects:  95% (41/43)   \rUnpacking objects:  97% (42/43)   \rUnpacking objects: 100% (43/43)   \rUnpacking objects: 100% (43/43), done.\n"
     ]
    }
   ],
   "source": [
    "!git clone https://github.com/ContextLab/generation-trajectory.git"
   ]
  },
  {
   "cell_type": "code",
   "execution_count": 4,
   "metadata": {
    "colab": {
     "base_uri": "https://localhost:8080/",
     "height": 1000
    },
    "executionInfo": {
     "elapsed": 293644,
     "status": "ok",
     "timestamp": 1635114226055,
     "user": {
      "displayName": "Gokul Srinivasan",
      "photoUrl": "https://lh3.googleusercontent.com/a/default-user=s64",
      "userId": "01072835723997484871"
     },
     "user_tz": 240
    },
    "id": "cgdW6fc5c6cD",
    "outputId": "14844f16-d60f-48bd-a3cb-f1dcc93a29e7"
   },
   "outputs": [
    {
     "name": "stdout",
     "output_type": "stream",
     "text": [
      "Collecting pydata-wrangler\n",
      "  Downloading pydata_wrangler-0.1.7-py2.py3-none-any.whl (28 kB)\n",
      "Collecting torch~=1.7.1\n",
      "  Downloading torch-1.7.1-cp37-cp37m-manylinux1_x86_64.whl (776.8 MB)\n",
      "\u001b[K     |████████████████████████████████| 776.8 MB 16 kB/s \n",
      "\u001b[?25hRequirement already satisfied: Pillow in /usr/local/lib/python3.7/dist-packages (from pydata-wrangler) (7.1.2)\n",
      "Collecting torchvision~=0.8.2\n",
      "  Downloading torchvision-0.8.2-cp37-cp37m-manylinux1_x86_64.whl (12.8 MB)\n",
      "\u001b[K     |████████████████████████████████| 12.8 MB 23 kB/s \n",
      "\u001b[?25hRequirement already satisfied: setuptools>=49.6.0 in /usr/local/lib/python3.7/dist-packages (from pydata-wrangler) (57.4.0)\n",
      "Collecting tqdm~=4.49.0\n",
      "  Downloading tqdm-4.49.0-py2.py3-none-any.whl (69 kB)\n",
      "\u001b[K     |████████████████████████████████| 69 kB 5.7 MB/s \n",
      "\u001b[?25hCollecting configparser~=5.0.2\n",
      "  Downloading configparser-5.0.2-py3-none-any.whl (19 kB)\n",
      "Collecting flair~=0.8.0.post1\n",
      "  Downloading flair-0.8.0.post1-py3-none-any.whl (284 kB)\n",
      "\u001b[K     |████████████████████████████████| 284 kB 58.7 MB/s \n",
      "\u001b[?25hCollecting konoha==4.6.5\n",
      "  Downloading konoha-4.6.5-py3-none-any.whl (20 kB)\n",
      "Collecting datasets~=1.8.0\n",
      "  Downloading datasets-1.8.0-py3-none-any.whl (237 kB)\n",
      "\u001b[K     |████████████████████████████████| 237 kB 59.4 MB/s \n",
      "\u001b[?25hCollecting tokenizers~=0.10.3\n",
      "  Downloading tokenizers-0.10.3-cp37-cp37m-manylinux_2_5_x86_64.manylinux1_x86_64.manylinux_2_12_x86_64.manylinux2010_x86_64.whl (3.3 MB)\n",
      "\u001b[K     |████████████████████████████████| 3.3 MB 43.8 MB/s \n",
      "\u001b[?25hRequirement already satisfied: dill~=0.3.4 in /usr/local/lib/python3.7/dist-packages (from pydata-wrangler) (0.3.4)\n",
      "Collecting sentence-transformers~=2.0.0\n",
      "  Downloading sentence-transformers-2.0.0.tar.gz (85 kB)\n",
      "\u001b[K     |████████████████████████████████| 85 kB 4.5 MB/s \n",
      "\u001b[?25hRequirement already satisfied: scipy in /usr/local/lib/python3.7/dist-packages (from pydata-wrangler) (1.4.1)\n",
      "Requirement already satisfied: six~=1.15.0 in /usr/local/lib/python3.7/dist-packages (from pydata-wrangler) (1.15.0)\n",
      "Collecting matplotlib~=3.3.4\n",
      "  Downloading matplotlib-3.3.4-cp37-cp37m-manylinux1_x86_64.whl (11.5 MB)\n",
      "\u001b[K     |████████████████████████████████| 11.5 MB 19.0 MB/s \n",
      "\u001b[?25hCollecting sentencepiece==0.1.95\n",
      "  Downloading sentencepiece-0.1.95-cp37-cp37m-manylinux2014_x86_64.whl (1.2 MB)\n",
      "\u001b[K     |████████████████████████████████| 1.2 MB 44.2 MB/s \n",
      "\u001b[?25hCollecting transformers~=4.8.2\n",
      "  Downloading transformers-4.8.2-py3-none-any.whl (2.5 MB)\n",
      "\u001b[K     |████████████████████████████████| 2.5 MB 52.3 MB/s \n",
      "\u001b[?25hCollecting importlib-metadata==3.10.1\n",
      "  Downloading importlib_metadata-3.10.1-py3-none-any.whl (14 kB)\n",
      "Collecting pytorch-pretrained-bert~=0.6.2\n",
      "  Downloading pytorch_pretrained_bert-0.6.2-py3-none-any.whl (123 kB)\n",
      "\u001b[K     |████████████████████████████████| 123 kB 60.0 MB/s \n",
      "\u001b[?25hCollecting pytorch-transformers~=1.1.0\n",
      "  Downloading pytorch_transformers-1.1.0-py3-none-any.whl (158 kB)\n",
      "\u001b[K     |████████████████████████████████| 158 kB 54.3 MB/s \n",
      "\u001b[?25hCollecting datawrangler>=0.1.0\n",
      "  Downloading DataWrangler-0.2.tar.gz (53 kB)\n",
      "\u001b[K     |████████████████████████████████| 53 kB 2.0 MB/s \n",
      "\u001b[?25hRequirement already satisfied: numpy~=1.19.5 in /usr/local/lib/python3.7/dist-packages (from pydata-wrangler) (1.19.5)\n",
      "Collecting requests~=2.26.0\n",
      "  Downloading requests-2.26.0-py2.py3-none-any.whl (62 kB)\n",
      "\u001b[K     |████████████████████████████████| 62 kB 822 kB/s \n",
      "\u001b[?25hRequirement already satisfied: pandas in /usr/local/lib/python3.7/dist-packages (from pydata-wrangler) (1.1.5)\n",
      "Collecting scikit-learn~=0.24.2\n",
      "  Downloading scikit_learn-0.24.2-cp37-cp37m-manylinux2010_x86_64.whl (22.3 MB)\n",
      "\u001b[K     |████████████████████████████████| 22.3 MB 30 kB/s \n",
      "\u001b[?25hRequirement already satisfied: typing-extensions>=3.6.4 in /usr/local/lib/python3.7/dist-packages (from importlib-metadata==3.10.1->pydata-wrangler) (3.7.4.3)\n",
      "Requirement already satisfied: zipp>=0.5 in /usr/local/lib/python3.7/dist-packages (from importlib-metadata==3.10.1->pydata-wrangler) (3.6.0)\n",
      "Collecting overrides<4.0.0,>=3.0.0\n",
      "  Downloading overrides-3.1.0.tar.gz (11 kB)\n",
      "Requirement already satisfied: multiprocess in /usr/local/lib/python3.7/dist-packages (from datasets~=1.8.0->pydata-wrangler) (0.70.12.2)\n",
      "Requirement already satisfied: pyarrow<4.0.0,>=1.0.0 in /usr/local/lib/python3.7/dist-packages (from datasets~=1.8.0->pydata-wrangler) (3.0.0)\n",
      "Requirement already satisfied: packaging in /usr/local/lib/python3.7/dist-packages (from datasets~=1.8.0->pydata-wrangler) (21.0)\n",
      "Collecting huggingface-hub<0.1.0\n",
      "  Downloading huggingface_hub-0.0.19-py3-none-any.whl (56 kB)\n",
      "\u001b[K     |████████████████████████████████| 56 kB 4.7 MB/s \n",
      "\u001b[?25hCollecting fsspec\n",
      "  Downloading fsspec-2021.10.1-py3-none-any.whl (125 kB)\n",
      "\u001b[K     |████████████████████████████████| 125 kB 68.9 MB/s \n",
      "\u001b[?25hCollecting xxhash\n",
      "  Downloading xxhash-2.0.2-cp37-cp37m-manylinux2010_x86_64.whl (243 kB)\n",
      "\u001b[K     |████████████████████████████████| 243 kB 38.9 MB/s \n",
      "\u001b[?25hRequirement already satisfied: gensim<=3.8.3,>=3.4.0 in /usr/local/lib/python3.7/dist-packages (from flair~=0.8.0.post1->pydata-wrangler) (3.6.0)\n",
      "Collecting deprecated>=1.2.4\n",
      "  Downloading Deprecated-1.2.13-py2.py3-none-any.whl (9.6 kB)\n",
      "Requirement already satisfied: python-dateutil>=2.6.1 in /usr/local/lib/python3.7/dist-packages (from flair~=0.8.0.post1->pydata-wrangler) (2.8.2)\n",
      "Collecting sqlitedict>=1.6.0\n",
      "  Downloading sqlitedict-1.7.0.tar.gz (28 kB)\n",
      "Collecting janome\n",
      "  Downloading Janome-0.4.1-py2.py3-none-any.whl (19.7 MB)\n",
      "\u001b[K     |████████████████████████████████| 19.7 MB 4.9 MB/s \n",
      "\u001b[?25hCollecting gdown==3.12.2\n",
      "  Downloading gdown-3.12.2.tar.gz (8.2 kB)\n",
      "  Installing build dependencies ... \u001b[?25l\u001b[?25hdone\n",
      "  Getting requirements to build wheel ... \u001b[?25l\u001b[?25hdone\n",
      "    Preparing wheel metadata ... \u001b[?25l\u001b[?25hdone\n",
      "Collecting mpld3==0.3\n",
      "  Downloading mpld3-0.3.tar.gz (788 kB)\n",
      "\u001b[K     |████████████████████████████████| 788 kB 32.2 MB/s \n",
      "\u001b[?25hCollecting langdetect\n",
      "  Downloading langdetect-1.0.9.tar.gz (981 kB)\n",
      "\u001b[K     |████████████████████████████████| 981 kB 42.6 MB/s \n",
      "\u001b[?25hCollecting ftfy\n",
      "  Downloading ftfy-6.0.3.tar.gz (64 kB)\n",
      "\u001b[K     |████████████████████████████████| 64 kB 1.3 MB/s \n",
      "\u001b[?25hRequirement already satisfied: hyperopt>=0.1.1 in /usr/local/lib/python3.7/dist-packages (from flair~=0.8.0.post1->pydata-wrangler) (0.1.2)\n",
      "Requirement already satisfied: regex in /usr/local/lib/python3.7/dist-packages (from flair~=0.8.0.post1->pydata-wrangler) (2019.12.20)\n",
      "Collecting bpemb>=0.3.2\n",
      "  Downloading bpemb-0.3.3-py3-none-any.whl (19 kB)\n",
      "Collecting segtok>=1.5.7\n",
      "  Downloading segtok-1.5.10.tar.gz (25 kB)\n",
      "Requirement already satisfied: tabulate in /usr/local/lib/python3.7/dist-packages (from flair~=0.8.0.post1->pydata-wrangler) (0.8.9)\n",
      "Requirement already satisfied: lxml in /usr/local/lib/python3.7/dist-packages (from flair~=0.8.0.post1->pydata-wrangler) (4.2.6)\n",
      "Requirement already satisfied: filelock in /usr/local/lib/python3.7/dist-packages (from gdown==3.12.2->flair~=0.8.0.post1->pydata-wrangler) (3.3.0)\n",
      "Requirement already satisfied: requests[socks] in /usr/local/lib/python3.7/dist-packages (from gdown==3.12.2->flair~=0.8.0.post1->pydata-wrangler) (2.23.0)\n",
      "Requirement already satisfied: wrapt<2,>=1.10 in /usr/local/lib/python3.7/dist-packages (from deprecated>=1.2.4->flair~=0.8.0.post1->pydata-wrangler) (1.12.1)\n",
      "Requirement already satisfied: smart-open>=1.2.1 in /usr/local/lib/python3.7/dist-packages (from gensim<=3.8.3,>=3.4.0->flair~=0.8.0.post1->pydata-wrangler) (5.2.1)\n",
      "Requirement already satisfied: pyyaml in /usr/local/lib/python3.7/dist-packages (from huggingface-hub<0.1.0->datasets~=1.8.0->pydata-wrangler) (3.13)\n",
      "Requirement already satisfied: future in /usr/local/lib/python3.7/dist-packages (from hyperopt>=0.1.1->flair~=0.8.0.post1->pydata-wrangler) (0.16.0)\n",
      "Requirement already satisfied: pymongo in /usr/local/lib/python3.7/dist-packages (from hyperopt>=0.1.1->flair~=0.8.0.post1->pydata-wrangler) (3.12.0)\n",
      "Requirement already satisfied: networkx in /usr/local/lib/python3.7/dist-packages (from hyperopt>=0.1.1->flair~=0.8.0.post1->pydata-wrangler) (2.6.3)\n",
      "Requirement already satisfied: pyparsing!=2.0.4,!=2.1.2,!=2.1.6,>=2.0.3 in /usr/local/lib/python3.7/dist-packages (from matplotlib~=3.3.4->pydata-wrangler) (2.4.7)\n",
      "Requirement already satisfied: kiwisolver>=1.0.1 in /usr/local/lib/python3.7/dist-packages (from matplotlib~=3.3.4->pydata-wrangler) (1.3.2)\n",
      "Requirement already satisfied: cycler>=0.10 in /usr/local/lib/python3.7/dist-packages (from matplotlib~=3.3.4->pydata-wrangler) (0.10.0)\n",
      "Collecting boto3\n",
      "  Downloading boto3-1.19.2-py3-none-any.whl (131 kB)\n",
      "\u001b[K     |████████████████████████████████| 131 kB 45.5 MB/s \n",
      "\u001b[?25hRequirement already satisfied: urllib3<1.27,>=1.21.1 in /usr/local/lib/python3.7/dist-packages (from requests~=2.26.0->pydata-wrangler) (1.24.3)\n",
      "Requirement already satisfied: idna<4,>=2.5 in /usr/local/lib/python3.7/dist-packages (from requests~=2.26.0->pydata-wrangler) (2.10)\n",
      "Requirement already satisfied: charset-normalizer~=2.0.0 in /usr/local/lib/python3.7/dist-packages (from requests~=2.26.0->pydata-wrangler) (2.0.6)\n",
      "Requirement already satisfied: certifi>=2017.4.17 in /usr/local/lib/python3.7/dist-packages (from requests~=2.26.0->pydata-wrangler) (2021.5.30)\n",
      "Requirement already satisfied: joblib>=0.11 in /usr/local/lib/python3.7/dist-packages (from scikit-learn~=0.24.2->pydata-wrangler) (1.0.1)\n",
      "Collecting threadpoolctl>=2.0.0\n",
      "  Downloading threadpoolctl-3.0.0-py3-none-any.whl (14 kB)\n",
      "Requirement already satisfied: nltk in /usr/local/lib/python3.7/dist-packages (from sentence-transformers~=2.0.0->pydata-wrangler) (3.2.5)\n",
      "Collecting huggingface-hub<0.1.0\n",
      "  Downloading huggingface_hub-0.0.12-py3-none-any.whl (37 kB)\n",
      "Collecting sacremoses\n",
      "  Downloading sacremoses-0.0.46-py3-none-any.whl (895 kB)\n",
      "\u001b[K     |████████████████████████████████| 895 kB 43.4 MB/s \n",
      "\u001b[?25hCollecting botocore<1.23.0,>=1.22.2\n",
      "  Downloading botocore-1.22.2-py3-none-any.whl (8.0 MB)\n",
      "\u001b[K     |████████████████████████████████| 8.0 MB 28.9 MB/s \n",
      "\u001b[?25hCollecting jmespath<1.0.0,>=0.7.1\n",
      "  Downloading jmespath-0.10.0-py2.py3-none-any.whl (24 kB)\n",
      "Collecting s3transfer<0.6.0,>=0.5.0\n",
      "  Downloading s3transfer-0.5.0-py3-none-any.whl (79 kB)\n",
      "\u001b[K     |████████████████████████████████| 79 kB 6.4 MB/s \n",
      "\u001b[?25hCollecting urllib3<1.27,>=1.21.1\n",
      "  Downloading urllib3-1.26.7-py2.py3-none-any.whl (138 kB)\n",
      "\u001b[K     |████████████████████████████████| 138 kB 54.8 MB/s \n",
      "\u001b[?25hRequirement already satisfied: wcwidth in /usr/local/lib/python3.7/dist-packages (from ftfy->flair~=0.8.0.post1->pydata-wrangler) (0.2.5)\n",
      "Requirement already satisfied: pytz>=2017.2 in /usr/local/lib/python3.7/dist-packages (from pandas->pydata-wrangler) (2018.9)\n",
      "Requirement already satisfied: PySocks!=1.5.7,>=1.5.6 in /usr/local/lib/python3.7/dist-packages (from requests~=2.26.0->pydata-wrangler) (1.7.1)\n",
      "Requirement already satisfied: click in /usr/local/lib/python3.7/dist-packages (from sacremoses->transformers~=4.8.2->pydata-wrangler) (7.1.2)\n",
      "Building wheels for collected packages: datawrangler, gdown, mpld3, overrides, segtok, sentence-transformers, sqlitedict, ftfy, langdetect\n",
      "  Building wheel for datawrangler (setup.py) ... \u001b[?25l\u001b[?25hdone\n",
      "  Created wheel for datawrangler: filename=DataWrangler-0.2-py3-none-any.whl size=11755 sha256=e08898bfb5c3ff1db0848edb3709af8426b2a1b251aea8d8ec24b4bcc7646f72\n",
      "  Stored in directory: /root/.cache/pip/wheels/c9/59/2b/9dfd12fca2c1e2ff67e55d0545c804abde37ef9b31ae5872b3\n",
      "  Building wheel for gdown (PEP 517) ... \u001b[?25l\u001b[?25hdone\n",
      "  Created wheel for gdown: filename=gdown-3.12.2-py3-none-any.whl size=9704 sha256=006457ffd456c05da1d94024fb47344c65687d6268ed6137041739c6582e33bc\n",
      "  Stored in directory: /root/.cache/pip/wheels/ba/e0/7e/726e872a53f7358b4b96a9975b04e98113b005cd8609a63abc\n",
      "  Building wheel for mpld3 (setup.py) ... \u001b[?25l\u001b[?25hdone\n",
      "  Created wheel for mpld3: filename=mpld3-0.3-py3-none-any.whl size=116702 sha256=b36695238e00ff12189eafb1289e24afb8fc2886472b2a8757e4545760ba3714\n",
      "  Stored in directory: /root/.cache/pip/wheels/26/70/6a/1c79e59951a41b4045497da187b2724f5659ca64033cf4548e\n",
      "  Building wheel for overrides (setup.py) ... \u001b[?25l\u001b[?25hdone\n",
      "  Created wheel for overrides: filename=overrides-3.1.0-py3-none-any.whl size=10186 sha256=4fa860a9bbe7d3f1930f5d08da009b2bd745ff0dd5740326716d717df26c8e92\n",
      "  Stored in directory: /root/.cache/pip/wheels/3a/0d/38/01a9bc6e20dcfaf0a6a7b552d03137558ba1c38aea47644682\n",
      "  Building wheel for segtok (setup.py) ... \u001b[?25l\u001b[?25hdone\n",
      "  Created wheel for segtok: filename=segtok-1.5.10-py3-none-any.whl size=25030 sha256=6bae0a295df41e47edf11e9a7d169a786cbf9a0dc600dae6e6370af75d13170d\n",
      "  Stored in directory: /root/.cache/pip/wheels/67/b7/d0/a121106e61339eee5ed083bc230b1c8dc422c49a5a28c2addd\n",
      "  Building wheel for sentence-transformers (setup.py) ... \u001b[?25l\u001b[?25hdone\n",
      "  Created wheel for sentence-transformers: filename=sentence_transformers-2.0.0-py3-none-any.whl size=126710 sha256=fcc0cf59e012fd7b2807ea1c8afeb8caee7fbf387e99c08de2896f93cfe77b92\n",
      "  Stored in directory: /root/.cache/pip/wheels/d1/c1/0f/faafd427f705c4b012274ba60d9a91d75830306811e1355293\n",
      "  Building wheel for sqlitedict (setup.py) ... \u001b[?25l\u001b[?25hdone\n",
      "  Created wheel for sqlitedict: filename=sqlitedict-1.7.0-py3-none-any.whl size=14392 sha256=eb7f3417b162d95747b2546531c4d2c93454b5f101a9a1b06cb5d137da0af43d\n",
      "  Stored in directory: /root/.cache/pip/wheels/af/94/06/18c0e83e9e227da8f3582810b51f319bbfd181e508676a56c8\n",
      "  Building wheel for ftfy (setup.py) ... \u001b[?25l\u001b[?25hdone\n",
      "  Created wheel for ftfy: filename=ftfy-6.0.3-py3-none-any.whl size=41933 sha256=892ee0c437b3107898d2dd1c74ed7b11eaa5ae34b31fc5537d85dbcc1fee5537\n",
      "  Stored in directory: /root/.cache/pip/wheels/19/f5/38/273eb3b5e76dfd850619312f693716ac4518b498f5ffb6f56d\n",
      "  Building wheel for langdetect (setup.py) ... \u001b[?25l\u001b[?25hdone\n",
      "  Created wheel for langdetect: filename=langdetect-1.0.9-py3-none-any.whl size=993242 sha256=0fe2782c901abc07ace140e2ebfa80ee047c9be4eb859c45640396b0dafcd41b\n",
      "  Stored in directory: /root/.cache/pip/wheels/c5/96/8a/f90c59ed25d75e50a8c10a1b1c2d4c402e4dacfa87f3aff36a\n",
      "Successfully built datawrangler gdown mpld3 overrides segtok sentence-transformers sqlitedict ftfy langdetect\n",
      "Installing collected packages: urllib3, jmespath, tqdm, requests, importlib-metadata, botocore, torch, tokenizers, threadpoolctl, sentencepiece, sacremoses, s3transfer, overrides, huggingface-hub, xxhash, transformers, torchvision, sqlitedict, segtok, scikit-learn, mpld3, matplotlib, langdetect, konoha, janome, gdown, ftfy, fsspec, deprecated, bpemb, boto3, sentence-transformers, pytorch-transformers, pytorch-pretrained-bert, flair, datawrangler, datasets, configparser, pydata-wrangler\n",
      "  Attempting uninstall: urllib3\n",
      "    Found existing installation: urllib3 1.24.3\n",
      "    Uninstalling urllib3-1.24.3:\n",
      "      Successfully uninstalled urllib3-1.24.3\n",
      "  Attempting uninstall: tqdm\n",
      "    Found existing installation: tqdm 4.62.3\n",
      "    Uninstalling tqdm-4.62.3:\n",
      "      Successfully uninstalled tqdm-4.62.3\n",
      "  Attempting uninstall: requests\n",
      "    Found existing installation: requests 2.23.0\n",
      "    Uninstalling requests-2.23.0:\n",
      "      Successfully uninstalled requests-2.23.0\n",
      "  Attempting uninstall: importlib-metadata\n",
      "    Found existing installation: importlib-metadata 4.8.1\n",
      "    Uninstalling importlib-metadata-4.8.1:\n",
      "      Successfully uninstalled importlib-metadata-4.8.1\n",
      "  Attempting uninstall: torch\n",
      "    Found existing installation: torch 1.9.0+cu111\n",
      "    Uninstalling torch-1.9.0+cu111:\n",
      "      Successfully uninstalled torch-1.9.0+cu111\n",
      "  Attempting uninstall: torchvision\n",
      "    Found existing installation: torchvision 0.10.0+cu111\n",
      "    Uninstalling torchvision-0.10.0+cu111:\n",
      "      Successfully uninstalled torchvision-0.10.0+cu111\n",
      "  Attempting uninstall: scikit-learn\n",
      "    Found existing installation: scikit-learn 0.22.2.post1\n",
      "    Uninstalling scikit-learn-0.22.2.post1:\n",
      "      Successfully uninstalled scikit-learn-0.22.2.post1\n",
      "  Attempting uninstall: matplotlib\n",
      "    Found existing installation: matplotlib 3.2.2\n",
      "    Uninstalling matplotlib-3.2.2:\n",
      "      Successfully uninstalled matplotlib-3.2.2\n",
      "  Attempting uninstall: gdown\n",
      "    Found existing installation: gdown 3.6.4\n",
      "    Uninstalling gdown-3.6.4:\n",
      "      Successfully uninstalled gdown-3.6.4\n",
      "\u001b[31mERROR: pip's dependency resolver does not currently take into account all the packages that are installed. This behaviour is the source of the following dependency conflicts.\n",
      "torchtext 0.10.0 requires torch==1.9.0, but you have torch 1.7.1 which is incompatible.\n",
      "hypertools 0.7.0 requires scikit-learn!=0.22,<0.24,>=0.19.1, but you have scikit-learn 0.24.2 which is incompatible.\n",
      "google-colab 1.0.0 requires requests~=2.23.0, but you have requests 2.26.0 which is incompatible.\n",
      "datascience 0.10.6 requires folium==0.2.1, but you have folium 0.8.3 which is incompatible.\n",
      "albumentations 0.1.12 requires imgaug<0.2.7,>=0.2.5, but you have imgaug 0.2.9 which is incompatible.\u001b[0m\n",
      "Successfully installed boto3-1.19.2 botocore-1.22.2 bpemb-0.3.3 configparser-5.0.2 datasets-1.8.0 datawrangler-0.2 deprecated-1.2.13 flair-0.8.0.post1 fsspec-2021.10.1 ftfy-6.0.3 gdown-3.12.2 huggingface-hub-0.0.12 importlib-metadata-3.10.1 janome-0.4.1 jmespath-0.10.0 konoha-4.6.5 langdetect-1.0.9 matplotlib-3.3.4 mpld3-0.3 overrides-3.1.0 pydata-wrangler-0.1.7 pytorch-pretrained-bert-0.6.2 pytorch-transformers-1.1.0 requests-2.26.0 s3transfer-0.5.0 sacremoses-0.0.46 scikit-learn-0.24.2 segtok-1.5.10 sentence-transformers-2.0.0 sentencepiece-0.1.95 sqlitedict-1.7.0 threadpoolctl-3.0.0 tokenizers-0.10.3 torch-1.7.1 torchvision-0.8.2 tqdm-4.49.0 transformers-4.8.2 urllib3-1.26.7 xxhash-2.0.2\n"
     ]
    },
    {
     "data": {
      "application/vnd.colab-display-data+json": {
       "pip_warning": {
        "packages": [
         "configparser",
         "matplotlib",
         "mpl_toolkits",
         "requests",
         "sklearn",
         "urllib3"
        ]
       }
      }
     },
     "metadata": {},
     "output_type": "display_data"
    }
   ],
   "source": [
    "!pip install pydata-wrangler"
   ]
  },
  {
   "cell_type": "code",
   "execution_count": 5,
   "metadata": {
    "executionInfo": {
     "elapsed": 3431,
     "status": "ok",
     "timestamp": 1635114229472,
     "user": {
      "displayName": "Gokul Srinivasan",
      "photoUrl": "https://lh3.googleusercontent.com/a/default-user=s64",
      "userId": "01072835723997484871"
     },
     "user_tz": 240
    },
    "id": "adq2iyl5c74T"
   },
   "outputs": [],
   "source": [
    "import datawrangler as dw"
   ]
  },
  {
   "cell_type": "code",
   "execution_count": 6,
   "metadata": {
    "executionInfo": {
     "elapsed": 806,
     "status": "ok",
     "timestamp": 1635114230275,
     "user": {
      "displayName": "Gokul Srinivasan",
      "photoUrl": "https://lh3.googleusercontent.com/a/default-user=s64",
      "userId": "01072835723997484871"
     },
     "user_tz": 240
    },
    "id": "YLS5jrMAc9wj"
   },
   "outputs": [],
   "source": [
    "import pandas as pd \n",
    "import numpy as np \n",
    "import re\n",
    "\n",
    "df = pd.read_csv('https://raw.githubusercontent.com/gokulsrin/PossibilityGeneration/main/Full/IndDiffGenerationFull.csv')"
   ]
  },
  {
   "cell_type": "code",
   "execution_count": 7,
   "metadata": {
    "executionInfo": {
     "elapsed": 142,
     "status": "ok",
     "timestamp": 1635114230415,
     "user": {
      "displayName": "Gokul Srinivasan",
      "photoUrl": "https://lh3.googleusercontent.com/a/default-user=s64",
      "userId": "01072835723997484871"
     },
     "user_tz": 240
    },
    "id": "BexG5GsHk-dr"
   },
   "outputs": [],
   "source": [
    "#the experiment i want to run is as such: I want to look at all of the first possibilities generated, cluster them, and see whether the clusters correspond to beck scores\n",
    "g = df.groupby(\"completionCode\")\n",
    "\n",
    "#array pos containing all possibiilties\n",
    "pos = []\n",
    "#corresponding ids array tracking the person it came from such that the id of pos[3] is ids[3]\n",
    "ids = []\n",
    "\n",
    "for id, group in g:\n",
    "  rows = group.iloc[0:60, 16]\n",
    "  vigns = np.split(rows, 10)\n",
    "  for vign in vigns:\n",
    "    vign = list(vign)\n",
    "    if not pd.isna(vign[0]):\n",
    "      pos.append(vign[0])\n",
    "      ids.append(id)"
   ]
  },
  {
   "cell_type": "code",
   "execution_count": 8,
   "metadata": {
    "executionInfo": {
     "elapsed": 169,
     "status": "ok",
     "timestamp": 1635114230582,
     "user": {
      "displayName": "Gokul Srinivasan",
      "photoUrl": "https://lh3.googleusercontent.com/a/default-user=s64",
      "userId": "01072835723997484871"
     },
     "user_tz": 240
    },
    "id": "SOg3u9a_o5_I"
   },
   "outputs": [],
   "source": [
    "bdi_options = {\"Sadness\": [\"0 -- I do not feel sad.\", \"1 -- I feel sad much of the time.\", \"2 -- I am sad all the time.\", \"3 -- I am so sad or unhappy I can't stand it.\"],\n",
    "\n",
    "    \"Pessimism\": [\"0 -- I am not discouraged about my future.\", \"1 -- I feel more discouraged about my future than I used to be.\",\n",
    "        \"2 -- I do not expect things to work out for me.\", \"3 -- I feel my future is hopeless and will only get worse.\"],\n",
    "\n",
    "    \"PastFailure\": [\"0 -- I do not feel like a failure.\", \"1 -- I feel more discouraged about my future than I used to\",\n",
    "        \"2 -- As I look back I see a lot of failures.\", \"3 -- I feel I am a total failure as a person\"],\n",
    "\n",
    "    \"LossofPleasure\": [\"0 -- I get as much pleasure as I ever did from the things I enjoy.\", \"1 -- I don't enjoy things as much as I used to.\",\n",
    "        \"2 -- I get very little pleasure from the things I used to enjoy.\", \"3 -- I can't get any pleasure from the things I used to enjoy.\"],\n",
    "\n",
    "    \"GuiltyFeelings\": [\"0 -- I don't feel particularly guilty.\", \"1 -- I feel guilty over many things I have done or should have done.\",\n",
    "        \"2 -- I feel quite guilty most of the time.\", \"3 -- I feel guilty all of the time.\"],\n",
    "\n",
    "    \"PunishmentFeelings\": [\"0 -- I don't feel I am being punished.\", \"1 -- I feel I may be punished.\",\n",
    "        \"2 -- I expect to be punished.\", \" 3 -- I feel I am being punished.\"],\n",
    "\n",
    "    \"SelfDislike\": [\"0 -- I feel the same about myself as ever.\", \"1 -- I have lost confidence in myself.\",\n",
    "        \"2 -- I am disappointed in myself.\", \"3 -- I dislike myself. \"],\n",
    "\n",
    "    \"SelfCriticalness\": [\"0 -- I don't criticize or blame myself more than usual.\", \"1 -- I am more critical of myself than I used to be.\",\n",
    "    \"2 -- I criticize myself for all of my faults.\", \"3 -- I blame myself for everything bad that happens.\"],\n",
    "\n",
    "    \"Crying\": [\"0 -- I don't cry anymore than I used to.\", \"1 -- I cry more than I used to.\",\n",
    "        \"2 -- I cry over every little thing.\", \"3 -- I feel like crying but I can't.\"],\n",
    "\n",
    "    \"Agitation\": [\"0 -- I am no more restless or wound up than usual.\", \"1 -- I feel more restless or wound up than usual.\",\n",
    "        \"2 -- I am so restless or agitated that it's hard to stay still.\", \"3 -- I am so restless or agitated that I have to keep moving or doing something.\"],\n",
    "\n",
    "    \"LossofInterest\": [\"0 -- I have not lost interest in other people or activities.\", \"1 -- I am less interested in other people or things than before.\",\n",
    "        \"2 -- I have lost most of my interest in other people or things.\", \"3 -- It's hard to get interested in anything. \"],\n",
    "\n",
    "    \"Indecisiveness\": [\"0 -- I make decisions about as well as ever.\", \"1 -- I find it more difficult to make decisions than usual.\",\n",
    "        \"2 -- have much greater difficulty in making decisions than I used to.\", \"3 -- I have trouble making any decisions.\"],\n",
    "\n",
    "    \"Worthlessness\": [\"0 -- I do not feel I am worthless.\", \"1 -- I don't consider myself as worthwhile and useful as I used to.\", \n",
    "        \"2 -- I feel more worthless as compared to other people.\", \"3 -- I feel utterly worthless.\"],\n",
    "\n",
    "    \"LossofEnergy\": [\"0 -- I have as much energy as ever.\", \"1 -- I have less energy than I used to have.\",\n",
    "        \"2 -- I don't have enough energy to do very much.\", \"3 -- I don't have enough energy to do anything. \"],\n",
    "\n",
    "    \"ChangesinSleepingPattern\": [\"0 -- I have not experienced any change in my sleeping pattern.\", \"1a -- I sleep somewhat more than usual.\",\n",
    "        \"1b -- I sleep somewhat less than usual.\", \"2a -- I sleep a lot more than usual.\", \"2b -- I sleep a lot less than usual.\",\n",
    "        \"3a -- I sleep most of the day.\", \"3b -- I wake up 1-2 hours early and can't get back to sleep.\"],\n",
    "\n",
    "    \"Irratability\": [\"0 -- I am no more irritable than usual.\", \"1 -- I am more irritable than usual.\",\n",
    "        \"2 -- I am much more irritable than usual.\", \"3 -- I am irritable all the time.\"],\n",
    "\n",
    "    \"ChangesinAppetite\": [\"0 -- I have not experienced any change in my appetite.\", \"1a -- My appetite is somewhat less than usual.\",\n",
    "        \"1b -- My appetite is somewhat greater than usual.\", \"2a -- My appetite is much less than before.\",\n",
    "        \"2b -- My appetite is much greater than usual.\", \"3a -- I have no appetite at all.\", \"3b -- I crave food all the time.\"],\n",
    "\n",
    "    \"ConcentrationDifficulty\": [\"0 -- I can concentrate as well as ever.\", \"1 -- I can't concentrate as well as usual.\",\n",
    "        \"2 -- It's hard to keep my mind on anything for very long.\", \"3 -- I find I can't concentrate on anything.\"],\n",
    "\n",
    "    \"TirednessorFatigue\": [\"0 -- I am no more tired or fatigued than usual.\", \"1 -- I get more tired or fatigued more easily than usual.\",\n",
    "        \"2 -- I am too tired or fatigued to do a lot of the things I used to do.\", \"3 -- I am too tired or fatigued to do most of the things I used to do.\"],\n",
    "\n",
    "    \"LossofInterestinSex\": [\"0 -- I have not noticed any recent change in my interest in sex.\", \"1 -- I am less interested in sex than I used to be.\",\n",
    "        \"2 -- I am much less interested in sex now.\", \"3 -- I have lost interest in sex completely.\"]\n",
    "}\n",
    "\n",
    "#make a dictionary that maps scores to specific bdi options for efficiency later on (e.g., {1: \"I feel sad all the time\"})\n",
    "bdi_dic = {}\n",
    "for key in bdi_options:\n",
    "    options = bdi_options.get(key)\n",
    "    for option in options:\n",
    "        ops = option.split(\"--\")\n",
    "        score = re.sub(\"[^0-9]\", \"\", ops[0])\n",
    "        text = ops[1].strip()\n",
    "        bdi_dic[text] = score\n",
    "#make dic for bai scoring\n",
    "bai_dic = {\"Not at all.\":0, \"Mildly but it didn't bother me much.\": 1, \"Moderately - it wasn't pleasant at time.\": 2, \"Severely - it bothered me a lot.\":3}\n"
   ]
  },
  {
   "cell_type": "code",
   "execution_count": 9,
   "metadata": {
    "executionInfo": {
     "elapsed": 6,
     "status": "ok",
     "timestamp": 1635114230583,
     "user": {
      "displayName": "Gokul Srinivasan",
      "photoUrl": "https://lh3.googleusercontent.com/a/default-user=s64",
      "userId": "01072835723997484871"
     },
     "user_tz": 240
    },
    "id": "pa-3om9oMs9W"
   },
   "outputs": [],
   "source": [
    "participants = df.groupby(\"completionCode\")\n",
    "scores = {}\n",
    "#calc average sentiemnt score for each participant\n",
    "for id, info in participants:\n",
    "  #init certiain things \n",
    "  scores[id] = {}\n",
    "  scores.get(id)['bdi'] = 0 \n",
    "  scores.get(id)['bai'] = 0 \n",
    "  for response in info['response']:\n",
    "    #if it is bdi response\n",
    "    if bdi_dic.get(response) != None:\n",
    "      scores.get(id)['bdi'] = scores.get(id).get('bdi') + int(bdi_dic.get(response))\n",
    "    #if bai response\n",
    "    if bai_dic.get(response) != None:\n",
    "      scores.get(id)['bai'] = scores.get(id).get('bai') +int(bai_dic.get(response))\n",
    "  scores.get(id)['beck'] = scores.get(id).get('bai') + scores.get(id).get('bdi')"
   ]
  },
  {
   "cell_type": "code",
   "execution_count": 10,
   "metadata": {
    "executionInfo": {
     "elapsed": 5,
     "status": "ok",
     "timestamp": 1635114230583,
     "user": {
      "displayName": "Gokul Srinivasan",
      "photoUrl": "https://lh3.googleusercontent.com/a/default-user=s64",
      "userId": "01072835723997484871"
     },
     "user_tz": 240
    },
    "id": "idc6UxgnuZXb"
   },
   "outputs": [],
   "source": [
    "#cleaning out some of the folks who have ridiculous and innac. beck scores\n",
    "# toremove = set()\n",
    "# for p in scores:\n",
    "#     if scores.get(p).get('beck') > 55:\n",
    "#       toremove.add(p)\n",
    "# i = 0\n",
    "# while i < len(ids):\n",
    "#   if ids[i] in toremove:\n",
    "#     pos.pop(i)\n",
    "#     ids.pop(i) \n",
    "#     i -= 1\n",
    "#   i += 1"
   ]
  },
  {
   "cell_type": "code",
   "execution_count": 24,
   "metadata": {
    "executionInfo": {
     "elapsed": 204986,
     "status": "ok",
     "timestamp": 1635114936456,
     "user": {
      "displayName": "Gokul Srinivasan",
      "photoUrl": "https://lh3.googleusercontent.com/a/default-user=s64",
      "userId": "01072835723997484871"
     },
     "user_tz": 240
    },
    "id": "-GBy0Ec5znSU"
   },
   "outputs": [],
   "source": [
    "gpt2 = {'model': 'TransformerDocumentEmbeddings', 'args': ['gpt2'], 'kwargs': {}}\n",
    "embeddings = dw.wrangle(pos, text_kwargs={'model': gpt2})"
   ]
  },
  {
   "cell_type": "code",
   "execution_count": 25,
   "metadata": {
    "executionInfo": {
     "elapsed": 13,
     "status": "ok",
     "timestamp": 1635114936457,
     "user": {
      "displayName": "Gokul Srinivasan",
      "photoUrl": "https://lh3.googleusercontent.com/a/default-user=s64",
      "userId": "01072835723997484871"
     },
     "user_tz": 240
    },
    "id": "7GrKDmYU0Omq"
   },
   "outputs": [],
   "source": [
    "num_clusters = 3\n",
    "labels = hyp.cluster(embeddings, cluster='KMeans', n_clusters=num_clusters)"
   ]
  },
  {
   "cell_type": "code",
   "execution_count": 26,
   "metadata": {
    "executionInfo": {
     "elapsed": 13,
     "status": "ok",
     "timestamp": 1635114936458,
     "user": {
      "displayName": "Gokul Srinivasan",
      "photoUrl": "https://lh3.googleusercontent.com/a/default-user=s64",
      "userId": "01072835723997484871"
     },
     "user_tz": 240
    },
    "id": "ft29ezPF1gcg"
   },
   "outputs": [],
   "source": [
    "clusters = [set() for i in range(num_clusters)]\n",
    "for i in range(len(labels)):\n",
    "  if ids[i] not in toremove:\n",
    "    clusters[labels[i]].add(ids[i])\n",
    "  "
   ]
  },
  {
   "cell_type": "code",
   "execution_count": null,
   "metadata": {
    "id": "U4Hrgx1uXk8K"
   },
   "outputs": [],
   "source": [
    "cluster"
   ]
  },
  {
   "cell_type": "code",
   "execution_count": 27,
   "metadata": {
    "executionInfo": {
     "elapsed": 213,
     "status": "ok",
     "timestamp": 1635114936658,
     "user": {
      "displayName": "Gokul Srinivasan",
      "photoUrl": "https://lh3.googleusercontent.com/a/default-user=s64",
      "userId": "01072835723997484871"
     },
     "user_tz": 240
    },
    "id": "GWqwqXGr18bD"
   },
   "outputs": [],
   "source": [
    "\n",
    "clusters_beck = [0] * num_clusters\n",
    "for i in range(len(clusters)):\n",
    "  s = 0 \n",
    "  for id in clusters[i]:\n",
    "    if  scores.get(id).get('beck') != None:\n",
    "      s += scores.get(id).get('beck')\n",
    "  if len(clusters[i]) > 0:\n",
    "    clusters_beck[i] = s/len(clusters[i])\n",
    "  else:\n",
    "    clusters_beck[i] = None"
   ]
  },
  {
   "cell_type": "code",
   "execution_count": 28,
   "metadata": {
    "colab": {
     "base_uri": "https://localhost:8080/"
    },
    "executionInfo": {
     "elapsed": 5,
     "status": "ok",
     "timestamp": 1635114936658,
     "user": {
      "displayName": "Gokul Srinivasan",
      "photoUrl": "https://lh3.googleusercontent.com/a/default-user=s64",
      "userId": "01072835723997484871"
     },
     "user_tz": 240
    },
    "id": "OUKtnV0C2rVk",
    "outputId": "af8ed708-1155-408c-d3e3-4d67d6ab2dd5"
   },
   "outputs": [
    {
     "data": {
      "text/plain": [
       "[12.50413223140496, 10.566666666666666, 12.13375796178344]"
      ]
     },
     "execution_count": 28,
     "metadata": {},
     "output_type": "execute_result"
    }
   ],
   "source": [
    "clusters_beck"
   ]
  },
  {
   "cell_type": "code",
   "execution_count": 29,
   "metadata": {
    "colab": {
     "base_uri": "https://localhost:8080/",
     "height": 295
    },
    "executionInfo": {
     "elapsed": 20778,
     "status": "ok",
     "timestamp": 1635114957433,
     "user": {
      "displayName": "Gokul Srinivasan",
      "photoUrl": "https://lh3.googleusercontent.com/a/default-user=s64",
      "userId": "01072835723997484871"
     },
     "user_tz": 240
    },
    "id": "LRjRQr4Fq3Oc",
    "outputId": "ae0cee04-ef0b-4f70-cc9b-db79c232c34c"
   },
   "outputs": [
    {
     "data": {
      "image/png": "[encoded data removed]",
      "text/plain": [
       "<Figure size 432x288 with 1 Axes>"
      ]
     },
     "metadata": {
      "needs_background": "light"
     },
     "output_type": "display_data"
    }
   ],
   "source": [
    "# FROM GEEKS FOR GEEKS\n",
    "from sklearn.cluster import KMeans\n",
    "from sklearn import metrics\n",
    "from scipy.spatial.distance import cdist\n",
    "import numpy as np\n",
    "import matplotlib.pyplot as plt\n",
    "\n",
    "# FROM GEEKS FOR GEEKS\n",
    "distortions = []\n",
    "inertias = []\n",
    "mapping1 = {}\n",
    "mapping2 = {}\n",
    "K = range(1, 10)\n",
    "X = embeddings\n",
    "\n",
    "for k in K:\n",
    "    # Building and fitting the model\n",
    "    kmeanModel = KMeans(n_clusters=k).fit(X)\n",
    "    kmeanModel.fit(X)\n",
    " \n",
    "    distortions.append(sum(np.min(cdist(X, kmeanModel.cluster_centers_,\n",
    "                                        'euclidean'), axis=1)) / X.shape[0])\n",
    "    inertias.append(kmeanModel.inertia_)\n",
    " \n",
    "    mapping1[k] = sum(np.min(cdist(X, kmeanModel.cluster_centers_,\n",
    "                                   'euclidean'), axis=1)) / X.shape[0]\n",
    "    mapping2[k] = kmeanModel.inertia_\n",
    "# FROM GEEKS FOR GEEKS\n",
    "plt.plot(K, distortions, 'bx-')\n",
    "plt.xlabel('Values of K')\n",
    "plt.ylabel('Distortion')\n",
    "plt.title('The Elbow Method using Distortion')\n",
    "plt.show()\n",
    "\n",
    "#per the method -- 3 clusters seem to be optimal "
   ]
  },
  {
   "cell_type": "markdown",
   "metadata": {
    "id": "EBGWn-f1t79R"
   },
   "source": [
    "Here, we will cluster at the participant level. We will take the first possibility for each participant, concat... and then there will be # participants rows, then cluster on this.."
   ]
  },
  {
   "cell_type": "code",
   "execution_count": 29,
   "metadata": {
    "executionInfo": {
     "elapsed": 3,
     "status": "ok",
     "timestamp": 1635114957433,
     "user": {
      "displayName": "Gokul Srinivasan",
      "photoUrl": "https://lh3.googleusercontent.com/a/default-user=s64",
      "userId": "01072835723997484871"
     },
     "user_tz": 240
    },
    "id": "B3QrxSt9wQvn"
   },
   "outputs": [],
   "source": [
    ""
   ]
  }
 ],
 "metadata": {
  "colab": {
   "authorship_tag": "ABX9TyMXt4v2FViDv2utHnKO6Z+K",
   "collapsed_sections": [],
   "name": "Possibility_Generation_Clustering.ipynb",
   "provenance": []
  },
  "kernelspec": {
   "display_name": "Python 3",
   "name": "python3"
  },
  "language_info": {
   "name": "python"
  }
 },
 "nbformat": 4,
 "nbformat_minor": 0
}
