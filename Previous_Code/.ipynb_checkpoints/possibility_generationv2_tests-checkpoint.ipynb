{
 "cells": [
  {
   "cell_type": "code",
   "execution_count": 1,
   "metadata": {
    "executionInfo": {
     "elapsed": 5,
     "status": "ok",
     "timestamp": 1643516688044,
     "user": {
      "displayName": "Gokul Srinivasan",
      "photoUrl": "https://lh3.googleusercontent.com/a/default-user=s64",
      "userId": "01072835723997484871"
     },
     "user_tz": 480
    },
    "id": "I6aJzs2npFkT"
   },
   "outputs": [],
   "source": [
    "import pandas as pd \n",
    "import numpy as np \n"
   ]
  },
  {
   "cell_type": "code",
   "execution_count": 2,
   "metadata": {
    "executionInfo": {
     "elapsed": 30800,
     "status": "ok",
     "timestamp": 1643516718840,
     "user": {
      "displayName": "Gokul Srinivasan",
      "photoUrl": "https://lh3.googleusercontent.com/a/default-user=s64",
      "userId": "01072835723997484871"
     },
     "user_tz": 480
    },
    "id": "O2VxWXTS9qHv"
   },
   "outputs": [],
   "source": [
    "%%capture\n",
    "!pip install transformers --upgrade\n",
    "!pip install mosestokenizer\n",
    "!pip install sentencepiece\n",
    "!pip install ast"
   ]
  },
  {
   "cell_type": "code",
   "execution_count": 3,
   "metadata": {
    "executionInfo": {
     "elapsed": 10820,
     "status": "ok",
     "timestamp": 1643516729655,
     "user": {
      "displayName": "Gokul Srinivasan",
      "photoUrl": "https://lh3.googleusercontent.com/a/default-user=s64",
      "userId": "01072835723997484871"
     },
     "user_tz": 480
    },
    "id": "evxq5mYA958q"
   },
   "outputs": [],
   "source": [
    "import torch\n",
    "import transformers\n",
    "from transformers import BertForSequenceClassification, XLMRobertaForSequenceClassification, AdamW, BertConfig, BertTokenizer, XLMRobertaTokenizer\n",
    "from torch.utils.data import TensorDataset, DataLoader\n",
    "import numpy as np\n",
    "from google.colab import drive\n",
    "import re\n",
    "from bs4 import BeautifulSoup"
   ]
  },
  {
   "cell_type": "code",
   "execution_count": 4,
   "metadata": {
    "colab": {
     "base_uri": "https://localhost:8080/"
    },
    "collapsed": true,
    "executionInfo": {
     "elapsed": 17294,
     "status": "ok",
     "timestamp": 1643516746939,
     "user": {
      "displayName": "Gokul Srinivasan",
      "photoUrl": "https://lh3.googleusercontent.com/a/default-user=s64",
      "userId": "01072835723997484871"
     },
     "user_tz": 480
    },
    "id": "LQngU_nG-ERC",
    "outputId": "52612ec3-44d5-45e4-d5eb-3e4147302f11"
   },
   "outputs": [
    {
     "name": "stdout",
     "output_type": "stream",
     "text": [
      "Mounted at /content/drive\n"
     ]
    }
   ],
   "source": [
    "drive.mount(\"/content/drive\", force_remount=True)"
   ]
  },
  {
   "cell_type": "code",
   "execution_count": 5,
   "metadata": {
    "colab": {
     "base_uri": "https://localhost:8080/",
     "height": 1000,
     "referenced_widgets": [
      "b06ff26e790e478cbc15debe0c39fda9",
      "037ce0e892004fa6b3819a019afb0319",
      "362e0bd64aad42209b32fe510400d663",
      "fe36d588487042c2963c43ec7869e1a5",
      "ea8a254c34b04c3db75a090d704a6df8",
      "007fb78b50a0480796c1aa30aef1fdc3",
      "c81ff00c09d449c7ba9c7d04d973d2f7",
      "b4f4f65055ce402c89a32a9fe5feea47",
      "2d47bb495dbf458bb68ae1615c5dfa6f",
      "f9d69c9476a44f4986eaac788ceaa559",
      "02e1562fb678410eb9fa996765ef1ea8",
      "e9fee3735cf94900a2bf835573e937b4",
      "1fc3aee1cf2f4dd7adf07b14d16ef40a",
      "804334339a374281a3cebfea52664749",
      "84e6d260d0e54a50bea3aa85b911f063",
      "c31fb2d59ce34a8ca084f4d9b2f017e0",
      "1ae39cddba8b4c9690457980d85590f5",
      "5c850016bf774468b6fb67fd4e53dd6b",
      "0c32babb60ae4a93bf7ad1b8b4b046ef",
      "8764e692aae94053bc89b685d50ca902",
      "d3899876c56b4e93b4b8a3f68c689c9b",
      "5562f4a59c6a450d82a0d9c9a6569bcf"
     ]
    },
    "executionInfo": {
     "elapsed": 23631,
     "status": "ok",
     "timestamp": 1643516770565,
     "user": {
      "displayName": "Gokul Srinivasan",
      "photoUrl": "https://lh3.googleusercontent.com/a/default-user=s64",
      "userId": "01072835723997484871"
     },
     "user_tz": 480
    },
    "id": "a6d3_pCj-GIJ",
    "outputId": "8aac6ebb-5e78-4fb0-cce9-1cc867b52275"
   },
   "outputs": [
    {
     "data": {
      "application/vnd.jupyter.widget-view+json": {
       "model_id": "b06ff26e790e478cbc15debe0c39fda9",
       "version_major": 2,
       "version_minor": 0
      },
      "text/plain": [
       "Downloading:   0%|          | 0.00/570 [00:00<?, ?B/s]"
      ]
     },
     "metadata": {},
     "output_type": "display_data"
    },
    {
     "data": {
      "application/vnd.jupyter.widget-view+json": {
       "model_id": "e9fee3735cf94900a2bf835573e937b4",
       "version_major": 2,
       "version_minor": 0
      },
      "text/plain": [
       "Downloading:   0%|          | 0.00/420M [00:00<?, ?B/s]"
      ]
     },
     "metadata": {},
     "output_type": "display_data"
    },
    {
     "name": "stderr",
     "output_type": "stream",
     "text": [
      "Some weights of the model checkpoint at bert-base-uncased were not used when initializing BertForSequenceClassification: ['cls.predictions.bias', 'cls.predictions.transform.LayerNorm.bias', 'cls.predictions.transform.dense.bias', 'cls.seq_relationship.bias', 'cls.predictions.decoder.weight', 'cls.predictions.transform.dense.weight', 'cls.predictions.transform.LayerNorm.weight', 'cls.seq_relationship.weight']\n",
      "- This IS expected if you are initializing BertForSequenceClassification from the checkpoint of a model trained on another task or with another architecture (e.g. initializing a BertForSequenceClassification model from a BertForPreTraining model).\n",
      "- This IS NOT expected if you are initializing BertForSequenceClassification from the checkpoint of a model that you expect to be exactly identical (initializing a BertForSequenceClassification model from a BertForSequenceClassification model).\n",
      "Some weights of BertForSequenceClassification were not initialized from the model checkpoint at bert-base-uncased and are newly initialized: ['classifier.bias', 'classifier.weight']\n",
      "You should probably TRAIN this model on a down-stream task to be able to use it for predictions and inference.\n"
     ]
    },
    {
     "data": {
      "text/plain": [
       "BertForSequenceClassification(\n",
       "  (bert): BertModel(\n",
       "    (embeddings): BertEmbeddings(\n",
       "      (word_embeddings): Embedding(30522, 768, padding_idx=0)\n",
       "      (position_embeddings): Embedding(512, 768)\n",
       "      (token_type_embeddings): Embedding(2, 768)\n",
       "      (LayerNorm): LayerNorm((768,), eps=1e-12, elementwise_affine=True)\n",
       "      (dropout): Dropout(p=0.1, inplace=False)\n",
       "    )\n",
       "    (encoder): BertEncoder(\n",
       "      (layer): ModuleList(\n",
       "        (0): BertLayer(\n",
       "          (attention): BertAttention(\n",
       "            (self): BertSelfAttention(\n",
       "              (query): Linear(in_features=768, out_features=768, bias=True)\n",
       "              (key): Linear(in_features=768, out_features=768, bias=True)\n",
       "              (value): Linear(in_features=768, out_features=768, bias=True)\n",
       "              (dropout): Dropout(p=0.1, inplace=False)\n",
       "            )\n",
       "            (output): BertSelfOutput(\n",
       "              (dense): Linear(in_features=768, out_features=768, bias=True)\n",
       "              (LayerNorm): LayerNorm((768,), eps=1e-12, elementwise_affine=True)\n",
       "              (dropout): Dropout(p=0.1, inplace=False)\n",
       "            )\n",
       "          )\n",
       "          (intermediate): BertIntermediate(\n",
       "            (dense): Linear(in_features=768, out_features=3072, bias=True)\n",
       "          )\n",
       "          (output): BertOutput(\n",
       "            (dense): Linear(in_features=3072, out_features=768, bias=True)\n",
       "            (LayerNorm): LayerNorm((768,), eps=1e-12, elementwise_affine=True)\n",
       "            (dropout): Dropout(p=0.1, inplace=False)\n",
       "          )\n",
       "        )\n",
       "        (1): BertLayer(\n",
       "          (attention): BertAttention(\n",
       "            (self): BertSelfAttention(\n",
       "              (query): Linear(in_features=768, out_features=768, bias=True)\n",
       "              (key): Linear(in_features=768, out_features=768, bias=True)\n",
       "              (value): Linear(in_features=768, out_features=768, bias=True)\n",
       "              (dropout): Dropout(p=0.1, inplace=False)\n",
       "            )\n",
       "            (output): BertSelfOutput(\n",
       "              (dense): Linear(in_features=768, out_features=768, bias=True)\n",
       "              (LayerNorm): LayerNorm((768,), eps=1e-12, elementwise_affine=True)\n",
       "              (dropout): Dropout(p=0.1, inplace=False)\n",
       "            )\n",
       "          )\n",
       "          (intermediate): BertIntermediate(\n",
       "            (dense): Linear(in_features=768, out_features=3072, bias=True)\n",
       "          )\n",
       "          (output): BertOutput(\n",
       "            (dense): Linear(in_features=3072, out_features=768, bias=True)\n",
       "            (LayerNorm): LayerNorm((768,), eps=1e-12, elementwise_affine=True)\n",
       "            (dropout): Dropout(p=0.1, inplace=False)\n",
       "          )\n",
       "        )\n",
       "        (2): BertLayer(\n",
       "          (attention): BertAttention(\n",
       "            (self): BertSelfAttention(\n",
       "              (query): Linear(in_features=768, out_features=768, bias=True)\n",
       "              (key): Linear(in_features=768, out_features=768, bias=True)\n",
       "              (value): Linear(in_features=768, out_features=768, bias=True)\n",
       "              (dropout): Dropout(p=0.1, inplace=False)\n",
       "            )\n",
       "            (output): BertSelfOutput(\n",
       "              (dense): Linear(in_features=768, out_features=768, bias=True)\n",
       "              (LayerNorm): LayerNorm((768,), eps=1e-12, elementwise_affine=True)\n",
       "              (dropout): Dropout(p=0.1, inplace=False)\n",
       "            )\n",
       "          )\n",
       "          (intermediate): BertIntermediate(\n",
       "            (dense): Linear(in_features=768, out_features=3072, bias=True)\n",
       "          )\n",
       "          (output): BertOutput(\n",
       "            (dense): Linear(in_features=3072, out_features=768, bias=True)\n",
       "            (LayerNorm): LayerNorm((768,), eps=1e-12, elementwise_affine=True)\n",
       "            (dropout): Dropout(p=0.1, inplace=False)\n",
       "          )\n",
       "        )\n",
       "        (3): BertLayer(\n",
       "          (attention): BertAttention(\n",
       "            (self): BertSelfAttention(\n",
       "              (query): Linear(in_features=768, out_features=768, bias=True)\n",
       "              (key): Linear(in_features=768, out_features=768, bias=True)\n",
       "              (value): Linear(in_features=768, out_features=768, bias=True)\n",
       "              (dropout): Dropout(p=0.1, inplace=False)\n",
       "            )\n",
       "            (output): BertSelfOutput(\n",
       "              (dense): Linear(in_features=768, out_features=768, bias=True)\n",
       "              (LayerNorm): LayerNorm((768,), eps=1e-12, elementwise_affine=True)\n",
       "              (dropout): Dropout(p=0.1, inplace=False)\n",
       "            )\n",
       "          )\n",
       "          (intermediate): BertIntermediate(\n",
       "            (dense): Linear(in_features=768, out_features=3072, bias=True)\n",
       "          )\n",
       "          (output): BertOutput(\n",
       "            (dense): Linear(in_features=3072, out_features=768, bias=True)\n",
       "            (LayerNorm): LayerNorm((768,), eps=1e-12, elementwise_affine=True)\n",
       "            (dropout): Dropout(p=0.1, inplace=False)\n",
       "          )\n",
       "        )\n",
       "        (4): BertLayer(\n",
       "          (attention): BertAttention(\n",
       "            (self): BertSelfAttention(\n",
       "              (query): Linear(in_features=768, out_features=768, bias=True)\n",
       "              (key): Linear(in_features=768, out_features=768, bias=True)\n",
       "              (value): Linear(in_features=768, out_features=768, bias=True)\n",
       "              (dropout): Dropout(p=0.1, inplace=False)\n",
       "            )\n",
       "            (output): BertSelfOutput(\n",
       "              (dense): Linear(in_features=768, out_features=768, bias=True)\n",
       "              (LayerNorm): LayerNorm((768,), eps=1e-12, elementwise_affine=True)\n",
       "              (dropout): Dropout(p=0.1, inplace=False)\n",
       "            )\n",
       "          )\n",
       "          (intermediate): BertIntermediate(\n",
       "            (dense): Linear(in_features=768, out_features=3072, bias=True)\n",
       "          )\n",
       "          (output): BertOutput(\n",
       "            (dense): Linear(in_features=3072, out_features=768, bias=True)\n",
       "            (LayerNorm): LayerNorm((768,), eps=1e-12, elementwise_affine=True)\n",
       "            (dropout): Dropout(p=0.1, inplace=False)\n",
       "          )\n",
       "        )\n",
       "        (5): BertLayer(\n",
       "          (attention): BertAttention(\n",
       "            (self): BertSelfAttention(\n",
       "              (query): Linear(in_features=768, out_features=768, bias=True)\n",
       "              (key): Linear(in_features=768, out_features=768, bias=True)\n",
       "              (value): Linear(in_features=768, out_features=768, bias=True)\n",
       "              (dropout): Dropout(p=0.1, inplace=False)\n",
       "            )\n",
       "            (output): BertSelfOutput(\n",
       "              (dense): Linear(in_features=768, out_features=768, bias=True)\n",
       "              (LayerNorm): LayerNorm((768,), eps=1e-12, elementwise_affine=True)\n",
       "              (dropout): Dropout(p=0.1, inplace=False)\n",
       "            )\n",
       "          )\n",
       "          (intermediate): BertIntermediate(\n",
       "            (dense): Linear(in_features=768, out_features=3072, bias=True)\n",
       "          )\n",
       "          (output): BertOutput(\n",
       "            (dense): Linear(in_features=3072, out_features=768, bias=True)\n",
       "            (LayerNorm): LayerNorm((768,), eps=1e-12, elementwise_affine=True)\n",
       "            (dropout): Dropout(p=0.1, inplace=False)\n",
       "          )\n",
       "        )\n",
       "        (6): BertLayer(\n",
       "          (attention): BertAttention(\n",
       "            (self): BertSelfAttention(\n",
       "              (query): Linear(in_features=768, out_features=768, bias=True)\n",
       "              (key): Linear(in_features=768, out_features=768, bias=True)\n",
       "              (value): Linear(in_features=768, out_features=768, bias=True)\n",
       "              (dropout): Dropout(p=0.1, inplace=False)\n",
       "            )\n",
       "            (output): BertSelfOutput(\n",
       "              (dense): Linear(in_features=768, out_features=768, bias=True)\n",
       "              (LayerNorm): LayerNorm((768,), eps=1e-12, elementwise_affine=True)\n",
       "              (dropout): Dropout(p=0.1, inplace=False)\n",
       "            )\n",
       "          )\n",
       "          (intermediate): BertIntermediate(\n",
       "            (dense): Linear(in_features=768, out_features=3072, bias=True)\n",
       "          )\n",
       "          (output): BertOutput(\n",
       "            (dense): Linear(in_features=3072, out_features=768, bias=True)\n",
       "            (LayerNorm): LayerNorm((768,), eps=1e-12, elementwise_affine=True)\n",
       "            (dropout): Dropout(p=0.1, inplace=False)\n",
       "          )\n",
       "        )\n",
       "        (7): BertLayer(\n",
       "          (attention): BertAttention(\n",
       "            (self): BertSelfAttention(\n",
       "              (query): Linear(in_features=768, out_features=768, bias=True)\n",
       "              (key): Linear(in_features=768, out_features=768, bias=True)\n",
       "              (value): Linear(in_features=768, out_features=768, bias=True)\n",
       "              (dropout): Dropout(p=0.1, inplace=False)\n",
       "            )\n",
       "            (output): BertSelfOutput(\n",
       "              (dense): Linear(in_features=768, out_features=768, bias=True)\n",
       "              (LayerNorm): LayerNorm((768,), eps=1e-12, elementwise_affine=True)\n",
       "              (dropout): Dropout(p=0.1, inplace=False)\n",
       "            )\n",
       "          )\n",
       "          (intermediate): BertIntermediate(\n",
       "            (dense): Linear(in_features=768, out_features=3072, bias=True)\n",
       "          )\n",
       "          (output): BertOutput(\n",
       "            (dense): Linear(in_features=3072, out_features=768, bias=True)\n",
       "            (LayerNorm): LayerNorm((768,), eps=1e-12, elementwise_affine=True)\n",
       "            (dropout): Dropout(p=0.1, inplace=False)\n",
       "          )\n",
       "        )\n",
       "        (8): BertLayer(\n",
       "          (attention): BertAttention(\n",
       "            (self): BertSelfAttention(\n",
       "              (query): Linear(in_features=768, out_features=768, bias=True)\n",
       "              (key): Linear(in_features=768, out_features=768, bias=True)\n",
       "              (value): Linear(in_features=768, out_features=768, bias=True)\n",
       "              (dropout): Dropout(p=0.1, inplace=False)\n",
       "            )\n",
       "            (output): BertSelfOutput(\n",
       "              (dense): Linear(in_features=768, out_features=768, bias=True)\n",
       "              (LayerNorm): LayerNorm((768,), eps=1e-12, elementwise_affine=True)\n",
       "              (dropout): Dropout(p=0.1, inplace=False)\n",
       "            )\n",
       "          )\n",
       "          (intermediate): BertIntermediate(\n",
       "            (dense): Linear(in_features=768, out_features=3072, bias=True)\n",
       "          )\n",
       "          (output): BertOutput(\n",
       "            (dense): Linear(in_features=3072, out_features=768, bias=True)\n",
       "            (LayerNorm): LayerNorm((768,), eps=1e-12, elementwise_affine=True)\n",
       "            (dropout): Dropout(p=0.1, inplace=False)\n",
       "          )\n",
       "        )\n",
       "        (9): BertLayer(\n",
       "          (attention): BertAttention(\n",
       "            (self): BertSelfAttention(\n",
       "              (query): Linear(in_features=768, out_features=768, bias=True)\n",
       "              (key): Linear(in_features=768, out_features=768, bias=True)\n",
       "              (value): Linear(in_features=768, out_features=768, bias=True)\n",
       "              (dropout): Dropout(p=0.1, inplace=False)\n",
       "            )\n",
       "            (output): BertSelfOutput(\n",
       "              (dense): Linear(in_features=768, out_features=768, bias=True)\n",
       "              (LayerNorm): LayerNorm((768,), eps=1e-12, elementwise_affine=True)\n",
       "              (dropout): Dropout(p=0.1, inplace=False)\n",
       "            )\n",
       "          )\n",
       "          (intermediate): BertIntermediate(\n",
       "            (dense): Linear(in_features=768, out_features=3072, bias=True)\n",
       "          )\n",
       "          (output): BertOutput(\n",
       "            (dense): Linear(in_features=3072, out_features=768, bias=True)\n",
       "            (LayerNorm): LayerNorm((768,), eps=1e-12, elementwise_affine=True)\n",
       "            (dropout): Dropout(p=0.1, inplace=False)\n",
       "          )\n",
       "        )\n",
       "        (10): BertLayer(\n",
       "          (attention): BertAttention(\n",
       "            (self): BertSelfAttention(\n",
       "              (query): Linear(in_features=768, out_features=768, bias=True)\n",
       "              (key): Linear(in_features=768, out_features=768, bias=True)\n",
       "              (value): Linear(in_features=768, out_features=768, bias=True)\n",
       "              (dropout): Dropout(p=0.1, inplace=False)\n",
       "            )\n",
       "            (output): BertSelfOutput(\n",
       "              (dense): Linear(in_features=768, out_features=768, bias=True)\n",
       "              (LayerNorm): LayerNorm((768,), eps=1e-12, elementwise_affine=True)\n",
       "              (dropout): Dropout(p=0.1, inplace=False)\n",
       "            )\n",
       "          )\n",
       "          (intermediate): BertIntermediate(\n",
       "            (dense): Linear(in_features=768, out_features=3072, bias=True)\n",
       "          )\n",
       "          (output): BertOutput(\n",
       "            (dense): Linear(in_features=3072, out_features=768, bias=True)\n",
       "            (LayerNorm): LayerNorm((768,), eps=1e-12, elementwise_affine=True)\n",
       "            (dropout): Dropout(p=0.1, inplace=False)\n",
       "          )\n",
       "        )\n",
       "        (11): BertLayer(\n",
       "          (attention): BertAttention(\n",
       "            (self): BertSelfAttention(\n",
       "              (query): Linear(in_features=768, out_features=768, bias=True)\n",
       "              (key): Linear(in_features=768, out_features=768, bias=True)\n",
       "              (value): Linear(in_features=768, out_features=768, bias=True)\n",
       "              (dropout): Dropout(p=0.1, inplace=False)\n",
       "            )\n",
       "            (output): BertSelfOutput(\n",
       "              (dense): Linear(in_features=768, out_features=768, bias=True)\n",
       "              (LayerNorm): LayerNorm((768,), eps=1e-12, elementwise_affine=True)\n",
       "              (dropout): Dropout(p=0.1, inplace=False)\n",
       "            )\n",
       "          )\n",
       "          (intermediate): BertIntermediate(\n",
       "            (dense): Linear(in_features=768, out_features=3072, bias=True)\n",
       "          )\n",
       "          (output): BertOutput(\n",
       "            (dense): Linear(in_features=3072, out_features=768, bias=True)\n",
       "            (LayerNorm): LayerNorm((768,), eps=1e-12, elementwise_affine=True)\n",
       "            (dropout): Dropout(p=0.1, inplace=False)\n",
       "          )\n",
       "        )\n",
       "      )\n",
       "    )\n",
       "    (pooler): BertPooler(\n",
       "      (dense): Linear(in_features=768, out_features=768, bias=True)\n",
       "      (activation): Tanh()\n",
       "    )\n",
       "  )\n",
       "  (dropout): Dropout(p=0.1, inplace=False)\n",
       "  (classifier): Linear(in_features=768, out_features=2, bias=True)\n",
       ")"
      ]
     },
     "execution_count": 5,
     "metadata": {},
     "output_type": "execute_result"
    }
   ],
   "source": [
    "'''\n",
    "Construct object in BERT sentiment classifier class\n",
    "'''\n",
    "sentiment_model = BertForSequenceClassification.from_pretrained(\n",
    "    \"bert-base-uncased\", # Use the 12-layer BERT model, with an uncased vocab.\n",
    "    num_labels = 2, # The number of output labels--2 for binary classification.\n",
    "                    # You can increase this for multi-class tasks.   \n",
    "    output_attentions = False, # Whether the model returns attention weights.\n",
    "    output_hidden_states = False # Whether the model returns all hidden states.\n",
    ")\n",
    "\n",
    "sentiment_model.cuda() # Puts model on GPU"
   ]
  },
  {
   "cell_type": "code",
   "execution_count": 6,
   "metadata": {
    "colab": {
     "base_uri": "https://localhost:8080/"
    },
    "collapsed": true,
    "executionInfo": {
     "elapsed": 5248,
     "status": "ok",
     "timestamp": 1643516775801,
     "user": {
      "displayName": "Gokul Srinivasan",
      "photoUrl": "https://lh3.googleusercontent.com/a/default-user=s64",
      "userId": "01072835723997484871"
     },
     "user_tz": 480
    },
    "id": "aymhFFrL-Wv5",
    "outputId": "b2e60d5c-c30e-455f-c531-c18de8d99606"
   },
   "outputs": [
    {
     "data": {
      "text/plain": [
       "_IncompatibleKeys(missing_keys=['bert.embeddings.position_ids'], unexpected_keys=[])"
      ]
     },
     "execution_count": 6,
     "metadata": {},
     "output_type": "execute_result"
    }
   ],
   "source": [
    "'''\n",
    "Load pretrained sentiment model parameters\n",
    "'''\n",
    "sentiment_model.load_state_dict(torch.load(\"/content/drive/My Drive/English_sentiment_model.pt\", map_location=torch.device('cpu')), strict=False)"
   ]
  },
  {
   "cell_type": "code",
   "execution_count": 7,
   "metadata": {
    "colab": {
     "base_uri": "https://localhost:8080/"
    },
    "collapsed": true,
    "executionInfo": {
     "elapsed": 8,
     "status": "ok",
     "timestamp": 1643516775801,
     "user": {
      "displayName": "Gokul Srinivasan",
      "photoUrl": "https://lh3.googleusercontent.com/a/default-user=s64",
      "userId": "01072835723997484871"
     },
     "user_tz": 480
    },
    "id": "6kG2MTt4-z37",
    "outputId": "84e2866e-9d16-4347-d490-298c31629102"
   },
   "outputs": [
    {
     "data": {
      "text/plain": [
       "BertForSequenceClassification(\n",
       "  (bert): BertModel(\n",
       "    (embeddings): BertEmbeddings(\n",
       "      (word_embeddings): Embedding(30522, 768, padding_idx=0)\n",
       "      (position_embeddings): Embedding(512, 768)\n",
       "      (token_type_embeddings): Embedding(2, 768)\n",
       "      (LayerNorm): LayerNorm((768,), eps=1e-12, elementwise_affine=True)\n",
       "      (dropout): Dropout(p=0.1, inplace=False)\n",
       "    )\n",
       "    (encoder): BertEncoder(\n",
       "      (layer): ModuleList(\n",
       "        (0): BertLayer(\n",
       "          (attention): BertAttention(\n",
       "            (self): BertSelfAttention(\n",
       "              (query): Linear(in_features=768, out_features=768, bias=True)\n",
       "              (key): Linear(in_features=768, out_features=768, bias=True)\n",
       "              (value): Linear(in_features=768, out_features=768, bias=True)\n",
       "              (dropout): Dropout(p=0.1, inplace=False)\n",
       "            )\n",
       "            (output): BertSelfOutput(\n",
       "              (dense): Linear(in_features=768, out_features=768, bias=True)\n",
       "              (LayerNorm): LayerNorm((768,), eps=1e-12, elementwise_affine=True)\n",
       "              (dropout): Dropout(p=0.1, inplace=False)\n",
       "            )\n",
       "          )\n",
       "          (intermediate): BertIntermediate(\n",
       "            (dense): Linear(in_features=768, out_features=3072, bias=True)\n",
       "          )\n",
       "          (output): BertOutput(\n",
       "            (dense): Linear(in_features=3072, out_features=768, bias=True)\n",
       "            (LayerNorm): LayerNorm((768,), eps=1e-12, elementwise_affine=True)\n",
       "            (dropout): Dropout(p=0.1, inplace=False)\n",
       "          )\n",
       "        )\n",
       "        (1): BertLayer(\n",
       "          (attention): BertAttention(\n",
       "            (self): BertSelfAttention(\n",
       "              (query): Linear(in_features=768, out_features=768, bias=True)\n",
       "              (key): Linear(in_features=768, out_features=768, bias=True)\n",
       "              (value): Linear(in_features=768, out_features=768, bias=True)\n",
       "              (dropout): Dropout(p=0.1, inplace=False)\n",
       "            )\n",
       "            (output): BertSelfOutput(\n",
       "              (dense): Linear(in_features=768, out_features=768, bias=True)\n",
       "              (LayerNorm): LayerNorm((768,), eps=1e-12, elementwise_affine=True)\n",
       "              (dropout): Dropout(p=0.1, inplace=False)\n",
       "            )\n",
       "          )\n",
       "          (intermediate): BertIntermediate(\n",
       "            (dense): Linear(in_features=768, out_features=3072, bias=True)\n",
       "          )\n",
       "          (output): BertOutput(\n",
       "            (dense): Linear(in_features=3072, out_features=768, bias=True)\n",
       "            (LayerNorm): LayerNorm((768,), eps=1e-12, elementwise_affine=True)\n",
       "            (dropout): Dropout(p=0.1, inplace=False)\n",
       "          )\n",
       "        )\n",
       "        (2): BertLayer(\n",
       "          (attention): BertAttention(\n",
       "            (self): BertSelfAttention(\n",
       "              (query): Linear(in_features=768, out_features=768, bias=True)\n",
       "              (key): Linear(in_features=768, out_features=768, bias=True)\n",
       "              (value): Linear(in_features=768, out_features=768, bias=True)\n",
       "              (dropout): Dropout(p=0.1, inplace=False)\n",
       "            )\n",
       "            (output): BertSelfOutput(\n",
       "              (dense): Linear(in_features=768, out_features=768, bias=True)\n",
       "              (LayerNorm): LayerNorm((768,), eps=1e-12, elementwise_affine=True)\n",
       "              (dropout): Dropout(p=0.1, inplace=False)\n",
       "            )\n",
       "          )\n",
       "          (intermediate): BertIntermediate(\n",
       "            (dense): Linear(in_features=768, out_features=3072, bias=True)\n",
       "          )\n",
       "          (output): BertOutput(\n",
       "            (dense): Linear(in_features=3072, out_features=768, bias=True)\n",
       "            (LayerNorm): LayerNorm((768,), eps=1e-12, elementwise_affine=True)\n",
       "            (dropout): Dropout(p=0.1, inplace=False)\n",
       "          )\n",
       "        )\n",
       "        (3): BertLayer(\n",
       "          (attention): BertAttention(\n",
       "            (self): BertSelfAttention(\n",
       "              (query): Linear(in_features=768, out_features=768, bias=True)\n",
       "              (key): Linear(in_features=768, out_features=768, bias=True)\n",
       "              (value): Linear(in_features=768, out_features=768, bias=True)\n",
       "              (dropout): Dropout(p=0.1, inplace=False)\n",
       "            )\n",
       "            (output): BertSelfOutput(\n",
       "              (dense): Linear(in_features=768, out_features=768, bias=True)\n",
       "              (LayerNorm): LayerNorm((768,), eps=1e-12, elementwise_affine=True)\n",
       "              (dropout): Dropout(p=0.1, inplace=False)\n",
       "            )\n",
       "          )\n",
       "          (intermediate): BertIntermediate(\n",
       "            (dense): Linear(in_features=768, out_features=3072, bias=True)\n",
       "          )\n",
       "          (output): BertOutput(\n",
       "            (dense): Linear(in_features=3072, out_features=768, bias=True)\n",
       "            (LayerNorm): LayerNorm((768,), eps=1e-12, elementwise_affine=True)\n",
       "            (dropout): Dropout(p=0.1, inplace=False)\n",
       "          )\n",
       "        )\n",
       "        (4): BertLayer(\n",
       "          (attention): BertAttention(\n",
       "            (self): BertSelfAttention(\n",
       "              (query): Linear(in_features=768, out_features=768, bias=True)\n",
       "              (key): Linear(in_features=768, out_features=768, bias=True)\n",
       "              (value): Linear(in_features=768, out_features=768, bias=True)\n",
       "              (dropout): Dropout(p=0.1, inplace=False)\n",
       "            )\n",
       "            (output): BertSelfOutput(\n",
       "              (dense): Linear(in_features=768, out_features=768, bias=True)\n",
       "              (LayerNorm): LayerNorm((768,), eps=1e-12, elementwise_affine=True)\n",
       "              (dropout): Dropout(p=0.1, inplace=False)\n",
       "            )\n",
       "          )\n",
       "          (intermediate): BertIntermediate(\n",
       "            (dense): Linear(in_features=768, out_features=3072, bias=True)\n",
       "          )\n",
       "          (output): BertOutput(\n",
       "            (dense): Linear(in_features=3072, out_features=768, bias=True)\n",
       "            (LayerNorm): LayerNorm((768,), eps=1e-12, elementwise_affine=True)\n",
       "            (dropout): Dropout(p=0.1, inplace=False)\n",
       "          )\n",
       "        )\n",
       "        (5): BertLayer(\n",
       "          (attention): BertAttention(\n",
       "            (self): BertSelfAttention(\n",
       "              (query): Linear(in_features=768, out_features=768, bias=True)\n",
       "              (key): Linear(in_features=768, out_features=768, bias=True)\n",
       "              (value): Linear(in_features=768, out_features=768, bias=True)\n",
       "              (dropout): Dropout(p=0.1, inplace=False)\n",
       "            )\n",
       "            (output): BertSelfOutput(\n",
       "              (dense): Linear(in_features=768, out_features=768, bias=True)\n",
       "              (LayerNorm): LayerNorm((768,), eps=1e-12, elementwise_affine=True)\n",
       "              (dropout): Dropout(p=0.1, inplace=False)\n",
       "            )\n",
       "          )\n",
       "          (intermediate): BertIntermediate(\n",
       "            (dense): Linear(in_features=768, out_features=3072, bias=True)\n",
       "          )\n",
       "          (output): BertOutput(\n",
       "            (dense): Linear(in_features=3072, out_features=768, bias=True)\n",
       "            (LayerNorm): LayerNorm((768,), eps=1e-12, elementwise_affine=True)\n",
       "            (dropout): Dropout(p=0.1, inplace=False)\n",
       "          )\n",
       "        )\n",
       "        (6): BertLayer(\n",
       "          (attention): BertAttention(\n",
       "            (self): BertSelfAttention(\n",
       "              (query): Linear(in_features=768, out_features=768, bias=True)\n",
       "              (key): Linear(in_features=768, out_features=768, bias=True)\n",
       "              (value): Linear(in_features=768, out_features=768, bias=True)\n",
       "              (dropout): Dropout(p=0.1, inplace=False)\n",
       "            )\n",
       "            (output): BertSelfOutput(\n",
       "              (dense): Linear(in_features=768, out_features=768, bias=True)\n",
       "              (LayerNorm): LayerNorm((768,), eps=1e-12, elementwise_affine=True)\n",
       "              (dropout): Dropout(p=0.1, inplace=False)\n",
       "            )\n",
       "          )\n",
       "          (intermediate): BertIntermediate(\n",
       "            (dense): Linear(in_features=768, out_features=3072, bias=True)\n",
       "          )\n",
       "          (output): BertOutput(\n",
       "            (dense): Linear(in_features=3072, out_features=768, bias=True)\n",
       "            (LayerNorm): LayerNorm((768,), eps=1e-12, elementwise_affine=True)\n",
       "            (dropout): Dropout(p=0.1, inplace=False)\n",
       "          )\n",
       "        )\n",
       "        (7): BertLayer(\n",
       "          (attention): BertAttention(\n",
       "            (self): BertSelfAttention(\n",
       "              (query): Linear(in_features=768, out_features=768, bias=True)\n",
       "              (key): Linear(in_features=768, out_features=768, bias=True)\n",
       "              (value): Linear(in_features=768, out_features=768, bias=True)\n",
       "              (dropout): Dropout(p=0.1, inplace=False)\n",
       "            )\n",
       "            (output): BertSelfOutput(\n",
       "              (dense): Linear(in_features=768, out_features=768, bias=True)\n",
       "              (LayerNorm): LayerNorm((768,), eps=1e-12, elementwise_affine=True)\n",
       "              (dropout): Dropout(p=0.1, inplace=False)\n",
       "            )\n",
       "          )\n",
       "          (intermediate): BertIntermediate(\n",
       "            (dense): Linear(in_features=768, out_features=3072, bias=True)\n",
       "          )\n",
       "          (output): BertOutput(\n",
       "            (dense): Linear(in_features=3072, out_features=768, bias=True)\n",
       "            (LayerNorm): LayerNorm((768,), eps=1e-12, elementwise_affine=True)\n",
       "            (dropout): Dropout(p=0.1, inplace=False)\n",
       "          )\n",
       "        )\n",
       "        (8): BertLayer(\n",
       "          (attention): BertAttention(\n",
       "            (self): BertSelfAttention(\n",
       "              (query): Linear(in_features=768, out_features=768, bias=True)\n",
       "              (key): Linear(in_features=768, out_features=768, bias=True)\n",
       "              (value): Linear(in_features=768, out_features=768, bias=True)\n",
       "              (dropout): Dropout(p=0.1, inplace=False)\n",
       "            )\n",
       "            (output): BertSelfOutput(\n",
       "              (dense): Linear(in_features=768, out_features=768, bias=True)\n",
       "              (LayerNorm): LayerNorm((768,), eps=1e-12, elementwise_affine=True)\n",
       "              (dropout): Dropout(p=0.1, inplace=False)\n",
       "            )\n",
       "          )\n",
       "          (intermediate): BertIntermediate(\n",
       "            (dense): Linear(in_features=768, out_features=3072, bias=True)\n",
       "          )\n",
       "          (output): BertOutput(\n",
       "            (dense): Linear(in_features=3072, out_features=768, bias=True)\n",
       "            (LayerNorm): LayerNorm((768,), eps=1e-12, elementwise_affine=True)\n",
       "            (dropout): Dropout(p=0.1, inplace=False)\n",
       "          )\n",
       "        )\n",
       "        (9): BertLayer(\n",
       "          (attention): BertAttention(\n",
       "            (self): BertSelfAttention(\n",
       "              (query): Linear(in_features=768, out_features=768, bias=True)\n",
       "              (key): Linear(in_features=768, out_features=768, bias=True)\n",
       "              (value): Linear(in_features=768, out_features=768, bias=True)\n",
       "              (dropout): Dropout(p=0.1, inplace=False)\n",
       "            )\n",
       "            (output): BertSelfOutput(\n",
       "              (dense): Linear(in_features=768, out_features=768, bias=True)\n",
       "              (LayerNorm): LayerNorm((768,), eps=1e-12, elementwise_affine=True)\n",
       "              (dropout): Dropout(p=0.1, inplace=False)\n",
       "            )\n",
       "          )\n",
       "          (intermediate): BertIntermediate(\n",
       "            (dense): Linear(in_features=768, out_features=3072, bias=True)\n",
       "          )\n",
       "          (output): BertOutput(\n",
       "            (dense): Linear(in_features=3072, out_features=768, bias=True)\n",
       "            (LayerNorm): LayerNorm((768,), eps=1e-12, elementwise_affine=True)\n",
       "            (dropout): Dropout(p=0.1, inplace=False)\n",
       "          )\n",
       "        )\n",
       "        (10): BertLayer(\n",
       "          (attention): BertAttention(\n",
       "            (self): BertSelfAttention(\n",
       "              (query): Linear(in_features=768, out_features=768, bias=True)\n",
       "              (key): Linear(in_features=768, out_features=768, bias=True)\n",
       "              (value): Linear(in_features=768, out_features=768, bias=True)\n",
       "              (dropout): Dropout(p=0.1, inplace=False)\n",
       "            )\n",
       "            (output): BertSelfOutput(\n",
       "              (dense): Linear(in_features=768, out_features=768, bias=True)\n",
       "              (LayerNorm): LayerNorm((768,), eps=1e-12, elementwise_affine=True)\n",
       "              (dropout): Dropout(p=0.1, inplace=False)\n",
       "            )\n",
       "          )\n",
       "          (intermediate): BertIntermediate(\n",
       "            (dense): Linear(in_features=768, out_features=3072, bias=True)\n",
       "          )\n",
       "          (output): BertOutput(\n",
       "            (dense): Linear(in_features=3072, out_features=768, bias=True)\n",
       "            (LayerNorm): LayerNorm((768,), eps=1e-12, elementwise_affine=True)\n",
       "            (dropout): Dropout(p=0.1, inplace=False)\n",
       "          )\n",
       "        )\n",
       "        (11): BertLayer(\n",
       "          (attention): BertAttention(\n",
       "            (self): BertSelfAttention(\n",
       "              (query): Linear(in_features=768, out_features=768, bias=True)\n",
       "              (key): Linear(in_features=768, out_features=768, bias=True)\n",
       "              (value): Linear(in_features=768, out_features=768, bias=True)\n",
       "              (dropout): Dropout(p=0.1, inplace=False)\n",
       "            )\n",
       "            (output): BertSelfOutput(\n",
       "              (dense): Linear(in_features=768, out_features=768, bias=True)\n",
       "              (LayerNorm): LayerNorm((768,), eps=1e-12, elementwise_affine=True)\n",
       "              (dropout): Dropout(p=0.1, inplace=False)\n",
       "            )\n",
       "          )\n",
       "          (intermediate): BertIntermediate(\n",
       "            (dense): Linear(in_features=768, out_features=3072, bias=True)\n",
       "          )\n",
       "          (output): BertOutput(\n",
       "            (dense): Linear(in_features=3072, out_features=768, bias=True)\n",
       "            (LayerNorm): LayerNorm((768,), eps=1e-12, elementwise_affine=True)\n",
       "            (dropout): Dropout(p=0.1, inplace=False)\n",
       "          )\n",
       "        )\n",
       "      )\n",
       "    )\n",
       "    (pooler): BertPooler(\n",
       "      (dense): Linear(in_features=768, out_features=768, bias=True)\n",
       "      (activation): Tanh()\n",
       "    )\n",
       "  )\n",
       "  (dropout): Dropout(p=0.1, inplace=False)\n",
       "  (classifier): Linear(in_features=768, out_features=2, bias=True)\n",
       ")"
      ]
     },
     "execution_count": 7,
     "metadata": {},
     "output_type": "execute_result"
    }
   ],
   "source": [
    "sentiment_model.eval() # Put model in inference (as opposed to training) mode"
   ]
  },
  {
   "cell_type": "code",
   "execution_count": 8,
   "metadata": {
    "colab": {
     "base_uri": "https://localhost:8080/",
     "height": 113,
     "referenced_widgets": [
      "cc8eb8ccbb3f4569b4ab1d7b5eb9b0ec",
      "da64248c37bb470c801bd8e732240535",
      "94307162356d4ef7a91e341a7ef1bc9d",
      "56d8c7b0f2be4881b1c0e8b933d809d3",
      "0748b9c38ce641dea23184f04d1ea63a",
      "22a2ae463eaf46c98084bdb97824b9c5",
      "4abf6f1861a145eaac68287f22ac4714",
      "50e58748e6fe49b9a61e5a829f5fd0af",
      "c06d33a567af413a9191b9da41ca3e05",
      "68f7243d9d7242859ea89fc1aa9e0d83",
      "e4fe2ad1bd6a4358bef410d0a6183aca",
      "c49c4dff7f394763a18a6e108133c830",
      "6d7baecff5b141c9892e571e26931c0c",
      "25d2fd674f3c47c8ac1a1cc0dc865ff6",
      "287ea7eda8db44bb92368602e48f0dbc",
      "07818fd1b80a49eaa9cbe37a7aab91e4",
      "29ec39e1eda84cec9a50522a1a4c3c60",
      "8637736af8a1477987958a6394fe66b4",
      "6c2740888485458283d99a2c11ca356a",
      "f87bdc9bf9924675938185b8cd2ba912",
      "9b5070b7b4554e69892f865705641291",
      "c9436342b2184adf9ccd7a49d005b425",
      "3d1d2a6392cf4acf92e6c5d1bf41ddfc",
      "de84cadb9e3f407891c06b356cfc9194",
      "471c2df0a8684a17975611129b277e03",
      "8b1352e5b1b941b68129a0242fffd38e",
      "e1ca4b17187848f29bf26e79b5e69f42",
      "c6f20f7bf1c4413582c75fab5f6da5dc",
      "2d18233c2cec4c0e8d236d146ac20cd8",
      "623757aba0aa4866b4c1eacdbe013ba7",
      "b1c3b46c253e4d5f81e3d132922e3d86",
      "be83c3659f854b6d9dd1e6d885e97781",
      "0f7d43dd265544539547d0b3770e6eab"
     ]
    },
    "collapsed": true,
    "executionInfo": {
     "elapsed": 1347,
     "status": "ok",
     "timestamp": 1643516777145,
     "user": {
      "displayName": "Gokul Srinivasan",
      "photoUrl": "https://lh3.googleusercontent.com/a/default-user=s64",
      "userId": "01072835723997484871"
     },
     "user_tz": 480
    },
    "id": "f7gXH-HQ_JsW",
    "outputId": "26630f5e-860c-448d-872b-e580016d3d61"
   },
   "outputs": [
    {
     "data": {
      "application/vnd.jupyter.widget-view+json": {
       "model_id": "cc8eb8ccbb3f4569b4ab1d7b5eb9b0ec",
       "version_major": 2,
       "version_minor": 0
      },
      "text/plain": [
       "Downloading:   0%|          | 0.00/28.0 [00:00<?, ?B/s]"
      ]
     },
     "metadata": {},
     "output_type": "display_data"
    },
    {
     "data": {
      "application/vnd.jupyter.widget-view+json": {
       "model_id": "c49c4dff7f394763a18a6e108133c830",
       "version_major": 2,
       "version_minor": 0
      },
      "text/plain": [
       "Downloading:   0%|          | 0.00/226k [00:00<?, ?B/s]"
      ]
     },
     "metadata": {},
     "output_type": "display_data"
    },
    {
     "data": {
      "application/vnd.jupyter.widget-view+json": {
       "model_id": "3d1d2a6392cf4acf92e6c5d1bf41ddfc",
       "version_major": 2,
       "version_minor": 0
      },
      "text/plain": [
       "Downloading:   0%|          | 0.00/455k [00:00<?, ?B/s]"
      ]
     },
     "metadata": {},
     "output_type": "display_data"
    }
   ],
   "source": [
    "'''\n",
    "Load tokenizer for sentiment model\n",
    "'''\n",
    "sentiment_tokenizer = BertTokenizer.from_pretrained('bert-base-uncased', do_lower_case=True)"
   ]
  },
  {
   "cell_type": "code",
   "execution_count": 9,
   "metadata": {
    "executionInfo": {
     "elapsed": 7,
     "status": "ok",
     "timestamp": 1643516777145,
     "user": {
      "displayName": "Gokul Srinivasan",
      "photoUrl": "https://lh3.googleusercontent.com/a/default-user=s64",
      "userId": "01072835723997484871"
     },
     "user_tz": 480
    },
    "id": "ySlU9vIR_5Nl"
   },
   "outputs": [],
   "source": [
    "# gets the text into the format we want\n",
    "def clean_tweet(tweet):\n",
    "  tweet = BeautifulSoup(tweet, \"lxml\").get_text() # turns xml-formatted text into regular text\n",
    "  tweet = re.sub(r\"@[A-Za-z0-9]+\", \" \", tweet) # gets rid of all user references in tweets (i.e. \"@username\")\n",
    "  tweet = re.sub(r\"https?://[A-Za-z0-9./]+\", \" \", tweet) # gets rid of URLs\n",
    "  tweet = re.sub(r\"[^A-Za-z.!?áéíóúüñ¿ÁÉÍÓÚÜÑ']\", \" \", tweet) # gets rid of any non-standard characters in the tweets\n",
    "  tweet = re.sub(r\" +\", \" \", tweet) # replaces all excess whitespace with a single space\n",
    "\n",
    "  return tweet # gives us our cleaned tweet"
   ]
  },
  {
   "cell_type": "code",
   "execution_count": 10,
   "metadata": {
    "executionInfo": {
     "elapsed": 5,
     "status": "ok",
     "timestamp": 1643516777146,
     "user": {
      "displayName": "Gokul Srinivasan",
      "photoUrl": "https://lh3.googleusercontent.com/a/default-user=s64",
      "userId": "01072835723997484871"
     },
     "user_tz": 480
    },
    "id": "fgzAUDGQ_TDG"
   },
   "outputs": [],
   "source": [
    "def predict_sentiment(tweet):\n",
    "\n",
    "    '''\n",
    "    Predict the sentiment of an input text\n",
    "    '''\n",
    "    \n",
    "    tweet = clean_tweet(tweet)\n",
    "    tweet_input_id = []\n",
    "    tweet_attention_mask = []\n",
    "\n",
    "    tweet_dict = sentiment_tokenizer.encode_plus(\n",
    "                            tweet,                      # Sentence to encode.\n",
    "                            add_special_tokens = True, # Add '[CLS]' and '[SEP]'\n",
    "                            max_length = 64,           # Pad & truncate all sentences.\n",
    "                            truncation=True,           # Explicitly enable truncation\n",
    "                            padding = 'max_length',\n",
    "                            return_attention_mask = True,   # Construct attn. masks.\n",
    "                            return_tensors = 'pt',     # Return pytorch tensors.\n",
    "                       )\n",
    "\n",
    "    # Add the encoded sentence to the list.    \n",
    "    tweet_input_id.append(tweet_dict['input_ids'])\n",
    "\n",
    "    # And its attention mask (simply differentiates padding from non-padding).\n",
    "    tweet_attention_mask.append(tweet_dict['attention_mask'])\n",
    "\n",
    "    # Convert the lists into tensors.\n",
    "    tweet_input_id = torch.cat(tweet_input_id, dim=0)\n",
    "    tweet_attention_mask = torch.cat(tweet_attention_mask, dim=0)\n",
    "\n",
    "    tweet_data = TensorDataset(tweet_input_id, tweet_attention_mask)\n",
    "    \n",
    "    tweet_dataloader = DataLoader(tweet_data)\n",
    "    \n",
    "    for data in tweet_dataloader:\n",
    "        tweet_input_id = data[0].to(device=torch.device('cuda'))\n",
    "        tweet_attention_mask = data[1].to(device=torch.device('cuda'))\n",
    "    \n",
    "    tweet_logits = sentiment_model(tweet_input_id, token_type_ids=None, attention_mask=tweet_attention_mask)\n",
    "    \n",
    "    tweet_logits = tweet_logits[0].detach().cpu().numpy()\n",
    "\n",
    "    tweet_logits = torch.Tensor(tweet_logits)\n",
    "\n",
    "    softmax = torch.nn.Softmax(dim=1)\n",
    "    prob_dist = softmax(tweet_logits)\n",
    "\n",
    "    sentiment_pred = prob_dist.tolist()\n",
    "\n",
    "    sentiment_pred = sentiment_pred[0][1]\n",
    "\n",
    "    return sentiment_pred"
   ]
  },
  {
   "cell_type": "code",
   "execution_count": 11,
   "metadata": {
    "executionInfo": {
     "elapsed": 407,
     "status": "ok",
     "timestamp": 1643516777548,
     "user": {
      "displayName": "Gokul Srinivasan",
      "photoUrl": "https://lh3.googleusercontent.com/a/default-user=s64",
      "userId": "01072835723997484871"
     },
     "user_tz": 480
    },
    "id": "lXT5xlZ-piFu"
   },
   "outputs": [],
   "source": [
    "generations = pd.read_csv('https://raw.githubusercontent.com/gokulsrin/PossibilityGeneration/main/FullV2/generations_table_full.csv')\n",
    "information = pd.read_csv('https://raw.githubusercontent.com/gokulsrin/PossibilityGeneration/main/FullV2/information_table_full.csv')"
   ]
  },
  {
   "cell_type": "code",
   "execution_count": 12,
   "metadata": {
    "colab": {
     "base_uri": "https://localhost:8080/",
     "height": 424
    },
    "executionInfo": {
     "elapsed": 11,
     "status": "ok",
     "timestamp": 1643516777550,
     "user": {
      "displayName": "Gokul Srinivasan",
      "photoUrl": "https://lh3.googleusercontent.com/a/default-user=s64",
      "userId": "01072835723997484871"
     },
     "user_tz": 480
    },
    "id": "98_7TjWmd5fx",
    "outputId": "f2e85406-b716-4e98-db4d-d692044c997b"
   },
   "outputs": [
    {
     "data": {
      "text/html": [
       "\n",
       "  <div id=\"df-19eceef4-00d4-4581-9761-e46e79bd7e47\">\n",
       "    <div class=\"colab-df-container\">\n",
       "      <div>\n",
       "<style scoped>\n",
       "    .dataframe tbody tr th:only-of-type {\n",
       "        vertical-align: middle;\n",
       "    }\n",
       "\n",
       "    .dataframe tbody tr th {\n",
       "        vertical-align: top;\n",
       "    }\n",
       "\n",
       "    .dataframe thead th {\n",
       "        text-align: right;\n",
       "    }\n",
       "</style>\n",
       "<table border=\"1\" class=\"dataframe\">\n",
       "  <thead>\n",
       "    <tr style=\"text-align: right;\">\n",
       "      <th></th>\n",
       "      <th>vignette_name</th>\n",
       "      <th>generation_number</th>\n",
       "      <th>generation_time</th>\n",
       "      <th>response</th>\n",
       "      <th>reflection_score</th>\n",
       "      <th>id</th>\n",
       "    </tr>\n",
       "  </thead>\n",
       "  <tbody>\n",
       "    <tr>\n",
       "      <th>0</th>\n",
       "      <td>ring</td>\n",
       "      <td>0</td>\n",
       "      <td>12767</td>\n",
       "      <td>make fake rings</td>\n",
       "      <td>55</td>\n",
       "      <td>5ae208fe38df950001454cc3</td>\n",
       "    </tr>\n",
       "    <tr>\n",
       "      <th>1</th>\n",
       "      <td>ring</td>\n",
       "      <td>1</td>\n",
       "      <td>8718</td>\n",
       "      <td>call the taxi driver</td>\n",
       "      <td>75</td>\n",
       "      <td>5ae208fe38df950001454cc3</td>\n",
       "    </tr>\n",
       "    <tr>\n",
       "      <th>2</th>\n",
       "      <td>ring</td>\n",
       "      <td>2</td>\n",
       "      <td>4017</td>\n",
       "      <td>cry</td>\n",
       "      <td>2</td>\n",
       "      <td>5ae208fe38df950001454cc3</td>\n",
       "    </tr>\n",
       "    <tr>\n",
       "      <th>3</th>\n",
       "      <td>ring</td>\n",
       "      <td>3</td>\n",
       "      <td>12310</td>\n",
       "      <td>interrupt the bride and groom</td>\n",
       "      <td>61</td>\n",
       "      <td>5ae208fe38df950001454cc3</td>\n",
       "    </tr>\n",
       "    <tr>\n",
       "      <th>4</th>\n",
       "      <td>ring</td>\n",
       "      <td>4</td>\n",
       "      <td>8686</td>\n",
       "      <td>run away</td>\n",
       "      <td>1</td>\n",
       "      <td>5ae208fe38df950001454cc3</td>\n",
       "    </tr>\n",
       "    <tr>\n",
       "      <th>...</th>\n",
       "      <td>...</td>\n",
       "      <td>...</td>\n",
       "      <td>...</td>\n",
       "      <td>...</td>\n",
       "      <td>...</td>\n",
       "      <td>...</td>\n",
       "    </tr>\n",
       "    <tr>\n",
       "      <th>10028</th>\n",
       "      <td>gas</td>\n",
       "      <td>0</td>\n",
       "      <td>3928</td>\n",
       "      <td>tell her no</td>\n",
       "      <td>32</td>\n",
       "      <td>5dfa56fddc265f7ac3bee209</td>\n",
       "    </tr>\n",
       "    <tr>\n",
       "      <th>10029</th>\n",
       "      <td>gas</td>\n",
       "      <td>2</td>\n",
       "      <td>7148</td>\n",
       "      <td>take her the whole way</td>\n",
       "      <td>100</td>\n",
       "      <td>5dfa56fddc265f7ac3bee209</td>\n",
       "    </tr>\n",
       "    <tr>\n",
       "      <th>10030</th>\n",
       "      <td>gas</td>\n",
       "      <td>3</td>\n",
       "      <td>21327</td>\n",
       "      <td>take her to my city, then wait while she gets ...</td>\n",
       "      <td>85</td>\n",
       "      <td>5dfa56fddc265f7ac3bee209</td>\n",
       "    </tr>\n",
       "    <tr>\n",
       "      <th>10031</th>\n",
       "      <td>gas</td>\n",
       "      <td>4</td>\n",
       "      <td>10469</td>\n",
       "      <td>tell her to call a cab/uber</td>\n",
       "      <td>22</td>\n",
       "      <td>5dfa56fddc265f7ac3bee209</td>\n",
       "    </tr>\n",
       "    <tr>\n",
       "      <th>10032</th>\n",
       "      <td>gas</td>\n",
       "      <td>5</td>\n",
       "      <td>12394</td>\n",
       "      <td>tell her to take the bus</td>\n",
       "      <td>7</td>\n",
       "      <td>5dfa56fddc265f7ac3bee209</td>\n",
       "    </tr>\n",
       "  </tbody>\n",
       "</table>\n",
       "<p>10033 rows × 6 columns</p>\n",
       "</div>\n",
       "      <button class=\"colab-df-convert\" onclick=\"convertToInteractive('df-19eceef4-00d4-4581-9761-e46e79bd7e47')\"\n",
       "              title=\"Convert this dataframe to an interactive table.\"\n",
       "              style=\"display:none;\">\n",
       "        \n",
       "  <svg xmlns=\"http://www.w3.org/2000/svg\" height=\"24px\"viewBox=\"0 0 24 24\"\n",
       "       width=\"24px\">\n",
       "    <path d=\"M0 0h24v24H0V0z\" fill=\"none\"/>\n",
       "    <path d=\"M18.56 5.44l.94 2.06.94-2.06 2.06-.94-2.06-.94-.94-2.06-.94 2.06-2.06.94zm-11 1L8.5 8.5l.94-2.06 2.06-.94-2.06-.94L8.5 2.5l-.94 2.06-2.06.94zm10 10l.94 2.06.94-2.06 2.06-.94-2.06-.94-.94-2.06-.94 2.06-2.06.94z\"/><path d=\"M17.41 7.96l-1.37-1.37c-.4-.4-.92-.59-1.43-.59-.52 0-1.04.2-1.43.59L10.3 9.45l-7.72 7.72c-.78.78-.78 2.05 0 2.83L4 21.41c.39.39.9.59 1.41.59.51 0 1.02-.2 1.41-.59l7.78-7.78 2.81-2.81c.8-.78.8-2.07 0-2.86zM5.41 20L4 18.59l7.72-7.72 1.47 1.35L5.41 20z\"/>\n",
       "  </svg>\n",
       "      </button>\n",
       "      \n",
       "  <style>\n",
       "    .colab-df-container {\n",
       "      display:flex;\n",
       "      flex-wrap:wrap;\n",
       "      gap: 12px;\n",
       "    }\n",
       "\n",
       "    .colab-df-convert {\n",
       "      background-color: #E8F0FE;\n",
       "      border: none;\n",
       "      border-radius: 50%;\n",
       "      cursor: pointer;\n",
       "      display: none;\n",
       "      fill: #1967D2;\n",
       "      height: 32px;\n",
       "      padding: 0 0 0 0;\n",
       "      width: 32px;\n",
       "    }\n",
       "\n",
       "    .colab-df-convert:hover {\n",
       "      background-color: #E2EBFA;\n",
       "      box-shadow: 0px 1px 2px rgba(60, 64, 67, 0.3), 0px 1px 3px 1px rgba(60, 64, 67, 0.15);\n",
       "      fill: #174EA6;\n",
       "    }\n",
       "\n",
       "    [theme=dark] .colab-df-convert {\n",
       "      background-color: #3B4455;\n",
       "      fill: #D2E3FC;\n",
       "    }\n",
       "\n",
       "    [theme=dark] .colab-df-convert:hover {\n",
       "      background-color: #434B5C;\n",
       "      box-shadow: 0px 1px 3px 1px rgba(0, 0, 0, 0.15);\n",
       "      filter: drop-shadow(0px 1px 2px rgba(0, 0, 0, 0.3));\n",
       "      fill: #FFFFFF;\n",
       "    }\n",
       "  </style>\n",
       "\n",
       "      <script>\n",
       "        const buttonEl =\n",
       "          document.querySelector('#df-19eceef4-00d4-4581-9761-e46e79bd7e47 button.colab-df-convert');\n",
       "        buttonEl.style.display =\n",
       "          google.colab.kernel.accessAllowed ? 'block' : 'none';\n",
       "\n",
       "        async function convertToInteractive(key) {\n",
       "          const element = document.querySelector('#df-19eceef4-00d4-4581-9761-e46e79bd7e47');\n",
       "          const dataTable =\n",
       "            await google.colab.kernel.invokeFunction('convertToInteractive',\n",
       "                                                     [key], {});\n",
       "          if (!dataTable) return;\n",
       "\n",
       "          const docLinkHtml = 'Like what you see? Visit the ' +\n",
       "            '<a target=\"_blank\" href=https://colab.research.google.com/notebooks/data_table.ipynb>data table notebook</a>'\n",
       "            + ' to learn more about interactive tables.';\n",
       "          element.innerHTML = '';\n",
       "          dataTable['output_type'] = 'display_data';\n",
       "          await google.colab.output.renderOutput(dataTable, element);\n",
       "          const docLink = document.createElement('div');\n",
       "          docLink.innerHTML = docLinkHtml;\n",
       "          element.appendChild(docLink);\n",
       "        }\n",
       "      </script>\n",
       "    </div>\n",
       "  </div>\n",
       "  "
      ],
      "text/plain": [
       "      vignette_name  ...                        id\n",
       "0              ring  ...  5ae208fe38df950001454cc3\n",
       "1              ring  ...  5ae208fe38df950001454cc3\n",
       "2              ring  ...  5ae208fe38df950001454cc3\n",
       "3              ring  ...  5ae208fe38df950001454cc3\n",
       "4              ring  ...  5ae208fe38df950001454cc3\n",
       "...             ...  ...                       ...\n",
       "10028           gas  ...  5dfa56fddc265f7ac3bee209\n",
       "10029           gas  ...  5dfa56fddc265f7ac3bee209\n",
       "10030           gas  ...  5dfa56fddc265f7ac3bee209\n",
       "10031           gas  ...  5dfa56fddc265f7ac3bee209\n",
       "10032           gas  ...  5dfa56fddc265f7ac3bee209\n",
       "\n",
       "[10033 rows x 6 columns]"
      ]
     },
     "execution_count": 12,
     "metadata": {},
     "output_type": "execute_result"
    }
   ],
   "source": [
    "generations "
   ]
  },
  {
   "cell_type": "code",
   "execution_count": 13,
   "metadata": {
    "colab": {
     "base_uri": "https://localhost:8080/"
    },
    "executionInfo": {
     "elapsed": 91061,
     "status": "ok",
     "timestamp": 1643516868605,
     "user": {
      "displayName": "Gokul Srinivasan",
      "photoUrl": "https://lh3.googleusercontent.com/a/default-user=s64",
      "userId": "01072835723997484871"
     },
     "user_tz": 480
    },
    "id": "ultTxam7p32o",
    "outputId": "3227f75a-05c3-4c66-cf6b-c97618511fc9"
   },
   "outputs": [
    {
     "name": "stdout",
     "output_type": "stream",
     "text": [
      "{'5563984afdf99b672b5749b6': {'bdi': 3, 'bai': 7, 'panas_pos': 32, 'openness': 35, 'beck': 10}, '5591827dfdf99b4fccbdfb21': {'bdi': 27, 'bai': 16, 'panas_pos': 26, 'openness': 27, 'beck': 43}, '55c43918fdf99b080551e044': {'bdi': 13, 'bai': 26, 'panas_pos': 28, 'openness': 33, 'beck': 39}, '55d5e2c9db6a810006fa078b': {'bdi': 18, 'bai': 13, 'panas_pos': 18, 'openness': 29, 'beck': 31}, '55f0c4ba4779250012dd2ff5': {'bdi': 27, 'bai': 21, 'panas_pos': 20, 'openness': 23, 'beck': 48}, '566a1d697da0350005b39de3': {'bdi': 0, 'bai': 0, 'panas_pos': 38, 'openness': 31, 'beck': 0}, '56797198c3041a0012b64b5e': {'bdi': 0, 'bai': 0, 'panas_pos': 34, 'openness': 34, 'beck': 0}, '56f29effed0cf60006911528': {'bdi': 5, 'bai': 7, 'panas_pos': 24, 'openness': 38, 'beck': 12}, '570521cfde5095001018a0c8': {'bdi': 3, 'bai': 14, 'panas_pos': 23, 'openness': 34, 'beck': 17}, '573a8aca67421f000f191c52': {'bdi': 0, 'bai': 4, 'panas_pos': 29, 'openness': 32, 'beck': 4}, '57509d9b363e77000695620b': {'bdi': 2, 'bai': 1, 'panas_pos': 41, 'openness': 36, 'beck': 3}, '5758a211cb13810006479a0d': {'bdi': 7, 'bai': 1, 'panas_pos': 24, 'openness': 36, 'beck': 8}, '57b60487e5b60d0001083aea': {'bdi': 0, 'bai': 0, 'panas_pos': 10, 'openness': 33, 'beck': 0}, '57f2da5c6c19420001438d19': {'bdi': 0, 'bai': 1, 'panas_pos': 45, 'openness': 33, 'beck': 1}, '58064d91f25c440001678a10': {'bdi': 0, 'bai': 0, 'panas_pos': 27, 'openness': 33, 'beck': 0}, '5832fa8996ecce0001d65197': {'bdi': 9, 'bai': 22, 'panas_pos': 24, 'openness': 33, 'beck': 31}, '585eb4cfc34844000174d807': {'bdi': 1, 'bai': 2, 'panas_pos': 24, 'openness': 33, 'beck': 3}, '589ce4d65e63bf00013b3175': {'bdi': 0, 'bai': 0, 'panas_pos': 37, 'openness': 30, 'beck': 0}, '58be162d2e4dc0000164b12c': {'bdi': 0, 'bai': 0, 'panas_pos': 38, 'openness': 34, 'beck': 0}, '58d3dad59dbe3f0001258f66': {'bdi': 0, 'bai': 0, 'panas_pos': 45, 'openness': 31, 'beck': 0}, '58f1017ac325470001795b01': {'bdi': 0, 'bai': 3, 'panas_pos': 37, 'openness': 32, 'beck': 3}, '58fe1c529dc84a000134e24e': {'bdi': 0, 'bai': 0, 'panas_pos': 35, 'openness': 34, 'beck': 0}, '597b81f3de42bf000181db0b': {'bdi': 15, 'bai': 11, 'panas_pos': 18, 'openness': 33, 'beck': 26}, '598c9125cceb0f0001b39697': {'bdi': 30, 'bai': 7, 'panas_pos': 21, 'openness': 35, 'beck': 37}, '599da50e17c03c000151b18b': {'bdi': 20, 'bai': 8, 'panas_pos': 16, 'openness': 25, 'beck': 28}, '5a282206b279aa0001b0e002': {'bdi': 0, 'bai': 0, 'panas_pos': 35, 'openness': 32, 'beck': 0}, '5a348ea750833c0001ee9550': {'bdi': 0, 'bai': 0, 'panas_pos': 28, 'openness': 34, 'beck': 0}, '5a4ff86beedc32000141f232': {'bdi': 15, 'bai': 28, 'panas_pos': 26, 'openness': 32, 'beck': 43}, '5a64417931b87a0001c6f48b': {'bdi': 16, 'bai': 21, 'panas_pos': 26, 'openness': 32, 'beck': 37}, '5a78dbb9ae9a0b0001a97212': {'bdi': 0, 'bai': 1, 'panas_pos': 27, 'openness': 34, 'beck': 1}, '5a78e410ae9a0b0001a97274': {'bdi': 0, 'bai': 1, 'panas_pos': 25, 'openness': 32, 'beck': 1}, '5a9998a14eecca0001dd791e': {'bdi': 0, 'bai': 0, 'panas_pos': 41, 'openness': 33, 'beck': 0}, '5ac4c730f69e940001d977e1': {'bdi': 0, 'bai': 0, 'panas_pos': 36, 'openness': 34, 'beck': 0}, '5ac50a19a3ba7a0001b4a483': {'bdi': 25, 'bai': 11, 'panas_pos': 15, 'openness': 32, 'beck': 36}, '5acb7b0ae1099600016acdd6': {'bdi': 0, 'bai': 0, 'panas_pos': 35, 'openness': 33, 'beck': 0}, '5acbead40527ba0001c2680a': {'bdi': 16, 'bai': 5, 'panas_pos': 21, 'openness': 27, 'beck': 21}, '5ae208fe38df950001454cc3': {'bdi': 16, 'bai': 18, 'panas_pos': 16, 'openness': 38, 'beck': 34}, '5ae5283253072800018d5b81': {'bdi': 8, 'bai': 13, 'panas_pos': 27, 'openness': 27, 'beck': 21}, '5aeeb4903c80f200013af2ed': {'bdi': 12, 'bai': 1, 'panas_pos': 12, 'openness': 37, 'beck': 13}, '5b0ad393e9270900013b96e6': {'bdi': 15, 'bai': 8, 'panas_pos': 22, 'openness': 36, 'beck': 23}, '5b2890f10ec82d0001d24b61': {'bdi': 7, 'bai': 4, 'panas_pos': 32, 'openness': 31, 'beck': 11}, '5b6cd50f9ee1a50001c5f481': {'bdi': 8, 'bai': 6, 'panas_pos': 34, 'openness': 34, 'beck': 14}, '5b76ce43bfc4cb0001f2c4c3': {'bdi': 0, 'bai': 17, 'panas_pos': 34, 'openness': 33, 'beck': 17}, '5b824fb6cc06660001a302d4': {'bdi': 0, 'bai': 0, 'panas_pos': 33, 'openness': 31, 'beck': 0}, '5b97f8988ae8150001c7a887': {'bdi': 1, 'bai': 8, 'panas_pos': 31, 'openness': 30, 'beck': 9}, '5b9dd322f074140001050095': {'bdi': 28, 'bai': 23, 'panas_pos': 19, 'openness': 30, 'beck': 51}, '5ba18771e671c600012322e4': {'bdi': 53, 'bai': 23, 'panas_pos': 17, 'openness': 27, 'beck': 76}, '5ba2877a7590cc0001b50d0f': {'bdi': 42, 'bai': 10, 'panas_pos': 11, 'openness': 28, 'beck': 52}, '5ba292385301b80001c71ba2': {'bdi': 0, 'bai': 0, 'panas_pos': 46, 'openness': 37, 'beck': 0}, '5ba3b4b2509a380001bee71d': {'bdi': 8, 'bai': 3, 'panas_pos': 33, 'openness': 35, 'beck': 11}, '5bbf916162b9aa00011466a3': {'bdi': 4, 'bai': 9, 'panas_pos': 31, 'openness': 34, 'beck': 13}, '5bdc8d12b2fff7000189b6f8': {'bdi': 0, 'bai': 2, 'panas_pos': 26, 'openness': 33, 'beck': 2}, '5bdcd88176d6d50001bc3849': {'bdi': 5, 'bai': 1, 'panas_pos': 23, 'openness': 27, 'beck': 6}, '5be87e33a14b540001aa2ea5': {'bdi': 4, 'bai': 6, 'panas_pos': 18, 'openness': 32, 'beck': 10}, '5be9ce784f251d00015ce92e': {'bdi': 13, 'bai': 3, 'panas_pos': 12, 'openness': 32, 'beck': 16}, '5bec5b873ffbad0001e8b968': {'bdi': 18, 'bai': 20, 'panas_pos': 30, 'openness': 37, 'beck': 38}, '5bf349126f97050001e6a6e6': {'bdi': 16, 'bai': 23, 'panas_pos': 36, 'openness': 37, 'beck': 39}, '5bf408f7f35e0c000101693a': {'bdi': 4, 'bai': 0, 'panas_pos': 37, 'openness': 30, 'beck': 4}, '5bfadc1846911f0001d7d1eb': {'bdi': 21, 'bai': 28, 'panas_pos': 17, 'openness': 29, 'beck': 49}, '5c224f5289f0350001738d48': {'bdi': 31, 'bai': 24, 'panas_pos': 11, 'openness': 19, 'beck': 55}, '5c2414b8101408000140617a': {'bdi': 2, 'bai': 1, 'panas_pos': 39, 'openness': 32, 'beck': 3}, '5c376ea0eecc440001c58889': {'bdi': 0, 'bai': 9, 'panas_pos': 41, 'openness': 35, 'beck': 9}, '5c39606586c1450001a9675d': {'bdi': 51, 'bai': 33, 'panas_pos': 17, 'openness': 35, 'beck': 84}, '5c670a430d80fd00014264f9': {'bdi': 0, 'bai': 1, 'panas_pos': 34, 'openness': 34, 'beck': 1}, '5c71b63c4aa8ec0001f2bfc4': {'bdi': 13, 'bai': 2, 'panas_pos': 27, 'openness': 37, 'beck': 15}, '5c745589be30fc0014e83dc2': {'bdi': 45, 'bai': 23, 'panas_pos': 20, 'openness': 34, 'beck': 68}, '5c78dc27e8df4d00150c5252': {'bdi': 25, 'bai': 14, 'panas_pos': 16, 'openness': 30, 'beck': 39}, '5ca9e89dcb4af3001440da22': {'bdi': 24, 'bai': 9, 'panas_pos': 12, 'openness': 33, 'beck': 33}, '5caa4435fd086000196ddf13': {'bdi': 18, 'bai': 1, 'panas_pos': 19, 'openness': 31, 'beck': 19}, '5cc7615f47a31a0001baec75': {'bdi': 8, 'bai': 9, 'panas_pos': 30, 'openness': 33, 'beck': 17}, '5cd063ce657e300016f6c95a': {'bdi': 32, 'bai': 25, 'panas_pos': 23, 'openness': 39, 'beck': 57}, '5ce2f6723f8060000109feab': {'bdi': 10, 'bai': 1, 'panas_pos': 23, 'openness': 31, 'beck': 11}, '5cf551508926360018a5e9ff': {'bdi': 14, 'bai': 11, 'panas_pos': 17, 'openness': 35, 'beck': 25}, '5cfeea9c4954fe00165895e0': {'bdi': 5, 'bai': 2, 'panas_pos': 15, 'openness': 29, 'beck': 7}, '5d1a13a0ae692800192fa1c2': {'bdi': 9, 'bai': 7, 'panas_pos': 37, 'openness': 35, 'beck': 16}, '5d215a1bbf7f840019701939': {'bdi': 23, 'bai': 11, 'panas_pos': 22, 'openness': 33, 'beck': 34}, '5d332957d0635b00013bd785': {'bdi': 4, 'bai': 1, 'panas_pos': 19, 'openness': 32, 'beck': 5}, '5d37ad921c16bb0015281337': {'bdi': 10, 'bai': 11, 'panas_pos': 22, 'openness': 31, 'beck': 21}, '5d3b6bb933b8940001258d39': {'bdi': 11, 'bai': 14, 'panas_pos': 19, 'openness': 33, 'beck': 25}, '5d4359295a5b010001523b4e': {'bdi': 38, 'bai': 36, 'panas_pos': 25, 'openness': 30, 'beck': 74}, '5d461284d9b0690001720f6d': {'bdi': 0, 'bai': 6, 'panas_pos': 18, 'openness': 31, 'beck': 6}, '5d4c7ac3e8ec490018b0050d': {'bdi': 26, 'bai': 27, 'panas_pos': 17, 'openness': 27, 'beck': 53}, '5d558ebe886e3f0020e90fce': {'bdi': 3, 'bai': 11, 'panas_pos': 34, 'openness': 34, 'beck': 14}, '5d5eeb06d8bcde00162d73f1': {'bdi': 55, 'bai': 27, 'panas_pos': 11, 'openness': 35, 'beck': 82}, '5d6376ec7e447f001c971315': {'bdi': 0, 'bai': 0, 'panas_pos': 28, 'openness': 35, 'beck': 0}, '5d6466d84e9aae0001598a5a': {'bdi': 36, 'bai': 29, 'panas_pos': 15, 'openness': 34, 'beck': 65}, '5d7cefc73f9ae70018b400f1': {'bdi': 1, 'bai': 1, 'panas_pos': 28, 'openness': 33, 'beck': 2}, '5d7e5e9b377dc300014335de': {'bdi': 0, 'bai': 0, 'panas_pos': 42, 'openness': 32, 'beck': 0}, '5d88db42c1d06e001a1fdcab': {'bdi': 2, 'bai': 2, 'panas_pos': 31, 'openness': 34, 'beck': 4}, '5d88f2f8cefb52001a83f1b2': {'bdi': 4, 'bai': 2, 'panas_pos': 24, 'openness': 35, 'beck': 6}, '5dba0a89ffee14070ae13f74': {'bdi': 7, 'bai': 13, 'panas_pos': 19, 'openness': 36, 'beck': 20}, '5dbc73047d3d3622bcd31170': {'bdi': 0, 'bai': 0, 'panas_pos': 18, 'openness': 24, 'beck': 0}, '5dc1a56a648927000be0fca7': {'bdi': 6, 'bai': 1, 'panas_pos': 37, 'openness': 32, 'beck': 7}, '5dc592c6aa431440aa755d5b': {'bdi': 24, 'bai': 29, 'panas_pos': 35, 'openness': 36, 'beck': 53}, '5dc59839e4f0ff41239cb481': {'bdi': 4, 'bai': 0, 'panas_pos': 24, 'openness': 28, 'beck': 4}, '5dcc27974b54778b69e62ec5': {'bdi': 11, 'bai': 4, 'panas_pos': 32, 'openness': 32, 'beck': 15}, '5dcca657854936945d68eaa9': {'bdi': 0, 'bai': 0, 'panas_pos': 34, 'openness': 35, 'beck': 0}, '5dd0098e01fadf0fa6c3a15f': {'bdi': 8, 'bai': 5, 'panas_pos': 19, 'openness': 31, 'beck': 13}, '5dd6d370194e486498e13ab6': {'bdi': 9, 'bai': 3, 'panas_pos': 20, 'openness': 28, 'beck': 12}, '5dd9e1e0a4aa2696d9a15c0d': {'bdi': 22, 'bai': 12, 'panas_pos': 33, 'openness': 37, 'beck': 34}, '5ddeb0232e4a05e10f448a80': {'bdi': 14, 'bai': 15, 'panas_pos': 22, 'openness': 36, 'beck': 29}, '5dea7bbcf4c5e11a098a326d': {'bdi': 8, 'bai': 3, 'panas_pos': 24, 'openness': 31, 'beck': 11}, '5ded9996838b4f45b83bb3f9': {'bdi': 6, 'bai': 25, 'panas_pos': 33, 'openness': 32, 'beck': 31}, '5df12d8b53e84603acbf5319': {'bdi': 22, 'bai': 40, 'panas_pos': 20, 'openness': 34, 'beck': 62}, '5dfa56fddc265f7ac3bee209': {'bdi': 1, 'bai': 0, 'panas_pos': 33, 'openness': 36, 'beck': 1}, '5e1e935be3c7191e0519b486': {'bdi': 1, 'bai': 3, 'panas_pos': 23, 'openness': 27, 'beck': 4}, '5e29c3e725dcfd01cef9f474': {'bdi': 0, 'bai': 0, 'panas_pos': 28, 'openness': 35, 'beck': 0}, '5e2b28a1c94da6180ea79d5d': {'bdi': 7, 'bai': 6, 'panas_pos': 21, 'openness': 31, 'beck': 13}, '5e387f2c0d70ef099d5e5a4f': {'bdi': 0, 'bai': 1, 'panas_pos': 38, 'openness': 31, 'beck': 1}, '5e3b8f110d41ad3a7bc35019': {'bdi': 26, 'bai': 24, 'panas_pos': 20, 'openness': 29, 'beck': 50}, '5e42f74f5b772a18434cabf7': {'bdi': 8, 'bai': 0, 'panas_pos': 22, 'openness': 32, 'beck': 8}, '5e6844d12062a1012a278976': {'bdi': 3, 'bai': 2, 'panas_pos': 15, 'openness': 33, 'beck': 5}, '5e7a6846f0f631000a4e2b9d': {'bdi': 0, 'bai': 0, 'panas_pos': 37, 'openness': 34, 'beck': 0}, '5e7e70c583c34c53f6c643db': {'bdi': 16, 'bai': 14, 'panas_pos': 20, 'openness': 27, 'beck': 30}, '5e801ffa2b3c3870ecdf7865': {'bdi': 0, 'bai': 6, 'panas_pos': 40, 'openness': 33, 'beck': 6}, '5e83bb0601aa8c11929fa6d4': {'bdi': 21, 'bai': 6, 'panas_pos': 32, 'openness': 31, 'beck': 27}, '5e8601d90126b207e8c7a2aa': {'bdi': 8, 'bai': 5, 'panas_pos': 27, 'openness': 28, 'beck': 13}, '5e8727fb90c37002d97ca052': {'bdi': 6, 'bai': 2, 'panas_pos': 29, 'openness': 33, 'beck': 8}, '5e8cf14c0bec230b335e060d': {'bdi': 14, 'bai': 3, 'panas_pos': 20, 'openness': 29, 'beck': 17}, '5e9746fb1eed951eed404015': {'bdi': 2, 'bai': 2, 'panas_pos': 38, 'openness': 36, 'beck': 4}, '5e9749b44592572013c96868': {'bdi': 4, 'bai': 0, 'panas_pos': 39, 'openness': 28, 'beck': 4}, '5eaa605c7c3cbc1f14421a94': {'bdi': 11, 'bai': 16, 'panas_pos': 20, 'openness': 27, 'beck': 27}, '5eb313d87a289b0f847a7752': {'bdi': 5, 'bai': 7, 'panas_pos': 28, 'openness': 30, 'beck': 12}, '5eb339ee6290bc124b8549a6': {'bdi': 1, 'bai': 1, 'panas_pos': 23, 'openness': 33, 'beck': 2}, '5eb983034987d1074b5232ce': {'bdi': 17, 'bai': 7, 'panas_pos': 27, 'openness': 21, 'beck': 24}, '5ec03a7169738f43d87ffc72': {'bdi': 25, 'bai': 22, 'panas_pos': 14, 'openness': 30, 'beck': 47}, '5ed478fa7d20a043b7c3be83': {'bdi': 2, 'bai': 8, 'panas_pos': 32, 'openness': 37, 'beck': 10}, '5ed83674e7cb0a18273e9028': {'bdi': 47, 'bai': 44, 'panas_pos': 14, 'openness': 37, 'beck': 91}, '5eda94f69f275211dff92234': {'bdi': 6, 'bai': 8, 'panas_pos': 28, 'openness': 31, 'beck': 14}, '5edc0720ec975e0dc6385210': {'bdi': 17, 'bai': 31, 'panas_pos': 29, 'openness': 37, 'beck': 48}, '5ededc7ab3595e17ef9533df': {'bdi': 5, 'bai': 4, 'panas_pos': 31, 'openness': 33, 'beck': 9}, '5ee232f2b970662cfa352567': {'bdi': 2, 'bai': 4, 'panas_pos': 35, 'openness': 32, 'beck': 6}, '5ef0d115ebe9a70ee13bcd52': {'bdi': 9, 'bai': 2, 'panas_pos': 18, 'openness': 32, 'beck': 11}, '5f0632802b566a17e81a5f5f': {'bdi': 11, 'bai': 6, 'panas_pos': 38, 'openness': 34, 'beck': 17}, '5f112ff34bd17349da319e7c': {'bdi': 5, 'bai': 11, 'panas_pos': 18, 'openness': 27, 'beck': 16}, '5f16f737b1487a01161d4f93': {'bdi': 6, 'bai': 24, 'panas_pos': 31, 'openness': 35, 'beck': 30}, '5f202f442841bb2b5a8bda34': {'bdi': 9, 'bai': 16, 'panas_pos': 17, 'openness': 28, 'beck': 25}, '5f2150b3319efd2d619a356b': {'bdi': 15, 'bai': 10, 'panas_pos': 30, 'openness': 33, 'beck': 25}, '5f2db71d8107210d51d6a0a7': {'bdi': 5, 'bai': 22, 'panas_pos': 38, 'openness': 31, 'beck': 27}, '5f36bde6d3369c0cadac39bf': {'bdi': 6, 'bai': 6, 'panas_pos': 41, 'openness': 30, 'beck': 12}, '5f37f046d1a0bd2af1cb0ce6': {'bdi': 8, 'bai': 6, 'panas_pos': 31, 'openness': 34, 'beck': 14}, '5f3c6e44dc97f2aee9a67c7b': {'bdi': 10, 'bai': 3, 'panas_pos': 24, 'openness': 33, 'beck': 13}, '5f47e6376aa63923f3804e3b': {'bdi': 4, 'bai': 4, 'panas_pos': 37, 'openness': 35, 'beck': 8}, '5f4b283c6e1f3e6ec65c32f6': {'bdi': 0, 'bai': 0, 'panas_pos': 45, 'openness': 39, 'beck': 0}, '5f4d40ca75b5258bf5af8cca': {'bdi': 5, 'bai': 9, 'panas_pos': 22, 'openness': 34, 'beck': 14}, '5f565c9592080106c6b4d467': {'bdi': 29, 'bai': 21, 'panas_pos': 16, 'openness': 29, 'beck': 50}, '5f56e1d1b72358165158550d': {'bdi': 3, 'bai': 1, 'panas_pos': 22, 'openness': 32, 'beck': 4}, '5f5a534ca009210e9602114f': {'bdi': 21, 'bai': 21, 'panas_pos': 11, 'openness': 30, 'beck': 42}, '5f75285712d5ca1a99723b3a': {'bdi': 0, 'bai': 2, 'panas_pos': 18, 'openness': 28, 'beck': 2}, '5f828002935db93a4d29d577': {'bdi': 10, 'bai': 9, 'panas_pos': 32, 'openness': 32, 'beck': 19}, '5f919a881f37510203a7a638': {'bdi': 31, 'bai': 18, 'panas_pos': 22, 'openness': 30, 'beck': 49}, '5f989fa02b5a611b2df1a305': {'bdi': 8, 'bai': 12, 'panas_pos': 37, 'openness': 35, 'beck': 20}, '5f99a9a8a1558603b27e39e5': {'bdi': 0, 'bai': 0, 'panas_pos': 34, 'openness': 33, 'beck': 0}, '5fa17ddeabc188288bde81c8': {'bdi': 5, 'bai': 0, 'panas_pos': 30, 'openness': 33, 'beck': 5}, '5fb3d71c3144730009fe4a7b': {'bdi': 0, 'bai': 1, 'panas_pos': 36, 'openness': 33, 'beck': 1}, '5fb9b9c1c62f408e51e09e32': {'bdi': 4, 'bai': 5, 'panas_pos': 30, 'openness': 36, 'beck': 9}, '5fbd057ea95c7102638685d5': {'bdi': 26, 'bai': 11, 'panas_pos': 15, 'openness': 25, 'beck': 37}, '5fdca41ecb769722e2266d8a': {'bdi': 24, 'bai': 16, 'panas_pos': 16, 'openness': 35, 'beck': 40}, '5ff40482197628a732bdf46a': {'bdi': 36, 'bai': 10, 'panas_pos': 18, 'openness': 23, 'beck': 46}, '5ff5f7ad932d56101bf7c90d': {'bdi': 17, 'bai': 9, 'panas_pos': 17, 'openness': 34, 'beck': 26}, '60035a7089252e07b1d4b077': {'bdi': 7, 'bai': 9, 'panas_pos': 12, 'openness': 36, 'beck': 16}, '6010e0dab98c814912076b27': {'bdi': 3, 'bai': 5, 'panas_pos': 41, 'openness': 35, 'beck': 8}, '60185121c694790aa6520236': {'bdi': 8, 'bai': 4, 'panas_pos': 24, 'openness': 32, 'beck': 12}, '603e97154847faf7531b40b6': {'bdi': 1, 'bai': 7, 'panas_pos': 30, 'openness': 32, 'beck': 8}, '603fa7d057d382087d66d1c2': {'bdi': 0, 'bai': 7, 'panas_pos': 50, 'openness': 33, 'beck': 7}, '604445808afbd64cbbcd20a1': {'bdi': 31, 'bai': 24, 'panas_pos': 15, 'openness': 23, 'beck': 55}, '604bd44cb5668ba12cc9376e': {'bdi': 14, 'bai': 5, 'panas_pos': 21, 'openness': 34, 'beck': 19}, '606609111ba10f35596db018': {'bdi': 0, 'bai': 7, 'panas_pos': 48, 'openness': 33, 'beck': 7}, '6068bf5914131f3a1a80a413': {'bdi': 2, 'bai': 0, 'panas_pos': 29, 'openness': 35, 'beck': 2}, '607c9f94cc974d4ea1dc22c8': {'bdi': 22, 'bai': 16, 'panas_pos': 22, 'openness': 29, 'beck': 38}}\n",
      "{'5563984afdf99b672b5749b6': {0: 0.5846313122246001, 1: 0.5758181422948837, 2: 0.5752087503671646, 3: 0.512516943944825, 4: 0.42128404024988414, 5: 0.5471659782860014}, '5591827dfdf99b4fccbdfb21': {0: 0.6554685935378075, 1: 0.6876636385917664, 2: 0.735663526588016, 3: 0.5717308885521359, 4: 0.6039208195039204, 5: 0.747370206647449}, '55c43918fdf99b080551e044': {0: 0.49390568882226943, 1: 0.5287095464766025, 2: 0.5513522122055292, 3: 0.5674428775906563, 4: 0.6948482111096382, 5: 0.5167625215318468}, '55d5e2c9db6a810006fa078b': {0: 0.6852467738919787, 1: 0.5586644295189116, 2: 0.634478010237217, 3: 0.5519267357885838, 4: 0.7194678783416748, 5: 0.6571957170963287}, '55f0c4ba4779250012dd2ff5': {0: 0.6338283404707908, 1: 0.5461537912487984, 2: 0.6274716757237911, 3: 0.6034015980031755, 4: 0.5136024050414563, 5: 0.4485054239630699}, '566a1d697da0350005b39de3': {0: 0.7278972804546356, 1: 0.5200135517451498, 2: 0.6849201818307241, 3: 0.6082286588847637, 4: 0.6013887241482735, 5: 0.7180322971608903}, '56797198c3041a0012b64b5e': {0: 0.6316910518540276, 1: 0.6728746861219406, 2: 0.6489255934953689, 3: 0.6302972733974457, 4: 0.7020409807562829, 5: 0.6900838732719421}, '56f29effed0cf60006911528': {0: 0.7257891923189164, 1: 0.6554969847202301, 2: 0.6806166350841523, 3: 0.6168834149837494, 4: 0.5217130362987519, 5: 0.5390035493506325}, '570521cfde5095001018a0c8': {0: 0.44926992389890885, 1: 0.6969734042882919, 2: 0.6499066278338432, 3: 0.6131682991981506, 4: 0.5470320168468688, 5: 0.7103795260190964}, '573a8aca67421f000f191c52': {0: 0.6161062916119894, 1: 0.7266806624829769, 2: 0.7665804952383042, 3: 0.6877535410225392, 4: 0.747784098982811, 5: 0.6969730138778687}, '57509d9b363e77000695620b': {0: 0.651624881558948, 1: 0.5858938798308373, 2: 0.4933500157462226, 3: 0.6192178593741523, 4: 0.7082862228155136, 5: 0.6658170908689499}, '5758a211cb13810006479a0d': {0: 0.6906825572252273, 1: 0.6467728184329139, 2: 0.525310238202413, 3: 0.6644109845161438, 4: 0.6888186916708946, 5: 0.6469347182661295}, '57b60487e5b60d0001083aea': {0: 0.48381025306880476, 1: 0.5677378460764885, 2: 0.6792925149202347, 3: 0.6674648195505142, 4: 0.6047623232007027, 5: 0.6365420487191942}, '57f2da5c6c19420001438d19': {0: 0.6432035952806473, 1: 0.4469059366732836, 2: 0.5725496530532836, 3: 0.4118469975888729, 4: 0.5761650919914245, 5: 0.42211332693696024}, '58064d91f25c440001678a10': {0: 0.6130203753709793, 1: 0.5986809443682433, 2: 0.6238801015747918, 3: 0.544265047647059, 4: 0.5586051444212595, 5: 0.5578868372572793}, '581649f0b434f0000184d2a9': {0: 0.6957138379414877, 1: 0.6476986676454544, 2: 0.7127628293302324, 3: 0.5899883024394512, 4: 0.690572090446949, 5: 0.7400255620479583}, '5832fa8996ecce0001d65197': {0: 0.5631762396544218, 1: 0.5632351085543632, 2: 0.4195157438516617, 3: 0.550211799889803, 4: 0.5504661930931939, 5: 0.5619173869490623}, '585eb4cfc34844000174d807': {0: 0.7073242485523223, 1: 0.6861414866788047, 2: 0.5670184083282948, 3: 0.7170897656016879, 4: 0.7054668433136411, 5: 0.640907903512319}, '589ce4d65e63bf00013b3175': {0: 0.5255213504036268, 1: 0.3881313446909189, 2: 0.5501189405719439, 3: 0.6189173400402069, 4: 0.6305832475423813, 5: 0.620301790907979}, '58be162d2e4dc0000164b12c': {0: 0.7593187292416891, 1: 0.7727723211050034, 2: 0.7199428789317608, 3: 0.6266083596274257, 4: 0.566029106080532, 5: 0.5002652183175087}, '58d3dad59dbe3f0001258f66': {0: 0.6501547396183014, 1: 0.5201586573384702, 2: 0.6452482752501965, 3: 0.6268851906061172, 4: 0.6522475693907056, 5: 0.47038442343473436}, '58f1017ac325470001795b01': {0: 0.5902839534812503, 1: 0.6194793716073036, 2: 0.7299422323703766, 3: 0.545803889632225, 4: 0.6544300556182862, 5: 0.7088924083444808}, '58fe1c529dc84a000134e24e': {0: 0.667684893641207, 1: 0.6253637141651578, 2: 0.5739209800958633, 3: 0.6591311310018811, 4: 0.7534257239765592, 5: 0.57633183317052}, '597b81f3de42bf000181db0b': {0: 0.42713479780488545, 1: 0.6202777996659279, 2: 0.5402764193713665, 3: 0.6420790284872055, 4: 0.7022463530302048, 5: 0.5467383429408074}, '598c9125cceb0f0001b39697': {0: 0.6822111696004868, 1: 0.5486420534551144, 2: 0.5805409155786038, 3: 0.44401154331862924, 4: 0.5851793818175792, 5: 0.5869780965149403}, '599da50e17c03c000151b18b': {0: 0.6696308225393295, 1: 0.526890252251178, 2: 0.5947199247777462, 3: 0.5698509894311428, 4: 0.6825125753879547, 5: 0.43348769491745365}, '5a282206b279aa0001b0e002': {0: 0.5481581300497055, 1: 0.6427597157657147, 2: 0.5379234254360199, 3: 0.4993353560566902, 4: 0.6307432562112808, 5: 0.5781086415052414}, '5a348ea750833c0001ee9550': {0: 0.6702370569109917, 1: 0.7941701610883077, 2: 0.5280396781861783, 3: 0.7358321696519852, 4: 0.47262312192469835, 5: 0.7747160858578153}, '5a4ff86beedc32000141f232': {0: 0.6926110982894897, 1: 0.6286432340741157, 2: 0.6062618501484394, 3: 0.6375390887260437, 4: 0.5966026991605758, 5: 0.6029485661536456}, '5a64417931b87a0001c6f48b': {0: 0.5902123495936393, 1: 0.6483669579029083, 2: 0.4448692940175533, 3: 0.5344136988744139, 4: 0.531869813385937, 5: 0.48662420817547375}, '5a6b998a3fb6420001c2f97a': {0: 0.6651229066774249, 1: 0.6943863795863258, 2: 0.6575013194233179, 3: 0.766940250992775, 4: 0.6977559824784597, 5: 0.7604505009949207}, '5a78dbb9ae9a0b0001a97212': {0: 0.5692619747585721, 1: 0.693133811155955, 2: 0.5898124054074287, 3: 0.5383068534235159, 4: 0.6733970741430918, 5: 0.6294229328632355}, '5a78e410ae9a0b0001a97274': {0: 0.5316475166214837, 1: 0.6334624834358692, 2: 0.5898843302857131, 3: 0.6056504526308605, 4: 0.5193681493401527, 5: 0.706167459487915}, '5a9998a14eecca0001dd791e': {0: 0.5876354217529297, 1: 0.5995707742869854, 2: 0.48641459494829176, 3: 0.6628402948379517, 4: 0.6892753139138221, 5: 0.6774247222476535}, '5ac4c730f69e940001d977e1': {0: 0.7054261416196823, 1: 0.7279694885015487, 2: 0.46011901944875716, 3: 0.7116053104400635, 4: 0.6982241481542587, 5: 0.5093879759311676}, '5ac50a19a3ba7a0001b4a483': {0: 0.6738442450761795, 1: 0.6027878820896149, 2: 0.6755103394389153, 3: 0.6307392016053199, 4: 0.6057361215353012, 5: 0.572098990281423}, '5acb7b0ae1099600016acdd6': {0: 0.5756299719214439, 1: 0.5322261169552803, 2: 0.5829390817218356, 3: 0.5219105526804924, 4: 0.53012772070037, 5: 0.6505595535039902}, '5acbead40527ba0001c2680a': {0: 0.6070504516363144, 1: 0.6846929609775543, 2: 0.5268493421375752, 3: 0.547082707285881, 4: 0.6247705088721381, 5: 0.6773620479636722}, '5ae208fe38df950001454cc3': {0: 0.7972946882247924, 1: 0.6394078508019447, 2: 0.4502008486539125, 3: 0.4469405710697174, 4: 0.39927703365683553, 5: 0.43655423559248446}, '5ae5283253072800018d5b81': {0: 0.6069273605942727, 1: 0.7438478961586952, 2: 0.6952770859003067, 3: 0.7101964255174001, 4: 0.4932568907737732, 5: 0.47528192814853454}, '5aeeb4903c80f200013af2ed': {0: 0.6432796359062195, 1: 0.5774901866912842, 2: 0.6775503695011139, 3: 0.639383009262383, 4: 0.5483321934938431, 5: 0.4871447481215}, '5b0ad393e9270900013b96e6': {0: 0.5503780588507652, 1: 0.6992869608932071, 2: 0.7224725693464279, 3: 0.550278890464041, 4: 0.6336170468065474, 5: 0.5857758233323693}, '5b2890f10ec82d0001d24b61': {0: 0.6325636520981789, 1: 0.5888713642954826, 2: 0.4802985906600952, 3: 0.7080199647694826, 4: 0.7005169868469239, 5: 0.6324014902114868}, '5b6cd50f9ee1a50001c5f481': {0: 0.6959632426500321, 1: 0.6614058554172516, 2: 0.6493503683143191, 3: 0.47328616231679915, 4: 0.6869986057281494, 5: 0.6431708075106144}, '5b76ce43bfc4cb0001f2c4c3': {0: 0.5691896092146635, 1: 0.7385194510221481, 2: 0.7403491169214249, 3: 0.3662273153662682, 4: 0.43532757498323915, 5: 0.40985393188893793}, '5b824fb6cc06660001a302d4': {0: 0.7712423622608184, 1: 0.7039531841874123, 2: 0.618337731063366, 3: 0.6936403297715716, 4: 0.6175697189238336, 5: 0.6855586767196655}, '5b97f8988ae8150001c7a887': {0: 0.6993500789006551, 1: 0.7373127639293671, 2: 0.7241520881652832, 3: 0.6301467508077622, 4: 0.6433181613683701, 5: 0.6695811934769154}, '5b9dd322f074140001050095': {0: 0.6067922181553311, 1: 0.4427266865968704, 2: 0.6387771119674047, 3: 0.6409163907170295, 4: 0.4795042861253023, 5: 0.5737535730004311}, '5ba18771e671c600012322e4': {0: 0.8083162009716034, 1: 0.7722413390874863, 2: 0.6668840318918228, 3: 0.5083914045244455, 4: 0.53549932812651, 5: 0.5128798600286245}, '5ba2877a7590cc0001b50d0f': {0: 0.5281328357756138, 1: 0.6443192422389984, 2: 0.5720615699887276, 3: 0.6562929183244706, 4: 0.6042082384228706, 5: 0.7151166096329689}, '5ba292385301b80001c71ba2': {0: 0.8044536352157593, 1: 0.6698589384555816, 2: 0.6697559356689453, 3: 0.7018397688865662, 4: 0.7247101977467537, 5: 0.6403552412986755}, '5ba3b4b2509a380001bee71d': {0: 0.5488983631134033, 1: 0.6568195700645447, 2: 0.7046317726373672, 3: 0.5692812497210171, 4: 0.3658476859331131, 5: 0.30695607932284474}, '5bbf916162b9aa00011466a3': {0: 0.5494293928146362, 1: 0.6025059918562571, 2: 0.6565472215414048, 3: 0.5575750142335891, 4: 0.6152132690884173, 5: 0.5286924600601196}, '5bdc8d12b2fff7000189b6f8': {0: 0.6686717808246613, 1: 0.6702479153871537, 2: 0.646085011959076, 3: 0.5766229137778283, 4: 0.6485130108892918, 5: 0.42073884792625904}, '5bdcd88176d6d50001bc3849': {0: 0.6314170178025961, 1: 0.624673131108284, 2: 0.654724445939064, 3: 0.43370593450963496, 4: 0.5157400406897068, 5: 0.5434918486409717}, '5be87e33a14b540001aa2ea5': {0: 0.668195866048336, 1: 0.6502711391076446, 2: 0.5770438472843833, 3: 0.703808881342411, 4: 0.6777628180053499, 5: 0.6613551616668701}, '5be9ce784f251d00015ce92e': {0: 0.6472501248121262, 1: 0.7355679770000279, 2: 0.5663185629993677, 3: 0.6871844116184447, 4: 0.624830225110054, 5: 0.532358149273528}, '5bec5b873ffbad0001e8b968': {0: 0.6345775261521339, 1: 0.6105070958534876, 2: 0.5291499329937829, 3: 0.5572872877120971, 4: 0.6274591544643044, 5: 0.3083499548956752}, '5bf349126f97050001e6a6e6': {0: 0.6462929820020994, 1: 0.6866942554712295, 2: 0.6139875567621655, 3: 0.4982349772006273, 4: 0.4804890387588077, 5: 0.3439839830001195}, '5bf408f7f35e0c000101693a': {0: 0.6957965791225433, 1: 0.6082956210710109, 2: 0.4952993295621127, 3: 0.4199309327173978, 4: 0.5449076291639358, 5: 0.5156204044818878}, '5bfadc1846911f0001d7d1eb': {0: 0.49266008394105093, 1: 0.4671029768884182, 2: 0.7316623777151108, 3: 0.7133116155862809, 4: 0.6054656075106727, 5: 0.4914396842941642}, '5c224f5289f0350001738d48': {0: 0.4388594829610416, 1: 0.7349756260712942, 2: 0.5966148793697357, 3: 0.5374195153514544, 4: 0.6013279019130601, 5: 0.6879779994487762}, '5c2414b8101408000140617a': {0: 0.6920807518064975, 1: 0.6961140349507332, 2: 0.6448228259881338, 3: 0.5770604871213436, 4: 0.6885776122411092, 5: 0.5863811552524567}, '5c376ea0eecc440001c58889': {0: 0.6058602124452591, 1: 0.5400483667850494, 2: 0.5242198780179024, 3: 0.540749654173851, 4: 0.5490360055118799, 5: 0.45414428412914276}, '5c39606586c1450001a9675d': {0: 0.6853501856327057, 1: 0.8681706845760345, 2: 0.7206467125150893, 3: 0.6362420111894608, 4: 0.5827984760204951, 5: 0.536798683512542}, '5c670a430d80fd00014264f9': {0: 0.5717071384191513, 1: 0.4880481421947479, 2: 0.5463538037406074, 3: 0.5523676346987486, 4: 0.573337921500206, 5: 0.6504704311490059}, '5c71b63c4aa8ec0001f2bfc4': {0: 0.5725581645965576, 1: 0.6764759119600058, 2: 0.6202518679201603, 3: 0.4968564071589046, 4: 0.33869998119771483, 5: 0.35848222449421885}, '5c745589be30fc0014e83dc2': {0: 0.7174972265958786, 1: 0.8084746301174164, 2: 0.5629123747348785, 3: 0.6618860848248005, 4: 0.6766880974173546, 5: 0.7128280639648438}, '5c78dc27e8df4d00150c5252': {0: 0.6785788387060165, 1: 0.7472841607199775, 2: 0.6689043305814266, 3: 0.48633456602692604, 4: 0.6025078445672989, 5: 0.6619350016117096}, '5ca9e89dcb4af3001440da22': {0: 0.47224076506164336, 1: 0.533311217609379, 2: 0.6224437786473168, 3: 0.5995533838868141, 4: 0.33362065959307885, 5: 0.5287719782441854}, '5caa4435fd086000196ddf13': {0: 0.6208395764231682, 1: 0.6881924867630005, 2: 0.7514835596084595, 3: 0.5617222603824403, 4: 0.6447613924741745, 5: 0.48630260345008636}, '5cc7615f47a31a0001baec75': {0: 0.7463381793349981, 1: 0.6255237385630608, 2: 0.6598911836743355, 3: 0.6314201712608337, 4: 0.6790283054113389, 5: 0.5888315878808499}, '5cd063ce657e300016f6c95a': {0: 0.755217883321974, 1: 0.6659373177422417, 2: 0.6525742001831532, 3: 0.52891372413271, 4: 0.6088760811835527, 5: 0.6378946828190237}, '5ce2f6723f8060000109feab': {0: 0.5802208382636309, 1: 0.7106286784013113, 2: 0.5714095425274637, 3: 0.6992184733971953, 4: 0.5971915556324853, 5: 0.6967246366871728}, '5cf551508926360018a5e9ff': {0: 0.6760573221577538, 1: 0.5668008998036385, 2: 0.6435967795550823, 3: 0.5563164558261633, 4: 0.5345077980309725, 5: 0.534612387418747}, '5cfeea9c4954fe00165895e0': {0: 0.7400737255811691, 1: 0.5643538812175393, 2: 0.4970487960510784, 3: 0.44075922502411735, 4: 0.41813103295862675, 5: 0.679504279579435}, '5d1a13a0ae692800192fa1c2': {0: 0.5235244065523148, 1: 0.4879966171251403, 2: 0.5806024268269538, 3: 0.5492436468601227, 4: 0.4569150939583778, 5: 0.4553718068636954}, '5d215a1bbf7f840019701939': {0: 0.6943361580371856, 1: 0.5751361946264902, 2: 0.5283792450092732, 3: 0.5728528764512804, 4: 0.6319439114071429, 5: 0.6246371082961559}, '5d332957d0635b00013bd785': {0: 0.5074525855481624, 1: 0.487848076555464, 2: 0.48482194617390634, 3: 0.511379131115973, 4: 0.4375060415930218, 5: 0.6401886977255344}, '5d37ad921c16bb0015281337': {0: 0.5965927131474018, 1: 0.6886210706498888, 2: 0.6741568247477213, 3: 0.6868339909447564, 4: 0.7927473442895072, 5: 0.7346831386288007}, '5d3b6bb933b8940001258d39': {0: 0.390419096313417, 1: 0.5149165259467231, 2: 0.5923575758934021, 3: 0.6280963607132435, 4: 0.4129722224814551, 5: 0.4420732479128573}, '5d4359295a5b010001523b4e': {0: 0.47419385313987733, 1: 0.5494925661219491, 2: 0.6359368281231986, 3: 0.4740970482118428, 4: 0.48786190934479234, 5: 0.7358684473567538}, '5d461284d9b0690001720f6d': {0: 0.657656554877758, 1: 0.5998527146875858, 2: 0.5062429435551167, 3: 0.4563350872033172, 4: 0.6661553018622928, 5: 0.388968525826931}, '5d4c7ac3e8ec490018b0050d': {0: 0.7105597886774275, 1: 0.7016402095556259, 2: 0.5903801741078496, 3: 0.6793918520212173, 4: 0.5938087495742366, 5: 0.7706801742315292}, '5d558ebe886e3f0020e90fce': {0: 0.4565674016873042, 1: 0.5106355831027031, 2: 0.363645042758435, 3: 0.6041147354990244, 4: 0.4744696451558007, 5: 0.5933581188321113}, '5d5eeb06d8bcde00162d73f1': {0: 0.5665280250832438, 1: 0.6430198363959789, 2: 0.7075156647711992, 3: 0.6289017386734486, 4: 0.5239165291190148, 5: 0.7112883687019348}, '5d6376ec7e447f001c971315': {0: 0.6005172215402126, 1: 0.593267273157835, 2: 0.5919225149684482, 3: 0.5152586044536697, 4: 0.7392644211649895, 5: 0.6199054475873709}, '5d6466d84e9aae0001598a5a': {0: 0.6588303416967392, 1: 0.7727846831083298, 2: 0.6899488180875778, 3: 0.6920913027392493, 4: 0.7435015950884137, 5: 0.5709727108478546}, '5d7cefc73f9ae70018b400f1': {0: 0.38719780296087264, 1: 0.5676544740796089, 2: 0.5613138496875762, 3: 0.6831138299571143, 4: 0.6294201537966728, 5: 0.5442513417452574}, '5d7e5e9b377dc300014335de': {0: 0.7052099525928497, 1: 0.5929272754324807, 2: 0.6526365030556918, 3: 0.44637925177812576, 4: 0.47958386937777203, 5: 0.3574867883697152}, '5d88db42c1d06e001a1fdcab': {0: 0.797954124212265, 1: 0.6392724856734275, 2: 0.46903202682733536, 3: 0.550741158425808, 4: 0.6056756734848022, 5: 0.6105770501825545}, '5d88f2f8cefb52001a83f1b2': {0: 0.5978063032031059, 1: 0.6878651052713394, 2: 0.6357051517282214, 3: 0.5608810004260805, 4: 0.6533992696139548, 5: 0.440359578281641}, '5dba0a89ffee14070ae13f74': {0: 0.5952110141515732, 1: 0.5197885728308133, 2: 0.6513831085628934, 3: 0.48867593374517226, 4: 0.566148912637598, 5: 0.6216559372842312}, '5dbc73047d3d3622bcd31170': {0: 0.59350680783391, 1: 0.5429866198450327, 2: 0.531844824552536, 3: 0.5002561718225479, 4: 0.7334148973226547, 5: 0.8204011172056198}, '5dc1a56a648927000be0fca7': {0: 0.6328845479422145, 1: 0.5749858938157558, 2: 0.6004236616194248, 3: 0.6325006008148193, 4: 0.7099794298410416, 5: 0.6012638323009014}, '5dc592c6aa431440aa755d5b': {0: 0.6389079913496971, 1: 0.7038439545366499, 2: 0.6188789270818233, 3: 0.643627104245954, 4: 0.7923910277230399, 5: 0.6274415631261137}, '5dc59839e4f0ff41239cb481': {0: 0.5875809013843536, 1: 0.48313110023736955, 2: 0.6813934206962585, 3: 0.6978126898407936, 4: 0.6096178491910299, 5: 0.7313195988535881}, '5dcc27974b54778b69e62ec5': {0: 0.5932982232835557, 1: 0.7002791136503219, 2: 0.644133726755778, 3: 0.5254848727749454, 4: 0.5827278089192178, 5: 0.5246980592608452}, '5dcca657854936945d68eaa9': {0: 0.8164972795380486, 1: 0.7092170317967733, 2: 0.6491184234619141, 3: 0.725485063261456, 4: 0.4901625275611877, 5: 0.5790352059735192}, '5dd0098e01fadf0fa6c3a15f': {0: 0.709287291765213, 1: 0.7568846493959427, 2: 0.5245263700683912, 3: 0.5414432466030121, 4: 0.758784102069007, 5: 0.6574952453374863}, '5dd6d2d11228d9667276c3b7': {0: 0.5966967940330505, 1: 0.6956664264202118, 2: 0.5922726690769196, 3: 0.41330358684062957, 4: 0.507666565477848, 5: 0.49477723240852356}, '5dd6d370194e486498e13ab6': {0: 0.6825997538864612, 1: 0.6901126040352715, 2: 0.7084920909255743, 3: 0.7838691100478172, 4: 0.6152884475886822, 5: 0.5231100469827652}, '5dd9e1e0a4aa2696d9a15c0d': {0: 0.7279202461242675, 1: 0.6650399297475815, 2: 0.6801784733931223, 3: 0.5994551733136178, 4: 0.4464635103009641, 5: 0.6371126264333725}, '5ddeb0232e4a05e10f448a80': {0: 0.4591112196445465, 1: 0.37553312070667744, 2: 0.5328676172842582, 3: 0.6492943249642849, 4: 0.513373888283968, 5: 0.5349889484544595}, '5dea7bbcf4c5e11a098a326d': {0: 0.6037189356982708, 1: 0.6947188898921013, 2: 0.6407119154930114, 3: 0.613804991543293, 4: 0.5806393035584025, 5: 0.44322338327765465}, '5ded9996838b4f45b83bb3f9': {0: 0.5630878746509552, 1: 0.7383641690015793, 2: 0.7362936794757843, 3: 0.6359207242727279, 4: 0.7060014575719833, 5: 0.6750430911779404}, '5df12d8b53e84603acbf5319': {0: 0.625035934150219, 1: 0.5213571712374687, 2: 0.6733207292854786, 3: 0.6713415184058249, 4: 0.6005305863089032, 5: 0.40301120933145285}, '5dfa56fddc265f7ac3bee209': {0: 0.6104596886369917, 1: 0.6074665370914671, 2: 0.5711524173617363, 3: 0.611422660946846, 4: 0.5934214979410172, 5: 0.4858836680650711}, '5e1e935be3c7191e0519b486': {0: 0.7313051760196686, 1: 0.6383819460868836, 2: 0.5869528457522393, 3: 0.6369622960686684, 4: 0.5388784974813461, 5: 0.6800837770104409}, '5e2926d80beb030ede110e67': {0: 0.5908277332782745, 1: 0.6571243902047476, 2: 0.5342518582940101, 3: 0.6099765109164375, 4: 0.6441211998462677, 5: 0.6556673521796862}, '5e29c3e725dcfd01cef9f474': {0: 0.545439749956131, 1: 0.6313561176260313, 2: 0.5070519875735044, 3: 0.5281264688819647, 4: 0.539972222596407, 5: 0.665505314618349}, '5e2b28a1c94da6180ea79d5d': {0: 0.5720181882381439, 1: 0.5188903644680977, 2: 0.41030531339347365, 3: 0.5146382680162788, 4: 0.43767986744642257, 5: 0.531162871606648}, '5e387f2c0d70ef099d5e5a4f': {0: 0.5640214398503304, 1: 0.6321935225278139, 2: 0.6565326783392165, 3: 0.55655301693413, 4: 0.6458819849150521, 5: 0.7580139405197568}, '5e3b8f110d41ad3a7bc35019': {0: 0.5212303072214126, 1: 0.5349282655451033, 2: 0.5123998096419705, 3: 0.48006479516625405, 4: 0.4642792157828808, 5: 0.571974805659718}, '5e42f74f5b772a18434cabf7': {0: 0.6225375816226005, 1: 0.5449406370520592, 2: 0.5700810596346855, 3: 0.6611745312809945, 4: 0.5450326353311539, 5: 0.6469387566670776}, '5e500ab1ec45d305b6b82d9f': {0: 0.6256963213284811, 1: 0.682235085301929, 2: 0.3892810130491853, 3: 0.7347331543763479, 4: 0.6280690772192818, 5: 0.7324976954195235}, '5e6844d12062a1012a278976': {0: 0.5955969141796231, 1: 0.6139436066150665, 2: 0.5337916973978281, 3: 0.5356275156140328, 4: 0.48425329807731843, 5: 0.693952488899231}, '5e7a6846f0f631000a4e2b9d': {0: 0.4254104362593757, 1: 0.6072460992468728, 2: 0.5563370332121849, 3: 0.5735515527427196, 4: 0.6301375842756696, 5: 0.3665701299905777}, '5e7e70c583c34c53f6c643db': {0: 0.64975620880723, 1: 0.6631331675582461, 2: 0.31836666278541087, 3: 0.6680261641740799, 4: 0.40647355653345585, 5: 0.5740690842270851}, '5e801ffa2b3c3870ecdf7865': {0: 0.5358855098485946, 1: 0.5214741395579444, 2: 0.4151843609288335, 3: 0.5047957167029381, 4: 0.5217759178744422, 5: 0.6243481516838074}, '5e83bb0601aa8c11929fa6d4': {0: 0.5970433995127677, 1: 0.7047532290220261, 2: 0.676077170504464, 3: 0.6381736785173416, 4: 0.37410012241452933, 5: 0.7096104592084884}, '5e8601d90126b207e8c7a2aa': {0: 0.6061205953359604, 1: 0.6605767250061035, 2: 0.43134549756844837, 3: 0.5730386555194855, 4: 0.6735639737712013, 5: 0.5412642657756805}, '5e8727fb90c37002d97ca052': {0: 0.5249090641736984, 1: 0.5665582213550806, 2: 0.6300194635987282, 3: 0.5853840783238411, 4: 0.5476175725460053, 5: 0.6385098182492785}, '5e8cf14c0bec230b335e060d': {0: 0.5172034493750997, 1: 0.40483653992414476, 2: 0.6129033598634932, 3: 0.6498450547456741, 4: 0.43818473831440014, 5: 0.32835865882225335}, '5e9746fb1eed951eed404015': {0: 0.4335917759686708, 1: 0.6668209843337536, 2: 0.7799080360680819, 3: 0.6783232152462005, 4: 0.630861209332943, 5: 0.681568744033575}, '5e9749b44592572013c96868': {0: 0.5831572651863098, 1: 0.6236677302254571, 2: 0.5700847819447518, 3: 0.5916405452622308, 4: 0.5118952393531799, 5: 0.5658632723821534}, '5ea45eb9abef8a07bcced2bc': {0: 0.584979459643364, 1: 0.5186085067689419, 2: 0.5727123782038689, 3: 0.5707559674978256, 4: 0.676231152481503, 5: 0.5937609706074}, '5eaa605c7c3cbc1f14421a94': {0: 0.44537753267213703, 1: 0.4417841150942776, 2: 0.4885852538049221, 3: 0.4166634807156192, 4: 0.426081289537251, 5: 0.5510679557919502}, '5eb313d87a289b0f847a7752': {0: 0.6343754425644874, 1: 0.7229567378759384, 2: 0.6022738139662478, 3: 0.636720821261406, 4: 0.5572890390952429, 5: 0.6077604492505392}, '5eb339ee6290bc124b8549a6': {0: 0.809608668088913, 1: 0.42565996448198956, 2: 0.6542341839522123, 3: 0.46965720794267124, 4: 0.47283991158474237, 5: 0.501974147071855}, '5eb983034987d1074b5232ce': {0: 0.6024461090564728, 1: 0.7379852347075939, 2: 0.52373431250453, 3: 0.6499899365007877, 4: 0.4490008005606277, 5: 0.5508543819189071}, '5ec03a7169738f43d87ffc72': {0: 0.7520835565196143, 1: 0.6593021485540602, 2: 0.6313342332839966, 3: 0.6495574936270714, 4: 0.6459274798631668, 5: 0.6761213839054108}, '5ed478fa7d20a043b7c3be83': {0: 0.5679841578006745, 1: 0.651745256781578, 2: 0.5651495091617107, 3: 0.515067046880722, 4: 0.5106713026762009, 5: 0.43864224199205637}, '5ed83674e7cb0a18273e9028': {0: 0.6403348594903946, 1: 0.4923097784630954, 2: 0.5611179061233997, 3: 0.5986220155443464, 4: 0.6126446031033993, 5: 0.541453279968765}, '5eda94f69f275211dff92234': {0: 0.677314106374979, 1: 0.784922194480896, 2: 0.8396791285938687, 3: 0.7666151258680556, 4: 0.7651529252529145, 5: 0.7368145734071732}, '5edc0720ec975e0dc6385210': {0: 0.7510186284780502, 1: 0.6513618394732476, 2: 0.673771446198225, 3: 0.6712424993515015, 4: 0.6622071005403996, 5: 0.6629766568541526}, '5ededc7ab3595e17ef9533df': {0: 0.47089477711253697, 1: 0.5869081243872643, 2: 0.6712663650512696, 3: 0.4954315274953842, 4: 0.4756236754357815, 5: 0.4923088788986206}, '5ee232f2b970662cfa352567': {0: 0.6438918590545655, 1: 0.462142526358366, 2: 0.6810972094535828, 3: 0.6848923530843523, 4: 0.5160659104585648, 5: 0.5230928659439087}, '5ef0d115ebe9a70ee13bcd52': {0: 0.5883161069618331, 1: 0.6055482499301433, 2: 0.6910385191440582, 3: 0.5924001617564095, 4: 0.6248591705225408, 5: 0.5976377411021127}, '5f0632802b566a17e81a5f5f': {0: 0.6600637833277384, 1: 0.790755828221639, 2: 0.6701132506132126, 3: 0.5886222839355468, 4: 0.5691058788448572, 5: 0.6210936605930328}, '5f112ff34bd17349da319e7c': {0: 0.7302323669195175, 1: 0.45943896025419234, 2: 0.4878558412194252, 3: 0.5487736217677593, 4: 0.5462748996913434, 5: 0.4892447408702638}, '5f16f737b1487a01161d4f93': {0: 0.6904535227351718, 1: 0.5942049980163574, 2: 0.5668092124164105, 3: 0.5596292696893215, 4: 0.46073384284973146, 5: 0.5464029550552368}, '5f202f442841bb2b5a8bda34': {0: 0.7145676612854004, 1: 0.5468423772603274, 2: 0.551639998704195, 3: 0.5623818387587866, 4: 0.5316937648587756, 5: 0.461142835021019}, '5f2150b3319efd2d619a356b': {0: 0.6259770821779966, 1: 0.6918773502111435, 2: 0.7359906435012817, 3: 0.6771342669214521, 4: 0.5793689303100109, 5: 0.5784475828210512}, '5f244e0d0d7f44018faa3938': {0: 0.4316053450107574, 1: 0.7907363146543502, 2: 0.5969898357987404, 3: 0.5552883747965097, 4: 0.5000026880039109, 5: 0.4948474884033203}, '5f2db71d8107210d51d6a0a7': {0: 0.5284641437232495, 1: 0.7467848002910614, 2: 0.6604741662740707, 3: 0.7364773266017437, 4: 0.6525902658700943, 5: 0.485500396694988}, '5f36bde6d3369c0cadac39bf': {0: 0.707730108499527, 1: 0.6496938735246658, 2: 0.5351016852590773, 3: 0.5946058854460716, 4: 0.5105232894420624, 5: 0.5302716642618179}, '5f37f046d1a0bd2af1cb0ce6': {0: 0.7046935528516769, 1: 0.7274227887392044, 2: 0.6287646137177945, 3: 0.6263590186834336, 4: 0.7568560719490052, 5: 0.5979495834973123}, '5f3c6e44dc97f2aee9a67c7b': {0: 0.47404604852199556, 1: 0.34627458825707436, 2: 0.5353785544633866, 3: 0.6641665875911713, 4: 0.6314288841353523, 5: 0.769461128115654}, '5f47e6376aa63923f3804e3b': {0: 0.5606665872037411, 1: 0.6040996506810188, 2: 0.791091388463974, 3: 0.6958707094192504, 4: 0.40106076970696447, 5: 0.4262855996688207}, '5f4b283c6e1f3e6ec65c32f6': {0: 0.7254197478294373, 1: 0.8051578849554062, 2: 0.7619223199784756, 3: 0.7517970055341721, 4: 0.79758021235466, 5: 0.8437790453433991}, '5f4d40ca75b5258bf5af8cca': {0: 0.6900315091013909, 1: 0.4756353858858347, 2: 0.42889658831991256, 3: 0.27858023792505265, 4: 0.2834659472107887, 5: 0.29446272999048234}, '5f4ff67ab2c26c14b484ab03': {0: 0.7037148118019104, 1: 0.7046315334737301, 2: 0.547859619371593, 3: 0.5347328539937735, 4: 0.5754509918391705, 5: 0.7299434170126915}, '5f565c9592080106c6b4d467': {0: 0.5425854817032814, 1: 0.6603224575519562, 2: 0.49418243318796157, 3: 0.5770918726921082, 4: 0.44587706327438353, 5: 0.6373908519744873}, '5f56e1d1b72358165158550d': {0: 0.39415695443749427, 1: 0.5206400621682405, 2: 0.6419158935546875, 3: 0.460778733342886, 4: 0.5084784644552403, 5: 0.6206575009040535}, '5f5a534ca009210e9602114f': {0: 0.7232914358377457, 1: 0.5523167710751296, 2: 0.6919361457228661, 3: 0.6951262310147286, 4: 0.6095826953649521, 5: 0.5732065558433532}, '5f75285712d5ca1a99723b3a': {0: 0.6885839141905308, 1: 0.6894907454649607, 2: 0.6440199635922909, 3: 0.6353547854555978, 4: 0.667333396417754, 5: 0.8142971277236939}, '5f828002935db93a4d29d577': {0: 0.5650905176997185, 1: 0.6316837623715401, 2: 0.5202817544341087, 3: 0.6210574612021447, 4: 0.5304267983883619, 5: 0.407436003908515}, '5f919a881f37510203a7a638': {0: 0.6200600451686316, 1: 0.6670449942350387, 2: 0.7354342341423035, 3: 0.6532363772392273, 4: 0.42156469970941546, 5: 0.7127735078334808}, '5f989fa02b5a611b2df1a305': {0: 0.5994169019162655, 1: 0.7073974232189357, 2: 0.5377179406583309, 3: 0.5191948148939345, 4: 0.5643023572862148, 5: 0.4588474351912737}, '5f99a9a8a1558603b27e39e5': {0: 0.6946882903575897, 1: 0.5924181297421456, 2: 0.6059947520494461, 3: 0.5135541021823883, 4: 0.5169157385826111, 5: 0.5315217223018408}, '5fa17ddeabc188288bde81c8': {0: 0.7268668085336685, 1: 0.5764840841293335, 2: 0.5813932284712792, 3: 0.6716361910104751, 4: 0.5512710124254226, 5: 0.7257138594985009}, '5fb3d71c3144730009fe4a7b': {0: 0.7298734903335571, 1: 0.7381736457347869, 2: 0.7022053996721903, 3: 0.7033691674470901, 4: 0.6808487683534622, 5: 0.7485548555850983}, '5fb9b9c1c62f408e51e09e32': {0: 0.7088884827163484, 1: 0.7291506661309136, 2: 0.6588329904609256, 3: 0.779409609735012, 4: 0.6688912771642208, 5: 0.66680791725715}, '5fbd057ea95c7102638685d5': {0: 0.6291433542966842, 1: 0.5997914313856099, 2: 0.5463529334714016, 3: 0.7145764362066984, 4: 0.5557883191439841, 5: 0.4739507115446031}, '5fdca41ecb769722e2266d8a': {0: 0.5509279131889343, 1: 0.4455106437206268, 2: 0.6671207934617996, 3: 0.6192083120346069, 4: 0.5648925218731164, 5: 0.5899827390909195}, '5ff40482197628a732bdf46a': {0: 0.4369992345571518, 1: 0.68545992821455, 2: 0.4424650004754464, 3: 0.6451477077272203, 4: 0.6583075771729151, 5: 0.617833461612463}, '5ff5f7ad932d56101bf7c90d': {0: 0.717624305933714, 1: 0.7031264275312423, 2: 0.6338272011942334, 3: 0.5613145798444747, 4: 0.47532155737280846, 5: 0.5295729421079158}, '60035a7089252e07b1d4b077': {0: 0.647833252698183, 1: 0.6575280904769898, 2: 0.6245908712347349, 3: 0.47075030249026084, 4: 0.4296092726290226, 5: 0.5004931021481752}, '6010e0dab98c814912076b27': {0: 0.6093689203262329, 1: 0.7036506078309483, 2: 0.6325304746627808, 3: 0.6499094714721044, 4: 0.6229751991728941, 5: 0.5823269616812468}, '60185121c694790aa6520236': {0: 0.6370194181799889, 1: 0.6052362352609635, 2: 0.5626479141414166, 3: 0.6066072599755393, 4: 0.4950400836765766, 5: 0.690380984544754}, '603e97154847faf7531b40b6': {0: 0.5848805324898826, 1: 0.5059310416691005, 2: 0.5936344385147094, 3: 0.7176663478215536, 4: 0.5288344472646713, 5: 0.32312279463642174}, '603fa7d057d382087d66d1c2': {0: 0.692966365814209, 1: 0.6961363421546088, 2: 0.8031639218330383, 3: 0.7914982587099075, 4: 0.7209417730569839, 5: 0.7087191194295883}, '604445808afbd64cbbcd20a1': {0: 0.74287039703793, 1: 0.7228995760281881, 2: 0.8651788175106049, 3: 0.6670762730969323, 4: 0.7154414653778076, 5: 0.706511476635933}, '604bd44cb5668ba12cc9376e': {0: 0.5446223765611649, 1: 0.6703169077634812, 2: 0.712283680588007, 3: 0.6159647703170776, 4: 0.4150041040033102, 5: 0.44622752917930486}, '606609111ba10f35596db018': {0: 0.6777048081159591, 1: 0.6345326662063598, 2: 0.4673269219696522, 3: 0.8433220610022545, 4: 0.6382490266114473, 5: 0.626699124276638}, '6068bf5914131f3a1a80a413': {0: 0.6581918090581894, 1: 0.5982748307287693, 2: 0.5590319395065307, 3: 0.47006943374872207, 4: 0.7495434350437589, 5: 0.45438311249017715}, '607c9f94cc974d4ea1dc22c8': {0: 0.66554254591465, 1: 0.6247672471735213, 2: 0.5979856044054032, 3: 0.6628689799043868, 4: 0.6872831918299198, 5: 0.5460494926997593}}\n"
     ]
    }
   ],
   "source": [
    "\n",
    "#get individual differences or affective scores\n",
    "#for global avg. sentiment per person \n",
    "averages = {}\n",
    "pavgs = {}\n",
    "ascores = {}\n",
    "for id, group in information.groupby('id'):\n",
    "  if id not in ascores:\n",
    "    ascores[id] = {}\n",
    "  ascores.get(id)['bdi'] = group.iloc[0]['bdi']\n",
    "  ascores.get(id)['bai'] = group.iloc[0]['bai']\n",
    "  ascores.get(id)['panas_pos'] = group.iloc[0]['panas_pos']\n",
    "  ascores.get(id)['openness'] = group.iloc[0]['openness']\n",
    "  ascores.get(id)['beck'] = ascores.get(id).get('bai') + ascores.get(id).get('bdi')\n",
    "\n",
    "print(ascores)\n",
    "\n",
    "gscores = {}\n",
    "for id, participant in generations.groupby('id'):\n",
    "  if id not in gscores:\n",
    "      gscores[id] = {}\n",
    "      averages[id] = []\n",
    "  for pos_num, group in participant.groupby('generation_number'):\n",
    "    if pos_num not in pavgs:\n",
    "      pavgs[pos_num] = []\n",
    "    if pos_num not in gscores.get(id):\n",
    "      gscores.get(id)[pos_num] = []\n",
    "    for generation in group['response']:\n",
    "      if not pd.isna(generation):\n",
    "        s = predict_sentiment(generation)\n",
    "        gscores.get(id).get(pos_num).append(s)\n",
    "        pavgs.get(pos_num).append(s)\n",
    "        averages.get(id).append(s)\n",
    "    gscores.get(id)[pos_num] = sum(gscores.get(id).get(pos_num))/len(group['response'])\n",
    "    \n",
    "  averages[id] = sum(averages.get(id))/len(averages.get(id))\n",
    "print(gscores)"
   ]
  },
  {
   "cell_type": "code",
   "execution_count": 13,
   "metadata": {
    "executionInfo": {
     "elapsed": 4,
     "status": "ok",
     "timestamp": 1643516868605,
     "user": {
      "displayName": "Gokul Srinivasan",
      "photoUrl": "https://lh3.googleusercontent.com/a/default-user=s64",
      "userId": "01072835723997484871"
     },
     "user_tz": 480
    },
    "id": "-auKSiT_dXkJ"
   },
   "outputs": [],
   "source": [
    ""
   ]
  },
  {
   "cell_type": "code",
   "execution_count": 14,
   "metadata": {
    "colab": {
     "base_uri": "https://localhost:8080/",
     "height": 610
    },
    "executionInfo": {
     "elapsed": 594,
     "status": "ok",
     "timestamp": 1643516869196,
     "user": {
      "displayName": "Gokul Srinivasan",
      "photoUrl": "https://lh3.googleusercontent.com/a/default-user=s64",
      "userId": "01072835723997484871"
     },
     "user_tz": 480
    },
    "id": "_ot5faX3cQNZ",
    "outputId": "f3cca6fd-ec28-4403-b4a7-c2f60ea25082"
   },
   "outputs": [
    {
     "data": {
      "image/png": "[encoded data removed]",
      "text/plain": [
       "<Figure size 432x288 with 1 Axes>"
      ]
     },
     "metadata": {
      "needs_background": "light"
     },
     "output_type": "display_data"
    },
    {
     "name": "stdout",
     "output_type": "stream",
     "text": [
      "r-value:0.033073\n",
      "p-value:0.668543\n"
     ]
    },
    {
     "data": {
      "image/png": "[encoded data removed]",
      "text/plain": [
       "<Figure size 432x288 with 1 Axes>"
      ]
     },
     "metadata": {
      "needs_background": "light"
     },
     "output_type": "display_data"
    },
    {
     "name": "stdout",
     "output_type": "stream",
     "text": [
      "r-value:0.101610\n",
      "p-value:0.187344\n"
     ]
    }
   ],
   "source": [
    "#relationship between beck and avg. sentiment\n",
    "import matplotlib.pyplot as plt\n",
    "import numpy as np \n",
    "from scipy import stats\n",
    "\n",
    "#plot avg. sentiment against beck\n",
    "beck = []\n",
    "sentiment = []\n",
    "for ind in averages: \n",
    "  if ind in ascores: \n",
    "    beck.append(ascores.get(ind).get('beck'))\n",
    "    sentiment.append(averages.get(ind))\n",
    "\n",
    "#x, y\n",
    "x = np.array(beck)\n",
    "y = np.array(sentiment)\n",
    "plt.scatter(x, y)\n",
    "plt.xlabel(\"Beck Score\")\n",
    "plt.ylabel(\"Average Sentiment\")\n",
    "\n",
    "slope, intercept, r_value, p_value, std_err = stats.linregress(x,y)\n",
    "predict_y = intercept + slope * x\n",
    "\n",
    "plt.plot(x,y,'ro')\n",
    "plt.plot(x, predict_y, 'k-')\n",
    "plt.autoscale(True)\n",
    "plt.grid(True)\n",
    "plt.show()\n",
    "\n",
    "print(\"r-value:%f\" % r_value)\n",
    "print(\"p-value:%f\" % p_value)\n",
    "\n",
    "#plot avg. sentiment vs panas \n",
    "panas = []\n",
    "sentiment = []\n",
    "for ind in averages: \n",
    "  if ind in ascores: \n",
    "    panas.append(ascores.get(ind).get('panas_pos'))\n",
    "    sentiment.append(averages.get(ind))\n",
    "\n",
    "#x, y\n",
    "x = np.array(panas)\n",
    "y = np.array(sentiment)\n",
    "plt.scatter(x, y)\n",
    "plt.xlabel(\"PANAS Positive Score\")\n",
    "plt.ylabel(\"Average Sentiment\")\n",
    "\n",
    "slope, intercept, r_value, p_value, std_err = stats.linregress(x,y)\n",
    "predict_y = intercept + slope * x\n",
    "\n",
    "plt.plot(x,y,'ro')\n",
    "plt.plot(x, predict_y, 'k-')\n",
    "plt.autoscale(True)\n",
    "plt.grid(True)\n",
    "plt.show()\n",
    "\n",
    "print(\"r-value:%f\" % r_value)\n",
    "print(\"p-value:%f\" % p_value)"
   ]
  },
  {
   "cell_type": "code",
   "execution_count": 47,
   "metadata": {
    "colab": {
     "base_uri": "https://localhost:8080/",
     "height": 347
    },
    "executionInfo": {
     "elapsed": 614,
     "status": "ok",
     "timestamp": 1643521850314,
     "user": {
      "displayName": "Gokul Srinivasan",
      "photoUrl": "https://lh3.googleusercontent.com/a/default-user=s64",
      "userId": "01072835723997484871"
     },
     "user_tz": 480
    },
    "id": "pUnC3el9uNfO",
    "outputId": "8b9d6ea4-8982-4c77-8bc6-4a33bdf8c362"
   },
   "outputs": [
    {
     "name": "stdout",
     "output_type": "stream",
     "text": [
      "{0: 0.6213489482422374, 1: 0.6253972536744311, 2: 0.6050737747142579, 3: 0.5980591093177681, 4: 0.582600082268081, 5: 0.5827988388506983}\n"
     ]
    },
    {
     "data": {
      "image/png": "[encoded data removed]",
      "text/plain": [
       "<Figure size 432x288 with 1 Axes>"
      ]
     },
     "metadata": {
      "needs_background": "light"
     },
     "output_type": "display_data"
    },
    {
     "name": "stdout",
     "output_type": "stream",
     "text": [
      "r-value:-0.954077\n",
      "p-value:0.003115\n"
     ]
    }
   ],
   "source": [
    "# just find global avg. sentiment per possibility number here \n",
    "pavgs = {}\n",
    "for id in gscores: \n",
    "  for pnum in gscores.get(id):\n",
    "    if pnum not in pavgs:\n",
    "      pavgs[pnum] = []\n",
    "    pavgs.get(pnum).append(gscores.get(id).get(pnum))\n",
    "for pnum in pavgs:\n",
    "  pavgs[pnum] = sum(pavgs.get(pnum))/len(pavgs.get(pnum))\n",
    "print(pavgs)\n",
    "x = []\n",
    "y = []\n",
    "for pnum in pavgs:\n",
    "  x.append(pnum)\n",
    "  y.append(pavgs.get(pnum))\n",
    "\n",
    "x = np.array(x)+1\n",
    "y = np.array(y)\n",
    "\n",
    "plt.scatter(x, y)\n",
    "plt.xlabel(\"Possibility Number\")\n",
    "plt.ylabel(\"Average Sentiment\")\n",
    "\n",
    "slope, intercept, r_value, p_value, std_err = stats.linregress(x,y)\n",
    "predict_y = intercept + slope * x\n",
    "\n",
    "plt.plot(x,y,'ro')\n",
    "plt.plot(x, predict_y, 'k-')\n",
    "plt.title(\"Average Sentiment vs. Possibility Number\")\n",
    "plt.autoscale(True)\n",
    "plt.grid(True)\n",
    "plt.show()\n",
    "\n",
    "print(\"r-value:%f\" % r_value)\n",
    "print(\"p-value:%f\" % p_value)"
   ]
  },
  {
   "cell_type": "code",
   "execution_count": 48,
   "metadata": {
    "colab": {
     "base_uri": "https://localhost:8080/",
     "height": 441
    },
    "executionInfo": {
     "elapsed": 2453,
     "status": "ok",
     "timestamp": 1643521859382,
     "user": {
      "displayName": "Gokul Srinivasan",
      "photoUrl": "https://lh3.googleusercontent.com/a/default-user=s64",
      "userId": "01072835723997484871"
     },
     "user_tz": 480
    },
    "id": "MD7EJ_VkeXB8",
    "outputId": "7e1875be-5df3-4593-8f00-1b0a2db461e4"
   },
   "outputs": [
    {
     "data": {
      "image/png": "[encoded data removed]",
      "text/plain": [
       "<Figure size 432x432 with 3 Axes>"
      ]
     },
     "metadata": {
      "needs_background": "light"
     },
     "output_type": "display_data"
    }
   ],
   "source": [
    "import matplotlib.pyplot as plt\n",
    "import numpy as np\n",
    "import scipy.stats as stats\n",
    "import seaborn as sns\n",
    "\n",
    "# a = np.random.rand(10)\n",
    "# b = a * 2 + a ** 5\n",
    "\n",
    "# print(\"The Rho is {}\".format(np.corrcoef(a, b)[0][1]))\n",
    "\n",
    "g = sns.jointplot(x=x, y=y, kind='reg', color='royalblue')\n",
    "# ax.annotate(stats.pearsonr)\n",
    "r, p = stats.pearsonr(x, y)\n",
    "g.ax_joint.annotate(f'$\\\\rho = {r:.3f}, p = {p:.3f}$',\n",
    "                    xy=(0.1, 0.9), xycoords='axes fraction',\n",
    "                    ha='left', va='center',\n",
    "                    bbox={'boxstyle': 'round', 'fc': 'powderblue', 'ec': 'navy'})\n",
    "g.ax_joint.scatter(x, y)\n",
    "g.set_axis_labels(xlabel='Generation Number', ylabel='Average Sentiment', size=12)\n",
    "plt.tight_layout()\n",
    "plt.show()"
   ]
  },
  {
   "cell_type": "code",
   "execution_count": 17,
   "metadata": {
    "executionInfo": {
     "elapsed": 6,
     "status": "ok",
     "timestamp": 1643516870249,
     "user": {
      "displayName": "Gokul Srinivasan",
      "photoUrl": "https://lh3.googleusercontent.com/a/default-user=s64",
      "userId": "01072835723997484871"
     },
     "user_tz": 480
    },
    "id": "T308chej-pkU"
   },
   "outputs": [],
   "source": [
    "#Difference in sentiment value between first and last possibilities\n",
    "beck = []\n",
    "diff = []\n",
    "for id in gscores:\n",
    "  if id in ascores:\n",
    "    beck.append(ascores.get(id).get('beck'))\n",
    "    diff.append(abs(gscores.get(id).get(5) - gscores.get(id).get(0)))\n"
   ]
  },
  {
   "cell_type": "code",
   "execution_count": 18,
   "metadata": {
    "colab": {
     "base_uri": "https://localhost:8080/",
     "height": 330
    },
    "executionInfo": {
     "elapsed": 6,
     "status": "ok",
     "timestamp": 1643516870250,
     "user": {
      "displayName": "Gokul Srinivasan",
      "photoUrl": "https://lh3.googleusercontent.com/a/default-user=s64",
      "userId": "01072835723997484871"
     },
     "user_tz": 480
    },
    "id": "q7fRfS67_WeV",
    "outputId": "8f523177-7287-4997-d644-a0dc6ffea6ae"
   },
   "outputs": [
    {
     "data": {
      "image/png": "[encoded data removed]",
      "text/plain": [
       "<Figure size 432x288 with 1 Axes>"
      ]
     },
     "metadata": {
      "needs_background": "light"
     },
     "output_type": "display_data"
    },
    {
     "name": "stdout",
     "output_type": "stream",
     "text": [
      "r-value:0.010022\n",
      "p-value:0.896796\n"
     ]
    }
   ],
   "source": [
    "x = np.array(beck)\n",
    "y = np.array(diff)\n",
    "\n",
    "plt.scatter(x, y)\n",
    "plt.xlabel(\"Beck\")\n",
    "plt.ylabel(\"Sentiment Difference\")\n",
    "\n",
    "slope, intercept, r_value, p_value, std_err = stats.linregress(x,y)\n",
    "predict_y = intercept + slope * x\n",
    "\n",
    "plt.plot(x,y,'ro')\n",
    "plt.plot(x, predict_y, 'k-')\n",
    "plt.title(\"Sentiment vs. Possibility Number\")\n",
    "plt.autoscale(True)\n",
    "plt.grid(True)\n",
    "plt.show()\n",
    "\n",
    "print(\"r-value:%f\" % r_value)\n",
    "print(\"p-value:%f\" % p_value)"
   ]
  },
  {
   "cell_type": "code",
   "execution_count": 19,
   "metadata": {
    "colab": {
     "base_uri": "https://localhost:8080/",
     "height": 955
    },
    "executionInfo": {
     "elapsed": 680,
     "status": "ok",
     "timestamp": 1643516870925,
     "user": {
      "displayName": "Gokul Srinivasan",
      "photoUrl": "https://lh3.googleusercontent.com/a/default-user=s64",
      "userId": "01072835723997484871"
     },
     "user_tz": 480
    },
    "id": "B73MbcZZd2nO",
    "outputId": "8f6ad164-a8e5-49d9-8ee6-df4643de7939"
   },
   "outputs": [
    {
     "data": {
      "image/png": "[encoded data removed]",
      "text/plain": [
       "<Figure size 432x288 with 1 Axes>"
      ]
     },
     "metadata": {
      "needs_background": "light"
     },
     "output_type": "display_data"
    },
    {
     "name": "stdout",
     "output_type": "stream",
     "text": [
      "r-value:-0.161593\n",
      "p-value:0.000000\n"
     ]
    },
    {
     "data": {
      "image/png": "[encoded data removed]",
      "text/plain": [
       "<Figure size 432x288 with 1 Axes>"
      ]
     },
     "metadata": {
      "needs_background": "light"
     },
     "output_type": "display_data"
    },
    {
     "name": "stdout",
     "output_type": "stream",
     "text": [
      "r-value:-0.228544\n",
      "p-value:0.000000\n"
     ]
    },
    {
     "data": {
      "image/png": "[encoded data removed]",
      "text/plain": [
       "<Figure size 432x288 with 1 Axes>"
      ]
     },
     "metadata": {
      "needs_background": "light"
     },
     "output_type": "display_data"
    },
    {
     "name": "stdout",
     "output_type": "stream",
     "text": [
      "r-value:-0.036873\n",
      "p-value:0.524638\n"
     ]
    }
   ],
   "source": [
    "\n",
    "\n",
    "hthresh = 10\n",
    "lthresh = 5\n",
    "\n",
    "# Test: Average sentiment score per possibility\n",
    "\n",
    "pnum = []\n",
    "sent = []\n",
    "\n",
    "for ind in gscores:\n",
    "  for p in gscores.get(ind):\n",
    "    s = gscores.get(ind).get(p)\n",
    "    pnum.append(p)\n",
    "    sent.append(s)\n",
    "\n",
    "x = np.array(pnum)\n",
    "y = np.array(sent)\n",
    "\n",
    "plt.scatter(x, y)\n",
    "plt.xlabel(\"Possibility Number\")\n",
    "plt.ylabel(\"Sentiment\")\n",
    "\n",
    "slope, intercept, r_value, p_value, std_err = stats.linregress(x,y)\n",
    "predict_y = intercept + slope * x\n",
    "\n",
    "plt.plot(x,y,'ro')\n",
    "plt.plot(x, predict_y, 'k-')\n",
    "plt.title(\"Sentiment vs. Possibility Number\")\n",
    "plt.autoscale(True)\n",
    "plt.grid(True)\n",
    "plt.show()\n",
    "\n",
    "print(\"r-value:%f\" % r_value)\n",
    "print(\"p-value:%f\" % p_value)\n",
    "\n",
    "#for high beck \n",
    "pnum = []\n",
    "sent = []\n",
    "\n",
    "for ind in gscores:\n",
    "  for p in gscores.get(ind):\n",
    "    s = gscores.get(ind).get(p)\n",
    "    if ind in ascores and ascores.get(ind).get('beck') >= hthresh:\n",
    "        pnum.append(p)\n",
    "        sent.append(s)\n",
    "x = np.array(pnum)\n",
    "y = np.array(sent)\n",
    "\n",
    "plt.scatter(x, y)\n",
    "plt.xlabel(\"Possibility Number\")\n",
    "plt.ylabel(\"Sentiment\")\n",
    "\n",
    "slope, intercept, r_value, p_value, std_err = stats.linregress(x,y)\n",
    "predict_y = intercept + slope * x\n",
    "\n",
    "plt.plot(x,y,'ro')\n",
    "plt.plot(x, predict_y, 'k-')\n",
    "plt.title(\"Sentiment vs. Possibility Number\")\n",
    "plt.autoscale(True)\n",
    "plt.grid(True)\n",
    "plt.show()\n",
    "\n",
    "print(\"r-value:%f\" % r_value)\n",
    "print(\"p-value:%f\" % p_value)\n",
    "\n",
    "#for low beck \n",
    "pnum = []\n",
    "sent = []\n",
    "\n",
    "for ind in gscores:\n",
    "  for p in gscores.get(ind):\n",
    "    s = gscores.get(ind).get(p)\n",
    "    if ind in ascores and ascores.get(ind).get('beck') <= lthresh:\n",
    "      pnum.append(p)\n",
    "      sent.append(s)\n",
    "x = np.array(pnum)\n",
    "y = np.array(sent)\n",
    "\n",
    "plt.scatter(x, y)\n",
    "plt.xlabel(\"Possibility Number\")\n",
    "plt.ylabel(\"Sentiment\")\n",
    "\n",
    "slope, intercept, r_value, p_value, std_err = stats.linregress(x,y)\n",
    "predict_y = intercept + slope * x\n",
    "\n",
    "plt.plot(x,y,'ro')\n",
    "plt.plot(x, predict_y, 'k-')\n",
    "plt.title(\"Sentiment vs. Possibility Number\")\n",
    "plt.autoscale(True)\n",
    "plt.grid(True)\n",
    "plt.show()\n",
    "\n",
    "print(\"r-value:%f\" % r_value)\n",
    "print(\"p-value:%f\" % p_value)\n",
    "\n"
   ]
  },
  {
   "cell_type": "code",
   "execution_count": 20,
   "metadata": {
    "colab": {
     "base_uri": "https://localhost:8080/",
     "height": 1000
    },
    "executionInfo": {
     "elapsed": 829,
     "status": "ok",
     "timestamp": 1643516871751,
     "user": {
      "displayName": "Gokul Srinivasan",
      "photoUrl": "https://lh3.googleusercontent.com/a/default-user=s64",
      "userId": "01072835723997484871"
     },
     "user_tz": 480
    },
    "id": "SwWV9qsgX7mY",
    "outputId": "128fbe04-39a3-49a1-dc9d-a3745323cc70"
   },
   "outputs": [
    {
     "data": {
      "image/png": "[encoded data removed]",
      "text/plain": [
       "<Figure size 432x288 with 1 Axes>"
      ]
     },
     "metadata": {
      "needs_background": "light"
     },
     "output_type": "display_data"
    },
    {
     "name": "stdout",
     "output_type": "stream",
     "text": [
      "r-value:-0.072359\n",
      "p-value:0.348392\n"
     ]
    },
    {
     "data": {
      "image/png": "[encoded data removed]",
      "text/plain": [
       "<Figure size 432x288 with 1 Axes>"
      ]
     },
     "metadata": {
      "needs_background": "light"
     },
     "output_type": "display_data"
    },
    {
     "name": "stdout",
     "output_type": "stream",
     "text": [
      "r-value:-0.089213\n",
      "p-value:0.247306\n"
     ]
    },
    {
     "data": {
      "image/png": "[encoded data removed]",
      "text/plain": [
       "<Figure size 432x288 with 1 Axes>"
      ]
     },
     "metadata": {
      "needs_background": "light"
     },
     "output_type": "display_data"
    },
    {
     "name": "stdout",
     "output_type": "stream",
     "text": [
      "r-value:-0.030383\n",
      "p-value:0.694091\n"
     ]
    },
    {
     "data": {
      "image/png": "[encoded data removed]",
      "text/plain": [
       "<Figure size 432x288 with 1 Axes>"
      ]
     },
     "metadata": {
      "needs_background": "light"
     },
     "output_type": "display_data"
    },
    {
     "name": "stdout",
     "output_type": "stream",
     "text": [
      "r-value:-0.162595\n",
      "p-value:0.034136\n"
     ]
    }
   ],
   "source": [
    "# Test: Sentiment Gradient vs. Beck \n",
    "# I will try and conduct the following test here: \n",
    "# 1. Find the average possibility sentiment score for each participant. Find the slope of this plot. \n",
    "# 2. Find the beck score for each participant \n",
    "# 3. Plot slope vs bdi\n",
    "# Variation: I will also run the same test but with pearson's r instead of slope...\n",
    "slopes = {}\n",
    "pearsons = {}\n",
    "for id in gscores:\n",
    "  x = []\n",
    "  y = []\n",
    "  for num in gscores.get(id):\n",
    "    x.append(num)\n",
    "    y.append(gscores.get(id).get(num))\n",
    "  slope, intercept, r_value, p_value, std_err = stats.linregress(x,y)\n",
    "  slopes[id] = slope\n",
    "  pearsons[id] = r_value\n",
    "\n",
    "x = []\n",
    "y = []\n",
    "yp = []\n",
    "for id in slopes:\n",
    "  if id in ascores: # this line is here because there is some discrepancy between the ids in the information table and the generations table\n",
    "    x.append(ascores.get(id).get('beck'))\n",
    "    y.append(slopes.get(id))\n",
    "    yp.append(pearsons.get(id))\n",
    "\n",
    "  \n",
    "x = np.array(x)\n",
    "y = np.array(y)\n",
    "plt.scatter(x, y)\n",
    "plt.xlabel(\"Beck Score\")\n",
    "plt.ylabel(\"Slope (of sentiment vs possibility number)\")\n",
    "\n",
    "slope, intercept, r_value, p_value, std_err = stats.linregress(x,y)\n",
    "predict_y = intercept + slope * x\n",
    "\n",
    "plt.plot(x,y,'ro')\n",
    "plt.plot(x, predict_y, 'k-')\n",
    "plt.autoscale(True)\n",
    "plt.grid(True)\n",
    "plt.show()\n",
    "\n",
    "print(\"r-value:%f\" % r_value)\n",
    "print(\"p-value:%f\" % p_value)\n",
    "\n",
    "#second graph \n",
    "x = np.array(x)\n",
    "y = np.array(yp)\n",
    "plt.scatter(x, y)\n",
    "plt.xlabel(\"Beck Score\")\n",
    "plt.ylabel(\"R-val (of sentiment vs possibility number)\")\n",
    "\n",
    "slope, intercept, r_value, p_value, std_err = stats.linregress(x,y)\n",
    "predict_y = intercept + slope * x\n",
    "\n",
    "plt.plot(x,y,'ro')\n",
    "plt.plot(x, predict_y, 'k-')\n",
    "plt.autoscale(True)\n",
    "plt.grid(True)\n",
    "plt.show()\n",
    "\n",
    "print(\"r-value:%f\" % r_value)\n",
    "print(\"p-value:%f\" % p_value)\n",
    "\n",
    "#sentiment gradient vs Panas \n",
    "x = []\n",
    "y = []\n",
    "for id in slopes:\n",
    "  if id in ascores: # this line is here because there is some discrepancy between the ids in the information table and the generations table\n",
    "    x.append(ascores.get(id).get('panas_pos'))\n",
    "    y.append(slopes.get(id))\n",
    "x = np.array(x)\n",
    "y = np.array(y)\n",
    "plt.scatter(x, y)\n",
    "plt.xlabel(\"Panas Score\")\n",
    "plt.ylabel(\"R-val (of sentiment vs possibility number)\")\n",
    "\n",
    "slope, intercept, r_value, p_value, std_err = stats.linregress(x,y)\n",
    "predict_y = intercept + slope * x\n",
    "\n",
    "plt.plot(x,y,'ro')\n",
    "plt.plot(x, predict_y, 'k-')\n",
    "plt.autoscale(True)\n",
    "plt.grid(True)\n",
    "plt.show()\n",
    "\n",
    "print(\"r-value:%f\" % r_value)\n",
    "print(\"p-value:%f\" % p_value)\n",
    "\n",
    "#sentiment gradient vs openness\n",
    "x = []\n",
    "y = []\n",
    "for id in slopes:\n",
    "  if id in ascores: # this line is here because there is some discrepancy between the ids in the information table and the generations table\n",
    "    x.append(ascores.get(id).get('openness'))\n",
    "    y.append(slopes.get(id))\n",
    "x = np.array(x)\n",
    "y = np.array(y)\n",
    "plt.scatter(x, y)\n",
    "plt.xlabel(\"Openness Score\")\n",
    "plt.ylabel(\"R-val (of sentiment vs possibility number)\")\n",
    "\n",
    "slope, intercept, r_value, p_value, std_err = stats.linregress(x,y)\n",
    "predict_y = intercept + slope * x\n",
    "\n",
    "plt.plot(x,y,'ro')\n",
    "plt.plot(x, predict_y, 'k-')\n",
    "plt.autoscale(True)\n",
    "plt.grid(True)\n",
    "plt.show()\n",
    "\n",
    "print(\"r-value:%f\" % r_value)\n",
    "print(\"p-value:%f\" % p_value)"
   ]
  },
  {
   "cell_type": "code",
   "execution_count": 20,
   "metadata": {
    "executionInfo": {
     "elapsed": 6,
     "status": "ok",
     "timestamp": 1643516871751,
     "user": {
      "displayName": "Gokul Srinivasan",
      "photoUrl": "https://lh3.googleusercontent.com/a/default-user=s64",
      "userId": "01072835723997484871"
     },
     "user_tz": 480
    },
    "id": "QxvbdIgRb2nH"
   },
   "outputs": [],
   "source": [
    ""
   ]
  },
  {
   "cell_type": "code",
   "execution_count": 21,
   "metadata": {
    "executionInfo": {
     "elapsed": 5,
     "status": "ok",
     "timestamp": 1643516871751,
     "user": {
      "displayName": "Gokul Srinivasan",
      "photoUrl": "https://lh3.googleusercontent.com/a/default-user=s64",
      "userId": "01072835723997484871"
     },
     "user_tz": 480
    },
    "id": "iqFqZjZ_bqVo"
   },
   "outputs": [],
   "source": [
    "# TEST: Variation v.s. Beck "
   ]
  },
  {
   "cell_type": "code",
   "execution_count": 22,
   "metadata": {
    "colab": {
     "base_uri": "https://localhost:8080/",
     "height": 314
    },
    "executionInfo": {
     "elapsed": 206,
     "status": "ok",
     "timestamp": 1643516871952,
     "user": {
      "displayName": "Gokul Srinivasan",
      "photoUrl": "https://lh3.googleusercontent.com/a/default-user=s64",
      "userId": "01072835723997484871"
     },
     "user_tz": 480
    },
    "id": "yfV0mDSYbs22",
    "outputId": "ee164a0b-3f74-4053-ba8f-8580fa15e610"
   },
   "outputs": [
    {
     "data": {
      "image/png": "[encoded data removed]",
      "text/plain": [
       "<Figure size 432x288 with 1 Axes>"
      ]
     },
     "metadata": {
      "needs_background": "light"
     },
     "output_type": "display_data"
    },
    {
     "name": "stdout",
     "output_type": "stream",
     "text": [
      "r-value:0.248195\n",
      "p-value:0.000836\n"
     ]
    }
   ],
   "source": [
    "# TEST: Avg Sentiment v.s. Total Time\n",
    "avgs = []\n",
    "ttime = []\n",
    "time_dic = {}\n",
    "for id, group in generations.groupby('id'):\n",
    "    time_dic[id] = group['generation_time'].sum()\n",
    "\n",
    "for id in gscores:\n",
    "  s = 0\n",
    "  for score in gscores.get(id):\n",
    "    s += gscores.get(id).get(score)\n",
    "  avgs.append(s/6)\n",
    "  ttime.append(time_dic.get(id))\n",
    "  \n",
    "x = np.array(ttime)\n",
    "y = np.array(avgs)\n",
    "\n",
    "plt.scatter(x, y)\n",
    "plt.xlabel(\"Total Time\")\n",
    "plt.ylabel(\"Average Sentiment\")\n",
    "\n",
    "slope, intercept, r_value, p_value, std_err = stats.linregress(x,y)\n",
    "predict_y = intercept + slope * x\n",
    "\n",
    "plt.plot(x,y,'ro')\n",
    "plt.plot(x, predict_y, 'k-')\n",
    "plt.autoscale(True)\n",
    "plt.grid(True)\n",
    "plt.show()\n",
    "\n",
    "print(\"r-value:%f\" % r_value)\n",
    "print(\"p-value:%f\" % p_value)\n",
    "\n",
    "#can further stratify by beck score"
   ]
  },
  {
   "cell_type": "code",
   "execution_count": 23,
   "metadata": {
    "colab": {
     "base_uri": "https://localhost:8080/",
     "height": 418
    },
    "executionInfo": {
     "elapsed": 1172,
     "status": "ok",
     "timestamp": 1643516873120,
     "user": {
      "displayName": "Gokul Srinivasan",
      "photoUrl": "https://lh3.googleusercontent.com/a/default-user=s64",
      "userId": "01072835723997484871"
     },
     "user_tz": 480
    },
    "id": "sXP7CIMc18xB",
    "outputId": "bb866b3b-ced2-490c-d72b-2a9d8b3765bc"
   },
   "outputs": [
    {
     "name": "stderr",
     "output_type": "stream",
     "text": [
      "/usr/local/lib/python3.7/dist-packages/scipy/stats/_stats_mstats_common.py:130: RuntimeWarning: invalid value encountered in double_scalars\n",
      "  slope = r_num / ssxm\n",
      "/usr/local/lib/python3.7/dist-packages/scipy/stats/_stats_mstats_common.py:140: RuntimeWarning: invalid value encountered in sqrt\n",
      "  t = r * np.sqrt(df / ((1.0 - r + TINY)*(1.0 + r + TINY)))\n",
      "/usr/local/lib/python3.7/dist-packages/scipy/stats/_stats_mstats_common.py:142: RuntimeWarning: invalid value encountered in double_scalars\n",
      "  sterrest = np.sqrt((1 - r**2) * ssym / ssxm / df)\n"
     ]
    },
    {
     "data": {
      "image/png": "[encoded data removed]",
      "text/plain": [
       "<Figure size 432x288 with 1 Axes>"
      ]
     },
     "metadata": {
      "needs_background": "light"
     },
     "output_type": "display_data"
    },
    {
     "name": "stdout",
     "output_type": "stream",
     "text": [
      "r-value:0.072829\n",
      "p-value:0.002120\n"
     ]
    }
   ],
   "source": [
    "#TEST: Sentiment Gradient vs Time Gradient \n",
    "time_gradient = []\n",
    "time_gradient_dic = {}\n",
    "sentiment_gradient = []\n",
    "for id, group in generations.groupby(\"id\"):\n",
    "  time_gradient_dic[id] = []\n",
    "  for vign, group2 in group.groupby(\"vignette_name\"):\n",
    "    numbers = group2['generation_number']\n",
    "    times = group2['generation_time']\n",
    "    x = np.array(numbers)\n",
    "    y = np.array(times)\n",
    "    slope, intercept, r_value, p_value, std_err = stats.linregress(x,y)\n",
    "    \n",
    "    time_gradient.append(slope)\n",
    "    time_gradient_dic.get(id).append(slope)\n",
    "    sentiment_gradient.append(slopes.get(id))\n",
    "\n",
    "for id in time_gradient_dic:\n",
    "  time_gradient_dic[id] = sum(time_gradient_dic.get(id))/len(time_gradient_dic.get(id))\n",
    "i = 0\n",
    "while i < len(time_gradient):\n",
    "  if pd.isna(time_gradient[i]):\n",
    "    time_gradient.pop(i)\n",
    "    sentiment_gradient.pop(i)\n",
    "    i -= 1\n",
    "  i += 1\n",
    "x = np.array(time_gradient)\n",
    "x /= 1000\n",
    "y = np.array(sentiment_gradient)\n",
    "plt.scatter(x, y)\n",
    "plt.xlabel(\"Time Gradient (s)\")\n",
    "plt.ylabel(\"Sentiment Gradient\")\n",
    "\n",
    "slope, intercept, r_value, p_value, std_err = stats.linregress(x,y)\n",
    "predict_y = intercept + slope * x\n",
    "\n",
    "plt.plot(x,y,'ro')\n",
    "plt.plot(x, predict_y, 'k-')\n",
    "plt.autoscale(True)\n",
    "plt.grid(True)\n",
    "plt.show()\n",
    "\n",
    "print(\"r-value:%f\" % r_value)\n",
    "print(\"p-value:%f\" % p_value)"
   ]
  },
  {
   "cell_type": "code",
   "execution_count": 24,
   "metadata": {
    "colab": {
     "base_uri": "https://localhost:8080/",
     "height": 610
    },
    "executionInfo": {
     "elapsed": 344,
     "status": "ok",
     "timestamp": 1643516873453,
     "user": {
      "displayName": "Gokul Srinivasan",
      "photoUrl": "https://lh3.googleusercontent.com/a/default-user=s64",
      "userId": "01072835723997484871"
     },
     "user_tz": 480
    },
    "id": "_u1jHobrPPQl",
    "outputId": "9e2b1248-f498-442d-f543-d8619e95550f"
   },
   "outputs": [
    {
     "data": {
      "image/png": "[encoded data removed]",
      "text/plain": [
       "<Figure size 432x288 with 1 Axes>"
      ]
     },
     "metadata": {
      "needs_background": "light"
     },
     "output_type": "display_data"
    },
    {
     "name": "stdout",
     "output_type": "stream",
     "text": [
      "r-value:0.105512\n",
      "p-value:0.170881\n"
     ]
    },
    {
     "data": {
      "image/png": "[encoded data removed]",
      "text/plain": [
       "<Figure size 432x288 with 1 Axes>"
      ]
     },
     "metadata": {
      "needs_background": "light"
     },
     "output_type": "display_data"
    },
    {
     "name": "stdout",
     "output_type": "stream",
     "text": [
      "r-value:0.052530\n",
      "p-value:0.496295\n"
     ]
    }
   ],
   "source": [
    "#total generation time vs beck/panas\n",
    "times = []\n",
    "beck = []\n",
    "\n",
    "for id in time_dic:\n",
    "  if id in ascores:\n",
    "    times.append(time_dic.get(id))\n",
    "    beck.append(ascores.get(id).get('beck'))\n",
    "\n",
    "x = np.array(times)\n",
    "y = np.array(beck)\n",
    "plt.scatter(x, y)\n",
    "plt.xlabel(\"Total Time Over Task\")\n",
    "plt.ylabel(\"Beck\")\n",
    "\n",
    "slope, intercept, r_value, p_value, std_err = stats.linregress(x,y)\n",
    "predict_y = intercept + slope * x\n",
    "\n",
    "plt.plot(x,y,'ro')\n",
    "plt.plot(x, predict_y, 'k-')\n",
    "plt.autoscale(True)\n",
    "plt.grid(True)\n",
    "plt.show()\n",
    "\n",
    "print(\"r-value:%f\" % r_value)\n",
    "print(\"p-value:%f\" % p_value)\n",
    "\n",
    "#against Panas\n",
    "\n",
    "times = []\n",
    "panas = []\n",
    "\n",
    "for id in time_dic:\n",
    "  if id in ascores:\n",
    "    times.append(time_dic.get(id))\n",
    "    panas.append(ascores.get(id).get('panas_pos'))\n",
    "\n",
    "x = np.array(times)\n",
    "y = np.array(panas)\n",
    "plt.scatter(x, y)\n",
    "plt.xlabel(\"Total Time Over Task\")\n",
    "plt.ylabel(\"Panas_pos\")\n",
    "\n",
    "slope, intercept, r_value, p_value, std_err = stats.linregress(x,y)\n",
    "predict_y = intercept + slope * x\n",
    "\n",
    "plt.plot(x,y,'ro')\n",
    "plt.plot(x, predict_y, 'k-')\n",
    "plt.autoscale(True)\n",
    "plt.grid(True)\n",
    "plt.show()\n",
    "\n",
    "print(\"r-value:%f\" % r_value)\n",
    "print(\"p-value:%f\" % p_value)"
   ]
  },
  {
   "cell_type": "code",
   "execution_count": 25,
   "metadata": {
    "executionInfo": {
     "elapsed": 11,
     "status": "ok",
     "timestamp": 1643516873453,
     "user": {
      "displayName": "Gokul Srinivasan",
      "photoUrl": "https://lh3.googleusercontent.com/a/default-user=s64",
      "userId": "01072835723997484871"
     },
     "user_tz": 480
    },
    "id": "_nRNKzMGAeOE"
   },
   "outputs": [],
   "source": [
    "#Average time per possibility vs openness/panas/beck\n",
    "avg_time = {}\n",
    "for id, group in generations.groupby('id'):\n",
    "  avg_time[id] = group['generation_time'].sum()/len(group['generation_time'])\n"
   ]
  },
  {
   "cell_type": "code",
   "execution_count": 26,
   "metadata": {
    "colab": {
     "base_uri": "https://localhost:8080/"
    },
    "executionInfo": {
     "elapsed": 10,
     "status": "ok",
     "timestamp": 1643516873454,
     "user": {
      "displayName": "Gokul Srinivasan",
      "photoUrl": "https://lh3.googleusercontent.com/a/default-user=s64",
      "userId": "01072835723997484871"
     },
     "user_tz": 480
    },
    "id": "CjsIDE7pCCXm",
    "outputId": "96931722-b0d6-48c8-a4e3-972052b4f382"
   },
   "outputs": [
    {
     "data": {
      "text/plain": [
       "{'5563984afdf99b672b5749b6': 13524.17543859649,\n",
       " '5591827dfdf99b4fccbdfb21': 28930.01851851852,\n",
       " '55c43918fdf99b080551e044': 31544.98245614035,\n",
       " '55d5e2c9db6a810006fa078b': 21676.854166666668,\n",
       " '55f0c4ba4779250012dd2ff5': 10161.051724137931,\n",
       " '566a1d697da0350005b39de3': 26141.964912280702,\n",
       " '56797198c3041a0012b64b5e': 17614.775862068964,\n",
       " '56f29effed0cf60006911528': 8010.5344827586205,\n",
       " '570521cfde5095001018a0c8': 17396.896551724138,\n",
       " '573a8aca67421f000f191c52': 14147.228070175439,\n",
       " '57509d9b363e77000695620b': 9387.473684210527,\n",
       " '5758a211cb13810006479a0d': 14031.620689655172,\n",
       " '57b60487e5b60d0001083aea': 8049.254237288135,\n",
       " '57f2da5c6c19420001438d19': 14648.85,\n",
       " '58064d91f25c440001678a10': 21623.254545454547,\n",
       " '581649f0b434f0000184d2a9': 34036.92592592593,\n",
       " '5832fa8996ecce0001d65197': 10946.084745762711,\n",
       " '585eb4cfc34844000174d807': 20092.51923076923,\n",
       " '589ce4d65e63bf00013b3175': 12094.862068965518,\n",
       " '58be162d2e4dc0000164b12c': 27088.18181818182,\n",
       " '58d3dad59dbe3f0001258f66': 17919.659090909092,\n",
       " '58f1017ac325470001795b01': 10813.758620689656,\n",
       " '58fe1c529dc84a000134e24e': 27996.67924528302,\n",
       " '597b81f3de42bf000181db0b': 20780.035087719298,\n",
       " '598c9125cceb0f0001b39697': 43202.3,\n",
       " '599da50e17c03c000151b18b': 11669.263157894737,\n",
       " '5a282206b279aa0001b0e002': 7475.983050847458,\n",
       " '5a348ea750833c0001ee9550': 27233.5,\n",
       " '5a4ff86beedc32000141f232': 14533.949152542373,\n",
       " '5a64417931b87a0001c6f48b': 21995.068965517243,\n",
       " '5a6b998a3fb6420001c2f97a': 22129.28,\n",
       " '5a78dbb9ae9a0b0001a97212': 13918.313725490196,\n",
       " '5a78e410ae9a0b0001a97274': 6114.285714285715,\n",
       " '5a9998a14eecca0001dd791e': 6429.1016949152545,\n",
       " '5ac4c730f69e940001d977e1': 26105.083333333332,\n",
       " '5ac50a19a3ba7a0001b4a483': 14168.34,\n",
       " '5acb7b0ae1099600016acdd6': 14559.701754385966,\n",
       " '5acbead40527ba0001c2680a': 40469.508771929824,\n",
       " '5ae208fe38df950001454cc3': 6006.15,\n",
       " '5ae5283253072800018d5b81': 13152.568965517241,\n",
       " '5aeeb4903c80f200013af2ed': 5586.983333333334,\n",
       " '5b0ad393e9270900013b96e6': 21490.654545454545,\n",
       " '5b2890f10ec82d0001d24b61': 11666.416666666666,\n",
       " '5b6cd50f9ee1a50001c5f481': 41152.4,\n",
       " '5b76ce43bfc4cb0001f2c4c3': 9621.883333333333,\n",
       " '5b824fb6cc06660001a302d4': 34841.75,\n",
       " '5b97f8988ae8150001c7a887': 32843.66071428572,\n",
       " '5b9dd322f074140001050095': 21165.327272727274,\n",
       " '5ba18771e671c600012322e4': 19330.694915254237,\n",
       " '5ba2877a7590cc0001b50d0f': 14565.983333333334,\n",
       " '5ba292385301b80001c71ba2': 11880.016666666666,\n",
       " '5ba3b4b2509a380001bee71d': 15115.561403508771,\n",
       " '5bbf916162b9aa00011466a3': 8474.186440677966,\n",
       " '5bdc8d12b2fff7000189b6f8': 14350.066666666668,\n",
       " '5bdcd88176d6d50001bc3849': 18017.59649122807,\n",
       " '5be87e33a14b540001aa2ea5': 17006.01923076923,\n",
       " '5be9ce784f251d00015ce92e': 9937.0,\n",
       " '5bec5b873ffbad0001e8b968': 13372.413793103447,\n",
       " '5bf349126f97050001e6a6e6': 24820.339285714286,\n",
       " '5bf408f7f35e0c000101693a': 18963.2,\n",
       " '5bfadc1846911f0001d7d1eb': 8781.37037037037,\n",
       " '5c224f5289f0350001738d48': 16425.347826086956,\n",
       " '5c2414b8101408000140617a': 32056.931034482757,\n",
       " '5c376ea0eecc440001c58889': 9427.322033898305,\n",
       " '5c39606586c1450001a9675d': 14984.526315789473,\n",
       " '5c670a430d80fd00014264f9': 16947.949152542373,\n",
       " '5c71b63c4aa8ec0001f2bfc4': 4328.175438596491,\n",
       " '5c745589be30fc0014e83dc2': 11126.533333333333,\n",
       " '5c78dc27e8df4d00150c5252': 27410.716981132075,\n",
       " '5ca9e89dcb4af3001440da22': 30417.962962962964,\n",
       " '5caa4435fd086000196ddf13': 15913.59649122807,\n",
       " '5cc7615f47a31a0001baec75': 37731.683333333334,\n",
       " '5cd063ce657e300016f6c95a': 23393.176470588234,\n",
       " '5ce2f6723f8060000109feab': 17691.5,\n",
       " '5cf551508926360018a5e9ff': 21434.13725490196,\n",
       " '5cfeea9c4954fe00165895e0': 8439.830188679245,\n",
       " '5d1a13a0ae692800192fa1c2': 16301.228070175439,\n",
       " '5d215a1bbf7f840019701939': 12160.793103448275,\n",
       " '5d332957d0635b00013bd785': 24298.90740740741,\n",
       " '5d37ad921c16bb0015281337': 13122.641509433963,\n",
       " '5d3b6bb933b8940001258d39': 7535.907407407408,\n",
       " '5d4359295a5b010001523b4e': 7547.543859649123,\n",
       " '5d461284d9b0690001720f6d': 13421.603448275862,\n",
       " '5d4c7ac3e8ec490018b0050d': 26712.188679245282,\n",
       " '5d558ebe886e3f0020e90fce': 18029.563636363637,\n",
       " '5d5eeb06d8bcde00162d73f1': 14869.157894736842,\n",
       " '5d6376ec7e447f001c971315': 14838.615384615385,\n",
       " '5d6466d84e9aae0001598a5a': 11151.145454545454,\n",
       " '5d7cefc73f9ae70018b400f1': 15072.830508474577,\n",
       " '5d7e5e9b377dc300014335de': 14792.362068965518,\n",
       " '5d88db42c1d06e001a1fdcab': 9041.406779661016,\n",
       " '5d88f2f8cefb52001a83f1b2': 13476.4,\n",
       " '5dba0a89ffee14070ae13f74': 15647.134615384615,\n",
       " '5dbc73047d3d3622bcd31170': 6788.9,\n",
       " '5dc1a56a648927000be0fca7': 21839.338983050846,\n",
       " '5dc592c6aa431440aa755d5b': 13762.24074074074,\n",
       " '5dc59839e4f0ff41239cb481': 7512.122807017544,\n",
       " '5dcc27974b54778b69e62ec5': 11780.67857142857,\n",
       " '5dcca657854936945d68eaa9': 27246.78431372549,\n",
       " '5dd0098e01fadf0fa6c3a15f': 11553.964285714286,\n",
       " '5dd6d2d11228d9667276c3b7': 24346.55172413793,\n",
       " '5dd6d370194e486498e13ab6': 27122.313725490196,\n",
       " '5dd9e1e0a4aa2696d9a15c0d': 23348.06779661017,\n",
       " '5ddeb0232e4a05e10f448a80': 11215.17857142857,\n",
       " '5dea7bbcf4c5e11a098a326d': 16582.474576271186,\n",
       " '5ded9996838b4f45b83bb3f9': 25970.4406779661,\n",
       " '5df12d8b53e84603acbf5319': 19111.775510204083,\n",
       " '5dfa56fddc265f7ac3bee209': 13935.775862068966,\n",
       " '5e1e935be3c7191e0519b486': 9109.45,\n",
       " '5e2926d80beb030ede110e67': 15386.354166666666,\n",
       " '5e29c3e725dcfd01cef9f474': 17223.51785714286,\n",
       " '5e2b28a1c94da6180ea79d5d': 8110.25,\n",
       " '5e387f2c0d70ef099d5e5a4f': 14654.48076923077,\n",
       " '5e3b8f110d41ad3a7bc35019': 20146.64912280702,\n",
       " '5e42f74f5b772a18434cabf7': 30571.966666666667,\n",
       " '5e500ab1ec45d305b6b82d9f': 17084.725490196077,\n",
       " '5e6844d12062a1012a278976': 10369.305084745763,\n",
       " '5e7a6846f0f631000a4e2b9d': 13128.80357142857,\n",
       " '5e7e70c583c34c53f6c643db': 12396.881355932202,\n",
       " '5e801ffa2b3c3870ecdf7865': 21302.655172413793,\n",
       " '5e83bb0601aa8c11929fa6d4': 25175.525423728814,\n",
       " '5e8601d90126b207e8c7a2aa': 7350.051724137931,\n",
       " '5e8727fb90c37002d97ca052': 11578.185185185184,\n",
       " '5e8cf14c0bec230b335e060d': 11552.872727272726,\n",
       " '5e9746fb1eed951eed404015': 8949.362068965518,\n",
       " '5e9749b44592572013c96868': 9027.245614035088,\n",
       " '5ea45eb9abef8a07bcced2bc': 21026.105263157893,\n",
       " '5eaa605c7c3cbc1f14421a94': 6219.127272727273,\n",
       " '5eb313d87a289b0f847a7752': 20374.636363636364,\n",
       " '5eb339ee6290bc124b8549a6': 10158.018867924528,\n",
       " '5eb983034987d1074b5232ce': 25186.072727272727,\n",
       " '5ec03a7169738f43d87ffc72': 13500.465517241379,\n",
       " '5ed478fa7d20a043b7c3be83': 5057.65,\n",
       " '5ed83674e7cb0a18273e9028': 32402.115384615383,\n",
       " '5eda94f69f275211dff92234': 25402.14814814815,\n",
       " '5edc0720ec975e0dc6385210': 29428.1,\n",
       " '5ededc7ab3595e17ef9533df': 10563.847457627118,\n",
       " '5ee232f2b970662cfa352567': 15643.82142857143,\n",
       " '5ef0d115ebe9a70ee13bcd52': 16107.545454545454,\n",
       " '5f0632802b566a17e81a5f5f': 15754.666666666666,\n",
       " '5f112ff34bd17349da319e7c': 9750.796610169491,\n",
       " '5f16f737b1487a01161d4f93': 7908.28813559322,\n",
       " '5f202f442841bb2b5a8bda34': 12310.0,\n",
       " '5f2150b3319efd2d619a356b': 17801.775510204083,\n",
       " '5f244e0d0d7f44018faa3938': 10654.084745762711,\n",
       " '5f2db71d8107210d51d6a0a7': 15330.896551724138,\n",
       " '5f36bde6d3369c0cadac39bf': 24956.821428571428,\n",
       " '5f37f046d1a0bd2af1cb0ce6': 31532.169491525423,\n",
       " '5f3c6e44dc97f2aee9a67c7b': 9566.864406779661,\n",
       " '5f47e6376aa63923f3804e3b': 8447.694915254237,\n",
       " '5f4b283c6e1f3e6ec65c32f6': 17118.305084745763,\n",
       " '5f4d40ca75b5258bf5af8cca': 14658.45,\n",
       " '5f4ff67ab2c26c14b484ab03': 12339.722222222223,\n",
       " '5f565c9592080106c6b4d467': 10602.847457627118,\n",
       " '5f56e1d1b72358165158550d': 4204.576271186441,\n",
       " '5f5a534ca009210e9602114f': 20194.066666666666,\n",
       " '5f75285712d5ca1a99723b3a': 12652.396226415094,\n",
       " '5f828002935db93a4d29d577': 44470.0,\n",
       " '5f919a881f37510203a7a638': 11343.101694915254,\n",
       " '5f989fa02b5a611b2df1a305': 8716.457627118643,\n",
       " '5f99a9a8a1558603b27e39e5': 13063.283333333333,\n",
       " '5fa17ddeabc188288bde81c8': 9316.169491525423,\n",
       " '5fb3d71c3144730009fe4a7b': 22467.254237288136,\n",
       " '5fb9b9c1c62f408e51e09e32': 36577.34693877551,\n",
       " '5fbd057ea95c7102638685d5': 34731.50943396227,\n",
       " '5fdca41ecb769722e2266d8a': 14351.983333333334,\n",
       " '5ff40482197628a732bdf46a': 21172.333333333332,\n",
       " '5ff5f7ad932d56101bf7c90d': 8117.456140350877,\n",
       " '60035a7089252e07b1d4b077': 9971.105263157895,\n",
       " '6010e0dab98c814912076b27': 6300.964285714285,\n",
       " '60185121c694790aa6520236': 38755.983050847455,\n",
       " '603e97154847faf7531b40b6': 10323.345454545455,\n",
       " '603fa7d057d382087d66d1c2': 14268.796610169491,\n",
       " '604445808afbd64cbbcd20a1': 27466.418181818182,\n",
       " '604bd44cb5668ba12cc9376e': 31991.266666666666,\n",
       " '606609111ba10f35596db018': 13344.568965517241,\n",
       " '6068bf5914131f3a1a80a413': 20632.06779661017,\n",
       " '607c9f94cc974d4ea1dc22c8': 21787.54716981132}"
      ]
     },
     "execution_count": 26,
     "metadata": {},
     "output_type": "execute_result"
    }
   ],
   "source": [
    "avg_time"
   ]
  },
  {
   "cell_type": "code",
   "execution_count": 27,
   "metadata": {
    "colab": {
     "base_uri": "https://localhost:8080/",
     "height": 911
    },
    "executionInfo": {
     "elapsed": 518,
     "status": "ok",
     "timestamp": 1643516873966,
     "user": {
      "displayName": "Gokul Srinivasan",
      "photoUrl": "https://lh3.googleusercontent.com/a/default-user=s64",
      "userId": "01072835723997484871"
     },
     "user_tz": 480
    },
    "id": "MUWnli0vBlk1",
    "outputId": "664aacb6-5547-45a2-cc55-ff352b0d4faf"
   },
   "outputs": [
    {
     "data": {
      "image/png": "[encoded data removed]",
      "text/plain": [
       "<Figure size 432x288 with 1 Axes>"
      ]
     },
     "metadata": {
      "needs_background": "light"
     },
     "output_type": "display_data"
    },
    {
     "name": "stdout",
     "output_type": "stream",
     "text": [
      "r-value:0.116283\n",
      "p-value:0.131022\n"
     ]
    },
    {
     "data": {
      "image/png": "[encoded data removed]",
      "text/plain": [
       "<Figure size 432x288 with 1 Axes>"
      ]
     },
     "metadata": {
      "needs_background": "light"
     },
     "output_type": "display_data"
    },
    {
     "name": "stdout",
     "output_type": "stream",
     "text": [
      "r-value:-0.052995\n",
      "p-value:0.492490\n"
     ]
    },
    {
     "data": {
      "image/png": "[encoded data removed]",
      "text/plain": [
       "<Figure size 432x288 with 1 Axes>"
      ]
     },
     "metadata": {
      "needs_background": "light"
     },
     "output_type": "display_data"
    },
    {
     "name": "stdout",
     "output_type": "stream",
     "text": [
      "r-value:0.033362\n",
      "p-value:0.665815\n"
     ]
    }
   ],
   "source": [
    "#avg. time per pos vs beck\n",
    "times = []\n",
    "beck = []\n",
    "\n",
    "for id in avg_time:\n",
    "  if id in ascores:\n",
    "    times.append(avg_time.get(id))\n",
    "    beck.append(ascores.get(id).get('beck'))\n",
    "\n",
    "x = np.array(times)\n",
    "y = np.array(beck)\n",
    "plt.scatter(x, y)\n",
    "plt.xlabel(\"Avg. Time per Possibility\")\n",
    "plt.ylabel(\"Beck\")\n",
    "\n",
    "slope, intercept, r_value, p_value, std_err = stats.linregress(x,y)\n",
    "predict_y = intercept + slope * x\n",
    "\n",
    "plt.plot(x,y,'ro')\n",
    "plt.plot(x, predict_y, 'k-')\n",
    "plt.autoscale(True)\n",
    "plt.grid(True)\n",
    "plt.show()\n",
    "\n",
    "print(\"r-value:%f\" % r_value)\n",
    "print(\"p-value:%f\" % p_value)\n",
    "\n",
    "#avg. time per pos vs openness\n",
    "times = []\n",
    "openness = []\n",
    "\n",
    "for id in avg_time:\n",
    "  if id in ascores:\n",
    "    times.append(avg_time.get(id))\n",
    "    openness.append(ascores.get(id).get('openness'))\n",
    "\n",
    "x = np.array(times)\n",
    "y = np.array(openness)\n",
    "plt.scatter(x, y)\n",
    "plt.xlabel(\"Avg. Time per Possibility\")\n",
    "plt.ylabel(\"Openness\")\n",
    "\n",
    "slope, intercept, r_value, p_value, std_err = stats.linregress(x,y)\n",
    "predict_y = intercept + slope * x\n",
    "\n",
    "plt.plot(x,y,'ro')\n",
    "plt.plot(x, predict_y, 'k-')\n",
    "plt.autoscale(True)\n",
    "plt.grid(True)\n",
    "plt.show()\n",
    "\n",
    "print(\"r-value:%f\" % r_value)\n",
    "print(\"p-value:%f\" % p_value)\n",
    "\n",
    "#avg. time per pos vs panas\n",
    "times = []\n",
    "panas = []\n",
    "\n",
    "for id in avg_time:\n",
    "  if id in ascores:\n",
    "    times.append(avg_time.get(id))\n",
    "    panas.append(ascores.get(id).get('panas_pos'))\n",
    "\n",
    "x = np.array(times)\n",
    "y = np.array(panas)\n",
    "plt.scatter(x, y)\n",
    "plt.xlabel(\"Avg. Time per Possibility\")\n",
    "plt.ylabel(\"PANAS Positive\")\n",
    "\n",
    "slope, intercept, r_value, p_value, std_err = stats.linregress(x,y)\n",
    "predict_y = intercept + slope * x\n",
    "\n",
    "plt.plot(x,y,'ro')\n",
    "plt.plot(x, predict_y, 'k-')\n",
    "plt.autoscale(True)\n",
    "plt.grid(True)\n",
    "plt.show()\n",
    "\n",
    "print(\"r-value:%f\" % r_value)\n",
    "print(\"p-value:%f\" % p_value)"
   ]
  },
  {
   "cell_type": "code",
   "execution_count": 28,
   "metadata": {
    "executionInfo": {
     "elapsed": 90246,
     "status": "ok",
     "timestamp": 1643516964210,
     "user": {
      "displayName": "Gokul Srinivasan",
      "photoUrl": "https://lh3.googleusercontent.com/a/default-user=s64",
      "userId": "01072835723997484871"
     },
     "user_tz": 480
    },
    "id": "eZ_3fU38U-DT"
   },
   "outputs": [],
   "source": [
    "#difference between the internal ratings and predicted sentiment \n",
    "difference_dic = {}\n",
    "for id, group in generations.groupby('id'):\n",
    "  difference_dic[id] = 0\n",
    "  for row in zip(group['response'].tolist(), group['reflection_score'].tolist()):\n",
    "    if not pd.isna(row[0]):\n",
    "      difference_dic[id] = difference_dic.get(id) + abs(predict_sentiment(row[0]) - row[1])\n"
   ]
  },
  {
   "cell_type": "code",
   "execution_count": 29,
   "metadata": {
    "colab": {
     "base_uri": "https://localhost:8080/",
     "height": 910
    },
    "executionInfo": {
     "elapsed": 428,
     "status": "ok",
     "timestamp": 1643516964630,
     "user": {
      "displayName": "Gokul Srinivasan",
      "photoUrl": "https://lh3.googleusercontent.com/a/default-user=s64",
      "userId": "01072835723997484871"
     },
     "user_tz": 480
    },
    "id": "G0tZOxkvWq1T",
    "outputId": "68ecbe88-5fae-4543-a4e7-17fc3f707911"
   },
   "outputs": [
    {
     "data": {
      "image/png": "[encoded data removed]",
      "text/plain": [
       "<Figure size 432x288 with 1 Axes>"
      ]
     },
     "metadata": {
      "needs_background": "light"
     },
     "output_type": "display_data"
    },
    {
     "name": "stdout",
     "output_type": "stream",
     "text": [
      "r-value:-0.184706\n",
      "p-value:0.015896\n"
     ]
    },
    {
     "data": {
      "image/png": "[encoded data removed]",
      "text/plain": [
       "<Figure size 432x288 with 1 Axes>"
      ]
     },
     "metadata": {
      "needs_background": "light"
     },
     "output_type": "display_data"
    },
    {
     "name": "stdout",
     "output_type": "stream",
     "text": [
      "r-value:0.425561\n",
      "p-value:0.000000\n"
     ]
    },
    {
     "data": {
      "image/png": "[encoded data removed]",
      "text/plain": [
       "<Figure size 432x288 with 1 Axes>"
      ]
     },
     "metadata": {
      "needs_background": "light"
     },
     "output_type": "display_data"
    },
    {
     "name": "stdout",
     "output_type": "stream",
     "text": [
      "r-value:0.192211\n",
      "p-value:0.012036\n"
     ]
    }
   ],
   "source": [
    "#for beck\n",
    "difference = []\n",
    "beck = []\n",
    "panas = []\n",
    "openness = []\n",
    "for id in difference_dic:\n",
    "  if id in ascores:\n",
    "    difference.append(difference_dic.get(id))\n",
    "    beck.append(ascores.get(id).get('beck'))\n",
    "    panas.append(ascores.get(id).get('panas_pos'))\n",
    "    openness.append(ascores.get(id).get('openness'))\n",
    "\n",
    "x = np.array(beck)\n",
    "y = np.array(difference)\n",
    "plt.scatter(x, y)\n",
    "plt.xlabel(\"Beck\")\n",
    "plt.ylabel(\"Sentiment Evaluation Difference\")\n",
    "\n",
    "slope, intercept, r_value, p_value, std_err = stats.linregress(x,y)\n",
    "predict_y = intercept + slope * x\n",
    "\n",
    "plt.plot(x,y,'ro')\n",
    "plt.plot(x, predict_y, 'k-')\n",
    "plt.autoscale(True)\n",
    "plt.grid(True)\n",
    "plt.show()\n",
    "\n",
    "print(\"r-value:%f\" % r_value)\n",
    "print(\"p-value:%f\" % p_value)\n",
    "\n",
    "#for panas\n",
    "\n",
    "x = np.array(panas)\n",
    "y = np.array(difference)\n",
    "plt.scatter(x, y)\n",
    "plt.xlabel(\"Panas\")\n",
    "plt.ylabel(\"Sentiment Evaluation Difference\")\n",
    "\n",
    "slope, intercept, r_value, p_value, std_err = stats.linregress(x,y)\n",
    "predict_y = intercept + slope * x\n",
    "\n",
    "plt.plot(x,y,'ro')\n",
    "plt.plot(x, predict_y, 'k-')\n",
    "plt.autoscale(True)\n",
    "plt.grid(True)\n",
    "plt.show()\n",
    "\n",
    "print(\"r-value:%f\" % r_value)\n",
    "print(\"p-value:%f\" % p_value)\n",
    "\n",
    "# openness \n",
    "x = np.array(openness)\n",
    "y = np.array(difference)\n",
    "plt.scatter(x, y)\n",
    "plt.xlabel(\"Openness\")\n",
    "plt.ylabel(\"Sentiment Evaluation Difference\")\n",
    "\n",
    "slope, intercept, r_value, p_value, std_err = stats.linregress(x,y)\n",
    "predict_y = intercept + slope * x\n",
    "\n",
    "plt.plot(x,y,'ro')\n",
    "plt.plot(x, predict_y, 'k-')\n",
    "plt.autoscale(True)\n",
    "plt.grid(True)\n",
    "plt.show()\n",
    "\n",
    "print(\"r-value:%f\" % r_value)\n",
    "print(\"p-value:%f\" % p_value)\n",
    "\n"
   ]
  },
  {
   "cell_type": "code",
   "execution_count": 30,
   "metadata": {
    "colab": {
     "base_uri": "https://localhost:8080/",
     "height": 456
    },
    "executionInfo": {
     "elapsed": 1267,
     "status": "ok",
     "timestamp": 1643516966055,
     "user": {
      "displayName": "Gokul Srinivasan",
      "photoUrl": "https://lh3.googleusercontent.com/a/default-user=s64",
      "userId": "01072835723997484871"
     },
     "user_tz": 480
    },
    "id": "KWGAbR9SYdrq",
    "outputId": "f2c1d6bc-40e7-4233-9a41-2dd963e76a73"
   },
   "outputs": [
    {
     "name": "stderr",
     "output_type": "stream",
     "text": [
      "/usr/local/lib/python3.7/dist-packages/scipy/stats/_stats_mstats_common.py:130: RuntimeWarning: invalid value encountered in double_scalars\n",
      "  slope = r_num / ssxm\n",
      "/usr/local/lib/python3.7/dist-packages/scipy/stats/_stats_mstats_common.py:140: RuntimeWarning: invalid value encountered in sqrt\n",
      "  t = r * np.sqrt(df / ((1.0 - r + TINY)*(1.0 + r + TINY)))\n",
      "/usr/local/lib/python3.7/dist-packages/scipy/stats/_stats_mstats_common.py:142: RuntimeWarning: invalid value encountered in double_scalars\n",
      "  sterrest = np.sqrt((1 - r**2) * ssym / ssxm / df)\n"
     ]
    },
    {
     "name": "stdout",
     "output_type": "stream",
     "text": [
      "{'5563984afdf99b672b5749b6': -7.341428571428571, '5591827dfdf99b4fccbdfb21': -0.9929324605871706, '55c43918fdf99b080551e044': -4.686312292358805, '55d5e2c9db6a810006fa078b': -4.269082760696988, '55f0c4ba4779250012dd2ff5': -11.677408637873755, '566a1d697da0350005b39de3': -3.2059459459459463, '56797198c3041a0012b64b5e': -5.427176079734219, '56f29effed0cf60006911528': -5.1264864864864865, '570521cfde5095001018a0c8': -1.746756756756757, '573a8aca67421f000f191c52': -3.502625482625482, '57509d9b363e77000695620b': -12.390659340659342, '5758a211cb13810006479a0d': -4.163948100924845, '57b60487e5b60d0001083aea': 3.605714285714286, '57f2da5c6c19420001438d19': -12.731428571428571, '58064d91f25c440001678a10': -5.265824175824176, '581649f0b434f0000184d2a9': -6.6589189189189195, '5832fa8996ecce0001d65197': -8.315444015444015, '585eb4cfc34844000174d807': -9.970024692466552, '589ce4d65e63bf00013b3175': -4.57249169435216, '58be162d2e4dc0000164b12c': -2.6088704318936875, '58d3dad59dbe3f0001258f66': -5.287768440709617, '58f1017ac325470001795b01': -2.6842857142857146, '58fe1c529dc84a000134e24e': -0.7942192691029899, '597b81f3de42bf000181db0b': -0.0659459459459458, '598c9125cceb0f0001b39697': -2.6142857142857148, '599da50e17c03c000151b18b': -3.781158301158301, '5a282206b279aa0001b0e002': -8.8878073089701, '5a348ea750833c0001ee9550': -0.5120463320463321, '5a4ff86beedc32000141f232': -7.3588704318936875, '5a64417931b87a0001c6f48b': -10.673629343629344, '5a6b998a3fb6420001c2f97a': nan, '5a78dbb9ae9a0b0001a97212': -4.251281692603603, '5a78e410ae9a0b0001a97274': -7.1778861135906284, '5a9998a14eecca0001dd791e': -11.665714285714287, '5ac4c730f69e940001d977e1': -10.422857142857143, '5ac50a19a3ba7a0001b4a483': -7.787528957528956, '5acb7b0ae1099600016acdd6': -7.029144293795457, '5acbead40527ba0001c2680a': 1.0772586872586873, '5ae208fe38df950001454cc3': -8.528571428571428, '5ae5283253072800018d5b81': -6.377142857142856, '5aeeb4903c80f200013af2ed': -5.228571428571428, '5b0ad393e9270900013b96e6': -4.3038695111576475, '5b2890f10ec82d0001d24b61': -3.5971428571428574, '5b6cd50f9ee1a50001c5f481': -6.261559665978271, '5b76ce43bfc4cb0001f2c4c3': -6.5200000000000005, '5b824fb6cc06660001a302d4': -7.4957142857142856, '5b97f8988ae8150001c7a887': -5.398571428571429, '5b9dd322f074140001050095': -3.602857142857142, '5ba18771e671c600012322e4': -12.51880308880309, '5ba2877a7590cc0001b50d0f': -7.937142857142857, '5ba292385301b80001c71ba2': -1.1428571428571428, '5ba3b4b2509a380001bee71d': -7.374617940199334, '5bbf916162b9aa00011466a3': -3.9899613899613895, '5bdc8d12b2fff7000189b6f8': -5.722857142857142, '5bdcd88176d6d50001bc3849': -3.365559845559845, '5be87e33a14b540001aa2ea5': 0.8696194902077256, '5be9ce784f251d00015ce92e': -7.27860465116279, '5bec5b873ffbad0001e8b968': -7.845714285714285, '5bf349126f97050001e6a6e6': -10.406254826254827, '5bf408f7f35e0c000101693a': -6.177142857142856, '5bfadc1846911f0001d7d1eb': 1.1135907335907334, '5c224f5289f0350001738d48': -4.688073089700998, '5c2414b8101408000140617a': -8.347743557511, '5c376ea0eecc440001c58889': -6.735714285714286, '5c39606586c1450001a9675d': -2.407457627118644, '5c670a430d80fd00014264f9': -3.6503322259136213, '5c71b63c4aa8ec0001f2bfc4': -7.396378737541528, '5c745589be30fc0014e83dc2': -3.3685714285714283, '5c78dc27e8df4d00150c5252': -4.715979168537308, '5ca9e89dcb4af3001440da22': -5.258941988244314, '5caa4435fd086000196ddf13': -6.525126050420168, '5cc7615f47a31a0001baec75': -1.6742857142857148, '5cd063ce657e300016f6c95a': -3.9335429618480466, '5ce2f6723f8060000109feab': -15.010311151487624, '5cf551508926360018a5e9ff': -8.80241500245604, '5cfeea9c4954fe00165895e0': -7.213905553905553, '5d1a13a0ae692800192fa1c2': -2.583976833976833, '5d215a1bbf7f840019701939': -6.829307713028643, '5d332957d0635b00013bd785': -4.798999730627637, '5d37ad921c16bb0015281337': -7.055005166774974, '5d3b6bb933b8940001258d39': -8.873657793131477, '5d4359295a5b010001523b4e': -2.0857142857142854, '5d461284d9b0690001720f6d': -6.094431175361408, '5d4c7ac3e8ec490018b0050d': -7.996895932477328, '5d558ebe886e3f0020e90fce': 3.4240447097246474, '5d5eeb06d8bcde00162d73f1': -6.688737541528238, '5d6376ec7e447f001c971315': -8.02578947368421, '5d6466d84e9aae0001598a5a': -5.100453443476701, '5d7cefc73f9ae70018b400f1': -3.5541528239202664, '5d7e5e9b377dc300014335de': -5.999189189189189, '5d88db42c1d06e001a1fdcab': -5.355714285714286, '5d88f2f8cefb52001a83f1b2': -8.653156146179402, '5dba0a89ffee14070ae13f74': -2.435705306635539, '5dbc73047d3d3622bcd31170': -3.3828571428571435, '5dc1a56a648927000be0fca7': -7.282857142857144, '5dc592c6aa431440aa755d5b': -2.2081081081081084, '5dc59839e4f0ff41239cb481': -1.6647876447876448, '5dcc27974b54778b69e62ec5': -11.143886145281495, '5dcca657854936945d68eaa9': -3.8447104247104242, '5dd0098e01fadf0fa6c3a15f': -6.792718865044445, '5dd6d2d11228d9667276c3b7': -0.989305019305019, '5dd6d370194e486498e13ab6': -4.397721629655535, '5dd9e1e0a4aa2696d9a15c0d': -8.40518272425249, '5ddeb0232e4a05e10f448a80': -2.8884942084942082, '5dea7bbcf4c5e11a098a326d': -6.915096525096525, '5ded9996838b4f45b83bb3f9': -5.7857142857142865, '5df12d8b53e84603acbf5319': -6.936192525262294, '5dfa56fddc265f7ac3bee209': -9.405791505791507, '5e1e935be3c7191e0519b486': -6.434285714285714, '5e2926d80beb030ede110e67': -5.993584767829939, '5e29c3e725dcfd01cef9f474': -6.3969747899159675, '5e2b28a1c94da6180ea79d5d': -5.162857142857143, '5e387f2c0d70ef099d5e5a4f': -10.623732603034927, '5e3b8f110d41ad3a7bc35019': -3.6933878064110623, '5e42f74f5b772a18434cabf7': 3.6771428571428566, '5e500ab1ec45d305b6b82d9f': -5.710140073628446, '5e6844d12062a1012a278976': -7.295250965250965, '5e7a6846f0f631000a4e2b9d': -9.0892277992278, '5e7e70c583c34c53f6c643db': -5.97003861003861, '5e801ffa2b3c3870ecdf7865': -2.5629729729729727, '5e83bb0601aa8c11929fa6d4': -7.017475083056479, '5e8601d90126b207e8c7a2aa': 1.20784412319296, '5e8727fb90c37002d97ca052': -10.363822393822392, '5e8cf14c0bec230b335e060d': -1.9748504983388706, '5e9746fb1eed951eed404015': -6.048996138996139, '5e9749b44592572013c96868': -2.421422286073449, '5ea45eb9abef8a07bcced2bc': -12.589034749034749, '5eaa605c7c3cbc1f14421a94': -8.407229954206697, '5eb313d87a289b0f847a7752': -7.699136212624585, '5eb339ee6290bc124b8549a6': -7.621230978878037, '5eb983034987d1074b5232ce': -4.109343629343629, '5ec03a7169738f43d87ffc72': -5.072277992277992, '5ed478fa7d20a043b7c3be83': -5.768571428571429, '5ed83674e7cb0a18273e9028': -4.4268139059520735, '5eda94f69f275211dff92234': -7.100265780730898, '5edc0720ec975e0dc6385210': -4.222857142857142, '5ededc7ab3595e17ef9533df': -6.258571428571429, '5ee232f2b970662cfa352567': -5.290697674418604, '5ef0d115ebe9a70ee13bcd52': -5.094787644787644, '5f0632802b566a17e81a5f5f': -6.351284008260753, '5f112ff34bd17349da319e7c': -10.148571428571426, '5f16f737b1487a01161d4f93': -4.628571428571429, '5f202f442841bb2b5a8bda34': -5.191196013289035, '5f2150b3319efd2d619a356b': -4.575644461962949, '5f244e0d0d7f44018faa3938': -2.6645559845559843, '5f2db71d8107210d51d6a0a7': -6.440897009966778, '5f36bde6d3369c0cadac39bf': -5.730518990751548, '5f37f046d1a0bd2af1cb0ce6': -6.148571428571428, '5f3c6e44dc97f2aee9a67c7b': -3.3840540540540545, '5f47e6376aa63923f3804e3b': -11.30857142857143, '5f4b283c6e1f3e6ec65c32f6': 0.003088803088803038, '5f4d40ca75b5258bf5af8cca': -16.93714285714286, '5f4ff67ab2c26c14b484ab03': -7.727348478046151, '5f565c9592080106c6b4d467': -7.290930232558139, '5f56e1d1b72358165158550d': -4.0952509652509645, '5f5a534ca009210e9602114f': -11.511428571428572, '5f75285712d5ca1a99723b3a': -1.6665978270629433, '5f828002935db93a4d29d577': -3.45015444015444, '5f919a881f37510203a7a638': -4.99, '5f989fa02b5a611b2df1a305': -8.724485049833888, '5f99a9a8a1558603b27e39e5': -0.16000000000000023, '5fa17ddeabc188288bde81c8': -2.832702702702702, '5fb3d71c3144730009fe4a7b': -5.918737541528239, '5fb9b9c1c62f408e51e09e32': 4.295116279069768, '5fbd057ea95c7102638685d5': -6.2029262817634905, '5fdca41ecb769722e2266d8a': -10.22857142857143, '5ff40482197628a732bdf46a': -6.404947472389333, '5ff5f7ad932d56101bf7c90d': -4.240972434228248, '60035a7089252e07b1d4b077': -5.33299182903834, '6010e0dab98c814912076b27': -0.5078432252850853, '60185121c694790aa6520236': -2.2792026578073092, '603e97154847faf7531b40b6': -7.567220077220076, '603fa7d057d382087d66d1c2': 0.0, '604445808afbd64cbbcd20a1': -9.37670378019215, '604bd44cb5668ba12cc9376e': -7.33142857142857, '606609111ba10f35596db018': -5.008405315614619, '6068bf5914131f3a1a80a413': -5.802316602316603, '607c9f94cc974d4ea1dc22c8': -7.834324324324325}\n"
     ]
    },
    {
     "data": {
      "image/png": "[encoded data removed]",
      "text/plain": [
       "<Figure size 432x288 with 1 Axes>"
      ]
     },
     "metadata": {
      "needs_background": "light"
     },
     "output_type": "display_data"
    },
    {
     "name": "stdout",
     "output_type": "stream",
     "text": [
      "r-value:0.141022\n",
      "p-value:0.061172\n"
     ]
    }
   ],
   "source": [
    "#self reflection gradient vs total time \n",
    "reflection_gradient = {}\n",
    "for id, group in generations.groupby(\"id\"):\n",
    "  reflection_gradient[id] = []\n",
    "  for vign, group2 in group.groupby(\"vignette_name\"):\n",
    "    numbers = group2['generation_number']\n",
    "    score = group2['reflection_score']\n",
    "    x = np.array(numbers)\n",
    "    y = np.array(score)\n",
    "    slope, intercept, r_value, p_value, std_err = stats.linregress(x,y)\n",
    "    reflection_gradient.get(id).append(slope)\n",
    "\n",
    "for id in reflection_gradient:\n",
    "  reflection_gradient[id] = sum(reflection_gradient.get(id))/len(reflection_gradient.get(id))\n",
    "print(reflection_gradient)\n",
    "reflections = []\n",
    "times = []\n",
    "for id in reflection_gradient:\n",
    "  if not pd.isna(reflection_gradient.get(id)) and not pd.isna(time_dic.get(id)):\n",
    "    reflections.append(reflection_gradient.get(id))\n",
    "    times.append(time_dic.get(id))\n",
    "\n",
    "x = np.array(times)\n",
    "y = np.array(reflections)\n",
    "plt.scatter(x, y)\n",
    "plt.xlabel(\"Total Time (ms)\")\n",
    "plt.ylabel(\"Reflection Gradient\")\n",
    "\n",
    "slope, intercept, r_value, p_value, std_err = stats.linregress(x,y)\n",
    "predict_y = intercept + slope * x\n",
    "\n",
    "plt.plot(x,y,'ro')\n",
    "plt.plot(x, predict_y, 'k-')\n",
    "plt.autoscale(True)\n",
    "plt.grid(True)\n",
    "plt.show()\n",
    "\n",
    "print(\"r-value:%f\" % r_value)\n",
    "print(\"p-value:%f\" % p_value)"
   ]
  },
  {
   "cell_type": "code",
   "execution_count": 31,
   "metadata": {
    "colab": {
     "base_uri": "https://localhost:8080/",
     "height": 315
    },
    "executionInfo": {
     "elapsed": 10,
     "status": "ok",
     "timestamp": 1643516966056,
     "user": {
      "displayName": "Gokul Srinivasan",
      "photoUrl": "https://lh3.googleusercontent.com/a/default-user=s64",
      "userId": "01072835723997484871"
     },
     "user_tz": 480
    },
    "id": "9cnv-ViGdorr",
    "outputId": "761833ee-f07c-4f56-f21f-0aac796ad30f"
   },
   "outputs": [
    {
     "data": {
      "image/png": "[encoded data removed]",
      "text/plain": [
       "<Figure size 432x288 with 1 Axes>"
      ]
     },
     "metadata": {
      "needs_background": "light"
     },
     "output_type": "display_data"
    },
    {
     "name": "stdout",
     "output_type": "stream",
     "text": [
      "r-value:0.265421\n",
      "p-value:0.000356\n"
     ]
    }
   ],
   "source": [
    "#reflection gradient vs sentiment gradient \n",
    "sentiment = []\n",
    "reflection = []\n",
    "\n",
    "for id in reflection_gradient:\n",
    "  if not pd.isna(slopes.get(id)) and not pd.isna(reflection_gradient.get(id)):\n",
    "    sentiment.append(slopes.get(id))\n",
    "    reflection.append(reflection_gradient.get(id))\n",
    "\n",
    "x = np.array(sentiment)\n",
    "y = np.array(reflection)\n",
    "plt.scatter(x, y)\n",
    "plt.xlabel(\"Sentiment Gradient\")\n",
    "plt.ylabel(\"Reflection Gradient\")\n",
    "\n",
    "slope, intercept, r_value, p_value, std_err = stats.linregress(x,y)\n",
    "predict_y = intercept + slope * x\n",
    "\n",
    "plt.plot(x,y,'ro')\n",
    "plt.plot(x, predict_y, 'k-')\n",
    "plt.autoscale(True)\n",
    "plt.grid(True)\n",
    "plt.show()\n",
    "\n",
    "print(\"r-value:%f\" % r_value)\n",
    "print(\"p-value:%f\" % p_value)"
   ]
  },
  {
   "cell_type": "code",
   "execution_count": 32,
   "metadata": {
    "colab": {
     "base_uri": "https://localhost:8080/",
     "height": 315
    },
    "executionInfo": {
     "elapsed": 226,
     "status": "ok",
     "timestamp": 1643516966274,
     "user": {
      "displayName": "Gokul Srinivasan",
      "photoUrl": "https://lh3.googleusercontent.com/a/default-user=s64",
      "userId": "01072835723997484871"
     },
     "user_tz": 480
    },
    "id": "-KmbiGoDiOYo",
    "outputId": "667af150-fd71-45cb-e165-8cbd2a8be565"
   },
   "outputs": [
    {
     "data": {
      "image/png": "[encoded data removed]",
      "text/plain": [
       "<Figure size 432x288 with 1 Axes>"
      ]
     },
     "metadata": {
      "needs_background": "light"
     },
     "output_type": "display_data"
    },
    {
     "name": "stdout",
     "output_type": "stream",
     "text": [
      "r-value:-0.058243\n",
      "p-value:0.450588\n"
     ]
    }
   ],
   "source": [
    "#reflection gradient vs beck \n",
    "reflection = []\n",
    "beck = []\n",
    "for id in reflection_gradient:\n",
    "  if id in ascores:\n",
    "    reflection.append(reflection_gradient.get(id))\n",
    "    beck.append(ascores.get(id).get('beck'))\n",
    "\n",
    "x = np.array(beck)\n",
    "y = np.array(reflection)\n",
    "plt.scatter(x, y)\n",
    "plt.xlabel(\"Beck\")\n",
    "plt.ylabel(\"Reflection Gradient\")\n",
    "\n",
    "slope, intercept, r_value, p_value, std_err = stats.linregress(x,y)\n",
    "predict_y = intercept + slope * x\n",
    "\n",
    "plt.plot(x,y,'ro')\n",
    "plt.plot(x, predict_y, 'k-')\n",
    "plt.autoscale(True)\n",
    "plt.grid(True)\n",
    "plt.show()\n",
    "\n",
    "print(\"r-value:%f\" % r_value)\n",
    "print(\"p-value:%f\" % p_value)"
   ]
  },
  {
   "cell_type": "code",
   "execution_count": 33,
   "metadata": {
    "colab": {
     "base_uri": "https://localhost:8080/",
     "height": 315
    },
    "executionInfo": {
     "elapsed": 5,
     "status": "ok",
     "timestamp": 1643516966274,
     "user": {
      "displayName": "Gokul Srinivasan",
      "photoUrl": "https://lh3.googleusercontent.com/a/default-user=s64",
      "userId": "01072835723997484871"
     },
     "user_tz": 480
    },
    "id": "Hp-EY2ffkHAM",
    "outputId": "19262c51-4c4f-4918-b042-779e1b795c2a"
   },
   "outputs": [
    {
     "data": {
      "image/png": "[encoded data removed]",
      "text/plain": [
       "<Figure size 432x288 with 1 Axes>"
      ]
     },
     "metadata": {
      "needs_background": "light"
     },
     "output_type": "display_data"
    },
    {
     "name": "stdout",
     "output_type": "stream",
     "text": [
      "r-value:0.195940\n",
      "p-value:0.008956\n"
     ]
    }
   ],
   "source": [
    "#reflection gradient vs time gradient \n",
    "reflection = []\n",
    "time = []\n",
    "\n",
    "for id in reflection_gradient:\n",
    "  if not pd.isna(time_gradient_dic.get(id)) and not pd.isna(reflection_gradient.get(id)):\n",
    "    reflection.append(reflection_gradient.get(id))\n",
    "    time.append(time_gradient_dic.get(id))\n",
    "\n",
    "x = np.array(time)\n",
    "y = np.array(reflection)\n",
    "plt.scatter(x, y)\n",
    "plt.xlabel(\"Time Gradient (ms)\")\n",
    "plt.ylabel(\"Reflection Gradient\")\n",
    "\n",
    "slope, intercept, r_value, p_value, std_err = stats.linregress(x,y)\n",
    "predict_y = intercept + slope * x\n",
    "\n",
    "plt.plot(x,y,'ro')\n",
    "plt.plot(x, predict_y, 'k-')\n",
    "plt.autoscale(True)\n",
    "plt.grid(True)\n",
    "plt.show()\n",
    "\n",
    "print(\"r-value:%f\" % r_value)\n",
    "print(\"p-value:%f\" % p_value)"
   ]
  },
  {
   "cell_type": "code",
   "execution_count": 34,
   "metadata": {
    "colab": {
     "base_uri": "https://localhost:8080/",
     "height": 424
    },
    "executionInfo": {
     "elapsed": 6,
     "status": "ok",
     "timestamp": 1643516966275,
     "user": {
      "displayName": "Gokul Srinivasan",
      "photoUrl": "https://lh3.googleusercontent.com/a/default-user=s64",
      "userId": "01072835723997484871"
     },
     "user_tz": 480
    },
    "id": "lKTniHmbUsVh",
    "outputId": "8885b92a-a1d1-4d4c-97a1-1f76e90027ee"
   },
   "outputs": [
    {
     "data": {
      "text/html": [
       "\n",
       "  <div id=\"df-1cbb90e5-227c-4741-bd56-7834789d742c\">\n",
       "    <div class=\"colab-df-container\">\n",
       "      <div>\n",
       "<style scoped>\n",
       "    .dataframe tbody tr th:only-of-type {\n",
       "        vertical-align: middle;\n",
       "    }\n",
       "\n",
       "    .dataframe tbody tr th {\n",
       "        vertical-align: top;\n",
       "    }\n",
       "\n",
       "    .dataframe thead th {\n",
       "        text-align: right;\n",
       "    }\n",
       "</style>\n",
       "<table border=\"1\" class=\"dataframe\">\n",
       "  <thead>\n",
       "    <tr style=\"text-align: right;\">\n",
       "      <th></th>\n",
       "      <th>vignette_name</th>\n",
       "      <th>generation_number</th>\n",
       "      <th>generation_time</th>\n",
       "      <th>response</th>\n",
       "      <th>reflection_score</th>\n",
       "      <th>id</th>\n",
       "    </tr>\n",
       "  </thead>\n",
       "  <tbody>\n",
       "    <tr>\n",
       "      <th>0</th>\n",
       "      <td>ring</td>\n",
       "      <td>0</td>\n",
       "      <td>12767</td>\n",
       "      <td>make fake rings</td>\n",
       "      <td>55</td>\n",
       "      <td>5ae208fe38df950001454cc3</td>\n",
       "    </tr>\n",
       "    <tr>\n",
       "      <th>1</th>\n",
       "      <td>ring</td>\n",
       "      <td>1</td>\n",
       "      <td>8718</td>\n",
       "      <td>call the taxi driver</td>\n",
       "      <td>75</td>\n",
       "      <td>5ae208fe38df950001454cc3</td>\n",
       "    </tr>\n",
       "    <tr>\n",
       "      <th>2</th>\n",
       "      <td>ring</td>\n",
       "      <td>2</td>\n",
       "      <td>4017</td>\n",
       "      <td>cry</td>\n",
       "      <td>2</td>\n",
       "      <td>5ae208fe38df950001454cc3</td>\n",
       "    </tr>\n",
       "    <tr>\n",
       "      <th>3</th>\n",
       "      <td>ring</td>\n",
       "      <td>3</td>\n",
       "      <td>12310</td>\n",
       "      <td>interrupt the bride and groom</td>\n",
       "      <td>61</td>\n",
       "      <td>5ae208fe38df950001454cc3</td>\n",
       "    </tr>\n",
       "    <tr>\n",
       "      <th>4</th>\n",
       "      <td>ring</td>\n",
       "      <td>4</td>\n",
       "      <td>8686</td>\n",
       "      <td>run away</td>\n",
       "      <td>1</td>\n",
       "      <td>5ae208fe38df950001454cc3</td>\n",
       "    </tr>\n",
       "    <tr>\n",
       "      <th>...</th>\n",
       "      <td>...</td>\n",
       "      <td>...</td>\n",
       "      <td>...</td>\n",
       "      <td>...</td>\n",
       "      <td>...</td>\n",
       "      <td>...</td>\n",
       "    </tr>\n",
       "    <tr>\n",
       "      <th>10028</th>\n",
       "      <td>gas</td>\n",
       "      <td>0</td>\n",
       "      <td>3928</td>\n",
       "      <td>tell her no</td>\n",
       "      <td>32</td>\n",
       "      <td>5dfa56fddc265f7ac3bee209</td>\n",
       "    </tr>\n",
       "    <tr>\n",
       "      <th>10029</th>\n",
       "      <td>gas</td>\n",
       "      <td>2</td>\n",
       "      <td>7148</td>\n",
       "      <td>take her the whole way</td>\n",
       "      <td>100</td>\n",
       "      <td>5dfa56fddc265f7ac3bee209</td>\n",
       "    </tr>\n",
       "    <tr>\n",
       "      <th>10030</th>\n",
       "      <td>gas</td>\n",
       "      <td>3</td>\n",
       "      <td>21327</td>\n",
       "      <td>take her to my city, then wait while she gets ...</td>\n",
       "      <td>85</td>\n",
       "      <td>5dfa56fddc265f7ac3bee209</td>\n",
       "    </tr>\n",
       "    <tr>\n",
       "      <th>10031</th>\n",
       "      <td>gas</td>\n",
       "      <td>4</td>\n",
       "      <td>10469</td>\n",
       "      <td>tell her to call a cab/uber</td>\n",
       "      <td>22</td>\n",
       "      <td>5dfa56fddc265f7ac3bee209</td>\n",
       "    </tr>\n",
       "    <tr>\n",
       "      <th>10032</th>\n",
       "      <td>gas</td>\n",
       "      <td>5</td>\n",
       "      <td>12394</td>\n",
       "      <td>tell her to take the bus</td>\n",
       "      <td>7</td>\n",
       "      <td>5dfa56fddc265f7ac3bee209</td>\n",
       "    </tr>\n",
       "  </tbody>\n",
       "</table>\n",
       "<p>10033 rows × 6 columns</p>\n",
       "</div>\n",
       "      <button class=\"colab-df-convert\" onclick=\"convertToInteractive('df-1cbb90e5-227c-4741-bd56-7834789d742c')\"\n",
       "              title=\"Convert this dataframe to an interactive table.\"\n",
       "              style=\"display:none;\">\n",
       "        \n",
       "  <svg xmlns=\"http://www.w3.org/2000/svg\" height=\"24px\"viewBox=\"0 0 24 24\"\n",
       "       width=\"24px\">\n",
       "    <path d=\"M0 0h24v24H0V0z\" fill=\"none\"/>\n",
       "    <path d=\"M18.56 5.44l.94 2.06.94-2.06 2.06-.94-2.06-.94-.94-2.06-.94 2.06-2.06.94zm-11 1L8.5 8.5l.94-2.06 2.06-.94-2.06-.94L8.5 2.5l-.94 2.06-2.06.94zm10 10l.94 2.06.94-2.06 2.06-.94-2.06-.94-.94-2.06-.94 2.06-2.06.94z\"/><path d=\"M17.41 7.96l-1.37-1.37c-.4-.4-.92-.59-1.43-.59-.52 0-1.04.2-1.43.59L10.3 9.45l-7.72 7.72c-.78.78-.78 2.05 0 2.83L4 21.41c.39.39.9.59 1.41.59.51 0 1.02-.2 1.41-.59l7.78-7.78 2.81-2.81c.8-.78.8-2.07 0-2.86zM5.41 20L4 18.59l7.72-7.72 1.47 1.35L5.41 20z\"/>\n",
       "  </svg>\n",
       "      </button>\n",
       "      \n",
       "  <style>\n",
       "    .colab-df-container {\n",
       "      display:flex;\n",
       "      flex-wrap:wrap;\n",
       "      gap: 12px;\n",
       "    }\n",
       "\n",
       "    .colab-df-convert {\n",
       "      background-color: #E8F0FE;\n",
       "      border: none;\n",
       "      border-radius: 50%;\n",
       "      cursor: pointer;\n",
       "      display: none;\n",
       "      fill: #1967D2;\n",
       "      height: 32px;\n",
       "      padding: 0 0 0 0;\n",
       "      width: 32px;\n",
       "    }\n",
       "\n",
       "    .colab-df-convert:hover {\n",
       "      background-color: #E2EBFA;\n",
       "      box-shadow: 0px 1px 2px rgba(60, 64, 67, 0.3), 0px 1px 3px 1px rgba(60, 64, 67, 0.15);\n",
       "      fill: #174EA6;\n",
       "    }\n",
       "\n",
       "    [theme=dark] .colab-df-convert {\n",
       "      background-color: #3B4455;\n",
       "      fill: #D2E3FC;\n",
       "    }\n",
       "\n",
       "    [theme=dark] .colab-df-convert:hover {\n",
       "      background-color: #434B5C;\n",
       "      box-shadow: 0px 1px 3px 1px rgba(0, 0, 0, 0.15);\n",
       "      filter: drop-shadow(0px 1px 2px rgba(0, 0, 0, 0.3));\n",
       "      fill: #FFFFFF;\n",
       "    }\n",
       "  </style>\n",
       "\n",
       "      <script>\n",
       "        const buttonEl =\n",
       "          document.querySelector('#df-1cbb90e5-227c-4741-bd56-7834789d742c button.colab-df-convert');\n",
       "        buttonEl.style.display =\n",
       "          google.colab.kernel.accessAllowed ? 'block' : 'none';\n",
       "\n",
       "        async function convertToInteractive(key) {\n",
       "          const element = document.querySelector('#df-1cbb90e5-227c-4741-bd56-7834789d742c');\n",
       "          const dataTable =\n",
       "            await google.colab.kernel.invokeFunction('convertToInteractive',\n",
       "                                                     [key], {});\n",
       "          if (!dataTable) return;\n",
       "\n",
       "          const docLinkHtml = 'Like what you see? Visit the ' +\n",
       "            '<a target=\"_blank\" href=https://colab.research.google.com/notebooks/data_table.ipynb>data table notebook</a>'\n",
       "            + ' to learn more about interactive tables.';\n",
       "          element.innerHTML = '';\n",
       "          dataTable['output_type'] = 'display_data';\n",
       "          await google.colab.output.renderOutput(dataTable, element);\n",
       "          const docLink = document.createElement('div');\n",
       "          docLink.innerHTML = docLinkHtml;\n",
       "          element.appendChild(docLink);\n",
       "        }\n",
       "      </script>\n",
       "    </div>\n",
       "  </div>\n",
       "  "
      ],
      "text/plain": [
       "      vignette_name  ...                        id\n",
       "0              ring  ...  5ae208fe38df950001454cc3\n",
       "1              ring  ...  5ae208fe38df950001454cc3\n",
       "2              ring  ...  5ae208fe38df950001454cc3\n",
       "3              ring  ...  5ae208fe38df950001454cc3\n",
       "4              ring  ...  5ae208fe38df950001454cc3\n",
       "...             ...  ...                       ...\n",
       "10028           gas  ...  5dfa56fddc265f7ac3bee209\n",
       "10029           gas  ...  5dfa56fddc265f7ac3bee209\n",
       "10030           gas  ...  5dfa56fddc265f7ac3bee209\n",
       "10031           gas  ...  5dfa56fddc265f7ac3bee209\n",
       "10032           gas  ...  5dfa56fddc265f7ac3bee209\n",
       "\n",
       "[10033 rows x 6 columns]"
      ]
     },
     "execution_count": 34,
     "metadata": {},
     "output_type": "execute_result"
    }
   ],
   "source": [
    "generations"
   ]
  },
  {
   "cell_type": "code",
   "execution_count": 43,
   "metadata": {
    "executionInfo": {
     "elapsed": 157,
     "status": "ok",
     "timestamp": 1643521761534,
     "user": {
      "displayName": "Gokul Srinivasan",
      "photoUrl": "https://lh3.googleusercontent.com/a/default-user=s64",
      "userId": "01072835723997484871"
     },
     "user_tz": 480
    },
    "id": "rNAxfdWdUUte"
   },
   "outputs": [],
   "source": [
    "#average goodness rating per possibility \n",
    "scores = [[] for i in range(6)]\n",
    "nums = [i for i in range(6)]\n",
    "for pnum, group1 in generations.groupby(\"generation_number\"):\n",
    "  for score in group1['reflection_score']:\n",
    "    scores[pnum].append(score)\n",
    "\n",
    "for i in range(len(scores)):\n",
    "  scores[i] = sum(scores[i])/len(scores[i])"
   ]
  },
  {
   "cell_type": "code",
   "execution_count": 49,
   "metadata": {
    "colab": {
     "base_uri": "https://localhost:8080/",
     "height": 314
    },
    "executionInfo": {
     "elapsed": 412,
     "status": "ok",
     "timestamp": 1643522294378,
     "user": {
      "displayName": "Gokul Srinivasan",
      "photoUrl": "https://lh3.googleusercontent.com/a/default-user=s64",
      "userId": "01072835723997484871"
     },
     "user_tz": 480
    },
    "id": "Ta33_TjxVXVF",
    "outputId": "80d56961-692f-48ac-d9fd-5ad7547fc180"
   },
   "outputs": [
    {
     "data": {
      "image/png": "[encoded data removed]",
      "text/plain": [
       "<Figure size 432x288 with 1 Axes>"
      ]
     },
     "metadata": {
      "needs_background": "light"
     },
     "output_type": "display_data"
    },
    {
     "name": "stdout",
     "output_type": "stream",
     "text": [
      "r-value:-0.991983\n",
      "p-value:0.000096\n"
     ]
    }
   ],
   "source": [
    "x = np.array(nums) + 1\n",
    "y = np.array(scores)\n",
    "plt.scatter(x, y)\n",
    "plt.xlabel(\"Possibility Number\")\n",
    "plt.ylabel(\"Average Reflection Score\")\n",
    "\n",
    "slope, intercept, r_value, p_value, std_err = stats.linregress(x,y)\n",
    "predict_y = intercept + slope * x\n",
    "\n",
    "plt.plot(x,y,'ro')\n",
    "plt.plot(x, predict_y, 'k-')\n",
    "plt.autoscale(True)\n",
    "plt.grid(True)\n",
    "plt.show()\n",
    "\n",
    "print(\"r-value:%f\" % r_value)\n",
    "print(\"p-value:%f\" % p_value)"
   ]
  },
  {
   "cell_type": "code",
   "execution_count": 50,
   "metadata": {
    "colab": {
     "base_uri": "https://localhost:8080/",
     "height": 441
    },
    "executionInfo": {
     "elapsed": 1025,
     "status": "ok",
     "timestamp": 1643522297216,
     "user": {
      "displayName": "Gokul Srinivasan",
      "photoUrl": "https://lh3.googleusercontent.com/a/default-user=s64",
      "userId": "01072835723997484871"
     },
     "user_tz": 480
    },
    "id": "mp7Xfta24OrQ",
    "outputId": "de1952fc-ce79-48fd-ed29-a1815fe7d0e0"
   },
   "outputs": [
    {
     "data": {
      "image/png": "[encoded data removed]",
      "text/plain": [
       "<Figure size 432x432 with 3 Axes>"
      ]
     },
     "metadata": {
      "needs_background": "light"
     },
     "output_type": "display_data"
    }
   ],
   "source": [
    "import matplotlib.pyplot as plt\n",
    "import numpy as np\n",
    "import scipy.stats as stats\n",
    "import seaborn as sns\n",
    "\n",
    "# a = np.random.rand(10)\n",
    "# b = a * 2 + a ** 5\n",
    "\n",
    "# print(\"The Rho is {}\".format(np.corrcoef(a, b)[0][1]))\n",
    "\n",
    "g = sns.jointplot(x=x, y=y, kind='reg', color='royalblue')\n",
    "# ax.annotate(stats.pearsonr)\n",
    "r, p = stats.pearsonr(x, y)\n",
    "g.ax_joint.annotate(f'$\\\\rho = {r:.3f}, p = {p:.3f}$',\n",
    "                    xy=(0.1, 0.9), xycoords='axes fraction',\n",
    "                    ha='left', va='center',\n",
    "                    bbox={'boxstyle': 'round', 'fc': 'powderblue', 'ec': 'navy'})\n",
    "g.ax_joint.scatter(x, y)\n",
    "g.set_axis_labels(xlabel='Generation Number', ylabel='Average Reflection Score', size=12)\n",
    "plt.tight_layout()\n",
    "plt.show()"
   ]
  },
  {
   "cell_type": "code",
   "execution_count": 38,
   "metadata": {
    "colab": {
     "base_uri": "https://localhost:8080/"
    },
    "executionInfo": {
     "elapsed": 14,
     "status": "ok",
     "timestamp": 1643516967729,
     "user": {
      "displayName": "Gokul Srinivasan",
      "photoUrl": "https://lh3.googleusercontent.com/a/default-user=s64",
      "userId": "01072835723997484871"
     },
     "user_tz": 480
    },
    "id": "-thaUIzqkUPN",
    "outputId": "e948a013-9ef5-4279-b757-31f4fa80e5fd"
   },
   "outputs": [
    {
     "name": "stdout",
     "output_type": "stream",
     "text": [
      "1\n",
      "2\n",
      "3\n",
      "4\n",
      "5\n",
      "6\n",
      "7\n",
      "8\n",
      "9\n",
      "10\n",
      "11\n",
      "12\n",
      "13\n",
      "14\n",
      "15\n",
      "16\n",
      "17\n",
      "18\n",
      "19\n",
      "20\n",
      "21\n",
      "22\n",
      "23\n",
      "24\n",
      "25\n",
      "26\n",
      "27\n",
      "28\n",
      "29\n",
      "30\n",
      "31\n",
      "32\n",
      "33\n",
      "34\n",
      "35\n",
      "36\n",
      "37\n",
      "38\n",
      "39\n",
      "40\n",
      "41\n",
      "42\n",
      "43\n",
      "44\n",
      "45\n",
      "46\n",
      "47\n",
      "48\n",
      "49\n",
      "50\n",
      "51\n",
      "52\n",
      "53\n",
      "54\n",
      "55\n",
      "56\n",
      "57\n",
      "58\n",
      "59\n",
      "60\n",
      "61\n",
      "62\n",
      "63\n",
      "64\n",
      "65\n",
      "66\n",
      "67\n",
      "68\n",
      "69\n",
      "70\n",
      "71\n",
      "72\n",
      "73\n",
      "74\n",
      "75\n",
      "76\n",
      "77\n",
      "78\n",
      "79\n",
      "80\n",
      "81\n",
      "82\n",
      "83\n",
      "84\n",
      "85\n",
      "86\n",
      "87\n",
      "88\n",
      "89\n",
      "90\n",
      "91\n",
      "92\n",
      "93\n",
      "94\n",
      "95\n",
      "96\n",
      "97\n",
      "98\n",
      "99\n",
      "100\n",
      "101\n",
      "102\n",
      "103\n",
      "104\n",
      "105\n",
      "106\n",
      "107\n",
      "108\n",
      "109\n",
      "110\n",
      "111\n",
      "112\n",
      "113\n",
      "114\n",
      "115\n",
      "116\n",
      "117\n",
      "118\n",
      "119\n",
      "120\n",
      "121\n",
      "122\n",
      "123\n",
      "124\n",
      "125\n",
      "126\n",
      "127\n",
      "128\n",
      "129\n",
      "130\n",
      "131\n",
      "132\n",
      "133\n",
      "134\n",
      "135\n",
      "136\n",
      "137\n",
      "138\n",
      "139\n",
      "140\n",
      "141\n",
      "142\n",
      "143\n",
      "144\n",
      "145\n",
      "146\n",
      "147\n",
      "148\n",
      "149\n",
      "150\n",
      "151\n",
      "152\n",
      "153\n",
      "154\n",
      "155\n",
      "156\n",
      "157\n",
      "158\n",
      "159\n",
      "160\n",
      "161\n",
      "162\n",
      "163\n",
      "164\n",
      "165\n",
      "166\n",
      "167\n",
      "168\n",
      "169\n",
      "170\n",
      "171\n",
      "172\n",
      "173\n",
      "174\n",
      "175\n",
      "176\n",
      "177\n",
      "178\n"
     ]
    }
   ],
   "source": [
    "i = 0 \n",
    "for id, group in generations.groupby(\"id\"):\n",
    "  i+=1\n",
    "  print(i)\n",
    "#178 for v2 \n",
    "#"
   ]
  }
 ],
 "metadata": {
  "accelerator": "GPU",
  "colab": {
   "authorship_tag": "ABX9TyPricLwV2adNhMUbhBc2r8g",
   "collapsed_sections": [],
   "name": "possibility_generationv2_tests.ipynb",
   "provenance": []
  },
  "kernelspec": {
   "display_name": "Python 3",
   "name": "python3"
  },
  "language_info": {
   "name": "python"
  },
  "widgets": {
   "application/vnd.jupyter.widget-state+json": {
    "007fb78b50a0480796c1aa30aef1fdc3": {
     "model_module": "@jupyter-widgets/controls",
     "model_module_version": "1.5.0",
     "model_name": "DescriptionStyleModel",
     "state": {
      "_model_module": "@jupyter-widgets/controls",
      "_model_module_version": "1.5.0",
      "_model_name": "DescriptionStyleModel",
      "_view_count": null,
      "_view_module": "@jupyter-widgets/base",
      "_view_module_version": "1.2.0",
      "_view_name": "StyleView",
      "description_width": ""
     }
    },
    "02e1562fb678410eb9fa996765ef1ea8": {
     "model_module": "@jupyter-widgets/base",
     "model_module_version": "1.2.0",
     "model_name": "LayoutModel",
     "state": {
      "_model_module": "@jupyter-widgets/base",
      "_model_module_version": "1.2.0",
      "_model_name": "LayoutModel",
      "_view_count": null,
      "_view_module": "@jupyter-widgets/base",
      "_view_module_version": "1.2.0",
      "_view_name": "LayoutView",
      "align_content": null,
      "align_items": null,
      "align_self": null,
      "border": null,
      "bottom": null,
      "display": null,
      "flex": null,
      "flex_flow": null,
      "grid_area": null,
      "grid_auto_columns": null,
      "grid_auto_flow": null,
      "grid_auto_rows": null,
      "grid_column": null,
      "grid_gap": null,
      "grid_row": null,
      "grid_template_areas": null,
      "grid_template_columns": null,
      "grid_template_rows": null,
      "height": null,
      "justify_content": null,
      "justify_items": null,
      "left": null,
      "margin": null,
      "max_height": null,
      "max_width": null,
      "min_height": null,
      "min_width": null,
      "object_fit": null,
      "object_position": null,
      "order": null,
      "overflow": null,
      "overflow_x": null,
      "overflow_y": null,
      "padding": null,
      "right": null,
      "top": null,
      "visibility": null,
      "width": null
     }
    },
    "037ce0e892004fa6b3819a019afb0319": {
     "model_module": "@jupyter-widgets/base",
     "model_module_version": "1.2.0",
     "model_name": "LayoutModel",
     "state": {
      "_model_module": "@jupyter-widgets/base",
      "_model_module_version": "1.2.0",
      "_model_name": "LayoutModel",
      "_view_count": null,
      "_view_module": "@jupyter-widgets/base",
      "_view_module_version": "1.2.0",
      "_view_name": "LayoutView",
      "align_content": null,
      "align_items": null,
      "align_self": null,
      "border": null,
      "bottom": null,
      "display": null,
      "flex": null,
      "flex_flow": null,
      "grid_area": null,
      "grid_auto_columns": null,
      "grid_auto_flow": null,
      "grid_auto_rows": null,
      "grid_column": null,
      "grid_gap": null,
      "grid_row": null,
      "grid_template_areas": null,
      "grid_template_columns": null,
      "grid_template_rows": null,
      "height": null,
      "justify_content": null,
      "justify_items": null,
      "left": null,
      "margin": null,
      "max_height": null,
      "max_width": null,
      "min_height": null,
      "min_width": null,
      "object_fit": null,
      "object_position": null,
      "order": null,
      "overflow": null,
      "overflow_x": null,
      "overflow_y": null,
      "padding": null,
      "right": null,
      "top": null,
      "visibility": null,
      "width": null
     }
    },
    "0748b9c38ce641dea23184f04d1ea63a": {
     "model_module": "@jupyter-widgets/controls",
     "model_module_version": "1.5.0",
     "model_name": "HTMLModel",
     "state": {
      "_dom_classes": [],
      "_model_module": "@jupyter-widgets/controls",
      "_model_module_version": "1.5.0",
      "_model_name": "HTMLModel",
      "_view_count": null,
      "_view_module": "@jupyter-widgets/controls",
      "_view_module_version": "1.5.0",
      "_view_name": "HTMLView",
      "description": "",
      "description_tooltip": null,
      "layout": "IPY_MODEL_e4fe2ad1bd6a4358bef410d0a6183aca",
      "placeholder": "​",
      "style": "IPY_MODEL_68f7243d9d7242859ea89fc1aa9e0d83",
      "value": " 28.0/28.0 [00:00&lt;00:00, 782B/s]"
     }
    },
    "07818fd1b80a49eaa9cbe37a7aab91e4": {
     "model_module": "@jupyter-widgets/controls",
     "model_module_version": "1.5.0",
     "model_name": "HTMLModel",
     "state": {
      "_dom_classes": [],
      "_model_module": "@jupyter-widgets/controls",
      "_model_module_version": "1.5.0",
      "_model_name": "HTMLModel",
      "_view_count": null,
      "_view_module": "@jupyter-widgets/controls",
      "_view_module_version": "1.5.0",
      "_view_name": "HTMLView",
      "description": "",
      "description_tooltip": null,
      "layout": "IPY_MODEL_c9436342b2184adf9ccd7a49d005b425",
      "placeholder": "​",
      "style": "IPY_MODEL_9b5070b7b4554e69892f865705641291",
      "value": " 226k/226k [00:00&lt;00:00, 2.49MB/s]"
     }
    },
    "0c32babb60ae4a93bf7ad1b8b4b046ef": {
     "model_module": "@jupyter-widgets/controls",
     "model_module_version": "1.5.0",
     "model_name": "ProgressStyleModel",
     "state": {
      "_model_module": "@jupyter-widgets/controls",
      "_model_module_version": "1.5.0",
      "_model_name": "ProgressStyleModel",
      "_view_count": null,
      "_view_module": "@jupyter-widgets/base",
      "_view_module_version": "1.2.0",
      "_view_name": "StyleView",
      "bar_color": null,
      "description_width": ""
     }
    },
    "0f7d43dd265544539547d0b3770e6eab": {
     "model_module": "@jupyter-widgets/base",
     "model_module_version": "1.2.0",
     "model_name": "LayoutModel",
     "state": {
      "_model_module": "@jupyter-widgets/base",
      "_model_module_version": "1.2.0",
      "_model_name": "LayoutModel",
      "_view_count": null,
      "_view_module": "@jupyter-widgets/base",
      "_view_module_version": "1.2.0",
      "_view_name": "LayoutView",
      "align_content": null,
      "align_items": null,
      "align_self": null,
      "border": null,
      "bottom": null,
      "display": null,
      "flex": null,
      "flex_flow": null,
      "grid_area": null,
      "grid_auto_columns": null,
      "grid_auto_flow": null,
      "grid_auto_rows": null,
      "grid_column": null,
      "grid_gap": null,
      "grid_row": null,
      "grid_template_areas": null,
      "grid_template_columns": null,
      "grid_template_rows": null,
      "height": null,
      "justify_content": null,
      "justify_items": null,
      "left": null,
      "margin": null,
      "max_height": null,
      "max_width": null,
      "min_height": null,
      "min_width": null,
      "object_fit": null,
      "object_position": null,
      "order": null,
      "overflow": null,
      "overflow_x": null,
      "overflow_y": null,
      "padding": null,
      "right": null,
      "top": null,
      "visibility": null,
      "width": null
     }
    },
    "1ae39cddba8b4c9690457980d85590f5": {
     "model_module": "@jupyter-widgets/controls",
     "model_module_version": "1.5.0",
     "model_name": "DescriptionStyleModel",
     "state": {
      "_model_module": "@jupyter-widgets/controls",
      "_model_module_version": "1.5.0",
      "_model_name": "DescriptionStyleModel",
      "_view_count": null,
      "_view_module": "@jupyter-widgets/base",
      "_view_module_version": "1.2.0",
      "_view_name": "StyleView",
      "description_width": ""
     }
    },
    "1fc3aee1cf2f4dd7adf07b14d16ef40a": {
     "model_module": "@jupyter-widgets/base",
     "model_module_version": "1.2.0",
     "model_name": "LayoutModel",
     "state": {
      "_model_module": "@jupyter-widgets/base",
      "_model_module_version": "1.2.0",
      "_model_name": "LayoutModel",
      "_view_count": null,
      "_view_module": "@jupyter-widgets/base",
      "_view_module_version": "1.2.0",
      "_view_name": "LayoutView",
      "align_content": null,
      "align_items": null,
      "align_self": null,
      "border": null,
      "bottom": null,
      "display": null,
      "flex": null,
      "flex_flow": null,
      "grid_area": null,
      "grid_auto_columns": null,
      "grid_auto_flow": null,
      "grid_auto_rows": null,
      "grid_column": null,
      "grid_gap": null,
      "grid_row": null,
      "grid_template_areas": null,
      "grid_template_columns": null,
      "grid_template_rows": null,
      "height": null,
      "justify_content": null,
      "justify_items": null,
      "left": null,
      "margin": null,
      "max_height": null,
      "max_width": null,
      "min_height": null,
      "min_width": null,
      "object_fit": null,
      "object_position": null,
      "order": null,
      "overflow": null,
      "overflow_x": null,
      "overflow_y": null,
      "padding": null,
      "right": null,
      "top": null,
      "visibility": null,
      "width": null
     }
    },
    "22a2ae463eaf46c98084bdb97824b9c5": {
     "model_module": "@jupyter-widgets/controls",
     "model_module_version": "1.5.0",
     "model_name": "DescriptionStyleModel",
     "state": {
      "_model_module": "@jupyter-widgets/controls",
      "_model_module_version": "1.5.0",
      "_model_name": "DescriptionStyleModel",
      "_view_count": null,
      "_view_module": "@jupyter-widgets/base",
      "_view_module_version": "1.2.0",
      "_view_name": "StyleView",
      "description_width": ""
     }
    },
    "25d2fd674f3c47c8ac1a1cc0dc865ff6": {
     "model_module": "@jupyter-widgets/controls",
     "model_module_version": "1.5.0",
     "model_name": "HTMLModel",
     "state": {
      "_dom_classes": [],
      "_model_module": "@jupyter-widgets/controls",
      "_model_module_version": "1.5.0",
      "_model_name": "HTMLModel",
      "_view_count": null,
      "_view_module": "@jupyter-widgets/controls",
      "_view_module_version": "1.5.0",
      "_view_name": "HTMLView",
      "description": "",
      "description_tooltip": null,
      "layout": "IPY_MODEL_8637736af8a1477987958a6394fe66b4",
      "placeholder": "​",
      "style": "IPY_MODEL_29ec39e1eda84cec9a50522a1a4c3c60",
      "value": "Downloading: 100%"
     }
    },
    "287ea7eda8db44bb92368602e48f0dbc": {
     "model_module": "@jupyter-widgets/controls",
     "model_module_version": "1.5.0",
     "model_name": "FloatProgressModel",
     "state": {
      "_dom_classes": [],
      "_model_module": "@jupyter-widgets/controls",
      "_model_module_version": "1.5.0",
      "_model_name": "FloatProgressModel",
      "_view_count": null,
      "_view_module": "@jupyter-widgets/controls",
      "_view_module_version": "1.5.0",
      "_view_name": "ProgressView",
      "bar_style": "success",
      "description": "",
      "description_tooltip": null,
      "layout": "IPY_MODEL_f87bdc9bf9924675938185b8cd2ba912",
      "max": 231508,
      "min": 0,
      "orientation": "horizontal",
      "style": "IPY_MODEL_6c2740888485458283d99a2c11ca356a",
      "value": 231508
     }
    },
    "29ec39e1eda84cec9a50522a1a4c3c60": {
     "model_module": "@jupyter-widgets/controls",
     "model_module_version": "1.5.0",
     "model_name": "DescriptionStyleModel",
     "state": {
      "_model_module": "@jupyter-widgets/controls",
      "_model_module_version": "1.5.0",
      "_model_name": "DescriptionStyleModel",
      "_view_count": null,
      "_view_module": "@jupyter-widgets/base",
      "_view_module_version": "1.2.0",
      "_view_name": "StyleView",
      "description_width": ""
     }
    },
    "2d18233c2cec4c0e8d236d146ac20cd8": {
     "model_module": "@jupyter-widgets/base",
     "model_module_version": "1.2.0",
     "model_name": "LayoutModel",
     "state": {
      "_model_module": "@jupyter-widgets/base",
      "_model_module_version": "1.2.0",
      "_model_name": "LayoutModel",
      "_view_count": null,
      "_view_module": "@jupyter-widgets/base",
      "_view_module_version": "1.2.0",
      "_view_name": "LayoutView",
      "align_content": null,
      "align_items": null,
      "align_self": null,
      "border": null,
      "bottom": null,
      "display": null,
      "flex": null,
      "flex_flow": null,
      "grid_area": null,
      "grid_auto_columns": null,
      "grid_auto_flow": null,
      "grid_auto_rows": null,
      "grid_column": null,
      "grid_gap": null,
      "grid_row": null,
      "grid_template_areas": null,
      "grid_template_columns": null,
      "grid_template_rows": null,
      "height": null,
      "justify_content": null,
      "justify_items": null,
      "left": null,
      "margin": null,
      "max_height": null,
      "max_width": null,
      "min_height": null,
      "min_width": null,
      "object_fit": null,
      "object_position": null,
      "order": null,
      "overflow": null,
      "overflow_x": null,
      "overflow_y": null,
      "padding": null,
      "right": null,
      "top": null,
      "visibility": null,
      "width": null
     }
    },
    "2d47bb495dbf458bb68ae1615c5dfa6f": {
     "model_module": "@jupyter-widgets/base",
     "model_module_version": "1.2.0",
     "model_name": "LayoutModel",
     "state": {
      "_model_module": "@jupyter-widgets/base",
      "_model_module_version": "1.2.0",
      "_model_name": "LayoutModel",
      "_view_count": null,
      "_view_module": "@jupyter-widgets/base",
      "_view_module_version": "1.2.0",
      "_view_name": "LayoutView",
      "align_content": null,
      "align_items": null,
      "align_self": null,
      "border": null,
      "bottom": null,
      "display": null,
      "flex": null,
      "flex_flow": null,
      "grid_area": null,
      "grid_auto_columns": null,
      "grid_auto_flow": null,
      "grid_auto_rows": null,
      "grid_column": null,
      "grid_gap": null,
      "grid_row": null,
      "grid_template_areas": null,
      "grid_template_columns": null,
      "grid_template_rows": null,
      "height": null,
      "justify_content": null,
      "justify_items": null,
      "left": null,
      "margin": null,
      "max_height": null,
      "max_width": null,
      "min_height": null,
      "min_width": null,
      "object_fit": null,
      "object_position": null,
      "order": null,
      "overflow": null,
      "overflow_x": null,
      "overflow_y": null,
      "padding": null,
      "right": null,
      "top": null,
      "visibility": null,
      "width": null
     }
    },
    "362e0bd64aad42209b32fe510400d663": {
     "model_module": "@jupyter-widgets/controls",
     "model_module_version": "1.5.0",
     "model_name": "HTMLModel",
     "state": {
      "_dom_classes": [],
      "_model_module": "@jupyter-widgets/controls",
      "_model_module_version": "1.5.0",
      "_model_name": "HTMLModel",
      "_view_count": null,
      "_view_module": "@jupyter-widgets/controls",
      "_view_module_version": "1.5.0",
      "_view_name": "HTMLView",
      "description": "",
      "description_tooltip": null,
      "layout": "IPY_MODEL_c81ff00c09d449c7ba9c7d04d973d2f7",
      "placeholder": "​",
      "style": "IPY_MODEL_007fb78b50a0480796c1aa30aef1fdc3",
      "value": "Downloading: 100%"
     }
    },
    "3d1d2a6392cf4acf92e6c5d1bf41ddfc": {
     "model_module": "@jupyter-widgets/controls",
     "model_module_version": "1.5.0",
     "model_name": "HBoxModel",
     "state": {
      "_dom_classes": [],
      "_model_module": "@jupyter-widgets/controls",
      "_model_module_version": "1.5.0",
      "_model_name": "HBoxModel",
      "_view_count": null,
      "_view_module": "@jupyter-widgets/controls",
      "_view_module_version": "1.5.0",
      "_view_name": "HBoxView",
      "box_style": "",
      "children": [
       "IPY_MODEL_471c2df0a8684a17975611129b277e03",
       "IPY_MODEL_8b1352e5b1b941b68129a0242fffd38e",
       "IPY_MODEL_e1ca4b17187848f29bf26e79b5e69f42"
      ],
      "layout": "IPY_MODEL_de84cadb9e3f407891c06b356cfc9194"
     }
    },
    "471c2df0a8684a17975611129b277e03": {
     "model_module": "@jupyter-widgets/controls",
     "model_module_version": "1.5.0",
     "model_name": "HTMLModel",
     "state": {
      "_dom_classes": [],
      "_model_module": "@jupyter-widgets/controls",
      "_model_module_version": "1.5.0",
      "_model_name": "HTMLModel",
      "_view_count": null,
      "_view_module": "@jupyter-widgets/controls",
      "_view_module_version": "1.5.0",
      "_view_name": "HTMLView",
      "description": "",
      "description_tooltip": null,
      "layout": "IPY_MODEL_2d18233c2cec4c0e8d236d146ac20cd8",
      "placeholder": "​",
      "style": "IPY_MODEL_c6f20f7bf1c4413582c75fab5f6da5dc",
      "value": "Downloading: 100%"
     }
    },
    "4abf6f1861a145eaac68287f22ac4714": {
     "model_module": "@jupyter-widgets/base",
     "model_module_version": "1.2.0",
     "model_name": "LayoutModel",
     "state": {
      "_model_module": "@jupyter-widgets/base",
      "_model_module_version": "1.2.0",
      "_model_name": "LayoutModel",
      "_view_count": null,
      "_view_module": "@jupyter-widgets/base",
      "_view_module_version": "1.2.0",
      "_view_name": "LayoutView",
      "align_content": null,
      "align_items": null,
      "align_self": null,
      "border": null,
      "bottom": null,
      "display": null,
      "flex": null,
      "flex_flow": null,
      "grid_area": null,
      "grid_auto_columns": null,
      "grid_auto_flow": null,
      "grid_auto_rows": null,
      "grid_column": null,
      "grid_gap": null,
      "grid_row": null,
      "grid_template_areas": null,
      "grid_template_columns": null,
      "grid_template_rows": null,
      "height": null,
      "justify_content": null,
      "justify_items": null,
      "left": null,
      "margin": null,
      "max_height": null,
      "max_width": null,
      "min_height": null,
      "min_width": null,
      "object_fit": null,
      "object_position": null,
      "order": null,
      "overflow": null,
      "overflow_x": null,
      "overflow_y": null,
      "padding": null,
      "right": null,
      "top": null,
      "visibility": null,
      "width": null
     }
    },
    "50e58748e6fe49b9a61e5a829f5fd0af": {
     "model_module": "@jupyter-widgets/controls",
     "model_module_version": "1.5.0",
     "model_name": "ProgressStyleModel",
     "state": {
      "_model_module": "@jupyter-widgets/controls",
      "_model_module_version": "1.5.0",
      "_model_name": "ProgressStyleModel",
      "_view_count": null,
      "_view_module": "@jupyter-widgets/base",
      "_view_module_version": "1.2.0",
      "_view_name": "StyleView",
      "bar_color": null,
      "description_width": ""
     }
    },
    "5562f4a59c6a450d82a0d9c9a6569bcf": {
     "model_module": "@jupyter-widgets/base",
     "model_module_version": "1.2.0",
     "model_name": "LayoutModel",
     "state": {
      "_model_module": "@jupyter-widgets/base",
      "_model_module_version": "1.2.0",
      "_model_name": "LayoutModel",
      "_view_count": null,
      "_view_module": "@jupyter-widgets/base",
      "_view_module_version": "1.2.0",
      "_view_name": "LayoutView",
      "align_content": null,
      "align_items": null,
      "align_self": null,
      "border": null,
      "bottom": null,
      "display": null,
      "flex": null,
      "flex_flow": null,
      "grid_area": null,
      "grid_auto_columns": null,
      "grid_auto_flow": null,
      "grid_auto_rows": null,
      "grid_column": null,
      "grid_gap": null,
      "grid_row": null,
      "grid_template_areas": null,
      "grid_template_columns": null,
      "grid_template_rows": null,
      "height": null,
      "justify_content": null,
      "justify_items": null,
      "left": null,
      "margin": null,
      "max_height": null,
      "max_width": null,
      "min_height": null,
      "min_width": null,
      "object_fit": null,
      "object_position": null,
      "order": null,
      "overflow": null,
      "overflow_x": null,
      "overflow_y": null,
      "padding": null,
      "right": null,
      "top": null,
      "visibility": null,
      "width": null
     }
    },
    "56d8c7b0f2be4881b1c0e8b933d809d3": {
     "model_module": "@jupyter-widgets/controls",
     "model_module_version": "1.5.0",
     "model_name": "FloatProgressModel",
     "state": {
      "_dom_classes": [],
      "_model_module": "@jupyter-widgets/controls",
      "_model_module_version": "1.5.0",
      "_model_name": "FloatProgressModel",
      "_view_count": null,
      "_view_module": "@jupyter-widgets/controls",
      "_view_module_version": "1.5.0",
      "_view_name": "ProgressView",
      "bar_style": "success",
      "description": "",
      "description_tooltip": null,
      "layout": "IPY_MODEL_c06d33a567af413a9191b9da41ca3e05",
      "max": 28,
      "min": 0,
      "orientation": "horizontal",
      "style": "IPY_MODEL_50e58748e6fe49b9a61e5a829f5fd0af",
      "value": 28
     }
    },
    "5c850016bf774468b6fb67fd4e53dd6b": {
     "model_module": "@jupyter-widgets/base",
     "model_module_version": "1.2.0",
     "model_name": "LayoutModel",
     "state": {
      "_model_module": "@jupyter-widgets/base",
      "_model_module_version": "1.2.0",
      "_model_name": "LayoutModel",
      "_view_count": null,
      "_view_module": "@jupyter-widgets/base",
      "_view_module_version": "1.2.0",
      "_view_name": "LayoutView",
      "align_content": null,
      "align_items": null,
      "align_self": null,
      "border": null,
      "bottom": null,
      "display": null,
      "flex": null,
      "flex_flow": null,
      "grid_area": null,
      "grid_auto_columns": null,
      "grid_auto_flow": null,
      "grid_auto_rows": null,
      "grid_column": null,
      "grid_gap": null,
      "grid_row": null,
      "grid_template_areas": null,
      "grid_template_columns": null,
      "grid_template_rows": null,
      "height": null,
      "justify_content": null,
      "justify_items": null,
      "left": null,
      "margin": null,
      "max_height": null,
      "max_width": null,
      "min_height": null,
      "min_width": null,
      "object_fit": null,
      "object_position": null,
      "order": null,
      "overflow": null,
      "overflow_x": null,
      "overflow_y": null,
      "padding": null,
      "right": null,
      "top": null,
      "visibility": null,
      "width": null
     }
    },
    "623757aba0aa4866b4c1eacdbe013ba7": {
     "model_module": "@jupyter-widgets/controls",
     "model_module_version": "1.5.0",
     "model_name": "ProgressStyleModel",
     "state": {
      "_model_module": "@jupyter-widgets/controls",
      "_model_module_version": "1.5.0",
      "_model_name": "ProgressStyleModel",
      "_view_count": null,
      "_view_module": "@jupyter-widgets/base",
      "_view_module_version": "1.2.0",
      "_view_name": "StyleView",
      "bar_color": null,
      "description_width": ""
     }
    },
    "68f7243d9d7242859ea89fc1aa9e0d83": {
     "model_module": "@jupyter-widgets/controls",
     "model_module_version": "1.5.0",
     "model_name": "DescriptionStyleModel",
     "state": {
      "_model_module": "@jupyter-widgets/controls",
      "_model_module_version": "1.5.0",
      "_model_name": "DescriptionStyleModel",
      "_view_count": null,
      "_view_module": "@jupyter-widgets/base",
      "_view_module_version": "1.2.0",
      "_view_name": "StyleView",
      "description_width": ""
     }
    },
    "6c2740888485458283d99a2c11ca356a": {
     "model_module": "@jupyter-widgets/controls",
     "model_module_version": "1.5.0",
     "model_name": "ProgressStyleModel",
     "state": {
      "_model_module": "@jupyter-widgets/controls",
      "_model_module_version": "1.5.0",
      "_model_name": "ProgressStyleModel",
      "_view_count": null,
      "_view_module": "@jupyter-widgets/base",
      "_view_module_version": "1.2.0",
      "_view_name": "StyleView",
      "bar_color": null,
      "description_width": ""
     }
    },
    "6d7baecff5b141c9892e571e26931c0c": {
     "model_module": "@jupyter-widgets/base",
     "model_module_version": "1.2.0",
     "model_name": "LayoutModel",
     "state": {
      "_model_module": "@jupyter-widgets/base",
      "_model_module_version": "1.2.0",
      "_model_name": "LayoutModel",
      "_view_count": null,
      "_view_module": "@jupyter-widgets/base",
      "_view_module_version": "1.2.0",
      "_view_name": "LayoutView",
      "align_content": null,
      "align_items": null,
      "align_self": null,
      "border": null,
      "bottom": null,
      "display": null,
      "flex": null,
      "flex_flow": null,
      "grid_area": null,
      "grid_auto_columns": null,
      "grid_auto_flow": null,
      "grid_auto_rows": null,
      "grid_column": null,
      "grid_gap": null,
      "grid_row": null,
      "grid_template_areas": null,
      "grid_template_columns": null,
      "grid_template_rows": null,
      "height": null,
      "justify_content": null,
      "justify_items": null,
      "left": null,
      "margin": null,
      "max_height": null,
      "max_width": null,
      "min_height": null,
      "min_width": null,
      "object_fit": null,
      "object_position": null,
      "order": null,
      "overflow": null,
      "overflow_x": null,
      "overflow_y": null,
      "padding": null,
      "right": null,
      "top": null,
      "visibility": null,
      "width": null
     }
    },
    "804334339a374281a3cebfea52664749": {
     "model_module": "@jupyter-widgets/controls",
     "model_module_version": "1.5.0",
     "model_name": "HTMLModel",
     "state": {
      "_dom_classes": [],
      "_model_module": "@jupyter-widgets/controls",
      "_model_module_version": "1.5.0",
      "_model_name": "HTMLModel",
      "_view_count": null,
      "_view_module": "@jupyter-widgets/controls",
      "_view_module_version": "1.5.0",
      "_view_name": "HTMLView",
      "description": "",
      "description_tooltip": null,
      "layout": "IPY_MODEL_5c850016bf774468b6fb67fd4e53dd6b",
      "placeholder": "​",
      "style": "IPY_MODEL_1ae39cddba8b4c9690457980d85590f5",
      "value": "Downloading: 100%"
     }
    },
    "84e6d260d0e54a50bea3aa85b911f063": {
     "model_module": "@jupyter-widgets/controls",
     "model_module_version": "1.5.0",
     "model_name": "FloatProgressModel",
     "state": {
      "_dom_classes": [],
      "_model_module": "@jupyter-widgets/controls",
      "_model_module_version": "1.5.0",
      "_model_name": "FloatProgressModel",
      "_view_count": null,
      "_view_module": "@jupyter-widgets/controls",
      "_view_module_version": "1.5.0",
      "_view_name": "ProgressView",
      "bar_style": "success",
      "description": "",
      "description_tooltip": null,
      "layout": "IPY_MODEL_8764e692aae94053bc89b685d50ca902",
      "max": 440473133,
      "min": 0,
      "orientation": "horizontal",
      "style": "IPY_MODEL_0c32babb60ae4a93bf7ad1b8b4b046ef",
      "value": 440473133
     }
    },
    "8637736af8a1477987958a6394fe66b4": {
     "model_module": "@jupyter-widgets/base",
     "model_module_version": "1.2.0",
     "model_name": "LayoutModel",
     "state": {
      "_model_module": "@jupyter-widgets/base",
      "_model_module_version": "1.2.0",
      "_model_name": "LayoutModel",
      "_view_count": null,
      "_view_module": "@jupyter-widgets/base",
      "_view_module_version": "1.2.0",
      "_view_name": "LayoutView",
      "align_content": null,
      "align_items": null,
      "align_self": null,
      "border": null,
      "bottom": null,
      "display": null,
      "flex": null,
      "flex_flow": null,
      "grid_area": null,
      "grid_auto_columns": null,
      "grid_auto_flow": null,
      "grid_auto_rows": null,
      "grid_column": null,
      "grid_gap": null,
      "grid_row": null,
      "grid_template_areas": null,
      "grid_template_columns": null,
      "grid_template_rows": null,
      "height": null,
      "justify_content": null,
      "justify_items": null,
      "left": null,
      "margin": null,
      "max_height": null,
      "max_width": null,
      "min_height": null,
      "min_width": null,
      "object_fit": null,
      "object_position": null,
      "order": null,
      "overflow": null,
      "overflow_x": null,
      "overflow_y": null,
      "padding": null,
      "right": null,
      "top": null,
      "visibility": null,
      "width": null
     }
    },
    "8764e692aae94053bc89b685d50ca902": {
     "model_module": "@jupyter-widgets/base",
     "model_module_version": "1.2.0",
     "model_name": "LayoutModel",
     "state": {
      "_model_module": "@jupyter-widgets/base",
      "_model_module_version": "1.2.0",
      "_model_name": "LayoutModel",
      "_view_count": null,
      "_view_module": "@jupyter-widgets/base",
      "_view_module_version": "1.2.0",
      "_view_name": "LayoutView",
      "align_content": null,
      "align_items": null,
      "align_self": null,
      "border": null,
      "bottom": null,
      "display": null,
      "flex": null,
      "flex_flow": null,
      "grid_area": null,
      "grid_auto_columns": null,
      "grid_auto_flow": null,
      "grid_auto_rows": null,
      "grid_column": null,
      "grid_gap": null,
      "grid_row": null,
      "grid_template_areas": null,
      "grid_template_columns": null,
      "grid_template_rows": null,
      "height": null,
      "justify_content": null,
      "justify_items": null,
      "left": null,
      "margin": null,
      "max_height": null,
      "max_width": null,
      "min_height": null,
      "min_width": null,
      "object_fit": null,
      "object_position": null,
      "order": null,
      "overflow": null,
      "overflow_x": null,
      "overflow_y": null,
      "padding": null,
      "right": null,
      "top": null,
      "visibility": null,
      "width": null
     }
    },
    "8b1352e5b1b941b68129a0242fffd38e": {
     "model_module": "@jupyter-widgets/controls",
     "model_module_version": "1.5.0",
     "model_name": "FloatProgressModel",
     "state": {
      "_dom_classes": [],
      "_model_module": "@jupyter-widgets/controls",
      "_model_module_version": "1.5.0",
      "_model_name": "FloatProgressModel",
      "_view_count": null,
      "_view_module": "@jupyter-widgets/controls",
      "_view_module_version": "1.5.0",
      "_view_name": "ProgressView",
      "bar_style": "success",
      "description": "",
      "description_tooltip": null,
      "layout": "IPY_MODEL_b1c3b46c253e4d5f81e3d132922e3d86",
      "max": 466062,
      "min": 0,
      "orientation": "horizontal",
      "style": "IPY_MODEL_623757aba0aa4866b4c1eacdbe013ba7",
      "value": 466062
     }
    },
    "94307162356d4ef7a91e341a7ef1bc9d": {
     "model_module": "@jupyter-widgets/controls",
     "model_module_version": "1.5.0",
     "model_name": "HTMLModel",
     "state": {
      "_dom_classes": [],
      "_model_module": "@jupyter-widgets/controls",
      "_model_module_version": "1.5.0",
      "_model_name": "HTMLModel",
      "_view_count": null,
      "_view_module": "@jupyter-widgets/controls",
      "_view_module_version": "1.5.0",
      "_view_name": "HTMLView",
      "description": "",
      "description_tooltip": null,
      "layout": "IPY_MODEL_4abf6f1861a145eaac68287f22ac4714",
      "placeholder": "​",
      "style": "IPY_MODEL_22a2ae463eaf46c98084bdb97824b9c5",
      "value": "Downloading: 100%"
     }
    },
    "9b5070b7b4554e69892f865705641291": {
     "model_module": "@jupyter-widgets/controls",
     "model_module_version": "1.5.0",
     "model_name": "DescriptionStyleModel",
     "state": {
      "_model_module": "@jupyter-widgets/controls",
      "_model_module_version": "1.5.0",
      "_model_name": "DescriptionStyleModel",
      "_view_count": null,
      "_view_module": "@jupyter-widgets/base",
      "_view_module_version": "1.2.0",
      "_view_name": "StyleView",
      "description_width": ""
     }
    },
    "b06ff26e790e478cbc15debe0c39fda9": {
     "model_module": "@jupyter-widgets/controls",
     "model_module_version": "1.5.0",
     "model_name": "HBoxModel",
     "state": {
      "_dom_classes": [],
      "_model_module": "@jupyter-widgets/controls",
      "_model_module_version": "1.5.0",
      "_model_name": "HBoxModel",
      "_view_count": null,
      "_view_module": "@jupyter-widgets/controls",
      "_view_module_version": "1.5.0",
      "_view_name": "HBoxView",
      "box_style": "",
      "children": [
       "IPY_MODEL_362e0bd64aad42209b32fe510400d663",
       "IPY_MODEL_fe36d588487042c2963c43ec7869e1a5",
       "IPY_MODEL_ea8a254c34b04c3db75a090d704a6df8"
      ],
      "layout": "IPY_MODEL_037ce0e892004fa6b3819a019afb0319"
     }
    },
    "b1c3b46c253e4d5f81e3d132922e3d86": {
     "model_module": "@jupyter-widgets/base",
     "model_module_version": "1.2.0",
     "model_name": "LayoutModel",
     "state": {
      "_model_module": "@jupyter-widgets/base",
      "_model_module_version": "1.2.0",
      "_model_name": "LayoutModel",
      "_view_count": null,
      "_view_module": "@jupyter-widgets/base",
      "_view_module_version": "1.2.0",
      "_view_name": "LayoutView",
      "align_content": null,
      "align_items": null,
      "align_self": null,
      "border": null,
      "bottom": null,
      "display": null,
      "flex": null,
      "flex_flow": null,
      "grid_area": null,
      "grid_auto_columns": null,
      "grid_auto_flow": null,
      "grid_auto_rows": null,
      "grid_column": null,
      "grid_gap": null,
      "grid_row": null,
      "grid_template_areas": null,
      "grid_template_columns": null,
      "grid_template_rows": null,
      "height": null,
      "justify_content": null,
      "justify_items": null,
      "left": null,
      "margin": null,
      "max_height": null,
      "max_width": null,
      "min_height": null,
      "min_width": null,
      "object_fit": null,
      "object_position": null,
      "order": null,
      "overflow": null,
      "overflow_x": null,
      "overflow_y": null,
      "padding": null,
      "right": null,
      "top": null,
      "visibility": null,
      "width": null
     }
    },
    "b4f4f65055ce402c89a32a9fe5feea47": {
     "model_module": "@jupyter-widgets/controls",
     "model_module_version": "1.5.0",
     "model_name": "ProgressStyleModel",
     "state": {
      "_model_module": "@jupyter-widgets/controls",
      "_model_module_version": "1.5.0",
      "_model_name": "ProgressStyleModel",
      "_view_count": null,
      "_view_module": "@jupyter-widgets/base",
      "_view_module_version": "1.2.0",
      "_view_name": "StyleView",
      "bar_color": null,
      "description_width": ""
     }
    },
    "be83c3659f854b6d9dd1e6d885e97781": {
     "model_module": "@jupyter-widgets/controls",
     "model_module_version": "1.5.0",
     "model_name": "DescriptionStyleModel",
     "state": {
      "_model_module": "@jupyter-widgets/controls",
      "_model_module_version": "1.5.0",
      "_model_name": "DescriptionStyleModel",
      "_view_count": null,
      "_view_module": "@jupyter-widgets/base",
      "_view_module_version": "1.2.0",
      "_view_name": "StyleView",
      "description_width": ""
     }
    },
    "c06d33a567af413a9191b9da41ca3e05": {
     "model_module": "@jupyter-widgets/base",
     "model_module_version": "1.2.0",
     "model_name": "LayoutModel",
     "state": {
      "_model_module": "@jupyter-widgets/base",
      "_model_module_version": "1.2.0",
      "_model_name": "LayoutModel",
      "_view_count": null,
      "_view_module": "@jupyter-widgets/base",
      "_view_module_version": "1.2.0",
      "_view_name": "LayoutView",
      "align_content": null,
      "align_items": null,
      "align_self": null,
      "border": null,
      "bottom": null,
      "display": null,
      "flex": null,
      "flex_flow": null,
      "grid_area": null,
      "grid_auto_columns": null,
      "grid_auto_flow": null,
      "grid_auto_rows": null,
      "grid_column": null,
      "grid_gap": null,
      "grid_row": null,
      "grid_template_areas": null,
      "grid_template_columns": null,
      "grid_template_rows": null,
      "height": null,
      "justify_content": null,
      "justify_items": null,
      "left": null,
      "margin": null,
      "max_height": null,
      "max_width": null,
      "min_height": null,
      "min_width": null,
      "object_fit": null,
      "object_position": null,
      "order": null,
      "overflow": null,
      "overflow_x": null,
      "overflow_y": null,
      "padding": null,
      "right": null,
      "top": null,
      "visibility": null,
      "width": null
     }
    },
    "c31fb2d59ce34a8ca084f4d9b2f017e0": {
     "model_module": "@jupyter-widgets/controls",
     "model_module_version": "1.5.0",
     "model_name": "HTMLModel",
     "state": {
      "_dom_classes": [],
      "_model_module": "@jupyter-widgets/controls",
      "_model_module_version": "1.5.0",
      "_model_name": "HTMLModel",
      "_view_count": null,
      "_view_module": "@jupyter-widgets/controls",
      "_view_module_version": "1.5.0",
      "_view_name": "HTMLView",
      "description": "",
      "description_tooltip": null,
      "layout": "IPY_MODEL_5562f4a59c6a450d82a0d9c9a6569bcf",
      "placeholder": "​",
      "style": "IPY_MODEL_d3899876c56b4e93b4b8a3f68c689c9b",
      "value": " 420M/420M [00:10&lt;00:00, 37.5MB/s]"
     }
    },
    "c49c4dff7f394763a18a6e108133c830": {
     "model_module": "@jupyter-widgets/controls",
     "model_module_version": "1.5.0",
     "model_name": "HBoxModel",
     "state": {
      "_dom_classes": [],
      "_model_module": "@jupyter-widgets/controls",
      "_model_module_version": "1.5.0",
      "_model_name": "HBoxModel",
      "_view_count": null,
      "_view_module": "@jupyter-widgets/controls",
      "_view_module_version": "1.5.0",
      "_view_name": "HBoxView",
      "box_style": "",
      "children": [
       "IPY_MODEL_25d2fd674f3c47c8ac1a1cc0dc865ff6",
       "IPY_MODEL_287ea7eda8db44bb92368602e48f0dbc",
       "IPY_MODEL_07818fd1b80a49eaa9cbe37a7aab91e4"
      ],
      "layout": "IPY_MODEL_6d7baecff5b141c9892e571e26931c0c"
     }
    },
    "c6f20f7bf1c4413582c75fab5f6da5dc": {
     "model_module": "@jupyter-widgets/controls",
     "model_module_version": "1.5.0",
     "model_name": "DescriptionStyleModel",
     "state": {
      "_model_module": "@jupyter-widgets/controls",
      "_model_module_version": "1.5.0",
      "_model_name": "DescriptionStyleModel",
      "_view_count": null,
      "_view_module": "@jupyter-widgets/base",
      "_view_module_version": "1.2.0",
      "_view_name": "StyleView",
      "description_width": ""
     }
    },
    "c81ff00c09d449c7ba9c7d04d973d2f7": {
     "model_module": "@jupyter-widgets/base",
     "model_module_version": "1.2.0",
     "model_name": "LayoutModel",
     "state": {
      "_model_module": "@jupyter-widgets/base",
      "_model_module_version": "1.2.0",
      "_model_name": "LayoutModel",
      "_view_count": null,
      "_view_module": "@jupyter-widgets/base",
      "_view_module_version": "1.2.0",
      "_view_name": "LayoutView",
      "align_content": null,
      "align_items": null,
      "align_self": null,
      "border": null,
      "bottom": null,
      "display": null,
      "flex": null,
      "flex_flow": null,
      "grid_area": null,
      "grid_auto_columns": null,
      "grid_auto_flow": null,
      "grid_auto_rows": null,
      "grid_column": null,
      "grid_gap": null,
      "grid_row": null,
      "grid_template_areas": null,
      "grid_template_columns": null,
      "grid_template_rows": null,
      "height": null,
      "justify_content": null,
      "justify_items": null,
      "left": null,
      "margin": null,
      "max_height": null,
      "max_width": null,
      "min_height": null,
      "min_width": null,
      "object_fit": null,
      "object_position": null,
      "order": null,
      "overflow": null,
      "overflow_x": null,
      "overflow_y": null,
      "padding": null,
      "right": null,
      "top": null,
      "visibility": null,
      "width": null
     }
    },
    "c9436342b2184adf9ccd7a49d005b425": {
     "model_module": "@jupyter-widgets/base",
     "model_module_version": "1.2.0",
     "model_name": "LayoutModel",
     "state": {
      "_model_module": "@jupyter-widgets/base",
      "_model_module_version": "1.2.0",
      "_model_name": "LayoutModel",
      "_view_count": null,
      "_view_module": "@jupyter-widgets/base",
      "_view_module_version": "1.2.0",
      "_view_name": "LayoutView",
      "align_content": null,
      "align_items": null,
      "align_self": null,
      "border": null,
      "bottom": null,
      "display": null,
      "flex": null,
      "flex_flow": null,
      "grid_area": null,
      "grid_auto_columns": null,
      "grid_auto_flow": null,
      "grid_auto_rows": null,
      "grid_column": null,
      "grid_gap": null,
      "grid_row": null,
      "grid_template_areas": null,
      "grid_template_columns": null,
      "grid_template_rows": null,
      "height": null,
      "justify_content": null,
      "justify_items": null,
      "left": null,
      "margin": null,
      "max_height": null,
      "max_width": null,
      "min_height": null,
      "min_width": null,
      "object_fit": null,
      "object_position": null,
      "order": null,
      "overflow": null,
      "overflow_x": null,
      "overflow_y": null,
      "padding": null,
      "right": null,
      "top": null,
      "visibility": null,
      "width": null
     }
    },
    "cc8eb8ccbb3f4569b4ab1d7b5eb9b0ec": {
     "model_module": "@jupyter-widgets/controls",
     "model_module_version": "1.5.0",
     "model_name": "HBoxModel",
     "state": {
      "_dom_classes": [],
      "_model_module": "@jupyter-widgets/controls",
      "_model_module_version": "1.5.0",
      "_model_name": "HBoxModel",
      "_view_count": null,
      "_view_module": "@jupyter-widgets/controls",
      "_view_module_version": "1.5.0",
      "_view_name": "HBoxView",
      "box_style": "",
      "children": [
       "IPY_MODEL_94307162356d4ef7a91e341a7ef1bc9d",
       "IPY_MODEL_56d8c7b0f2be4881b1c0e8b933d809d3",
       "IPY_MODEL_0748b9c38ce641dea23184f04d1ea63a"
      ],
      "layout": "IPY_MODEL_da64248c37bb470c801bd8e732240535"
     }
    },
    "d3899876c56b4e93b4b8a3f68c689c9b": {
     "model_module": "@jupyter-widgets/controls",
     "model_module_version": "1.5.0",
     "model_name": "DescriptionStyleModel",
     "state": {
      "_model_module": "@jupyter-widgets/controls",
      "_model_module_version": "1.5.0",
      "_model_name": "DescriptionStyleModel",
      "_view_count": null,
      "_view_module": "@jupyter-widgets/base",
      "_view_module_version": "1.2.0",
      "_view_name": "StyleView",
      "description_width": ""
     }
    },
    "da64248c37bb470c801bd8e732240535": {
     "model_module": "@jupyter-widgets/base",
     "model_module_version": "1.2.0",
     "model_name": "LayoutModel",
     "state": {
      "_model_module": "@jupyter-widgets/base",
      "_model_module_version": "1.2.0",
      "_model_name": "LayoutModel",
      "_view_count": null,
      "_view_module": "@jupyter-widgets/base",
      "_view_module_version": "1.2.0",
      "_view_name": "LayoutView",
      "align_content": null,
      "align_items": null,
      "align_self": null,
      "border": null,
      "bottom": null,
      "display": null,
      "flex": null,
      "flex_flow": null,
      "grid_area": null,
      "grid_auto_columns": null,
      "grid_auto_flow": null,
      "grid_auto_rows": null,
      "grid_column": null,
      "grid_gap": null,
      "grid_row": null,
      "grid_template_areas": null,
      "grid_template_columns": null,
      "grid_template_rows": null,
      "height": null,
      "justify_content": null,
      "justify_items": null,
      "left": null,
      "margin": null,
      "max_height": null,
      "max_width": null,
      "min_height": null,
      "min_width": null,
      "object_fit": null,
      "object_position": null,
      "order": null,
      "overflow": null,
      "overflow_x": null,
      "overflow_y": null,
      "padding": null,
      "right": null,
      "top": null,
      "visibility": null,
      "width": null
     }
    },
    "de84cadb9e3f407891c06b356cfc9194": {
     "model_module": "@jupyter-widgets/base",
     "model_module_version": "1.2.0",
     "model_name": "LayoutModel",
     "state": {
      "_model_module": "@jupyter-widgets/base",
      "_model_module_version": "1.2.0",
      "_model_name": "LayoutModel",
      "_view_count": null,
      "_view_module": "@jupyter-widgets/base",
      "_view_module_version": "1.2.0",
      "_view_name": "LayoutView",
      "align_content": null,
      "align_items": null,
      "align_self": null,
      "border": null,
      "bottom": null,
      "display": null,
      "flex": null,
      "flex_flow": null,
      "grid_area": null,
      "grid_auto_columns": null,
      "grid_auto_flow": null,
      "grid_auto_rows": null,
      "grid_column": null,
      "grid_gap": null,
      "grid_row": null,
      "grid_template_areas": null,
      "grid_template_columns": null,
      "grid_template_rows": null,
      "height": null,
      "justify_content": null,
      "justify_items": null,
      "left": null,
      "margin": null,
      "max_height": null,
      "max_width": null,
      "min_height": null,
      "min_width": null,
      "object_fit": null,
      "object_position": null,
      "order": null,
      "overflow": null,
      "overflow_x": null,
      "overflow_y": null,
      "padding": null,
      "right": null,
      "top": null,
      "visibility": null,
      "width": null
     }
    },
    "e1ca4b17187848f29bf26e79b5e69f42": {
     "model_module": "@jupyter-widgets/controls",
     "model_module_version": "1.5.0",
     "model_name": "HTMLModel",
     "state": {
      "_dom_classes": [],
      "_model_module": "@jupyter-widgets/controls",
      "_model_module_version": "1.5.0",
      "_model_name": "HTMLModel",
      "_view_count": null,
      "_view_module": "@jupyter-widgets/controls",
      "_view_module_version": "1.5.0",
      "_view_name": "HTMLView",
      "description": "",
      "description_tooltip": null,
      "layout": "IPY_MODEL_0f7d43dd265544539547d0b3770e6eab",
      "placeholder": "​",
      "style": "IPY_MODEL_be83c3659f854b6d9dd1e6d885e97781",
      "value": " 455k/455k [00:00&lt;00:00, 3.45MB/s]"
     }
    },
    "e4fe2ad1bd6a4358bef410d0a6183aca": {
     "model_module": "@jupyter-widgets/base",
     "model_module_version": "1.2.0",
     "model_name": "LayoutModel",
     "state": {
      "_model_module": "@jupyter-widgets/base",
      "_model_module_version": "1.2.0",
      "_model_name": "LayoutModel",
      "_view_count": null,
      "_view_module": "@jupyter-widgets/base",
      "_view_module_version": "1.2.0",
      "_view_name": "LayoutView",
      "align_content": null,
      "align_items": null,
      "align_self": null,
      "border": null,
      "bottom": null,
      "display": null,
      "flex": null,
      "flex_flow": null,
      "grid_area": null,
      "grid_auto_columns": null,
      "grid_auto_flow": null,
      "grid_auto_rows": null,
      "grid_column": null,
      "grid_gap": null,
      "grid_row": null,
      "grid_template_areas": null,
      "grid_template_columns": null,
      "grid_template_rows": null,
      "height": null,
      "justify_content": null,
      "justify_items": null,
      "left": null,
      "margin": null,
      "max_height": null,
      "max_width": null,
      "min_height": null,
      "min_width": null,
      "object_fit": null,
      "object_position": null,
      "order": null,
      "overflow": null,
      "overflow_x": null,
      "overflow_y": null,
      "padding": null,
      "right": null,
      "top": null,
      "visibility": null,
      "width": null
     }
    },
    "e9fee3735cf94900a2bf835573e937b4": {
     "model_module": "@jupyter-widgets/controls",
     "model_module_version": "1.5.0",
     "model_name": "HBoxModel",
     "state": {
      "_dom_classes": [],
      "_model_module": "@jupyter-widgets/controls",
      "_model_module_version": "1.5.0",
      "_model_name": "HBoxModel",
      "_view_count": null,
      "_view_module": "@jupyter-widgets/controls",
      "_view_module_version": "1.5.0",
      "_view_name": "HBoxView",
      "box_style": "",
      "children": [
       "IPY_MODEL_804334339a374281a3cebfea52664749",
       "IPY_MODEL_84e6d260d0e54a50bea3aa85b911f063",
       "IPY_MODEL_c31fb2d59ce34a8ca084f4d9b2f017e0"
      ],
      "layout": "IPY_MODEL_1fc3aee1cf2f4dd7adf07b14d16ef40a"
     }
    },
    "ea8a254c34b04c3db75a090d704a6df8": {
     "model_module": "@jupyter-widgets/controls",
     "model_module_version": "1.5.0",
     "model_name": "HTMLModel",
     "state": {
      "_dom_classes": [],
      "_model_module": "@jupyter-widgets/controls",
      "_model_module_version": "1.5.0",
      "_model_name": "HTMLModel",
      "_view_count": null,
      "_view_module": "@jupyter-widgets/controls",
      "_view_module_version": "1.5.0",
      "_view_name": "HTMLView",
      "description": "",
      "description_tooltip": null,
      "layout": "IPY_MODEL_02e1562fb678410eb9fa996765ef1ea8",
      "placeholder": "​",
      "style": "IPY_MODEL_f9d69c9476a44f4986eaac788ceaa559",
      "value": " 570/570 [00:00&lt;00:00, 10.0kB/s]"
     }
    },
    "f87bdc9bf9924675938185b8cd2ba912": {
     "model_module": "@jupyter-widgets/base",
     "model_module_version": "1.2.0",
     "model_name": "LayoutModel",
     "state": {
      "_model_module": "@jupyter-widgets/base",
      "_model_module_version": "1.2.0",
      "_model_name": "LayoutModel",
      "_view_count": null,
      "_view_module": "@jupyter-widgets/base",
      "_view_module_version": "1.2.0",
      "_view_name": "LayoutView",
      "align_content": null,
      "align_items": null,
      "align_self": null,
      "border": null,
      "bottom": null,
      "display": null,
      "flex": null,
      "flex_flow": null,
      "grid_area": null,
      "grid_auto_columns": null,
      "grid_auto_flow": null,
      "grid_auto_rows": null,
      "grid_column": null,
      "grid_gap": null,
      "grid_row": null,
      "grid_template_areas": null,
      "grid_template_columns": null,
      "grid_template_rows": null,
      "height": null,
      "justify_content": null,
      "justify_items": null,
      "left": null,
      "margin": null,
      "max_height": null,
      "max_width": null,
      "min_height": null,
      "min_width": null,
      "object_fit": null,
      "object_position": null,
      "order": null,
      "overflow": null,
      "overflow_x": null,
      "overflow_y": null,
      "padding": null,
      "right": null,
      "top": null,
      "visibility": null,
      "width": null
     }
    },
    "f9d69c9476a44f4986eaac788ceaa559": {
     "model_module": "@jupyter-widgets/controls",
     "model_module_version": "1.5.0",
     "model_name": "DescriptionStyleModel",
     "state": {
      "_model_module": "@jupyter-widgets/controls",
      "_model_module_version": "1.5.0",
      "_model_name": "DescriptionStyleModel",
      "_view_count": null,
      "_view_module": "@jupyter-widgets/base",
      "_view_module_version": "1.2.0",
      "_view_name": "StyleView",
      "description_width": ""
     }
    },
    "fe36d588487042c2963c43ec7869e1a5": {
     "model_module": "@jupyter-widgets/controls",
     "model_module_version": "1.5.0",
     "model_name": "FloatProgressModel",
     "state": {
      "_dom_classes": [],
      "_model_module": "@jupyter-widgets/controls",
      "_model_module_version": "1.5.0",
      "_model_name": "FloatProgressModel",
      "_view_count": null,
      "_view_module": "@jupyter-widgets/controls",
      "_view_module_version": "1.5.0",
      "_view_name": "ProgressView",
      "bar_style": "success",
      "description": "",
      "description_tooltip": null,
      "layout": "IPY_MODEL_2d47bb495dbf458bb68ae1615c5dfa6f",
      "max": 570,
      "min": 0,
      "orientation": "horizontal",
      "style": "IPY_MODEL_b4f4f65055ce402c89a32a9fe5feea47",
      "value": 570
     }
    }
   }
  }
 },
 "nbformat": 4,
 "nbformat_minor": 0
}
